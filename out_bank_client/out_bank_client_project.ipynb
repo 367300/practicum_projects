{
 "cells": [
  {
   "cell_type": "markdown",
   "metadata": {},
   "source": [
    "# Отток клиентов"
   ]
  },
  {
   "cell_type": "markdown",
   "metadata": {},
   "source": [
    "## Подготовка данных"
   ]
  },
  {
   "cell_type": "markdown",
   "metadata": {},
   "source": [
    "### Обзор данных"
   ]
  },
  {
   "cell_type": "markdown",
   "metadata": {},
   "source": [
    "!pip install scikit-learn==1.1.3\n",
    "\n",
    "from sklearn.preprocessing import OneHotEncoder"
   ]
  },
  {
   "cell_type": "code",
   "execution_count": 7,
   "metadata": {},
   "outputs": [],
   "source": [
    "import warnings\n",
    "\n",
    "import numpy as np\n",
    "import pandas as pd\n",
    "from random import choices\n",
    "import matplotlib.pyplot as plt\n",
    "\n",
    "from sklearn.linear_model import LogisticRegression\n",
    "from sklearn.ensemble import RandomForestClassifier\n",
    "from sklearn.utils import shuffle\n",
    "from sklearn.metrics import (\n",
    "    f1_score,\n",
    "    roc_auc_score,\n",
    "    mean_absolute_error,\n",
    "    precision_score,\n",
    "    recall_score\n",
    ") \n",
    "from sklearn.model_selection import (\n",
    "    train_test_split,\n",
    "    RandomizedSearchCV,\n",
    "    GridSearchCV\n",
    ")\n",
    "from sklearn.preprocessing import (\n",
    "    OneHotEncoder,\n",
    "    StandardScaler\n",
    ")  "
   ]
  },
  {
   "cell_type": "code",
   "execution_count": 8,
   "metadata": {},
   "outputs": [],
   "source": [
    "# настройки\n",
    "pd.options.mode.chained_assignment = None\n",
    "warnings.filterwarnings(\"ignore\")\n",
    "\n",
    "# константы заглавными буквами\n",
    "RANDOM_STATE = 123456"
   ]
  },
  {
   "cell_type": "code",
   "execution_count": 9,
   "metadata": {},
   "outputs": [],
   "source": [
    "# Функция для более полного вывода информации одной строкой\n",
    "def get_data_info(data):\n",
    "    display(data.sample(5))\n",
    "    display(data.info())\n",
    "    display(data.describe(include='all'))"
   ]
  },
  {
   "cell_type": "code",
   "execution_count": 10,
   "metadata": {},
   "outputs": [],
   "source": [
    "try:\n",
    "    data = pd.read_csv('/datasets/Churn.csv')\n",
    "except:\n",
    "    display('Файл не найден!')"
   ]
  },
  {
   "cell_type": "code",
   "execution_count": 11,
   "metadata": {},
   "outputs": [
    {
     "data": {
      "text/html": [
       "<div>\n",
       "<style scoped>\n",
       "    .dataframe tbody tr th:only-of-type {\n",
       "        vertical-align: middle;\n",
       "    }\n",
       "\n",
       "    .dataframe tbody tr th {\n",
       "        vertical-align: top;\n",
       "    }\n",
       "\n",
       "    .dataframe thead th {\n",
       "        text-align: right;\n",
       "    }\n",
       "</style>\n",
       "<table border=\"1\" class=\"dataframe\">\n",
       "  <thead>\n",
       "    <tr style=\"text-align: right;\">\n",
       "      <th></th>\n",
       "      <th>RowNumber</th>\n",
       "      <th>CustomerId</th>\n",
       "      <th>Surname</th>\n",
       "      <th>CreditScore</th>\n",
       "      <th>Geography</th>\n",
       "      <th>Gender</th>\n",
       "      <th>Age</th>\n",
       "      <th>Tenure</th>\n",
       "      <th>Balance</th>\n",
       "      <th>NumOfProducts</th>\n",
       "      <th>HasCrCard</th>\n",
       "      <th>IsActiveMember</th>\n",
       "      <th>EstimatedSalary</th>\n",
       "      <th>Exited</th>\n",
       "    </tr>\n",
       "  </thead>\n",
       "  <tbody>\n",
       "    <tr>\n",
       "      <th>1351</th>\n",
       "      <td>1352</td>\n",
       "      <td>15635435</td>\n",
       "      <td>White</td>\n",
       "      <td>648</td>\n",
       "      <td>France</td>\n",
       "      <td>Female</td>\n",
       "      <td>54</td>\n",
       "      <td>9.0</td>\n",
       "      <td>120633.42</td>\n",
       "      <td>1</td>\n",
       "      <td>0</td>\n",
       "      <td>0</td>\n",
       "      <td>5924.38</td>\n",
       "      <td>1</td>\n",
       "    </tr>\n",
       "    <tr>\n",
       "      <th>5024</th>\n",
       "      <td>5025</td>\n",
       "      <td>15720583</td>\n",
       "      <td>Finch</td>\n",
       "      <td>745</td>\n",
       "      <td>Germany</td>\n",
       "      <td>Female</td>\n",
       "      <td>44</td>\n",
       "      <td>0.0</td>\n",
       "      <td>119638.21</td>\n",
       "      <td>1</td>\n",
       "      <td>1</td>\n",
       "      <td>1</td>\n",
       "      <td>34265.08</td>\n",
       "      <td>1</td>\n",
       "    </tr>\n",
       "    <tr>\n",
       "      <th>9093</th>\n",
       "      <td>9094</td>\n",
       "      <td>15671334</td>\n",
       "      <td>Nixon</td>\n",
       "      <td>527</td>\n",
       "      <td>France</td>\n",
       "      <td>Male</td>\n",
       "      <td>31</td>\n",
       "      <td>4.0</td>\n",
       "      <td>0.00</td>\n",
       "      <td>1</td>\n",
       "      <td>1</td>\n",
       "      <td>0</td>\n",
       "      <td>169361.89</td>\n",
       "      <td>0</td>\n",
       "    </tr>\n",
       "    <tr>\n",
       "      <th>9725</th>\n",
       "      <td>9726</td>\n",
       "      <td>15712536</td>\n",
       "      <td>Fallaci</td>\n",
       "      <td>625</td>\n",
       "      <td>France</td>\n",
       "      <td>Female</td>\n",
       "      <td>36</td>\n",
       "      <td>3.0</td>\n",
       "      <td>0.00</td>\n",
       "      <td>2</td>\n",
       "      <td>1</td>\n",
       "      <td>0</td>\n",
       "      <td>41295.10</td>\n",
       "      <td>1</td>\n",
       "    </tr>\n",
       "    <tr>\n",
       "      <th>1423</th>\n",
       "      <td>1424</td>\n",
       "      <td>15589221</td>\n",
       "      <td>Kennedy</td>\n",
       "      <td>657</td>\n",
       "      <td>Germany</td>\n",
       "      <td>Male</td>\n",
       "      <td>30</td>\n",
       "      <td>1.0</td>\n",
       "      <td>139762.13</td>\n",
       "      <td>2</td>\n",
       "      <td>1</td>\n",
       "      <td>1</td>\n",
       "      <td>23317.88</td>\n",
       "      <td>0</td>\n",
       "    </tr>\n",
       "  </tbody>\n",
       "</table>\n",
       "</div>"
      ],
      "text/plain": [
       "      RowNumber  CustomerId  Surname  CreditScore Geography  Gender  Age  \\\n",
       "1351       1352    15635435    White          648    France  Female   54   \n",
       "5024       5025    15720583    Finch          745   Germany  Female   44   \n",
       "9093       9094    15671334    Nixon          527    France    Male   31   \n",
       "9725       9726    15712536  Fallaci          625    France  Female   36   \n",
       "1423       1424    15589221  Kennedy          657   Germany    Male   30   \n",
       "\n",
       "      Tenure    Balance  NumOfProducts  HasCrCard  IsActiveMember  \\\n",
       "1351     9.0  120633.42              1          0               0   \n",
       "5024     0.0  119638.21              1          1               1   \n",
       "9093     4.0       0.00              1          1               0   \n",
       "9725     3.0       0.00              2          1               0   \n",
       "1423     1.0  139762.13              2          1               1   \n",
       "\n",
       "      EstimatedSalary  Exited  \n",
       "1351          5924.38       1  \n",
       "5024         34265.08       1  \n",
       "9093        169361.89       0  \n",
       "9725         41295.10       1  \n",
       "1423         23317.88       0  "
      ]
     },
     "metadata": {},
     "output_type": "display_data"
    },
    {
     "name": "stdout",
     "output_type": "stream",
     "text": [
      "<class 'pandas.core.frame.DataFrame'>\n",
      "RangeIndex: 10000 entries, 0 to 9999\n",
      "Data columns (total 14 columns):\n",
      " #   Column           Non-Null Count  Dtype  \n",
      "---  ------           --------------  -----  \n",
      " 0   RowNumber        10000 non-null  int64  \n",
      " 1   CustomerId       10000 non-null  int64  \n",
      " 2   Surname          10000 non-null  object \n",
      " 3   CreditScore      10000 non-null  int64  \n",
      " 4   Geography        10000 non-null  object \n",
      " 5   Gender           10000 non-null  object \n",
      " 6   Age              10000 non-null  int64  \n",
      " 7   Tenure           9091 non-null   float64\n",
      " 8   Balance          10000 non-null  float64\n",
      " 9   NumOfProducts    10000 non-null  int64  \n",
      " 10  HasCrCard        10000 non-null  int64  \n",
      " 11  IsActiveMember   10000 non-null  int64  \n",
      " 12  EstimatedSalary  10000 non-null  float64\n",
      " 13  Exited           10000 non-null  int64  \n",
      "dtypes: float64(3), int64(8), object(3)\n",
      "memory usage: 1.1+ MB\n"
     ]
    },
    {
     "data": {
      "text/plain": [
       "None"
      ]
     },
     "metadata": {},
     "output_type": "display_data"
    },
    {
     "data": {
      "text/html": [
       "<div>\n",
       "<style scoped>\n",
       "    .dataframe tbody tr th:only-of-type {\n",
       "        vertical-align: middle;\n",
       "    }\n",
       "\n",
       "    .dataframe tbody tr th {\n",
       "        vertical-align: top;\n",
       "    }\n",
       "\n",
       "    .dataframe thead th {\n",
       "        text-align: right;\n",
       "    }\n",
       "</style>\n",
       "<table border=\"1\" class=\"dataframe\">\n",
       "  <thead>\n",
       "    <tr style=\"text-align: right;\">\n",
       "      <th></th>\n",
       "      <th>RowNumber</th>\n",
       "      <th>CustomerId</th>\n",
       "      <th>Surname</th>\n",
       "      <th>CreditScore</th>\n",
       "      <th>Geography</th>\n",
       "      <th>Gender</th>\n",
       "      <th>Age</th>\n",
       "      <th>Tenure</th>\n",
       "      <th>Balance</th>\n",
       "      <th>NumOfProducts</th>\n",
       "      <th>HasCrCard</th>\n",
       "      <th>IsActiveMember</th>\n",
       "      <th>EstimatedSalary</th>\n",
       "      <th>Exited</th>\n",
       "    </tr>\n",
       "  </thead>\n",
       "  <tbody>\n",
       "    <tr>\n",
       "      <th>count</th>\n",
       "      <td>10000.00000</td>\n",
       "      <td>1.000000e+04</td>\n",
       "      <td>10000</td>\n",
       "      <td>10000.000000</td>\n",
       "      <td>10000</td>\n",
       "      <td>10000</td>\n",
       "      <td>10000.000000</td>\n",
       "      <td>9091.000000</td>\n",
       "      <td>10000.000000</td>\n",
       "      <td>10000.000000</td>\n",
       "      <td>10000.00000</td>\n",
       "      <td>10000.000000</td>\n",
       "      <td>10000.000000</td>\n",
       "      <td>10000.000000</td>\n",
       "    </tr>\n",
       "    <tr>\n",
       "      <th>unique</th>\n",
       "      <td>NaN</td>\n",
       "      <td>NaN</td>\n",
       "      <td>2932</td>\n",
       "      <td>NaN</td>\n",
       "      <td>3</td>\n",
       "      <td>2</td>\n",
       "      <td>NaN</td>\n",
       "      <td>NaN</td>\n",
       "      <td>NaN</td>\n",
       "      <td>NaN</td>\n",
       "      <td>NaN</td>\n",
       "      <td>NaN</td>\n",
       "      <td>NaN</td>\n",
       "      <td>NaN</td>\n",
       "    </tr>\n",
       "    <tr>\n",
       "      <th>top</th>\n",
       "      <td>NaN</td>\n",
       "      <td>NaN</td>\n",
       "      <td>Smith</td>\n",
       "      <td>NaN</td>\n",
       "      <td>France</td>\n",
       "      <td>Male</td>\n",
       "      <td>NaN</td>\n",
       "      <td>NaN</td>\n",
       "      <td>NaN</td>\n",
       "      <td>NaN</td>\n",
       "      <td>NaN</td>\n",
       "      <td>NaN</td>\n",
       "      <td>NaN</td>\n",
       "      <td>NaN</td>\n",
       "    </tr>\n",
       "    <tr>\n",
       "      <th>freq</th>\n",
       "      <td>NaN</td>\n",
       "      <td>NaN</td>\n",
       "      <td>32</td>\n",
       "      <td>NaN</td>\n",
       "      <td>5014</td>\n",
       "      <td>5457</td>\n",
       "      <td>NaN</td>\n",
       "      <td>NaN</td>\n",
       "      <td>NaN</td>\n",
       "      <td>NaN</td>\n",
       "      <td>NaN</td>\n",
       "      <td>NaN</td>\n",
       "      <td>NaN</td>\n",
       "      <td>NaN</td>\n",
       "    </tr>\n",
       "    <tr>\n",
       "      <th>mean</th>\n",
       "      <td>5000.50000</td>\n",
       "      <td>1.569094e+07</td>\n",
       "      <td>NaN</td>\n",
       "      <td>650.528800</td>\n",
       "      <td>NaN</td>\n",
       "      <td>NaN</td>\n",
       "      <td>38.921800</td>\n",
       "      <td>4.997690</td>\n",
       "      <td>76485.889288</td>\n",
       "      <td>1.530200</td>\n",
       "      <td>0.70550</td>\n",
       "      <td>0.515100</td>\n",
       "      <td>100090.239881</td>\n",
       "      <td>0.203700</td>\n",
       "    </tr>\n",
       "    <tr>\n",
       "      <th>std</th>\n",
       "      <td>2886.89568</td>\n",
       "      <td>7.193619e+04</td>\n",
       "      <td>NaN</td>\n",
       "      <td>96.653299</td>\n",
       "      <td>NaN</td>\n",
       "      <td>NaN</td>\n",
       "      <td>10.487806</td>\n",
       "      <td>2.894723</td>\n",
       "      <td>62397.405202</td>\n",
       "      <td>0.581654</td>\n",
       "      <td>0.45584</td>\n",
       "      <td>0.499797</td>\n",
       "      <td>57510.492818</td>\n",
       "      <td>0.402769</td>\n",
       "    </tr>\n",
       "    <tr>\n",
       "      <th>min</th>\n",
       "      <td>1.00000</td>\n",
       "      <td>1.556570e+07</td>\n",
       "      <td>NaN</td>\n",
       "      <td>350.000000</td>\n",
       "      <td>NaN</td>\n",
       "      <td>NaN</td>\n",
       "      <td>18.000000</td>\n",
       "      <td>0.000000</td>\n",
       "      <td>0.000000</td>\n",
       "      <td>1.000000</td>\n",
       "      <td>0.00000</td>\n",
       "      <td>0.000000</td>\n",
       "      <td>11.580000</td>\n",
       "      <td>0.000000</td>\n",
       "    </tr>\n",
       "    <tr>\n",
       "      <th>25%</th>\n",
       "      <td>2500.75000</td>\n",
       "      <td>1.562853e+07</td>\n",
       "      <td>NaN</td>\n",
       "      <td>584.000000</td>\n",
       "      <td>NaN</td>\n",
       "      <td>NaN</td>\n",
       "      <td>32.000000</td>\n",
       "      <td>2.000000</td>\n",
       "      <td>0.000000</td>\n",
       "      <td>1.000000</td>\n",
       "      <td>0.00000</td>\n",
       "      <td>0.000000</td>\n",
       "      <td>51002.110000</td>\n",
       "      <td>0.000000</td>\n",
       "    </tr>\n",
       "    <tr>\n",
       "      <th>50%</th>\n",
       "      <td>5000.50000</td>\n",
       "      <td>1.569074e+07</td>\n",
       "      <td>NaN</td>\n",
       "      <td>652.000000</td>\n",
       "      <td>NaN</td>\n",
       "      <td>NaN</td>\n",
       "      <td>37.000000</td>\n",
       "      <td>5.000000</td>\n",
       "      <td>97198.540000</td>\n",
       "      <td>1.000000</td>\n",
       "      <td>1.00000</td>\n",
       "      <td>1.000000</td>\n",
       "      <td>100193.915000</td>\n",
       "      <td>0.000000</td>\n",
       "    </tr>\n",
       "    <tr>\n",
       "      <th>75%</th>\n",
       "      <td>7500.25000</td>\n",
       "      <td>1.575323e+07</td>\n",
       "      <td>NaN</td>\n",
       "      <td>718.000000</td>\n",
       "      <td>NaN</td>\n",
       "      <td>NaN</td>\n",
       "      <td>44.000000</td>\n",
       "      <td>7.000000</td>\n",
       "      <td>127644.240000</td>\n",
       "      <td>2.000000</td>\n",
       "      <td>1.00000</td>\n",
       "      <td>1.000000</td>\n",
       "      <td>149388.247500</td>\n",
       "      <td>0.000000</td>\n",
       "    </tr>\n",
       "    <tr>\n",
       "      <th>max</th>\n",
       "      <td>10000.00000</td>\n",
       "      <td>1.581569e+07</td>\n",
       "      <td>NaN</td>\n",
       "      <td>850.000000</td>\n",
       "      <td>NaN</td>\n",
       "      <td>NaN</td>\n",
       "      <td>92.000000</td>\n",
       "      <td>10.000000</td>\n",
       "      <td>250898.090000</td>\n",
       "      <td>4.000000</td>\n",
       "      <td>1.00000</td>\n",
       "      <td>1.000000</td>\n",
       "      <td>199992.480000</td>\n",
       "      <td>1.000000</td>\n",
       "    </tr>\n",
       "  </tbody>\n",
       "</table>\n",
       "</div>"
      ],
      "text/plain": [
       "          RowNumber    CustomerId Surname   CreditScore Geography Gender  \\\n",
       "count   10000.00000  1.000000e+04   10000  10000.000000     10000  10000   \n",
       "unique          NaN           NaN    2932           NaN         3      2   \n",
       "top             NaN           NaN   Smith           NaN    France   Male   \n",
       "freq            NaN           NaN      32           NaN      5014   5457   \n",
       "mean     5000.50000  1.569094e+07     NaN    650.528800       NaN    NaN   \n",
       "std      2886.89568  7.193619e+04     NaN     96.653299       NaN    NaN   \n",
       "min         1.00000  1.556570e+07     NaN    350.000000       NaN    NaN   \n",
       "25%      2500.75000  1.562853e+07     NaN    584.000000       NaN    NaN   \n",
       "50%      5000.50000  1.569074e+07     NaN    652.000000       NaN    NaN   \n",
       "75%      7500.25000  1.575323e+07     NaN    718.000000       NaN    NaN   \n",
       "max     10000.00000  1.581569e+07     NaN    850.000000       NaN    NaN   \n",
       "\n",
       "                 Age       Tenure        Balance  NumOfProducts    HasCrCard  \\\n",
       "count   10000.000000  9091.000000   10000.000000   10000.000000  10000.00000   \n",
       "unique           NaN          NaN            NaN            NaN          NaN   \n",
       "top              NaN          NaN            NaN            NaN          NaN   \n",
       "freq             NaN          NaN            NaN            NaN          NaN   \n",
       "mean       38.921800     4.997690   76485.889288       1.530200      0.70550   \n",
       "std        10.487806     2.894723   62397.405202       0.581654      0.45584   \n",
       "min        18.000000     0.000000       0.000000       1.000000      0.00000   \n",
       "25%        32.000000     2.000000       0.000000       1.000000      0.00000   \n",
       "50%        37.000000     5.000000   97198.540000       1.000000      1.00000   \n",
       "75%        44.000000     7.000000  127644.240000       2.000000      1.00000   \n",
       "max        92.000000    10.000000  250898.090000       4.000000      1.00000   \n",
       "\n",
       "        IsActiveMember  EstimatedSalary        Exited  \n",
       "count     10000.000000     10000.000000  10000.000000  \n",
       "unique             NaN              NaN           NaN  \n",
       "top                NaN              NaN           NaN  \n",
       "freq               NaN              NaN           NaN  \n",
       "mean          0.515100    100090.239881      0.203700  \n",
       "std           0.499797     57510.492818      0.402769  \n",
       "min           0.000000        11.580000      0.000000  \n",
       "25%           0.000000     51002.110000      0.000000  \n",
       "50%           1.000000    100193.915000      0.000000  \n",
       "75%           1.000000    149388.247500      0.000000  \n",
       "max           1.000000    199992.480000      1.000000  "
      ]
     },
     "metadata": {},
     "output_type": "display_data"
    }
   ],
   "source": [
    "get_data_info(data)"
   ]
  },
  {
   "cell_type": "code",
   "execution_count": 12,
   "metadata": {},
   "outputs": [
    {
     "data": {
      "text/plain": [
       "RowNumber            0\n",
       "CustomerId           0\n",
       "Surname              0\n",
       "CreditScore          0\n",
       "Geography            0\n",
       "Gender               0\n",
       "Age                  0\n",
       "Tenure             909\n",
       "Balance              0\n",
       "NumOfProducts        0\n",
       "HasCrCard            0\n",
       "IsActiveMember       0\n",
       "EstimatedSalary      0\n",
       "Exited               0\n",
       "dtype: int64"
      ]
     },
     "execution_count": 12,
     "metadata": {},
     "output_type": "execute_result"
    }
   ],
   "source": [
    "data.isna().sum()"
   ]
  },
  {
   "cell_type": "markdown",
   "metadata": {},
   "source": [
    "### Оценка пропущенных значений"
   ]
  },
  {
   "cell_type": "code",
   "execution_count": 13,
   "metadata": {},
   "outputs": [],
   "source": [
    "def nan_percent_plot(df):\n",
    "    nan_percent = df.isna().mean()*100\n",
    "    if nan_percent[nan_percent.values > 0].count() > 0:\n",
    "        (\n",
    "            nan_percent[nan_percent.values > 0]\n",
    "            .sort_values(ascending=True)\n",
    "            .plot(kind = 'barh', figsize=(16, 6), fontsize=22)\n",
    "            .set_title('Процент пропущенных значений' + \"\\n\", fontsize=22)\n",
    "        );\n",
    "        plt.ylabel('Признаки', fontsize=22);\n",
    "        plt.xlabel('% (от всего датасета)', fontsize=22);\n",
    "    else:\n",
    "        print('Пропусков не найдено')"
   ]
  },
  {
   "cell_type": "code",
   "execution_count": 14,
   "metadata": {},
   "outputs": [
    {
     "data": {
      "image/png": "[encoded data removed]",
      "text/plain": [
       "<Figure size 1152x432 with 1 Axes>"
      ]
     },
     "metadata": {
      "needs_background": "light"
     },
     "output_type": "display_data"
    }
   ],
   "source": [
    "nan_percent_plot(data)"
   ]
  },
  {
   "cell_type": "markdown",
   "metadata": {},
   "source": [
    "### Гистограммы числовых значений"
   ]
  },
  {
   "cell_type": "code",
   "execution_count": 15,
   "metadata": {},
   "outputs": [
    {
     "data": {
      "image/png": "[encoded data removed]",
      "text/plain": [
       "<Figure size 1080x1440 with 12 Axes>"
      ]
     },
     "metadata": {
      "needs_background": "light"
     },
     "output_type": "display_data"
    }
   ],
   "source": [
    "data.hist(figsize=(15, 20));"
   ]
  },
  {
   "cell_type": "markdown",
   "metadata": {},
   "source": [
    "На графиках виден дисбаланс в признаках наличия кредитной карты и целевом признаке, большое количество клиентов с нулевыми или оконулевыми счетами"
   ]
  },
  {
   "cell_type": "markdown",
   "metadata": {},
   "source": [
    "### Оценка выбросов"
   ]
  },
  {
   "cell_type": "code",
   "execution_count": 16,
   "metadata": {
    "scrolled": true
   },
   "outputs": [
    {
     "data": {
      "image/png": "[encoded data removed]",
      "text/plain": [
       "<Figure size 648x288 with 1 Axes>"
      ]
     },
     "metadata": {
      "needs_background": "light"
     },
     "output_type": "display_data"
    },
    {
     "data": {
      "image/png": "[encoded data removed]",
      "text/plain": [
       "<Figure size 648x288 with 1 Axes>"
      ]
     },
     "metadata": {
      "needs_background": "light"
     },
     "output_type": "display_data"
    },
    {
     "data": {
      "image/png": "[encoded data removed]",
      "text/plain": [
       "<Figure size 648x288 with 1 Axes>"
      ]
     },
     "metadata": {
      "needs_background": "light"
     },
     "output_type": "display_data"
    },
    {
     "data": {
      "image/png": "[encoded data removed]",
      "text/plain": [
       "<Figure size 648x288 with 1 Axes>"
      ]
     },
     "metadata": {
      "needs_background": "light"
     },
     "output_type": "display_data"
    },
    {
     "data": {
      "image/png": "[encoded data removed]",
      "text/plain": [
       "<Figure size 648x288 with 1 Axes>"
      ]
     },
     "metadata": {
      "needs_background": "light"
     },
     "output_type": "display_data"
    },
    {
     "data": {
      "image/png": "[encoded data removed]",
      "text/plain": [
       "<Figure size 648x288 with 1 Axes>"
      ]
     },
     "metadata": {
      "needs_background": "light"
     },
     "output_type": "display_data"
    },
    {
     "data": {
      "image/png": "[encoded data removed]",
      "text/plain": [
       "<Figure size 648x288 with 1 Axes>"
      ]
     },
     "metadata": {
      "needs_background": "light"
     },
     "output_type": "display_data"
    }
   ],
   "source": [
    "columns = list(data.select_dtypes(['int', 'float']).columns)\n",
    "\n",
    "categorial_columns = ['Exited', 'IsActiveMember', 'NumOfProducts', 'HasCrCard']\n",
    "\n",
    "for col in categorial_columns:\n",
    "    columns.remove(col)\n",
    "\n",
    "for col in columns:\n",
    "    (\n",
    "        data\n",
    "        .boxplot(col, vert = False, figsize=(9, 4))\n",
    "        .set_title(f'Диаграмма размаха признака {col}', fontsize=22)\n",
    "    );\n",
    "    plt.show();"
   ]
  },
  {
   "cell_type": "markdown",
   "metadata": {},
   "source": [
    "Из-за разного масштаба признаков пришлось через цикл выводить боксплоты, каждый отдельно. Самое большое количество выбросов наблюдается в признаках `CreditScore` и `Age`, возможно, придется использовать стандартизацию (она менее чувствительна к выбросам)"
   ]
  },
  {
   "cell_type": "markdown",
   "metadata": {},
   "source": [
    "### Удаление неиформативных признаков"
   ]
  },
  {
   "cell_type": "markdown",
   "metadata": {},
   "source": [
    "Есть несколько не важных, по моему предположению, столбцов, например пол и фамилия. Фамилию я сразу удалил - очевидно не важный признак, также удалил столбец `RowNumber` который по сути дублирует индекс+1 и является лишней информацией для модели, также как и столбец с id клиента (`CustomerId`), эти данные важны для человека, а не для модели."
   ]
  },
  {
   "cell_type": "code",
   "execution_count": 17,
   "metadata": {},
   "outputs": [],
   "source": [
    "data = data.drop('Surname', axis=1)\n",
    "data = data.drop('RowNumber', axis=1)\n",
    "data = data.drop('CustomerId', axis=1)\n",
    "\n",
    "#data_ohe = pd.get_dummies(data, columns=['Geography', 'Gender'], drop_first=True)"
   ]
  },
  {
   "cell_type": "markdown",
   "metadata": {},
   "source": [
    "### Обработка пропусков"
   ]
  },
  {
   "cell_type": "markdown",
   "metadata": {},
   "source": [
    "Так как я много что перепробовал, в том числе машинное обучение для заполнения пропусков (задача регрессии), пришел к тому, что данный признак не очень важен для моделей, но удалять записи не стоит так как в них могут содержаться важные данные. В итоге пути было три: обучение модели для заполнения пропусков (модель почему-то предложила заполнить все пропуски цифрой 5, но это без масштабирования, на коленке, с незначительным изменением стандартного отклонения), заполнение случайными значениями от 1 до 10 и также SimpleImputer.\n",
    "\n",
    "Если признак не сильно важен, то randint, если признак достаточно важен, то SimpleImputer, если признак важен, то надо серьезно заняться вопросом обучения модели для заполнения пропусков.\n",
    "\n",
    "Так как, в процессе выяснилось (комьюнити учеников), что данный признак не сильно важен, но важны другие признаки, то использовал randint от 1 до 10 для пропусков, это должно создать более-менее нормальное распределение (909 значений должно хватить)"
   ]
  },
  {
   "cell_type": "code",
   "execution_count": 18,
   "metadata": {},
   "outputs": [
    {
     "data": {
      "text/plain": [
       "2.8945640222569913"
      ]
     },
     "execution_count": 18,
     "metadata": {},
     "output_type": "execute_result"
    }
   ],
   "source": [
    "np.std(data['Tenure'])"
   ]
  },
  {
   "cell_type": "markdown",
   "metadata": {},
   "source": [
    "Ознакомился с распределением данных"
   ]
  },
  {
   "cell_type": "code",
   "execution_count": 19,
   "metadata": {},
   "outputs": [
    {
     "data": {
      "text/plain": [
       "1.0     952\n",
       "2.0     950\n",
       "8.0     933\n",
       "3.0     928\n",
       "5.0     927\n",
       "7.0     925\n",
       "4.0     885\n",
       "9.0     882\n",
       "6.0     881\n",
       "10.0    446\n",
       "0.0     382\n",
       "Name: Tenure, dtype: int64"
      ]
     },
     "execution_count": 19,
     "metadata": {},
     "output_type": "execute_result"
    }
   ],
   "source": [
    "num_counts = data[~data['Tenure'].isna()]['Tenure'].value_counts()\n",
    "num_counts"
   ]
  },
  {
   "cell_type": "code",
   "execution_count": 20,
   "metadata": {
    "scrolled": false
   },
   "outputs": [
    {
     "data": {
      "image/png": "[encoded data removed]",
      "text/plain": [
       "<Figure size 720x504 with 1 Axes>"
      ]
     },
     "metadata": {
      "needs_background": "light"
     },
     "output_type": "display_data"
    }
   ],
   "source": [
    "data[~data['Tenure'].isna()]['Tenure'].value_counts().plot(kind='bar', figsize=(10, 7), fontsize=17);"
   ]
  },
  {
   "cell_type": "markdown",
   "metadata": {},
   "source": [
    "Для того чтобы наиболее верно заполнить пропуски, можно заполнить их исходя из текущего распределения данных, например, вероятность числа 10 в данном ряду - 4.9%. Неизвестно, какие именно данные были утеряны, может быть категориальные, но после ML-метода, способ заполнения пропусков случайным числом видится мне наиболее оптимальным, заполнив пропуски - не потеряем данные в других признаках"
   ]
  },
  {
   "cell_type": "code",
   "execution_count": 35,
   "metadata": {},
   "outputs": [],
   "source": [
    "# Считаем вероятности появления чисел\n",
    "proba = []\n",
    "for num in range(0, 11):\n",
    "    x = num_counts[num] / 9091\n",
    "    proba.append(round(x, 3))\n",
    "\n",
    "# Решил перенести объявление функции ниже, а то вдруг вероятности пустые останутся или еще что\n",
    "def fiil_nan_rand(ser):\n",
    "    return choices(np.arange(0.0, 11.0, 1.0), weights=proba)[0]"
   ]
  },
  {
   "cell_type": "code",
   "execution_count": 17,
   "metadata": {},
   "outputs": [],
   "source": [
    "data.loc[data['Tenure'].isna(), 'Tenure'] = data.loc[data['Tenure'].isna(), 'Tenure'].apply(fiil_nan_rand)\n",
    "data['Tenure'] = data['Tenure'].astype('int')"
   ]
  },
  {
   "cell_type": "markdown",
   "metadata": {},
   "source": [
    "Перевел столбец в целочисленный формат, проверил стандартное отклонение, оно практически не изменилось (при каждом новом запуске ячеек, значение незначительно меняется, параметра, позволяющего зафиксировать псевдослучайность нету и, насколько я понимаю, не должно быть)"
   ]
  },
  {
   "cell_type": "code",
   "execution_count": 18,
   "metadata": {},
   "outputs": [
    {
     "data": {
      "text/plain": [
       "2.900283391325751"
      ]
     },
     "execution_count": 18,
     "metadata": {},
     "output_type": "execute_result"
    }
   ],
   "source": [
    "np.std(data['Tenure'])"
   ]
  },
  {
   "cell_type": "markdown",
   "metadata": {},
   "source": [
    "Можно было бы загрузить отдельно данные где пропусков нет и вставить их в данный датасет или сохранить этот набор в файл, а потом выгрузить его. Но оно не стоит затраченного времени, расхождения значений стандартного отклонения с каждым новым запуском в пределах погрешности +- 0.005-7"
   ]
  },
  {
   "cell_type": "markdown",
   "metadata": {},
   "source": [
    "### Кодирование признаков и разделение выборки"
   ]
  },
  {
   "cell_type": "markdown",
   "metadata": {},
   "source": [
    "Так как подбор гиперпараметров будет осуществляться с помощью перекрестной проверки (кросс-валидации, в т.ч. линейных моделей) - разделил датасет на тренировочную и тестовую выборки с соотношением 3:1:1 (хотя на самом деле, я не знаю какой процент для валидации берет функция)\n",
    "\n",
    "Также в дальнейшем мне понадобится валидационная выборка, для улучшения качества модели (например, посредством изменения порога вероятности класса, а для этого нужны вероятности предсказаний для валидационной выборки, чтобы подобрать оптимальный порог, а затем проверить на тесте), но пока разделил на две выборки из-за кросс-валидации, которая идет далее"
   ]
  },
  {
   "cell_type": "code",
   "execution_count": 65,
   "metadata": {},
   "outputs": [],
   "source": [
    "def oneHotEncode(df):\n",
    "    # инициализируем кодировщик\n",
    "    ohe = OneHotEncoder()\n",
    "\n",
    "    # получаем список незакодированных признаков\n",
    "    non_encoded_columns = [col for col in df.columns if df[col].dtype == 'object']\n",
    "\n",
    "    # кодируем незакодированные признаки\n",
    "    encoded_columns = ohe.fit_transform(df[non_encoded_columns]).toarray()\n",
    "\n",
    "    # сохраняем имена кодированных признаков\n",
    "    encoded_columns_names = ohe.get_feature_names(non_encoded_columns)\n",
    "\n",
    "    # сохраняем имена исходных незакодированных признаков\n",
    "    non_encoded_columns_names = df[non_encoded_columns].columns.values\n",
    "\n",
    "    # удаляем незакодированные признаки\n",
    "    df.drop(non_encoded_columns, axis=1, inplace=True)\n",
    "\n",
    "    # добавляем кодированные признаки\n",
    "    for col, name in zip(encoded_columns.T, encoded_columns_names):\n",
    "        df[name] = col\n",
    "\n",
    "    return df"
   ]
  },
  {
   "cell_type": "code",
   "execution_count": 66,
   "metadata": {},
   "outputs": [
    {
     "data": {
      "text/html": [
       "<div>\n",
       "<style scoped>\n",
       "    .dataframe tbody tr th:only-of-type {\n",
       "        vertical-align: middle;\n",
       "    }\n",
       "\n",
       "    .dataframe tbody tr th {\n",
       "        vertical-align: top;\n",
       "    }\n",
       "\n",
       "    .dataframe thead th {\n",
       "        text-align: right;\n",
       "    }\n",
       "</style>\n",
       "<table border=\"1\" class=\"dataframe\">\n",
       "  <thead>\n",
       "    <tr style=\"text-align: right;\">\n",
       "      <th></th>\n",
       "      <th>CreditScore</th>\n",
       "      <th>Age</th>\n",
       "      <th>Tenure</th>\n",
       "      <th>Balance</th>\n",
       "      <th>NumOfProducts</th>\n",
       "      <th>HasCrCard</th>\n",
       "      <th>IsActiveMember</th>\n",
       "      <th>EstimatedSalary</th>\n",
       "      <th>Exited</th>\n",
       "      <th>Geography_France</th>\n",
       "      <th>Geography_Germany</th>\n",
       "      <th>Geography_Spain</th>\n",
       "      <th>Gender_Female</th>\n",
       "      <th>Gender_Male</th>\n",
       "    </tr>\n",
       "  </thead>\n",
       "  <tbody>\n",
       "    <tr>\n",
       "      <th>0</th>\n",
       "      <td>619</td>\n",
       "      <td>42</td>\n",
       "      <td>2</td>\n",
       "      <td>0.00</td>\n",
       "      <td>1</td>\n",
       "      <td>1</td>\n",
       "      <td>1</td>\n",
       "      <td>101348.88</td>\n",
       "      <td>1</td>\n",
       "      <td>1.0</td>\n",
       "      <td>0.0</td>\n",
       "      <td>0.0</td>\n",
       "      <td>1.0</td>\n",
       "      <td>0.0</td>\n",
       "    </tr>\n",
       "    <tr>\n",
       "      <th>1</th>\n",
       "      <td>608</td>\n",
       "      <td>41</td>\n",
       "      <td>1</td>\n",
       "      <td>83807.86</td>\n",
       "      <td>1</td>\n",
       "      <td>0</td>\n",
       "      <td>1</td>\n",
       "      <td>112542.58</td>\n",
       "      <td>0</td>\n",
       "      <td>0.0</td>\n",
       "      <td>0.0</td>\n",
       "      <td>1.0</td>\n",
       "      <td>1.0</td>\n",
       "      <td>0.0</td>\n",
       "    </tr>\n",
       "    <tr>\n",
       "      <th>2</th>\n",
       "      <td>502</td>\n",
       "      <td>42</td>\n",
       "      <td>8</td>\n",
       "      <td>159660.80</td>\n",
       "      <td>3</td>\n",
       "      <td>1</td>\n",
       "      <td>0</td>\n",
       "      <td>113931.57</td>\n",
       "      <td>1</td>\n",
       "      <td>1.0</td>\n",
       "      <td>0.0</td>\n",
       "      <td>0.0</td>\n",
       "      <td>1.0</td>\n",
       "      <td>0.0</td>\n",
       "    </tr>\n",
       "    <tr>\n",
       "      <th>3</th>\n",
       "      <td>699</td>\n",
       "      <td>39</td>\n",
       "      <td>1</td>\n",
       "      <td>0.00</td>\n",
       "      <td>2</td>\n",
       "      <td>0</td>\n",
       "      <td>0</td>\n",
       "      <td>93826.63</td>\n",
       "      <td>0</td>\n",
       "      <td>1.0</td>\n",
       "      <td>0.0</td>\n",
       "      <td>0.0</td>\n",
       "      <td>1.0</td>\n",
       "      <td>0.0</td>\n",
       "    </tr>\n",
       "    <tr>\n",
       "      <th>4</th>\n",
       "      <td>850</td>\n",
       "      <td>43</td>\n",
       "      <td>2</td>\n",
       "      <td>125510.82</td>\n",
       "      <td>1</td>\n",
       "      <td>1</td>\n",
       "      <td>1</td>\n",
       "      <td>79084.10</td>\n",
       "      <td>0</td>\n",
       "      <td>0.0</td>\n",
       "      <td>0.0</td>\n",
       "      <td>1.0</td>\n",
       "      <td>1.0</td>\n",
       "      <td>0.0</td>\n",
       "    </tr>\n",
       "    <tr>\n",
       "      <th>...</th>\n",
       "      <td>...</td>\n",
       "      <td>...</td>\n",
       "      <td>...</td>\n",
       "      <td>...</td>\n",
       "      <td>...</td>\n",
       "      <td>...</td>\n",
       "      <td>...</td>\n",
       "      <td>...</td>\n",
       "      <td>...</td>\n",
       "      <td>...</td>\n",
       "      <td>...</td>\n",
       "      <td>...</td>\n",
       "      <td>...</td>\n",
       "      <td>...</td>\n",
       "    </tr>\n",
       "    <tr>\n",
       "      <th>9995</th>\n",
       "      <td>771</td>\n",
       "      <td>39</td>\n",
       "      <td>5</td>\n",
       "      <td>0.00</td>\n",
       "      <td>2</td>\n",
       "      <td>1</td>\n",
       "      <td>0</td>\n",
       "      <td>96270.64</td>\n",
       "      <td>0</td>\n",
       "      <td>1.0</td>\n",
       "      <td>0.0</td>\n",
       "      <td>0.0</td>\n",
       "      <td>0.0</td>\n",
       "      <td>1.0</td>\n",
       "    </tr>\n",
       "    <tr>\n",
       "      <th>9996</th>\n",
       "      <td>516</td>\n",
       "      <td>35</td>\n",
       "      <td>10</td>\n",
       "      <td>57369.61</td>\n",
       "      <td>1</td>\n",
       "      <td>1</td>\n",
       "      <td>1</td>\n",
       "      <td>101699.77</td>\n",
       "      <td>0</td>\n",
       "      <td>1.0</td>\n",
       "      <td>0.0</td>\n",
       "      <td>0.0</td>\n",
       "      <td>0.0</td>\n",
       "      <td>1.0</td>\n",
       "    </tr>\n",
       "    <tr>\n",
       "      <th>9997</th>\n",
       "      <td>709</td>\n",
       "      <td>36</td>\n",
       "      <td>7</td>\n",
       "      <td>0.00</td>\n",
       "      <td>1</td>\n",
       "      <td>0</td>\n",
       "      <td>1</td>\n",
       "      <td>42085.58</td>\n",
       "      <td>1</td>\n",
       "      <td>1.0</td>\n",
       "      <td>0.0</td>\n",
       "      <td>0.0</td>\n",
       "      <td>1.0</td>\n",
       "      <td>0.0</td>\n",
       "    </tr>\n",
       "    <tr>\n",
       "      <th>9998</th>\n",
       "      <td>772</td>\n",
       "      <td>42</td>\n",
       "      <td>3</td>\n",
       "      <td>75075.31</td>\n",
       "      <td>2</td>\n",
       "      <td>1</td>\n",
       "      <td>0</td>\n",
       "      <td>92888.52</td>\n",
       "      <td>1</td>\n",
       "      <td>0.0</td>\n",
       "      <td>1.0</td>\n",
       "      <td>0.0</td>\n",
       "      <td>0.0</td>\n",
       "      <td>1.0</td>\n",
       "    </tr>\n",
       "    <tr>\n",
       "      <th>9999</th>\n",
       "      <td>792</td>\n",
       "      <td>28</td>\n",
       "      <td>0</td>\n",
       "      <td>130142.79</td>\n",
       "      <td>1</td>\n",
       "      <td>1</td>\n",
       "      <td>0</td>\n",
       "      <td>38190.78</td>\n",
       "      <td>0</td>\n",
       "      <td>1.0</td>\n",
       "      <td>0.0</td>\n",
       "      <td>0.0</td>\n",
       "      <td>1.0</td>\n",
       "      <td>0.0</td>\n",
       "    </tr>\n",
       "  </tbody>\n",
       "</table>\n",
       "<p>10000 rows × 14 columns</p>\n",
       "</div>"
      ],
      "text/plain": [
       "      CreditScore  Age  Tenure    Balance  NumOfProducts  HasCrCard  \\\n",
       "0             619   42       2       0.00              1          1   \n",
       "1             608   41       1   83807.86              1          0   \n",
       "2             502   42       8  159660.80              3          1   \n",
       "3             699   39       1       0.00              2          0   \n",
       "4             850   43       2  125510.82              1          1   \n",
       "...           ...  ...     ...        ...            ...        ...   \n",
       "9995          771   39       5       0.00              2          1   \n",
       "9996          516   35      10   57369.61              1          1   \n",
       "9997          709   36       7       0.00              1          0   \n",
       "9998          772   42       3   75075.31              2          1   \n",
       "9999          792   28       0  130142.79              1          1   \n",
       "\n",
       "      IsActiveMember  EstimatedSalary  Exited  Geography_France  \\\n",
       "0                  1        101348.88       1               1.0   \n",
       "1                  1        112542.58       0               0.0   \n",
       "2                  0        113931.57       1               1.0   \n",
       "3                  0         93826.63       0               1.0   \n",
       "4                  1         79084.10       0               0.0   \n",
       "...              ...              ...     ...               ...   \n",
       "9995               0         96270.64       0               1.0   \n",
       "9996               1        101699.77       0               1.0   \n",
       "9997               1         42085.58       1               1.0   \n",
       "9998               0         92888.52       1               0.0   \n",
       "9999               0         38190.78       0               1.0   \n",
       "\n",
       "      Geography_Germany  Geography_Spain  Gender_Female  Gender_Male  \n",
       "0                   0.0              0.0            1.0          0.0  \n",
       "1                   0.0              1.0            1.0          0.0  \n",
       "2                   0.0              0.0            1.0          0.0  \n",
       "3                   0.0              0.0            1.0          0.0  \n",
       "4                   0.0              1.0            1.0          0.0  \n",
       "...                 ...              ...            ...          ...  \n",
       "9995                0.0              0.0            0.0          1.0  \n",
       "9996                0.0              0.0            0.0          1.0  \n",
       "9997                0.0              0.0            1.0          0.0  \n",
       "9998                1.0              0.0            0.0          1.0  \n",
       "9999                0.0              0.0            1.0          0.0  \n",
       "\n",
       "[10000 rows x 14 columns]"
      ]
     },
     "execution_count": 66,
     "metadata": {},
     "output_type": "execute_result"
    }
   ],
   "source": [
    "oneHotEncode(data)"
   ]
  },
  {
   "cell_type": "code",
   "execution_count": 19,
   "metadata": {},
   "outputs": [],
   "source": [
    "data_for_example = data.copy(deep=True)"
   ]
  },
  {
   "cell_type": "code",
   "execution_count": 20,
   "metadata": {},
   "outputs": [],
   "source": [
    "data = pd.get_dummies(data, drop_first=True)"
   ]
  },
  {
   "cell_type": "code",
   "execution_count": 21,
   "metadata": {},
   "outputs": [],
   "source": [
    "'''\n",
    "Закодировал количество банковских продуктов, теперь для каждой из 4 категорий есть своя колонка с нулем или\n",
    "единичкой, написал просто на коленке без всякой оптимизации и упрощения, как видел так и писал, напрямую\n",
    "'''\n",
    "data['NumOfProductsOne'] = data.loc[data['NumOfProducts'] == 1, 'NumOfProducts']\n",
    "data['NumOfProductsTwo'] = data.loc[data['NumOfProducts'] == 2, 'NumOfProducts']\n",
    "data['NumOfProductsThree'] = data.loc[data['NumOfProducts'] == 3, 'NumOfProducts']\n",
    "data['NumOfProductsFour'] = data.loc[data['NumOfProducts'] == 4, 'NumOfProducts']\n",
    "\n",
    "data = data.fillna(0)\n",
    "\n",
    "data['NumOfProductsTwo'] = data['NumOfProductsTwo'].apply(lambda num: 1 if num == 2.0 else 0)\n",
    "data['NumOfProductsThree'] = data['NumOfProductsThree'].apply(lambda num: 1 if num == 3.0 else 0)\n",
    "data['NumOfProductsFour'] = data['NumOfProductsFour'].apply(lambda num: 1 if num == 4.0 else 0)\n",
    "\n",
    "data['NumOfProductsOne'] = data['NumOfProductsOne'].astype('uint8')\n",
    "data['NumOfProductsTwo'] = data['NumOfProductsTwo'].astype('uint8')\n",
    "data['NumOfProductsThree'] = data['NumOfProductsThree'].astype('uint8')\n",
    "data['NumOfProductsFour'] = data['NumOfProductsFour'].astype('uint8')\n",
    "data = data.drop(['NumOfProducts'], axis=1)"
   ]
  },
  {
   "cell_type": "code",
   "execution_count": 22,
   "metadata": {},
   "outputs": [
    {
     "data": {
      "text/html": [
       "<div>\n",
       "<style scoped>\n",
       "    .dataframe tbody tr th:only-of-type {\n",
       "        vertical-align: middle;\n",
       "    }\n",
       "\n",
       "    .dataframe tbody tr th {\n",
       "        vertical-align: top;\n",
       "    }\n",
       "\n",
       "    .dataframe thead th {\n",
       "        text-align: right;\n",
       "    }\n",
       "</style>\n",
       "<table border=\"1\" class=\"dataframe\">\n",
       "  <thead>\n",
       "    <tr style=\"text-align: right;\">\n",
       "      <th></th>\n",
       "      <th>CreditScore</th>\n",
       "      <th>Age</th>\n",
       "      <th>Tenure</th>\n",
       "      <th>Balance</th>\n",
       "      <th>HasCrCard</th>\n",
       "      <th>IsActiveMember</th>\n",
       "      <th>EstimatedSalary</th>\n",
       "      <th>Exited</th>\n",
       "      <th>Geography_Germany</th>\n",
       "      <th>Geography_Spain</th>\n",
       "      <th>Gender_Male</th>\n",
       "      <th>NumOfProductsOne</th>\n",
       "      <th>NumOfProductsTwo</th>\n",
       "      <th>NumOfProductsThree</th>\n",
       "      <th>NumOfProductsFour</th>\n",
       "    </tr>\n",
       "  </thead>\n",
       "  <tbody>\n",
       "    <tr>\n",
       "      <th>0</th>\n",
       "      <td>619</td>\n",
       "      <td>42</td>\n",
       "      <td>2</td>\n",
       "      <td>0.00</td>\n",
       "      <td>1</td>\n",
       "      <td>1</td>\n",
       "      <td>101348.88</td>\n",
       "      <td>1</td>\n",
       "      <td>0</td>\n",
       "      <td>0</td>\n",
       "      <td>0</td>\n",
       "      <td>1</td>\n",
       "      <td>0</td>\n",
       "      <td>0</td>\n",
       "      <td>0</td>\n",
       "    </tr>\n",
       "    <tr>\n",
       "      <th>1</th>\n",
       "      <td>608</td>\n",
       "      <td>41</td>\n",
       "      <td>1</td>\n",
       "      <td>83807.86</td>\n",
       "      <td>0</td>\n",
       "      <td>1</td>\n",
       "      <td>112542.58</td>\n",
       "      <td>0</td>\n",
       "      <td>0</td>\n",
       "      <td>1</td>\n",
       "      <td>0</td>\n",
       "      <td>1</td>\n",
       "      <td>0</td>\n",
       "      <td>0</td>\n",
       "      <td>0</td>\n",
       "    </tr>\n",
       "    <tr>\n",
       "      <th>2</th>\n",
       "      <td>502</td>\n",
       "      <td>42</td>\n",
       "      <td>8</td>\n",
       "      <td>159660.80</td>\n",
       "      <td>1</td>\n",
       "      <td>0</td>\n",
       "      <td>113931.57</td>\n",
       "      <td>1</td>\n",
       "      <td>0</td>\n",
       "      <td>0</td>\n",
       "      <td>0</td>\n",
       "      <td>0</td>\n",
       "      <td>0</td>\n",
       "      <td>1</td>\n",
       "      <td>0</td>\n",
       "    </tr>\n",
       "    <tr>\n",
       "      <th>3</th>\n",
       "      <td>699</td>\n",
       "      <td>39</td>\n",
       "      <td>1</td>\n",
       "      <td>0.00</td>\n",
       "      <td>0</td>\n",
       "      <td>0</td>\n",
       "      <td>93826.63</td>\n",
       "      <td>0</td>\n",
       "      <td>0</td>\n",
       "      <td>0</td>\n",
       "      <td>0</td>\n",
       "      <td>0</td>\n",
       "      <td>1</td>\n",
       "      <td>0</td>\n",
       "      <td>0</td>\n",
       "    </tr>\n",
       "    <tr>\n",
       "      <th>4</th>\n",
       "      <td>850</td>\n",
       "      <td>43</td>\n",
       "      <td>2</td>\n",
       "      <td>125510.82</td>\n",
       "      <td>1</td>\n",
       "      <td>1</td>\n",
       "      <td>79084.10</td>\n",
       "      <td>0</td>\n",
       "      <td>0</td>\n",
       "      <td>1</td>\n",
       "      <td>0</td>\n",
       "      <td>1</td>\n",
       "      <td>0</td>\n",
       "      <td>0</td>\n",
       "      <td>0</td>\n",
       "    </tr>\n",
       "    <tr>\n",
       "      <th>...</th>\n",
       "      <td>...</td>\n",
       "      <td>...</td>\n",
       "      <td>...</td>\n",
       "      <td>...</td>\n",
       "      <td>...</td>\n",
       "      <td>...</td>\n",
       "      <td>...</td>\n",
       "      <td>...</td>\n",
       "      <td>...</td>\n",
       "      <td>...</td>\n",
       "      <td>...</td>\n",
       "      <td>...</td>\n",
       "      <td>...</td>\n",
       "      <td>...</td>\n",
       "      <td>...</td>\n",
       "    </tr>\n",
       "    <tr>\n",
       "      <th>9995</th>\n",
       "      <td>771</td>\n",
       "      <td>39</td>\n",
       "      <td>5</td>\n",
       "      <td>0.00</td>\n",
       "      <td>1</td>\n",
       "      <td>0</td>\n",
       "      <td>96270.64</td>\n",
       "      <td>0</td>\n",
       "      <td>0</td>\n",
       "      <td>0</td>\n",
       "      <td>1</td>\n",
       "      <td>0</td>\n",
       "      <td>1</td>\n",
       "      <td>0</td>\n",
       "      <td>0</td>\n",
       "    </tr>\n",
       "    <tr>\n",
       "      <th>9996</th>\n",
       "      <td>516</td>\n",
       "      <td>35</td>\n",
       "      <td>10</td>\n",
       "      <td>57369.61</td>\n",
       "      <td>1</td>\n",
       "      <td>1</td>\n",
       "      <td>101699.77</td>\n",
       "      <td>0</td>\n",
       "      <td>0</td>\n",
       "      <td>0</td>\n",
       "      <td>1</td>\n",
       "      <td>1</td>\n",
       "      <td>0</td>\n",
       "      <td>0</td>\n",
       "      <td>0</td>\n",
       "    </tr>\n",
       "    <tr>\n",
       "      <th>9997</th>\n",
       "      <td>709</td>\n",
       "      <td>36</td>\n",
       "      <td>7</td>\n",
       "      <td>0.00</td>\n",
       "      <td>0</td>\n",
       "      <td>1</td>\n",
       "      <td>42085.58</td>\n",
       "      <td>1</td>\n",
       "      <td>0</td>\n",
       "      <td>0</td>\n",
       "      <td>0</td>\n",
       "      <td>1</td>\n",
       "      <td>0</td>\n",
       "      <td>0</td>\n",
       "      <td>0</td>\n",
       "    </tr>\n",
       "    <tr>\n",
       "      <th>9998</th>\n",
       "      <td>772</td>\n",
       "      <td>42</td>\n",
       "      <td>3</td>\n",
       "      <td>75075.31</td>\n",
       "      <td>1</td>\n",
       "      <td>0</td>\n",
       "      <td>92888.52</td>\n",
       "      <td>1</td>\n",
       "      <td>1</td>\n",
       "      <td>0</td>\n",
       "      <td>1</td>\n",
       "      <td>0</td>\n",
       "      <td>1</td>\n",
       "      <td>0</td>\n",
       "      <td>0</td>\n",
       "    </tr>\n",
       "    <tr>\n",
       "      <th>9999</th>\n",
       "      <td>792</td>\n",
       "      <td>28</td>\n",
       "      <td>6</td>\n",
       "      <td>130142.79</td>\n",
       "      <td>1</td>\n",
       "      <td>0</td>\n",
       "      <td>38190.78</td>\n",
       "      <td>0</td>\n",
       "      <td>0</td>\n",
       "      <td>0</td>\n",
       "      <td>0</td>\n",
       "      <td>1</td>\n",
       "      <td>0</td>\n",
       "      <td>0</td>\n",
       "      <td>0</td>\n",
       "    </tr>\n",
       "  </tbody>\n",
       "</table>\n",
       "<p>10000 rows × 15 columns</p>\n",
       "</div>"
      ],
      "text/plain": [
       "      CreditScore  Age  Tenure    Balance  HasCrCard  IsActiveMember  \\\n",
       "0             619   42       2       0.00          1               1   \n",
       "1             608   41       1   83807.86          0               1   \n",
       "2             502   42       8  159660.80          1               0   \n",
       "3             699   39       1       0.00          0               0   \n",
       "4             850   43       2  125510.82          1               1   \n",
       "...           ...  ...     ...        ...        ...             ...   \n",
       "9995          771   39       5       0.00          1               0   \n",
       "9996          516   35      10   57369.61          1               1   \n",
       "9997          709   36       7       0.00          0               1   \n",
       "9998          772   42       3   75075.31          1               0   \n",
       "9999          792   28       6  130142.79          1               0   \n",
       "\n",
       "      EstimatedSalary  Exited  Geography_Germany  Geography_Spain  \\\n",
       "0           101348.88       1                  0                0   \n",
       "1           112542.58       0                  0                1   \n",
       "2           113931.57       1                  0                0   \n",
       "3            93826.63       0                  0                0   \n",
       "4            79084.10       0                  0                1   \n",
       "...               ...     ...                ...              ...   \n",
       "9995         96270.64       0                  0                0   \n",
       "9996        101699.77       0                  0                0   \n",
       "9997         42085.58       1                  0                0   \n",
       "9998         92888.52       1                  1                0   \n",
       "9999         38190.78       0                  0                0   \n",
       "\n",
       "      Gender_Male  NumOfProductsOne  NumOfProductsTwo  NumOfProductsThree  \\\n",
       "0               0                 1                 0                   0   \n",
       "1               0                 1                 0                   0   \n",
       "2               0                 0                 0                   1   \n",
       "3               0                 0                 1                   0   \n",
       "4               0                 1                 0                   0   \n",
       "...           ...               ...               ...                 ...   \n",
       "9995            1                 0                 1                   0   \n",
       "9996            1                 1                 0                   0   \n",
       "9997            0                 1                 0                   0   \n",
       "9998            1                 0                 1                   0   \n",
       "9999            0                 1                 0                   0   \n",
       "\n",
       "      NumOfProductsFour  \n",
       "0                     0  \n",
       "1                     0  \n",
       "2                     0  \n",
       "3                     0  \n",
       "4                     0  \n",
       "...                 ...  \n",
       "9995                  0  \n",
       "9996                  0  \n",
       "9997                  0  \n",
       "9998                  0  \n",
       "9999                  0  \n",
       "\n",
       "[10000 rows x 15 columns]"
      ]
     },
     "execution_count": 22,
     "metadata": {},
     "output_type": "execute_result"
    }
   ],
   "source": [
    "data"
   ]
  },
  {
   "cell_type": "code",
   "execution_count": 23,
   "metadata": {},
   "outputs": [],
   "source": [
    "features = data.drop(['Exited'], axis=1)\n",
    "target = data['Exited']\n",
    "\n",
    "features_train, features_test, target_train, target_test = train_test_split(\n",
    "    features, target, test_size=0.25, random_state=RANDOM_STATE, stratify=target\n",
    ")"
   ]
  },
  {
   "cell_type": "code",
   "execution_count": null,
   "metadata": {},
   "outputs": [],
   "source": [
    "display(features_train.shape, features_test.shape, target_train.shape, target_test.shape)"
   ]
  },
  {
   "cell_type": "code",
   "execution_count": 25,
   "metadata": {},
   "outputs": [
    {
     "data": {
      "text/html": [
       "<div>\n",
       "<style scoped>\n",
       "    .dataframe tbody tr th:only-of-type {\n",
       "        vertical-align: middle;\n",
       "    }\n",
       "\n",
       "    .dataframe tbody tr th {\n",
       "        vertical-align: top;\n",
       "    }\n",
       "\n",
       "    .dataframe thead th {\n",
       "        text-align: right;\n",
       "    }\n",
       "</style>\n",
       "<table border=\"1\" class=\"dataframe\">\n",
       "  <thead>\n",
       "    <tr style=\"text-align: right;\">\n",
       "      <th></th>\n",
       "      <th>CreditScore</th>\n",
       "      <th>Geography</th>\n",
       "      <th>Gender</th>\n",
       "      <th>Age</th>\n",
       "      <th>Tenure</th>\n",
       "      <th>Balance</th>\n",
       "      <th>NumOfProducts</th>\n",
       "      <th>HasCrCard</th>\n",
       "      <th>IsActiveMember</th>\n",
       "      <th>EstimatedSalary</th>\n",
       "      <th>Exited</th>\n",
       "    </tr>\n",
       "  </thead>\n",
       "  <tbody>\n",
       "    <tr>\n",
       "      <th>0</th>\n",
       "      <td>619</td>\n",
       "      <td>France</td>\n",
       "      <td>Female</td>\n",
       "      <td>42</td>\n",
       "      <td>2</td>\n",
       "      <td>0.00</td>\n",
       "      <td>1</td>\n",
       "      <td>1</td>\n",
       "      <td>1</td>\n",
       "      <td>101348.88</td>\n",
       "      <td>1</td>\n",
       "    </tr>\n",
       "    <tr>\n",
       "      <th>1</th>\n",
       "      <td>608</td>\n",
       "      <td>Spain</td>\n",
       "      <td>Female</td>\n",
       "      <td>41</td>\n",
       "      <td>1</td>\n",
       "      <td>83807.86</td>\n",
       "      <td>1</td>\n",
       "      <td>0</td>\n",
       "      <td>1</td>\n",
       "      <td>112542.58</td>\n",
       "      <td>0</td>\n",
       "    </tr>\n",
       "    <tr>\n",
       "      <th>2</th>\n",
       "      <td>502</td>\n",
       "      <td>France</td>\n",
       "      <td>Female</td>\n",
       "      <td>42</td>\n",
       "      <td>8</td>\n",
       "      <td>159660.80</td>\n",
       "      <td>3</td>\n",
       "      <td>1</td>\n",
       "      <td>0</td>\n",
       "      <td>113931.57</td>\n",
       "      <td>1</td>\n",
       "    </tr>\n",
       "    <tr>\n",
       "      <th>3</th>\n",
       "      <td>699</td>\n",
       "      <td>France</td>\n",
       "      <td>Female</td>\n",
       "      <td>39</td>\n",
       "      <td>1</td>\n",
       "      <td>0.00</td>\n",
       "      <td>2</td>\n",
       "      <td>0</td>\n",
       "      <td>0</td>\n",
       "      <td>93826.63</td>\n",
       "      <td>0</td>\n",
       "    </tr>\n",
       "    <tr>\n",
       "      <th>4</th>\n",
       "      <td>850</td>\n",
       "      <td>Spain</td>\n",
       "      <td>Female</td>\n",
       "      <td>43</td>\n",
       "      <td>2</td>\n",
       "      <td>125510.82</td>\n",
       "      <td>1</td>\n",
       "      <td>1</td>\n",
       "      <td>1</td>\n",
       "      <td>79084.10</td>\n",
       "      <td>0</td>\n",
       "    </tr>\n",
       "    <tr>\n",
       "      <th>...</th>\n",
       "      <td>...</td>\n",
       "      <td>...</td>\n",
       "      <td>...</td>\n",
       "      <td>...</td>\n",
       "      <td>...</td>\n",
       "      <td>...</td>\n",
       "      <td>...</td>\n",
       "      <td>...</td>\n",
       "      <td>...</td>\n",
       "      <td>...</td>\n",
       "      <td>...</td>\n",
       "    </tr>\n",
       "    <tr>\n",
       "      <th>9995</th>\n",
       "      <td>771</td>\n",
       "      <td>France</td>\n",
       "      <td>Male</td>\n",
       "      <td>39</td>\n",
       "      <td>5</td>\n",
       "      <td>0.00</td>\n",
       "      <td>2</td>\n",
       "      <td>1</td>\n",
       "      <td>0</td>\n",
       "      <td>96270.64</td>\n",
       "      <td>0</td>\n",
       "    </tr>\n",
       "    <tr>\n",
       "      <th>9996</th>\n",
       "      <td>516</td>\n",
       "      <td>France</td>\n",
       "      <td>Male</td>\n",
       "      <td>35</td>\n",
       "      <td>10</td>\n",
       "      <td>57369.61</td>\n",
       "      <td>1</td>\n",
       "      <td>1</td>\n",
       "      <td>1</td>\n",
       "      <td>101699.77</td>\n",
       "      <td>0</td>\n",
       "    </tr>\n",
       "    <tr>\n",
       "      <th>9997</th>\n",
       "      <td>709</td>\n",
       "      <td>France</td>\n",
       "      <td>Female</td>\n",
       "      <td>36</td>\n",
       "      <td>7</td>\n",
       "      <td>0.00</td>\n",
       "      <td>1</td>\n",
       "      <td>0</td>\n",
       "      <td>1</td>\n",
       "      <td>42085.58</td>\n",
       "      <td>1</td>\n",
       "    </tr>\n",
       "    <tr>\n",
       "      <th>9998</th>\n",
       "      <td>772</td>\n",
       "      <td>Germany</td>\n",
       "      <td>Male</td>\n",
       "      <td>42</td>\n",
       "      <td>3</td>\n",
       "      <td>75075.31</td>\n",
       "      <td>2</td>\n",
       "      <td>1</td>\n",
       "      <td>0</td>\n",
       "      <td>92888.52</td>\n",
       "      <td>1</td>\n",
       "    </tr>\n",
       "    <tr>\n",
       "      <th>9999</th>\n",
       "      <td>792</td>\n",
       "      <td>France</td>\n",
       "      <td>Female</td>\n",
       "      <td>28</td>\n",
       "      <td>6</td>\n",
       "      <td>130142.79</td>\n",
       "      <td>1</td>\n",
       "      <td>1</td>\n",
       "      <td>0</td>\n",
       "      <td>38190.78</td>\n",
       "      <td>0</td>\n",
       "    </tr>\n",
       "  </tbody>\n",
       "</table>\n",
       "<p>10000 rows × 11 columns</p>\n",
       "</div>"
      ],
      "text/plain": [
       "      CreditScore Geography  Gender  Age  Tenure    Balance  NumOfProducts  \\\n",
       "0             619    France  Female   42       2       0.00              1   \n",
       "1             608     Spain  Female   41       1   83807.86              1   \n",
       "2             502    France  Female   42       8  159660.80              3   \n",
       "3             699    France  Female   39       1       0.00              2   \n",
       "4             850     Spain  Female   43       2  125510.82              1   \n",
       "...           ...       ...     ...  ...     ...        ...            ...   \n",
       "9995          771    France    Male   39       5       0.00              2   \n",
       "9996          516    France    Male   35      10   57369.61              1   \n",
       "9997          709    France  Female   36       7       0.00              1   \n",
       "9998          772   Germany    Male   42       3   75075.31              2   \n",
       "9999          792    France  Female   28       6  130142.79              1   \n",
       "\n",
       "      HasCrCard  IsActiveMember  EstimatedSalary  Exited  \n",
       "0             1               1        101348.88       1  \n",
       "1             0               1        112542.58       0  \n",
       "2             1               0        113931.57       1  \n",
       "3             0               0         93826.63       0  \n",
       "4             1               1         79084.10       0  \n",
       "...         ...             ...              ...     ...  \n",
       "9995          1               0         96270.64       0  \n",
       "9996          1               1        101699.77       0  \n",
       "9997          0               1         42085.58       1  \n",
       "9998          1               0         92888.52       1  \n",
       "9999          1               0         38190.78       0  \n",
       "\n",
       "[10000 rows x 11 columns]"
      ]
     },
     "execution_count": 25,
     "metadata": {},
     "output_type": "execute_result"
    }
   ],
   "source": [
    "data_for_example"
   ]
  },
  {
   "cell_type": "code",
   "execution_count": 26,
   "metadata": {},
   "outputs": [],
   "source": [
    "features_example = data_for_example.drop(['Exited'], axis=1)\n",
    "target_example = data_for_example['Exited']\n"
   ]
  },
  {
   "cell_type": "code",
   "execution_count": 27,
   "metadata": {},
   "outputs": [],
   "source": [
    "feat_tr_ex, feat_te_ex, targ_tr_ex, targ_te_ex = train_test_split(\n",
    "    features_example, target_example, test_size=0.25, random_state=12345)"
   ]
  },
  {
   "cell_type": "code",
   "execution_count": 28,
   "metadata": {},
   "outputs": [],
   "source": [
    "feat_tr_ex = feat_tr_ex.reset_index(drop=True)\n",
    "feat_te_ex = feat_te_ex.reset_index(drop=True)"
   ]
  },
  {
   "cell_type": "code",
   "execution_count": 29,
   "metadata": {},
   "outputs": [],
   "source": [
    "columns_categorical = ['Geography', 'Gender']"
   ]
  },
  {
   "cell_type": "code",
   "execution_count": 30,
   "metadata": {},
   "outputs": [],
   "source": [
    "encoder_ohe = OneHotEncoder(drop='first', handle_unknown='ignore')\n",
    "\n",
    "feat_cat_tr = pd.DataFrame.sparse.from_spmatrix(encoder_ohe.fit_transform(feat_tr_ex[columns_categorical]), columns=encoder_ohe.get_feature_names())\n",
    "feat_tr_ex[encoder_ohe.get_feature_names()] = feat_cat_tr.astype('int')\n",
    "feat_tr_ex = feat_tr_ex.drop(columns_categorical, axis=1)\n",
    "\n",
    "feat_cat_te = pd.DataFrame.sparse.from_spmatrix(\n",
    "encoder_ohe.transform(feat_te_ex[columns_categorical]), \n",
    "columns=encoder_ohe.get_feature_names())\n",
    "feat_te_ex[encoder_ohe.get_feature_names()] = feat_cat_te.astype('int')\n",
    "feat_te_ex = feat_te_ex.drop(columns_categorical, axis=1)"
   ]
  },
  {
   "cell_type": "code",
   "execution_count": 31,
   "metadata": {},
   "outputs": [
    {
     "data": {
      "text/html": [
       "<div>\n",
       "<style scoped>\n",
       "    .dataframe tbody tr th:only-of-type {\n",
       "        vertical-align: middle;\n",
       "    }\n",
       "\n",
       "    .dataframe tbody tr th {\n",
       "        vertical-align: top;\n",
       "    }\n",
       "\n",
       "    .dataframe thead th {\n",
       "        text-align: right;\n",
       "    }\n",
       "</style>\n",
       "<table border=\"1\" class=\"dataframe\">\n",
       "  <thead>\n",
       "    <tr style=\"text-align: right;\">\n",
       "      <th></th>\n",
       "      <th>CreditScore</th>\n",
       "      <th>Age</th>\n",
       "      <th>Tenure</th>\n",
       "      <th>Balance</th>\n",
       "      <th>NumOfProducts</th>\n",
       "      <th>HasCrCard</th>\n",
       "      <th>IsActiveMember</th>\n",
       "      <th>EstimatedSalary</th>\n",
       "      <th>x0_Germany</th>\n",
       "      <th>x0_Spain</th>\n",
       "      <th>x1_Male</th>\n",
       "    </tr>\n",
       "  </thead>\n",
       "  <tbody>\n",
       "    <tr>\n",
       "      <th>0</th>\n",
       "      <td>694</td>\n",
       "      <td>30</td>\n",
       "      <td>9</td>\n",
       "      <td>0.00</td>\n",
       "      <td>2</td>\n",
       "      <td>1</td>\n",
       "      <td>1</td>\n",
       "      <td>26960.31</td>\n",
       "      <td>0</td>\n",
       "      <td>0</td>\n",
       "      <td>0</td>\n",
       "    </tr>\n",
       "    <tr>\n",
       "      <th>1</th>\n",
       "      <td>621</td>\n",
       "      <td>36</td>\n",
       "      <td>7</td>\n",
       "      <td>116338.68</td>\n",
       "      <td>1</td>\n",
       "      <td>1</td>\n",
       "      <td>1</td>\n",
       "      <td>155743.48</td>\n",
       "      <td>0</td>\n",
       "      <td>1</td>\n",
       "      <td>0</td>\n",
       "    </tr>\n",
       "    <tr>\n",
       "      <th>2</th>\n",
       "      <td>626</td>\n",
       "      <td>33</td>\n",
       "      <td>8</td>\n",
       "      <td>0.00</td>\n",
       "      <td>2</td>\n",
       "      <td>1</td>\n",
       "      <td>0</td>\n",
       "      <td>138504.28</td>\n",
       "      <td>0</td>\n",
       "      <td>0</td>\n",
       "      <td>1</td>\n",
       "    </tr>\n",
       "    <tr>\n",
       "      <th>3</th>\n",
       "      <td>769</td>\n",
       "      <td>51</td>\n",
       "      <td>9</td>\n",
       "      <td>156773.78</td>\n",
       "      <td>2</td>\n",
       "      <td>1</td>\n",
       "      <td>0</td>\n",
       "      <td>40257.79</td>\n",
       "      <td>0</td>\n",
       "      <td>0</td>\n",
       "      <td>1</td>\n",
       "    </tr>\n",
       "    <tr>\n",
       "      <th>4</th>\n",
       "      <td>718</td>\n",
       "      <td>26</td>\n",
       "      <td>3</td>\n",
       "      <td>147527.03</td>\n",
       "      <td>1</td>\n",
       "      <td>0</td>\n",
       "      <td>0</td>\n",
       "      <td>51099.56</td>\n",
       "      <td>1</td>\n",
       "      <td>0</td>\n",
       "      <td>1</td>\n",
       "    </tr>\n",
       "    <tr>\n",
       "      <th>...</th>\n",
       "      <td>...</td>\n",
       "      <td>...</td>\n",
       "      <td>...</td>\n",
       "      <td>...</td>\n",
       "      <td>...</td>\n",
       "      <td>...</td>\n",
       "      <td>...</td>\n",
       "      <td>...</td>\n",
       "      <td>...</td>\n",
       "      <td>...</td>\n",
       "      <td>...</td>\n",
       "    </tr>\n",
       "    <tr>\n",
       "      <th>7495</th>\n",
       "      <td>549</td>\n",
       "      <td>31</td>\n",
       "      <td>4</td>\n",
       "      <td>0.00</td>\n",
       "      <td>2</td>\n",
       "      <td>0</td>\n",
       "      <td>1</td>\n",
       "      <td>25684.85</td>\n",
       "      <td>0</td>\n",
       "      <td>0</td>\n",
       "      <td>1</td>\n",
       "    </tr>\n",
       "    <tr>\n",
       "      <th>7496</th>\n",
       "      <td>513</td>\n",
       "      <td>29</td>\n",
       "      <td>10</td>\n",
       "      <td>0.00</td>\n",
       "      <td>2</td>\n",
       "      <td>0</td>\n",
       "      <td>1</td>\n",
       "      <td>25514.77</td>\n",
       "      <td>0</td>\n",
       "      <td>0</td>\n",
       "      <td>1</td>\n",
       "    </tr>\n",
       "    <tr>\n",
       "      <th>7497</th>\n",
       "      <td>655</td>\n",
       "      <td>45</td>\n",
       "      <td>1</td>\n",
       "      <td>57327.04</td>\n",
       "      <td>1</td>\n",
       "      <td>0</td>\n",
       "      <td>1</td>\n",
       "      <td>47349.00</td>\n",
       "      <td>0</td>\n",
       "      <td>0</td>\n",
       "      <td>0</td>\n",
       "    </tr>\n",
       "    <tr>\n",
       "      <th>7498</th>\n",
       "      <td>667</td>\n",
       "      <td>24</td>\n",
       "      <td>4</td>\n",
       "      <td>0.00</td>\n",
       "      <td>2</td>\n",
       "      <td>0</td>\n",
       "      <td>1</td>\n",
       "      <td>34335.55</td>\n",
       "      <td>0</td>\n",
       "      <td>0</td>\n",
       "      <td>0</td>\n",
       "    </tr>\n",
       "    <tr>\n",
       "      <th>7499</th>\n",
       "      <td>691</td>\n",
       "      <td>38</td>\n",
       "      <td>1</td>\n",
       "      <td>0.00</td>\n",
       "      <td>2</td>\n",
       "      <td>0</td>\n",
       "      <td>0</td>\n",
       "      <td>44653.50</td>\n",
       "      <td>0</td>\n",
       "      <td>0</td>\n",
       "      <td>1</td>\n",
       "    </tr>\n",
       "  </tbody>\n",
       "</table>\n",
       "<p>7500 rows × 11 columns</p>\n",
       "</div>"
      ],
      "text/plain": [
       "      CreditScore  Age  Tenure    Balance  NumOfProducts  HasCrCard  \\\n",
       "0             694   30       9       0.00              2          1   \n",
       "1             621   36       7  116338.68              1          1   \n",
       "2             626   33       8       0.00              2          1   \n",
       "3             769   51       9  156773.78              2          1   \n",
       "4             718   26       3  147527.03              1          0   \n",
       "...           ...  ...     ...        ...            ...        ...   \n",
       "7495          549   31       4       0.00              2          0   \n",
       "7496          513   29      10       0.00              2          0   \n",
       "7497          655   45       1   57327.04              1          0   \n",
       "7498          667   24       4       0.00              2          0   \n",
       "7499          691   38       1       0.00              2          0   \n",
       "\n",
       "      IsActiveMember  EstimatedSalary  x0_Germany  x0_Spain  x1_Male  \n",
       "0                  1         26960.31           0         0        0  \n",
       "1                  1        155743.48           0         1        0  \n",
       "2                  0        138504.28           0         0        1  \n",
       "3                  0         40257.79           0         0        1  \n",
       "4                  0         51099.56           1         0        1  \n",
       "...              ...              ...         ...       ...      ...  \n",
       "7495               1         25684.85           0         0        1  \n",
       "7496               1         25514.77           0         0        1  \n",
       "7497               1         47349.00           0         0        0  \n",
       "7498               1         34335.55           0         0        0  \n",
       "7499               0         44653.50           0         0        1  \n",
       "\n",
       "[7500 rows x 11 columns]"
      ]
     },
     "execution_count": 31,
     "metadata": {},
     "output_type": "execute_result"
    }
   ],
   "source": [
    "feat_tr_ex"
   ]
  },
  {
   "cell_type": "code",
   "execution_count": 32,
   "metadata": {},
   "outputs": [
    {
     "data": {
      "text/html": [
       "<div>\n",
       "<style scoped>\n",
       "    .dataframe tbody tr th:only-of-type {\n",
       "        vertical-align: middle;\n",
       "    }\n",
       "\n",
       "    .dataframe tbody tr th {\n",
       "        vertical-align: top;\n",
       "    }\n",
       "\n",
       "    .dataframe thead th {\n",
       "        text-align: right;\n",
       "    }\n",
       "</style>\n",
       "<table border=\"1\" class=\"dataframe\">\n",
       "  <thead>\n",
       "    <tr style=\"text-align: right;\">\n",
       "      <th></th>\n",
       "      <th>CreditScore</th>\n",
       "      <th>Age</th>\n",
       "      <th>Tenure</th>\n",
       "      <th>Balance</th>\n",
       "      <th>NumOfProducts</th>\n",
       "      <th>HasCrCard</th>\n",
       "      <th>IsActiveMember</th>\n",
       "      <th>EstimatedSalary</th>\n",
       "      <th>x0_Germany</th>\n",
       "      <th>x0_Spain</th>\n",
       "      <th>x1_Male</th>\n",
       "    </tr>\n",
       "  </thead>\n",
       "  <tbody>\n",
       "    <tr>\n",
       "      <th>0</th>\n",
       "      <td>640</td>\n",
       "      <td>46</td>\n",
       "      <td>3</td>\n",
       "      <td>0.00</td>\n",
       "      <td>1</td>\n",
       "      <td>1</td>\n",
       "      <td>1</td>\n",
       "      <td>156260.08</td>\n",
       "      <td>0</td>\n",
       "      <td>1</td>\n",
       "      <td>0</td>\n",
       "    </tr>\n",
       "    <tr>\n",
       "      <th>1</th>\n",
       "      <td>757</td>\n",
       "      <td>29</td>\n",
       "      <td>8</td>\n",
       "      <td>130306.49</td>\n",
       "      <td>1</td>\n",
       "      <td>1</td>\n",
       "      <td>0</td>\n",
       "      <td>77469.38</td>\n",
       "      <td>0</td>\n",
       "      <td>0</td>\n",
       "      <td>1</td>\n",
       "    </tr>\n",
       "    <tr>\n",
       "      <th>2</th>\n",
       "      <td>807</td>\n",
       "      <td>42</td>\n",
       "      <td>5</td>\n",
       "      <td>0.00</td>\n",
       "      <td>2</td>\n",
       "      <td>1</td>\n",
       "      <td>1</td>\n",
       "      <td>74900.90</td>\n",
       "      <td>0</td>\n",
       "      <td>1</td>\n",
       "      <td>1</td>\n",
       "    </tr>\n",
       "    <tr>\n",
       "      <th>3</th>\n",
       "      <td>668</td>\n",
       "      <td>45</td>\n",
       "      <td>4</td>\n",
       "      <td>102486.21</td>\n",
       "      <td>2</td>\n",
       "      <td>1</td>\n",
       "      <td>1</td>\n",
       "      <td>158379.25</td>\n",
       "      <td>0</td>\n",
       "      <td>1</td>\n",
       "      <td>1</td>\n",
       "    </tr>\n",
       "    <tr>\n",
       "      <th>4</th>\n",
       "      <td>699</td>\n",
       "      <td>28</td>\n",
       "      <td>7</td>\n",
       "      <td>0.00</td>\n",
       "      <td>2</td>\n",
       "      <td>1</td>\n",
       "      <td>1</td>\n",
       "      <td>22684.78</td>\n",
       "      <td>0</td>\n",
       "      <td>0</td>\n",
       "      <td>1</td>\n",
       "    </tr>\n",
       "    <tr>\n",
       "      <th>...</th>\n",
       "      <td>...</td>\n",
       "      <td>...</td>\n",
       "      <td>...</td>\n",
       "      <td>...</td>\n",
       "      <td>...</td>\n",
       "      <td>...</td>\n",
       "      <td>...</td>\n",
       "      <td>...</td>\n",
       "      <td>...</td>\n",
       "      <td>...</td>\n",
       "      <td>...</td>\n",
       "    </tr>\n",
       "    <tr>\n",
       "      <th>2495</th>\n",
       "      <td>836</td>\n",
       "      <td>57</td>\n",
       "      <td>4</td>\n",
       "      <td>101247.06</td>\n",
       "      <td>1</td>\n",
       "      <td>1</td>\n",
       "      <td>0</td>\n",
       "      <td>37141.62</td>\n",
       "      <td>0</td>\n",
       "      <td>1</td>\n",
       "      <td>1</td>\n",
       "    </tr>\n",
       "    <tr>\n",
       "      <th>2496</th>\n",
       "      <td>790</td>\n",
       "      <td>41</td>\n",
       "      <td>7</td>\n",
       "      <td>109508.68</td>\n",
       "      <td>1</td>\n",
       "      <td>0</td>\n",
       "      <td>0</td>\n",
       "      <td>86776.38</td>\n",
       "      <td>0</td>\n",
       "      <td>1</td>\n",
       "      <td>0</td>\n",
       "    </tr>\n",
       "    <tr>\n",
       "      <th>2497</th>\n",
       "      <td>594</td>\n",
       "      <td>34</td>\n",
       "      <td>7</td>\n",
       "      <td>141525.55</td>\n",
       "      <td>1</td>\n",
       "      <td>0</td>\n",
       "      <td>0</td>\n",
       "      <td>9443.15</td>\n",
       "      <td>0</td>\n",
       "      <td>0</td>\n",
       "      <td>0</td>\n",
       "    </tr>\n",
       "    <tr>\n",
       "      <th>2498</th>\n",
       "      <td>490</td>\n",
       "      <td>40</td>\n",
       "      <td>6</td>\n",
       "      <td>156111.08</td>\n",
       "      <td>1</td>\n",
       "      <td>0</td>\n",
       "      <td>0</td>\n",
       "      <td>190889.13</td>\n",
       "      <td>0</td>\n",
       "      <td>1</td>\n",
       "      <td>1</td>\n",
       "    </tr>\n",
       "    <tr>\n",
       "      <th>2499</th>\n",
       "      <td>611</td>\n",
       "      <td>46</td>\n",
       "      <td>6</td>\n",
       "      <td>0.00</td>\n",
       "      <td>2</td>\n",
       "      <td>1</td>\n",
       "      <td>0</td>\n",
       "      <td>45886.33</td>\n",
       "      <td>0</td>\n",
       "      <td>1</td>\n",
       "      <td>1</td>\n",
       "    </tr>\n",
       "  </tbody>\n",
       "</table>\n",
       "<p>2500 rows × 11 columns</p>\n",
       "</div>"
      ],
      "text/plain": [
       "      CreditScore  Age  Tenure    Balance  NumOfProducts  HasCrCard  \\\n",
       "0             640   46       3       0.00              1          1   \n",
       "1             757   29       8  130306.49              1          1   \n",
       "2             807   42       5       0.00              2          1   \n",
       "3             668   45       4  102486.21              2          1   \n",
       "4             699   28       7       0.00              2          1   \n",
       "...           ...  ...     ...        ...            ...        ...   \n",
       "2495          836   57       4  101247.06              1          1   \n",
       "2496          790   41       7  109508.68              1          0   \n",
       "2497          594   34       7  141525.55              1          0   \n",
       "2498          490   40       6  156111.08              1          0   \n",
       "2499          611   46       6       0.00              2          1   \n",
       "\n",
       "      IsActiveMember  EstimatedSalary  x0_Germany  x0_Spain  x1_Male  \n",
       "0                  1        156260.08           0         1        0  \n",
       "1                  0         77469.38           0         0        1  \n",
       "2                  1         74900.90           0         1        1  \n",
       "3                  1        158379.25           0         1        1  \n",
       "4                  1         22684.78           0         0        1  \n",
       "...              ...              ...         ...       ...      ...  \n",
       "2495               0         37141.62           0         1        1  \n",
       "2496               0         86776.38           0         1        0  \n",
       "2497               0          9443.15           0         0        0  \n",
       "2498               0        190889.13           0         1        1  \n",
       "2499               0         45886.33           0         1        1  \n",
       "\n",
       "[2500 rows x 11 columns]"
      ]
     },
     "execution_count": 32,
     "metadata": {},
     "output_type": "execute_result"
    }
   ],
   "source": [
    "feat_te_ex"
   ]
  },
  {
   "cell_type": "markdown",
   "metadata": {},
   "source": [
    "### Масштабирование признаков"
   ]
  },
  {
   "cell_type": "markdown",
   "metadata": {},
   "source": [
    "Для того чтобы наиболее эффективно обучать линейные модели, необходимо масштабировать признаки (к слову сказать, для случайного леса или дерева решений стандартизация или нормализация не обязательно) при правильном масштабировании ухудшения метрик не случится.\n",
    "\n",
    "Стандартизировал численные признаки с помощью StandardScaler из модуля sklearn.preprocessing"
   ]
  },
  {
   "cell_type": "code",
   "execution_count": 33,
   "metadata": {},
   "outputs": [],
   "source": [
    "numeric = list(data.select_dtypes(['int', 'float']).columns) # 'uint8'\n",
    "numeric.remove('Exited')\n",
    "numeric.remove('IsActiveMember')\n",
    "\n",
    "scaler = StandardScaler()\n",
    "\n",
    "features_train[numeric] = scaler.fit_transform(features_train[numeric])\n",
    "features_test[numeric] = scaler.transform(features_test[numeric])"
   ]
  },
  {
   "cell_type": "code",
   "execution_count": 34,
   "metadata": {},
   "outputs": [
    {
     "data": {
      "text/html": [
       "<div>\n",
       "<style scoped>\n",
       "    .dataframe tbody tr th:only-of-type {\n",
       "        vertical-align: middle;\n",
       "    }\n",
       "\n",
       "    .dataframe tbody tr th {\n",
       "        vertical-align: top;\n",
       "    }\n",
       "\n",
       "    .dataframe thead th {\n",
       "        text-align: right;\n",
       "    }\n",
       "</style>\n",
       "<table border=\"1\" class=\"dataframe\">\n",
       "  <thead>\n",
       "    <tr style=\"text-align: right;\">\n",
       "      <th></th>\n",
       "      <th>CreditScore</th>\n",
       "      <th>Age</th>\n",
       "      <th>Tenure</th>\n",
       "      <th>Balance</th>\n",
       "      <th>HasCrCard</th>\n",
       "      <th>IsActiveMember</th>\n",
       "      <th>EstimatedSalary</th>\n",
       "      <th>Geography_Germany</th>\n",
       "      <th>Geography_Spain</th>\n",
       "      <th>Gender_Male</th>\n",
       "      <th>NumOfProductsOne</th>\n",
       "      <th>NumOfProductsTwo</th>\n",
       "      <th>NumOfProductsThree</th>\n",
       "      <th>NumOfProductsFour</th>\n",
       "    </tr>\n",
       "  </thead>\n",
       "  <tbody>\n",
       "    <tr>\n",
       "      <th>9137</th>\n",
       "      <td>-1.196834</td>\n",
       "      <td>-0.091441</td>\n",
       "      <td>-1.728794</td>\n",
       "      <td>0.961910</td>\n",
       "      <td>0.648425</td>\n",
       "      <td>0</td>\n",
       "      <td>-0.343673</td>\n",
       "      <td>0</td>\n",
       "      <td>0</td>\n",
       "      <td>0</td>\n",
       "      <td>1</td>\n",
       "      <td>0</td>\n",
       "      <td>0</td>\n",
       "      <td>0</td>\n",
       "    </tr>\n",
       "    <tr>\n",
       "      <th>1350</th>\n",
       "      <td>0.688283</td>\n",
       "      <td>0.195468</td>\n",
       "      <td>-0.695815</td>\n",
       "      <td>0.959302</td>\n",
       "      <td>0.648425</td>\n",
       "      <td>1</td>\n",
       "      <td>0.060084</td>\n",
       "      <td>0</td>\n",
       "      <td>0</td>\n",
       "      <td>0</td>\n",
       "      <td>1</td>\n",
       "      <td>0</td>\n",
       "      <td>0</td>\n",
       "      <td>0</td>\n",
       "    </tr>\n",
       "    <tr>\n",
       "      <th>7987</th>\n",
       "      <td>1.672273</td>\n",
       "      <td>-0.665260</td>\n",
       "      <td>-0.007162</td>\n",
       "      <td>0.915831</td>\n",
       "      <td>0.648425</td>\n",
       "      <td>0</td>\n",
       "      <td>-0.188275</td>\n",
       "      <td>0</td>\n",
       "      <td>0</td>\n",
       "      <td>1</td>\n",
       "      <td>0</td>\n",
       "      <td>1</td>\n",
       "      <td>0</td>\n",
       "      <td>0</td>\n",
       "    </tr>\n",
       "    <tr>\n",
       "      <th>9609</th>\n",
       "      <td>0.936870</td>\n",
       "      <td>-0.378351</td>\n",
       "      <td>-1.384468</td>\n",
       "      <td>-1.221564</td>\n",
       "      <td>0.648425</td>\n",
       "      <td>0</td>\n",
       "      <td>-1.104475</td>\n",
       "      <td>0</td>\n",
       "      <td>0</td>\n",
       "      <td>0</td>\n",
       "      <td>0</td>\n",
       "      <td>1</td>\n",
       "      <td>0</td>\n",
       "      <td>0</td>\n",
       "    </tr>\n",
       "    <tr>\n",
       "      <th>1446</th>\n",
       "      <td>-0.140340</td>\n",
       "      <td>-0.569624</td>\n",
       "      <td>-1.040141</td>\n",
       "      <td>1.119543</td>\n",
       "      <td>-1.542199</td>\n",
       "      <td>1</td>\n",
       "      <td>0.155696</td>\n",
       "      <td>0</td>\n",
       "      <td>0</td>\n",
       "      <td>1</td>\n",
       "      <td>1</td>\n",
       "      <td>0</td>\n",
       "      <td>0</td>\n",
       "      <td>0</td>\n",
       "    </tr>\n",
       "    <tr>\n",
       "      <th>...</th>\n",
       "      <td>...</td>\n",
       "      <td>...</td>\n",
       "      <td>...</td>\n",
       "      <td>...</td>\n",
       "      <td>...</td>\n",
       "      <td>...</td>\n",
       "      <td>...</td>\n",
       "      <td>...</td>\n",
       "      <td>...</td>\n",
       "      <td>...</td>\n",
       "      <td>...</td>\n",
       "      <td>...</td>\n",
       "      <td>...</td>\n",
       "      <td>...</td>\n",
       "    </tr>\n",
       "    <tr>\n",
       "      <th>7569</th>\n",
       "      <td>0.056458</td>\n",
       "      <td>-1.047806</td>\n",
       "      <td>1.025817</td>\n",
       "      <td>0.706941</td>\n",
       "      <td>0.648425</td>\n",
       "      <td>1</td>\n",
       "      <td>0.640500</td>\n",
       "      <td>0</td>\n",
       "      <td>1</td>\n",
       "      <td>1</td>\n",
       "      <td>1</td>\n",
       "      <td>0</td>\n",
       "      <td>0</td>\n",
       "      <td>0</td>\n",
       "    </tr>\n",
       "    <tr>\n",
       "      <th>3484</th>\n",
       "      <td>1.382255</td>\n",
       "      <td>-1.047806</td>\n",
       "      <td>-1.040141</td>\n",
       "      <td>-0.093295</td>\n",
       "      <td>0.648425</td>\n",
       "      <td>1</td>\n",
       "      <td>1.370280</td>\n",
       "      <td>1</td>\n",
       "      <td>0</td>\n",
       "      <td>1</td>\n",
       "      <td>0</td>\n",
       "      <td>1</td>\n",
       "      <td>0</td>\n",
       "      <td>0</td>\n",
       "    </tr>\n",
       "    <tr>\n",
       "      <th>9784</th>\n",
       "      <td>-1.279696</td>\n",
       "      <td>0.004195</td>\n",
       "      <td>-0.351488</td>\n",
       "      <td>-1.221564</td>\n",
       "      <td>0.648425</td>\n",
       "      <td>0</td>\n",
       "      <td>1.160957</td>\n",
       "      <td>0</td>\n",
       "      <td>0</td>\n",
       "      <td>1</td>\n",
       "      <td>0</td>\n",
       "      <td>1</td>\n",
       "      <td>0</td>\n",
       "      <td>0</td>\n",
       "    </tr>\n",
       "    <tr>\n",
       "      <th>6225</th>\n",
       "      <td>-0.544293</td>\n",
       "      <td>-0.665260</td>\n",
       "      <td>-1.040141</td>\n",
       "      <td>0.769446</td>\n",
       "      <td>0.648425</td>\n",
       "      <td>0</td>\n",
       "      <td>1.710925</td>\n",
       "      <td>1</td>\n",
       "      <td>0</td>\n",
       "      <td>1</td>\n",
       "      <td>0</td>\n",
       "      <td>1</td>\n",
       "      <td>0</td>\n",
       "      <td>0</td>\n",
       "    </tr>\n",
       "    <tr>\n",
       "      <th>2594</th>\n",
       "      <td>-1.176118</td>\n",
       "      <td>0.769287</td>\n",
       "      <td>0.337164</td>\n",
       "      <td>0.435702</td>\n",
       "      <td>0.648425</td>\n",
       "      <td>0</td>\n",
       "      <td>-1.456500</td>\n",
       "      <td>1</td>\n",
       "      <td>0</td>\n",
       "      <td>0</td>\n",
       "      <td>1</td>\n",
       "      <td>0</td>\n",
       "      <td>0</td>\n",
       "      <td>0</td>\n",
       "    </tr>\n",
       "  </tbody>\n",
       "</table>\n",
       "<p>7500 rows × 14 columns</p>\n",
       "</div>"
      ],
      "text/plain": [
       "      CreditScore       Age    Tenure   Balance  HasCrCard  IsActiveMember  \\\n",
       "9137    -1.196834 -0.091441 -1.728794  0.961910   0.648425               0   \n",
       "1350     0.688283  0.195468 -0.695815  0.959302   0.648425               1   \n",
       "7987     1.672273 -0.665260 -0.007162  0.915831   0.648425               0   \n",
       "9609     0.936870 -0.378351 -1.384468 -1.221564   0.648425               0   \n",
       "1446    -0.140340 -0.569624 -1.040141  1.119543  -1.542199               1   \n",
       "...           ...       ...       ...       ...        ...             ...   \n",
       "7569     0.056458 -1.047806  1.025817  0.706941   0.648425               1   \n",
       "3484     1.382255 -1.047806 -1.040141 -0.093295   0.648425               1   \n",
       "9784    -1.279696  0.004195 -0.351488 -1.221564   0.648425               0   \n",
       "6225    -0.544293 -0.665260 -1.040141  0.769446   0.648425               0   \n",
       "2594    -1.176118  0.769287  0.337164  0.435702   0.648425               0   \n",
       "\n",
       "      EstimatedSalary  Geography_Germany  Geography_Spain  Gender_Male  \\\n",
       "9137        -0.343673                  0                0            0   \n",
       "1350         0.060084                  0                0            0   \n",
       "7987        -0.188275                  0                0            1   \n",
       "9609        -1.104475                  0                0            0   \n",
       "1446         0.155696                  0                0            1   \n",
       "...               ...                ...              ...          ...   \n",
       "7569         0.640500                  0                1            1   \n",
       "3484         1.370280                  1                0            1   \n",
       "9784         1.160957                  0                0            1   \n",
       "6225         1.710925                  1                0            1   \n",
       "2594        -1.456500                  1                0            0   \n",
       "\n",
       "      NumOfProductsOne  NumOfProductsTwo  NumOfProductsThree  \\\n",
       "9137                 1                 0                   0   \n",
       "1350                 1                 0                   0   \n",
       "7987                 0                 1                   0   \n",
       "9609                 0                 1                   0   \n",
       "1446                 1                 0                   0   \n",
       "...                ...               ...                 ...   \n",
       "7569                 1                 0                   0   \n",
       "3484                 0                 1                   0   \n",
       "9784                 0                 1                   0   \n",
       "6225                 0                 1                   0   \n",
       "2594                 1                 0                   0   \n",
       "\n",
       "      NumOfProductsFour  \n",
       "9137                  0  \n",
       "1350                  0  \n",
       "7987                  0  \n",
       "9609                  0  \n",
       "1446                  0  \n",
       "...                 ...  \n",
       "7569                  0  \n",
       "3484                  0  \n",
       "9784                  0  \n",
       "6225                  0  \n",
       "2594                  0  \n",
       "\n",
       "[7500 rows x 14 columns]"
      ]
     },
     "execution_count": 34,
     "metadata": {},
     "output_type": "execute_result"
    }
   ],
   "source": [
    "features_train"
   ]
  },
  {
   "cell_type": "markdown",
   "metadata": {},
   "source": [
    "### Вывод"
   ]
  },
  {
   "cell_type": "markdown",
   "metadata": {},
   "source": [
    "Подготавливая признаки к обучению удалил некоторые столбцы, например, с фамилией, с номером строки (так как это лишняя информация) и скорее всего, удалю (или уже удалил, в будущем, из-за того что это улучшило метрики дальнейшей работы) столбец, обозначащюий пол (провел поверхностное исследование классов этого столбца). Заполнил пропуски случайными числами с разными вероятностями в зависимости от их встречаемости в датасете, чтобы не сильно искажать статистику в этом столбце (стандартное отклонение которого почти не изменилось), это позволило сохранить 9 процентов строк с более важными признаками\n",
    "\n",
    "В некоторых признаках (`CreditScore` и `Age`) замечены выбросы, возможно, стандартизация покажет лучший результат\n",
    "\n",
    "Численные признаки были отмасштабированы методом StandardScaler из модуля sklearn.preprocessing"
   ]
  },
  {
   "cell_type": "markdown",
   "metadata": {},
   "source": [
    "## Исследование задачи"
   ]
  },
  {
   "cell_type": "code",
   "execution_count": 35,
   "metadata": {},
   "outputs": [
    {
     "data": {
      "image/png": "[encoded data removed]",
      "text/plain": [
       "<Figure size 432x288 with 1 Axes>"
      ]
     },
     "metadata": {
      "needs_background": "light"
     },
     "output_type": "display_data"
    }
   ],
   "source": [
    "data['Exited'].value_counts(normalize=True).plot(kind='bar', grid=True);"
   ]
  },
  {
   "cell_type": "markdown",
   "metadata": {},
   "source": [
    "Почти ровно 20 процентов из всего датасета (из 10 тыс человек, 2 тыс ушли), наблюдается явный дисбаланс классов. "
   ]
  },
  {
   "cell_type": "code",
   "execution_count": 36,
   "metadata": {},
   "outputs": [
    {
     "data": {
      "text/plain": [
       "(7500, 14)"
      ]
     },
     "metadata": {},
     "output_type": "display_data"
    },
    {
     "data": {
      "text/plain": [
       "(2500, 14)"
      ]
     },
     "metadata": {},
     "output_type": "display_data"
    }
   ],
   "source": [
    "display(features_train.shape, features_test.shape)"
   ]
  },
  {
   "cell_type": "markdown",
   "metadata": {},
   "source": [
    "### Модель случайный лес"
   ]
  },
  {
   "cell_type": "code",
   "execution_count": 37,
   "metadata": {},
   "outputs": [
    {
     "name": "stdout",
     "output_type": "stream",
     "text": [
      "F1 on VALID: 0.5173\n",
      "AUC-ROC on VALID: 0.8556\n",
      "n_estimators        110\n",
      "min_samples_leaf      4\n",
      "max_depth             7\n",
      "dtype: int64\n",
      "CPU times: user 2.82 s, sys: 15.5 ms, total: 2.83 s\n",
      "Wall time: 2.84 s\n"
     ]
    }
   ],
   "source": [
    "%%time\n",
    "\n",
    "parameters = {\n",
    "    'n_estimators': range(50, 121, 5),\n",
    "    'max_depth': range(2, 25),\n",
    "    'min_samples_leaf': range(1, 7)\n",
    "}\n",
    "\n",
    "model_random_forest = RandomForestClassifier(random_state=12345)\n",
    "\n",
    "metrics = ['f1', 'roc_auc']\n",
    "\n",
    "search = RandomizedSearchCV(model_random_forest, parameters, n_iter=1, cv=5, scoring=metrics, refit='f1')\n",
    "search.fit(features_train, target_train)\n",
    "results = search.cv_results_\n",
    "\n",
    "print('F1 on VALID:', '%.4f' %search.best_score_)\n",
    "print('AUC-ROC on VALID:', '%.4f' %results['mean_test_roc_auc'].mean())\n",
    "print(pd.Series(search.best_params_))"
   ]
  },
  {
   "cell_type": "markdown",
   "metadata": {},
   "source": [
    "F1-мера на валидационных данных - 0.5603 (в моей итерации, с текущим std и гиперпараметрами), этого недостаточно для соблюдения условиия (>=0.59), показатель AUC-ROC - 0.8465\n",
    "\n",
    "Случайно были подобраны параметры:\n",
    "\n",
    "n_estimators        95\n",
    "\n",
    "min_samples_leaf     2\n",
    "\n",
    "max_depth           15"
   ]
  },
  {
   "cell_type": "code",
   "execution_count": 38,
   "metadata": {},
   "outputs": [
    {
     "name": "stdout",
     "output_type": "stream",
     "text": [
      "F1 on VALID: 0.4744\n",
      "AUC-ROC on VALID: 0.8274\n",
      "max_iter    846\n",
      "dtype: int64\n"
     ]
    }
   ],
   "source": [
    "parameters = {\n",
    "    'max_iter': range(100, 1000)\n",
    "}\n",
    "\n",
    "model_logistic_regression = LogisticRegression(random_state=12345, solver='liblinear')\n",
    "\n",
    "metrics = ['f1', 'roc_auc']\n",
    "\n",
    "search = RandomizedSearchCV(model_logistic_regression, parameters, n_iter=1, cv=3, scoring=metrics, refit='f1')\n",
    "search.fit(features_train, target_train)\n",
    "results = search.cv_results_\n",
    "\n",
    "print('F1 on VALID:', '%.4f' %search.best_score_)\n",
    "print('AUC-ROC on VALID:', '%.4f' %results['mean_test_roc_auc'].mean())\n",
    "print(pd.Series(search.best_params_))"
   ]
  },
  {
   "cell_type": "markdown",
   "metadata": {},
   "source": [
    "### Вывод"
   ]
  },
  {
   "cell_type": "markdown",
   "metadata": {},
   "source": [
    "Разделил на две выборки для дальнейшего подбора гиперпараметров с помощью перекрестной проверки, это черновой вариант - наброски окончательной модели, далее, обучил модель без учета дисбаланса, результат неудовлетворительный. Необходимо дополнительно исследовать дисбаланс классов в целевом признаке и решить ее."
   ]
  },
  {
   "cell_type": "markdown",
   "metadata": {},
   "source": [
    "## Борьба с дисбалансом"
   ]
  },
  {
   "cell_type": "markdown",
   "metadata": {},
   "source": [
    "### Взвешивание классов"
   ]
  },
  {
   "cell_type": "markdown",
   "metadata": {},
   "source": [
    "#### Случайный лес"
   ]
  },
  {
   "cell_type": "markdown",
   "metadata": {},
   "source": [
    "Сначала, обучил случайный лес без дисбаланса целевого признака (class_weight='balanced') чтобы посмотреть на результат"
   ]
  },
  {
   "cell_type": "code",
   "execution_count": 39,
   "metadata": {},
   "outputs": [
    {
     "name": "stdout",
     "output_type": "stream",
     "text": [
      "F1 on VALID: 0.6128\n",
      "AUC-ROC on VALID: 0.8522\n",
      "n_estimators        165\n",
      "min_samples_leaf      3\n",
      "max_depth            12\n",
      "dtype: int64\n"
     ]
    }
   ],
   "source": [
    "parameters = {\n",
    "    'n_estimators': range(50, 251, 5),\n",
    "    'max_depth': range(2, 30),\n",
    "    'min_samples_leaf': range(1, 6)\n",
    "}\n",
    "\n",
    "model_random_forest = RandomForestRegressor(random_state=12345, class_weight='balanced')\n",
    "\n",
    "metrics = ['f1', 'roc_auc']\n",
    "\n",
    "search = RandomizedSearchCV(model_random_forest, parameters, n_iter=1, cv=3, scoring=metrics, refit='f1')\n",
    "search.fit(features_train, target_train)\n",
    "results = search.cv_results_\n",
    "\n",
    "print('F1 on VALID:', '%.4f' %search.best_score_)\n",
    "print('AUC-ROC on VALID:', '%.4f' %results['mean_test_roc_auc'].mean())\n",
    "print(pd.Series(search.best_params_))"
   ]
  },
  {
   "cell_type": "markdown",
   "metadata": {},
   "source": [
    "F1 на валиде - 0.6175, AUC-ROC - 0.8508\n",
    "\n",
    "Случайно были подобраны параметры:\n",
    "\n",
    "n_estimators        130\n",
    "\n",
    "min_samples_leaf      4\n",
    "\n",
    "max_depth            12"
   ]
  },
  {
   "cell_type": "markdown",
   "metadata": {},
   "source": [
    "#### Логистическая регрессия"
   ]
  },
  {
   "cell_type": "markdown",
   "metadata": {},
   "source": [
    "Для логистической регресси численные признаки отмасшатабированы (не знаю, считать ли численными признаки с типом uint8 или нет для линейных моделей?), теперь необходимо решить проблему дисбаланса целевого признака для линейных моделей (сначала простой class_weight='balanced'):"
   ]
  },
  {
   "cell_type": "code",
   "execution_count": 40,
   "metadata": {},
   "outputs": [
    {
     "name": "stdout",
     "output_type": "stream",
     "text": [
      "F1 on VALID: 0.5600\n",
      "AUC-ROC on VALID: 0.8282\n",
      "max_iter    200\n",
      "dtype: int64\n",
      "CPU times: user 225 ms, sys: 361 ms, total: 586 ms\n",
      "Wall time: 589 ms\n"
     ]
    }
   ],
   "source": [
    "%%time\n",
    "\n",
    "parameters = {\n",
    "    'max_iter': range(100, 1000)\n",
    "}\n",
    "\n",
    "model_logistic_regression = LogisticRegression(random_state=12345, solver='liblinear', class_weight='balanced')\n",
    "\n",
    "metrics = ['f1', 'roc_auc']\n",
    "\n",
    "search = RandomizedSearchCV(model_logistic_regression, parameters, n_iter=1, cv=3, scoring=metrics, refit='f1')\n",
    "search.fit(features_train, target_train)\n",
    "results = search.cv_results_\n",
    "\n",
    "print('F1 on VALID:', '%.4f' %search.best_score_)\n",
    "print('AUC-ROC on VALID:', '%.4f' %results['mean_test_roc_auc'].mean())\n",
    "print(pd.Series(search.best_params_))"
   ]
  },
  {
   "cell_type": "markdown",
   "metadata": {},
   "source": [
    "F1 on VALID: 0.4854\n",
    "\n",
    "AUC-ROC on VALID: 0.7680\n",
    "\n",
    "max_iter    469"
   ]
  },
  {
   "cell_type": "markdown",
   "metadata": {},
   "source": [
    "F1 on VALID: 0.8450\n",
    "\n",
    "AUC-ROC on VALID: 0.7720\n",
    "\n",
    "max_iter    202\n",
    "\n",
    "Вероятно, имеет место какая-то ошибка (сомневаюсь, что можно получить значение f1-меры выше 0.61 с моими текущими знаниями).\n",
    "\n",
    "Значение F1 слишком высокое, я бы мог поверить, если бы это была не логистическая регрессия (все равно, провею на тесте данную модель..."
   ]
  },
  {
   "cell_type": "markdown",
   "metadata": {},
   "source": [
    "### Изменение порога вероятности"
   ]
  },
  {
   "cell_type": "markdown",
   "metadata": {},
   "source": [
    "Суть в следующем: получаем вероятности классов с помощью функции predict_proba(), затем присваиваем самостоятельно класс в зависимости от установленной вероятности. \n",
    "\n",
    "Задача поглядеть как порог влияет на полноту и точность (чтобы подобрать наилучший баланс для гармонической средней меж ними - f1). Для этого сначала получил валидационную выборку (чтобы от нее считать пороги вероятностей и установить ее, чтобы потом проверить на тестовой), а для этого необходимо по-новой разделить на выборки, только теперь уже на три (обучение, валид, тест) с соотношением 3:1:1, так как далее кросс-валидации нет (параметры уже подобраны), но есть работа с моделью и предсказаниями"
   ]
  },
  {
   "cell_type": "code",
   "execution_count": 41,
   "metadata": {},
   "outputs": [],
   "source": [
    "# Прошу прощения за не совсем чистый код, надеюсь, я не вызвал слишком большую путаницу, \n",
    "# проверять код другого программиста - тяжелое занятие, а программиста-новичка тем более.\n",
    "# Так как пишу один, а не в команде, то предоставлен сам себе, сам выбираю названия переменных, план написания, исследования...\n",
    "train, test_valid = train_test_split(\n",
    "    data, test_size=.40, random_state=12345)\n",
    "\n",
    "test, valid = train_test_split(\n",
    "    test_valid, test_size=.50, random_state=12345)\n",
    "\n",
    "target_train = train['Exited']\n",
    "features_train = train.drop('Exited', axis=1)\n",
    "\n",
    "target_valid = valid['Exited']\n",
    "features_valid = valid.drop('Exited', axis=1)\n",
    "\n",
    "target_test = test['Exited']\n",
    "features_test = test.drop('Exited', axis=1)"
   ]
  },
  {
   "cell_type": "code",
   "execution_count": 42,
   "metadata": {},
   "outputs": [],
   "source": [
    "numeric = list(data.select_dtypes(['int', 'float']).columns) # 'uint8'\n",
    "numeric.remove('Exited')\n",
    "numeric.remove('IsActiveMember')\n",
    "\n",
    "scaler = StandardScaler()\n",
    "\n",
    "features_train[numeric] = scaler.fit_transform(features_train[numeric])\n",
    "features_test[numeric] = scaler.transform(features_test[numeric])"
   ]
  },
  {
   "cell_type": "code",
   "execution_count": 43,
   "metadata": {},
   "outputs": [
    {
     "data": {
      "text/html": [
       "<div>\n",
       "<style scoped>\n",
       "    .dataframe tbody tr th:only-of-type {\n",
       "        vertical-align: middle;\n",
       "    }\n",
       "\n",
       "    .dataframe tbody tr th {\n",
       "        vertical-align: top;\n",
       "    }\n",
       "\n",
       "    .dataframe thead th {\n",
       "        text-align: right;\n",
       "    }\n",
       "</style>\n",
       "<table border=\"1\" class=\"dataframe\">\n",
       "  <thead>\n",
       "    <tr style=\"text-align: right;\">\n",
       "      <th></th>\n",
       "      <th>CreditScore</th>\n",
       "      <th>Age</th>\n",
       "      <th>Tenure</th>\n",
       "      <th>Balance</th>\n",
       "      <th>HasCrCard</th>\n",
       "      <th>IsActiveMember</th>\n",
       "      <th>EstimatedSalary</th>\n",
       "      <th>Geography_Germany</th>\n",
       "      <th>Geography_Spain</th>\n",
       "      <th>Gender_Male</th>\n",
       "      <th>NumOfProductsOne</th>\n",
       "      <th>NumOfProductsTwo</th>\n",
       "      <th>NumOfProductsThree</th>\n",
       "      <th>NumOfProductsFour</th>\n",
       "    </tr>\n",
       "  </thead>\n",
       "  <tbody>\n",
       "    <tr>\n",
       "      <th>7479</th>\n",
       "      <td>-0.886751</td>\n",
       "      <td>-0.373192</td>\n",
       "      <td>1.029948</td>\n",
       "      <td>1.232271</td>\n",
       "      <td>0.642466</td>\n",
       "      <td>0</td>\n",
       "      <td>-0.187705</td>\n",
       "      <td>0</td>\n",
       "      <td>1</td>\n",
       "      <td>1</td>\n",
       "      <td>1</td>\n",
       "      <td>0</td>\n",
       "      <td>0</td>\n",
       "      <td>0</td>\n",
       "    </tr>\n",
       "    <tr>\n",
       "      <th>3411</th>\n",
       "      <td>0.608663</td>\n",
       "      <td>-0.183385</td>\n",
       "      <td>1.029948</td>\n",
       "      <td>0.600563</td>\n",
       "      <td>-1.556504</td>\n",
       "      <td>0</td>\n",
       "      <td>-0.333945</td>\n",
       "      <td>0</td>\n",
       "      <td>0</td>\n",
       "      <td>0</td>\n",
       "      <td>1</td>\n",
       "      <td>0</td>\n",
       "      <td>0</td>\n",
       "      <td>0</td>\n",
       "    </tr>\n",
       "    <tr>\n",
       "      <th>6027</th>\n",
       "      <td>2.052152</td>\n",
       "      <td>0.480939</td>\n",
       "      <td>-0.703193</td>\n",
       "      <td>1.027098</td>\n",
       "      <td>-1.556504</td>\n",
       "      <td>1</td>\n",
       "      <td>1.503095</td>\n",
       "      <td>1</td>\n",
       "      <td>0</td>\n",
       "      <td>1</td>\n",
       "      <td>0</td>\n",
       "      <td>1</td>\n",
       "      <td>0</td>\n",
       "      <td>0</td>\n",
       "    </tr>\n",
       "    <tr>\n",
       "      <th>1247</th>\n",
       "      <td>-1.457915</td>\n",
       "      <td>-1.417129</td>\n",
       "      <td>0.336692</td>\n",
       "      <td>-1.233163</td>\n",
       "      <td>0.642466</td>\n",
       "      <td>0</td>\n",
       "      <td>-1.071061</td>\n",
       "      <td>0</td>\n",
       "      <td>0</td>\n",
       "      <td>1</td>\n",
       "      <td>0</td>\n",
       "      <td>1</td>\n",
       "      <td>0</td>\n",
       "      <td>0</td>\n",
       "    </tr>\n",
       "    <tr>\n",
       "      <th>3716</th>\n",
       "      <td>0.130961</td>\n",
       "      <td>-1.132419</td>\n",
       "      <td>-1.049822</td>\n",
       "      <td>1.140475</td>\n",
       "      <td>-1.556504</td>\n",
       "      <td>0</td>\n",
       "      <td>1.524268</td>\n",
       "      <td>1</td>\n",
       "      <td>0</td>\n",
       "      <td>0</td>\n",
       "      <td>1</td>\n",
       "      <td>0</td>\n",
       "      <td>0</td>\n",
       "      <td>0</td>\n",
       "    </tr>\n",
       "    <tr>\n",
       "      <th>...</th>\n",
       "      <td>...</td>\n",
       "      <td>...</td>\n",
       "      <td>...</td>\n",
       "      <td>...</td>\n",
       "      <td>...</td>\n",
       "      <td>...</td>\n",
       "      <td>...</td>\n",
       "      <td>...</td>\n",
       "      <td>...</td>\n",
       "      <td>...</td>\n",
       "      <td>...</td>\n",
       "      <td>...</td>\n",
       "      <td>...</td>\n",
       "      <td>...</td>\n",
       "    </tr>\n",
       "    <tr>\n",
       "      <th>4478</th>\n",
       "      <td>-1.073677</td>\n",
       "      <td>-0.752805</td>\n",
       "      <td>-0.356565</td>\n",
       "      <td>-1.233163</td>\n",
       "      <td>-1.556504</td>\n",
       "      <td>1</td>\n",
       "      <td>-1.278361</td>\n",
       "      <td>0</td>\n",
       "      <td>0</td>\n",
       "      <td>1</td>\n",
       "      <td>0</td>\n",
       "      <td>1</td>\n",
       "      <td>0</td>\n",
       "      <td>0</td>\n",
       "    </tr>\n",
       "    <tr>\n",
       "      <th>4094</th>\n",
       "      <td>-1.447531</td>\n",
       "      <td>-0.942612</td>\n",
       "      <td>1.723205</td>\n",
       "      <td>-1.233163</td>\n",
       "      <td>-1.556504</td>\n",
       "      <td>1</td>\n",
       "      <td>-1.281307</td>\n",
       "      <td>0</td>\n",
       "      <td>0</td>\n",
       "      <td>1</td>\n",
       "      <td>0</td>\n",
       "      <td>1</td>\n",
       "      <td>0</td>\n",
       "      <td>0</td>\n",
       "    </tr>\n",
       "    <tr>\n",
       "      <th>3492</th>\n",
       "      <td>0.027113</td>\n",
       "      <td>0.575842</td>\n",
       "      <td>-1.396450</td>\n",
       "      <td>-0.310229</td>\n",
       "      <td>-1.556504</td>\n",
       "      <td>1</td>\n",
       "      <td>-0.903158</td>\n",
       "      <td>0</td>\n",
       "      <td>0</td>\n",
       "      <td>0</td>\n",
       "      <td>1</td>\n",
       "      <td>0</td>\n",
       "      <td>0</td>\n",
       "      <td>0</td>\n",
       "    </tr>\n",
       "    <tr>\n",
       "      <th>2177</th>\n",
       "      <td>0.151731</td>\n",
       "      <td>-1.417129</td>\n",
       "      <td>-0.356565</td>\n",
       "      <td>-1.233163</td>\n",
       "      <td>-1.556504</td>\n",
       "      <td>1</td>\n",
       "      <td>-1.128539</td>\n",
       "      <td>0</td>\n",
       "      <td>0</td>\n",
       "      <td>0</td>\n",
       "      <td>0</td>\n",
       "      <td>1</td>\n",
       "      <td>0</td>\n",
       "      <td>0</td>\n",
       "    </tr>\n",
       "    <tr>\n",
       "      <th>4578</th>\n",
       "      <td>0.400966</td>\n",
       "      <td>-0.088482</td>\n",
       "      <td>-1.396450</td>\n",
       "      <td>-1.233163</td>\n",
       "      <td>-1.556504</td>\n",
       "      <td>0</td>\n",
       "      <td>-0.949841</td>\n",
       "      <td>0</td>\n",
       "      <td>0</td>\n",
       "      <td>1</td>\n",
       "      <td>0</td>\n",
       "      <td>1</td>\n",
       "      <td>0</td>\n",
       "      <td>0</td>\n",
       "    </tr>\n",
       "  </tbody>\n",
       "</table>\n",
       "<p>6000 rows × 14 columns</p>\n",
       "</div>"
      ],
      "text/plain": [
       "      CreditScore       Age    Tenure   Balance  HasCrCard  IsActiveMember  \\\n",
       "7479    -0.886751 -0.373192  1.029948  1.232271   0.642466               0   \n",
       "3411     0.608663 -0.183385  1.029948  0.600563  -1.556504               0   \n",
       "6027     2.052152  0.480939 -0.703193  1.027098  -1.556504               1   \n",
       "1247    -1.457915 -1.417129  0.336692 -1.233163   0.642466               0   \n",
       "3716     0.130961 -1.132419 -1.049822  1.140475  -1.556504               0   \n",
       "...           ...       ...       ...       ...        ...             ...   \n",
       "4478    -1.073677 -0.752805 -0.356565 -1.233163  -1.556504               1   \n",
       "4094    -1.447531 -0.942612  1.723205 -1.233163  -1.556504               1   \n",
       "3492     0.027113  0.575842 -1.396450 -0.310229  -1.556504               1   \n",
       "2177     0.151731 -1.417129 -0.356565 -1.233163  -1.556504               1   \n",
       "4578     0.400966 -0.088482 -1.396450 -1.233163  -1.556504               0   \n",
       "\n",
       "      EstimatedSalary  Geography_Germany  Geography_Spain  Gender_Male  \\\n",
       "7479        -0.187705                  0                1            1   \n",
       "3411        -0.333945                  0                0            0   \n",
       "6027         1.503095                  1                0            1   \n",
       "1247        -1.071061                  0                0            1   \n",
       "3716         1.524268                  1                0            0   \n",
       "...               ...                ...              ...          ...   \n",
       "4478        -1.278361                  0                0            1   \n",
       "4094        -1.281307                  0                0            1   \n",
       "3492        -0.903158                  0                0            0   \n",
       "2177        -1.128539                  0                0            0   \n",
       "4578        -0.949841                  0                0            1   \n",
       "\n",
       "      NumOfProductsOne  NumOfProductsTwo  NumOfProductsThree  \\\n",
       "7479                 1                 0                   0   \n",
       "3411                 1                 0                   0   \n",
       "6027                 0                 1                   0   \n",
       "1247                 0                 1                   0   \n",
       "3716                 1                 0                   0   \n",
       "...                ...               ...                 ...   \n",
       "4478                 0                 1                   0   \n",
       "4094                 0                 1                   0   \n",
       "3492                 1                 0                   0   \n",
       "2177                 0                 1                   0   \n",
       "4578                 0                 1                   0   \n",
       "\n",
       "      NumOfProductsFour  \n",
       "7479                  0  \n",
       "3411                  0  \n",
       "6027                  0  \n",
       "1247                  0  \n",
       "3716                  0  \n",
       "...                 ...  \n",
       "4478                  0  \n",
       "4094                  0  \n",
       "3492                  0  \n",
       "2177                  0  \n",
       "4578                  0  \n",
       "\n",
       "[6000 rows x 14 columns]"
      ]
     },
     "execution_count": 43,
     "metadata": {},
     "output_type": "execute_result"
    }
   ],
   "source": [
    "features_train"
   ]
  },
  {
   "cell_type": "code",
   "execution_count": 44,
   "metadata": {},
   "outputs": [
    {
     "data": {
      "text/plain": [
       "(6000, 14)"
      ]
     },
     "metadata": {},
     "output_type": "display_data"
    },
    {
     "data": {
      "text/plain": [
       "(2000, 14)"
      ]
     },
     "metadata": {},
     "output_type": "display_data"
    },
    {
     "data": {
      "text/plain": [
       "(2000, 14)"
      ]
     },
     "metadata": {},
     "output_type": "display_data"
    }
   ],
   "source": [
    "display(features_train.shape, features_valid.shape, features_test.shape)"
   ]
  },
  {
   "cell_type": "markdown",
   "metadata": {},
   "source": [
    "#### Логистическая регрессия"
   ]
  },
  {
   "cell_type": "code",
   "execution_count": 45,
   "metadata": {},
   "outputs": [
    {
     "name": "stdout",
     "output_type": "stream",
     "text": [
      "Порог = 0.00 | Точность = 0.198, Полнота = 0.638, F1-метрика = 0.302\n"
     ]
    }
   ],
   "source": [
    "# параметры модели брал от результата кросс-валидаций\n",
    "model_forest = LogisticRegression(random_state=12345, solver='liblinear', max_iter=202)\n",
    "model_forest.fit(features_train, target_train)\n",
    "probabilities_valid = model_forest.predict_proba(features_valid)\n",
    "probabilities_one_valid = probabilities_valid[:, 1]\n",
    "\n",
    "best_f1_score = 0\n",
    "best_threshold = 0\n",
    "best_precision = 0\n",
    "for threshold in np.arange(0, 1, 0.02):\n",
    "    predicted_valid = probabilities_one_valid > threshold\n",
    "    precision = precision_score(target_valid, predicted_valid)\n",
    "    recall = recall_score(target_valid, predicted_valid)\n",
    "    f1_metric = (2 * precision * recall) / (precision + recall)\n",
    "    \n",
    "    if f1_metric > best_f1_score:\n",
    "        best_f1_score = f1_metric\n",
    "        best_threshold = threshold\n",
    "        best_precision = precision\n",
    "        best_recall = recall\n",
    "\n",
    "print(\"Порог = {:.2f} | Точность = {:.3f}, Полнота = {:.3f}, F1-метрика = {:.3f}\".format(\n",
    "    best_threshold, best_precision, best_recall, best_f1_score))"
   ]
  },
  {
   "cell_type": "markdown",
   "metadata": {},
   "source": [
    "Метрика слабо отличается от случайной, перешел к другой модели - случайный лес"
   ]
  },
  {
   "cell_type": "markdown",
   "metadata": {},
   "source": [
    "#### Случайный лес"
   ]
  },
  {
   "cell_type": "code",
   "execution_count": 46,
   "metadata": {},
   "outputs": [
    {
     "name": "stdout",
     "output_type": "stream",
     "text": [
      "Порог = 0.48 | Точность = 0.427, Полнота = 0.560, F1-метрика = 0.485\n"
     ]
    }
   ],
   "source": [
    "# параметры модели брал от результата кросс-валидации\n",
    "model_forest = RandomForestClassifier(random_state=12345, n_estimators=165, min_samples_leaf=4, max_depth=10)\n",
    "model_forest.fit(features_train, target_train)\n",
    "probabilities_valid = model_forest.predict_proba(features_valid)\n",
    "probabilities_one_valid = probabilities_valid[:, 1]\n",
    "\n",
    "best_f1_score = 0\n",
    "best_threshold = 0\n",
    "best_precision = 0\n",
    "for threshold in np.arange(0, 1, 0.02):\n",
    "    predicted_valid = probabilities_one_valid > threshold\n",
    "    precision = precision_score(target_valid, predicted_valid)\n",
    "    recall = recall_score(target_valid, predicted_valid)\n",
    "    f1_metric = (2 * precision * recall) / (precision + recall)\n",
    "    \n",
    "    if f1_metric > best_f1_score:\n",
    "        best_f1_score = f1_metric\n",
    "        best_threshold = threshold\n",
    "        best_precision = precision\n",
    "        best_recall = recall\n",
    "\n",
    "print(\"Порог = {:.2f} | Точность = {:.3f}, Полнота = {:.3f}, F1-метрика = {:.3f}\".format(\n",
    "    best_threshold, best_precision, best_recall, best_f1_score))"
   ]
  },
  {
   "cell_type": "markdown",
   "metadata": {},
   "source": [
    "Есть возможность увеличить метрику F1 до 0.62 при вероятности положительного класса - 0.34. Чтобы избежать написания функции, которая самостоятельно присваивает нули и единички классу, сначала попробовал изменить вес класса, с помощью параметра class_weight:"
   ]
  },
  {
   "cell_type": "code",
   "execution_count": 47,
   "metadata": {},
   "outputs": [],
   "source": [
    "best_f1_score = 0.0\n",
    "best_model = None\n",
    "for class_weight in list(np.arange(0.4, 2.2, 0.2)): # Без преобразования в список не работает, так как numpy меняет тип в свой\n",
    "    class_weight = float(class_weight)\n",
    "    model_forest = RandomForestClassifier(random_state=12345,\n",
    "                                          n_estimators=165,\n",
    "                                          min_samples_leaf=4,\n",
    "                                          max_depth=10,\n",
    "                                          class_weight={0:class_weight}) # Тот самый параметр с весом\n",
    "\n",
    "    model_forest.fit(features_train, target_train)\n",
    "    predict_valid = model_forest.predict(features_valid)\n",
    "    f1 = f1_score(target_valid, predict_valid)\n",
    "    if f1 > best_f1_score:\n",
    "        best_f1_score = f1\n",
    "        best_model = model_forest"
   ]
  },
  {
   "cell_type": "code",
   "execution_count": 48,
   "metadata": {},
   "outputs": [
    {
     "data": {
      "text/html": [
       "<style>#sk-container-id-1 {color: black;background-color: white;}#sk-container-id-1 pre{padding: 0;}#sk-container-id-1 div.sk-toggleable {background-color: white;}#sk-container-id-1 label.sk-toggleable__label {cursor: pointer;display: block;width: 100%;margin-bottom: 0;padding: 0.3em;box-sizing: border-box;text-align: center;}#sk-container-id-1 label.sk-toggleable__label-arrow:before {content: \"▸\";float: left;margin-right: 0.25em;color: #696969;}#sk-container-id-1 label.sk-toggleable__label-arrow:hover:before {color: black;}#sk-container-id-1 div.sk-estimator:hover label.sk-toggleable__label-arrow:before {color: black;}#sk-container-id-1 div.sk-toggleable__content {max-height: 0;max-width: 0;overflow: hidden;text-align: left;background-color: #f0f8ff;}#sk-container-id-1 div.sk-toggleable__content pre {margin: 0.2em;color: black;border-radius: 0.25em;background-color: #f0f8ff;}#sk-container-id-1 input.sk-toggleable__control:checked~div.sk-toggleable__content {max-height: 200px;max-width: 100%;overflow: auto;}#sk-container-id-1 input.sk-toggleable__control:checked~label.sk-toggleable__label-arrow:before {content: \"▾\";}#sk-container-id-1 div.sk-estimator input.sk-toggleable__control:checked~label.sk-toggleable__label {background-color: #d4ebff;}#sk-container-id-1 div.sk-label input.sk-toggleable__control:checked~label.sk-toggleable__label {background-color: #d4ebff;}#sk-container-id-1 input.sk-hidden--visually {border: 0;clip: rect(1px 1px 1px 1px);clip: rect(1px, 1px, 1px, 1px);height: 1px;margin: -1px;overflow: hidden;padding: 0;position: absolute;width: 1px;}#sk-container-id-1 div.sk-estimator {font-family: monospace;background-color: #f0f8ff;border: 1px dotted black;border-radius: 0.25em;box-sizing: border-box;margin-bottom: 0.5em;}#sk-container-id-1 div.sk-estimator:hover {background-color: #d4ebff;}#sk-container-id-1 div.sk-parallel-item::after {content: \"\";width: 100%;border-bottom: 1px solid gray;flex-grow: 1;}#sk-container-id-1 div.sk-label:hover label.sk-toggleable__label {background-color: #d4ebff;}#sk-container-id-1 div.sk-serial::before {content: \"\";position: absolute;border-left: 1px solid gray;box-sizing: border-box;top: 0;bottom: 0;left: 50%;z-index: 0;}#sk-container-id-1 div.sk-serial {display: flex;flex-direction: column;align-items: center;background-color: white;padding-right: 0.2em;padding-left: 0.2em;position: relative;}#sk-container-id-1 div.sk-item {position: relative;z-index: 1;}#sk-container-id-1 div.sk-parallel {display: flex;align-items: stretch;justify-content: center;background-color: white;position: relative;}#sk-container-id-1 div.sk-item::before, #sk-container-id-1 div.sk-parallel-item::before {content: \"\";position: absolute;border-left: 1px solid gray;box-sizing: border-box;top: 0;bottom: 0;left: 50%;z-index: -1;}#sk-container-id-1 div.sk-parallel-item {display: flex;flex-direction: column;z-index: 1;position: relative;background-color: white;}#sk-container-id-1 div.sk-parallel-item:first-child::after {align-self: flex-end;width: 50%;}#sk-container-id-1 div.sk-parallel-item:last-child::after {align-self: flex-start;width: 50%;}#sk-container-id-1 div.sk-parallel-item:only-child::after {width: 0;}#sk-container-id-1 div.sk-dashed-wrapped {border: 1px dashed gray;margin: 0 0.4em 0.5em 0.4em;box-sizing: border-box;padding-bottom: 0.4em;background-color: white;}#sk-container-id-1 div.sk-label label {font-family: monospace;font-weight: bold;display: inline-block;line-height: 1.2em;}#sk-container-id-1 div.sk-label-container {text-align: center;}#sk-container-id-1 div.sk-container {/* jupyter's `normalize.less` sets `[hidden] { display: none; }` but bootstrap.min.css set `[hidden] { display: none !important; }` so we also need the `!important` here to be able to override the default hidden behavior on the sphinx rendered scikit-learn.org. See: https://github.com/scikit-learn/scikit-learn/issues/21755 */display: inline-block !important;position: relative;}#sk-container-id-1 div.sk-text-repr-fallback {display: none;}</style><div id=\"sk-container-id-1\" class=\"sk-top-container\"><div class=\"sk-text-repr-fallback\"><pre>RandomForestClassifier(class_weight={0: 1.6000000000000005}, max_depth=10,\n",
       "                       min_samples_leaf=4, n_estimators=165,\n",
       "                       random_state=12345)</pre><b>In a Jupyter environment, please rerun this cell to show the HTML representation or trust the notebook. <br />On GitHub, the HTML representation is unable to render, please try loading this page with nbviewer.org.</b></div><div class=\"sk-container\" hidden><div class=\"sk-item\"><div class=\"sk-estimator sk-toggleable\"><input class=\"sk-toggleable__control sk-hidden--visually\" id=\"sk-estimator-id-1\" type=\"checkbox\" checked><label for=\"sk-estimator-id-1\" class=\"sk-toggleable__label sk-toggleable__label-arrow\">RandomForestClassifier</label><div class=\"sk-toggleable__content\"><pre>RandomForestClassifier(class_weight={0: 1.6000000000000005}, max_depth=10,\n",
       "                       min_samples_leaf=4, n_estimators=165,\n",
       "                       random_state=12345)</pre></div></div></div></div></div>"
      ],
      "text/plain": [
       "RandomForestClassifier(class_weight={0: 1.6000000000000005}, max_depth=10,\n",
       "                       min_samples_leaf=4, n_estimators=165,\n",
       "                       random_state=12345)"
      ]
     },
     "execution_count": 48,
     "metadata": {},
     "output_type": "execute_result"
    }
   ],
   "source": [
    "best_model"
   ]
  },
  {
   "cell_type": "code",
   "execution_count": 49,
   "metadata": {},
   "outputs": [
    {
     "data": {
      "text/plain": [
       "0.48466257668711654"
      ]
     },
     "execution_count": 49,
     "metadata": {},
     "output_type": "execute_result"
    }
   ],
   "source": [
    "best_f1_score"
   ]
  },
  {
   "cell_type": "markdown",
   "metadata": {},
   "source": [
    "Удалось достичь f1 - 0.62, значит, писать функцию не нужно. Пробовал сначала менять вес положительного класса, но не получил значимых результатов\n",
    "\n",
    "*Знаю, что и здесь можно использовать кросс-валидацию только не случайный подбор, а другую функцию - GridSearch() вроде, но с ней никогда не работал*"
   ]
  },
  {
   "cell_type": "markdown",
   "metadata": {},
   "source": [
    "### Вывод"
   ]
  },
  {
   "cell_type": "markdown",
   "metadata": {},
   "source": [
    "Подобрал гиперпараметры методом кросс-валидации, также применил простейшие приемы борьбы с дисбалансом классов, например, использовал параметр class_weight='balanced', который сбалансировал классы между собой, результат улучшился, примерно с 0.57 до 0.60, этот успех заставил и далее исследовать вопрос дисбаланса для улучшения метрик, обучил две модели - случайный лес и логистическую регрессию, последняя, впрочем, окончательно показала свою малую эффективность по сраввнению со случайным лесом, принято решение работать далее только со случайным лесом. Применен метод увеличения выборки для борьбы с дисбалансом классов, но только это не принесло большой пользы, разве что, натолкнуло на изменение порога вероятности, так как при увеличении выборки f1 метрика показала феноменальную эффективность, но среднюю на тестовых данных, предполагаю, что это связано с тем, что количество положительных классов значительно увеличилось, увеличив вероятность \"угадывания\" моделью класса, но скорее всего, эта эффективность на тестовых данных значительно ниже чем на увеличенной и перемешанной выборке, значит, эта эффективность - иллюзия. Решено было изменить порог вероятности класса, это дало определенные результаты увеличив метрику f1 до 0.62 на случайном лесе, но чтобы не писать отдельно функцию, которая меняет порог вероятности, было принято решение изменить вес класса в эту сторону, что и было сделано. Удалось досчить f1 - 0.62 на валиде"
   ]
  },
  {
   "cell_type": "markdown",
   "metadata": {},
   "source": [
    "## Тестирование модели"
   ]
  },
  {
   "cell_type": "markdown",
   "metadata": {},
   "source": [
    "### Случайный лес"
   ]
  },
  {
   "cell_type": "markdown",
   "metadata": {},
   "source": [
    "Сначала, объеденил выборки (обучение + валид) для обучения и финальной проверки на тестовых данных"
   ]
  },
  {
   "cell_type": "code",
   "execution_count": 50,
   "metadata": {},
   "outputs": [],
   "source": [
    "features_full_train = pd.concat([features_train, features_valid])\n",
    "target_full_train = pd.concat([target_train, target_valid])"
   ]
  },
  {
   "cell_type": "code",
   "execution_count": 51,
   "metadata": {},
   "outputs": [],
   "source": [
    "model_forest = RandomForestClassifier(random_state=12345,\n",
    "                                          n_estimators=165,\n",
    "                                          min_samples_leaf=4,\n",
    "                                          max_depth=10,\n",
    "                                          class_weight={0:0.4})\n",
    "model_forest.fit(features_full_train, target_full_train)\n",
    "predict_test = model_forest.predict(features_test)"
   ]
  },
  {
   "cell_type": "code",
   "execution_count": 52,
   "metadata": {},
   "outputs": [
    {
     "data": {
      "text/plain": [
       "0.6264150943396226"
      ]
     },
     "execution_count": 52,
     "metadata": {},
     "output_type": "execute_result"
    }
   ],
   "source": [
    "f1_score(target_test, predict_test)"
   ]
  },
  {
   "cell_type": "code",
   "execution_count": 53,
   "metadata": {},
   "outputs": [
    {
     "data": {
      "text/plain": [
       "0.7573917698510153"
      ]
     },
     "execution_count": 53,
     "metadata": {},
     "output_type": "execute_result"
    }
   ],
   "source": [
    "roc_auc_score(target_test, predict_test)"
   ]
  },
  {
   "cell_type": "markdown",
   "metadata": {},
   "source": [
    "Итак, максимальный показатель метрики f1 на тестовых данных ~ 0.65. Это лучший показатель на наиболее эффективной модели - случайном лесе. ROC-AUC (отличие от случайной модели, площадь на графике, как я понимаю) ~ 0.77"
   ]
  },
  {
   "cell_type": "markdown",
   "metadata": {},
   "source": [
    "## Вывод"
   ]
  },
  {
   "cell_type": "markdown",
   "metadata": {},
   "source": [
    "Датасет был с пропусками и категориальными признаками, заменил пропуски случайным числом от 1 до 10 с определенной вероятностью (например, вероятность числа 10 меньше вероятности числа 2), проведено исследование задачи, баланса классов, перепробованы различные варианты обучения со случайным подбором, а также пришел к тому, что значимое влияние оказывает вес отрицательного класса, а не положительного. Применены две модели, одна из библиотеки линейных моделей - логистическая регрессия, а дргуая из ансамбля - случайный лес, случайный лес показал на всех предварительных этапах лучшие результаты по метрике f1, с ним в дальнейшем и работал, удалось достичь метрики f1 ~ 0.65 (с округлением до ближайшего), на тестовых данных, но есть определенная погрешность при каждом проходе по ячейкам, так как в функции заполнения пропусков нет фиксирования псевдослучайности, также перед обучением и тестированием была проведена контактация, обьединение выборок (обучение и валид) для большего количества данных при подгонке модели. Был применен метод увеличения выборки, он показал феноменальные результаты на валиде, но на тесте показал средний результат на модели случайного леса ~ 0.60 и ~ 0.50 на логистической регрессии.\n",
    "\n",
    "Гиперпараметры модели случайного леса:\n",
    "\n",
    "- `n_estimators` - 165\n",
    "- `min_samples_leaf` - 4\n",
    "- `max_depth` - 10\n",
    "- `class_weight` - {0:0.4} (вес 0.4 для класса 0)"
   ]
  },
  {
   "cell_type": "markdown",
   "metadata": {},
   "source": [
    "## Чек-лист готовности проекта"
   ]
  },
  {
   "cell_type": "markdown",
   "metadata": {},
   "source": [
    "Поставьте 'x' в выполненных пунктах. Далее нажмите Shift+Enter."
   ]
  },
  {
   "cell_type": "markdown",
   "metadata": {},
   "source": [
    "- [x]  Jupyter Notebook открыт\n",
    "- [x]  Весь код выполняется без ошибок\n",
    "- [x]  Ячейки с кодом расположены в порядке исполнения\n",
    "- [x]  Выполнен шаг 1: данные подготовлены\n",
    "- [x]  Выполнен шаг 2: задача исследована\n",
    "    - [x]  Исследован баланс классов\n",
    "    - [x]  Изучены модели без учёта дисбаланса\n",
    "    - [x]  Написаны выводы по результатам исследования\n",
    "- [x]  Выполнен шаг 3: учтён дисбаланс\n",
    "    - [x]  Применено несколько способов борьбы с дисбалансом\n",
    "    - [x]  Написаны выводы по результатам исследования\n",
    "- [x]  Выполнен шаг 4: проведено тестирование\n",
    "- [x]  Удалось достичь *F1*-меры не менее 0.59\n",
    "- [x]  Исследована метрика *AUC-ROC*"
   ]
  },
  {
   "cell_type": "code",
   "execution_count": null,
   "metadata": {},
   "outputs": [],
   "source": []
  }
 ],
 "metadata": {
  "ExecuteTimeLog": [
   {
    "duration": 427,
    "start_time": "2022-12-21T14:10:17.404Z"
   },
   {
    "duration": 74,
    "start_time": "2022-12-21T14:10:33.399Z"
   },
   {
    "duration": 30,
    "start_time": "2022-12-21T14:10:42.775Z"
   },
   {
    "duration": 539,
    "start_time": "2022-12-21T14:11:41.059Z"
   },
   {
    "duration": 106,
    "start_time": "2022-12-21T14:11:47.044Z"
   },
   {
    "duration": 117,
    "start_time": "2022-12-21T14:12:36.043Z"
   },
   {
    "duration": 114,
    "start_time": "2022-12-21T14:16:33.704Z"
   },
   {
    "duration": 11,
    "start_time": "2022-12-21T14:17:17.773Z"
   },
   {
    "duration": 13,
    "start_time": "2022-12-21T14:17:30.956Z"
   },
   {
    "duration": 3,
    "start_time": "2022-12-21T14:22:17.622Z"
   },
   {
    "duration": 6,
    "start_time": "2022-12-21T14:22:43.073Z"
   },
   {
    "duration": 6,
    "start_time": "2022-12-21T14:23:04.947Z"
   },
   {
    "duration": 127,
    "start_time": "2022-12-21T14:27:32.396Z"
   },
   {
    "duration": 14,
    "start_time": "2022-12-21T14:27:38.469Z"
   },
   {
    "duration": 232,
    "start_time": "2022-12-21T14:27:42.874Z"
   },
   {
    "duration": 141,
    "start_time": "2022-12-21T14:27:58.098Z"
   },
   {
    "duration": 146,
    "start_time": "2022-12-21T14:28:59.803Z"
   },
   {
    "duration": 449,
    "start_time": "2022-12-21T14:30:30.298Z"
   },
   {
    "duration": 43,
    "start_time": "2022-12-21T14:30:30.750Z"
   },
   {
    "duration": 39,
    "start_time": "2022-12-21T14:30:30.795Z"
   },
   {
    "duration": 94,
    "start_time": "2022-12-21T14:30:30.836Z"
   },
   {
    "duration": 65,
    "start_time": "2022-12-21T14:30:30.932Z"
   },
   {
    "duration": 492,
    "start_time": "2022-12-21T14:30:30.999Z"
   },
   {
    "duration": 138,
    "start_time": "2022-12-21T14:30:31.494Z"
   },
   {
    "duration": 279,
    "start_time": "2022-12-21T14:31:16.670Z"
   },
   {
    "duration": 191,
    "start_time": "2022-12-21T14:31:34.304Z"
   },
   {
    "duration": 191,
    "start_time": "2022-12-21T14:31:44.038Z"
   },
   {
    "duration": 239,
    "start_time": "2022-12-21T14:32:05.205Z"
   },
   {
    "duration": 152,
    "start_time": "2022-12-21T14:32:23.356Z"
   },
   {
    "duration": 151,
    "start_time": "2022-12-21T14:32:37.070Z"
   },
   {
    "duration": 8,
    "start_time": "2022-12-21T14:34:42.572Z"
   },
   {
    "duration": 84,
    "start_time": "2022-12-21T14:35:38.543Z"
   },
   {
    "duration": 57,
    "start_time": "2022-12-21T14:35:44.726Z"
   },
   {
    "duration": 7,
    "start_time": "2022-12-21T16:22:49.018Z"
   },
   {
    "duration": 6,
    "start_time": "2022-12-21T16:22:59.544Z"
   },
   {
    "duration": 3,
    "start_time": "2022-12-21T16:28:08.968Z"
   },
   {
    "duration": 7,
    "start_time": "2022-12-21T16:52:42.823Z"
   },
   {
    "duration": 12,
    "start_time": "2022-12-21T16:53:09.151Z"
   },
   {
    "duration": 634,
    "start_time": "2022-12-21T17:13:33.541Z"
   },
   {
    "duration": 703,
    "start_time": "2022-12-21T17:13:56.130Z"
   },
   {
    "duration": 679,
    "start_time": "2022-12-21T17:14:01.080Z"
   },
   {
    "duration": 7,
    "start_time": "2022-12-21T17:15:01.305Z"
   },
   {
    "duration": 7,
    "start_time": "2022-12-21T17:15:32.692Z"
   },
   {
    "duration": 8,
    "start_time": "2022-12-21T17:15:43.474Z"
   },
   {
    "duration": 7,
    "start_time": "2022-12-21T17:15:54.403Z"
   },
   {
    "duration": 4,
    "start_time": "2022-12-21T17:16:33.847Z"
   },
   {
    "duration": 32,
    "start_time": "2022-12-21T17:17:34.796Z"
   },
   {
    "duration": 34,
    "start_time": "2022-12-21T17:17:52.354Z"
   },
   {
    "duration": 16,
    "start_time": "2022-12-21T17:18:23.388Z"
   },
   {
    "duration": 4,
    "start_time": "2022-12-21T17:18:26.367Z"
   },
   {
    "duration": 4,
    "start_time": "2022-12-21T17:18:32.099Z"
   },
   {
    "duration": 619,
    "start_time": "2022-12-21T17:18:33.203Z"
   },
   {
    "duration": 4,
    "start_time": "2022-12-21T17:18:42.370Z"
   },
   {
    "duration": 13,
    "start_time": "2022-12-21T17:19:09.833Z"
   },
   {
    "duration": 4,
    "start_time": "2022-12-21T17:19:11.315Z"
   },
   {
    "duration": 671,
    "start_time": "2022-12-21T17:19:45.965Z"
   },
   {
    "duration": 13,
    "start_time": "2022-12-21T17:23:19.438Z"
   },
   {
    "duration": 5,
    "start_time": "2022-12-21T17:23:21.344Z"
   },
   {
    "duration": 720,
    "start_time": "2022-12-21T17:23:25.709Z"
   },
   {
    "duration": 1695,
    "start_time": "2022-12-21T17:45:06.632Z"
   },
   {
    "duration": 1624,
    "start_time": "2022-12-21T17:48:43.631Z"
   },
   {
    "duration": 9,
    "start_time": "2022-12-21T17:50:42.030Z"
   },
   {
    "duration": 12,
    "start_time": "2022-12-21T17:52:19.172Z"
   },
   {
    "duration": 3,
    "start_time": "2022-12-21T17:52:24.130Z"
   },
   {
    "duration": 15,
    "start_time": "2022-12-21T17:52:28.269Z"
   },
   {
    "duration": 9,
    "start_time": "2022-12-21T17:52:42.395Z"
   },
   {
    "duration": 1017,
    "start_time": "2022-12-21T18:31:33.712Z"
   },
   {
    "duration": 40,
    "start_time": "2022-12-21T18:31:34.731Z"
   },
   {
    "duration": 19,
    "start_time": "2022-12-21T18:31:34.772Z"
   },
   {
    "duration": 28,
    "start_time": "2022-12-21T18:31:34.792Z"
   },
   {
    "duration": 7,
    "start_time": "2022-12-21T18:31:34.822Z"
   },
   {
    "duration": 51,
    "start_time": "2022-12-21T18:31:34.830Z"
   },
   {
    "duration": 5,
    "start_time": "2022-12-21T18:31:34.883Z"
   },
   {
    "duration": 399,
    "start_time": "2022-12-21T18:31:34.889Z"
   },
   {
    "duration": 16,
    "start_time": "2022-12-21T18:31:35.290Z"
   },
   {
    "duration": 4,
    "start_time": "2022-12-21T18:31:35.309Z"
   },
   {
    "duration": 1604,
    "start_time": "2022-12-21T18:31:35.315Z"
   },
   {
    "duration": 15,
    "start_time": "2022-12-21T18:31:36.921Z"
   },
   {
    "duration": 113,
    "start_time": "2022-12-21T18:31:36.937Z"
   },
   {
    "duration": 109,
    "start_time": "2022-12-21T18:37:51.836Z"
   },
   {
    "duration": 28,
    "start_time": "2022-12-21T18:38:53.609Z"
   },
   {
    "duration": 46,
    "start_time": "2022-12-21T18:39:30.484Z"
   },
   {
    "duration": 267,
    "start_time": "2022-12-21T18:39:55.520Z"
   },
   {
    "duration": 261,
    "start_time": "2022-12-21T18:40:38.881Z"
   },
   {
    "duration": 275,
    "start_time": "2022-12-21T18:42:23.021Z"
   },
   {
    "duration": 267,
    "start_time": "2022-12-21T18:42:33.293Z"
   },
   {
    "duration": 277,
    "start_time": "2022-12-21T18:42:48.171Z"
   },
   {
    "duration": 193019,
    "start_time": "2022-12-21T18:43:45.187Z"
   },
   {
    "duration": 282,
    "start_time": "2022-12-21T18:47:37.955Z"
   },
   {
    "duration": 193399,
    "start_time": "2022-12-21T18:48:00.947Z"
   },
   {
    "duration": 4,
    "start_time": "2022-12-21T18:51:28.626Z"
   },
   {
    "duration": 3,
    "start_time": "2022-12-21T18:51:39.150Z"
   },
   {
    "duration": 29,
    "start_time": "2022-12-21T18:59:51.543Z"
   },
   {
    "duration": 14,
    "start_time": "2022-12-21T19:00:00.346Z"
   },
   {
    "duration": 19,
    "start_time": "2022-12-21T19:00:40.190Z"
   },
   {
    "duration": 9,
    "start_time": "2022-12-21T19:01:00.712Z"
   },
   {
    "duration": 16,
    "start_time": "2022-12-21T19:01:52.649Z"
   },
   {
    "duration": 14,
    "start_time": "2022-12-21T19:03:50.183Z"
   },
   {
    "duration": 14,
    "start_time": "2022-12-21T19:03:59.295Z"
   },
   {
    "duration": 29,
    "start_time": "2022-12-21T19:04:15.703Z"
   },
   {
    "duration": 16,
    "start_time": "2022-12-21T19:04:53.126Z"
   },
   {
    "duration": 725,
    "start_time": "2022-12-21T19:05:24.774Z"
   },
   {
    "duration": 672,
    "start_time": "2022-12-21T19:05:33.562Z"
   },
   {
    "duration": 1111,
    "start_time": "2022-12-21T19:05:53.199Z"
   },
   {
    "duration": 42,
    "start_time": "2022-12-21T19:05:54.312Z"
   },
   {
    "duration": 21,
    "start_time": "2022-12-21T19:05:54.356Z"
   },
   {
    "duration": 36,
    "start_time": "2022-12-21T19:05:54.379Z"
   },
   {
    "duration": 32,
    "start_time": "2022-12-21T19:05:54.417Z"
   },
   {
    "duration": 50,
    "start_time": "2022-12-21T19:05:54.451Z"
   },
   {
    "duration": 6,
    "start_time": "2022-12-21T19:05:54.502Z"
   },
   {
    "duration": 443,
    "start_time": "2022-12-21T19:05:54.509Z"
   },
   {
    "duration": 17,
    "start_time": "2022-12-21T19:05:54.953Z"
   },
   {
    "duration": 7,
    "start_time": "2022-12-21T19:05:54.972Z"
   },
   {
    "duration": 1639,
    "start_time": "2022-12-21T19:05:54.981Z"
   },
   {
    "duration": 403041,
    "start_time": "2022-12-21T19:05:56.622Z"
   },
   {
    "duration": 4,
    "start_time": "2022-12-21T19:12:39.665Z"
   },
   {
    "duration": 16,
    "start_time": "2022-12-21T19:12:39.672Z"
   },
   {
    "duration": 123,
    "start_time": "2022-12-21T19:12:39.690Z"
   },
   {
    "duration": 0,
    "start_time": "2022-12-21T19:12:39.815Z"
   },
   {
    "duration": 32,
    "start_time": "2022-12-21T19:23:58.282Z"
   },
   {
    "duration": 5,
    "start_time": "2022-12-21T19:28:09.251Z"
   },
   {
    "duration": 12,
    "start_time": "2022-12-21T19:28:21.522Z"
   },
   {
    "duration": 24,
    "start_time": "2022-12-21T19:30:08.345Z"
   },
   {
    "duration": 3,
    "start_time": "2022-12-21T19:39:36.778Z"
   },
   {
    "duration": 16,
    "start_time": "2022-12-21T19:45:37.162Z"
   },
   {
    "duration": 0,
    "start_time": "2022-12-21T19:47:25.542Z"
   },
   {
    "duration": 0,
    "start_time": "2022-12-21T19:47:25.543Z"
   },
   {
    "duration": 0,
    "start_time": "2022-12-21T19:47:25.544Z"
   },
   {
    "duration": 0,
    "start_time": "2022-12-21T19:47:25.545Z"
   },
   {
    "duration": 0,
    "start_time": "2022-12-21T19:47:25.546Z"
   },
   {
    "duration": 0,
    "start_time": "2022-12-21T19:47:25.547Z"
   },
   {
    "duration": 0,
    "start_time": "2022-12-21T19:47:25.548Z"
   },
   {
    "duration": 0,
    "start_time": "2022-12-21T19:47:25.549Z"
   },
   {
    "duration": 0,
    "start_time": "2022-12-21T19:47:25.549Z"
   },
   {
    "duration": 0,
    "start_time": "2022-12-21T19:47:25.550Z"
   },
   {
    "duration": 0,
    "start_time": "2022-12-21T19:47:25.551Z"
   },
   {
    "duration": 0,
    "start_time": "2022-12-21T19:47:25.552Z"
   },
   {
    "duration": 0,
    "start_time": "2022-12-21T19:47:25.553Z"
   },
   {
    "duration": 0,
    "start_time": "2022-12-21T19:47:25.554Z"
   },
   {
    "duration": 0,
    "start_time": "2022-12-21T19:47:25.555Z"
   },
   {
    "duration": 0,
    "start_time": "2022-12-21T19:47:25.556Z"
   },
   {
    "duration": 0,
    "start_time": "2022-12-21T19:47:25.557Z"
   },
   {
    "duration": 0,
    "start_time": "2022-12-21T19:47:25.558Z"
   },
   {
    "duration": 1140,
    "start_time": "2022-12-21T19:47:36.252Z"
   },
   {
    "duration": 38,
    "start_time": "2022-12-21T19:47:37.394Z"
   },
   {
    "duration": 18,
    "start_time": "2022-12-21T19:47:37.433Z"
   },
   {
    "duration": 14,
    "start_time": "2022-12-21T19:47:37.453Z"
   },
   {
    "duration": 7,
    "start_time": "2022-12-21T19:47:37.468Z"
   },
   {
    "duration": 60,
    "start_time": "2022-12-21T19:47:37.476Z"
   },
   {
    "duration": 5,
    "start_time": "2022-12-21T19:47:37.537Z"
   },
   {
    "duration": 7,
    "start_time": "2022-12-21T19:47:37.543Z"
   },
   {
    "duration": 388,
    "start_time": "2022-12-21T19:47:37.552Z"
   },
   {
    "duration": 138,
    "start_time": "2022-12-21T19:47:37.943Z"
   },
   {
    "duration": 0,
    "start_time": "2022-12-21T19:47:38.083Z"
   },
   {
    "duration": 0,
    "start_time": "2022-12-21T19:47:38.084Z"
   },
   {
    "duration": 0,
    "start_time": "2022-12-21T19:47:38.085Z"
   },
   {
    "duration": 0,
    "start_time": "2022-12-21T19:47:38.086Z"
   },
   {
    "duration": 0,
    "start_time": "2022-12-21T19:47:38.087Z"
   },
   {
    "duration": 0,
    "start_time": "2022-12-21T19:47:38.088Z"
   },
   {
    "duration": 0,
    "start_time": "2022-12-21T19:47:38.089Z"
   },
   {
    "duration": 0,
    "start_time": "2022-12-21T19:47:38.091Z"
   },
   {
    "duration": 17,
    "start_time": "2022-12-21T19:47:59.932Z"
   },
   {
    "duration": 4,
    "start_time": "2022-12-21T19:48:02.086Z"
   },
   {
    "duration": 36,
    "start_time": "2022-12-21T19:48:03.655Z"
   },
   {
    "duration": 37,
    "start_time": "2022-12-21T19:48:37.218Z"
   },
   {
    "duration": 28,
    "start_time": "2022-12-21T19:50:58.156Z"
   },
   {
    "duration": 412602,
    "start_time": "2022-12-21T19:51:02.460Z"
   },
   {
    "duration": 5,
    "start_time": "2022-12-21T19:57:55.064Z"
   },
   {
    "duration": 33,
    "start_time": "2022-12-21T20:14:03.767Z"
   },
   {
    "duration": 20,
    "start_time": "2022-12-21T20:15:56.416Z"
   },
   {
    "duration": 20,
    "start_time": "2022-12-21T20:17:30.585Z"
   },
   {
    "duration": 3,
    "start_time": "2022-12-21T20:22:00.486Z"
   },
   {
    "duration": 15,
    "start_time": "2022-12-21T20:22:53.461Z"
   },
   {
    "duration": 3,
    "start_time": "2022-12-21T20:23:15.530Z"
   },
   {
    "duration": 62,
    "start_time": "2022-12-21T20:23:30.870Z"
   },
   {
    "duration": 44,
    "start_time": "2022-12-21T20:23:37.438Z"
   },
   {
    "duration": 18,
    "start_time": "2022-12-21T20:23:47.969Z"
   },
   {
    "duration": 2,
    "start_time": "2022-12-21T20:25:04.402Z"
   },
   {
    "duration": 0,
    "start_time": "2022-12-21T20:25:33.935Z"
   },
   {
    "duration": 0,
    "start_time": "2022-12-21T20:25:33.936Z"
   },
   {
    "duration": 0,
    "start_time": "2022-12-21T20:25:33.937Z"
   },
   {
    "duration": 0,
    "start_time": "2022-12-21T20:25:33.939Z"
   },
   {
    "duration": 0,
    "start_time": "2022-12-21T20:25:33.940Z"
   },
   {
    "duration": 0,
    "start_time": "2022-12-21T20:25:33.941Z"
   },
   {
    "duration": 0,
    "start_time": "2022-12-21T20:25:33.942Z"
   },
   {
    "duration": 0,
    "start_time": "2022-12-21T20:25:33.943Z"
   },
   {
    "duration": 0,
    "start_time": "2022-12-21T20:25:33.944Z"
   },
   {
    "duration": 0,
    "start_time": "2022-12-21T20:25:33.945Z"
   },
   {
    "duration": 0,
    "start_time": "2022-12-21T20:25:33.946Z"
   },
   {
    "duration": 0,
    "start_time": "2022-12-21T20:25:33.948Z"
   },
   {
    "duration": 0,
    "start_time": "2022-12-21T20:25:33.949Z"
   },
   {
    "duration": 0,
    "start_time": "2022-12-21T20:25:33.950Z"
   },
   {
    "duration": 0,
    "start_time": "2022-12-21T20:25:33.952Z"
   },
   {
    "duration": 0,
    "start_time": "2022-12-21T20:25:33.953Z"
   },
   {
    "duration": 0,
    "start_time": "2022-12-21T20:25:33.954Z"
   },
   {
    "duration": 1040,
    "start_time": "2022-12-21T20:26:34.557Z"
   },
   {
    "duration": 38,
    "start_time": "2022-12-21T20:26:35.599Z"
   },
   {
    "duration": 19,
    "start_time": "2022-12-21T20:26:35.639Z"
   },
   {
    "duration": 21,
    "start_time": "2022-12-21T20:26:35.660Z"
   },
   {
    "duration": 13,
    "start_time": "2022-12-21T20:26:35.682Z"
   },
   {
    "duration": 48,
    "start_time": "2022-12-21T20:26:35.696Z"
   },
   {
    "duration": 5,
    "start_time": "2022-12-21T20:26:35.746Z"
   },
   {
    "duration": 13,
    "start_time": "2022-12-21T20:26:35.753Z"
   },
   {
    "duration": 402,
    "start_time": "2022-12-21T20:26:35.767Z"
   },
   {
    "duration": 7,
    "start_time": "2022-12-21T20:26:36.172Z"
   },
   {
    "duration": 29,
    "start_time": "2022-12-21T20:26:36.180Z"
   },
   {
    "duration": 4,
    "start_time": "2022-12-21T20:26:36.211Z"
   },
   {
    "duration": 6,
    "start_time": "2022-12-21T20:26:36.235Z"
   },
   {
    "duration": 24,
    "start_time": "2022-12-21T20:26:36.242Z"
   },
   {
    "duration": 13,
    "start_time": "2022-12-21T20:26:36.268Z"
   },
   {
    "duration": 114,
    "start_time": "2022-12-21T20:26:36.283Z"
   },
   {
    "duration": 0,
    "start_time": "2022-12-21T20:26:36.399Z"
   },
   {
    "duration": 23,
    "start_time": "2022-12-21T20:29:19.392Z"
   },
   {
    "duration": 17,
    "start_time": "2022-12-21T20:29:26.804Z"
   },
   {
    "duration": 22,
    "start_time": "2022-12-21T20:30:01.199Z"
   },
   {
    "duration": 16,
    "start_time": "2022-12-21T20:36:58.190Z"
   },
   {
    "duration": 16,
    "start_time": "2022-12-21T20:37:09.049Z"
   },
   {
    "duration": 9,
    "start_time": "2022-12-21T20:37:23.335Z"
   },
   {
    "duration": 13,
    "start_time": "2022-12-21T20:37:39.698Z"
   },
   {
    "duration": 4,
    "start_time": "2022-12-21T20:37:49.375Z"
   },
   {
    "duration": 14,
    "start_time": "2022-12-21T20:38:50.111Z"
   },
   {
    "duration": 10,
    "start_time": "2022-12-21T20:42:45.520Z"
   },
   {
    "duration": 8,
    "start_time": "2022-12-21T20:42:57.478Z"
   },
   {
    "duration": 4,
    "start_time": "2022-12-21T20:43:08.670Z"
   },
   {
    "duration": 186,
    "start_time": "2022-12-21T20:44:50.823Z"
   },
   {
    "duration": 11,
    "start_time": "2022-12-21T20:45:24.711Z"
   },
   {
    "duration": 9,
    "start_time": "2022-12-21T20:45:43.209Z"
   },
   {
    "duration": 10,
    "start_time": "2022-12-21T20:46:19.304Z"
   },
   {
    "duration": 231,
    "start_time": "2022-12-21T20:46:41.596Z"
   },
   {
    "duration": 171,
    "start_time": "2022-12-21T20:46:58.232Z"
   },
   {
    "duration": 1043,
    "start_time": "2022-12-21T20:47:17.414Z"
   },
   {
    "duration": 38,
    "start_time": "2022-12-21T20:47:18.459Z"
   },
   {
    "duration": 18,
    "start_time": "2022-12-21T20:47:18.498Z"
   },
   {
    "duration": 13,
    "start_time": "2022-12-21T20:47:18.517Z"
   },
   {
    "duration": 6,
    "start_time": "2022-12-21T20:47:18.533Z"
   },
   {
    "duration": 40,
    "start_time": "2022-12-21T20:47:18.541Z"
   },
   {
    "duration": 4,
    "start_time": "2022-12-21T20:47:18.583Z"
   },
   {
    "duration": 13,
    "start_time": "2022-12-21T20:47:18.588Z"
   },
   {
    "duration": 385,
    "start_time": "2022-12-21T20:47:18.602Z"
   },
   {
    "duration": 7,
    "start_time": "2022-12-21T20:47:18.989Z"
   },
   {
    "duration": 40,
    "start_time": "2022-12-21T20:47:18.997Z"
   },
   {
    "duration": 5,
    "start_time": "2022-12-21T20:47:19.038Z"
   },
   {
    "duration": 14,
    "start_time": "2022-12-21T20:47:19.045Z"
   },
   {
    "duration": 23,
    "start_time": "2022-12-21T20:47:19.061Z"
   },
   {
    "duration": 37,
    "start_time": "2022-12-21T20:47:19.086Z"
   },
   {
    "duration": 18,
    "start_time": "2022-12-21T20:47:19.125Z"
   },
   {
    "duration": 142,
    "start_time": "2022-12-21T20:47:19.145Z"
   },
   {
    "duration": 105,
    "start_time": "2022-12-21T20:49:04.094Z"
   },
   {
    "duration": 4,
    "start_time": "2022-12-21T20:49:32.564Z"
   },
   {
    "duration": 267,
    "start_time": "2022-12-21T20:50:20.500Z"
   },
   {
    "duration": 19,
    "start_time": "2022-12-21T20:50:30.506Z"
   },
   {
    "duration": 312,
    "start_time": "2022-12-21T20:52:32.346Z"
   },
   {
    "duration": 289,
    "start_time": "2022-12-21T20:52:49.005Z"
   },
   {
    "duration": 271,
    "start_time": "2022-12-21T20:53:02.888Z"
   },
   {
    "duration": 4,
    "start_time": "2022-12-21T20:54:09.296Z"
   },
   {
    "duration": 4,
    "start_time": "2022-12-21T20:54:19.527Z"
   },
   {
    "duration": 26,
    "start_time": "2022-12-21T20:55:16.440Z"
   },
   {
    "duration": 17,
    "start_time": "2022-12-21T20:56:47.678Z"
   },
   {
    "duration": 16,
    "start_time": "2022-12-21T21:00:39.065Z"
   },
   {
    "duration": 1080,
    "start_time": "2022-12-21T21:00:57.015Z"
   },
   {
    "duration": 40,
    "start_time": "2022-12-21T21:00:58.096Z"
   },
   {
    "duration": 19,
    "start_time": "2022-12-21T21:00:58.137Z"
   },
   {
    "duration": 12,
    "start_time": "2022-12-21T21:00:58.158Z"
   },
   {
    "duration": 7,
    "start_time": "2022-12-21T21:00:58.172Z"
   },
   {
    "duration": 64,
    "start_time": "2022-12-21T21:00:58.181Z"
   },
   {
    "duration": 6,
    "start_time": "2022-12-21T21:00:58.246Z"
   },
   {
    "duration": 17,
    "start_time": "2022-12-21T21:00:58.254Z"
   },
   {
    "duration": 391,
    "start_time": "2022-12-21T21:00:58.272Z"
   },
   {
    "duration": 6,
    "start_time": "2022-12-21T21:00:58.665Z"
   },
   {
    "duration": 28,
    "start_time": "2022-12-21T21:00:58.673Z"
   },
   {
    "duration": 4,
    "start_time": "2022-12-21T21:00:58.703Z"
   },
   {
    "duration": 27,
    "start_time": "2022-12-21T21:00:58.709Z"
   },
   {
    "duration": 260,
    "start_time": "2022-12-21T21:00:58.738Z"
   },
   {
    "duration": 117,
    "start_time": "2022-12-21T21:00:59.000Z"
   },
   {
    "duration": 0,
    "start_time": "2022-12-21T21:00:59.119Z"
   },
   {
    "duration": 1064,
    "start_time": "2022-12-22T14:23:13.205Z"
   },
   {
    "duration": 163,
    "start_time": "2022-12-22T14:23:14.270Z"
   },
   {
    "duration": 17,
    "start_time": "2022-12-22T14:23:14.435Z"
   },
   {
    "duration": 13,
    "start_time": "2022-12-22T14:23:14.454Z"
   },
   {
    "duration": 7,
    "start_time": "2022-12-22T14:23:14.984Z"
   },
   {
    "duration": 47,
    "start_time": "2022-12-22T14:23:15.760Z"
   },
   {
    "duration": 4,
    "start_time": "2022-12-22T14:23:16.535Z"
   },
   {
    "duration": 5,
    "start_time": "2022-12-22T14:23:20.581Z"
   },
   {
    "duration": 527,
    "start_time": "2022-12-22T14:23:21.971Z"
   },
   {
    "duration": 7,
    "start_time": "2022-12-22T14:23:40.987Z"
   },
   {
    "duration": 105,
    "start_time": "2022-12-22T14:25:59.617Z"
   },
   {
    "duration": 15,
    "start_time": "2022-12-22T14:26:14.605Z"
   },
   {
    "duration": 12,
    "start_time": "2022-12-22T14:26:23.589Z"
   },
   {
    "duration": 4,
    "start_time": "2022-12-22T14:26:41.318Z"
   },
   {
    "duration": 366596,
    "start_time": "2022-12-22T14:31:27.121Z"
   },
   {
    "duration": 5,
    "start_time": "2022-12-22T14:37:43.000Z"
   },
   {
    "duration": 1261,
    "start_time": "2022-12-22T14:42:41.236Z"
   },
   {
    "duration": 1244,
    "start_time": "2022-12-22T14:43:20.339Z"
   },
   {
    "duration": 6,
    "start_time": "2022-12-22T14:43:45.843Z"
   },
   {
    "duration": 15,
    "start_time": "2022-12-22T14:43:56.974Z"
   },
   {
    "duration": 3,
    "start_time": "2022-12-22T14:47:51.136Z"
   },
   {
    "duration": 44,
    "start_time": "2022-12-22T14:47:53.480Z"
   },
   {
    "duration": 14,
    "start_time": "2022-12-22T14:47:54.840Z"
   },
   {
    "duration": 12,
    "start_time": "2022-12-22T14:47:56.171Z"
   },
   {
    "duration": 9,
    "start_time": "2022-12-22T14:47:57.273Z"
   },
   {
    "duration": 40,
    "start_time": "2022-12-22T14:47:58.356Z"
   },
   {
    "duration": 6,
    "start_time": "2022-12-22T14:47:59.836Z"
   },
   {
    "duration": 11,
    "start_time": "2022-12-22T14:48:01.453Z"
   },
   {
    "duration": 16,
    "start_time": "2022-12-22T14:48:28.171Z"
   },
   {
    "duration": 24,
    "start_time": "2022-12-22T14:48:43.964Z"
   },
   {
    "duration": 19,
    "start_time": "2022-12-22T14:49:56.442Z"
   },
   {
    "duration": 17,
    "start_time": "2022-12-22T14:50:34.139Z"
   },
   {
    "duration": 7,
    "start_time": "2022-12-22T14:50:40.920Z"
   },
   {
    "duration": 4,
    "start_time": "2022-12-22T14:50:48.813Z"
   },
   {
    "duration": 37,
    "start_time": "2022-12-22T14:52:14.816Z"
   },
   {
    "duration": 24,
    "start_time": "2022-12-22T14:53:30.816Z"
   },
   {
    "duration": 17,
    "start_time": "2022-12-22T14:55:10.053Z"
   },
   {
    "duration": 10,
    "start_time": "2022-12-22T14:55:16.826Z"
   },
   {
    "duration": 4,
    "start_time": "2022-12-22T14:55:25.842Z"
   },
   {
    "duration": 40,
    "start_time": "2022-12-22T14:55:26.429Z"
   },
   {
    "duration": 12,
    "start_time": "2022-12-22T14:55:26.925Z"
   },
   {
    "duration": 11,
    "start_time": "2022-12-22T14:55:28.241Z"
   },
   {
    "duration": 7,
    "start_time": "2022-12-22T14:55:29.460Z"
   },
   {
    "duration": 37,
    "start_time": "2022-12-22T14:55:30.345Z"
   },
   {
    "duration": 6,
    "start_time": "2022-12-22T14:55:31.824Z"
   },
   {
    "duration": 12,
    "start_time": "2022-12-22T14:55:32.440Z"
   },
   {
    "duration": 4,
    "start_time": "2022-12-22T14:55:45.170Z"
   },
   {
    "duration": 15,
    "start_time": "2022-12-22T14:55:55.468Z"
   },
   {
    "duration": 14,
    "start_time": "2022-12-22T14:56:21.477Z"
   },
   {
    "duration": 19,
    "start_time": "2022-12-22T14:56:39.611Z"
   },
   {
    "duration": 8,
    "start_time": "2022-12-22T14:56:58.968Z"
   },
   {
    "duration": 18,
    "start_time": "2022-12-22T14:57:26.553Z"
   },
   {
    "duration": 3,
    "start_time": "2022-12-22T14:58:03.320Z"
   },
   {
    "duration": 41,
    "start_time": "2022-12-22T14:58:04.242Z"
   },
   {
    "duration": 12,
    "start_time": "2022-12-22T14:58:04.614Z"
   },
   {
    "duration": 17,
    "start_time": "2022-12-22T14:58:05.431Z"
   },
   {
    "duration": 7,
    "start_time": "2022-12-22T14:58:06.450Z"
   },
   {
    "duration": 41,
    "start_time": "2022-12-22T14:58:07.624Z"
   },
   {
    "duration": 6,
    "start_time": "2022-12-22T14:58:08.972Z"
   },
   {
    "duration": 19,
    "start_time": "2022-12-22T14:58:09.544Z"
   },
   {
    "duration": 16,
    "start_time": "2022-12-22T14:58:40.141Z"
   },
   {
    "duration": 21,
    "start_time": "2022-12-22T14:58:54.726Z"
   },
   {
    "duration": 150,
    "start_time": "2022-12-22T14:59:00.047Z"
   },
   {
    "duration": 12,
    "start_time": "2022-12-22T15:00:05.578Z"
   },
   {
    "duration": 5,
    "start_time": "2022-12-22T15:00:29.489Z"
   },
   {
    "duration": 10,
    "start_time": "2022-12-22T15:01:02.193Z"
   },
   {
    "duration": 40,
    "start_time": "2022-12-22T15:01:48.162Z"
   },
   {
    "duration": 14,
    "start_time": "2022-12-22T15:01:48.483Z"
   },
   {
    "duration": 13,
    "start_time": "2022-12-22T15:01:48.852Z"
   },
   {
    "duration": 7,
    "start_time": "2022-12-22T15:01:49.968Z"
   },
   {
    "duration": 115,
    "start_time": "2022-12-22T15:01:50.839Z"
   },
   {
    "duration": 6,
    "start_time": "2022-12-22T15:01:52.379Z"
   },
   {
    "duration": 12,
    "start_time": "2022-12-22T15:01:52.857Z"
   },
   {
    "duration": 150,
    "start_time": "2022-12-22T15:01:53.530Z"
   },
   {
    "duration": 8,
    "start_time": "2022-12-22T15:01:55.863Z"
   },
   {
    "duration": 6,
    "start_time": "2022-12-22T15:02:44.927Z"
   },
   {
    "duration": 41,
    "start_time": "2022-12-22T15:03:00.971Z"
   },
   {
    "duration": 13,
    "start_time": "2022-12-22T15:03:01.233Z"
   },
   {
    "duration": 12,
    "start_time": "2022-12-22T15:03:01.442Z"
   },
   {
    "duration": 10,
    "start_time": "2022-12-22T15:03:01.629Z"
   },
   {
    "duration": 41,
    "start_time": "2022-12-22T15:03:01.788Z"
   },
   {
    "duration": 5,
    "start_time": "2022-12-22T15:03:02.167Z"
   },
   {
    "duration": 13,
    "start_time": "2022-12-22T15:03:03.689Z"
   },
   {
    "duration": 151,
    "start_time": "2022-12-22T15:03:04.961Z"
   },
   {
    "duration": 7,
    "start_time": "2022-12-22T15:03:08.678Z"
   },
   {
    "duration": 3,
    "start_time": "2022-12-22T15:04:20.685Z"
   },
   {
    "duration": 39,
    "start_time": "2022-12-22T15:04:20.885Z"
   },
   {
    "duration": 13,
    "start_time": "2022-12-22T15:04:21.057Z"
   },
   {
    "duration": 12,
    "start_time": "2022-12-22T15:04:21.221Z"
   },
   {
    "duration": 7,
    "start_time": "2022-12-22T15:04:21.392Z"
   },
   {
    "duration": 50,
    "start_time": "2022-12-22T15:04:21.573Z"
   },
   {
    "duration": 5,
    "start_time": "2022-12-22T15:04:21.707Z"
   },
   {
    "duration": 11,
    "start_time": "2022-12-22T15:04:21.869Z"
   },
   {
    "duration": 146,
    "start_time": "2022-12-22T15:04:24.115Z"
   },
   {
    "duration": 7,
    "start_time": "2022-12-22T15:04:40.686Z"
   },
   {
    "duration": 19,
    "start_time": "2022-12-22T15:04:57.286Z"
   },
   {
    "duration": 3,
    "start_time": "2022-12-22T15:06:49.614Z"
   },
   {
    "duration": 41,
    "start_time": "2022-12-22T15:06:49.819Z"
   },
   {
    "duration": 13,
    "start_time": "2022-12-22T15:06:49.960Z"
   },
   {
    "duration": 13,
    "start_time": "2022-12-22T15:06:50.133Z"
   },
   {
    "duration": 9,
    "start_time": "2022-12-22T15:06:50.275Z"
   },
   {
    "duration": 40,
    "start_time": "2022-12-22T15:06:50.455Z"
   },
   {
    "duration": 4,
    "start_time": "2022-12-22T15:06:52.720Z"
   },
   {
    "duration": 10,
    "start_time": "2022-12-22T15:06:53.337Z"
   },
   {
    "duration": 153,
    "start_time": "2022-12-22T15:06:54.674Z"
   },
   {
    "duration": 7,
    "start_time": "2022-12-22T15:06:57.653Z"
   },
   {
    "duration": 9,
    "start_time": "2022-12-22T15:07:30.063Z"
   },
   {
    "duration": 232,
    "start_time": "2022-12-22T15:11:34.191Z"
   },
   {
    "duration": 244,
    "start_time": "2022-12-22T15:12:14.638Z"
   },
   {
    "duration": 9,
    "start_time": "2022-12-22T15:12:21.987Z"
   },
   {
    "duration": 12,
    "start_time": "2022-12-22T15:13:50.924Z"
   },
   {
    "duration": 12,
    "start_time": "2022-12-22T15:14:07.125Z"
   },
   {
    "duration": 8,
    "start_time": "2022-12-22T15:14:54.206Z"
   },
   {
    "duration": 10,
    "start_time": "2022-12-22T15:15:08.794Z"
   },
   {
    "duration": 14,
    "start_time": "2022-12-22T15:16:31.934Z"
   },
   {
    "duration": 5,
    "start_time": "2022-12-22T15:18:29.291Z"
   },
   {
    "duration": 6,
    "start_time": "2022-12-22T15:18:29.765Z"
   },
   {
    "duration": 3,
    "start_time": "2022-12-22T18:03:52.779Z"
   },
   {
    "duration": 39,
    "start_time": "2022-12-22T18:03:54.169Z"
   },
   {
    "duration": 12,
    "start_time": "2022-12-22T18:03:57.293Z"
   },
   {
    "duration": 11,
    "start_time": "2022-12-22T18:03:58.476Z"
   },
   {
    "duration": 6,
    "start_time": "2022-12-22T18:04:06.575Z"
   },
   {
    "duration": 36,
    "start_time": "2022-12-22T18:04:08.441Z"
   },
   {
    "duration": 5,
    "start_time": "2022-12-22T18:04:10.272Z"
   },
   {
    "duration": 12,
    "start_time": "2022-12-22T18:29:40.612Z"
   },
   {
    "duration": 136,
    "start_time": "2022-12-22T18:29:43.575Z"
   },
   {
    "duration": 8,
    "start_time": "2022-12-22T18:37:09.549Z"
   },
   {
    "duration": 6,
    "start_time": "2022-12-22T18:50:20.213Z"
   },
   {
    "duration": 11,
    "start_time": "2022-12-22T18:50:26.945Z"
   },
   {
    "duration": 6,
    "start_time": "2022-12-22T18:50:31.730Z"
   },
   {
    "duration": 7,
    "start_time": "2022-12-22T18:50:36.365Z"
   },
   {
    "duration": 8,
    "start_time": "2022-12-22T18:50:44.456Z"
   },
   {
    "duration": 7,
    "start_time": "2022-12-22T18:50:56.956Z"
   },
   {
    "duration": 7,
    "start_time": "2022-12-22T18:51:02.177Z"
   },
   {
    "duration": 7,
    "start_time": "2022-12-22T18:51:06.255Z"
   },
   {
    "duration": 6,
    "start_time": "2022-12-22T18:54:59.279Z"
   },
   {
    "duration": 3,
    "start_time": "2022-12-22T18:55:07.510Z"
   },
   {
    "duration": 3,
    "start_time": "2022-12-22T18:55:24.528Z"
   },
   {
    "duration": 4,
    "start_time": "2022-12-22T18:55:28.644Z"
   },
   {
    "duration": 5,
    "start_time": "2022-12-22T18:55:40.270Z"
   },
   {
    "duration": 4,
    "start_time": "2022-12-22T18:55:45.573Z"
   },
   {
    "duration": 7,
    "start_time": "2022-12-22T18:57:03.675Z"
   },
   {
    "duration": 4,
    "start_time": "2022-12-22T18:57:04.760Z"
   },
   {
    "duration": 7,
    "start_time": "2022-12-22T18:57:18.338Z"
   },
   {
    "duration": 4,
    "start_time": "2022-12-22T18:57:19.241Z"
   },
   {
    "duration": 4,
    "start_time": "2022-12-22T18:57:30.996Z"
   },
   {
    "duration": 4,
    "start_time": "2022-12-22T18:57:43.398Z"
   },
   {
    "duration": 6,
    "start_time": "2022-12-22T18:59:04.557Z"
   },
   {
    "duration": 3,
    "start_time": "2022-12-22T18:59:05.417Z"
   },
   {
    "duration": 4,
    "start_time": "2022-12-22T18:59:13.865Z"
   },
   {
    "duration": 4,
    "start_time": "2022-12-22T18:59:20.707Z"
   },
   {
    "duration": 1112,
    "start_time": "2022-12-22T18:59:34.858Z"
   },
   {
    "duration": 6,
    "start_time": "2022-12-22T18:59:52.428Z"
   },
   {
    "duration": 4,
    "start_time": "2022-12-22T18:59:53.107Z"
   },
   {
    "duration": 4,
    "start_time": "2022-12-22T19:01:02.910Z"
   },
   {
    "duration": 4,
    "start_time": "2022-12-22T19:01:07.308Z"
   },
   {
    "duration": 4,
    "start_time": "2022-12-22T19:01:12.958Z"
   },
   {
    "duration": 3,
    "start_time": "2022-12-22T19:01:16.006Z"
   },
   {
    "duration": 3,
    "start_time": "2022-12-22T19:01:28.510Z"
   },
   {
    "duration": 4,
    "start_time": "2022-12-22T19:01:32.111Z"
   },
   {
    "duration": 4,
    "start_time": "2022-12-22T19:01:37.461Z"
   },
   {
    "duration": 4,
    "start_time": "2022-12-22T19:03:29.910Z"
   },
   {
    "duration": 4,
    "start_time": "2022-12-22T19:03:35.040Z"
   },
   {
    "duration": 4,
    "start_time": "2022-12-22T19:03:49.430Z"
   },
   {
    "duration": 4,
    "start_time": "2022-12-22T19:04:05.666Z"
   },
   {
    "duration": 1111,
    "start_time": "2022-12-22T19:06:02.517Z"
   },
   {
    "duration": 0,
    "start_time": "2022-12-22T19:06:03.629Z"
   },
   {
    "duration": 6,
    "start_time": "2022-12-22T19:06:20.620Z"
   },
   {
    "duration": 7,
    "start_time": "2022-12-22T19:06:43.944Z"
   },
   {
    "duration": 3,
    "start_time": "2022-12-22T19:06:44.511Z"
   },
   {
    "duration": 4,
    "start_time": "2022-12-22T19:06:52.026Z"
   },
   {
    "duration": 4,
    "start_time": "2022-12-22T19:07:22.371Z"
   },
   {
    "duration": 1070,
    "start_time": "2022-12-22T19:09:26.754Z"
   },
   {
    "duration": 0,
    "start_time": "2022-12-22T19:09:27.826Z"
   },
   {
    "duration": 1087,
    "start_time": "2022-12-22T19:09:40.514Z"
   },
   {
    "duration": 1193,
    "start_time": "2022-12-22T19:12:12.194Z"
   },
   {
    "duration": 0,
    "start_time": "2022-12-22T19:12:13.390Z"
   },
   {
    "duration": 7,
    "start_time": "2022-12-22T19:12:28.607Z"
   },
   {
    "duration": 4,
    "start_time": "2022-12-22T19:12:30.843Z"
   },
   {
    "duration": 6,
    "start_time": "2022-12-22T19:31:13.999Z"
   },
   {
    "duration": 3,
    "start_time": "2022-12-22T19:31:14.612Z"
   },
   {
    "duration": 4,
    "start_time": "2022-12-22T19:31:22.445Z"
   },
   {
    "duration": 4,
    "start_time": "2022-12-22T19:31:56.058Z"
   },
   {
    "duration": 132,
    "start_time": "2022-12-22T19:40:56.649Z"
   },
   {
    "duration": 3,
    "start_time": "2022-12-22T19:44:23.089Z"
   },
   {
    "duration": 38,
    "start_time": "2022-12-22T19:44:26.567Z"
   },
   {
    "duration": 11,
    "start_time": "2022-12-22T19:44:26.766Z"
   },
   {
    "duration": 10,
    "start_time": "2022-12-22T19:44:26.944Z"
   },
   {
    "duration": 6,
    "start_time": "2022-12-22T19:44:27.111Z"
   },
   {
    "duration": 36,
    "start_time": "2022-12-22T19:44:27.267Z"
   },
   {
    "duration": 5,
    "start_time": "2022-12-22T19:44:29.268Z"
   },
   {
    "duration": 11,
    "start_time": "2022-12-22T19:44:33.038Z"
   },
   {
    "duration": 3,
    "start_time": "2022-12-22T19:51:39.738Z"
   },
   {
    "duration": 4,
    "start_time": "2022-12-22T19:51:49.281Z"
   },
   {
    "duration": 4,
    "start_time": "2022-12-22T19:51:58.706Z"
   },
   {
    "duration": 3,
    "start_time": "2022-12-22T19:52:09.134Z"
   },
   {
    "duration": 4,
    "start_time": "2022-12-22T19:52:50.182Z"
   },
   {
    "duration": 3,
    "start_time": "2022-12-22T19:52:56.646Z"
   },
   {
    "duration": 8,
    "start_time": "2022-12-22T19:57:47.010Z"
   },
   {
    "duration": 93,
    "start_time": "2022-12-22T19:57:57.844Z"
   },
   {
    "duration": 3,
    "start_time": "2022-12-22T19:58:11.558Z"
   },
   {
    "duration": 41,
    "start_time": "2022-12-22T19:58:11.783Z"
   },
   {
    "duration": 12,
    "start_time": "2022-12-22T19:58:11.961Z"
   },
   {
    "duration": 11,
    "start_time": "2022-12-22T19:58:12.138Z"
   },
   {
    "duration": 7,
    "start_time": "2022-12-22T19:58:12.294Z"
   },
   {
    "duration": 36,
    "start_time": "2022-12-22T19:58:12.455Z"
   },
   {
    "duration": 5,
    "start_time": "2022-12-22T19:58:14.649Z"
   },
   {
    "duration": 10,
    "start_time": "2022-12-22T19:58:17.102Z"
   },
   {
    "duration": 8,
    "start_time": "2022-12-22T19:58:23.045Z"
   },
   {
    "duration": 132,
    "start_time": "2022-12-22T19:58:28.647Z"
   },
   {
    "duration": 4,
    "start_time": "2022-12-22T19:58:38.926Z"
   },
   {
    "duration": 11,
    "start_time": "2022-12-22T19:59:01.525Z"
   },
   {
    "duration": 187,
    "start_time": "2022-12-22T19:59:03.633Z"
   },
   {
    "duration": 7,
    "start_time": "2022-12-22T19:59:36.051Z"
   },
   {
    "duration": 11,
    "start_time": "2022-12-22T19:59:42.283Z"
   },
   {
    "duration": 3,
    "start_time": "2022-12-22T20:00:33.835Z"
   },
   {
    "duration": 38,
    "start_time": "2022-12-22T20:00:34.030Z"
   },
   {
    "duration": 11,
    "start_time": "2022-12-22T20:00:34.173Z"
   },
   {
    "duration": 11,
    "start_time": "2022-12-22T20:00:34.323Z"
   },
   {
    "duration": 7,
    "start_time": "2022-12-22T20:00:34.448Z"
   },
   {
    "duration": 37,
    "start_time": "2022-12-22T20:00:34.618Z"
   },
   {
    "duration": 5,
    "start_time": "2022-12-22T20:00:36.067Z"
   },
   {
    "duration": 12,
    "start_time": "2022-12-22T20:00:37.940Z"
   },
   {
    "duration": 8,
    "start_time": "2022-12-22T20:00:39.799Z"
   },
   {
    "duration": 132,
    "start_time": "2022-12-22T20:00:40.721Z"
   },
   {
    "duration": 4,
    "start_time": "2022-12-22T20:00:53.108Z"
   },
   {
    "duration": 321,
    "start_time": "2022-12-22T20:00:55.062Z"
   },
   {
    "duration": 9,
    "start_time": "2022-12-22T20:11:44.665Z"
   },
   {
    "duration": 3,
    "start_time": "2022-12-22T20:11:49.938Z"
   },
   {
    "duration": 4,
    "start_time": "2022-12-22T20:11:52.511Z"
   },
   {
    "duration": 4,
    "start_time": "2022-12-22T20:12:25.007Z"
   },
   {
    "duration": 38,
    "start_time": "2022-12-22T20:12:25.200Z"
   },
   {
    "duration": 13,
    "start_time": "2022-12-22T20:12:25.355Z"
   },
   {
    "duration": 15,
    "start_time": "2022-12-22T20:12:25.520Z"
   },
   {
    "duration": 8,
    "start_time": "2022-12-22T20:12:25.675Z"
   },
   {
    "duration": 39,
    "start_time": "2022-12-22T20:12:25.838Z"
   },
   {
    "duration": 5,
    "start_time": "2022-12-22T20:12:26.287Z"
   },
   {
    "duration": 14,
    "start_time": "2022-12-22T20:12:28.596Z"
   },
   {
    "duration": 8,
    "start_time": "2022-12-22T20:12:29.607Z"
   },
   {
    "duration": 135,
    "start_time": "2022-12-22T20:12:31.286Z"
   },
   {
    "duration": 4,
    "start_time": "2022-12-22T20:12:48.817Z"
   },
   {
    "duration": 109,
    "start_time": "2022-12-22T20:12:52.760Z"
   },
   {
    "duration": 186,
    "start_time": "2022-12-22T20:13:07.549Z"
   },
   {
    "duration": 309,
    "start_time": "2022-12-22T20:14:00.715Z"
   },
   {
    "duration": 3,
    "start_time": "2022-12-22T20:14:11.735Z"
   },
   {
    "duration": 39,
    "start_time": "2022-12-22T20:14:11.934Z"
   },
   {
    "duration": 12,
    "start_time": "2022-12-22T20:14:12.098Z"
   },
   {
    "duration": 12,
    "start_time": "2022-12-22T20:14:12.255Z"
   },
   {
    "duration": 8,
    "start_time": "2022-12-22T20:14:12.509Z"
   },
   {
    "duration": 43,
    "start_time": "2022-12-22T20:14:12.669Z"
   },
   {
    "duration": 4,
    "start_time": "2022-12-22T20:14:13.116Z"
   },
   {
    "duration": 12,
    "start_time": "2022-12-22T20:14:14.273Z"
   },
   {
    "duration": 8,
    "start_time": "2022-12-22T20:14:16.512Z"
   },
   {
    "duration": 130,
    "start_time": "2022-12-22T20:14:17.235Z"
   },
   {
    "duration": 4,
    "start_time": "2022-12-22T20:14:19.905Z"
   },
   {
    "duration": 293,
    "start_time": "2022-12-22T20:14:21.963Z"
   },
   {
    "duration": 319,
    "start_time": "2022-12-22T20:14:33.151Z"
   },
   {
    "duration": 193,
    "start_time": "2022-12-22T20:14:53.733Z"
   },
   {
    "duration": 3,
    "start_time": "2022-12-22T20:18:16.568Z"
   },
   {
    "duration": 5,
    "start_time": "2022-12-22T20:18:21.968Z"
   },
   {
    "duration": 41,
    "start_time": "2022-12-22T20:18:22.143Z"
   },
   {
    "duration": 11,
    "start_time": "2022-12-22T20:18:22.311Z"
   },
   {
    "duration": 11,
    "start_time": "2022-12-22T20:18:22.469Z"
   },
   {
    "duration": 8,
    "start_time": "2022-12-22T20:18:22.626Z"
   },
   {
    "duration": 40,
    "start_time": "2022-12-22T20:18:22.773Z"
   },
   {
    "duration": 4,
    "start_time": "2022-12-22T20:18:24.077Z"
   },
   {
    "duration": 12,
    "start_time": "2022-12-22T20:18:25.228Z"
   },
   {
    "duration": 8,
    "start_time": "2022-12-22T20:18:26.254Z"
   },
   {
    "duration": 131,
    "start_time": "2022-12-22T20:18:26.721Z"
   },
   {
    "duration": 4,
    "start_time": "2022-12-22T20:18:31.087Z"
   },
   {
    "duration": 277,
    "start_time": "2022-12-22T20:18:38.754Z"
   },
   {
    "duration": 129,
    "start_time": "2022-12-22T20:18:43.320Z"
   },
   {
    "duration": 7,
    "start_time": "2022-12-22T20:18:48.925Z"
   },
   {
    "duration": 7,
    "start_time": "2022-12-22T20:18:50.354Z"
   },
   {
    "duration": 8,
    "start_time": "2022-12-22T20:18:51.791Z"
   },
   {
    "duration": 11,
    "start_time": "2022-12-22T20:20:24.357Z"
   },
   {
    "duration": 4,
    "start_time": "2022-12-22T20:20:38.564Z"
   },
   {
    "duration": 4,
    "start_time": "2022-12-22T20:21:00.978Z"
   },
   {
    "duration": 4,
    "start_time": "2022-12-22T20:21:03.615Z"
   },
   {
    "duration": 5,
    "start_time": "2022-12-22T20:21:06.726Z"
   },
   {
    "duration": 4,
    "start_time": "2022-12-22T20:21:08.052Z"
   },
   {
    "duration": 4,
    "start_time": "2022-12-22T20:21:17.942Z"
   },
   {
    "duration": 5,
    "start_time": "2022-12-22T20:21:32.134Z"
   },
   {
    "duration": 4,
    "start_time": "2022-12-22T20:21:37.925Z"
   },
   {
    "duration": 3,
    "start_time": "2022-12-22T20:22:33.602Z"
   },
   {
    "duration": 38,
    "start_time": "2022-12-22T20:22:33.809Z"
   },
   {
    "duration": 12,
    "start_time": "2022-12-22T20:22:33.985Z"
   },
   {
    "duration": 12,
    "start_time": "2022-12-22T20:22:34.110Z"
   },
   {
    "duration": 8,
    "start_time": "2022-12-22T20:22:34.291Z"
   },
   {
    "duration": 36,
    "start_time": "2022-12-22T20:22:34.442Z"
   },
   {
    "duration": 5,
    "start_time": "2022-12-22T20:22:34.950Z"
   },
   {
    "duration": 13,
    "start_time": "2022-12-22T20:22:35.280Z"
   },
   {
    "duration": 7,
    "start_time": "2022-12-22T20:22:36.800Z"
   },
   {
    "duration": 128,
    "start_time": "2022-12-22T20:22:37.454Z"
   },
   {
    "duration": 3,
    "start_time": "2022-12-22T20:22:43.225Z"
   },
   {
    "duration": 9,
    "start_time": "2022-12-22T20:22:44.140Z"
   },
   {
    "duration": 129,
    "start_time": "2022-12-22T20:22:48.677Z"
   },
   {
    "duration": 8,
    "start_time": "2022-12-22T20:22:57.894Z"
   },
   {
    "duration": 5,
    "start_time": "2022-12-22T20:23:07.402Z"
   },
   {
    "duration": 7,
    "start_time": "2022-12-22T20:23:27.416Z"
   },
   {
    "duration": 12,
    "start_time": "2022-12-22T20:23:32.574Z"
   },
   {
    "duration": 3,
    "start_time": "2022-12-22T20:25:10.130Z"
   },
   {
    "duration": 39,
    "start_time": "2022-12-22T20:25:10.585Z"
   },
   {
    "duration": 13,
    "start_time": "2022-12-22T20:25:11.042Z"
   },
   {
    "duration": 13,
    "start_time": "2022-12-22T20:25:11.626Z"
   },
   {
    "duration": 7,
    "start_time": "2022-12-22T20:25:12.211Z"
   },
   {
    "duration": 39,
    "start_time": "2022-12-22T20:25:12.825Z"
   },
   {
    "duration": 5,
    "start_time": "2022-12-22T20:25:14.147Z"
   },
   {
    "duration": 12,
    "start_time": "2022-12-22T20:25:16.294Z"
   },
   {
    "duration": 9,
    "start_time": "2022-12-22T20:25:19.005Z"
   },
   {
    "duration": 135,
    "start_time": "2022-12-22T20:25:20.897Z"
   },
   {
    "duration": 4,
    "start_time": "2022-12-22T20:25:30.047Z"
   },
   {
    "duration": 8,
    "start_time": "2022-12-22T20:25:31.243Z"
   },
   {
    "duration": 4,
    "start_time": "2022-12-22T20:25:34.516Z"
   },
   {
    "duration": 132,
    "start_time": "2022-12-22T20:25:39.235Z"
   },
   {
    "duration": 4,
    "start_time": "2022-12-22T20:26:10.616Z"
   },
   {
    "duration": 6,
    "start_time": "2022-12-22T20:26:15.720Z"
   },
   {
    "duration": 4,
    "start_time": "2022-12-22T20:26:17.624Z"
   },
   {
    "duration": 3,
    "start_time": "2022-12-22T20:26:29.503Z"
   },
   {
    "duration": 38,
    "start_time": "2022-12-22T20:26:29.703Z"
   },
   {
    "duration": 12,
    "start_time": "2022-12-22T20:26:29.885Z"
   },
   {
    "duration": 11,
    "start_time": "2022-12-22T20:26:30.060Z"
   },
   {
    "duration": 7,
    "start_time": "2022-12-22T20:26:30.205Z"
   },
   {
    "duration": 35,
    "start_time": "2022-12-22T20:26:30.378Z"
   },
   {
    "duration": 5,
    "start_time": "2022-12-22T20:26:31.087Z"
   },
   {
    "duration": 11,
    "start_time": "2022-12-22T20:26:31.487Z"
   },
   {
    "duration": 7,
    "start_time": "2022-12-22T20:26:34.493Z"
   },
   {
    "duration": 134,
    "start_time": "2022-12-22T20:26:35.754Z"
   },
   {
    "duration": 4,
    "start_time": "2022-12-22T20:26:46.233Z"
   },
   {
    "duration": 322,
    "start_time": "2022-12-22T20:26:48.402Z"
   },
   {
    "duration": 3,
    "start_time": "2022-12-22T20:27:30.428Z"
   },
   {
    "duration": 9,
    "start_time": "2022-12-22T20:27:33.532Z"
   },
   {
    "duration": 5,
    "start_time": "2022-12-22T20:27:34.844Z"
   },
   {
    "duration": 143,
    "start_time": "2022-12-22T20:29:37.961Z"
   },
   {
    "duration": 190,
    "start_time": "2022-12-22T20:52:07.542Z"
   },
   {
    "duration": 8,
    "start_time": "2022-12-22T20:55:36.260Z"
   },
   {
    "duration": 9,
    "start_time": "2022-12-22T20:56:04.197Z"
   },
   {
    "duration": 125,
    "start_time": "2022-12-22T20:56:16.242Z"
   },
   {
    "duration": 9,
    "start_time": "2022-12-22T20:57:06.636Z"
   },
   {
    "duration": 128,
    "start_time": "2022-12-22T20:57:10.105Z"
   },
   {
    "duration": 5,
    "start_time": "2022-12-22T20:57:24.204Z"
   },
   {
    "duration": 95,
    "start_time": "2022-12-22T20:58:04.360Z"
   },
   {
    "duration": 7,
    "start_time": "2022-12-22T20:58:41.821Z"
   },
   {
    "duration": 6,
    "start_time": "2022-12-22T20:58:54.211Z"
   },
   {
    "duration": 84,
    "start_time": "2022-12-22T20:59:06.977Z"
   },
   {
    "duration": 87,
    "start_time": "2022-12-22T20:59:16.474Z"
   },
   {
    "duration": 9,
    "start_time": "2022-12-22T21:08:46.498Z"
   },
   {
    "duration": 1025,
    "start_time": "2022-12-22T21:18:42.723Z"
   },
   {
    "duration": 40,
    "start_time": "2022-12-22T21:18:43.750Z"
   },
   {
    "duration": 19,
    "start_time": "2022-12-22T21:18:43.792Z"
   },
   {
    "duration": 20,
    "start_time": "2022-12-22T21:18:43.813Z"
   },
   {
    "duration": 17,
    "start_time": "2022-12-22T21:18:43.835Z"
   },
   {
    "duration": 52,
    "start_time": "2022-12-22T21:18:43.854Z"
   },
   {
    "duration": 4,
    "start_time": "2022-12-22T21:18:43.907Z"
   },
   {
    "duration": 19,
    "start_time": "2022-12-22T21:18:43.913Z"
   },
   {
    "duration": 12,
    "start_time": "2022-12-22T21:18:43.933Z"
   },
   {
    "duration": 394,
    "start_time": "2022-12-22T21:18:43.947Z"
   },
   {
    "duration": 4,
    "start_time": "2022-12-22T21:18:44.343Z"
   },
   {
    "duration": 11,
    "start_time": "2022-12-22T21:18:44.348Z"
   },
   {
    "duration": 4,
    "start_time": "2022-12-22T21:18:44.360Z"
   },
   {
    "duration": 115,
    "start_time": "2022-12-22T21:18:44.365Z"
   },
   {
    "duration": 7,
    "start_time": "2022-12-22T21:18:44.482Z"
   },
   {
    "duration": 171,
    "start_time": "2022-12-22T21:18:44.491Z"
   },
   {
    "duration": 1012,
    "start_time": "2022-12-22T21:20:36.257Z"
   },
   {
    "duration": 40,
    "start_time": "2022-12-22T21:20:37.271Z"
   },
   {
    "duration": 18,
    "start_time": "2022-12-22T21:20:37.312Z"
   },
   {
    "duration": 20,
    "start_time": "2022-12-22T21:20:37.332Z"
   },
   {
    "duration": 18,
    "start_time": "2022-12-22T21:20:37.354Z"
   },
   {
    "duration": 44,
    "start_time": "2022-12-22T21:20:37.373Z"
   },
   {
    "duration": 4,
    "start_time": "2022-12-22T21:20:37.419Z"
   },
   {
    "duration": 26,
    "start_time": "2022-12-22T21:20:37.425Z"
   },
   {
    "duration": 17,
    "start_time": "2022-12-22T21:20:37.453Z"
   },
   {
    "duration": 407,
    "start_time": "2022-12-22T21:20:37.472Z"
   },
   {
    "duration": 4,
    "start_time": "2022-12-22T21:20:37.881Z"
   },
   {
    "duration": 20,
    "start_time": "2022-12-22T21:20:37.887Z"
   },
   {
    "duration": 20,
    "start_time": "2022-12-22T21:20:37.909Z"
   },
   {
    "duration": 116,
    "start_time": "2022-12-22T21:20:37.931Z"
   },
   {
    "duration": 9,
    "start_time": "2022-12-22T21:20:38.048Z"
   },
   {
    "duration": 16377,
    "start_time": "2022-12-22T21:20:38.059Z"
   },
   {
    "duration": 1367,
    "start_time": "2022-12-22T21:26:38.947Z"
   },
   {
    "duration": 10506,
    "start_time": "2022-12-22T21:31:02.968Z"
   },
   {
    "duration": 96,
    "start_time": "2022-12-22T21:34:08.566Z"
   },
   {
    "duration": 1011,
    "start_time": "2022-12-22T21:36:21.519Z"
   },
   {
    "duration": 40,
    "start_time": "2022-12-22T21:36:22.532Z"
   },
   {
    "duration": 17,
    "start_time": "2022-12-22T21:36:22.574Z"
   },
   {
    "duration": 12,
    "start_time": "2022-12-22T21:36:22.594Z"
   },
   {
    "duration": 7,
    "start_time": "2022-12-22T21:36:22.607Z"
   },
   {
    "duration": 38,
    "start_time": "2022-12-22T21:36:22.616Z"
   },
   {
    "duration": 4,
    "start_time": "2022-12-22T21:36:22.655Z"
   },
   {
    "duration": 15,
    "start_time": "2022-12-22T21:36:22.661Z"
   },
   {
    "duration": 7,
    "start_time": "2022-12-22T21:36:22.678Z"
   },
   {
    "duration": 392,
    "start_time": "2022-12-22T21:36:22.687Z"
   },
   {
    "duration": 3,
    "start_time": "2022-12-22T21:36:23.081Z"
   },
   {
    "duration": 12,
    "start_time": "2022-12-22T21:36:23.085Z"
   },
   {
    "duration": 4,
    "start_time": "2022-12-22T21:36:23.099Z"
   },
   {
    "duration": 105,
    "start_time": "2022-12-22T21:36:23.105Z"
   },
   {
    "duration": 17,
    "start_time": "2022-12-22T21:36:23.212Z"
   },
   {
    "duration": 62597,
    "start_time": "2022-12-22T21:36:23.231Z"
   },
   {
    "duration": 8655,
    "start_time": "2022-12-22T21:37:25.830Z"
   },
   {
    "duration": 3,
    "start_time": "2022-12-22T21:38:47.066Z"
   },
   {
    "duration": 4,
    "start_time": "2022-12-22T21:38:58.372Z"
   },
   {
    "duration": 3,
    "start_time": "2022-12-22T21:40:01.348Z"
   },
   {
    "duration": 4,
    "start_time": "2022-12-22T21:40:15.526Z"
   },
   {
    "duration": 6,
    "start_time": "2022-12-22T21:40:41.516Z"
   },
   {
    "duration": 14,
    "start_time": "2022-12-22T21:41:04.334Z"
   },
   {
    "duration": 5,
    "start_time": "2022-12-22T21:41:55.954Z"
   },
   {
    "duration": 1082,
    "start_time": "2022-12-22T21:42:54.190Z"
   },
   {
    "duration": 42,
    "start_time": "2022-12-22T21:42:55.274Z"
   },
   {
    "duration": 20,
    "start_time": "2022-12-22T21:42:55.317Z"
   },
   {
    "duration": 35,
    "start_time": "2022-12-22T21:42:55.339Z"
   },
   {
    "duration": 17,
    "start_time": "2022-12-22T21:42:55.376Z"
   },
   {
    "duration": 57,
    "start_time": "2022-12-22T21:42:55.394Z"
   },
   {
    "duration": 5,
    "start_time": "2022-12-22T21:42:55.453Z"
   },
   {
    "duration": 32,
    "start_time": "2022-12-22T21:42:55.460Z"
   },
   {
    "duration": 22,
    "start_time": "2022-12-22T21:42:55.494Z"
   },
   {
    "duration": 406,
    "start_time": "2022-12-22T21:42:55.519Z"
   },
   {
    "duration": 4,
    "start_time": "2022-12-22T21:42:55.926Z"
   },
   {
    "duration": 13,
    "start_time": "2022-12-22T21:42:55.931Z"
   },
   {
    "duration": 7,
    "start_time": "2022-12-22T21:42:55.945Z"
   },
   {
    "duration": 124,
    "start_time": "2022-12-22T21:42:55.953Z"
   },
   {
    "duration": 9,
    "start_time": "2022-12-22T21:42:56.079Z"
   },
   {
    "duration": 7,
    "start_time": "2022-12-22T21:42:56.089Z"
   },
   {
    "duration": 12517,
    "start_time": "2022-12-22T21:42:56.097Z"
   },
   {
    "duration": 7531,
    "start_time": "2022-12-22T21:46:35.774Z"
   },
   {
    "duration": 11155,
    "start_time": "2022-12-22T21:47:10.516Z"
   },
   {
    "duration": 9,
    "start_time": "2022-12-23T12:25:58.842Z"
   },
   {
    "duration": 76,
    "start_time": "2022-12-23T12:25:59.881Z"
   },
   {
    "duration": 1187,
    "start_time": "2022-12-23T12:26:06.366Z"
   },
   {
    "duration": 81,
    "start_time": "2022-12-23T12:26:09.182Z"
   },
   {
    "duration": 21,
    "start_time": "2022-12-23T12:26:09.479Z"
   },
   {
    "duration": 15,
    "start_time": "2022-12-23T12:26:09.758Z"
   },
   {
    "duration": 7,
    "start_time": "2022-12-23T12:26:10.483Z"
   },
   {
    "duration": 42,
    "start_time": "2022-12-23T12:26:11.024Z"
   },
   {
    "duration": 4,
    "start_time": "2022-12-23T12:26:13.079Z"
   },
   {
    "duration": 558,
    "start_time": "2022-12-23T12:26:13.741Z"
   },
   {
    "duration": 5,
    "start_time": "2022-12-23T12:27:27.337Z"
   },
   {
    "duration": 5,
    "start_time": "2022-12-23T12:28:19.604Z"
   },
   {
    "duration": 125,
    "start_time": "2022-12-23T12:28:20.043Z"
   },
   {
    "duration": 5,
    "start_time": "2022-12-23T12:29:13.004Z"
   },
   {
    "duration": 197,
    "start_time": "2022-12-23T12:29:13.529Z"
   },
   {
    "duration": 7,
    "start_time": "2022-12-23T12:29:21.936Z"
   },
   {
    "duration": 138,
    "start_time": "2022-12-23T12:29:23.787Z"
   },
   {
    "duration": 4,
    "start_time": "2022-12-23T12:30:31.450Z"
   },
   {
    "duration": 128,
    "start_time": "2022-12-23T12:30:31.931Z"
   },
   {
    "duration": 5,
    "start_time": "2022-12-23T12:31:19.567Z"
   },
   {
    "duration": 134,
    "start_time": "2022-12-23T12:31:20.015Z"
   },
   {
    "duration": 4,
    "start_time": "2022-12-23T12:32:03.175Z"
   },
   {
    "duration": 209,
    "start_time": "2022-12-23T12:32:03.607Z"
   },
   {
    "duration": 5,
    "start_time": "2022-12-23T12:32:21.601Z"
   },
   {
    "duration": 142,
    "start_time": "2022-12-23T12:32:22.005Z"
   },
   {
    "duration": 4,
    "start_time": "2022-12-23T12:33:01.214Z"
   },
   {
    "duration": 136,
    "start_time": "2022-12-23T12:33:01.642Z"
   },
   {
    "duration": 1473,
    "start_time": "2022-12-23T12:33:36.537Z"
   },
   {
    "duration": 15,
    "start_time": "2022-12-23T12:36:50.024Z"
   },
   {
    "duration": 5,
    "start_time": "2022-12-23T12:36:54.803Z"
   },
   {
    "duration": 10,
    "start_time": "2022-12-23T12:37:02.621Z"
   },
   {
    "duration": 169,
    "start_time": "2022-12-23T12:43:15.183Z"
   },
   {
    "duration": 204,
    "start_time": "2022-12-23T12:43:45.829Z"
   },
   {
    "duration": 352,
    "start_time": "2022-12-23T12:44:13.858Z"
   },
   {
    "duration": 10,
    "start_time": "2022-12-23T12:44:21.582Z"
   },
   {
    "duration": 4,
    "start_time": "2022-12-23T12:44:38.044Z"
   },
   {
    "duration": 6,
    "start_time": "2022-12-23T12:46:19.444Z"
   },
   {
    "duration": 162,
    "start_time": "2022-12-23T12:46:44.982Z"
   },
   {
    "duration": 6,
    "start_time": "2022-12-23T12:47:06.035Z"
   },
   {
    "duration": 163,
    "start_time": "2022-12-23T12:47:12.287Z"
   },
   {
    "duration": 144,
    "start_time": "2022-12-23T12:47:28.525Z"
   },
   {
    "duration": 6,
    "start_time": "2022-12-23T12:47:36.379Z"
   },
   {
    "duration": 6,
    "start_time": "2022-12-23T12:48:31.855Z"
   },
   {
    "duration": 326,
    "start_time": "2022-12-23T12:48:37.847Z"
   },
   {
    "duration": 14,
    "start_time": "2022-12-23T12:49:45.413Z"
   },
   {
    "duration": 385,
    "start_time": "2022-12-23T12:49:46.044Z"
   },
   {
    "duration": 6,
    "start_time": "2022-12-23T12:50:36.035Z"
   },
   {
    "duration": 310,
    "start_time": "2022-12-23T12:50:37.510Z"
   },
   {
    "duration": 5,
    "start_time": "2022-12-23T12:50:44.581Z"
   },
   {
    "duration": 5,
    "start_time": "2022-12-23T12:50:47.411Z"
   },
   {
    "duration": 6,
    "start_time": "2022-12-23T12:50:51.678Z"
   },
   {
    "duration": 13,
    "start_time": "2022-12-23T12:51:31.009Z"
   },
   {
    "duration": 11,
    "start_time": "2022-12-23T12:51:37.029Z"
   },
   {
    "duration": 54,
    "start_time": "2022-12-23T12:51:42.444Z"
   },
   {
    "duration": 5,
    "start_time": "2022-12-23T12:52:25.352Z"
   },
   {
    "duration": 6,
    "start_time": "2022-12-23T12:52:28.863Z"
   },
   {
    "duration": 12,
    "start_time": "2022-12-23T12:52:54.345Z"
   },
   {
    "duration": 10,
    "start_time": "2022-12-23T12:53:02.460Z"
   },
   {
    "duration": 12,
    "start_time": "2022-12-23T12:53:30.165Z"
   },
   {
    "duration": 6,
    "start_time": "2022-12-23T12:53:53.709Z"
   },
   {
    "duration": 7,
    "start_time": "2022-12-23T12:53:56.097Z"
   },
   {
    "duration": 271,
    "start_time": "2022-12-23T12:54:01.109Z"
   },
   {
    "duration": 244,
    "start_time": "2022-12-23T12:56:52.811Z"
   },
   {
    "duration": 4,
    "start_time": "2022-12-23T12:57:46.872Z"
   },
   {
    "duration": 5,
    "start_time": "2022-12-23T12:58:30.759Z"
   },
   {
    "duration": 131,
    "start_time": "2022-12-23T12:59:00.030Z"
   },
   {
    "duration": 117,
    "start_time": "2022-12-23T12:59:40.446Z"
   },
   {
    "duration": 145,
    "start_time": "2022-12-23T13:00:45.039Z"
   },
   {
    "duration": 13,
    "start_time": "2022-12-23T13:02:00.729Z"
   },
   {
    "duration": 11,
    "start_time": "2022-12-23T13:02:34.870Z"
   },
   {
    "duration": 256,
    "start_time": "2022-12-23T13:02:41.240Z"
   },
   {
    "duration": 50,
    "start_time": "2022-12-23T13:04:30.340Z"
   },
   {
    "duration": 42,
    "start_time": "2022-12-23T13:04:36.149Z"
   },
   {
    "duration": 51,
    "start_time": "2022-12-23T13:04:41.285Z"
   },
   {
    "duration": 53,
    "start_time": "2022-12-23T13:04:54.585Z"
   },
   {
    "duration": 15,
    "start_time": "2022-12-23T13:05:01.329Z"
   },
   {
    "duration": 263,
    "start_time": "2022-12-23T13:05:07.711Z"
   },
   {
    "duration": 307,
    "start_time": "2022-12-23T13:07:55.852Z"
   },
   {
    "duration": 116,
    "start_time": "2022-12-23T13:08:55.436Z"
   },
   {
    "duration": 329,
    "start_time": "2022-12-23T13:09:30.325Z"
   },
   {
    "duration": 139,
    "start_time": "2022-12-23T13:10:05.024Z"
   },
   {
    "duration": 129,
    "start_time": "2022-12-23T13:10:06.799Z"
   },
   {
    "duration": 116,
    "start_time": "2022-12-23T13:11:23.917Z"
   },
   {
    "duration": 129,
    "start_time": "2022-12-23T13:13:52.438Z"
   },
   {
    "duration": 285,
    "start_time": "2022-12-23T13:13:59.055Z"
   },
   {
    "duration": 1096,
    "start_time": "2022-12-23T13:14:23.706Z"
   },
   {
    "duration": 993,
    "start_time": "2022-12-23T13:14:31.686Z"
   },
   {
    "duration": 46,
    "start_time": "2022-12-23T13:25:41.687Z"
   },
   {
    "duration": 1163,
    "start_time": "2022-12-23T13:25:51.200Z"
   },
   {
    "duration": 1414,
    "start_time": "2022-12-23T13:45:54.354Z"
   },
   {
    "duration": 41,
    "start_time": "2022-12-23T13:45:55.770Z"
   },
   {
    "duration": 19,
    "start_time": "2022-12-23T13:45:55.813Z"
   },
   {
    "duration": 14,
    "start_time": "2022-12-23T13:45:55.835Z"
   },
   {
    "duration": 7,
    "start_time": "2022-12-23T13:45:55.850Z"
   },
   {
    "duration": 90,
    "start_time": "2022-12-23T13:45:55.859Z"
   },
   {
    "duration": 6,
    "start_time": "2022-12-23T13:45:55.951Z"
   },
   {
    "duration": 211,
    "start_time": "2022-12-23T13:45:55.959Z"
   },
   {
    "duration": 1565,
    "start_time": "2022-12-23T13:45:56.173Z"
   },
   {
    "duration": 1420,
    "start_time": "2022-12-23T13:45:57.741Z"
   },
   {
    "duration": 5,
    "start_time": "2022-12-23T13:45:59.163Z"
   },
   {
    "duration": 33,
    "start_time": "2022-12-23T13:45:59.170Z"
   },
   {
    "duration": 8,
    "start_time": "2022-12-23T13:45:59.205Z"
   },
   {
    "duration": 186,
    "start_time": "2022-12-23T13:45:59.214Z"
   },
   {
    "duration": 5,
    "start_time": "2022-12-23T13:45:59.401Z"
   },
   {
    "duration": 18,
    "start_time": "2022-12-23T13:45:59.407Z"
   },
   {
    "duration": 7,
    "start_time": "2022-12-23T13:45:59.427Z"
   },
   {
    "duration": 144,
    "start_time": "2022-12-23T13:45:59.435Z"
   },
   {
    "duration": 20,
    "start_time": "2022-12-23T13:45:59.581Z"
   },
   {
    "duration": 5,
    "start_time": "2022-12-23T13:45:59.603Z"
   },
   {
    "duration": 10200,
    "start_time": "2022-12-23T13:45:59.610Z"
   },
   {
    "duration": 1382,
    "start_time": "2022-12-23T13:49:15.827Z"
   },
   {
    "duration": 40,
    "start_time": "2022-12-23T13:49:17.211Z"
   },
   {
    "duration": 18,
    "start_time": "2022-12-23T13:49:17.252Z"
   },
   {
    "duration": 13,
    "start_time": "2022-12-23T13:49:17.272Z"
   },
   {
    "duration": 11,
    "start_time": "2022-12-23T13:49:17.286Z"
   },
   {
    "duration": 40,
    "start_time": "2022-12-23T13:49:17.299Z"
   },
   {
    "duration": 5,
    "start_time": "2022-12-23T13:49:17.340Z"
   },
   {
    "duration": 170,
    "start_time": "2022-12-23T13:49:17.346Z"
   },
   {
    "duration": 1558,
    "start_time": "2022-12-23T13:49:17.519Z"
   },
   {
    "duration": 1435,
    "start_time": "2022-12-23T13:49:19.079Z"
   },
   {
    "duration": 5,
    "start_time": "2022-12-23T13:49:20.516Z"
   },
   {
    "duration": 16,
    "start_time": "2022-12-23T13:49:20.522Z"
   },
   {
    "duration": 8,
    "start_time": "2022-12-23T13:49:20.539Z"
   },
   {
    "duration": 176,
    "start_time": "2022-12-23T13:49:20.549Z"
   },
   {
    "duration": 4,
    "start_time": "2022-12-23T13:49:20.727Z"
   },
   {
    "duration": 11,
    "start_time": "2022-12-23T13:49:20.733Z"
   },
   {
    "duration": 6,
    "start_time": "2022-12-23T13:49:20.745Z"
   },
   {
    "duration": 130,
    "start_time": "2022-12-23T13:49:20.752Z"
   },
   {
    "duration": 15,
    "start_time": "2022-12-23T13:49:20.884Z"
   },
   {
    "duration": 6,
    "start_time": "2022-12-23T13:49:20.901Z"
   },
   {
    "duration": 11229,
    "start_time": "2022-12-23T13:49:20.908Z"
   },
   {
    "duration": 153,
    "start_time": "2022-12-23T13:49:43.186Z"
   },
   {
    "duration": 10794,
    "start_time": "2022-12-23T14:06:59.525Z"
   },
   {
    "duration": 12172,
    "start_time": "2022-12-23T14:07:21.781Z"
   },
   {
    "duration": 221285,
    "start_time": "2022-12-23T14:08:18.249Z"
   },
   {
    "duration": 1324,
    "start_time": "2022-12-23T15:12:10.580Z"
   },
   {
    "duration": 41,
    "start_time": "2022-12-23T15:12:11.906Z"
   },
   {
    "duration": 16,
    "start_time": "2022-12-23T15:12:11.949Z"
   },
   {
    "duration": 13,
    "start_time": "2022-12-23T15:12:11.967Z"
   },
   {
    "duration": 8,
    "start_time": "2022-12-23T15:12:11.981Z"
   },
   {
    "duration": 40,
    "start_time": "2022-12-23T15:12:11.996Z"
   },
   {
    "duration": 4,
    "start_time": "2022-12-23T15:12:12.038Z"
   },
   {
    "duration": 155,
    "start_time": "2022-12-23T15:12:12.043Z"
   },
   {
    "duration": 1510,
    "start_time": "2022-12-23T15:12:12.199Z"
   },
   {
    "duration": 1402,
    "start_time": "2022-12-23T15:12:13.712Z"
   },
   {
    "duration": 5,
    "start_time": "2022-12-23T15:12:15.116Z"
   },
   {
    "duration": 24,
    "start_time": "2022-12-23T15:12:15.123Z"
   },
   {
    "duration": 9,
    "start_time": "2022-12-23T15:12:15.149Z"
   },
   {
    "duration": 168,
    "start_time": "2022-12-23T15:12:15.160Z"
   },
   {
    "duration": 4,
    "start_time": "2022-12-23T15:12:15.329Z"
   },
   {
    "duration": 20,
    "start_time": "2022-12-23T15:12:15.335Z"
   },
   {
    "duration": 5,
    "start_time": "2022-12-23T15:12:15.357Z"
   },
   {
    "duration": 136,
    "start_time": "2022-12-23T15:12:15.363Z"
   },
   {
    "duration": 8,
    "start_time": "2022-12-23T15:12:15.501Z"
   },
   {
    "duration": 7,
    "start_time": "2022-12-23T15:12:15.510Z"
   },
   {
    "duration": 10813,
    "start_time": "2022-12-23T15:12:15.519Z"
   },
   {
    "duration": 1293,
    "start_time": "2022-12-23T15:13:42.510Z"
   },
   {
    "duration": 40,
    "start_time": "2022-12-23T15:13:43.805Z"
   },
   {
    "duration": 18,
    "start_time": "2022-12-23T15:13:43.847Z"
   },
   {
    "duration": 12,
    "start_time": "2022-12-23T15:13:43.867Z"
   },
   {
    "duration": 7,
    "start_time": "2022-12-23T15:13:43.881Z"
   },
   {
    "duration": 53,
    "start_time": "2022-12-23T15:13:43.889Z"
   },
   {
    "duration": 5,
    "start_time": "2022-12-23T15:13:43.944Z"
   },
   {
    "duration": 166,
    "start_time": "2022-12-23T15:13:43.950Z"
   },
   {
    "duration": 1498,
    "start_time": "2022-12-23T15:13:44.118Z"
   },
   {
    "duration": 1367,
    "start_time": "2022-12-23T15:13:45.618Z"
   },
   {
    "duration": 10,
    "start_time": "2022-12-23T15:13:46.987Z"
   },
   {
    "duration": 14,
    "start_time": "2022-12-23T15:13:46.998Z"
   },
   {
    "duration": 9,
    "start_time": "2022-12-23T15:13:47.013Z"
   },
   {
    "duration": 170,
    "start_time": "2022-12-23T15:13:47.024Z"
   },
   {
    "duration": 4,
    "start_time": "2022-12-23T15:13:47.195Z"
   },
   {
    "duration": 19,
    "start_time": "2022-12-23T15:13:47.201Z"
   },
   {
    "duration": 5,
    "start_time": "2022-12-23T15:13:47.221Z"
   },
   {
    "duration": 247,
    "start_time": "2022-12-23T15:13:47.228Z"
   },
   {
    "duration": 19,
    "start_time": "2022-12-23T15:13:47.477Z"
   },
   {
    "duration": 5,
    "start_time": "2022-12-23T15:13:47.498Z"
   },
   {
    "duration": 1276,
    "start_time": "2022-12-23T15:17:34.648Z"
   },
   {
    "duration": 49,
    "start_time": "2022-12-23T15:17:35.926Z"
   },
   {
    "duration": 22,
    "start_time": "2022-12-23T15:17:35.978Z"
   },
   {
    "duration": 16,
    "start_time": "2022-12-23T15:17:36.004Z"
   },
   {
    "duration": 13,
    "start_time": "2022-12-23T15:17:36.023Z"
   },
   {
    "duration": 72,
    "start_time": "2022-12-23T15:17:36.038Z"
   },
   {
    "duration": 5,
    "start_time": "2022-12-23T15:17:36.112Z"
   },
   {
    "duration": 172,
    "start_time": "2022-12-23T15:17:36.119Z"
   },
   {
    "duration": 1508,
    "start_time": "2022-12-23T15:17:36.293Z"
   },
   {
    "duration": 1387,
    "start_time": "2022-12-23T15:17:37.803Z"
   },
   {
    "duration": 9,
    "start_time": "2022-12-23T15:17:39.191Z"
   },
   {
    "duration": 15,
    "start_time": "2022-12-23T15:17:39.201Z"
   },
   {
    "duration": 8,
    "start_time": "2022-12-23T15:17:39.217Z"
   },
   {
    "duration": 174,
    "start_time": "2022-12-23T15:17:39.227Z"
   },
   {
    "duration": 5,
    "start_time": "2022-12-23T15:17:39.403Z"
   },
   {
    "duration": 12,
    "start_time": "2022-12-23T15:17:39.410Z"
   },
   {
    "duration": 5,
    "start_time": "2022-12-23T15:17:39.423Z"
   },
   {
    "duration": 140,
    "start_time": "2022-12-23T15:17:39.430Z"
   },
   {
    "duration": 8,
    "start_time": "2022-12-23T15:17:39.571Z"
   },
   {
    "duration": 17,
    "start_time": "2022-12-23T15:17:39.581Z"
   },
   {
    "duration": 2045345,
    "start_time": "2022-12-23T15:17:39.600Z"
   },
   {
    "duration": 2398022,
    "start_time": "2022-12-23T15:51:44.946Z"
   },
   {
    "duration": 1317,
    "start_time": "2022-12-29T14:06:10.520Z"
   },
   {
    "duration": 78,
    "start_time": "2022-12-29T14:06:11.838Z"
   },
   {
    "duration": 16,
    "start_time": "2022-12-29T14:06:11.917Z"
   },
   {
    "duration": 13,
    "start_time": "2022-12-29T14:06:11.935Z"
   },
   {
    "duration": 8,
    "start_time": "2022-12-29T14:06:11.949Z"
   },
   {
    "duration": 38,
    "start_time": "2022-12-29T14:06:11.958Z"
   },
   {
    "duration": 4,
    "start_time": "2022-12-29T14:06:11.998Z"
   },
   {
    "duration": 151,
    "start_time": "2022-12-29T14:06:12.003Z"
   },
   {
    "duration": 1326,
    "start_time": "2022-12-29T14:06:12.155Z"
   },
   {
    "duration": 1228,
    "start_time": "2022-12-29T14:06:13.483Z"
   },
   {
    "duration": 5,
    "start_time": "2022-12-29T14:06:14.713Z"
   },
   {
    "duration": 18,
    "start_time": "2022-12-29T14:06:14.720Z"
   },
   {
    "duration": 9,
    "start_time": "2022-12-29T14:06:14.741Z"
   },
   {
    "duration": 198,
    "start_time": "2022-12-29T14:06:14.753Z"
   },
   {
    "duration": 4,
    "start_time": "2022-12-29T14:06:14.952Z"
   },
   {
    "duration": 28,
    "start_time": "2022-12-29T14:06:14.957Z"
   },
   {
    "duration": 5,
    "start_time": "2022-12-29T14:06:14.987Z"
   },
   {
    "duration": 110,
    "start_time": "2022-12-29T14:06:14.993Z"
   },
   {
    "duration": 7,
    "start_time": "2022-12-29T14:06:15.105Z"
   },
   {
    "duration": 8,
    "start_time": "2022-12-29T14:06:15.114Z"
   },
   {
    "duration": 1890,
    "start_time": "2022-12-29T14:06:15.124Z"
   },
   {
    "duration": 2771,
    "start_time": "2022-12-29T14:06:17.016Z"
   },
   {
    "duration": 1351,
    "start_time": "2022-12-29T14:15:21.181Z"
   },
   {
    "duration": 39,
    "start_time": "2022-12-29T14:15:22.534Z"
   },
   {
    "duration": 15,
    "start_time": "2022-12-29T14:15:22.575Z"
   },
   {
    "duration": 14,
    "start_time": "2022-12-29T14:15:22.592Z"
   },
   {
    "duration": 10,
    "start_time": "2022-12-29T14:15:22.608Z"
   },
   {
    "duration": 58,
    "start_time": "2022-12-29T14:15:22.619Z"
   },
   {
    "duration": 4,
    "start_time": "2022-12-29T14:15:22.678Z"
   },
   {
    "duration": 148,
    "start_time": "2022-12-29T14:15:22.683Z"
   },
   {
    "duration": 1413,
    "start_time": "2022-12-29T14:15:22.832Z"
   },
   {
    "duration": 1337,
    "start_time": "2022-12-29T14:15:24.247Z"
   },
   {
    "duration": 42,
    "start_time": "2022-12-29T14:15:25.586Z"
   },
   {
    "duration": 0,
    "start_time": "2022-12-29T14:15:25.630Z"
   },
   {
    "duration": 0,
    "start_time": "2022-12-29T14:15:25.631Z"
   },
   {
    "duration": 0,
    "start_time": "2022-12-29T14:15:25.632Z"
   },
   {
    "duration": 0,
    "start_time": "2022-12-29T14:15:25.633Z"
   },
   {
    "duration": 0,
    "start_time": "2022-12-29T14:15:25.634Z"
   },
   {
    "duration": 0,
    "start_time": "2022-12-29T14:15:25.635Z"
   },
   {
    "duration": 0,
    "start_time": "2022-12-29T14:15:25.636Z"
   },
   {
    "duration": 0,
    "start_time": "2022-12-29T14:15:25.637Z"
   },
   {
    "duration": 0,
    "start_time": "2022-12-29T14:15:25.638Z"
   },
   {
    "duration": 0,
    "start_time": "2022-12-29T14:15:25.639Z"
   },
   {
    "duration": 0,
    "start_time": "2022-12-29T14:15:25.640Z"
   },
   {
    "duration": 0,
    "start_time": "2022-12-29T14:15:25.641Z"
   },
   {
    "duration": 49,
    "start_time": "2022-12-29T14:15:35.220Z"
   },
   {
    "duration": 14,
    "start_time": "2022-12-29T14:15:43.479Z"
   },
   {
    "duration": 19,
    "start_time": "2022-12-29T14:15:44.621Z"
   },
   {
    "duration": 4,
    "start_time": "2022-12-29T14:20:02.594Z"
   },
   {
    "duration": 11,
    "start_time": "2022-12-29T14:22:27.871Z"
   },
   {
    "duration": 5,
    "start_time": "2022-12-29T14:23:46.839Z"
   },
   {
    "duration": 2,
    "start_time": "2022-12-29T14:23:52.387Z"
   },
   {
    "duration": 3,
    "start_time": "2022-12-29T14:24:01.547Z"
   },
   {
    "duration": 7,
    "start_time": "2022-12-29T14:24:20.771Z"
   },
   {
    "duration": 3,
    "start_time": "2022-12-29T14:24:21.654Z"
   },
   {
    "duration": 5,
    "start_time": "2022-12-29T14:25:01.732Z"
   },
   {
    "duration": 3,
    "start_time": "2022-12-29T14:25:02.503Z"
   },
   {
    "duration": 103,
    "start_time": "2022-12-29T14:25:21.182Z"
   },
   {
    "duration": 5,
    "start_time": "2022-12-29T14:25:30.330Z"
   },
   {
    "duration": 3,
    "start_time": "2022-12-29T14:25:31.323Z"
   },
   {
    "duration": 7,
    "start_time": "2022-12-29T14:25:58.882Z"
   },
   {
    "duration": 3,
    "start_time": "2022-12-29T14:25:59.742Z"
   },
   {
    "duration": 13,
    "start_time": "2022-12-29T14:26:54.729Z"
   },
   {
    "duration": 5,
    "start_time": "2022-12-29T14:27:33.382Z"
   },
   {
    "duration": 3,
    "start_time": "2022-12-29T14:27:34.279Z"
   },
   {
    "duration": 5,
    "start_time": "2022-12-29T14:27:42.682Z"
   },
   {
    "duration": 3,
    "start_time": "2022-12-29T14:27:43.389Z"
   },
   {
    "duration": 5,
    "start_time": "2022-12-29T14:27:49.736Z"
   },
   {
    "duration": 4,
    "start_time": "2022-12-29T14:27:54.248Z"
   },
   {
    "duration": 4,
    "start_time": "2022-12-29T14:29:55.574Z"
   },
   {
    "duration": 4,
    "start_time": "2022-12-29T14:29:55.991Z"
   },
   {
    "duration": 15,
    "start_time": "2022-12-29T14:33:46.943Z"
   },
   {
    "duration": 15,
    "start_time": "2022-12-29T14:33:49.586Z"
   },
   {
    "duration": 22,
    "start_time": "2022-12-29T14:34:01.232Z"
   },
   {
    "duration": 15,
    "start_time": "2022-12-29T14:34:02.668Z"
   },
   {
    "duration": 379,
    "start_time": "2022-12-29T14:34:31.378Z"
   },
   {
    "duration": 16,
    "start_time": "2022-12-29T14:34:50.277Z"
   },
   {
    "duration": 12,
    "start_time": "2022-12-29T14:34:56.832Z"
   },
   {
    "duration": 1505,
    "start_time": "2022-12-29T14:36:55.561Z"
   },
   {
    "duration": 40,
    "start_time": "2022-12-29T14:36:57.068Z"
   },
   {
    "duration": 16,
    "start_time": "2022-12-29T14:36:57.110Z"
   },
   {
    "duration": 12,
    "start_time": "2022-12-29T14:36:57.128Z"
   },
   {
    "duration": 6,
    "start_time": "2022-12-29T14:36:57.141Z"
   },
   {
    "duration": 47,
    "start_time": "2022-12-29T14:36:57.149Z"
   },
   {
    "duration": 4,
    "start_time": "2022-12-29T14:36:57.198Z"
   },
   {
    "duration": 172,
    "start_time": "2022-12-29T14:36:57.204Z"
   },
   {
    "duration": 1348,
    "start_time": "2022-12-29T14:36:57.377Z"
   },
   {
    "duration": 1154,
    "start_time": "2022-12-29T14:36:58.728Z"
   },
   {
    "duration": 13,
    "start_time": "2022-12-29T14:36:59.884Z"
   },
   {
    "duration": 23,
    "start_time": "2022-12-29T14:36:59.898Z"
   },
   {
    "duration": 9,
    "start_time": "2022-12-29T14:36:59.923Z"
   },
   {
    "duration": 10,
    "start_time": "2022-12-29T14:36:59.933Z"
   },
   {
    "duration": 152,
    "start_time": "2022-12-29T14:36:59.944Z"
   },
   {
    "duration": 4,
    "start_time": "2022-12-29T14:37:00.097Z"
   },
   {
    "duration": 23,
    "start_time": "2022-12-29T14:37:00.102Z"
   },
   {
    "duration": 17,
    "start_time": "2022-12-29T14:37:00.127Z"
   },
   {
    "duration": 37,
    "start_time": "2022-12-29T14:37:00.145Z"
   },
   {
    "duration": 23,
    "start_time": "2022-12-29T14:37:00.184Z"
   },
   {
    "duration": 219,
    "start_time": "2022-12-29T14:37:00.209Z"
   },
   {
    "duration": 8,
    "start_time": "2022-12-29T14:37:00.429Z"
   },
   {
    "duration": 29,
    "start_time": "2022-12-29T14:37:00.438Z"
   },
   {
    "duration": 1567,
    "start_time": "2022-12-29T14:37:00.468Z"
   },
   {
    "duration": 4592,
    "start_time": "2022-12-29T14:37:02.036Z"
   },
   {
    "duration": 22345,
    "start_time": "2022-12-29T14:38:09.541Z"
   },
   {
    "duration": 4,
    "start_time": "2022-12-29T14:45:03.595Z"
   },
   {
    "duration": 127,
    "start_time": "2022-12-29T14:48:07.294Z"
   },
   {
    "duration": 39,
    "start_time": "2022-12-29T14:50:31.932Z"
   },
   {
    "duration": 74,
    "start_time": "2022-12-29T14:50:47.184Z"
   },
   {
    "duration": 601,
    "start_time": "2022-12-29T14:51:06.780Z"
   },
   {
    "duration": 5383,
    "start_time": "2022-12-29T14:51:31.697Z"
   },
   {
    "duration": 580,
    "start_time": "2022-12-29T14:51:45.602Z"
   },
   {
    "duration": 598,
    "start_time": "2022-12-29T14:52:03.282Z"
   },
   {
    "duration": 387,
    "start_time": "2022-12-29T14:53:27.998Z"
   },
   {
    "duration": 3,
    "start_time": "2022-12-29T14:55:52.588Z"
   },
   {
    "duration": 6516,
    "start_time": "2022-12-29T14:59:02.293Z"
   },
   {
    "duration": 48,
    "start_time": "2022-12-29T14:59:53.906Z"
   },
   {
    "duration": 1662,
    "start_time": "2022-12-29T15:08:55.577Z"
   },
   {
    "duration": 80,
    "start_time": "2022-12-29T15:08:57.241Z"
   },
   {
    "duration": 19,
    "start_time": "2022-12-29T15:08:57.323Z"
   },
   {
    "duration": 14,
    "start_time": "2022-12-29T15:08:57.344Z"
   },
   {
    "duration": 17,
    "start_time": "2022-12-29T15:08:57.360Z"
   },
   {
    "duration": 65,
    "start_time": "2022-12-29T15:08:57.379Z"
   },
   {
    "duration": 5,
    "start_time": "2022-12-29T15:08:57.446Z"
   },
   {
    "duration": 164,
    "start_time": "2022-12-29T15:08:57.454Z"
   },
   {
    "duration": 1522,
    "start_time": "2022-12-29T15:08:57.619Z"
   },
   {
    "duration": 1424,
    "start_time": "2022-12-29T15:08:59.145Z"
   },
   {
    "duration": 13,
    "start_time": "2022-12-29T15:09:00.571Z"
   },
   {
    "duration": 22,
    "start_time": "2022-12-29T15:09:00.585Z"
   },
   {
    "duration": 18,
    "start_time": "2022-12-29T15:09:00.612Z"
   },
   {
    "duration": 14,
    "start_time": "2022-12-29T15:09:00.632Z"
   },
   {
    "duration": 156,
    "start_time": "2022-12-29T15:09:00.648Z"
   },
   {
    "duration": 6,
    "start_time": "2022-12-29T15:09:00.806Z"
   },
   {
    "duration": 19,
    "start_time": "2022-12-29T15:09:00.813Z"
   },
   {
    "duration": 17,
    "start_time": "2022-12-29T15:09:00.833Z"
   },
   {
    "duration": 26,
    "start_time": "2022-12-29T15:09:00.852Z"
   },
   {
    "duration": 13,
    "start_time": "2022-12-29T15:09:00.879Z"
   },
   {
    "duration": 121,
    "start_time": "2022-12-29T15:09:00.894Z"
   },
   {
    "duration": 9,
    "start_time": "2022-12-29T15:09:01.017Z"
   },
   {
    "duration": 35,
    "start_time": "2022-12-29T15:09:01.028Z"
   },
   {
    "duration": 1799,
    "start_time": "2022-12-29T15:09:01.064Z"
   },
   {
    "duration": 4454,
    "start_time": "2022-12-29T15:09:02.864Z"
   },
   {
    "duration": 593,
    "start_time": "2022-12-29T15:09:07.320Z"
   },
   {
    "duration": 4,
    "start_time": "2022-12-29T15:09:07.915Z"
   },
   {
    "duration": 12,
    "start_time": "2022-12-29T15:09:07.922Z"
   },
   {
    "duration": 126,
    "start_time": "2022-12-29T15:09:07.936Z"
   },
   {
    "duration": 4242,
    "start_time": "2022-12-29T15:09:24.701Z"
   },
   {
    "duration": 60,
    "start_time": "2022-12-29T17:00:50.054Z"
   },
   {
    "duration": 111,
    "start_time": "2022-12-29T17:01:22.502Z"
   },
   {
    "duration": 11,
    "start_time": "2022-12-29T17:01:49.511Z"
   },
   {
    "duration": 12,
    "start_time": "2022-12-29T17:01:56.980Z"
   },
   {
    "duration": 1379,
    "start_time": "2022-12-29T17:02:07.583Z"
   },
   {
    "duration": 40,
    "start_time": "2022-12-29T17:02:08.964Z"
   },
   {
    "duration": 17,
    "start_time": "2022-12-29T17:02:09.006Z"
   },
   {
    "duration": 21,
    "start_time": "2022-12-29T17:02:09.025Z"
   },
   {
    "duration": 11,
    "start_time": "2022-12-29T17:02:09.049Z"
   },
   {
    "duration": 54,
    "start_time": "2022-12-29T17:02:09.062Z"
   },
   {
    "duration": 4,
    "start_time": "2022-12-29T17:02:09.118Z"
   },
   {
    "duration": 167,
    "start_time": "2022-12-29T17:02:09.124Z"
   },
   {
    "duration": 1433,
    "start_time": "2022-12-29T17:02:09.293Z"
   },
   {
    "duration": 1264,
    "start_time": "2022-12-29T17:02:10.728Z"
   },
   {
    "duration": 19,
    "start_time": "2022-12-29T17:02:11.994Z"
   },
   {
    "duration": 13,
    "start_time": "2022-12-29T17:02:12.015Z"
   },
   {
    "duration": 4,
    "start_time": "2022-12-29T17:02:12.031Z"
   },
   {
    "duration": 9,
    "start_time": "2022-12-29T17:02:12.039Z"
   },
   {
    "duration": 194,
    "start_time": "2022-12-29T17:02:12.049Z"
   },
   {
    "duration": 5,
    "start_time": "2022-12-29T17:02:12.245Z"
   },
   {
    "duration": 17,
    "start_time": "2022-12-29T17:02:12.252Z"
   },
   {
    "duration": 5,
    "start_time": "2022-12-29T17:02:12.271Z"
   },
   {
    "duration": 54,
    "start_time": "2022-12-29T17:02:12.277Z"
   },
   {
    "duration": 14,
    "start_time": "2022-12-29T17:02:12.333Z"
   },
   {
    "duration": 236,
    "start_time": "2022-12-29T17:02:12.349Z"
   },
   {
    "duration": 8,
    "start_time": "2022-12-29T17:02:12.587Z"
   },
   {
    "duration": 18,
    "start_time": "2022-12-29T17:02:12.597Z"
   },
   {
    "duration": 1733,
    "start_time": "2022-12-29T17:02:12.617Z"
   },
   {
    "duration": 3417,
    "start_time": "2022-12-29T17:02:14.352Z"
   },
   {
    "duration": 543,
    "start_time": "2022-12-29T17:02:17.770Z"
   },
   {
    "duration": 4,
    "start_time": "2022-12-29T17:02:18.315Z"
   },
   {
    "duration": 12,
    "start_time": "2022-12-29T17:02:18.321Z"
   },
   {
    "duration": 496,
    "start_time": "2022-12-29T17:02:18.335Z"
   },
   {
    "duration": 85,
    "start_time": "2022-12-29T17:02:18.832Z"
   },
   {
    "duration": 38,
    "start_time": "2022-12-29T17:03:34.094Z"
   },
   {
    "duration": 38,
    "start_time": "2022-12-29T17:03:44.852Z"
   },
   {
    "duration": 51748,
    "start_time": "2022-12-29T17:13:50.872Z"
   },
   {
    "duration": 49139,
    "start_time": "2022-12-29T17:15:58.021Z"
   },
   {
    "duration": 1312,
    "start_time": "2022-12-29T18:01:21.079Z"
   },
   {
    "duration": 46,
    "start_time": "2022-12-29T18:01:22.393Z"
   },
   {
    "duration": 18,
    "start_time": "2022-12-29T18:01:22.441Z"
   },
   {
    "duration": 12,
    "start_time": "2022-12-29T18:01:22.461Z"
   },
   {
    "duration": 7,
    "start_time": "2022-12-29T18:01:22.475Z"
   },
   {
    "duration": 55,
    "start_time": "2022-12-29T18:01:22.484Z"
   },
   {
    "duration": 4,
    "start_time": "2022-12-29T18:01:22.541Z"
   },
   {
    "duration": 179,
    "start_time": "2022-12-29T18:01:22.547Z"
   },
   {
    "duration": 1562,
    "start_time": "2022-12-29T18:01:22.728Z"
   },
   {
    "duration": 1348,
    "start_time": "2022-12-29T18:01:24.293Z"
   },
   {
    "duration": 12,
    "start_time": "2022-12-29T18:01:25.643Z"
   },
   {
    "duration": 13,
    "start_time": "2022-12-29T18:01:25.656Z"
   },
   {
    "duration": 6,
    "start_time": "2022-12-29T18:01:25.671Z"
   },
   {
    "duration": 11,
    "start_time": "2022-12-29T18:01:25.678Z"
   },
   {
    "duration": 157,
    "start_time": "2022-12-29T18:01:25.713Z"
   },
   {
    "duration": 4,
    "start_time": "2022-12-29T18:01:25.872Z"
   },
   {
    "duration": 17,
    "start_time": "2022-12-29T18:01:25.887Z"
   },
   {
    "duration": 8,
    "start_time": "2022-12-29T18:01:25.905Z"
   },
   {
    "duration": 28,
    "start_time": "2022-12-29T18:01:25.914Z"
   },
   {
    "duration": 12,
    "start_time": "2022-12-29T18:01:25.943Z"
   },
   {
    "duration": 240,
    "start_time": "2022-12-29T18:01:25.956Z"
   },
   {
    "duration": 15,
    "start_time": "2022-12-29T18:01:26.199Z"
   },
   {
    "duration": 10,
    "start_time": "2022-12-29T18:01:26.216Z"
   },
   {
    "duration": 2598,
    "start_time": "2022-12-29T18:01:26.228Z"
   },
   {
    "duration": 4077,
    "start_time": "2022-12-29T18:01:28.828Z"
   },
   {
    "duration": 516,
    "start_time": "2022-12-29T18:01:32.907Z"
   },
   {
    "duration": 6,
    "start_time": "2022-12-29T18:01:33.425Z"
   },
   {
    "duration": 16,
    "start_time": "2022-12-29T18:01:33.435Z"
   },
   {
    "duration": 494,
    "start_time": "2022-12-29T18:01:33.453Z"
   },
   {
    "duration": 5773,
    "start_time": "2022-12-29T18:01:33.949Z"
   },
   {
    "duration": 10,
    "start_time": "2022-12-29T18:01:39.724Z"
   },
   {
    "duration": 7,
    "start_time": "2022-12-29T18:01:39.736Z"
   },
   {
    "duration": 82,
    "start_time": "2022-12-29T18:01:39.745Z"
   },
   {
    "duration": 9,
    "start_time": "2022-12-29T18:02:41.949Z"
   },
   {
    "duration": 10,
    "start_time": "2022-12-29T18:02:43.244Z"
   },
   {
    "duration": 7,
    "start_time": "2022-12-29T18:02:44.011Z"
   },
   {
    "duration": 19,
    "start_time": "2022-12-29T18:06:44.304Z"
   },
   {
    "duration": 109,
    "start_time": "2022-12-29T18:14:04.499Z"
   },
   {
    "duration": 921,
    "start_time": "2022-12-29T18:15:31.952Z"
   },
   {
    "duration": 4,
    "start_time": "2022-12-29T18:16:08.878Z"
   },
   {
    "duration": 909,
    "start_time": "2022-12-29T18:16:22.356Z"
   },
   {
    "duration": 997,
    "start_time": "2022-12-29T18:17:16.318Z"
   },
   {
    "duration": 900,
    "start_time": "2022-12-29T18:22:23.242Z"
   },
   {
    "duration": 1064,
    "start_time": "2022-12-29T18:33:41.613Z"
   },
   {
    "duration": 1057,
    "start_time": "2022-12-29T18:34:05.809Z"
   },
   {
    "duration": 14,
    "start_time": "2022-12-29T18:37:09.905Z"
   },
   {
    "duration": 914,
    "start_time": "2022-12-29T18:37:17.042Z"
   },
   {
    "duration": 890,
    "start_time": "2022-12-29T18:38:01.651Z"
   },
   {
    "duration": 972,
    "start_time": "2022-12-29T18:38:08.620Z"
   },
   {
    "duration": 12,
    "start_time": "2022-12-29T18:44:35.839Z"
   },
   {
    "duration": 1787,
    "start_time": "2022-12-29T18:44:46.225Z"
   },
   {
    "duration": 870,
    "start_time": "2022-12-29T18:45:22.230Z"
   },
   {
    "duration": 6,
    "start_time": "2022-12-29T18:46:29.261Z"
   },
   {
    "duration": 915,
    "start_time": "2022-12-29T18:47:52.938Z"
   },
   {
    "duration": 939,
    "start_time": "2022-12-29T18:48:21.841Z"
   },
   {
    "duration": 1008,
    "start_time": "2022-12-29T18:49:42.065Z"
   },
   {
    "duration": 1145,
    "start_time": "2022-12-29T18:50:35.694Z"
   },
   {
    "duration": 923,
    "start_time": "2022-12-29T18:51:22.326Z"
   },
   {
    "duration": 859,
    "start_time": "2022-12-29T18:51:43.386Z"
   },
   {
    "duration": 859,
    "start_time": "2022-12-29T18:52:37.557Z"
   },
   {
    "duration": 10,
    "start_time": "2022-12-29T18:52:47.226Z"
   },
   {
    "duration": 11,
    "start_time": "2022-12-29T18:54:08.867Z"
   },
   {
    "duration": 4,
    "start_time": "2022-12-29T18:54:36.123Z"
   },
   {
    "duration": 847,
    "start_time": "2022-12-29T18:54:47.897Z"
   },
   {
    "duration": 10,
    "start_time": "2022-12-29T18:54:50.181Z"
   },
   {
    "duration": 11,
    "start_time": "2022-12-29T18:55:00.647Z"
   },
   {
    "duration": 1284,
    "start_time": "2022-12-29T18:57:26.176Z"
   },
   {
    "duration": 41,
    "start_time": "2022-12-29T18:57:27.462Z"
   },
   {
    "duration": 19,
    "start_time": "2022-12-29T18:57:27.505Z"
   },
   {
    "duration": 13,
    "start_time": "2022-12-29T18:57:27.526Z"
   },
   {
    "duration": 11,
    "start_time": "2022-12-29T18:57:27.540Z"
   },
   {
    "duration": 51,
    "start_time": "2022-12-29T18:57:27.553Z"
   },
   {
    "duration": 4,
    "start_time": "2022-12-29T18:57:27.613Z"
   },
   {
    "duration": 149,
    "start_time": "2022-12-29T18:57:27.618Z"
   },
   {
    "duration": 1567,
    "start_time": "2022-12-29T18:57:27.769Z"
   },
   {
    "duration": 1341,
    "start_time": "2022-12-29T18:57:29.339Z"
   },
   {
    "duration": 17,
    "start_time": "2022-12-29T18:57:30.682Z"
   },
   {
    "duration": 16,
    "start_time": "2022-12-29T18:57:30.712Z"
   },
   {
    "duration": 16,
    "start_time": "2022-12-29T18:57:30.730Z"
   },
   {
    "duration": 30,
    "start_time": "2022-12-29T18:57:30.748Z"
   },
   {
    "duration": 153,
    "start_time": "2022-12-29T18:57:30.780Z"
   },
   {
    "duration": 4,
    "start_time": "2022-12-29T18:57:30.934Z"
   },
   {
    "duration": 56,
    "start_time": "2022-12-29T18:57:30.940Z"
   },
   {
    "duration": 27,
    "start_time": "2022-12-29T18:57:30.998Z"
   },
   {
    "duration": 41,
    "start_time": "2022-12-29T18:57:31.027Z"
   },
   {
    "duration": 13,
    "start_time": "2022-12-29T18:57:31.070Z"
   },
   {
    "duration": 121,
    "start_time": "2022-12-29T18:57:31.085Z"
   },
   {
    "duration": 9,
    "start_time": "2022-12-29T18:57:31.208Z"
   },
   {
    "duration": 9,
    "start_time": "2022-12-29T18:57:31.218Z"
   },
   {
    "duration": 1992,
    "start_time": "2022-12-29T18:57:31.228Z"
   },
   {
    "duration": 5287,
    "start_time": "2022-12-29T18:57:33.223Z"
   },
   {
    "duration": 611,
    "start_time": "2022-12-29T18:57:38.511Z"
   },
   {
    "duration": 4,
    "start_time": "2022-12-29T18:57:39.123Z"
   },
   {
    "duration": 9,
    "start_time": "2022-12-29T18:57:39.131Z"
   },
   {
    "duration": 606,
    "start_time": "2022-12-29T18:57:39.141Z"
   },
   {
    "duration": 6222,
    "start_time": "2022-12-29T18:57:39.749Z"
   },
   {
    "duration": 11,
    "start_time": "2022-12-29T18:57:45.973Z"
   },
   {
    "duration": 11,
    "start_time": "2022-12-29T18:57:45.986Z"
   },
   {
    "duration": 1017,
    "start_time": "2022-12-29T18:57:46.012Z"
   },
   {
    "duration": 898,
    "start_time": "2022-12-29T18:57:47.030Z"
   },
   {
    "duration": 7,
    "start_time": "2022-12-29T18:57:47.929Z"
   },
   {
    "duration": 86,
    "start_time": "2022-12-29T18:57:47.937Z"
   },
   {
    "duration": 114,
    "start_time": "2022-12-29T18:59:30.017Z"
   },
   {
    "duration": 4,
    "start_time": "2022-12-29T18:59:44.654Z"
   },
   {
    "duration": 4,
    "start_time": "2022-12-29T18:59:53.531Z"
   },
   {
    "duration": 8091,
    "start_time": "2022-12-29T19:00:18.573Z"
   },
   {
    "duration": 5,
    "start_time": "2022-12-29T19:00:34.058Z"
   },
   {
    "duration": 8429,
    "start_time": "2022-12-29T19:02:06.065Z"
   },
   {
    "duration": 4,
    "start_time": "2022-12-29T19:02:14.495Z"
   },
   {
    "duration": 7,
    "start_time": "2022-12-29T19:02:30.022Z"
   },
   {
    "duration": 925,
    "start_time": "2022-12-29T19:12:30.097Z"
   },
   {
    "duration": 1023,
    "start_time": "2022-12-29T19:12:40.096Z"
   },
   {
    "duration": 5,
    "start_time": "2022-12-29T19:19:10.238Z"
   },
   {
    "duration": 1083,
    "start_time": "2022-12-29T19:19:23.696Z"
   },
   {
    "duration": 7,
    "start_time": "2022-12-29T19:19:46.993Z"
   },
   {
    "duration": 6,
    "start_time": "2022-12-29T19:24:16.759Z"
   },
   {
    "duration": 6,
    "start_time": "2022-12-29T19:24:40.268Z"
   },
   {
    "duration": 1337,
    "start_time": "2023-01-06T21:46:03.654Z"
   },
   {
    "duration": 80,
    "start_time": "2023-01-06T21:46:04.993Z"
   },
   {
    "duration": 16,
    "start_time": "2023-01-06T21:46:06.625Z"
   },
   {
    "duration": 12,
    "start_time": "2023-01-06T21:46:07.524Z"
   },
   {
    "duration": 8,
    "start_time": "2023-01-06T21:46:08.095Z"
   },
   {
    "duration": 37,
    "start_time": "2023-01-06T21:46:08.709Z"
   },
   {
    "duration": 3,
    "start_time": "2023-01-06T21:46:10.894Z"
   },
   {
    "duration": 132,
    "start_time": "2023-01-06T21:46:11.395Z"
   },
   {
    "duration": 1300,
    "start_time": "2023-01-06T21:46:12.799Z"
   },
   {
    "duration": 700,
    "start_time": "2023-01-06T21:46:19.904Z"
   },
   {
    "duration": 4,
    "start_time": "2023-01-06T21:49:22.808Z"
   },
   {
    "duration": 37,
    "start_time": "2023-01-06T21:49:24.156Z"
   },
   {
    "duration": 12,
    "start_time": "2023-01-06T21:49:24.267Z"
   },
   {
    "duration": 12,
    "start_time": "2023-01-06T21:49:24.833Z"
   },
   {
    "duration": 7,
    "start_time": "2023-01-06T21:49:24.898Z"
   },
   {
    "duration": 35,
    "start_time": "2023-01-06T21:49:24.965Z"
   },
   {
    "duration": 5,
    "start_time": "2023-01-06T21:49:25.322Z"
   },
   {
    "duration": 151,
    "start_time": "2023-01-06T21:49:26.220Z"
   },
   {
    "duration": 1314,
    "start_time": "2023-01-06T21:49:27.719Z"
   },
   {
    "duration": 104,
    "start_time": "2023-01-06T21:49:37.852Z"
   },
   {
    "duration": 13,
    "start_time": "2023-01-06T21:50:59.669Z"
   },
   {
    "duration": 15,
    "start_time": "2023-01-06T21:51:17.077Z"
   },
   {
    "duration": 12,
    "start_time": "2023-01-06T21:51:23.122Z"
   },
   {
    "duration": 682,
    "start_time": "2023-01-06T21:52:27.565Z"
   },
   {
    "duration": 4,
    "start_time": "2023-01-06T22:21:58.475Z"
   },
   {
    "duration": 3,
    "start_time": "2023-01-06T22:22:00.058Z"
   },
   {
    "duration": 3,
    "start_time": "2023-01-06T22:22:02.104Z"
   },
   {
    "duration": 46,
    "start_time": "2023-01-06T22:22:16.206Z"
   },
   {
    "duration": 5,
    "start_time": "2023-01-06T22:22:58.053Z"
   },
   {
    "duration": 2,
    "start_time": "2023-01-06T22:22:58.744Z"
   },
   {
    "duration": 3,
    "start_time": "2023-01-06T22:23:00.065Z"
   },
   {
    "duration": 43,
    "start_time": "2023-01-06T22:23:02.198Z"
   },
   {
    "duration": 167,
    "start_time": "2023-01-06T22:23:03.667Z"
   },
   {
    "duration": 8,
    "start_time": "2023-01-06T22:23:15.641Z"
   },
   {
    "duration": 4,
    "start_time": "2023-01-06T22:23:23.439Z"
   },
   {
    "duration": 126,
    "start_time": "2023-01-06T22:23:24.257Z"
   },
   {
    "duration": 6,
    "start_time": "2023-01-06T22:23:43.746Z"
   },
   {
    "duration": 136,
    "start_time": "2023-01-06T22:23:43.805Z"
   },
   {
    "duration": 1294,
    "start_time": "2023-01-06T22:23:46.940Z"
   },
   {
    "duration": 833,
    "start_time": "2023-01-06T22:23:54.349Z"
   },
   {
    "duration": 4,
    "start_time": "2023-01-06T22:36:51.280Z"
   },
   {
    "duration": 3,
    "start_time": "2023-01-06T22:36:52.843Z"
   },
   {
    "duration": 3,
    "start_time": "2023-01-06T22:36:53.512Z"
   },
   {
    "duration": 44,
    "start_time": "2023-01-06T22:37:00.041Z"
   },
   {
    "duration": 66,
    "start_time": "2023-01-06T22:37:01.734Z"
   },
   {
    "duration": 7,
    "start_time": "2023-01-06T22:37:05.282Z"
   },
   {
    "duration": 5,
    "start_time": "2023-01-06T22:37:07.414Z"
   },
   {
    "duration": 131,
    "start_time": "2023-01-06T22:37:08.259Z"
   },
   {
    "duration": 1421,
    "start_time": "2023-01-06T22:37:11.760Z"
   },
   {
    "duration": 875,
    "start_time": "2023-01-06T22:37:14.263Z"
   },
   {
    "duration": 7,
    "start_time": "2023-01-06T22:37:18.830Z"
   },
   {
    "duration": 6,
    "start_time": "2023-01-06T22:37:31.837Z"
   },
   {
    "duration": 10,
    "start_time": "2023-01-06T22:37:33.330Z"
   },
   {
    "duration": 7,
    "start_time": "2023-01-06T22:37:36.947Z"
   },
   {
    "duration": 144,
    "start_time": "2023-01-06T22:37:38.068Z"
   },
   {
    "duration": 4,
    "start_time": "2023-01-06T22:37:41.736Z"
   },
   {
    "duration": 11,
    "start_time": "2023-01-06T22:37:42.349Z"
   },
   {
    "duration": 12,
    "start_time": "2023-01-06T22:37:49.983Z"
   },
   {
    "duration": 5,
    "start_time": "2023-01-06T22:37:52.532Z"
   },
   {
    "duration": 8,
    "start_time": "2023-01-06T22:37:58.757Z"
   },
   {
    "duration": 57,
    "start_time": "2023-01-06T22:37:59.772Z"
   },
   {
    "duration": 24,
    "start_time": "2023-01-06T22:38:04.690Z"
   },
   {
    "duration": 8,
    "start_time": "2023-01-06T22:38:22.433Z"
   },
   {
    "duration": 9,
    "start_time": "2023-01-06T22:43:20.346Z"
   },
   {
    "duration": 4,
    "start_time": "2023-01-06T22:43:44.780Z"
   },
   {
    "duration": 5,
    "start_time": "2023-01-06T22:43:55.832Z"
   },
   {
    "duration": 4,
    "start_time": "2023-01-06T22:44:02.491Z"
   },
   {
    "duration": 18,
    "start_time": "2023-01-06T22:44:07.923Z"
   },
   {
    "duration": 15,
    "start_time": "2023-01-06T22:45:07.874Z"
   },
   {
    "duration": 6,
    "start_time": "2023-01-06T22:50:24.258Z"
   },
   {
    "duration": 7,
    "start_time": "2023-01-06T22:54:12.549Z"
   },
   {
    "duration": 7,
    "start_time": "2023-01-06T22:54:48.349Z"
   },
   {
    "duration": 681,
    "start_time": "2023-01-06T22:58:05.236Z"
   },
   {
    "duration": 12,
    "start_time": "2023-01-06T22:58:43.083Z"
   },
   {
    "duration": 12,
    "start_time": "2023-01-06T22:59:14.709Z"
   },
   {
    "duration": 6,
    "start_time": "2023-01-06T22:59:53.662Z"
   },
   {
    "duration": 5,
    "start_time": "2023-01-06T23:00:41.695Z"
   },
   {
    "duration": 5,
    "start_time": "2023-01-06T23:00:53.111Z"
   },
   {
    "duration": 746,
    "start_time": "2023-01-06T23:03:02.088Z"
   },
   {
    "duration": 6,
    "start_time": "2023-01-06T23:04:45.857Z"
   },
   {
    "duration": 18,
    "start_time": "2023-01-06T23:25:59.426Z"
   },
   {
    "duration": 17,
    "start_time": "2023-01-06T23:26:12.269Z"
   },
   {
    "duration": 13,
    "start_time": "2023-01-06T23:26:32.004Z"
   },
   {
    "duration": 18,
    "start_time": "2023-01-06T23:27:28.178Z"
   },
   {
    "duration": 18,
    "start_time": "2023-01-06T23:31:15.027Z"
   },
   {
    "duration": 13,
    "start_time": "2023-01-06T23:31:50.845Z"
   },
   {
    "duration": 9,
    "start_time": "2023-01-06T23:32:27.493Z"
   },
   {
    "duration": 10,
    "start_time": "2023-01-06T23:35:01.741Z"
   },
   {
    "duration": 9,
    "start_time": "2023-01-06T23:35:11.236Z"
   },
   {
    "duration": 16,
    "start_time": "2023-01-06T23:36:01.063Z"
   },
   {
    "duration": 7,
    "start_time": "2023-01-06T23:37:38.488Z"
   },
   {
    "duration": 4,
    "start_time": "2023-01-06T23:37:39.162Z"
   },
   {
    "duration": 14,
    "start_time": "2023-01-06T23:38:19.492Z"
   },
   {
    "duration": 9,
    "start_time": "2023-01-06T23:39:04.239Z"
   },
   {
    "duration": 9,
    "start_time": "2023-01-06T23:45:08.567Z"
   },
   {
    "duration": 15,
    "start_time": "2023-01-06T23:46:17.977Z"
   },
   {
    "duration": 15,
    "start_time": "2023-01-06T23:46:56.570Z"
   },
   {
    "duration": 9,
    "start_time": "2023-01-06T23:47:05.939Z"
   },
   {
    "duration": 15,
    "start_time": "2023-01-06T23:48:02.321Z"
   },
   {
    "duration": 5,
    "start_time": "2023-01-06T23:52:49.072Z"
   },
   {
    "duration": 4,
    "start_time": "2023-01-06T23:52:53.508Z"
   },
   {
    "duration": 12,
    "start_time": "2023-01-07T00:00:55.247Z"
   },
   {
    "duration": 10,
    "start_time": "2023-01-07T00:03:29.384Z"
   },
   {
    "duration": 1524,
    "start_time": "2023-01-09T21:17:21.318Z"
   },
   {
    "duration": 3,
    "start_time": "2023-01-09T21:17:22.844Z"
   },
   {
    "duration": 11,
    "start_time": "2023-01-09T21:17:22.849Z"
   },
   {
    "duration": 95,
    "start_time": "2023-01-09T21:17:22.861Z"
   },
   {
    "duration": 74,
    "start_time": "2023-01-09T21:17:22.958Z"
   },
   {
    "duration": 7,
    "start_time": "2023-01-09T21:17:23.034Z"
   },
   {
    "duration": 5,
    "start_time": "2023-01-09T21:17:23.042Z"
   },
   {
    "duration": 157,
    "start_time": "2023-01-09T21:17:23.048Z"
   },
   {
    "duration": 1395,
    "start_time": "2023-01-09T21:17:23.207Z"
   },
   {
    "duration": 785,
    "start_time": "2023-01-09T21:17:24.603Z"
   },
   {
    "duration": 11,
    "start_time": "2023-01-09T21:17:25.389Z"
   },
   {
    "duration": 8,
    "start_time": "2023-01-09T21:17:25.401Z"
   },
   {
    "duration": 8,
    "start_time": "2023-01-09T21:17:25.410Z"
   },
   {
    "duration": 165,
    "start_time": "2023-01-09T21:17:25.422Z"
   },
   {
    "duration": 4,
    "start_time": "2023-01-09T21:17:25.597Z"
   },
   {
    "duration": 20,
    "start_time": "2023-01-09T21:17:25.603Z"
   },
   {
    "duration": 8,
    "start_time": "2023-01-09T21:17:25.625Z"
   },
   {
    "duration": 10,
    "start_time": "2023-01-09T21:17:25.635Z"
   },
   {
    "duration": 10,
    "start_time": "2023-01-09T21:17:25.647Z"
   },
   {
    "duration": 9,
    "start_time": "2023-01-09T21:17:25.658Z"
   },
   {
    "duration": 6,
    "start_time": "2023-01-09T21:17:25.696Z"
   },
   {
    "duration": 127,
    "start_time": "2023-01-09T21:17:25.704Z"
   },
   {
    "duration": 0,
    "start_time": "2023-01-09T21:17:25.833Z"
   },
   {
    "duration": 0,
    "start_time": "2023-01-09T21:17:25.834Z"
   },
   {
    "duration": 0,
    "start_time": "2023-01-09T21:17:25.835Z"
   },
   {
    "duration": 0,
    "start_time": "2023-01-09T21:17:25.836Z"
   },
   {
    "duration": 0,
    "start_time": "2023-01-09T21:17:25.837Z"
   },
   {
    "duration": 0,
    "start_time": "2023-01-09T21:17:25.838Z"
   },
   {
    "duration": 0,
    "start_time": "2023-01-09T21:17:25.839Z"
   },
   {
    "duration": 0,
    "start_time": "2023-01-09T21:17:25.840Z"
   },
   {
    "duration": 0,
    "start_time": "2023-01-09T21:17:25.841Z"
   },
   {
    "duration": 0,
    "start_time": "2023-01-09T21:17:25.842Z"
   },
   {
    "duration": 0,
    "start_time": "2023-01-09T21:17:25.844Z"
   },
   {
    "duration": 0,
    "start_time": "2023-01-09T21:17:25.845Z"
   },
   {
    "duration": 0,
    "start_time": "2023-01-09T21:17:25.846Z"
   },
   {
    "duration": 0,
    "start_time": "2023-01-09T21:17:25.847Z"
   },
   {
    "duration": 0,
    "start_time": "2023-01-09T21:17:25.849Z"
   },
   {
    "duration": 0,
    "start_time": "2023-01-09T21:17:25.850Z"
   },
   {
    "duration": 0,
    "start_time": "2023-01-09T21:17:25.851Z"
   },
   {
    "duration": 0,
    "start_time": "2023-01-09T21:17:25.852Z"
   },
   {
    "duration": 0,
    "start_time": "2023-01-09T21:17:25.854Z"
   },
   {
    "duration": 0,
    "start_time": "2023-01-09T21:17:25.855Z"
   },
   {
    "duration": 0,
    "start_time": "2023-01-09T21:17:25.856Z"
   },
   {
    "duration": 0,
    "start_time": "2023-01-09T21:17:25.857Z"
   },
   {
    "duration": 0,
    "start_time": "2023-01-09T21:17:25.858Z"
   },
   {
    "duration": 0,
    "start_time": "2023-01-09T21:17:25.859Z"
   },
   {
    "duration": 6,
    "start_time": "2023-01-09T21:20:07.104Z"
   },
   {
    "duration": 6,
    "start_time": "2023-01-09T21:20:53.287Z"
   },
   {
    "duration": 12,
    "start_time": "2023-01-09T21:22:13.466Z"
   },
   {
    "duration": 8,
    "start_time": "2023-01-09T21:22:53.915Z"
   },
   {
    "duration": 6,
    "start_time": "2023-01-09T21:23:16.344Z"
   },
   {
    "duration": 7,
    "start_time": "2023-01-09T21:23:22.996Z"
   },
   {
    "duration": 14,
    "start_time": "2023-01-09T21:32:14.457Z"
   },
   {
    "duration": 22,
    "start_time": "2023-01-09T21:32:50.965Z"
   },
   {
    "duration": 22,
    "start_time": "2023-01-09T21:34:03.820Z"
   },
   {
    "duration": 15,
    "start_time": "2023-01-09T21:34:37.094Z"
   },
   {
    "duration": 18,
    "start_time": "2023-01-09T21:34:48.365Z"
   },
   {
    "duration": 17,
    "start_time": "2023-01-09T21:35:19.494Z"
   },
   {
    "duration": 19,
    "start_time": "2023-01-09T21:35:27.184Z"
   },
   {
    "duration": 21,
    "start_time": "2023-01-09T21:35:57.178Z"
   },
   {
    "duration": 24,
    "start_time": "2023-01-09T21:36:01.895Z"
   },
   {
    "duration": 21,
    "start_time": "2023-01-09T21:36:03.527Z"
   },
   {
    "duration": 20,
    "start_time": "2023-01-09T21:36:04.353Z"
   },
   {
    "duration": 21,
    "start_time": "2023-01-09T21:36:05.076Z"
   },
   {
    "duration": 22,
    "start_time": "2023-01-09T21:36:05.689Z"
   },
   {
    "duration": 21,
    "start_time": "2023-01-09T21:36:06.296Z"
   },
   {
    "duration": 21,
    "start_time": "2023-01-09T21:36:07.009Z"
   },
   {
    "duration": 22,
    "start_time": "2023-01-09T21:36:27.386Z"
   },
   {
    "duration": 18,
    "start_time": "2023-01-09T21:38:59.861Z"
   },
   {
    "duration": 14,
    "start_time": "2023-01-09T21:39:16.291Z"
   },
   {
    "duration": 16,
    "start_time": "2023-01-09T21:39:18.703Z"
   },
   {
    "duration": 19,
    "start_time": "2023-01-09T21:43:17.706Z"
   },
   {
    "duration": 1256,
    "start_time": "2023-01-09T21:44:17.926Z"
   },
   {
    "duration": 3,
    "start_time": "2023-01-09T21:44:19.184Z"
   },
   {
    "duration": 24,
    "start_time": "2023-01-09T21:44:19.188Z"
   },
   {
    "duration": 48,
    "start_time": "2023-01-09T21:44:19.214Z"
   },
   {
    "duration": 68,
    "start_time": "2023-01-09T21:44:19.264Z"
   },
   {
    "duration": 6,
    "start_time": "2023-01-09T21:44:19.334Z"
   },
   {
    "duration": 7,
    "start_time": "2023-01-09T21:44:19.342Z"
   },
   {
    "duration": 150,
    "start_time": "2023-01-09T21:44:19.350Z"
   },
   {
    "duration": 1412,
    "start_time": "2023-01-09T21:44:19.502Z"
   },
   {
    "duration": 747,
    "start_time": "2023-01-09T21:44:20.915Z"
   },
   {
    "duration": 7,
    "start_time": "2023-01-09T21:44:21.665Z"
   },
   {
    "duration": 7,
    "start_time": "2023-01-09T21:44:21.673Z"
   },
   {
    "duration": 21,
    "start_time": "2023-01-09T21:44:21.681Z"
   },
   {
    "duration": 148,
    "start_time": "2023-01-09T21:44:21.706Z"
   },
   {
    "duration": 3,
    "start_time": "2023-01-09T21:44:21.856Z"
   },
   {
    "duration": 10,
    "start_time": "2023-01-09T21:44:21.861Z"
   },
   {
    "duration": 4,
    "start_time": "2023-01-09T21:44:21.873Z"
   },
   {
    "duration": 23,
    "start_time": "2023-01-09T21:44:21.878Z"
   },
   {
    "duration": 7,
    "start_time": "2023-01-09T21:44:21.902Z"
   },
   {
    "duration": 7,
    "start_time": "2023-01-09T21:44:21.911Z"
   },
   {
    "duration": 5,
    "start_time": "2023-01-09T21:44:21.922Z"
   },
   {
    "duration": 851,
    "start_time": "2023-01-09T21:44:21.929Z"
   },
   {
    "duration": 0,
    "start_time": "2023-01-09T21:44:22.782Z"
   },
   {
    "duration": 0,
    "start_time": "2023-01-09T21:44:22.783Z"
   },
   {
    "duration": 0,
    "start_time": "2023-01-09T21:44:22.784Z"
   },
   {
    "duration": 0,
    "start_time": "2023-01-09T21:44:22.785Z"
   },
   {
    "duration": 0,
    "start_time": "2023-01-09T21:44:22.797Z"
   },
   {
    "duration": 0,
    "start_time": "2023-01-09T21:44:22.798Z"
   },
   {
    "duration": 0,
    "start_time": "2023-01-09T21:44:22.799Z"
   },
   {
    "duration": 0,
    "start_time": "2023-01-09T21:44:22.800Z"
   },
   {
    "duration": 0,
    "start_time": "2023-01-09T21:44:22.801Z"
   },
   {
    "duration": 0,
    "start_time": "2023-01-09T21:44:22.802Z"
   },
   {
    "duration": 0,
    "start_time": "2023-01-09T21:44:22.804Z"
   },
   {
    "duration": 0,
    "start_time": "2023-01-09T21:44:22.805Z"
   },
   {
    "duration": 0,
    "start_time": "2023-01-09T21:44:22.806Z"
   },
   {
    "duration": 0,
    "start_time": "2023-01-09T21:44:22.807Z"
   },
   {
    "duration": 0,
    "start_time": "2023-01-09T21:44:22.808Z"
   },
   {
    "duration": 0,
    "start_time": "2023-01-09T21:44:22.809Z"
   },
   {
    "duration": 0,
    "start_time": "2023-01-09T21:44:22.810Z"
   },
   {
    "duration": 0,
    "start_time": "2023-01-09T21:44:22.811Z"
   },
   {
    "duration": 0,
    "start_time": "2023-01-09T21:44:22.812Z"
   },
   {
    "duration": 0,
    "start_time": "2023-01-09T21:44:22.813Z"
   },
   {
    "duration": 0,
    "start_time": "2023-01-09T21:44:22.814Z"
   },
   {
    "duration": 0,
    "start_time": "2023-01-09T21:44:22.815Z"
   },
   {
    "duration": 0,
    "start_time": "2023-01-09T21:44:22.816Z"
   },
   {
    "duration": 0,
    "start_time": "2023-01-09T21:44:22.817Z"
   },
   {
    "duration": 0,
    "start_time": "2023-01-09T21:44:22.817Z"
   },
   {
    "duration": 0,
    "start_time": "2023-01-09T21:44:22.819Z"
   },
   {
    "duration": 16,
    "start_time": "2023-01-09T21:44:57.757Z"
   },
   {
    "duration": 17,
    "start_time": "2023-01-09T21:55:55.169Z"
   },
   {
    "duration": 12,
    "start_time": "2023-01-09T21:55:58.754Z"
   },
   {
    "duration": 11,
    "start_time": "2023-01-09T21:57:40.540Z"
   },
   {
    "duration": 10,
    "start_time": "2023-01-09T21:58:14.248Z"
   },
   {
    "duration": 24,
    "start_time": "2023-01-09T21:59:18.243Z"
   },
   {
    "duration": 11,
    "start_time": "2023-01-09T21:59:19.971Z"
   },
   {
    "duration": 584,
    "start_time": "2023-01-09T22:13:30.513Z"
   },
   {
    "duration": 437,
    "start_time": "2023-01-09T22:13:41.366Z"
   },
   {
    "duration": 7,
    "start_time": "2023-01-09T22:13:59.901Z"
   },
   {
    "duration": 7,
    "start_time": "2023-01-09T22:13:59.911Z"
   },
   {
    "duration": 9,
    "start_time": "2023-01-09T22:13:59.920Z"
   },
   {
    "duration": 44,
    "start_time": "2023-01-09T22:13:59.931Z"
   },
   {
    "duration": 74,
    "start_time": "2023-01-09T22:13:59.977Z"
   },
   {
    "duration": 8,
    "start_time": "2023-01-09T22:14:00.053Z"
   },
   {
    "duration": 33,
    "start_time": "2023-01-09T22:14:00.064Z"
   },
   {
    "duration": 142,
    "start_time": "2023-01-09T22:14:00.099Z"
   },
   {
    "duration": 1665,
    "start_time": "2023-01-09T22:14:00.243Z"
   },
   {
    "duration": 952,
    "start_time": "2023-01-09T22:14:01.911Z"
   },
   {
    "duration": 7,
    "start_time": "2023-01-09T22:14:02.865Z"
   },
   {
    "duration": 16,
    "start_time": "2023-01-09T22:14:02.874Z"
   },
   {
    "duration": 13,
    "start_time": "2023-01-09T22:14:02.897Z"
   },
   {
    "duration": 159,
    "start_time": "2023-01-09T22:14:02.911Z"
   },
   {
    "duration": 4,
    "start_time": "2023-01-09T22:14:03.072Z"
   },
   {
    "duration": 21,
    "start_time": "2023-01-09T22:14:03.078Z"
   },
   {
    "duration": 5,
    "start_time": "2023-01-09T22:14:03.101Z"
   },
   {
    "duration": 11,
    "start_time": "2023-01-09T22:14:03.108Z"
   },
   {
    "duration": 7,
    "start_time": "2023-01-09T22:14:03.120Z"
   },
   {
    "duration": 12,
    "start_time": "2023-01-09T22:14:03.129Z"
   },
   {
    "duration": 55,
    "start_time": "2023-01-09T22:14:03.142Z"
   },
   {
    "duration": 117,
    "start_time": "2023-01-09T22:14:03.199Z"
   },
   {
    "duration": 5,
    "start_time": "2023-01-09T22:14:03.318Z"
   },
   {
    "duration": 2788,
    "start_time": "2023-01-09T22:14:03.324Z"
   },
   {
    "duration": 584,
    "start_time": "2023-01-09T22:14:06.114Z"
   },
   {
    "duration": 1267,
    "start_time": "2023-01-09T22:30:17.011Z"
   },
   {
    "duration": 4,
    "start_time": "2023-01-09T22:30:18.279Z"
   },
   {
    "duration": 7,
    "start_time": "2023-01-09T22:30:18.284Z"
   },
   {
    "duration": 40,
    "start_time": "2023-01-09T22:30:18.295Z"
   },
   {
    "duration": 70,
    "start_time": "2023-01-09T22:30:18.337Z"
   },
   {
    "duration": 6,
    "start_time": "2023-01-09T22:30:18.409Z"
   },
   {
    "duration": 6,
    "start_time": "2023-01-09T22:30:18.416Z"
   },
   {
    "duration": 147,
    "start_time": "2023-01-09T22:30:18.423Z"
   },
   {
    "duration": 1374,
    "start_time": "2023-01-09T22:30:18.572Z"
   },
   {
    "duration": 770,
    "start_time": "2023-01-09T22:30:19.947Z"
   },
   {
    "duration": 7,
    "start_time": "2023-01-09T22:30:20.718Z"
   },
   {
    "duration": 11,
    "start_time": "2023-01-09T22:30:20.726Z"
   },
   {
    "duration": 10,
    "start_time": "2023-01-09T22:30:20.738Z"
   },
   {
    "duration": 143,
    "start_time": "2023-01-09T22:30:20.750Z"
   },
   {
    "duration": 4,
    "start_time": "2023-01-09T22:30:20.896Z"
   },
   {
    "duration": 15,
    "start_time": "2023-01-09T22:30:20.901Z"
   },
   {
    "duration": 17,
    "start_time": "2023-01-09T22:30:20.917Z"
   },
   {
    "duration": 20,
    "start_time": "2023-01-09T22:30:20.935Z"
   },
   {
    "duration": 27,
    "start_time": "2023-01-09T22:30:20.957Z"
   },
   {
    "duration": 7,
    "start_time": "2023-01-09T22:30:20.986Z"
   },
   {
    "duration": 27,
    "start_time": "2023-01-09T22:30:20.994Z"
   },
   {
    "duration": 106,
    "start_time": "2023-01-09T22:30:21.023Z"
   },
   {
    "duration": 4,
    "start_time": "2023-01-09T22:30:21.130Z"
   },
   {
    "duration": 3308,
    "start_time": "2023-01-09T22:30:21.136Z"
   },
   {
    "duration": 457,
    "start_time": "2023-01-09T22:30:24.445Z"
   },
   {
    "duration": 3507,
    "start_time": "2023-01-09T22:30:24.904Z"
   },
   {
    "duration": 391,
    "start_time": "2023-01-09T22:30:28.413Z"
   },
   {
    "duration": 205,
    "start_time": "2023-01-09T22:30:28.806Z"
   },
   {
    "duration": 0,
    "start_time": "2023-01-09T22:30:29.012Z"
   },
   {
    "duration": 0,
    "start_time": "2023-01-09T22:30:29.013Z"
   },
   {
    "duration": 0,
    "start_time": "2023-01-09T22:30:29.014Z"
   },
   {
    "duration": 0,
    "start_time": "2023-01-09T22:30:29.015Z"
   },
   {
    "duration": 0,
    "start_time": "2023-01-09T22:30:29.016Z"
   },
   {
    "duration": 0,
    "start_time": "2023-01-09T22:30:29.017Z"
   },
   {
    "duration": 0,
    "start_time": "2023-01-09T22:30:29.018Z"
   },
   {
    "duration": 0,
    "start_time": "2023-01-09T22:30:29.019Z"
   },
   {
    "duration": 0,
    "start_time": "2023-01-09T22:30:29.020Z"
   },
   {
    "duration": 1280,
    "start_time": "2023-01-09T22:31:30.633Z"
   },
   {
    "duration": 3,
    "start_time": "2023-01-09T22:31:31.914Z"
   },
   {
    "duration": 21,
    "start_time": "2023-01-09T22:31:31.919Z"
   },
   {
    "duration": 44,
    "start_time": "2023-01-09T22:31:31.941Z"
   },
   {
    "duration": 82,
    "start_time": "2023-01-09T22:31:31.987Z"
   },
   {
    "duration": 7,
    "start_time": "2023-01-09T22:31:32.071Z"
   },
   {
    "duration": 29,
    "start_time": "2023-01-09T22:31:32.080Z"
   },
   {
    "duration": 156,
    "start_time": "2023-01-09T22:31:32.111Z"
   },
   {
    "duration": 1396,
    "start_time": "2023-01-09T22:31:32.269Z"
   },
   {
    "duration": 766,
    "start_time": "2023-01-09T22:31:33.666Z"
   },
   {
    "duration": 8,
    "start_time": "2023-01-09T22:31:34.434Z"
   },
   {
    "duration": 7,
    "start_time": "2023-01-09T22:31:34.444Z"
   },
   {
    "duration": 7,
    "start_time": "2023-01-09T22:31:34.453Z"
   },
   {
    "duration": 172,
    "start_time": "2023-01-09T22:31:34.464Z"
   },
   {
    "duration": 3,
    "start_time": "2023-01-09T22:31:34.638Z"
   },
   {
    "duration": 13,
    "start_time": "2023-01-09T22:31:34.643Z"
   },
   {
    "duration": 4,
    "start_time": "2023-01-09T22:31:34.657Z"
   },
   {
    "duration": 10,
    "start_time": "2023-01-09T22:31:34.662Z"
   },
   {
    "duration": 22,
    "start_time": "2023-01-09T22:31:34.674Z"
   },
   {
    "duration": 7,
    "start_time": "2023-01-09T22:31:34.697Z"
   },
   {
    "duration": 26,
    "start_time": "2023-01-09T22:31:34.705Z"
   },
   {
    "duration": 120,
    "start_time": "2023-01-09T22:31:34.732Z"
   },
   {
    "duration": 4,
    "start_time": "2023-01-09T22:31:34.854Z"
   },
   {
    "duration": 1632,
    "start_time": "2023-01-09T22:31:34.859Z"
   },
   {
    "duration": 508,
    "start_time": "2023-01-09T22:31:36.496Z"
   },
   {
    "duration": 3054,
    "start_time": "2023-01-09T22:31:37.006Z"
   },
   {
    "duration": 442,
    "start_time": "2023-01-09T22:31:40.061Z"
   },
   {
    "duration": 10,
    "start_time": "2023-01-09T22:31:40.504Z"
   },
   {
    "duration": 11,
    "start_time": "2023-01-09T22:31:40.516Z"
   },
   {
    "duration": 958,
    "start_time": "2023-01-09T22:31:40.529Z"
   },
   {
    "duration": 7589,
    "start_time": "2023-01-09T22:31:41.489Z"
   },
   {
    "duration": 5,
    "start_time": "2023-01-09T22:31:49.080Z"
   },
   {
    "duration": 3,
    "start_time": "2023-01-09T22:31:49.097Z"
   },
   {
    "duration": 14,
    "start_time": "2023-01-09T22:31:49.102Z"
   },
   {
    "duration": 1062,
    "start_time": "2023-01-09T22:31:49.117Z"
   },
   {
    "duration": 6,
    "start_time": "2023-01-09T22:31:50.180Z"
   },
   {
    "duration": 13,
    "start_time": "2023-01-09T22:31:50.187Z"
   },
   {
    "duration": 1430,
    "start_time": "2023-01-10T12:35:06.223Z"
   },
   {
    "duration": 3,
    "start_time": "2023-01-10T12:35:07.655Z"
   },
   {
    "duration": 51,
    "start_time": "2023-01-10T12:35:07.659Z"
   },
   {
    "duration": 110,
    "start_time": "2023-01-10T12:35:07.712Z"
   },
   {
    "duration": 69,
    "start_time": "2023-01-10T12:35:07.824Z"
   },
   {
    "duration": 9,
    "start_time": "2023-01-10T12:35:07.897Z"
   },
   {
    "duration": 30,
    "start_time": "2023-01-10T12:35:07.908Z"
   },
   {
    "duration": 168,
    "start_time": "2023-01-10T12:35:07.939Z"
   },
   {
    "duration": 1358,
    "start_time": "2023-01-10T12:35:08.108Z"
   },
   {
    "duration": 753,
    "start_time": "2023-01-10T12:35:09.469Z"
   },
   {
    "duration": 6,
    "start_time": "2023-01-10T12:35:10.223Z"
   },
   {
    "duration": 15,
    "start_time": "2023-01-10T12:35:10.231Z"
   },
   {
    "duration": 12,
    "start_time": "2023-01-10T12:35:10.248Z"
   },
   {
    "duration": 133,
    "start_time": "2023-01-10T12:35:10.261Z"
   },
   {
    "duration": 4,
    "start_time": "2023-01-10T12:35:10.396Z"
   },
   {
    "duration": 17,
    "start_time": "2023-01-10T12:35:10.401Z"
   },
   {
    "duration": 12,
    "start_time": "2023-01-10T12:35:10.420Z"
   },
   {
    "duration": 12,
    "start_time": "2023-01-10T12:35:10.433Z"
   },
   {
    "duration": 20,
    "start_time": "2023-01-10T12:35:10.446Z"
   },
   {
    "duration": 14,
    "start_time": "2023-01-10T12:35:10.467Z"
   },
   {
    "duration": 36,
    "start_time": "2023-01-10T12:35:10.483Z"
   },
   {
    "duration": 109,
    "start_time": "2023-01-10T12:35:10.520Z"
   },
   {
    "duration": 6,
    "start_time": "2023-01-10T12:35:10.630Z"
   },
   {
    "duration": 1215,
    "start_time": "2023-01-10T12:35:10.637Z"
   },
   {
    "duration": 547,
    "start_time": "2023-01-10T12:35:11.853Z"
   },
   {
    "duration": 1677,
    "start_time": "2023-01-10T12:35:12.401Z"
   },
   {
    "duration": 521,
    "start_time": "2023-01-10T12:35:14.080Z"
   },
   {
    "duration": 9,
    "start_time": "2023-01-10T12:35:14.604Z"
   },
   {
    "duration": 42,
    "start_time": "2023-01-10T12:35:14.614Z"
   },
   {
    "duration": 1044,
    "start_time": "2023-01-10T12:35:14.658Z"
   },
   {
    "duration": 7732,
    "start_time": "2023-01-10T12:35:15.704Z"
   },
   {
    "duration": 5,
    "start_time": "2023-01-10T12:35:23.438Z"
   },
   {
    "duration": 14,
    "start_time": "2023-01-10T12:35:23.444Z"
   },
   {
    "duration": 19,
    "start_time": "2023-01-10T12:35:23.460Z"
   },
   {
    "duration": 1047,
    "start_time": "2023-01-10T12:35:23.480Z"
   },
   {
    "duration": 7,
    "start_time": "2023-01-10T12:35:24.528Z"
   },
   {
    "duration": 21,
    "start_time": "2023-01-10T12:35:24.536Z"
   },
   {
    "duration": 25,
    "start_time": "2023-01-10T12:48:04.141Z"
   },
   {
    "duration": 3,
    "start_time": "2023-01-10T12:48:43.172Z"
   },
   {
    "duration": 1468,
    "start_time": "2023-01-10T14:03:37.147Z"
   },
   {
    "duration": 4,
    "start_time": "2023-01-10T14:03:38.617Z"
   },
   {
    "duration": 9,
    "start_time": "2023-01-10T14:03:38.622Z"
   },
   {
    "duration": 43,
    "start_time": "2023-01-10T14:03:38.633Z"
   },
   {
    "duration": 81,
    "start_time": "2023-01-10T14:03:38.678Z"
   },
   {
    "duration": 10,
    "start_time": "2023-01-10T14:03:38.760Z"
   },
   {
    "duration": 5,
    "start_time": "2023-01-10T14:03:38.772Z"
   },
   {
    "duration": 190,
    "start_time": "2023-01-10T14:03:38.778Z"
   },
   {
    "duration": 1535,
    "start_time": "2023-01-10T14:03:38.970Z"
   },
   {
    "duration": 858,
    "start_time": "2023-01-10T14:03:40.508Z"
   },
   {
    "duration": 6,
    "start_time": "2023-01-10T14:03:41.368Z"
   },
   {
    "duration": 8,
    "start_time": "2023-01-10T14:03:41.376Z"
   },
   {
    "duration": 26,
    "start_time": "2023-01-10T14:03:41.385Z"
   },
   {
    "duration": 167,
    "start_time": "2023-01-10T14:03:41.414Z"
   },
   {
    "duration": 5,
    "start_time": "2023-01-10T14:03:41.583Z"
   },
   {
    "duration": 25,
    "start_time": "2023-01-10T14:03:41.590Z"
   },
   {
    "duration": 13,
    "start_time": "2023-01-10T14:03:41.617Z"
   },
   {
    "duration": 7,
    "start_time": "2023-01-10T14:03:41.632Z"
   },
   {
    "duration": 14,
    "start_time": "2023-01-10T14:03:41.640Z"
   },
   {
    "duration": 11,
    "start_time": "2023-01-10T14:03:41.655Z"
   },
   {
    "duration": 8,
    "start_time": "2023-01-10T14:03:41.667Z"
   },
   {
    "duration": 40,
    "start_time": "2023-01-10T14:03:41.676Z"
   },
   {
    "duration": 16530,
    "start_time": "2023-01-10T14:03:41.719Z"
   },
   {
    "duration": 7,
    "start_time": "2023-01-10T14:03:58.250Z"
   },
   {
    "duration": 20,
    "start_time": "2023-01-10T14:03:58.259Z"
   },
   {
    "duration": 3,
    "start_time": "2023-01-10T14:03:58.281Z"
   },
   {
    "duration": 136,
    "start_time": "2023-01-10T14:04:03.732Z"
   },
   {
    "duration": 15,
    "start_time": "2023-01-10T14:04:22.448Z"
   },
   {
    "duration": 4,
    "start_time": "2023-01-10T14:04:53.866Z"
   },
   {
    "duration": 10,
    "start_time": "2023-01-10T14:04:53.871Z"
   },
   {
    "duration": 10,
    "start_time": "2023-01-10T14:04:53.883Z"
   },
   {
    "duration": 59,
    "start_time": "2023-01-10T14:04:53.895Z"
   },
   {
    "duration": 72,
    "start_time": "2023-01-10T14:04:53.957Z"
   },
   {
    "duration": 9,
    "start_time": "2023-01-10T14:04:54.031Z"
   },
   {
    "duration": 6,
    "start_time": "2023-01-10T14:04:54.041Z"
   },
   {
    "duration": 143,
    "start_time": "2023-01-10T14:04:54.048Z"
   },
   {
    "duration": 1623,
    "start_time": "2023-01-10T14:04:54.193Z"
   },
   {
    "duration": 882,
    "start_time": "2023-01-10T14:04:55.819Z"
   },
   {
    "duration": 8,
    "start_time": "2023-01-10T14:04:56.704Z"
   },
   {
    "duration": 18,
    "start_time": "2023-01-10T14:04:56.714Z"
   },
   {
    "duration": 8,
    "start_time": "2023-01-10T14:04:56.733Z"
   },
   {
    "duration": 140,
    "start_time": "2023-01-10T14:04:56.742Z"
   },
   {
    "duration": 4,
    "start_time": "2023-01-10T14:04:56.884Z"
   },
   {
    "duration": 528,
    "start_time": "2023-01-10T14:04:56.901Z"
   },
   {
    "duration": 8,
    "start_time": "2023-01-10T14:04:57.430Z"
   },
   {
    "duration": 17,
    "start_time": "2023-01-10T14:04:57.440Z"
   },
   {
    "duration": 24,
    "start_time": "2023-01-10T14:04:57.459Z"
   },
   {
    "duration": 33,
    "start_time": "2023-01-10T14:04:57.485Z"
   },
   {
    "duration": 14,
    "start_time": "2023-01-10T14:04:57.519Z"
   },
   {
    "duration": 18,
    "start_time": "2023-01-10T14:04:57.534Z"
   },
   {
    "duration": 2133,
    "start_time": "2023-01-10T14:04:57.554Z"
   },
   {
    "duration": 7,
    "start_time": "2023-01-10T14:04:59.690Z"
   },
   {
    "duration": 53,
    "start_time": "2023-01-10T14:04:59.701Z"
   },
   {
    "duration": 10,
    "start_time": "2023-01-10T14:04:59.756Z"
   },
   {
    "duration": 23,
    "start_time": "2023-01-10T14:05:05.713Z"
   },
   {
    "duration": 1233,
    "start_time": "2023-01-10T14:05:21.946Z"
   },
   {
    "duration": 3,
    "start_time": "2023-01-10T14:05:23.181Z"
   },
   {
    "duration": 7,
    "start_time": "2023-01-10T14:05:23.199Z"
   },
   {
    "duration": 64,
    "start_time": "2023-01-10T14:05:23.210Z"
   },
   {
    "duration": 79,
    "start_time": "2023-01-10T14:05:23.275Z"
   },
   {
    "duration": 10,
    "start_time": "2023-01-10T14:05:23.356Z"
   },
   {
    "duration": 6,
    "start_time": "2023-01-10T14:05:23.368Z"
   },
   {
    "duration": 188,
    "start_time": "2023-01-10T14:05:23.376Z"
   },
   {
    "duration": 1522,
    "start_time": "2023-01-10T14:05:23.566Z"
   },
   {
    "duration": 871,
    "start_time": "2023-01-10T14:05:25.091Z"
   },
   {
    "duration": 6,
    "start_time": "2023-01-10T14:05:25.964Z"
   },
   {
    "duration": 20,
    "start_time": "2023-01-10T14:05:25.972Z"
   },
   {
    "duration": 18,
    "start_time": "2023-01-10T14:05:25.994Z"
   },
   {
    "duration": 164,
    "start_time": "2023-01-10T14:05:26.014Z"
   },
   {
    "duration": 4,
    "start_time": "2023-01-10T14:05:26.180Z"
   },
   {
    "duration": 31,
    "start_time": "2023-01-10T14:05:26.185Z"
   },
   {
    "duration": 9,
    "start_time": "2023-01-10T14:05:26.218Z"
   },
   {
    "duration": 5,
    "start_time": "2023-01-10T14:05:26.229Z"
   },
   {
    "duration": 19,
    "start_time": "2023-01-10T14:05:26.236Z"
   },
   {
    "duration": 8,
    "start_time": "2023-01-10T14:05:26.257Z"
   },
   {
    "duration": 8,
    "start_time": "2023-01-10T14:05:26.267Z"
   },
   {
    "duration": 35,
    "start_time": "2023-01-10T14:05:26.277Z"
   },
   {
    "duration": 2248,
    "start_time": "2023-01-10T14:05:26.313Z"
   },
   {
    "duration": 7,
    "start_time": "2023-01-10T14:05:28.563Z"
   },
   {
    "duration": 13,
    "start_time": "2023-01-10T14:05:28.571Z"
   },
   {
    "duration": 9,
    "start_time": "2023-01-10T14:05:28.585Z"
   },
   {
    "duration": 126,
    "start_time": "2023-01-10T14:05:35.443Z"
   },
   {
    "duration": 35,
    "start_time": "2023-01-10T14:07:12.875Z"
   },
   {
    "duration": 18,
    "start_time": "2023-01-10T14:07:20.763Z"
   },
   {
    "duration": 21,
    "start_time": "2023-01-10T14:07:36.596Z"
   },
   {
    "duration": 31,
    "start_time": "2023-01-10T14:08:08.612Z"
   },
   {
    "duration": 39,
    "start_time": "2023-01-10T14:08:24.609Z"
   },
   {
    "duration": 16,
    "start_time": "2023-01-10T14:10:57.959Z"
   },
   {
    "duration": 1169,
    "start_time": "2023-01-10T14:11:30.126Z"
   },
   {
    "duration": 6,
    "start_time": "2023-01-10T14:11:31.297Z"
   },
   {
    "duration": 106,
    "start_time": "2023-01-10T14:11:31.310Z"
   },
   {
    "duration": 43,
    "start_time": "2023-01-10T14:11:31.419Z"
   },
   {
    "duration": 79,
    "start_time": "2023-01-10T14:11:31.463Z"
   },
   {
    "duration": 8,
    "start_time": "2023-01-10T14:11:31.544Z"
   },
   {
    "duration": 6,
    "start_time": "2023-01-10T14:11:31.554Z"
   },
   {
    "duration": 161,
    "start_time": "2023-01-10T14:11:31.562Z"
   },
   {
    "duration": 1426,
    "start_time": "2023-01-10T14:11:31.725Z"
   },
   {
    "duration": 795,
    "start_time": "2023-01-10T14:11:33.154Z"
   },
   {
    "duration": 7,
    "start_time": "2023-01-10T14:11:33.951Z"
   },
   {
    "duration": 21,
    "start_time": "2023-01-10T14:11:33.960Z"
   },
   {
    "duration": 24,
    "start_time": "2023-01-10T14:11:33.983Z"
   },
   {
    "duration": 164,
    "start_time": "2023-01-10T14:11:34.008Z"
   },
   {
    "duration": 5,
    "start_time": "2023-01-10T14:11:34.174Z"
   },
   {
    "duration": 25,
    "start_time": "2023-01-10T14:11:34.181Z"
   },
   {
    "duration": 7,
    "start_time": "2023-01-10T14:11:34.210Z"
   },
   {
    "duration": 10,
    "start_time": "2023-01-10T14:11:34.219Z"
   },
   {
    "duration": 12,
    "start_time": "2023-01-10T14:11:34.231Z"
   },
   {
    "duration": 8,
    "start_time": "2023-01-10T14:11:34.245Z"
   },
   {
    "duration": 11,
    "start_time": "2023-01-10T14:11:34.254Z"
   },
   {
    "duration": 44,
    "start_time": "2023-01-10T14:11:34.267Z"
   },
   {
    "duration": 2208,
    "start_time": "2023-01-10T14:11:34.313Z"
   },
   {
    "duration": 7,
    "start_time": "2023-01-10T14:11:36.523Z"
   },
   {
    "duration": 11,
    "start_time": "2023-01-10T14:11:36.532Z"
   },
   {
    "duration": 3,
    "start_time": "2023-01-10T14:11:36.545Z"
   },
   {
    "duration": 151,
    "start_time": "2023-01-10T14:11:39.277Z"
   },
   {
    "duration": 1160,
    "start_time": "2023-01-10T14:12:04.033Z"
   },
   {
    "duration": 18,
    "start_time": "2023-01-10T14:12:05.195Z"
   },
   {
    "duration": 13,
    "start_time": "2023-01-10T14:12:05.216Z"
   },
   {
    "duration": 49,
    "start_time": "2023-01-10T14:12:05.232Z"
   },
   {
    "duration": 77,
    "start_time": "2023-01-10T14:12:05.283Z"
   },
   {
    "duration": 6,
    "start_time": "2023-01-10T14:12:05.362Z"
   },
   {
    "duration": 17,
    "start_time": "2023-01-10T14:12:05.370Z"
   },
   {
    "duration": 182,
    "start_time": "2023-01-10T14:12:05.389Z"
   },
   {
    "duration": 1488,
    "start_time": "2023-01-10T14:12:05.573Z"
   },
   {
    "duration": 783,
    "start_time": "2023-01-10T14:12:07.063Z"
   },
   {
    "duration": 7,
    "start_time": "2023-01-10T14:12:07.847Z"
   },
   {
    "duration": 10,
    "start_time": "2023-01-10T14:12:07.856Z"
   },
   {
    "duration": 9,
    "start_time": "2023-01-10T14:12:07.868Z"
   },
   {
    "duration": 166,
    "start_time": "2023-01-10T14:12:07.879Z"
   },
   {
    "duration": 3,
    "start_time": "2023-01-10T14:12:08.047Z"
   },
   {
    "duration": 23,
    "start_time": "2023-01-10T14:12:08.052Z"
   },
   {
    "duration": 4,
    "start_time": "2023-01-10T14:12:08.077Z"
   },
   {
    "duration": 12,
    "start_time": "2023-01-10T14:12:08.083Z"
   },
   {
    "duration": 38,
    "start_time": "2023-01-10T14:12:08.097Z"
   },
   {
    "duration": 12,
    "start_time": "2023-01-10T14:12:08.137Z"
   },
   {
    "duration": 8,
    "start_time": "2023-01-10T14:12:08.151Z"
   },
   {
    "duration": 25,
    "start_time": "2023-01-10T14:12:08.161Z"
   },
   {
    "duration": 2123,
    "start_time": "2023-01-10T14:12:08.189Z"
   },
   {
    "duration": 6,
    "start_time": "2023-01-10T14:12:10.315Z"
   },
   {
    "duration": 9,
    "start_time": "2023-01-10T14:12:10.323Z"
   },
   {
    "duration": 8,
    "start_time": "2023-01-10T14:12:10.333Z"
   },
   {
    "duration": 142,
    "start_time": "2023-01-10T14:12:14.561Z"
   },
   {
    "duration": 1135,
    "start_time": "2023-01-10T14:12:38.888Z"
   },
   {
    "duration": 3,
    "start_time": "2023-01-10T14:12:40.026Z"
   },
   {
    "duration": 10,
    "start_time": "2023-01-10T14:12:40.031Z"
   },
   {
    "duration": 52,
    "start_time": "2023-01-10T14:12:40.043Z"
   },
   {
    "duration": 76,
    "start_time": "2023-01-10T14:12:40.098Z"
   },
   {
    "duration": 24,
    "start_time": "2023-01-10T14:12:40.175Z"
   },
   {
    "duration": 5,
    "start_time": "2023-01-10T14:12:40.204Z"
   },
   {
    "duration": 142,
    "start_time": "2023-01-10T14:12:40.214Z"
   },
   {
    "duration": 1455,
    "start_time": "2023-01-10T14:12:40.357Z"
   },
   {
    "duration": 759,
    "start_time": "2023-01-10T14:12:41.817Z"
   },
   {
    "duration": 5,
    "start_time": "2023-01-10T14:12:42.578Z"
   },
   {
    "duration": 7,
    "start_time": "2023-01-10T14:12:42.585Z"
   },
   {
    "duration": 14,
    "start_time": "2023-01-10T14:12:42.597Z"
   },
   {
    "duration": 147,
    "start_time": "2023-01-10T14:12:42.612Z"
   },
   {
    "duration": 4,
    "start_time": "2023-01-10T14:12:42.761Z"
   },
   {
    "duration": 29,
    "start_time": "2023-01-10T14:12:42.766Z"
   },
   {
    "duration": 19,
    "start_time": "2023-01-10T14:12:42.797Z"
   },
   {
    "duration": 9,
    "start_time": "2023-01-10T14:12:42.818Z"
   },
   {
    "duration": 13,
    "start_time": "2023-01-10T14:12:42.828Z"
   },
   {
    "duration": 6,
    "start_time": "2023-01-10T14:12:42.842Z"
   },
   {
    "duration": 6,
    "start_time": "2023-01-10T14:12:42.850Z"
   },
   {
    "duration": 16,
    "start_time": "2023-01-10T14:12:42.858Z"
   },
   {
    "duration": 2205,
    "start_time": "2023-01-10T14:12:42.875Z"
   },
   {
    "duration": 7,
    "start_time": "2023-01-10T14:12:45.082Z"
   },
   {
    "duration": 34,
    "start_time": "2023-01-10T14:12:45.090Z"
   },
   {
    "duration": 22,
    "start_time": "2023-01-10T14:12:45.125Z"
   },
   {
    "duration": 25,
    "start_time": "2023-01-10T14:12:48.069Z"
   },
   {
    "duration": 15,
    "start_time": "2023-01-10T14:13:03.140Z"
   },
   {
    "duration": 21,
    "start_time": "2023-01-10T14:13:17.335Z"
   },
   {
    "duration": 1157,
    "start_time": "2023-01-10T14:14:46.972Z"
   },
   {
    "duration": 3,
    "start_time": "2023-01-10T14:14:48.131Z"
   },
   {
    "duration": 13,
    "start_time": "2023-01-10T14:14:48.135Z"
   },
   {
    "duration": 42,
    "start_time": "2023-01-10T14:14:48.149Z"
   },
   {
    "duration": 80,
    "start_time": "2023-01-10T14:14:48.192Z"
   },
   {
    "duration": 5,
    "start_time": "2023-01-10T14:14:48.274Z"
   },
   {
    "duration": 19,
    "start_time": "2023-01-10T14:14:48.281Z"
   },
   {
    "duration": 143,
    "start_time": "2023-01-10T14:14:48.302Z"
   },
   {
    "duration": 1387,
    "start_time": "2023-01-10T14:14:48.447Z"
   },
   {
    "duration": 749,
    "start_time": "2023-01-10T14:14:49.836Z"
   },
   {
    "duration": 6,
    "start_time": "2023-01-10T14:14:50.586Z"
   },
   {
    "duration": 29,
    "start_time": "2023-01-10T14:14:50.593Z"
   },
   {
    "duration": 17,
    "start_time": "2023-01-10T14:14:50.624Z"
   },
   {
    "duration": 149,
    "start_time": "2023-01-10T14:14:50.642Z"
   },
   {
    "duration": 8,
    "start_time": "2023-01-10T14:14:50.793Z"
   },
   {
    "duration": 21,
    "start_time": "2023-01-10T14:14:50.807Z"
   },
   {
    "duration": 13,
    "start_time": "2023-01-10T14:14:50.829Z"
   },
   {
    "duration": 27,
    "start_time": "2023-01-10T14:14:50.843Z"
   },
   {
    "duration": 19,
    "start_time": "2023-01-10T14:14:50.871Z"
   },
   {
    "duration": 18,
    "start_time": "2023-01-10T14:14:50.891Z"
   },
   {
    "duration": 8,
    "start_time": "2023-01-10T14:14:50.911Z"
   },
   {
    "duration": 15,
    "start_time": "2023-01-10T14:14:50.921Z"
   },
   {
    "duration": 2055,
    "start_time": "2023-01-10T14:14:50.938Z"
   },
   {
    "duration": 14,
    "start_time": "2023-01-10T14:14:52.995Z"
   },
   {
    "duration": 17,
    "start_time": "2023-01-10T14:14:53.011Z"
   },
   {
    "duration": 29,
    "start_time": "2023-01-10T14:14:53.029Z"
   },
   {
    "duration": 15,
    "start_time": "2023-01-10T14:14:53.059Z"
   },
   {
    "duration": 32,
    "start_time": "2023-01-10T14:14:53.077Z"
   },
   {
    "duration": 22,
    "start_time": "2023-01-10T14:14:58.593Z"
   },
   {
    "duration": 17,
    "start_time": "2023-01-10T14:15:16.773Z"
   },
   {
    "duration": 1155,
    "start_time": "2023-01-10T14:15:57.746Z"
   },
   {
    "duration": 5,
    "start_time": "2023-01-10T14:15:58.906Z"
   },
   {
    "duration": 24,
    "start_time": "2023-01-10T14:15:58.915Z"
   },
   {
    "duration": 75,
    "start_time": "2023-01-10T14:15:58.941Z"
   },
   {
    "duration": 98,
    "start_time": "2023-01-10T14:15:59.018Z"
   },
   {
    "duration": 13,
    "start_time": "2023-01-10T14:15:59.120Z"
   },
   {
    "duration": 13,
    "start_time": "2023-01-10T14:15:59.135Z"
   },
   {
    "duration": 198,
    "start_time": "2023-01-10T14:15:59.149Z"
   },
   {
    "duration": 1501,
    "start_time": "2023-01-10T14:15:59.348Z"
   },
   {
    "duration": 794,
    "start_time": "2023-01-10T14:16:00.851Z"
   },
   {
    "duration": 7,
    "start_time": "2023-01-10T14:16:01.647Z"
   },
   {
    "duration": 9,
    "start_time": "2023-01-10T14:16:01.655Z"
   },
   {
    "duration": 23,
    "start_time": "2023-01-10T14:16:01.666Z"
   },
   {
    "duration": 153,
    "start_time": "2023-01-10T14:16:01.691Z"
   },
   {
    "duration": 4,
    "start_time": "2023-01-10T14:16:01.846Z"
   },
   {
    "duration": 26,
    "start_time": "2023-01-10T14:16:01.851Z"
   },
   {
    "duration": 14,
    "start_time": "2023-01-10T14:16:01.878Z"
   },
   {
    "duration": 35,
    "start_time": "2023-01-10T14:16:01.893Z"
   },
   {
    "duration": 17,
    "start_time": "2023-01-10T14:16:01.929Z"
   },
   {
    "duration": 36,
    "start_time": "2023-01-10T14:16:01.949Z"
   },
   {
    "duration": 34,
    "start_time": "2023-01-10T14:16:01.986Z"
   },
   {
    "duration": 61,
    "start_time": "2023-01-10T14:16:02.022Z"
   },
   {
    "duration": 2193,
    "start_time": "2023-01-10T14:16:02.084Z"
   },
   {
    "duration": 5,
    "start_time": "2023-01-10T14:16:04.279Z"
   },
   {
    "duration": 7,
    "start_time": "2023-01-10T14:16:04.286Z"
   },
   {
    "duration": 57,
    "start_time": "2023-01-10T14:16:04.294Z"
   },
   {
    "duration": 32,
    "start_time": "2023-01-10T14:16:04.353Z"
   },
   {
    "duration": 26,
    "start_time": "2023-01-10T14:16:04.389Z"
   },
   {
    "duration": 34,
    "start_time": "2023-01-10T14:16:04.416Z"
   },
   {
    "duration": 16,
    "start_time": "2023-01-10T14:16:04.451Z"
   },
   {
    "duration": 25,
    "start_time": "2023-01-10T14:16:04.468Z"
   },
   {
    "duration": 110,
    "start_time": "2023-01-10T14:16:04.495Z"
   },
   {
    "duration": 13,
    "start_time": "2023-01-10T14:16:04.612Z"
   },
   {
    "duration": 2745,
    "start_time": "2023-01-10T14:16:04.626Z"
   },
   {
    "duration": 460,
    "start_time": "2023-01-10T14:16:07.373Z"
   },
   {
    "duration": 1401,
    "start_time": "2023-01-10T14:16:07.834Z"
   },
   {
    "duration": 268,
    "start_time": "2023-01-10T14:16:09.237Z"
   },
   {
    "duration": 15,
    "start_time": "2023-01-10T14:16:09.507Z"
   },
   {
    "duration": 85,
    "start_time": "2023-01-10T14:16:09.523Z"
   },
   {
    "duration": 995,
    "start_time": "2023-01-10T14:16:09.618Z"
   },
   {
    "duration": 8270,
    "start_time": "2023-01-10T14:16:10.619Z"
   },
   {
    "duration": 8,
    "start_time": "2023-01-10T14:16:18.890Z"
   },
   {
    "duration": 27,
    "start_time": "2023-01-10T14:16:18.899Z"
   },
   {
    "duration": 9,
    "start_time": "2023-01-10T14:16:18.927Z"
   },
   {
    "duration": 1212,
    "start_time": "2023-01-10T14:16:18.937Z"
   },
   {
    "duration": 6,
    "start_time": "2023-01-10T14:16:20.150Z"
   },
   {
    "duration": 7,
    "start_time": "2023-01-10T14:16:20.158Z"
   },
   {
    "duration": 1329,
    "start_time": "2023-01-12T19:52:12.209Z"
   },
   {
    "duration": 3,
    "start_time": "2023-01-12T19:52:13.540Z"
   },
   {
    "duration": 10,
    "start_time": "2023-01-12T19:52:13.545Z"
   },
   {
    "duration": 93,
    "start_time": "2023-01-12T19:52:13.558Z"
   },
   {
    "duration": 69,
    "start_time": "2023-01-12T19:52:13.653Z"
   },
   {
    "duration": 7,
    "start_time": "2023-01-12T19:52:13.723Z"
   },
   {
    "duration": 6,
    "start_time": "2023-01-12T19:52:13.731Z"
   },
   {
    "duration": 157,
    "start_time": "2023-01-12T19:52:13.739Z"
   },
   {
    "duration": 1347,
    "start_time": "2023-01-12T19:52:13.897Z"
   },
   {
    "duration": 757,
    "start_time": "2023-01-12T19:52:15.247Z"
   },
   {
    "duration": 6,
    "start_time": "2023-01-12T19:52:16.006Z"
   },
   {
    "duration": 13,
    "start_time": "2023-01-12T19:52:16.013Z"
   },
   {
    "duration": 8,
    "start_time": "2023-01-12T19:52:16.027Z"
   },
   {
    "duration": 145,
    "start_time": "2023-01-12T19:52:16.036Z"
   },
   {
    "duration": 3,
    "start_time": "2023-01-12T19:52:16.183Z"
   },
   {
    "duration": 12,
    "start_time": "2023-01-12T19:52:16.188Z"
   },
   {
    "duration": 5,
    "start_time": "2023-01-12T19:52:16.202Z"
   },
   {
    "duration": 3,
    "start_time": "2023-01-12T19:52:16.208Z"
   },
   {
    "duration": 11,
    "start_time": "2023-01-12T19:52:16.212Z"
   },
   {
    "duration": 8,
    "start_time": "2023-01-12T19:52:16.224Z"
   },
   {
    "duration": 13,
    "start_time": "2023-01-12T19:52:24.922Z"
   },
   {
    "duration": 7,
    "start_time": "2023-01-12T19:52:25.489Z"
   },
   {
    "duration": 1193,
    "start_time": "2023-01-12T19:57:45.729Z"
   },
   {
    "duration": 3,
    "start_time": "2023-01-12T19:57:46.924Z"
   },
   {
    "duration": 6,
    "start_time": "2023-01-12T19:57:46.928Z"
   },
   {
    "duration": 43,
    "start_time": "2023-01-12T19:57:46.936Z"
   },
   {
    "duration": 64,
    "start_time": "2023-01-12T19:57:46.981Z"
   },
   {
    "duration": 6,
    "start_time": "2023-01-12T19:57:47.046Z"
   },
   {
    "duration": 24,
    "start_time": "2023-01-12T19:57:47.053Z"
   },
   {
    "duration": 137,
    "start_time": "2023-01-12T19:57:47.078Z"
   },
   {
    "duration": 1341,
    "start_time": "2023-01-12T19:57:47.216Z"
   },
   {
    "duration": 846,
    "start_time": "2023-01-12T19:57:48.578Z"
   },
   {
    "duration": 7,
    "start_time": "2023-01-12T19:57:49.425Z"
   },
   {
    "duration": 8,
    "start_time": "2023-01-12T19:57:49.433Z"
   },
   {
    "duration": 8,
    "start_time": "2023-01-12T19:57:49.443Z"
   },
   {
    "duration": 144,
    "start_time": "2023-01-12T19:57:49.452Z"
   },
   {
    "duration": 3,
    "start_time": "2023-01-12T19:57:49.598Z"
   },
   {
    "duration": 10,
    "start_time": "2023-01-12T19:57:49.603Z"
   },
   {
    "duration": 4,
    "start_time": "2023-01-12T19:57:49.615Z"
   },
   {
    "duration": 4,
    "start_time": "2023-01-12T19:57:49.620Z"
   },
   {
    "duration": 12,
    "start_time": "2023-01-12T19:57:49.625Z"
   },
   {
    "duration": 8,
    "start_time": "2023-01-12T19:57:49.638Z"
   },
   {
    "duration": 33,
    "start_time": "2023-01-12T19:57:49.648Z"
   },
   {
    "duration": 16,
    "start_time": "2023-01-12T19:57:49.683Z"
   },
   {
    "duration": 7662,
    "start_time": "2023-01-12T19:57:49.701Z"
   },
   {
    "duration": 6,
    "start_time": "2023-01-12T19:57:57.364Z"
   },
   {
    "duration": 13,
    "start_time": "2023-01-12T19:57:57.372Z"
   },
   {
    "duration": 19,
    "start_time": "2023-01-12T19:57:57.386Z"
   },
   {
    "duration": 4,
    "start_time": "2023-01-12T19:57:57.407Z"
   },
   {
    "duration": 120,
    "start_time": "2023-01-12T19:57:57.414Z"
   },
   {
    "duration": 0,
    "start_time": "2023-01-12T19:57:57.536Z"
   },
   {
    "duration": 0,
    "start_time": "2023-01-12T19:57:57.537Z"
   },
   {
    "duration": 0,
    "start_time": "2023-01-12T19:57:57.538Z"
   },
   {
    "duration": 0,
    "start_time": "2023-01-12T19:57:57.539Z"
   },
   {
    "duration": 0,
    "start_time": "2023-01-12T19:57:57.540Z"
   },
   {
    "duration": 0,
    "start_time": "2023-01-12T19:57:57.542Z"
   },
   {
    "duration": 0,
    "start_time": "2023-01-12T19:57:57.543Z"
   },
   {
    "duration": 0,
    "start_time": "2023-01-12T19:57:57.545Z"
   },
   {
    "duration": 1,
    "start_time": "2023-01-12T19:57:57.546Z"
   },
   {
    "duration": 0,
    "start_time": "2023-01-12T19:57:57.548Z"
   },
   {
    "duration": 0,
    "start_time": "2023-01-12T19:57:57.549Z"
   },
   {
    "duration": 0,
    "start_time": "2023-01-12T19:57:57.550Z"
   },
   {
    "duration": 0,
    "start_time": "2023-01-12T19:57:57.550Z"
   },
   {
    "duration": 0,
    "start_time": "2023-01-12T19:57:57.577Z"
   },
   {
    "duration": 0,
    "start_time": "2023-01-12T19:57:57.577Z"
   },
   {
    "duration": 0,
    "start_time": "2023-01-12T19:57:57.578Z"
   },
   {
    "duration": 0,
    "start_time": "2023-01-12T19:57:57.579Z"
   },
   {
    "duration": 0,
    "start_time": "2023-01-12T19:57:57.580Z"
   },
   {
    "duration": 0,
    "start_time": "2023-01-12T19:57:57.581Z"
   },
   {
    "duration": 0,
    "start_time": "2023-01-12T19:57:57.582Z"
   },
   {
    "duration": 1226,
    "start_time": "2023-01-12T20:01:23.850Z"
   },
   {
    "duration": 3,
    "start_time": "2023-01-12T20:01:25.078Z"
   },
   {
    "duration": 13,
    "start_time": "2023-01-12T20:01:25.082Z"
   },
   {
    "duration": 44,
    "start_time": "2023-01-12T20:01:25.097Z"
   },
   {
    "duration": 70,
    "start_time": "2023-01-12T20:01:25.143Z"
   },
   {
    "duration": 7,
    "start_time": "2023-01-12T20:01:25.214Z"
   },
   {
    "duration": 12,
    "start_time": "2023-01-12T20:01:25.223Z"
   },
   {
    "duration": 171,
    "start_time": "2023-01-12T20:01:25.237Z"
   },
   {
    "duration": 1374,
    "start_time": "2023-01-12T20:01:25.410Z"
   },
   {
    "duration": 761,
    "start_time": "2023-01-12T20:01:26.787Z"
   },
   {
    "duration": 8,
    "start_time": "2023-01-12T20:01:27.550Z"
   },
   {
    "duration": 23,
    "start_time": "2023-01-12T20:01:27.560Z"
   },
   {
    "duration": 13,
    "start_time": "2023-01-12T20:01:27.585Z"
   },
   {
    "duration": 151,
    "start_time": "2023-01-12T20:01:27.600Z"
   },
   {
    "duration": 4,
    "start_time": "2023-01-12T20:01:27.753Z"
   },
   {
    "duration": 19,
    "start_time": "2023-01-12T20:01:27.758Z"
   },
   {
    "duration": 4,
    "start_time": "2023-01-12T20:01:27.779Z"
   },
   {
    "duration": 6,
    "start_time": "2023-01-12T20:01:27.784Z"
   },
   {
    "duration": 15,
    "start_time": "2023-01-12T20:01:27.791Z"
   },
   {
    "duration": 11,
    "start_time": "2023-01-12T20:01:27.807Z"
   },
   {
    "duration": 11,
    "start_time": "2023-01-12T20:01:27.819Z"
   },
   {
    "duration": 17,
    "start_time": "2023-01-12T20:01:27.832Z"
   },
   {
    "duration": 2118,
    "start_time": "2023-01-12T20:01:27.850Z"
   },
   {
    "duration": 6,
    "start_time": "2023-01-12T20:01:29.971Z"
   },
   {
    "duration": 8,
    "start_time": "2023-01-12T20:01:29.978Z"
   },
   {
    "duration": 4,
    "start_time": "2023-01-12T20:01:29.987Z"
   },
   {
    "duration": 4,
    "start_time": "2023-01-12T20:01:29.993Z"
   },
   {
    "duration": 51,
    "start_time": "2023-01-12T20:01:30.000Z"
   },
   {
    "duration": 103,
    "start_time": "2023-01-12T20:01:30.053Z"
   },
   {
    "duration": 6,
    "start_time": "2023-01-12T20:01:30.157Z"
   },
   {
    "duration": 1570,
    "start_time": "2023-01-12T20:01:30.175Z"
   },
   {
    "duration": 630,
    "start_time": "2023-01-12T20:01:31.747Z"
   },
   {
    "duration": 5021,
    "start_time": "2023-01-12T20:01:32.379Z"
   },
   {
    "duration": 579,
    "start_time": "2023-01-12T20:01:37.401Z"
   },
   {
    "duration": 11,
    "start_time": "2023-01-12T20:01:37.981Z"
   },
   {
    "duration": 24,
    "start_time": "2023-01-12T20:01:37.993Z"
   },
   {
    "duration": 6,
    "start_time": "2023-01-12T20:01:38.018Z"
   },
   {
    "duration": 1015,
    "start_time": "2023-01-12T20:01:38.025Z"
   },
   {
    "duration": 8143,
    "start_time": "2023-01-12T20:01:39.042Z"
   },
   {
    "duration": 8,
    "start_time": "2023-01-12T20:01:47.186Z"
   },
   {
    "duration": 7,
    "start_time": "2023-01-12T20:01:47.195Z"
   },
   {
    "duration": 10,
    "start_time": "2023-01-12T20:01:47.203Z"
   },
   {
    "duration": 1149,
    "start_time": "2023-01-12T20:01:47.214Z"
   },
   {
    "duration": 14,
    "start_time": "2023-01-12T20:01:48.364Z"
   },
   {
    "duration": 6,
    "start_time": "2023-01-12T20:01:48.379Z"
   },
   {
    "duration": 15,
    "start_time": "2023-01-12T20:02:02.738Z"
   },
   {
    "duration": 253,
    "start_time": "2023-01-12T20:06:16.784Z"
   },
   {
    "duration": 925,
    "start_time": "2023-01-12T20:08:02.342Z"
   },
   {
    "duration": 298,
    "start_time": "2023-01-12T20:13:08.680Z"
   },
   {
    "duration": 783,
    "start_time": "2023-01-12T20:13:35.291Z"
   },
   {
    "duration": 182,
    "start_time": "2023-01-12T20:13:42.908Z"
   },
   {
    "duration": 127,
    "start_time": "2023-01-12T20:14:18.251Z"
   },
   {
    "duration": 28,
    "start_time": "2023-01-12T20:14:28.417Z"
   },
   {
    "duration": 261,
    "start_time": "2023-01-12T20:14:45.145Z"
   },
   {
    "duration": 1062,
    "start_time": "2023-01-12T20:15:52.037Z"
   },
   {
    "duration": 3,
    "start_time": "2023-01-12T20:15:53.101Z"
   },
   {
    "duration": 10,
    "start_time": "2023-01-12T20:15:53.105Z"
   },
   {
    "duration": 44,
    "start_time": "2023-01-12T20:15:53.117Z"
   },
   {
    "duration": 70,
    "start_time": "2023-01-12T20:15:53.163Z"
   },
   {
    "duration": 7,
    "start_time": "2023-01-12T20:15:53.234Z"
   },
   {
    "duration": 5,
    "start_time": "2023-01-12T20:15:53.243Z"
   },
   {
    "duration": 160,
    "start_time": "2023-01-12T20:15:53.249Z"
   },
   {
    "duration": 1377,
    "start_time": "2023-01-12T20:15:53.410Z"
   },
   {
    "duration": 928,
    "start_time": "2023-01-12T20:15:54.789Z"
   },
   {
    "duration": 7,
    "start_time": "2023-01-12T20:15:55.718Z"
   },
   {
    "duration": 6,
    "start_time": "2023-01-12T20:15:55.727Z"
   },
   {
    "duration": 10,
    "start_time": "2023-01-12T20:15:55.735Z"
   },
   {
    "duration": 159,
    "start_time": "2023-01-12T20:15:55.746Z"
   },
   {
    "duration": 4,
    "start_time": "2023-01-12T20:15:55.906Z"
   },
   {
    "duration": 28,
    "start_time": "2023-01-12T20:15:55.911Z"
   },
   {
    "duration": 12,
    "start_time": "2023-01-12T20:15:55.941Z"
   },
   {
    "duration": 6,
    "start_time": "2023-01-12T20:15:55.954Z"
   },
   {
    "duration": 16,
    "start_time": "2023-01-12T20:15:55.961Z"
   },
   {
    "duration": 9,
    "start_time": "2023-01-12T20:15:55.979Z"
   },
   {
    "duration": 7,
    "start_time": "2023-01-12T20:15:55.989Z"
   },
   {
    "duration": 17,
    "start_time": "2023-01-12T20:15:55.998Z"
   },
   {
    "duration": 2112,
    "start_time": "2023-01-12T20:15:56.016Z"
   },
   {
    "duration": 6,
    "start_time": "2023-01-12T20:15:58.130Z"
   },
   {
    "duration": 20,
    "start_time": "2023-01-12T20:15:58.137Z"
   },
   {
    "duration": 7,
    "start_time": "2023-01-12T20:15:58.159Z"
   },
   {
    "duration": 7,
    "start_time": "2023-01-12T20:15:58.167Z"
   },
   {
    "duration": 41,
    "start_time": "2023-01-12T20:15:58.177Z"
   },
   {
    "duration": 106,
    "start_time": "2023-01-12T20:15:58.219Z"
   },
   {
    "duration": 4,
    "start_time": "2023-01-12T20:15:58.327Z"
   },
   {
    "duration": 4565,
    "start_time": "2023-01-12T20:15:58.333Z"
   },
   {
    "duration": 581,
    "start_time": "2023-01-12T20:16:02.899Z"
   },
   {
    "duration": 3465,
    "start_time": "2023-01-12T20:16:03.481Z"
   },
   {
    "duration": 630,
    "start_time": "2023-01-12T20:16:06.948Z"
   },
   {
    "duration": 11,
    "start_time": "2023-01-12T20:16:07.580Z"
   },
   {
    "duration": 19,
    "start_time": "2023-01-12T20:16:07.592Z"
   },
   {
    "duration": 304,
    "start_time": "2023-01-12T20:16:07.612Z"
   },
   {
    "duration": 1000,
    "start_time": "2023-01-12T20:16:07.918Z"
   },
   {
    "duration": 8217,
    "start_time": "2023-01-12T20:16:08.920Z"
   },
   {
    "duration": 7,
    "start_time": "2023-01-12T20:16:17.138Z"
   },
   {
    "duration": 9,
    "start_time": "2023-01-12T20:16:17.146Z"
   },
   {
    "duration": 6,
    "start_time": "2023-01-12T20:16:17.157Z"
   },
   {
    "duration": 1067,
    "start_time": "2023-01-12T20:16:17.165Z"
   },
   {
    "duration": 5,
    "start_time": "2023-01-12T20:16:18.233Z"
   },
   {
    "duration": 5,
    "start_time": "2023-01-12T20:16:18.240Z"
   },
   {
    "duration": 348,
    "start_time": "2023-01-12T20:16:25.138Z"
   },
   {
    "duration": 16,
    "start_time": "2023-01-12T20:17:42.118Z"
   },
   {
    "duration": 22,
    "start_time": "2023-01-12T20:18:52.998Z"
   },
   {
    "duration": 16,
    "start_time": "2023-01-12T20:18:58.633Z"
   },
   {
    "duration": 15,
    "start_time": "2023-01-12T20:21:48.563Z"
   },
   {
    "duration": 3,
    "start_time": "2023-01-12T20:28:53.391Z"
   },
   {
    "duration": 6,
    "start_time": "2023-01-12T20:28:53.396Z"
   },
   {
    "duration": 6,
    "start_time": "2023-01-12T20:28:53.404Z"
   },
   {
    "duration": 44,
    "start_time": "2023-01-12T20:28:53.412Z"
   },
   {
    "duration": 70,
    "start_time": "2023-01-12T20:28:53.458Z"
   },
   {
    "duration": 7,
    "start_time": "2023-01-12T20:28:53.530Z"
   },
   {
    "duration": 5,
    "start_time": "2023-01-12T20:28:53.539Z"
   },
   {
    "duration": 148,
    "start_time": "2023-01-12T20:28:53.545Z"
   },
   {
    "duration": 1427,
    "start_time": "2023-01-12T20:28:53.695Z"
   },
   {
    "duration": 819,
    "start_time": "2023-01-12T20:28:55.124Z"
   },
   {
    "duration": 6,
    "start_time": "2023-01-12T20:28:55.944Z"
   },
   {
    "duration": 6,
    "start_time": "2023-01-12T20:28:55.952Z"
   },
   {
    "duration": 21,
    "start_time": "2023-01-12T20:28:55.960Z"
   },
   {
    "duration": 133,
    "start_time": "2023-01-12T20:28:55.982Z"
   },
   {
    "duration": 3,
    "start_time": "2023-01-12T20:28:56.117Z"
   },
   {
    "duration": 12,
    "start_time": "2023-01-12T20:28:56.121Z"
   },
   {
    "duration": 4,
    "start_time": "2023-01-12T20:28:56.134Z"
   },
   {
    "duration": 5,
    "start_time": "2023-01-12T20:28:56.139Z"
   },
   {
    "duration": 12,
    "start_time": "2023-01-12T20:28:56.145Z"
   },
   {
    "duration": 879,
    "start_time": "2023-01-12T20:29:02.456Z"
   },
   {
    "duration": 9,
    "start_time": "2023-01-12T20:30:45.784Z"
   },
   {
    "duration": 21,
    "start_time": "2023-01-12T20:30:50.229Z"
   },
   {
    "duration": 4,
    "start_time": "2023-01-12T20:36:34.111Z"
   },
   {
    "duration": 20,
    "start_time": "2023-01-12T20:36:38.585Z"
   },
   {
    "duration": 10,
    "start_time": "2023-01-12T20:37:50.106Z"
   },
   {
    "duration": 19,
    "start_time": "2023-01-12T20:37:51.646Z"
   },
   {
    "duration": 13,
    "start_time": "2023-01-12T20:38:50.981Z"
   },
   {
    "duration": 18,
    "start_time": "2023-01-12T20:38:51.805Z"
   },
   {
    "duration": 17,
    "start_time": "2023-01-12T20:45:53.734Z"
   },
   {
    "duration": 16,
    "start_time": "2023-01-12T20:45:54.744Z"
   },
   {
    "duration": 22,
    "start_time": "2023-01-12T20:47:12.468Z"
   },
   {
    "duration": 19,
    "start_time": "2023-01-12T20:47:14.401Z"
   },
   {
    "duration": 36,
    "start_time": "2023-01-12T20:50:23.663Z"
   },
   {
    "duration": 33,
    "start_time": "2023-01-12T20:50:33.126Z"
   },
   {
    "duration": 26,
    "start_time": "2023-01-12T20:50:40.010Z"
   },
   {
    "duration": 16,
    "start_time": "2023-01-12T20:50:43.459Z"
   },
   {
    "duration": 4,
    "start_time": "2023-01-12T20:52:56.663Z"
   },
   {
    "duration": 6,
    "start_time": "2023-01-12T20:52:56.669Z"
   },
   {
    "duration": 15,
    "start_time": "2023-01-12T20:52:56.677Z"
   },
   {
    "duration": 49,
    "start_time": "2023-01-12T20:52:56.693Z"
   },
   {
    "duration": 63,
    "start_time": "2023-01-12T20:52:56.744Z"
   },
   {
    "duration": 6,
    "start_time": "2023-01-12T20:52:56.809Z"
   },
   {
    "duration": 7,
    "start_time": "2023-01-12T20:52:56.817Z"
   },
   {
    "duration": 138,
    "start_time": "2023-01-12T20:52:56.825Z"
   },
   {
    "duration": 1345,
    "start_time": "2023-01-12T20:52:56.965Z"
   },
   {
    "duration": 865,
    "start_time": "2023-01-12T20:52:58.313Z"
   },
   {
    "duration": 6,
    "start_time": "2023-01-12T20:52:59.180Z"
   },
   {
    "duration": 19,
    "start_time": "2023-01-12T20:52:59.188Z"
   },
   {
    "duration": 8,
    "start_time": "2023-01-12T20:52:59.209Z"
   },
   {
    "duration": 149,
    "start_time": "2023-01-12T20:52:59.218Z"
   },
   {
    "duration": 9,
    "start_time": "2023-01-12T20:52:59.368Z"
   },
   {
    "duration": 13,
    "start_time": "2023-01-12T20:52:59.378Z"
   },
   {
    "duration": 4,
    "start_time": "2023-01-12T20:52:59.392Z"
   },
   {
    "duration": 6,
    "start_time": "2023-01-12T20:52:59.398Z"
   },
   {
    "duration": 11,
    "start_time": "2023-01-12T20:52:59.405Z"
   },
   {
    "duration": 25,
    "start_time": "2023-01-12T20:52:59.417Z"
   },
   {
    "duration": 42,
    "start_time": "2023-01-12T20:52:59.443Z"
   },
   {
    "duration": 10,
    "start_time": "2023-01-12T20:52:59.487Z"
   },
   {
    "duration": 6,
    "start_time": "2023-01-12T20:52:59.499Z"
   },
   {
    "duration": 19,
    "start_time": "2023-01-12T20:52:59.507Z"
   },
   {
    "duration": 2239,
    "start_time": "2023-01-12T20:52:59.529Z"
   },
   {
    "duration": 8,
    "start_time": "2023-01-12T20:53:01.770Z"
   },
   {
    "duration": 26,
    "start_time": "2023-01-12T20:53:01.780Z"
   },
   {
    "duration": 13,
    "start_time": "2023-01-12T20:53:01.808Z"
   },
   {
    "duration": 16,
    "start_time": "2023-01-12T20:53:01.823Z"
   },
   {
    "duration": 35,
    "start_time": "2023-01-12T20:53:01.841Z"
   },
   {
    "duration": 114,
    "start_time": "2023-01-12T20:53:01.878Z"
   },
   {
    "duration": 6,
    "start_time": "2023-01-12T20:53:01.993Z"
   },
   {
    "duration": 2662,
    "start_time": "2023-01-12T20:53:06.480Z"
   },
   {
    "duration": 24835,
    "start_time": "2023-01-12T20:53:16.012Z"
   },
   {
    "duration": 15,
    "start_time": "2023-01-12T20:54:31.437Z"
   },
   {
    "duration": 4,
    "start_time": "2023-01-12T20:59:34.046Z"
   },
   {
    "duration": 6,
    "start_time": "2023-01-12T20:59:34.056Z"
   },
   {
    "duration": 5,
    "start_time": "2023-01-12T20:59:34.064Z"
   },
   {
    "duration": 42,
    "start_time": "2023-01-12T20:59:34.070Z"
   },
   {
    "duration": 65,
    "start_time": "2023-01-12T20:59:34.113Z"
   },
   {
    "duration": 7,
    "start_time": "2023-01-12T20:59:34.180Z"
   },
   {
    "duration": 5,
    "start_time": "2023-01-12T20:59:34.189Z"
   },
   {
    "duration": 130,
    "start_time": "2023-01-12T20:59:34.195Z"
   },
   {
    "duration": 1505,
    "start_time": "2023-01-12T20:59:34.327Z"
   },
   {
    "duration": 732,
    "start_time": "2023-01-12T20:59:35.834Z"
   },
   {
    "duration": 14,
    "start_time": "2023-01-12T20:59:36.568Z"
   },
   {
    "duration": 6,
    "start_time": "2023-01-12T20:59:36.584Z"
   },
   {
    "duration": 7,
    "start_time": "2023-01-12T20:59:36.592Z"
   },
   {
    "duration": 259,
    "start_time": "2023-01-12T20:59:36.602Z"
   },
   {
    "duration": 4,
    "start_time": "2023-01-12T20:59:36.863Z"
   },
   {
    "duration": 18,
    "start_time": "2023-01-12T20:59:36.876Z"
   },
   {
    "duration": 7,
    "start_time": "2023-01-12T20:59:36.895Z"
   },
   {
    "duration": 4,
    "start_time": "2023-01-12T20:59:36.903Z"
   },
   {
    "duration": 12,
    "start_time": "2023-01-12T20:59:36.909Z"
   },
   {
    "duration": 54,
    "start_time": "2023-01-12T20:59:36.922Z"
   },
   {
    "duration": 18,
    "start_time": "2023-01-12T20:59:36.978Z"
   },
   {
    "duration": 11,
    "start_time": "2023-01-12T20:59:36.997Z"
   },
   {
    "duration": 7,
    "start_time": "2023-01-12T20:59:37.010Z"
   },
   {
    "duration": 16,
    "start_time": "2023-01-12T20:59:37.018Z"
   },
   {
    "duration": 2146,
    "start_time": "2023-01-12T20:59:37.037Z"
   },
   {
    "duration": 8,
    "start_time": "2023-01-12T20:59:39.185Z"
   },
   {
    "duration": 8,
    "start_time": "2023-01-12T20:59:39.195Z"
   },
   {
    "duration": 5,
    "start_time": "2023-01-12T20:59:39.205Z"
   },
   {
    "duration": 3,
    "start_time": "2023-01-12T20:59:39.212Z"
   },
   {
    "duration": 23,
    "start_time": "2023-01-12T20:59:45.671Z"
   },
   {
    "duration": 17,
    "start_time": "2023-01-12T20:59:46.912Z"
   },
   {
    "duration": 4,
    "start_time": "2023-01-12T21:02:18.669Z"
   },
   {
    "duration": 7,
    "start_time": "2023-01-12T21:02:18.674Z"
   },
   {
    "duration": 8,
    "start_time": "2023-01-12T21:02:18.683Z"
   },
   {
    "duration": 44,
    "start_time": "2023-01-12T21:02:18.692Z"
   },
   {
    "duration": 69,
    "start_time": "2023-01-12T21:02:18.737Z"
   },
   {
    "duration": 7,
    "start_time": "2023-01-12T21:02:18.808Z"
   },
   {
    "duration": 7,
    "start_time": "2023-01-12T21:02:18.816Z"
   },
   {
    "duration": 138,
    "start_time": "2023-01-12T21:02:18.824Z"
   },
   {
    "duration": 1322,
    "start_time": "2023-01-12T21:02:18.964Z"
   },
   {
    "duration": 816,
    "start_time": "2023-01-12T21:02:20.289Z"
   },
   {
    "duration": 7,
    "start_time": "2023-01-12T21:02:21.107Z"
   },
   {
    "duration": 15,
    "start_time": "2023-01-12T21:02:21.116Z"
   },
   {
    "duration": 22,
    "start_time": "2023-01-12T21:02:21.133Z"
   },
   {
    "duration": 131,
    "start_time": "2023-01-12T21:02:21.157Z"
   },
   {
    "duration": 4,
    "start_time": "2023-01-12T21:02:21.290Z"
   },
   {
    "duration": 18,
    "start_time": "2023-01-12T21:02:21.296Z"
   },
   {
    "duration": 7,
    "start_time": "2023-01-12T21:02:21.316Z"
   },
   {
    "duration": 15,
    "start_time": "2023-01-12T21:02:21.325Z"
   },
   {
    "duration": 11,
    "start_time": "2023-01-12T21:02:21.342Z"
   },
   {
    "duration": 24,
    "start_time": "2023-01-12T21:02:21.355Z"
   },
   {
    "duration": 16,
    "start_time": "2023-01-12T21:02:21.380Z"
   },
   {
    "duration": 15,
    "start_time": "2023-01-12T21:02:21.397Z"
   },
   {
    "duration": 13,
    "start_time": "2023-01-12T21:02:21.413Z"
   },
   {
    "duration": 16,
    "start_time": "2023-01-12T21:02:21.428Z"
   },
   {
    "duration": 2155,
    "start_time": "2023-01-12T21:02:21.447Z"
   },
   {
    "duration": 6,
    "start_time": "2023-01-12T21:02:23.604Z"
   },
   {
    "duration": 35,
    "start_time": "2023-01-12T21:02:23.612Z"
   },
   {
    "duration": 29,
    "start_time": "2023-01-12T21:02:23.649Z"
   },
   {
    "duration": 15,
    "start_time": "2023-01-12T21:02:23.679Z"
   },
   {
    "duration": 50,
    "start_time": "2023-01-12T21:02:23.695Z"
   },
   {
    "duration": 17,
    "start_time": "2023-01-12T21:02:23.747Z"
   },
   {
    "duration": 117,
    "start_time": "2023-01-12T21:02:23.766Z"
   },
   {
    "duration": 4,
    "start_time": "2023-01-12T21:02:23.884Z"
   },
   {
    "duration": 870,
    "start_time": "2023-01-12T21:02:23.889Z"
   },
   {
    "duration": 625,
    "start_time": "2023-01-12T21:02:24.761Z"
   },
   {
    "duration": 2846,
    "start_time": "2023-01-12T21:02:25.387Z"
   },
   {
    "duration": 658,
    "start_time": "2023-01-12T21:02:28.234Z"
   },
   {
    "duration": 11,
    "start_time": "2023-01-12T21:02:36.204Z"
   },
   {
    "duration": 15,
    "start_time": "2023-01-12T21:02:37.490Z"
   },
   {
    "duration": 15,
    "start_time": "2023-01-12T21:02:48.166Z"
   },
   {
    "duration": 18,
    "start_time": "2023-01-12T21:02:57.692Z"
   },
   {
    "duration": 327,
    "start_time": "2023-01-12T21:05:30.237Z"
   },
   {
    "duration": 827,
    "start_time": "2023-01-12T21:05:40.589Z"
   },
   {
    "duration": 941,
    "start_time": "2023-01-12T21:06:05.314Z"
   },
   {
    "duration": 22,
    "start_time": "2023-01-12T21:07:47.766Z"
   },
   {
    "duration": 18,
    "start_time": "2023-01-12T21:07:50.056Z"
   },
   {
    "duration": 346,
    "start_time": "2023-01-12T21:08:07.142Z"
   },
   {
    "duration": 915,
    "start_time": "2023-01-12T21:08:11.695Z"
   },
   {
    "duration": 1436,
    "start_time": "2023-01-13T12:56:02.643Z"
   },
   {
    "duration": 3,
    "start_time": "2023-01-13T12:56:04.081Z"
   },
   {
    "duration": 22,
    "start_time": "2023-01-13T12:56:04.085Z"
   },
   {
    "duration": 92,
    "start_time": "2023-01-13T12:56:04.109Z"
   },
   {
    "duration": 74,
    "start_time": "2023-01-13T12:56:04.203Z"
   },
   {
    "duration": 7,
    "start_time": "2023-01-13T12:56:04.279Z"
   },
   {
    "duration": 8,
    "start_time": "2023-01-13T12:56:04.287Z"
   },
   {
    "duration": 178,
    "start_time": "2023-01-13T12:56:04.297Z"
   },
   {
    "duration": 1466,
    "start_time": "2023-01-13T12:56:04.477Z"
   },
   {
    "duration": 787,
    "start_time": "2023-01-13T12:56:05.946Z"
   },
   {
    "duration": 7,
    "start_time": "2023-01-13T12:56:06.734Z"
   },
   {
    "duration": 8,
    "start_time": "2023-01-13T12:56:06.743Z"
   },
   {
    "duration": 10,
    "start_time": "2023-01-13T12:56:06.753Z"
   },
   {
    "duration": 157,
    "start_time": "2023-01-13T12:56:06.778Z"
   },
   {
    "duration": 4,
    "start_time": "2023-01-13T12:56:06.937Z"
   },
   {
    "duration": 12,
    "start_time": "2023-01-13T12:56:06.942Z"
   },
   {
    "duration": 4,
    "start_time": "2023-01-13T12:56:06.956Z"
   },
   {
    "duration": 17,
    "start_time": "2023-01-13T12:56:06.961Z"
   },
   {
    "duration": 13,
    "start_time": "2023-01-13T12:56:06.980Z"
   },
   {
    "duration": 26,
    "start_time": "2023-01-13T12:56:06.995Z"
   },
   {
    "duration": 16,
    "start_time": "2023-01-13T12:56:07.022Z"
   },
   {
    "duration": 38,
    "start_time": "2023-01-13T12:56:07.040Z"
   },
   {
    "duration": 7,
    "start_time": "2023-01-13T12:56:07.079Z"
   },
   {
    "duration": 19,
    "start_time": "2023-01-13T12:56:07.087Z"
   },
   {
    "duration": 6256,
    "start_time": "2023-01-13T12:56:07.108Z"
   },
   {
    "duration": 6,
    "start_time": "2023-01-13T12:56:13.367Z"
   },
   {
    "duration": 23,
    "start_time": "2023-01-13T12:56:13.375Z"
   },
   {
    "duration": 28,
    "start_time": "2023-01-13T12:56:13.402Z"
   },
   {
    "duration": 15,
    "start_time": "2023-01-13T12:56:13.432Z"
   },
   {
    "duration": 47,
    "start_time": "2023-01-13T12:56:13.449Z"
   },
   {
    "duration": 22,
    "start_time": "2023-01-13T12:56:13.498Z"
   },
   {
    "duration": 127,
    "start_time": "2023-01-13T12:56:13.522Z"
   },
   {
    "duration": 5,
    "start_time": "2023-01-13T12:56:13.652Z"
   },
   {
    "duration": 4271,
    "start_time": "2023-01-13T12:56:13.658Z"
   },
   {
    "duration": 551,
    "start_time": "2023-01-13T12:56:17.931Z"
   },
   {
    "duration": 3394,
    "start_time": "2023-01-13T12:56:18.484Z"
   },
   {
    "duration": 604,
    "start_time": "2023-01-13T12:56:21.880Z"
   },
   {
    "duration": 11,
    "start_time": "2023-01-13T12:56:22.485Z"
   },
   {
    "duration": 21,
    "start_time": "2023-01-13T12:56:22.498Z"
   },
   {
    "duration": 17,
    "start_time": "2023-01-13T12:56:22.521Z"
   },
   {
    "duration": 39,
    "start_time": "2023-01-13T12:56:22.540Z"
   },
   {
    "duration": 316,
    "start_time": "2023-01-13T12:56:22.581Z"
   },
   {
    "duration": 927,
    "start_time": "2023-01-13T12:56:22.899Z"
   },
   {
    "duration": 7320,
    "start_time": "2023-01-13T12:56:23.828Z"
   },
   {
    "duration": 10,
    "start_time": "2023-01-13T12:56:31.151Z"
   },
   {
    "duration": 16,
    "start_time": "2023-01-13T12:56:31.163Z"
   },
   {
    "duration": 12,
    "start_time": "2023-01-13T12:56:31.181Z"
   },
   {
    "duration": 1051,
    "start_time": "2023-01-13T12:56:31.195Z"
   },
   {
    "duration": 7,
    "start_time": "2023-01-13T12:56:32.248Z"
   },
   {
    "duration": 21,
    "start_time": "2023-01-13T12:56:32.257Z"
   },
   {
    "duration": 2692,
    "start_time": "2023-01-13T13:07:03.453Z"
   },
   {
    "duration": 536,
    "start_time": "2023-01-13T13:07:06.148Z"
   },
   {
    "duration": 3,
    "start_time": "2023-01-13T13:07:06.686Z"
   },
   {
    "duration": 10,
    "start_time": "2023-01-13T13:07:06.692Z"
   },
   {
    "duration": 47,
    "start_time": "2023-01-13T13:07:06.704Z"
   },
   {
    "duration": 78,
    "start_time": "2023-01-13T13:07:06.753Z"
   },
   {
    "duration": 8,
    "start_time": "2023-01-13T13:07:06.833Z"
   },
   {
    "duration": 6,
    "start_time": "2023-01-13T13:07:06.843Z"
   },
   {
    "duration": 179,
    "start_time": "2023-01-13T13:07:06.850Z"
   },
   {
    "duration": 1623,
    "start_time": "2023-01-13T13:07:07.032Z"
   },
   {
    "duration": 856,
    "start_time": "2023-01-13T13:07:08.656Z"
   },
   {
    "duration": 8,
    "start_time": "2023-01-13T13:07:09.513Z"
   },
   {
    "duration": 8,
    "start_time": "2023-01-13T13:07:09.523Z"
   },
   {
    "duration": 10,
    "start_time": "2023-01-13T13:07:09.533Z"
   },
   {
    "duration": 180,
    "start_time": "2023-01-13T13:07:09.545Z"
   },
   {
    "duration": 4,
    "start_time": "2023-01-13T13:07:09.727Z"
   },
   {
    "duration": 13,
    "start_time": "2023-01-13T13:07:09.732Z"
   },
   {
    "duration": 5,
    "start_time": "2023-01-13T13:07:09.746Z"
   },
   {
    "duration": 4,
    "start_time": "2023-01-13T13:07:09.752Z"
   },
   {
    "duration": 28,
    "start_time": "2023-01-13T13:07:09.758Z"
   },
   {
    "duration": 26,
    "start_time": "2023-01-13T13:07:09.788Z"
   },
   {
    "duration": 17,
    "start_time": "2023-01-13T13:07:09.816Z"
   },
   {
    "duration": 20,
    "start_time": "2023-01-13T13:07:09.835Z"
   },
   {
    "duration": 27,
    "start_time": "2023-01-13T13:07:09.857Z"
   },
   {
    "duration": 29,
    "start_time": "2023-01-13T13:07:09.886Z"
   },
   {
    "duration": 12,
    "start_time": "2023-01-13T13:07:09.916Z"
   },
   {
    "duration": 11,
    "start_time": "2023-01-13T13:07:09.930Z"
   },
   {
    "duration": 3,
    "start_time": "2023-01-13T13:07:09.945Z"
   },
   {
    "duration": 6,
    "start_time": "2023-01-13T13:07:09.950Z"
   },
   {
    "duration": 31,
    "start_time": "2023-01-13T13:07:09.957Z"
   },
   {
    "duration": 24,
    "start_time": "2023-01-13T13:07:09.989Z"
   },
   {
    "duration": 18,
    "start_time": "2023-01-13T13:07:10.014Z"
   },
   {
    "duration": 45,
    "start_time": "2023-01-13T13:07:10.033Z"
   },
   {
    "duration": 17,
    "start_time": "2023-01-13T13:07:10.080Z"
   },
   {
    "duration": 130,
    "start_time": "2023-01-13T13:07:10.099Z"
   },
   {
    "duration": 5,
    "start_time": "2023-01-13T13:07:10.231Z"
   },
   {
    "duration": 2855,
    "start_time": "2023-01-13T13:07:10.238Z"
   },
   {
    "duration": 585,
    "start_time": "2023-01-13T13:07:13.095Z"
   },
   {
    "duration": 3513,
    "start_time": "2023-01-13T13:07:13.682Z"
   },
   {
    "duration": 594,
    "start_time": "2023-01-13T13:07:17.197Z"
   },
   {
    "duration": 12,
    "start_time": "2023-01-13T13:07:17.792Z"
   },
   {
    "duration": 21,
    "start_time": "2023-01-13T13:07:17.806Z"
   },
   {
    "duration": 22,
    "start_time": "2023-01-13T13:07:17.829Z"
   },
   {
    "duration": 7,
    "start_time": "2023-01-13T13:07:17.877Z"
   },
   {
    "duration": 318,
    "start_time": "2023-01-13T13:07:17.886Z"
   },
   {
    "duration": 973,
    "start_time": "2023-01-13T13:07:18.206Z"
   },
   {
    "duration": 7052,
    "start_time": "2023-01-13T13:07:19.180Z"
   },
   {
    "duration": 5,
    "start_time": "2023-01-13T13:07:26.234Z"
   },
   {
    "duration": 20,
    "start_time": "2023-01-13T13:07:26.241Z"
   },
   {
    "duration": 9,
    "start_time": "2023-01-13T13:07:26.262Z"
   },
   {
    "duration": 1000,
    "start_time": "2023-01-13T13:07:26.272Z"
   },
   {
    "duration": 8,
    "start_time": "2023-01-13T13:07:27.274Z"
   },
   {
    "duration": 21,
    "start_time": "2023-01-13T13:07:27.283Z"
   },
   {
    "duration": 13566,
    "start_time": "2023-01-18T21:07:40.731Z"
   },
   {
    "duration": 1205,
    "start_time": "2023-01-18T21:23:03.763Z"
   },
   {
    "duration": 3662,
    "start_time": "2023-01-18T21:23:19.214Z"
   },
   {
    "duration": 586,
    "start_time": "2023-01-18T21:24:39.496Z"
   },
   {
    "duration": 30649,
    "start_time": "2023-01-18T21:35:13.483Z"
   },
   {
    "duration": 1456,
    "start_time": "2023-01-18T21:42:39.913Z"
   },
   {
    "duration": 24967,
    "start_time": "2023-01-18T21:42:46.734Z"
   },
   {
    "duration": 7268,
    "start_time": "2023-01-19T21:10:41.083Z"
   },
   {
    "duration": 633,
    "start_time": "2023-01-19T21:10:48.353Z"
   },
   {
    "duration": 3,
    "start_time": "2023-01-19T21:10:48.987Z"
   },
   {
    "duration": 11,
    "start_time": "2023-01-19T21:10:48.993Z"
   },
   {
    "duration": 176,
    "start_time": "2023-01-19T21:10:49.006Z"
   },
   {
    "duration": 74,
    "start_time": "2023-01-19T21:10:49.184Z"
   },
   {
    "duration": 7,
    "start_time": "2023-01-19T21:10:49.260Z"
   },
   {
    "duration": 21,
    "start_time": "2023-01-19T21:10:49.269Z"
   },
   {
    "duration": 163,
    "start_time": "2023-01-19T21:10:49.292Z"
   },
   {
    "duration": 1422,
    "start_time": "2023-01-19T21:10:49.458Z"
   },
   {
    "duration": 770,
    "start_time": "2023-01-19T21:10:50.881Z"
   },
   {
    "duration": 7,
    "start_time": "2023-01-19T21:10:51.652Z"
   },
   {
    "duration": 16,
    "start_time": "2023-01-19T21:10:51.660Z"
   },
   {
    "duration": 17,
    "start_time": "2023-01-19T21:10:51.678Z"
   },
   {
    "duration": 144,
    "start_time": "2023-01-19T21:10:51.696Z"
   },
   {
    "duration": 4,
    "start_time": "2023-01-19T21:10:51.842Z"
   },
   {
    "duration": 17,
    "start_time": "2023-01-19T21:10:51.849Z"
   },
   {
    "duration": 10,
    "start_time": "2023-01-19T21:10:51.867Z"
   },
   {
    "duration": 4,
    "start_time": "2023-01-19T21:11:48.936Z"
   },
   {
    "duration": 290,
    "start_time": "2023-01-19T21:13:31.114Z"
   },
   {
    "duration": 125,
    "start_time": "2023-01-19T21:14:03.310Z"
   },
   {
    "duration": 2037,
    "start_time": "2023-01-19T21:14:17.651Z"
   },
   {
    "duration": 7,
    "start_time": "2023-01-19T21:14:19.690Z"
   },
   {
    "duration": 8,
    "start_time": "2023-01-19T21:14:19.698Z"
   },
   {
    "duration": 12,
    "start_time": "2023-01-19T21:14:19.707Z"
   },
   {
    "duration": 47,
    "start_time": "2023-01-19T21:14:19.720Z"
   },
   {
    "duration": 66,
    "start_time": "2023-01-19T21:14:19.769Z"
   },
   {
    "duration": 14,
    "start_time": "2023-01-19T21:14:19.837Z"
   },
   {
    "duration": 5,
    "start_time": "2023-01-19T21:14:19.853Z"
   },
   {
    "duration": 133,
    "start_time": "2023-01-19T21:14:19.860Z"
   },
   {
    "duration": 1444,
    "start_time": "2023-01-19T21:14:19.996Z"
   },
   {
    "duration": 851,
    "start_time": "2023-01-19T21:14:21.442Z"
   },
   {
    "duration": 7,
    "start_time": "2023-01-19T21:14:22.295Z"
   },
   {
    "duration": 7,
    "start_time": "2023-01-19T21:14:22.303Z"
   },
   {
    "duration": 8,
    "start_time": "2023-01-19T21:14:22.311Z"
   },
   {
    "duration": 156,
    "start_time": "2023-01-19T21:14:22.321Z"
   },
   {
    "duration": 4,
    "start_time": "2023-01-19T21:14:22.479Z"
   },
   {
    "duration": 17,
    "start_time": "2023-01-19T21:14:22.484Z"
   },
   {
    "duration": 4,
    "start_time": "2023-01-19T21:14:22.503Z"
   },
   {
    "duration": 4,
    "start_time": "2023-01-19T21:14:22.509Z"
   },
   {
    "duration": 19,
    "start_time": "2023-01-19T21:14:45.683Z"
   },
   {
    "duration": 686,
    "start_time": "2023-01-19T21:15:43.079Z"
   },
   {
    "duration": 2059,
    "start_time": "2023-01-19T21:19:29.293Z"
   },
   {
    "duration": 4,
    "start_time": "2023-01-19T21:19:31.355Z"
   },
   {
    "duration": 12,
    "start_time": "2023-01-19T21:19:31.360Z"
   },
   {
    "duration": 15,
    "start_time": "2023-01-19T21:19:31.374Z"
   },
   {
    "duration": 54,
    "start_time": "2023-01-19T21:19:31.390Z"
   },
   {
    "duration": 65,
    "start_time": "2023-01-19T21:19:31.446Z"
   },
   {
    "duration": 7,
    "start_time": "2023-01-19T21:19:31.512Z"
   },
   {
    "duration": 4,
    "start_time": "2023-01-19T21:19:31.521Z"
   },
   {
    "duration": 167,
    "start_time": "2023-01-19T21:19:31.527Z"
   },
   {
    "duration": 1319,
    "start_time": "2023-01-19T21:19:31.696Z"
   },
   {
    "duration": 880,
    "start_time": "2023-01-19T21:19:33.017Z"
   },
   {
    "duration": 7,
    "start_time": "2023-01-19T21:19:33.898Z"
   },
   {
    "duration": 37,
    "start_time": "2023-01-19T21:19:33.906Z"
   },
   {
    "duration": 9,
    "start_time": "2023-01-19T21:19:33.944Z"
   },
   {
    "duration": 139,
    "start_time": "2023-01-19T21:19:33.955Z"
   },
   {
    "duration": 4,
    "start_time": "2023-01-19T21:19:34.095Z"
   },
   {
    "duration": 16,
    "start_time": "2023-01-19T21:19:34.101Z"
   },
   {
    "duration": 7,
    "start_time": "2023-01-19T21:19:34.118Z"
   },
   {
    "duration": 9,
    "start_time": "2023-01-19T21:19:34.126Z"
   },
   {
    "duration": 3,
    "start_time": "2023-01-19T21:19:39.522Z"
   },
   {
    "duration": 692,
    "start_time": "2023-01-19T21:19:57.412Z"
   },
   {
    "duration": 37,
    "start_time": "2023-01-19T21:20:08.747Z"
   },
   {
    "duration": 5,
    "start_time": "2023-01-19T21:24:56.994Z"
   },
   {
    "duration": 32,
    "start_time": "2023-01-19T21:25:21.323Z"
   },
   {
    "duration": 8696,
    "start_time": "2023-01-19T21:35:00.648Z"
   },
   {
    "duration": 817,
    "start_time": "2023-01-19T21:35:09.352Z"
   },
   {
    "duration": 3,
    "start_time": "2023-01-19T21:35:10.171Z"
   },
   {
    "duration": 9,
    "start_time": "2023-01-19T21:35:10.177Z"
   },
   {
    "duration": 222,
    "start_time": "2023-01-19T21:35:10.187Z"
   },
   {
    "duration": 112,
    "start_time": "2023-01-19T21:35:10.411Z"
   },
   {
    "duration": 9,
    "start_time": "2023-01-19T21:35:10.525Z"
   },
   {
    "duration": 14,
    "start_time": "2023-01-19T21:35:10.536Z"
   },
   {
    "duration": 174,
    "start_time": "2023-01-19T21:35:10.553Z"
   },
   {
    "duration": 1716,
    "start_time": "2023-01-19T21:35:10.730Z"
   },
   {
    "duration": 895,
    "start_time": "2023-01-19T21:35:12.451Z"
   },
   {
    "duration": 9,
    "start_time": "2023-01-19T21:35:13.359Z"
   },
   {
    "duration": 12,
    "start_time": "2023-01-19T21:35:13.370Z"
   },
   {
    "duration": 18,
    "start_time": "2023-01-19T21:35:13.383Z"
   },
   {
    "duration": 168,
    "start_time": "2023-01-19T21:35:13.403Z"
   },
   {
    "duration": 5,
    "start_time": "2023-01-19T21:35:13.572Z"
   },
   {
    "duration": 11,
    "start_time": "2023-01-19T21:35:13.578Z"
   },
   {
    "duration": 4,
    "start_time": "2023-01-19T21:35:13.591Z"
   },
   {
    "duration": 61,
    "start_time": "2023-01-19T21:35:40.264Z"
   },
   {
    "duration": 5,
    "start_time": "2023-01-19T21:40:44.875Z"
   },
   {
    "duration": 4,
    "start_time": "2023-01-19T21:47:34.601Z"
   },
   {
    "duration": 3,
    "start_time": "2023-01-19T21:47:56.215Z"
   },
   {
    "duration": 4,
    "start_time": "2023-01-19T21:48:16.967Z"
   },
   {
    "duration": 7,
    "start_time": "2023-01-19T21:48:48.513Z"
   },
   {
    "duration": 4,
    "start_time": "2023-01-19T21:49:20.603Z"
   },
   {
    "duration": 135,
    "start_time": "2023-01-19T21:49:29.428Z"
   },
   {
    "duration": 13,
    "start_time": "2023-01-19T21:49:42.970Z"
   },
   {
    "duration": 5,
    "start_time": "2023-01-19T21:50:17.101Z"
   },
   {
    "duration": 7,
    "start_time": "2023-01-19T21:54:28.616Z"
   },
   {
    "duration": 4,
    "start_time": "2023-01-19T21:54:45.308Z"
   },
   {
    "duration": 20,
    "start_time": "2023-01-19T21:56:53.862Z"
   },
   {
    "duration": 3807,
    "start_time": "2023-01-19T21:57:22.047Z"
   },
   {
    "duration": 17,
    "start_time": "2023-01-19T21:57:37.375Z"
   },
   {
    "duration": 13,
    "start_time": "2023-01-19T21:58:07.060Z"
   },
   {
    "duration": 2230,
    "start_time": "2023-01-19T21:58:12.394Z"
   },
   {
    "duration": 16,
    "start_time": "2023-01-19T21:58:18.094Z"
   },
   {
    "duration": 8,
    "start_time": "2023-02-28T23:27:58.077Z"
   },
   {
    "duration": 6,
    "start_time": "2023-02-28T23:27:58.086Z"
   },
   {
    "duration": 8,
    "start_time": "2023-02-28T23:27:58.093Z"
   },
   {
    "duration": 11,
    "start_time": "2023-02-28T23:27:58.102Z"
   },
   {
    "duration": 3372,
    "start_time": "2023-02-28T23:27:58.115Z"
   },
   {
    "duration": 44,
    "start_time": "2023-02-28T23:28:01.489Z"
   },
   {
    "duration": 0,
    "start_time": "2023-02-28T23:28:01.535Z"
   },
   {
    "duration": 0,
    "start_time": "2023-02-28T23:28:01.537Z"
   },
   {
    "duration": 0,
    "start_time": "2023-02-28T23:28:01.538Z"
   },
   {
    "duration": 0,
    "start_time": "2023-02-28T23:28:01.539Z"
   },
   {
    "duration": 0,
    "start_time": "2023-02-28T23:28:01.540Z"
   },
   {
    "duration": 0,
    "start_time": "2023-02-28T23:28:01.541Z"
   },
   {
    "duration": 0,
    "start_time": "2023-02-28T23:28:01.542Z"
   },
   {
    "duration": 0,
    "start_time": "2023-02-28T23:28:01.543Z"
   },
   {
    "duration": 0,
    "start_time": "2023-02-28T23:28:01.544Z"
   },
   {
    "duration": 0,
    "start_time": "2023-02-28T23:28:01.545Z"
   },
   {
    "duration": 1,
    "start_time": "2023-02-28T23:28:01.546Z"
   },
   {
    "duration": 0,
    "start_time": "2023-02-28T23:28:01.547Z"
   },
   {
    "duration": 0,
    "start_time": "2023-02-28T23:28:01.548Z"
   },
   {
    "duration": 0,
    "start_time": "2023-02-28T23:28:01.549Z"
   },
   {
    "duration": 0,
    "start_time": "2023-02-28T23:28:01.551Z"
   },
   {
    "duration": 0,
    "start_time": "2023-02-28T23:28:01.552Z"
   },
   {
    "duration": 1302,
    "start_time": "2023-02-28T23:29:26.113Z"
   },
   {
    "duration": 3,
    "start_time": "2023-02-28T23:29:27.416Z"
   },
   {
    "duration": 8,
    "start_time": "2023-02-28T23:29:27.420Z"
   },
   {
    "duration": 180,
    "start_time": "2023-02-28T23:29:27.430Z"
   },
   {
    "duration": 72,
    "start_time": "2023-02-28T23:29:27.612Z"
   },
   {
    "duration": 8,
    "start_time": "2023-02-28T23:29:27.691Z"
   },
   {
    "duration": 9,
    "start_time": "2023-02-28T23:29:27.701Z"
   },
   {
    "duration": 148,
    "start_time": "2023-02-28T23:29:27.711Z"
   },
   {
    "duration": 1406,
    "start_time": "2023-02-28T23:29:27.861Z"
   },
   {
    "duration": 770,
    "start_time": "2023-02-28T23:29:29.271Z"
   },
   {
    "duration": 8,
    "start_time": "2023-02-28T23:29:30.043Z"
   },
   {
    "duration": 20,
    "start_time": "2023-02-28T23:29:30.052Z"
   },
   {
    "duration": 29,
    "start_time": "2023-02-28T23:29:30.074Z"
   },
   {
    "duration": 163,
    "start_time": "2023-02-28T23:29:30.106Z"
   },
   {
    "duration": 5,
    "start_time": "2023-02-28T23:29:41.800Z"
   },
   {
    "duration": 4,
    "start_time": "2023-02-28T23:29:52.555Z"
   },
   {
    "duration": 5,
    "start_time": "2023-02-28T23:50:52.803Z"
   },
   {
    "duration": 4,
    "start_time": "2023-02-28T23:50:56.513Z"
   },
   {
    "duration": 4,
    "start_time": "2023-02-28T23:58:16.437Z"
   },
   {
    "duration": 4,
    "start_time": "2023-02-28T23:58:19.351Z"
   },
   {
    "duration": 5,
    "start_time": "2023-02-28T23:58:20.913Z"
   },
   {
    "duration": 5,
    "start_time": "2023-02-28T23:58:21.626Z"
   },
   {
    "duration": 4,
    "start_time": "2023-02-28T23:58:22.962Z"
   },
   {
    "duration": 4,
    "start_time": "2023-02-28T23:58:23.689Z"
   },
   {
    "duration": 4,
    "start_time": "2023-02-28T23:58:24.362Z"
   },
   {
    "duration": 4,
    "start_time": "2023-02-28T23:58:24.951Z"
   },
   {
    "duration": 4,
    "start_time": "2023-02-28T23:58:25.542Z"
   },
   {
    "duration": 4,
    "start_time": "2023-02-28T23:58:26.086Z"
   },
   {
    "duration": 4,
    "start_time": "2023-02-28T23:58:26.588Z"
   },
   {
    "duration": 4,
    "start_time": "2023-02-28T23:58:27.470Z"
   },
   {
    "duration": 4,
    "start_time": "2023-02-28T23:58:28.229Z"
   },
   {
    "duration": 4,
    "start_time": "2023-02-28T23:58:28.975Z"
   },
   {
    "duration": 4,
    "start_time": "2023-02-28T23:58:29.619Z"
   },
   {
    "duration": 4,
    "start_time": "2023-02-28T23:58:30.242Z"
   },
   {
    "duration": 4,
    "start_time": "2023-02-28T23:58:31.001Z"
   },
   {
    "duration": 5,
    "start_time": "2023-02-28T23:58:31.698Z"
   },
   {
    "duration": 4,
    "start_time": "2023-02-28T23:58:40.483Z"
   },
   {
    "duration": 4,
    "start_time": "2023-02-28T23:58:47.416Z"
   },
   {
    "duration": 4,
    "start_time": "2023-02-28T23:58:51.023Z"
   }
  ],
  "kernelspec": {
   "display_name": "Python 3 (ipykernel)",
   "language": "python",
   "name": "python3"
  },
  "language_info": {
   "codemirror_mode": {
    "name": "ipython",
    "version": 3
   },
   "file_extension": ".py",
   "mimetype": "text/x-python",
   "name": "python",
   "nbconvert_exporter": "python",
   "pygments_lexer": "ipython3",
   "version": "3.9.5"
  },
  "toc": {
   "base_numbering": 1,
   "nav_menu": {},
   "number_sections": true,
   "sideBar": true,
   "skip_h1_title": true,
   "title_cell": "Содержание",
   "title_sidebar": "Contents",
   "toc_cell": true,
   "toc_position": {
    "height": "calc(100% - 180px)",
    "left": "10px",
    "top": "150px",
    "width": "237.778px"
   },
   "toc_section_display": true,
   "toc_window_display": true
  }
 },
 "nbformat": 4,
 "nbformat_minor": 2
}
