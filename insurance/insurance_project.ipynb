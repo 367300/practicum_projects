{
 "cells": [
  {
   "cell_type": "markdown",
   "metadata": {
    "toc": true
   },
   "source": [
    "<h1>Содержание<span class=\"tocSkip\"></span></h1>\n",
    "<div class=\"toc\"><ul class=\"toc-item\"><li><span><a href=\"#Загрузка-данных\" data-toc-modified-id=\"Загрузка-данных-1\"><span class=\"toc-item-num\">1&nbsp;&nbsp;</span>Загрузка данных</a></span><ul class=\"toc-item\"><li><span><a href=\"#Вывод\" data-toc-modified-id=\"Вывод-1.1\"><span class=\"toc-item-num\">1.1&nbsp;&nbsp;</span>Вывод</a></span></li></ul></li><li><span><a href=\"#Умножение-матриц\" data-toc-modified-id=\"Умножение-матриц-2\"><span class=\"toc-item-num\">2&nbsp;&nbsp;</span>Умножение матриц</a></span></li><li><span><a href=\"#Алгоритм-преобразования\" data-toc-modified-id=\"Алгоритм-преобразования-3\"><span class=\"toc-item-num\">3&nbsp;&nbsp;</span>Алгоритм преобразования</a></span></li><li><span><a href=\"#Проверка-алгоритма\" data-toc-modified-id=\"Проверка-алгоритма-4\"><span class=\"toc-item-num\">4&nbsp;&nbsp;</span>Проверка алгоритма</a></span><ul class=\"toc-item\"><li><span><a href=\"#Вывод\" data-toc-modified-id=\"Вывод-4.1\"><span class=\"toc-item-num\">4.1&nbsp;&nbsp;</span>Вывод</a></span></li></ul></li><li><span><a href=\"#Чек-лист-проверки\" data-toc-modified-id=\"Чек-лист-проверки-5\"><span class=\"toc-item-num\">5&nbsp;&nbsp;</span>Чек-лист проверки</a></span></li></ul></div>"
   ]
  },
  {
   "cell_type": "markdown",
   "metadata": {},
   "source": [
    "# Защита персональных данных клиентов"
   ]
  },
  {
   "cell_type": "markdown",
   "metadata": {},
   "source": [
    "## Загрузка данных"
   ]
  },
  {
   "cell_type": "code",
   "execution_count": 1,
   "metadata": {},
   "outputs": [],
   "source": [
    "#!pip install phik"
   ]
  },
  {
   "cell_type": "code",
   "execution_count": 2,
   "metadata": {},
   "outputs": [],
   "source": [
    "import pandas as pd\n",
    "import numpy as np\n",
    "import matplotlib.pyplot as plt\n",
    "from sklearn.model_selection import train_test_split\n",
    "from sklearn.linear_model import LinearRegression\n",
    "from sklearn.metrics import r2_score\n",
    "from sklearn.metrics import mean_squared_error"
   ]
  },
  {
   "cell_type": "code",
   "execution_count": 3,
   "metadata": {},
   "outputs": [],
   "source": [
    "data = pd.read_csv('/datasets/insurance.csv')"
   ]
  },
  {
   "cell_type": "code",
   "execution_count": 4,
   "metadata": {
    "scrolled": true
   },
   "outputs": [
    {
     "data": {
      "text/html": [
       "<div>\n",
       "<style scoped>\n",
       "    .dataframe tbody tr th:only-of-type {\n",
       "        vertical-align: middle;\n",
       "    }\n",
       "\n",
       "    .dataframe tbody tr th {\n",
       "        vertical-align: top;\n",
       "    }\n",
       "\n",
       "    .dataframe thead th {\n",
       "        text-align: right;\n",
       "    }\n",
       "</style>\n",
       "<table border=\"1\" class=\"dataframe\">\n",
       "  <thead>\n",
       "    <tr style=\"text-align: right;\">\n",
       "      <th></th>\n",
       "      <th>Пол</th>\n",
       "      <th>Возраст</th>\n",
       "      <th>Зарплата</th>\n",
       "      <th>Члены семьи</th>\n",
       "      <th>Страховые выплаты</th>\n",
       "    </tr>\n",
       "  </thead>\n",
       "  <tbody>\n",
       "    <tr>\n",
       "      <th>4712</th>\n",
       "      <td>1</td>\n",
       "      <td>25.0</td>\n",
       "      <td>42000.0</td>\n",
       "      <td>0</td>\n",
       "      <td>0</td>\n",
       "    </tr>\n",
       "    <tr>\n",
       "      <th>3633</th>\n",
       "      <td>1</td>\n",
       "      <td>30.0</td>\n",
       "      <td>52300.0</td>\n",
       "      <td>0</td>\n",
       "      <td>0</td>\n",
       "    </tr>\n",
       "    <tr>\n",
       "      <th>1527</th>\n",
       "      <td>1</td>\n",
       "      <td>36.0</td>\n",
       "      <td>43200.0</td>\n",
       "      <td>0</td>\n",
       "      <td>0</td>\n",
       "    </tr>\n",
       "    <tr>\n",
       "      <th>726</th>\n",
       "      <td>1</td>\n",
       "      <td>20.0</td>\n",
       "      <td>5300.0</td>\n",
       "      <td>1</td>\n",
       "      <td>0</td>\n",
       "    </tr>\n",
       "    <tr>\n",
       "      <th>2752</th>\n",
       "      <td>1</td>\n",
       "      <td>27.0</td>\n",
       "      <td>21100.0</td>\n",
       "      <td>1</td>\n",
       "      <td>0</td>\n",
       "    </tr>\n",
       "  </tbody>\n",
       "</table>\n",
       "</div>"
      ],
      "text/plain": [
       "      Пол  Возраст  Зарплата  Члены семьи  Страховые выплаты\n",
       "4712    1     25.0   42000.0            0                  0\n",
       "3633    1     30.0   52300.0            0                  0\n",
       "1527    1     36.0   43200.0            0                  0\n",
       "726     1     20.0    5300.0            1                  0\n",
       "2752    1     27.0   21100.0            1                  0"
      ]
     },
     "execution_count": 4,
     "metadata": {},
     "output_type": "execute_result"
    }
   ],
   "source": [
    "data.sample(5)"
   ]
  },
  {
   "cell_type": "code",
   "execution_count": 5,
   "metadata": {},
   "outputs": [
    {
     "data": {
      "text/plain": [
       "(5000, 5)"
      ]
     },
     "execution_count": 5,
     "metadata": {},
     "output_type": "execute_result"
    }
   ],
   "source": [
    "data.shape"
   ]
  },
  {
   "cell_type": "code",
   "execution_count": 6,
   "metadata": {},
   "outputs": [
    {
     "name": "stdout",
     "output_type": "stream",
     "text": [
      "<class 'pandas.core.frame.DataFrame'>\n",
      "RangeIndex: 5000 entries, 0 to 4999\n",
      "Data columns (total 5 columns):\n",
      " #   Column             Non-Null Count  Dtype  \n",
      "---  ------             --------------  -----  \n",
      " 0   Пол                5000 non-null   int64  \n",
      " 1   Возраст            5000 non-null   float64\n",
      " 2   Зарплата           5000 non-null   float64\n",
      " 3   Члены семьи        5000 non-null   int64  \n",
      " 4   Страховые выплаты  5000 non-null   int64  \n",
      "dtypes: float64(2), int64(3)\n",
      "memory usage: 195.4 KB\n"
     ]
    }
   ],
   "source": [
    "data.info()"
   ]
  },
  {
   "cell_type": "code",
   "execution_count": 7,
   "metadata": {},
   "outputs": [
    {
     "data": {
      "text/html": [
       "<div>\n",
       "<style scoped>\n",
       "    .dataframe tbody tr th:only-of-type {\n",
       "        vertical-align: middle;\n",
       "    }\n",
       "\n",
       "    .dataframe tbody tr th {\n",
       "        vertical-align: top;\n",
       "    }\n",
       "\n",
       "    .dataframe thead th {\n",
       "        text-align: right;\n",
       "    }\n",
       "</style>\n",
       "<table border=\"1\" class=\"dataframe\">\n",
       "  <thead>\n",
       "    <tr style=\"text-align: right;\">\n",
       "      <th></th>\n",
       "      <th>Пол</th>\n",
       "      <th>Возраст</th>\n",
       "      <th>Зарплата</th>\n",
       "      <th>Члены семьи</th>\n",
       "      <th>Страховые выплаты</th>\n",
       "    </tr>\n",
       "  </thead>\n",
       "  <tbody>\n",
       "    <tr>\n",
       "      <th>count</th>\n",
       "      <td>5000.000000</td>\n",
       "      <td>5000.000000</td>\n",
       "      <td>5000.000000</td>\n",
       "      <td>5000.000000</td>\n",
       "      <td>5000.000000</td>\n",
       "    </tr>\n",
       "    <tr>\n",
       "      <th>mean</th>\n",
       "      <td>0.499000</td>\n",
       "      <td>30.952800</td>\n",
       "      <td>39916.360000</td>\n",
       "      <td>1.194200</td>\n",
       "      <td>0.148000</td>\n",
       "    </tr>\n",
       "    <tr>\n",
       "      <th>std</th>\n",
       "      <td>0.500049</td>\n",
       "      <td>8.440807</td>\n",
       "      <td>9900.083569</td>\n",
       "      <td>1.091387</td>\n",
       "      <td>0.463183</td>\n",
       "    </tr>\n",
       "    <tr>\n",
       "      <th>min</th>\n",
       "      <td>0.000000</td>\n",
       "      <td>18.000000</td>\n",
       "      <td>5300.000000</td>\n",
       "      <td>0.000000</td>\n",
       "      <td>0.000000</td>\n",
       "    </tr>\n",
       "    <tr>\n",
       "      <th>25%</th>\n",
       "      <td>0.000000</td>\n",
       "      <td>24.000000</td>\n",
       "      <td>33300.000000</td>\n",
       "      <td>0.000000</td>\n",
       "      <td>0.000000</td>\n",
       "    </tr>\n",
       "    <tr>\n",
       "      <th>50%</th>\n",
       "      <td>0.000000</td>\n",
       "      <td>30.000000</td>\n",
       "      <td>40200.000000</td>\n",
       "      <td>1.000000</td>\n",
       "      <td>0.000000</td>\n",
       "    </tr>\n",
       "    <tr>\n",
       "      <th>75%</th>\n",
       "      <td>1.000000</td>\n",
       "      <td>37.000000</td>\n",
       "      <td>46600.000000</td>\n",
       "      <td>2.000000</td>\n",
       "      <td>0.000000</td>\n",
       "    </tr>\n",
       "    <tr>\n",
       "      <th>max</th>\n",
       "      <td>1.000000</td>\n",
       "      <td>65.000000</td>\n",
       "      <td>79000.000000</td>\n",
       "      <td>6.000000</td>\n",
       "      <td>5.000000</td>\n",
       "    </tr>\n",
       "  </tbody>\n",
       "</table>\n",
       "</div>"
      ],
      "text/plain": [
       "               Пол      Возраст      Зарплата  Члены семьи  Страховые выплаты\n",
       "count  5000.000000  5000.000000   5000.000000  5000.000000        5000.000000\n",
       "mean      0.499000    30.952800  39916.360000     1.194200           0.148000\n",
       "std       0.500049     8.440807   9900.083569     1.091387           0.463183\n",
       "min       0.000000    18.000000   5300.000000     0.000000           0.000000\n",
       "25%       0.000000    24.000000  33300.000000     0.000000           0.000000\n",
       "50%       0.000000    30.000000  40200.000000     1.000000           0.000000\n",
       "75%       1.000000    37.000000  46600.000000     2.000000           0.000000\n",
       "max       1.000000    65.000000  79000.000000     6.000000           5.000000"
      ]
     },
     "execution_count": 7,
     "metadata": {},
     "output_type": "execute_result"
    }
   ],
   "source": [
    "data.describe()"
   ]
  },
  {
   "cell_type": "code",
   "execution_count": 8,
   "metadata": {},
   "outputs": [
    {
     "data": {
      "image/png": "[encoded data removed]",
      "text/plain": [
       "<Figure size 1080x864 with 6 Axes>"
      ]
     },
     "metadata": {
      "needs_background": "light"
     },
     "output_type": "display_data"
    }
   ],
   "source": [
    "data.hist(figsize=(15, 12));"
   ]
  },
  {
   "cell_type": "code",
   "execution_count": 9,
   "metadata": {},
   "outputs": [
    {
     "data": {
      "image/png": "[encoded data removed]",
      "text/plain": [
       "<Figure size 432x288 with 1 Axes>"
      ]
     },
     "metadata": {
      "needs_background": "light"
     },
     "output_type": "display_data"
    }
   ],
   "source": [
    "data['Страховые выплаты'].value_counts(normalize=True).plot(kind='bar', grid=True);"
   ]
  },
  {
   "cell_type": "code",
   "execution_count": 10,
   "metadata": {},
   "outputs": [
    {
     "data": {
      "text/plain": [
       "1    423\n",
       "2    115\n",
       "3     18\n",
       "4      7\n",
       "5      1\n",
       "Name: Страховые выплаты, dtype: int64"
      ]
     },
     "execution_count": 10,
     "metadata": {},
     "output_type": "execute_result"
    }
   ],
   "source": [
    "data[data['Страховые выплаты'] != 0]['Страховые выплаты'].value_counts()"
   ]
  },
  {
   "cell_type": "code",
   "execution_count": 11,
   "metadata": {},
   "outputs": [
    {
     "data": {
      "text/plain": [
       "564"
      ]
     },
     "execution_count": 11,
     "metadata": {},
     "output_type": "execute_result"
    }
   ],
   "source": [
    "data[data['Страховые выплаты'] != 0]['Страховые выплаты'].value_counts().sum()"
   ]
  },
  {
   "cell_type": "code",
   "execution_count": 12,
   "metadata": {},
   "outputs": [
    {
     "data": {
      "text/html": [
       "<div>\n",
       "<style scoped>\n",
       "    .dataframe tbody tr th:only-of-type {\n",
       "        vertical-align: middle;\n",
       "    }\n",
       "\n",
       "    .dataframe tbody tr th {\n",
       "        vertical-align: top;\n",
       "    }\n",
       "\n",
       "    .dataframe thead th {\n",
       "        text-align: right;\n",
       "    }\n",
       "</style>\n",
       "<table border=\"1\" class=\"dataframe\">\n",
       "  <thead>\n",
       "    <tr style=\"text-align: right;\">\n",
       "      <th></th>\n",
       "      <th>Возраст</th>\n",
       "      <th>Зарплата</th>\n",
       "      <th>Члены семьи</th>\n",
       "      <th>Страховые выплаты</th>\n",
       "    </tr>\n",
       "  </thead>\n",
       "  <tbody>\n",
       "    <tr>\n",
       "      <th>Возраст</th>\n",
       "      <td>1.000000</td>\n",
       "      <td>-0.020238</td>\n",
       "      <td>-0.001503</td>\n",
       "      <td>0.548589</td>\n",
       "    </tr>\n",
       "    <tr>\n",
       "      <th>Зарплата</th>\n",
       "      <td>-0.020238</td>\n",
       "      <td>1.000000</td>\n",
       "      <td>-0.025492</td>\n",
       "      <td>-0.005549</td>\n",
       "    </tr>\n",
       "    <tr>\n",
       "      <th>Члены семьи</th>\n",
       "      <td>-0.001503</td>\n",
       "      <td>-0.025492</td>\n",
       "      <td>1.000000</td>\n",
       "      <td>-0.029210</td>\n",
       "    </tr>\n",
       "    <tr>\n",
       "      <th>Страховые выплаты</th>\n",
       "      <td>0.548589</td>\n",
       "      <td>-0.005549</td>\n",
       "      <td>-0.029210</td>\n",
       "      <td>1.000000</td>\n",
       "    </tr>\n",
       "  </tbody>\n",
       "</table>\n",
       "</div>"
      ],
      "text/plain": [
       "                    Возраст  Зарплата  Члены семьи  Страховые выплаты\n",
       "Возраст            1.000000 -0.020238    -0.001503           0.548589\n",
       "Зарплата          -0.020238  1.000000    -0.025492          -0.005549\n",
       "Члены семьи       -0.001503 -0.025492     1.000000          -0.029210\n",
       "Страховые выплаты  0.548589 -0.005549    -0.029210           1.000000"
      ]
     },
     "execution_count": 12,
     "metadata": {},
     "output_type": "execute_result"
    }
   ],
   "source": [
    "# Все признаки, кроме пола\n",
    "data.loc[:, ~data.columns.isin(['Пол'])].corr(method='spearman')"
   ]
  },
  {
   "cell_type": "code",
   "execution_count": 13,
   "metadata": {},
   "outputs": [
    {
     "data": {
      "image/png": "[encoded data removed]",
      "text/plain": [
       "<Figure size 864x504 with 1 Axes>"
      ]
     },
     "metadata": {
      "needs_background": "light"
     },
     "output_type": "display_data"
    }
   ],
   "source": [
    "(\n",
    "    data\n",
    "    .pivot_table(index='Страховые выплаты', values='Возраст', aggfunc='mean')\n",
    "    .reset_index()\n",
    "    .plot(x='Страховые выплаты', y='Возраст', kind='bar', grid=True, figsize=(12, 7), legend=False)\n",
    "    .set_title('\\n' + 'Средний возраст по количеству страховых выплат' + '\\n', fontsize=22)\n",
    ");\n",
    "plt.ylabel('Средний возраст', fontsize=18);\n",
    "plt.xlabel('Среднее количество страховых выплат', fontsize=18);"
   ]
  },
  {
   "cell_type": "markdown",
   "metadata": {},
   "source": [
    "### Вывод"
   ]
  },
  {
   "cell_type": "markdown",
   "metadata": {},
   "source": [
    "Качество данных приемлимое, целевой признак коррелирует только с одним не целевым признаком, а именно с возрастом, корреляция Спирмена на уровне 0.55, посредственный уровень корреляции. Если использовать линейную регрессию то из-за метода наименьших квадратов используемого в линейной регрессии качество модели будет не самым лучшим"
   ]
  },
  {
   "cell_type": "markdown",
   "metadata": {},
   "source": [
    "## Умножение матриц"
   ]
  },
  {
   "cell_type": "markdown",
   "metadata": {},
   "source": [
    "В этом задании вы можете записывать формулы в *Jupyter Notebook.*\n",
    "\n",
    "Чтобы записать формулу внутри текста, окружите её символами доллара \\\\$; если снаружи —  двойными символами \\\\$\\\\$. Эти формулы записываются на языке вёрстки *LaTeX.* \n",
    "\n",
    "Для примера мы записали формулы линейной регрессии. Можете их скопировать и отредактировать, чтобы решить задачу.\n",
    "\n",
    "Работать в *LaTeX* необязательно."
   ]
  },
  {
   "cell_type": "markdown",
   "metadata": {},
   "source": [
    "Обозначения:\n",
    "\n",
    "- $X$ — матрица признаков (нулевой столбец состоит из единиц)\n",
    "\n",
    "- $y$ — вектор целевого признака\n",
    "\n",
    "- $P$ — матрица, на которую умножаются признаки\n",
    "\n",
    "- $w$ — вектор весов линейной регрессии (нулевой элемент равен сдвигу)"
   ]
  },
  {
   "cell_type": "markdown",
   "metadata": {},
   "source": [
    "Предсказания:\n",
    "\n",
    "$$\n",
    "a = Xw\n",
    "$$\n",
    "\n",
    "Задача обучения:\n",
    "\n",
    "$$\n",
    "w = \\arg\\min_w MSE(Xw, y)\n",
    "$$\n",
    "\n",
    "Формула обучения:\n",
    "\n",
    "$$\n",
    "w = (X^T X)^{-1} X^T y\n",
    "$$"
   ]
  },
  {
   "cell_type": "markdown",
   "metadata": {},
   "source": [
    "Признаки умножают на обратимую матрицу. Изменится ли качество линейной регрессии?"
   ]
  },
  {
   "cell_type": "markdown",
   "metadata": {},
   "source": [
    "**Ответ:** Нет, качество линейной регрессии не изменится.\n",
    "\n",
    "**Обоснование:** Умножение матрицы признаков на обратную матрицу эквивалентно умножению коэффициентов регрессионной модели. Мы получим в этом случае единичную матрицу. Это связано с особенностью вычисления обратной матрицы, после вычисления определителя и алгебраических дополнений исходной, при подборе дополнительных миноров, главная диагональ матрицы не учитывается при поиске минимального размера ошибки. Ну это насколько я понял."
   ]
  },
  {
   "cell_type": "markdown",
   "metadata": {},
   "source": [
    "**Обоснование:** \n",
    "\n",
    "Предсказания для новой матрицы:\n",
    "$$\n",
    "a_P = XPw\n",
    "$$\n",
    "\n",
    "Вектор весов:\n",
    "$$\n",
    "w = ((XP)^T (XP))^{-1} (XP)^T y\n",
    "$$\n",
    "\n",
    "Подставим в формулу расчёта предсказаний значение вектора весов:\n",
    "$$\n",
    "a_P = (XP)((XP)^T (XP))^{-1} (XP)^T y\n",
    "$$\n",
    "\n",
    "Раскроем скобки с транспонированием:\n",
    "$$\n",
    "a_P = (XP)(P^TX^TXP)^{-1}P^TX^T y\n",
    "$$\n",
    "\n",
    "Выносим ***P*** за скобки, так как она обратимая (по условию):\n",
    "$$\n",
    "a_P = XPP^{-1}(X^TX)^{-1}(P^T)^{-1}P^TX^Ty\n",
    "$$\n",
    "\n",
    "Ввиду того, что выражения:\n",
    "$$\n",
    "PP^{-1}\n",
    "$$\n",
    "и\n",
    "$$\n",
    "P^T(P^T)^{-1}\n",
    "$$\n",
    "равны ***E***, получаем:\n",
    "\n",
    "$$\n",
    "a_P = X(X^T X)^{-1}X^T y\n",
    "$$\n",
    "\n",
    "Из чего следует:\n",
    "$$\n",
    "a_P= Xw=a\n",
    "$$"
   ]
  },
  {
   "cell_type": "markdown",
   "metadata": {},
   "source": [
    "## Алгоритм преобразования"
   ]
  },
  {
   "cell_type": "markdown",
   "metadata": {},
   "source": [
    "**Алгоритм**\n",
    "\n",
    "Алгоритм прост как я, просто создать рандомную матрицу для умножения на исходную матрицу признаков (с количеством столбцов - 4), проверить обратимость, затем умножить тренировучную матрицу на рандомную матрицу, получим зашифрованные данные, то же сделать и для тестовой выборки. Вся суть в том, чтобы перемножить матрицы на одну и ту же рандомную матрицу, изменить данные и обучить модель и проверить на тестовой."
   ]
  },
  {
   "cell_type": "markdown",
   "metadata": {},
   "source": [
    "**Обоснование**\n",
    "\n",
    "Если мы умножим признаки обучающего и тестового набора данных на ту же обратную матрицу, то результат прогнозирования будет являться произведением нашей измененной таблицы с признаками, умноженный на те же значения, что и признаки для обучения. Проверили работу этого алгоритма в следующем разделе."
   ]
  },
  {
   "cell_type": "markdown",
   "metadata": {},
   "source": [
    "## Проверка алгоритма"
   ]
  },
  {
   "cell_type": "code",
   "execution_count": 14,
   "metadata": {},
   "outputs": [
    {
     "data": {
      "text/plain": [
       "(3750, 4)"
      ]
     },
     "metadata": {},
     "output_type": "display_data"
    },
    {
     "data": {
      "text/plain": [
       "(1250, 4)"
      ]
     },
     "metadata": {},
     "output_type": "display_data"
    }
   ],
   "source": [
    "features = data.drop('Страховые выплаты', axis=1)\n",
    "target = data['Страховые выплаты']\n",
    "\n",
    "features_train, features_test, target_train, target_test = train_test_split(\n",
    "    features, target, test_size=0.25, random_state=12345\n",
    ")\n",
    "display(features_train.shape, features_test.shape)"
   ]
  },
  {
   "cell_type": "code",
   "execution_count": 15,
   "metadata": {},
   "outputs": [
    {
     "data": {
      "text/plain": [
       "array([[ -0.79589724, -21.35174239,  23.90010315,  -2.85538861],\n",
       "       [  1.14911252,  18.57608445, -20.71016045,   2.17755358],\n",
       "       [  0.32903403,   8.9422274 , -10.34145964,   1.68692913],\n",
       "       [ -0.31141217,  -1.04852455,   1.5030261 ,  -0.23376193]])"
      ]
     },
     "execution_count": 15,
     "metadata": {},
     "output_type": "execute_result"
    }
   ],
   "source": [
    "P = np.random.normal(3, size=(4,4))\n",
    "np.linalg.inv(P)"
   ]
  },
  {
   "cell_type": "markdown",
   "metadata": {},
   "source": [
    "Матрица обратима"
   ]
  },
  {
   "cell_type": "code",
   "execution_count": 16,
   "metadata": {},
   "outputs": [
    {
     "data": {
      "text/html": [
       "<div>\n",
       "<style scoped>\n",
       "    .dataframe tbody tr th:only-of-type {\n",
       "        vertical-align: middle;\n",
       "    }\n",
       "\n",
       "    .dataframe tbody tr th {\n",
       "        vertical-align: top;\n",
       "    }\n",
       "\n",
       "    .dataframe thead th {\n",
       "        text-align: right;\n",
       "    }\n",
       "</style>\n",
       "<table border=\"1\" class=\"dataframe\">\n",
       "  <thead>\n",
       "    <tr style=\"text-align: right;\">\n",
       "      <th></th>\n",
       "      <th>Пол</th>\n",
       "      <th>Возраст</th>\n",
       "      <th>Зарплата</th>\n",
       "      <th>Члены семьи</th>\n",
       "    </tr>\n",
       "  </thead>\n",
       "  <tbody>\n",
       "    <tr>\n",
       "      <th>2206</th>\n",
       "      <td>155952.365453</td>\n",
       "      <td>131889.057792</td>\n",
       "      <td>124104.684431</td>\n",
       "      <td>219217.426429</td>\n",
       "    </tr>\n",
       "    <tr>\n",
       "      <th>204</th>\n",
       "      <td>173721.283649</td>\n",
       "      <td>146914.552720</td>\n",
       "      <td>138245.519726</td>\n",
       "      <td>244192.581960</td>\n",
       "    </tr>\n",
       "    <tr>\n",
       "      <th>1546</th>\n",
       "      <td>164089.556673</td>\n",
       "      <td>138768.858308</td>\n",
       "      <td>130581.771471</td>\n",
       "      <td>230650.759010</td>\n",
       "    </tr>\n",
       "    <tr>\n",
       "      <th>2482</th>\n",
       "      <td>91592.807780</td>\n",
       "      <td>77462.273738</td>\n",
       "      <td>72885.262975</td>\n",
       "      <td>128752.634431</td>\n",
       "    </tr>\n",
       "    <tr>\n",
       "      <th>4550</th>\n",
       "      <td>125412.295755</td>\n",
       "      <td>106061.953181</td>\n",
       "      <td>99800.028718</td>\n",
       "      <td>176291.837373</td>\n",
       "    </tr>\n",
       "  </tbody>\n",
       "</table>\n",
       "</div>"
      ],
      "text/plain": [
       "                Пол        Возраст       Зарплата    Члены семьи\n",
       "2206  155952.365453  131889.057792  124104.684431  219217.426429\n",
       "204   173721.283649  146914.552720  138245.519726  244192.581960\n",
       "1546  164089.556673  138768.858308  130581.771471  230650.759010\n",
       "2482   91592.807780   77462.273738   72885.262975  128752.634431\n",
       "4550  125412.295755  106061.953181   99800.028718  176291.837373"
      ]
     },
     "metadata": {},
     "output_type": "display_data"
    },
    {
     "data": {
      "text/html": [
       "<div>\n",
       "<style scoped>\n",
       "    .dataframe tbody tr th:only-of-type {\n",
       "        vertical-align: middle;\n",
       "    }\n",
       "\n",
       "    .dataframe tbody tr th {\n",
       "        vertical-align: top;\n",
       "    }\n",
       "\n",
       "    .dataframe thead th {\n",
       "        text-align: right;\n",
       "    }\n",
       "</style>\n",
       "<table border=\"1\" class=\"dataframe\">\n",
       "  <thead>\n",
       "    <tr style=\"text-align: right;\">\n",
       "      <th></th>\n",
       "      <th>Пол</th>\n",
       "      <th>Возраст</th>\n",
       "      <th>Зарплата</th>\n",
       "      <th>Члены семьи</th>\n",
       "    </tr>\n",
       "  </thead>\n",
       "  <tbody>\n",
       "    <tr>\n",
       "      <th>3179</th>\n",
       "      <td>158891.202694</td>\n",
       "      <td>134371.356034</td>\n",
       "      <td>126448.075272</td>\n",
       "      <td>223345.341101</td>\n",
       "    </tr>\n",
       "    <tr>\n",
       "      <th>2184</th>\n",
       "      <td>105675.118549</td>\n",
       "      <td>89368.743710</td>\n",
       "      <td>84095.600745</td>\n",
       "      <td>148544.359417</td>\n",
       "    </tr>\n",
       "    <tr>\n",
       "      <th>4453</th>\n",
       "      <td>79631.766067</td>\n",
       "      <td>67344.817765</td>\n",
       "      <td>63369.242372</td>\n",
       "      <td>111937.524647</td>\n",
       "    </tr>\n",
       "    <tr>\n",
       "      <th>1911</th>\n",
       "      <td>152171.005301</td>\n",
       "      <td>128689.776850</td>\n",
       "      <td>121096.640769</td>\n",
       "      <td>213901.293801</td>\n",
       "    </tr>\n",
       "    <tr>\n",
       "      <th>4345</th>\n",
       "      <td>135425.725382</td>\n",
       "      <td>114526.538393</td>\n",
       "      <td>107774.055142</td>\n",
       "      <td>190359.450308</td>\n",
       "    </tr>\n",
       "  </tbody>\n",
       "</table>\n",
       "</div>"
      ],
      "text/plain": [
       "                Пол        Возраст       Зарплата    Члены семьи\n",
       "3179  158891.202694  134371.356034  126448.075272  223345.341101\n",
       "2184  105675.118549   89368.743710   84095.600745  148544.359417\n",
       "4453   79631.766067   67344.817765   63369.242372  111937.524647\n",
       "1911  152171.005301  128689.776850  121096.640769  213901.293801\n",
       "4345  135425.725382  114526.538393  107774.055142  190359.450308"
      ]
     },
     "metadata": {},
     "output_type": "display_data"
    }
   ],
   "source": [
    "train_m = features_train @ P\n",
    "train_m.columns = features_train.columns\n",
    "\n",
    "test_m = features_test @ P\n",
    "test_m.columns = features_test.columns\n",
    "\n",
    "display(train_m.sample(5))\n",
    "display(test_m.sample(5))"
   ]
  },
  {
   "cell_type": "code",
   "execution_count": 17,
   "metadata": {},
   "outputs": [
    {
     "name": "stdout",
     "output_type": "stream",
     "text": [
      "Не измененная матрица r2:  0.44\n",
      "Не измененная матрица MSE:  0.12\n"
     ]
    }
   ],
   "source": [
    "model = LinearRegression()\n",
    "model.fit(features_train, target_train)\n",
    "predict = model.predict(features_test)\n",
    "print('Не измененная матрица r2: ', round(r2_score(target_test, predict), 2))\n",
    "print('Не измененная матрица MSE: ', round(mean_squared_error(target_test, predict), 2))"
   ]
  },
  {
   "cell_type": "code",
   "execution_count": 18,
   "metadata": {},
   "outputs": [
    {
     "name": "stdout",
     "output_type": "stream",
     "text": [
      "Измененная матрица r2:  0.44\n",
      "Измененная матрица MSE:  0.12\n"
     ]
    }
   ],
   "source": [
    "change_matrix_model = LinearRegression()\n",
    "change_matrix_model.fit(train_m, target_train)\n",
    "predict_change_matrix = change_matrix_model.predict(test_m)\n",
    "print('Измененная матрица r2: ', round(r2_score(target_test, predict_change_matrix), 2))\n",
    "print('Измененная матрица MSE: ', round(mean_squared_error(target_test, predict_change_matrix), 2))"
   ]
  },
  {
   "cell_type": "markdown",
   "metadata": {},
   "source": [
    "### Вывод"
   ]
  },
  {
   "cell_type": "markdown",
   "metadata": {},
   "source": [
    "В страховой компании \"Хоть потоп\" перед нами была поставлена задача обеспечить защиту данных наших клиентов и создать метод преобразования данных, который затруднил бы восстановление личной информации.\n",
    "\n",
    "Преобразование должно было быть выполнено таким образом, чтобы качество моделей машинного обучения, определяемое результатом нашего алгоритма, не снижалось.\n",
    "\n",
    "Результатом нашей работы стала разработка алгоритма, который преобразовал данные путем умножения признаков исходных данных на обратимую матрицу P. Это преобразование создало модифицированную матрицу признаков, с зашифрованными данными и, при сравнении с моделью из пакета scikit-learn, сохранила значения r2 и MSE без изменений."
   ]
  },
  {
   "cell_type": "markdown",
   "metadata": {},
   "source": [
    "## Чек-лист проверки"
   ]
  },
  {
   "cell_type": "markdown",
   "metadata": {},
   "source": [
    "Поставьте 'x' в выполненных пунктах. Далее нажмите Shift+Enter."
   ]
  },
  {
   "cell_type": "markdown",
   "metadata": {},
   "source": [
    "- [x]  Jupyter Notebook открыт\n",
    "- [x]  Весь код выполняется без ошибок\n",
    "- [x]  Ячейки с кодом расположены в порядке исполнения\n",
    "- [x]  Выполнен шаг 1: данные загружены\n",
    "- [x]  Выполнен шаг 2: получен ответ на вопрос об умножении матриц\n",
    "    - [x]  Указан правильный вариант ответа\n",
    "    - [x]  Вариант обоснован\n",
    "- [x]  Выполнен шаг 3: предложен алгоритм преобразования\n",
    "    - [x]  Алгоритм описан\n",
    "    - [x]  Алгоритм обоснован\n",
    "- [x]  Выполнен шаг 4: алгоритм проверен\n",
    "    - [x]  Алгоритм реализован\n",
    "    - [x]  Проведено сравнение качества моделей до и после преобразования"
   ]
  },
  {
   "cell_type": "markdown",
   "metadata": {},
   "source": [
    "<div style=\"border:solid purple 2px; padding: 20px\"> \n",
    "<b> <font color='purple' >   \n",
    "В целом, работа хорошая. Ты молодец! Остались небольшие доработки. Нужно добавить теоретическое доказательство, выводы после каждого раздела, проверить алгоритм преобразований. Доделывай и присылай на повторную проверку.\n",
    "\n",
    "Жду твоих исправлений 😊\n",
    "</font></b>\n",
    "</div>"
   ]
  },
  {
   "cell_type": "markdown",
   "metadata": {},
   "source": [
    "<div style=\"border:solid purple 2px; padding: 20px\"> \n",
    "<b> <font color='purple' >   \n",
    "Нужно доработать теоретическое доказательство и алгоритм преобразований. При возникновении трудностей можно обратиться к преподавателю по проектам в чате \"Пачки\"\n",
    "</font></b>\n",
    "</div>"
   ]
  },
  {
   "cell_type": "markdown",
   "metadata": {},
   "source": [
    "<div style=\"border:solid purple 2px; padding: 20px\"> \n",
    "<b> <font color='purple' >   \n",
    "    \n",
    "Отлично! Проект принят! 👏 Поздравляю и желаю удачи!\n",
    "    \n",
    "    \n",
    "Оставлю несколько дополнительных материалов. Теория по обратным матрицам: https://www.berdov.com/works/matrix/obratnaya-matrica/. Обзоры по применению криптографии в машинном обучении: https://arxiv.org/pdf/1902.04109.pdf, https://www.researchgate.net/publication/342746786_Some_Applications_of_Machine_Learning_in_Cryptography\n",
    "Подробнее про аналогичный алгоритм: https://www.cs.cmu.edu/~rjhall/JOS_revised_May_31a.pdf\n",
    "</font></b>\n",
    "</div>"
   ]
  }
 ],
 "metadata": {
  "ExecuteTimeLog": [
   {
    "duration": 363,
    "start_time": "2023-02-05T16:57:11.377Z"
   },
   {
    "duration": 99,
    "start_time": "2023-02-05T16:57:29.533Z"
   },
   {
    "duration": 23,
    "start_time": "2023-02-05T16:57:34.849Z"
   },
   {
    "duration": 13,
    "start_time": "2023-02-05T16:57:48.533Z"
   },
   {
    "duration": 10,
    "start_time": "2023-02-05T16:57:53.178Z"
   },
   {
    "duration": 13,
    "start_time": "2023-02-05T16:58:08.381Z"
   },
   {
    "duration": 24,
    "start_time": "2023-02-05T16:58:28.989Z"
   },
   {
    "duration": 940,
    "start_time": "2023-02-05T17:01:22.268Z"
   },
   {
    "duration": 499,
    "start_time": "2023-02-05T17:01:26.915Z"
   },
   {
    "duration": 621,
    "start_time": "2023-02-05T17:01:39.494Z"
   },
   {
    "duration": 682,
    "start_time": "2023-02-05T17:01:48.991Z"
   },
   {
    "duration": 650,
    "start_time": "2023-02-05T17:01:57.984Z"
   },
   {
    "duration": 86,
    "start_time": "2023-02-05T17:03:57.803Z"
   },
   {
    "duration": 9,
    "start_time": "2023-02-05T17:04:05.383Z"
   },
   {
    "duration": 218,
    "start_time": "2023-02-05T17:04:21.798Z"
   },
   {
    "duration": 114,
    "start_time": "2023-02-05T17:04:28.874Z"
   },
   {
    "duration": 129,
    "start_time": "2023-02-05T17:04:35.643Z"
   },
   {
    "duration": 14,
    "start_time": "2023-02-05T17:05:10.033Z"
   },
   {
    "duration": 8,
    "start_time": "2023-02-05T17:05:24.820Z"
   },
   {
    "duration": 6,
    "start_time": "2023-02-05T17:05:56.947Z"
   },
   {
    "duration": 5,
    "start_time": "2023-02-05T17:06:53.789Z"
   },
   {
    "duration": 5,
    "start_time": "2023-02-05T17:06:54.331Z"
   },
   {
    "duration": 7,
    "start_time": "2023-02-05T17:06:58.598Z"
   },
   {
    "duration": 8,
    "start_time": "2023-02-05T17:07:47.867Z"
   },
   {
    "duration": 8,
    "start_time": "2023-02-05T17:07:48.957Z"
   },
   {
    "duration": 18,
    "start_time": "2023-02-05T17:10:33.133Z"
   },
   {
    "duration": 147,
    "start_time": "2023-02-05T17:15:06.954Z"
   },
   {
    "duration": 16,
    "start_time": "2023-02-05T17:15:36.455Z"
   },
   {
    "duration": 167,
    "start_time": "2023-02-05T17:15:40.171Z"
   },
   {
    "duration": 481,
    "start_time": "2023-02-05T17:30:14.446Z"
   },
   {
    "duration": 42,
    "start_time": "2023-02-05T17:30:14.929Z"
   },
   {
    "duration": 23,
    "start_time": "2023-02-05T17:30:14.973Z"
   },
   {
    "duration": 58,
    "start_time": "2023-02-05T17:30:14.999Z"
   },
   {
    "duration": 38,
    "start_time": "2023-02-05T17:30:15.059Z"
   },
   {
    "duration": 1043,
    "start_time": "2023-02-05T17:30:15.100Z"
   },
   {
    "duration": 139,
    "start_time": "2023-02-05T17:30:16.145Z"
   },
   {
    "duration": 9,
    "start_time": "2023-02-05T17:30:16.286Z"
   },
   {
    "duration": 39,
    "start_time": "2023-02-05T17:30:16.297Z"
   },
   {
    "duration": 14,
    "start_time": "2023-02-05T17:30:16.339Z"
   },
   {
    "duration": 217,
    "start_time": "2023-02-05T17:30:22.497Z"
   },
   {
    "duration": 167,
    "start_time": "2023-02-05T17:30:34.571Z"
   },
   {
    "duration": 156,
    "start_time": "2023-02-05T17:30:47.033Z"
   },
   {
    "duration": 153,
    "start_time": "2023-02-05T17:31:11.450Z"
   },
   {
    "duration": 172,
    "start_time": "2023-02-05T17:32:10.884Z"
   },
   {
    "duration": 169,
    "start_time": "2023-02-05T17:32:22.458Z"
   },
   {
    "duration": 169,
    "start_time": "2023-02-05T17:32:38.734Z"
   },
   {
    "duration": 172,
    "start_time": "2023-02-05T17:32:50.037Z"
   },
   {
    "duration": 254,
    "start_time": "2023-02-05T17:33:18.501Z"
   },
   {
    "duration": 208,
    "start_time": "2023-02-05T17:33:38.590Z"
   },
   {
    "duration": 219,
    "start_time": "2023-02-05T17:33:44.333Z"
   },
   {
    "duration": 267,
    "start_time": "2023-02-05T17:34:51.098Z"
   },
   {
    "duration": 187,
    "start_time": "2023-02-05T17:35:04.816Z"
   },
   {
    "duration": 3,
    "start_time": "2023-02-05T17:35:55.779Z"
   },
   {
    "duration": 197,
    "start_time": "2023-02-05T17:36:26.578Z"
   },
   {
    "duration": 197,
    "start_time": "2023-02-05T17:37:08.496Z"
   },
   {
    "duration": 186,
    "start_time": "2023-02-05T17:37:21.975Z"
   },
   {
    "duration": 194,
    "start_time": "2023-02-05T17:39:19.421Z"
   },
   {
    "duration": 132,
    "start_time": "2023-02-05T17:40:51.173Z"
   },
   {
    "duration": 184,
    "start_time": "2023-02-05T17:45:24.395Z"
   },
   {
    "duration": 197,
    "start_time": "2023-02-05T17:45:46.504Z"
   },
   {
    "duration": 5,
    "start_time": "2023-02-05T18:18:18.300Z"
   },
   {
    "duration": 5,
    "start_time": "2023-02-05T18:18:46.690Z"
   },
   {
    "duration": 6,
    "start_time": "2023-02-05T18:18:55.833Z"
   },
   {
    "duration": 2917,
    "start_time": "2023-02-15T17:23:51.698Z"
   },
   {
    "duration": 1247,
    "start_time": "2023-02-15T17:24:05.145Z"
   },
   {
    "duration": 9,
    "start_time": "2023-02-15T17:24:56.008Z"
   },
   {
    "duration": 3,
    "start_time": "2023-02-15T17:25:21.267Z"
   },
   {
    "duration": 1195,
    "start_time": "2023-02-15T17:25:21.272Z"
   },
   {
    "duration": 81,
    "start_time": "2023-02-15T17:25:22.469Z"
   },
   {
    "duration": 15,
    "start_time": "2023-02-15T17:25:22.551Z"
   },
   {
    "duration": 11,
    "start_time": "2023-02-15T17:25:22.568Z"
   },
   {
    "duration": 22,
    "start_time": "2023-02-15T17:25:22.580Z"
   },
   {
    "duration": 624,
    "start_time": "2023-02-15T17:25:22.603Z"
   },
   {
    "duration": 127,
    "start_time": "2023-02-15T17:25:23.229Z"
   },
   {
    "duration": 7,
    "start_time": "2023-02-15T17:25:23.357Z"
   },
   {
    "duration": 11,
    "start_time": "2023-02-15T17:25:23.367Z"
   },
   {
    "duration": 13,
    "start_time": "2023-02-15T17:25:23.380Z"
   },
   {
    "duration": 199,
    "start_time": "2023-02-15T17:25:23.394Z"
   },
   {
    "duration": 93,
    "start_time": "2023-02-15T17:26:11.344Z"
   },
   {
    "duration": 170,
    "start_time": "2023-02-15T17:26:11.481Z"
   },
   {
    "duration": 83,
    "start_time": "2023-02-15T17:26:18.099Z"
   },
   {
    "duration": 88,
    "start_time": "2023-02-15T17:27:32.899Z"
   },
   {
    "duration": 82,
    "start_time": "2023-02-15T17:27:56.389Z"
   },
   {
    "duration": 67,
    "start_time": "2023-02-15T17:28:48.911Z"
   },
   {
    "duration": 100,
    "start_time": "2023-02-15T17:29:14.376Z"
   },
   {
    "duration": 97,
    "start_time": "2023-02-15T17:29:31.255Z"
   },
   {
    "duration": 61,
    "start_time": "2023-02-15T17:29:38.900Z"
   },
   {
    "duration": 11,
    "start_time": "2023-02-15T17:31:22.835Z"
   },
   {
    "duration": 112,
    "start_time": "2023-02-15T17:32:58.752Z"
   },
   {
    "duration": 13,
    "start_time": "2023-02-15T17:33:04.406Z"
   },
   {
    "duration": 10,
    "start_time": "2023-02-15T17:33:35.823Z"
   },
   {
    "duration": 10,
    "start_time": "2023-02-15T17:34:13.695Z"
   },
   {
    "duration": 12,
    "start_time": "2023-02-15T17:34:51.592Z"
   },
   {
    "duration": 5,
    "start_time": "2023-02-15T17:45:41.715Z"
   },
   {
    "duration": 9,
    "start_time": "2023-02-15T17:53:18.053Z"
   },
   {
    "duration": 3,
    "start_time": "2023-02-15T17:53:31.209Z"
   },
   {
    "duration": 62,
    "start_time": "2023-02-15T17:53:36.404Z"
   },
   {
    "duration": 42,
    "start_time": "2023-02-15T17:55:20.090Z"
   },
   {
    "duration": 10,
    "start_time": "2023-02-15T17:55:23.961Z"
   },
   {
    "duration": 10,
    "start_time": "2023-02-15T17:55:34.933Z"
   },
   {
    "duration": 8,
    "start_time": "2023-02-15T17:55:39.724Z"
   },
   {
    "duration": 60,
    "start_time": "2023-02-15T17:56:09.565Z"
   },
   {
    "duration": 5,
    "start_time": "2023-02-15T18:15:38.136Z"
   },
   {
    "duration": 5,
    "start_time": "2023-02-15T18:17:08.776Z"
   },
   {
    "duration": 8,
    "start_time": "2023-02-15T18:17:18.750Z"
   },
   {
    "duration": 5,
    "start_time": "2023-02-15T18:17:48.166Z"
   },
   {
    "duration": 3,
    "start_time": "2023-02-15T18:18:18.634Z"
   },
   {
    "duration": 3,
    "start_time": "2023-02-15T18:18:29.157Z"
   },
   {
    "duration": 5,
    "start_time": "2023-02-15T18:18:33.757Z"
   },
   {
    "duration": 7,
    "start_time": "2023-02-15T18:18:57.473Z"
   },
   {
    "duration": 9,
    "start_time": "2023-02-15T18:19:34.329Z"
   },
   {
    "duration": 9,
    "start_time": "2023-02-15T18:23:46.367Z"
   },
   {
    "duration": 5,
    "start_time": "2023-02-15T18:24:49.937Z"
   },
   {
    "duration": 5,
    "start_time": "2023-02-15T18:25:21.196Z"
   },
   {
    "duration": 5,
    "start_time": "2023-02-15T19:09:47.919Z"
   },
   {
    "duration": 293,
    "start_time": "2023-02-15T19:12:00.406Z"
   },
   {
    "duration": 22,
    "start_time": "2023-02-15T19:15:31.517Z"
   },
   {
    "duration": 10,
    "start_time": "2023-02-15T19:16:04.742Z"
   },
   {
    "duration": 10,
    "start_time": "2023-02-15T19:16:11.894Z"
   },
   {
    "duration": 6,
    "start_time": "2023-02-15T19:16:55.991Z"
   },
   {
    "duration": 9,
    "start_time": "2023-02-15T19:17:22.836Z"
   },
   {
    "duration": 8,
    "start_time": "2023-02-15T19:18:23.474Z"
   },
   {
    "duration": 6,
    "start_time": "2023-02-15T19:18:31.163Z"
   },
   {
    "duration": 8,
    "start_time": "2023-02-15T19:18:52.818Z"
   },
   {
    "duration": 8,
    "start_time": "2023-02-15T19:19:10.021Z"
   },
   {
    "duration": 5,
    "start_time": "2023-02-15T19:19:16.192Z"
   },
   {
    "duration": 8,
    "start_time": "2023-02-15T19:21:16.443Z"
   },
   {
    "duration": 10,
    "start_time": "2023-02-15T19:21:20.240Z"
   },
   {
    "duration": 11,
    "start_time": "2023-02-15T19:22:18.405Z"
   },
   {
    "duration": 10,
    "start_time": "2023-02-15T19:22:33.718Z"
   },
   {
    "duration": 9,
    "start_time": "2023-02-15T19:23:11.772Z"
   },
   {
    "duration": 10,
    "start_time": "2023-02-15T19:23:30.470Z"
   },
   {
    "duration": 5,
    "start_time": "2023-02-15T19:25:02.118Z"
   },
   {
    "duration": 10,
    "start_time": "2023-02-15T19:26:41.719Z"
   },
   {
    "duration": 11,
    "start_time": "2023-02-15T19:26:57.484Z"
   },
   {
    "duration": 12,
    "start_time": "2023-02-15T19:29:08.631Z"
   },
   {
    "duration": 5,
    "start_time": "2023-02-15T19:29:44.228Z"
   },
   {
    "duration": 14,
    "start_time": "2023-02-15T19:30:16.540Z"
   },
   {
    "duration": 5,
    "start_time": "2023-02-15T19:30:26.224Z"
   },
   {
    "duration": 11,
    "start_time": "2023-02-15T19:30:58.114Z"
   },
   {
    "duration": 14,
    "start_time": "2023-02-15T19:31:03.027Z"
   },
   {
    "duration": 11,
    "start_time": "2023-02-15T19:31:28.838Z"
   },
   {
    "duration": 11,
    "start_time": "2023-02-15T19:31:47.284Z"
   },
   {
    "duration": 13,
    "start_time": "2023-02-15T19:31:57.417Z"
   },
   {
    "duration": 17,
    "start_time": "2023-02-15T19:32:04.486Z"
   },
   {
    "duration": 10,
    "start_time": "2023-02-15T19:45:39.640Z"
   },
   {
    "duration": 11,
    "start_time": "2023-02-15T19:56:10.881Z"
   },
   {
    "duration": 4,
    "start_time": "2023-02-15T19:56:23.247Z"
   },
   {
    "duration": 3,
    "start_time": "2023-02-15T19:57:52.714Z"
   },
   {
    "duration": 5,
    "start_time": "2023-02-15T19:59:23.819Z"
   },
   {
    "duration": 15,
    "start_time": "2023-02-15T20:03:34.985Z"
   },
   {
    "duration": 11,
    "start_time": "2023-02-15T20:03:45.063Z"
   },
   {
    "duration": 23,
    "start_time": "2023-02-15T20:06:30.254Z"
   },
   {
    "duration": 5,
    "start_time": "2023-02-15T20:07:05.464Z"
   },
   {
    "duration": 5,
    "start_time": "2023-02-15T20:07:31.744Z"
   },
   {
    "duration": 12,
    "start_time": "2023-02-15T20:08:58.444Z"
   },
   {
    "duration": 10,
    "start_time": "2023-02-15T20:09:11.752Z"
   },
   {
    "duration": 13,
    "start_time": "2023-02-15T20:10:08.240Z"
   },
   {
    "duration": 14,
    "start_time": "2023-02-15T20:10:44.226Z"
   },
   {
    "duration": 9,
    "start_time": "2023-02-15T20:10:58.678Z"
   },
   {
    "duration": 22,
    "start_time": "2023-02-15T20:11:04.401Z"
   },
   {
    "duration": 11,
    "start_time": "2023-02-15T20:12:19.093Z"
   },
   {
    "duration": 12,
    "start_time": "2023-02-15T20:12:28.768Z"
   },
   {
    "duration": 11,
    "start_time": "2023-02-15T20:12:54.829Z"
   },
   {
    "duration": 11,
    "start_time": "2023-02-15T20:13:16.680Z"
   },
   {
    "duration": 4,
    "start_time": "2023-02-15T20:14:02.224Z"
   },
   {
    "duration": 1395,
    "start_time": "2023-02-15T20:14:02.232Z"
   },
   {
    "duration": 23,
    "start_time": "2023-02-15T20:14:03.633Z"
   },
   {
    "duration": 17,
    "start_time": "2023-02-15T20:14:03.658Z"
   },
   {
    "duration": 5,
    "start_time": "2023-02-15T20:14:03.677Z"
   },
   {
    "duration": 13,
    "start_time": "2023-02-15T20:14:03.685Z"
   },
   {
    "duration": 28,
    "start_time": "2023-02-15T20:14:03.699Z"
   },
   {
    "duration": 631,
    "start_time": "2023-02-15T20:14:03.729Z"
   },
   {
    "duration": 121,
    "start_time": "2023-02-15T20:14:04.362Z"
   },
   {
    "duration": 8,
    "start_time": "2023-02-15T20:14:04.485Z"
   },
   {
    "duration": 21,
    "start_time": "2023-02-15T20:14:04.494Z"
   },
   {
    "duration": 27,
    "start_time": "2023-02-15T20:14:04.516Z"
   },
   {
    "duration": 187,
    "start_time": "2023-02-15T20:14:04.545Z"
   },
   {
    "duration": 9,
    "start_time": "2023-02-15T20:14:04.734Z"
   },
   {
    "duration": 6,
    "start_time": "2023-02-15T20:14:04.745Z"
   },
   {
    "duration": 74,
    "start_time": "2023-02-15T20:14:04.753Z"
   },
   {
    "duration": 229,
    "start_time": "2023-02-15T20:14:04.828Z"
   },
   {
    "duration": 0,
    "start_time": "2023-02-15T20:14:05.059Z"
   },
   {
    "duration": 15,
    "start_time": "2023-02-15T20:14:19.828Z"
   },
   {
    "duration": 11,
    "start_time": "2023-02-15T20:14:40.469Z"
   },
   {
    "duration": 3,
    "start_time": "2023-02-15T20:15:01.771Z"
   },
   {
    "duration": 1453,
    "start_time": "2023-02-15T20:15:01.777Z"
   },
   {
    "duration": 24,
    "start_time": "2023-02-15T20:15:03.232Z"
   },
   {
    "duration": 13,
    "start_time": "2023-02-15T20:15:03.259Z"
   },
   {
    "duration": 8,
    "start_time": "2023-02-15T20:15:03.275Z"
   },
   {
    "duration": 12,
    "start_time": "2023-02-15T20:15:03.284Z"
   },
   {
    "duration": 40,
    "start_time": "2023-02-15T20:15:03.299Z"
   },
   {
    "duration": 644,
    "start_time": "2023-02-15T20:15:03.341Z"
   },
   {
    "duration": 131,
    "start_time": "2023-02-15T20:15:03.989Z"
   },
   {
    "duration": 12,
    "start_time": "2023-02-15T20:15:04.121Z"
   },
   {
    "duration": 7,
    "start_time": "2023-02-15T20:15:04.134Z"
   },
   {
    "duration": 16,
    "start_time": "2023-02-15T20:15:04.143Z"
   },
   {
    "duration": 220,
    "start_time": "2023-02-15T20:15:04.161Z"
   },
   {
    "duration": 9,
    "start_time": "2023-02-15T20:15:04.382Z"
   },
   {
    "duration": 27,
    "start_time": "2023-02-15T20:15:04.392Z"
   },
   {
    "duration": 118,
    "start_time": "2023-02-15T20:15:04.422Z"
   },
   {
    "duration": 15,
    "start_time": "2023-02-15T20:15:04.542Z"
   },
   {
    "duration": 68,
    "start_time": "2023-02-15T20:15:04.558Z"
   },
   {
    "duration": 3,
    "start_time": "2023-02-16T10:25:44.421Z"
   },
   {
    "duration": 2027,
    "start_time": "2023-02-16T10:25:44.427Z"
   },
   {
    "duration": 132,
    "start_time": "2023-02-16T10:25:46.456Z"
   },
   {
    "duration": 14,
    "start_time": "2023-02-16T10:25:46.591Z"
   },
   {
    "duration": 7,
    "start_time": "2023-02-16T10:25:46.606Z"
   },
   {
    "duration": 18,
    "start_time": "2023-02-16T10:25:46.614Z"
   },
   {
    "duration": 26,
    "start_time": "2023-02-16T10:25:46.633Z"
   },
   {
    "duration": 664,
    "start_time": "2023-02-16T10:25:46.661Z"
   },
   {
    "duration": 133,
    "start_time": "2023-02-16T10:25:47.328Z"
   },
   {
    "duration": 7,
    "start_time": "2023-02-16T10:25:47.462Z"
   },
   {
    "duration": 8,
    "start_time": "2023-02-16T10:25:47.471Z"
   },
   {
    "duration": 32,
    "start_time": "2023-02-16T10:25:47.481Z"
   },
   {
    "duration": 196,
    "start_time": "2023-02-16T10:25:47.515Z"
   },
   {
    "duration": 9,
    "start_time": "2023-02-16T10:25:47.712Z"
   },
   {
    "duration": 8,
    "start_time": "2023-02-16T10:25:47.723Z"
   },
   {
    "duration": 181,
    "start_time": "2023-02-16T10:25:47.733Z"
   },
   {
    "duration": 10,
    "start_time": "2023-02-16T10:25:47.917Z"
   },
   {
    "duration": 15,
    "start_time": "2023-02-16T10:25:47.929Z"
   },
   {
    "duration": 3,
    "start_time": "2023-02-18T09:37:31.997Z"
   },
   {
    "duration": 2403,
    "start_time": "2023-02-18T09:37:32.035Z"
   },
   {
    "duration": 102,
    "start_time": "2023-02-18T09:37:34.448Z"
   },
   {
    "duration": 17,
    "start_time": "2023-02-18T09:37:34.552Z"
   },
   {
    "duration": 18,
    "start_time": "2023-02-18T09:37:34.571Z"
   },
   {
    "duration": 21,
    "start_time": "2023-02-18T09:37:34.593Z"
   },
   {
    "duration": 49,
    "start_time": "2023-02-18T09:37:34.616Z"
   },
   {
    "duration": 798,
    "start_time": "2023-02-18T09:37:34.667Z"
   },
   {
    "duration": 136,
    "start_time": "2023-02-18T09:37:35.467Z"
   },
   {
    "duration": 16,
    "start_time": "2023-02-18T09:37:35.606Z"
   },
   {
    "duration": 11,
    "start_time": "2023-02-18T09:37:35.625Z"
   },
   {
    "duration": 15,
    "start_time": "2023-02-18T09:37:35.638Z"
   },
   {
    "duration": 206,
    "start_time": "2023-02-18T09:37:35.655Z"
   },
   {
    "duration": 9,
    "start_time": "2023-02-18T09:37:35.863Z"
   },
   {
    "duration": 51,
    "start_time": "2023-02-18T09:37:35.875Z"
   },
   {
    "duration": 98,
    "start_time": "2023-02-18T09:37:35.929Z"
   },
   {
    "duration": 28,
    "start_time": "2023-02-18T09:37:36.028Z"
   },
   {
    "duration": 10,
    "start_time": "2023-02-18T09:37:36.058Z"
   },
   {
    "duration": 81,
    "start_time": "2023-02-19T19:31:38.262Z"
   },
   {
    "duration": 4,
    "start_time": "2023-02-20T10:38:37.409Z"
   },
   {
    "duration": 2008,
    "start_time": "2023-02-20T10:38:37.414Z"
   },
   {
    "duration": 91,
    "start_time": "2023-02-20T10:38:39.423Z"
   },
   {
    "duration": 12,
    "start_time": "2023-02-20T10:38:39.515Z"
   },
   {
    "duration": 9,
    "start_time": "2023-02-20T10:38:39.529Z"
   },
   {
    "duration": 24,
    "start_time": "2023-02-20T10:38:39.539Z"
   },
   {
    "duration": 22,
    "start_time": "2023-02-20T10:38:39.565Z"
   },
   {
    "duration": 604,
    "start_time": "2023-02-20T10:38:39.589Z"
   },
   {
    "duration": 108,
    "start_time": "2023-02-20T10:38:40.195Z"
   },
   {
    "duration": 5,
    "start_time": "2023-02-20T10:38:40.305Z"
   },
   {
    "duration": 7,
    "start_time": "2023-02-20T10:38:40.312Z"
   },
   {
    "duration": 16,
    "start_time": "2023-02-20T10:38:40.320Z"
   },
   {
    "duration": 177,
    "start_time": "2023-02-20T10:38:40.337Z"
   },
   {
    "duration": 8,
    "start_time": "2023-02-20T10:38:40.516Z"
   },
   {
    "duration": 10,
    "start_time": "2023-02-20T10:38:40.526Z"
   },
   {
    "duration": 154,
    "start_time": "2023-02-20T10:38:40.537Z"
   },
   {
    "duration": 14,
    "start_time": "2023-02-20T10:38:40.692Z"
   },
   {
    "duration": 10,
    "start_time": "2023-02-20T10:38:40.707Z"
   }
  ],
  "kernelspec": {
   "display_name": "Python 3 (ipykernel)",
   "language": "python",
   "name": "python3"
  },
  "language_info": {
   "codemirror_mode": {
    "name": "ipython",
    "version": 3
   },
   "file_extension": ".py",
   "mimetype": "text/x-python",
   "name": "python",
   "nbconvert_exporter": "python",
   "pygments_lexer": "ipython3",
   "version": "3.9.5"
  },
  "toc": {
   "base_numbering": 1,
   "nav_menu": {},
   "number_sections": true,
   "sideBar": true,
   "skip_h1_title": true,
   "title_cell": "Содержание",
   "title_sidebar": "Contents",
   "toc_cell": true,
   "toc_position": {
    "height": "calc(100% - 180px)",
    "left": "10px",
    "top": "150px",
    "width": "292.594px"
   },
   "toc_section_display": true,
   "toc_window_display": true
  }
 },
 "nbformat": 4,
 "nbformat_minor": 2
}
