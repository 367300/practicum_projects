{
 "cells": [
  {
   "cell_type": "markdown",
   "metadata": {},
   "source": [
    "# Выбор локации для скважины"
   ]
  },
  {
   "cell_type": "markdown",
   "metadata": {},
   "source": [
    "## Загрузка и подготовка данных"
   ]
  },
  {
   "cell_type": "code",
   "execution_count": 1,
   "metadata": {},
   "outputs": [],
   "source": [
    "import warnings\n",
    "import pandas as pd\n",
    "import numpy as np\n",
    "import seaborn as sns\n",
    "import matplotlib.pyplot as plt\n",
    "from tqdm.notebook import tqdm\n",
    "from scipy import stats as st\n",
    "\n",
    "from sklearn.linear_model import LinearRegression\n",
    "from sklearn.model_selection import (\n",
    "    train_test_split\n",
    ")\n",
    "from sklearn.preprocessing import (\n",
    "    StandardScaler\n",
    ")  \n",
    "from sklearn.metrics import mean_squared_error"
   ]
  },
  {
   "cell_type": "code",
   "execution_count": 2,
   "metadata": {},
   "outputs": [],
   "source": [
    "pd.options.mode.chained_assignment = None\n",
    "warnings.filterwarnings(\"ignore\")\n",
    "\n",
    "RANDOM_STATE = 123456"
   ]
  },
  {
   "cell_type": "code",
   "execution_count": 3,
   "metadata": {},
   "outputs": [],
   "source": [
    "try:\n",
    "    geo_data_0 = pd.read_csv('/datasets/geo_data_0.csv')\n",
    "    geo_data_1 = pd.read_csv('/datasets/geo_data_1.csv')\n",
    "    geo_data_2 = pd.read_csv('/datasets/geo_data_2.csv')\n",
    "except:\n",
    "    display('Данные не найдены')"
   ]
  },
  {
   "cell_type": "code",
   "execution_count": 4,
   "metadata": {},
   "outputs": [],
   "source": [
    "# Функция для более полного вывода информации одной строкой\n",
    "def get_data_info(data):\n",
    "    display(data.sample(5))\n",
    "    display(data.info())\n",
    "    display(data.describe(include='all'))\n",
    "    display('-----------')\n",
    "    display('Пропуски:')\n",
    "    display('-----------')\n",
    "    display(data.isna().sum())"
   ]
  },
  {
   "cell_type": "markdown",
   "metadata": {},
   "source": [
    "### Обхор данных"
   ]
  },
  {
   "cell_type": "code",
   "execution_count": 5,
   "metadata": {
    "scrolled": false
   },
   "outputs": [
    {
     "data": {
      "text/plain": [
       "'----------------------------------------------------------------------'"
      ]
     },
     "metadata": {},
     "output_type": "display_data"
    },
    {
     "data": {
      "text/plain": [
       "'Регион 0:'"
      ]
     },
     "metadata": {},
     "output_type": "display_data"
    },
    {
     "data": {
      "text/plain": [
       "'----------------------------------------------------------------------'"
      ]
     },
     "metadata": {},
     "output_type": "display_data"
    },
    {
     "data": {
      "text/html": [
       "<div>\n",
       "<style scoped>\n",
       "    .dataframe tbody tr th:only-of-type {\n",
       "        vertical-align: middle;\n",
       "    }\n",
       "\n",
       "    .dataframe tbody tr th {\n",
       "        vertical-align: top;\n",
       "    }\n",
       "\n",
       "    .dataframe thead th {\n",
       "        text-align: right;\n",
       "    }\n",
       "</style>\n",
       "<table border=\"1\" class=\"dataframe\">\n",
       "  <thead>\n",
       "    <tr style=\"text-align: right;\">\n",
       "      <th></th>\n",
       "      <th>id</th>\n",
       "      <th>f0</th>\n",
       "      <th>f1</th>\n",
       "      <th>f2</th>\n",
       "      <th>product</th>\n",
       "    </tr>\n",
       "  </thead>\n",
       "  <tbody>\n",
       "    <tr>\n",
       "      <th>24568</th>\n",
       "      <td>ChQc4</td>\n",
       "      <td>1.381276</td>\n",
       "      <td>-0.331311</td>\n",
       "      <td>-3.757827</td>\n",
       "      <td>83.179569</td>\n",
       "    </tr>\n",
       "    <tr>\n",
       "      <th>87902</th>\n",
       "      <td>kzYxx</td>\n",
       "      <td>0.765205</td>\n",
       "      <td>-0.299760</td>\n",
       "      <td>0.986380</td>\n",
       "      <td>105.590386</td>\n",
       "    </tr>\n",
       "    <tr>\n",
       "      <th>2428</th>\n",
       "      <td>YdQaa</td>\n",
       "      <td>-0.788354</td>\n",
       "      <td>0.596382</td>\n",
       "      <td>7.814616</td>\n",
       "      <td>108.719254</td>\n",
       "    </tr>\n",
       "    <tr>\n",
       "      <th>68525</th>\n",
       "      <td>69Xnn</td>\n",
       "      <td>0.751717</td>\n",
       "      <td>0.855658</td>\n",
       "      <td>1.347325</td>\n",
       "      <td>105.080697</td>\n",
       "    </tr>\n",
       "    <tr>\n",
       "      <th>6259</th>\n",
       "      <td>SAgM9</td>\n",
       "      <td>1.142591</td>\n",
       "      <td>-0.023623</td>\n",
       "      <td>-1.132194</td>\n",
       "      <td>2.568577</td>\n",
       "    </tr>\n",
       "  </tbody>\n",
       "</table>\n",
       "</div>"
      ],
      "text/plain": [
       "          id        f0        f1        f2     product\n",
       "24568  ChQc4  1.381276 -0.331311 -3.757827   83.179569\n",
       "87902  kzYxx  0.765205 -0.299760  0.986380  105.590386\n",
       "2428   YdQaa -0.788354  0.596382  7.814616  108.719254\n",
       "68525  69Xnn  0.751717  0.855658  1.347325  105.080697\n",
       "6259   SAgM9  1.142591 -0.023623 -1.132194    2.568577"
      ]
     },
     "metadata": {},
     "output_type": "display_data"
    },
    {
     "name": "stdout",
     "output_type": "stream",
     "text": [
      "<class 'pandas.core.frame.DataFrame'>\n",
      "RangeIndex: 100000 entries, 0 to 99999\n",
      "Data columns (total 5 columns):\n",
      " #   Column   Non-Null Count   Dtype  \n",
      "---  ------   --------------   -----  \n",
      " 0   id       100000 non-null  object \n",
      " 1   f0       100000 non-null  float64\n",
      " 2   f1       100000 non-null  float64\n",
      " 3   f2       100000 non-null  float64\n",
      " 4   product  100000 non-null  float64\n",
      "dtypes: float64(4), object(1)\n",
      "memory usage: 3.8+ MB\n"
     ]
    },
    {
     "data": {
      "text/plain": [
       "None"
      ]
     },
     "metadata": {},
     "output_type": "display_data"
    },
    {
     "data": {
      "text/html": [
       "<div>\n",
       "<style scoped>\n",
       "    .dataframe tbody tr th:only-of-type {\n",
       "        vertical-align: middle;\n",
       "    }\n",
       "\n",
       "    .dataframe tbody tr th {\n",
       "        vertical-align: top;\n",
       "    }\n",
       "\n",
       "    .dataframe thead th {\n",
       "        text-align: right;\n",
       "    }\n",
       "</style>\n",
       "<table border=\"1\" class=\"dataframe\">\n",
       "  <thead>\n",
       "    <tr style=\"text-align: right;\">\n",
       "      <th></th>\n",
       "      <th>id</th>\n",
       "      <th>f0</th>\n",
       "      <th>f1</th>\n",
       "      <th>f2</th>\n",
       "      <th>product</th>\n",
       "    </tr>\n",
       "  </thead>\n",
       "  <tbody>\n",
       "    <tr>\n",
       "      <th>count</th>\n",
       "      <td>100000</td>\n",
       "      <td>100000.000000</td>\n",
       "      <td>100000.000000</td>\n",
       "      <td>100000.000000</td>\n",
       "      <td>100000.000000</td>\n",
       "    </tr>\n",
       "    <tr>\n",
       "      <th>unique</th>\n",
       "      <td>99990</td>\n",
       "      <td>NaN</td>\n",
       "      <td>NaN</td>\n",
       "      <td>NaN</td>\n",
       "      <td>NaN</td>\n",
       "    </tr>\n",
       "    <tr>\n",
       "      <th>top</th>\n",
       "      <td>74z30</td>\n",
       "      <td>NaN</td>\n",
       "      <td>NaN</td>\n",
       "      <td>NaN</td>\n",
       "      <td>NaN</td>\n",
       "    </tr>\n",
       "    <tr>\n",
       "      <th>freq</th>\n",
       "      <td>2</td>\n",
       "      <td>NaN</td>\n",
       "      <td>NaN</td>\n",
       "      <td>NaN</td>\n",
       "      <td>NaN</td>\n",
       "    </tr>\n",
       "    <tr>\n",
       "      <th>mean</th>\n",
       "      <td>NaN</td>\n",
       "      <td>0.500419</td>\n",
       "      <td>0.250143</td>\n",
       "      <td>2.502647</td>\n",
       "      <td>92.500000</td>\n",
       "    </tr>\n",
       "    <tr>\n",
       "      <th>std</th>\n",
       "      <td>NaN</td>\n",
       "      <td>0.871832</td>\n",
       "      <td>0.504433</td>\n",
       "      <td>3.248248</td>\n",
       "      <td>44.288691</td>\n",
       "    </tr>\n",
       "    <tr>\n",
       "      <th>min</th>\n",
       "      <td>NaN</td>\n",
       "      <td>-1.408605</td>\n",
       "      <td>-0.848218</td>\n",
       "      <td>-12.088328</td>\n",
       "      <td>0.000000</td>\n",
       "    </tr>\n",
       "    <tr>\n",
       "      <th>25%</th>\n",
       "      <td>NaN</td>\n",
       "      <td>-0.072580</td>\n",
       "      <td>-0.200881</td>\n",
       "      <td>0.287748</td>\n",
       "      <td>56.497507</td>\n",
       "    </tr>\n",
       "    <tr>\n",
       "      <th>50%</th>\n",
       "      <td>NaN</td>\n",
       "      <td>0.502360</td>\n",
       "      <td>0.250252</td>\n",
       "      <td>2.515969</td>\n",
       "      <td>91.849972</td>\n",
       "    </tr>\n",
       "    <tr>\n",
       "      <th>75%</th>\n",
       "      <td>NaN</td>\n",
       "      <td>1.073581</td>\n",
       "      <td>0.700646</td>\n",
       "      <td>4.715088</td>\n",
       "      <td>128.564089</td>\n",
       "    </tr>\n",
       "    <tr>\n",
       "      <th>max</th>\n",
       "      <td>NaN</td>\n",
       "      <td>2.362331</td>\n",
       "      <td>1.343769</td>\n",
       "      <td>16.003790</td>\n",
       "      <td>185.364347</td>\n",
       "    </tr>\n",
       "  </tbody>\n",
       "</table>\n",
       "</div>"
      ],
      "text/plain": [
       "            id             f0             f1             f2        product\n",
       "count   100000  100000.000000  100000.000000  100000.000000  100000.000000\n",
       "unique   99990            NaN            NaN            NaN            NaN\n",
       "top      74z30            NaN            NaN            NaN            NaN\n",
       "freq         2            NaN            NaN            NaN            NaN\n",
       "mean       NaN       0.500419       0.250143       2.502647      92.500000\n",
       "std        NaN       0.871832       0.504433       3.248248      44.288691\n",
       "min        NaN      -1.408605      -0.848218     -12.088328       0.000000\n",
       "25%        NaN      -0.072580      -0.200881       0.287748      56.497507\n",
       "50%        NaN       0.502360       0.250252       2.515969      91.849972\n",
       "75%        NaN       1.073581       0.700646       4.715088     128.564089\n",
       "max        NaN       2.362331       1.343769      16.003790     185.364347"
      ]
     },
     "metadata": {},
     "output_type": "display_data"
    },
    {
     "data": {
      "text/plain": [
       "'-----------'"
      ]
     },
     "metadata": {},
     "output_type": "display_data"
    },
    {
     "data": {
      "text/plain": [
       "'Пропуски:'"
      ]
     },
     "metadata": {},
     "output_type": "display_data"
    },
    {
     "data": {
      "text/plain": [
       "'-----------'"
      ]
     },
     "metadata": {},
     "output_type": "display_data"
    },
    {
     "data": {
      "text/plain": [
       "id         0\n",
       "f0         0\n",
       "f1         0\n",
       "f2         0\n",
       "product    0\n",
       "dtype: int64"
      ]
     },
     "metadata": {},
     "output_type": "display_data"
    },
    {
     "data": {
      "text/plain": [
       "'----------------------------------------------------------------------'"
      ]
     },
     "metadata": {},
     "output_type": "display_data"
    },
    {
     "data": {
      "text/plain": [
       "'Регион 1:'"
      ]
     },
     "metadata": {},
     "output_type": "display_data"
    },
    {
     "data": {
      "text/plain": [
       "'----------------------------------------------------------------------'"
      ]
     },
     "metadata": {},
     "output_type": "display_data"
    },
    {
     "data": {
      "text/html": [
       "<div>\n",
       "<style scoped>\n",
       "    .dataframe tbody tr th:only-of-type {\n",
       "        vertical-align: middle;\n",
       "    }\n",
       "\n",
       "    .dataframe tbody tr th {\n",
       "        vertical-align: top;\n",
       "    }\n",
       "\n",
       "    .dataframe thead th {\n",
       "        text-align: right;\n",
       "    }\n",
       "</style>\n",
       "<table border=\"1\" class=\"dataframe\">\n",
       "  <thead>\n",
       "    <tr style=\"text-align: right;\">\n",
       "      <th></th>\n",
       "      <th>id</th>\n",
       "      <th>f0</th>\n",
       "      <th>f1</th>\n",
       "      <th>f2</th>\n",
       "      <th>product</th>\n",
       "    </tr>\n",
       "  </thead>\n",
       "  <tbody>\n",
       "    <tr>\n",
       "      <th>70006</th>\n",
       "      <td>LSk2g</td>\n",
       "      <td>7.913429</td>\n",
       "      <td>-0.014977</td>\n",
       "      <td>0.000007</td>\n",
       "      <td>0.000000</td>\n",
       "    </tr>\n",
       "    <tr>\n",
       "      <th>66724</th>\n",
       "      <td>I544s</td>\n",
       "      <td>0.359719</td>\n",
       "      <td>-3.381802</td>\n",
       "      <td>-0.001173</td>\n",
       "      <td>0.000000</td>\n",
       "    </tr>\n",
       "    <tr>\n",
       "      <th>17686</th>\n",
       "      <td>6MIBt</td>\n",
       "      <td>8.904811</td>\n",
       "      <td>-5.656539</td>\n",
       "      <td>3.007900</td>\n",
       "      <td>80.859783</td>\n",
       "    </tr>\n",
       "    <tr>\n",
       "      <th>8078</th>\n",
       "      <td>CUWOH</td>\n",
       "      <td>-6.268780</td>\n",
       "      <td>-10.600521</td>\n",
       "      <td>0.003575</td>\n",
       "      <td>3.179103</td>\n",
       "    </tr>\n",
       "    <tr>\n",
       "      <th>81570</th>\n",
       "      <td>4iIZ8</td>\n",
       "      <td>-3.764586</td>\n",
       "      <td>-7.430904</td>\n",
       "      <td>0.999835</td>\n",
       "      <td>30.132364</td>\n",
       "    </tr>\n",
       "  </tbody>\n",
       "</table>\n",
       "</div>"
      ],
      "text/plain": [
       "          id        f0         f1        f2    product\n",
       "70006  LSk2g  7.913429  -0.014977  0.000007   0.000000\n",
       "66724  I544s  0.359719  -3.381802 -0.001173   0.000000\n",
       "17686  6MIBt  8.904811  -5.656539  3.007900  80.859783\n",
       "8078   CUWOH -6.268780 -10.600521  0.003575   3.179103\n",
       "81570  4iIZ8 -3.764586  -7.430904  0.999835  30.132364"
      ]
     },
     "metadata": {},
     "output_type": "display_data"
    },
    {
     "name": "stdout",
     "output_type": "stream",
     "text": [
      "<class 'pandas.core.frame.DataFrame'>\n",
      "RangeIndex: 100000 entries, 0 to 99999\n",
      "Data columns (total 5 columns):\n",
      " #   Column   Non-Null Count   Dtype  \n",
      "---  ------   --------------   -----  \n",
      " 0   id       100000 non-null  object \n",
      " 1   f0       100000 non-null  float64\n",
      " 2   f1       100000 non-null  float64\n",
      " 3   f2       100000 non-null  float64\n",
      " 4   product  100000 non-null  float64\n",
      "dtypes: float64(4), object(1)\n",
      "memory usage: 3.8+ MB\n"
     ]
    },
    {
     "data": {
      "text/plain": [
       "None"
      ]
     },
     "metadata": {},
     "output_type": "display_data"
    },
    {
     "data": {
      "text/html": [
       "<div>\n",
       "<style scoped>\n",
       "    .dataframe tbody tr th:only-of-type {\n",
       "        vertical-align: middle;\n",
       "    }\n",
       "\n",
       "    .dataframe tbody tr th {\n",
       "        vertical-align: top;\n",
       "    }\n",
       "\n",
       "    .dataframe thead th {\n",
       "        text-align: right;\n",
       "    }\n",
       "</style>\n",
       "<table border=\"1\" class=\"dataframe\">\n",
       "  <thead>\n",
       "    <tr style=\"text-align: right;\">\n",
       "      <th></th>\n",
       "      <th>id</th>\n",
       "      <th>f0</th>\n",
       "      <th>f1</th>\n",
       "      <th>f2</th>\n",
       "      <th>product</th>\n",
       "    </tr>\n",
       "  </thead>\n",
       "  <tbody>\n",
       "    <tr>\n",
       "      <th>count</th>\n",
       "      <td>100000</td>\n",
       "      <td>100000.000000</td>\n",
       "      <td>100000.000000</td>\n",
       "      <td>100000.000000</td>\n",
       "      <td>100000.000000</td>\n",
       "    </tr>\n",
       "    <tr>\n",
       "      <th>unique</th>\n",
       "      <td>99996</td>\n",
       "      <td>NaN</td>\n",
       "      <td>NaN</td>\n",
       "      <td>NaN</td>\n",
       "      <td>NaN</td>\n",
       "    </tr>\n",
       "    <tr>\n",
       "      <th>top</th>\n",
       "      <td>5ltQ6</td>\n",
       "      <td>NaN</td>\n",
       "      <td>NaN</td>\n",
       "      <td>NaN</td>\n",
       "      <td>NaN</td>\n",
       "    </tr>\n",
       "    <tr>\n",
       "      <th>freq</th>\n",
       "      <td>2</td>\n",
       "      <td>NaN</td>\n",
       "      <td>NaN</td>\n",
       "      <td>NaN</td>\n",
       "      <td>NaN</td>\n",
       "    </tr>\n",
       "    <tr>\n",
       "      <th>mean</th>\n",
       "      <td>NaN</td>\n",
       "      <td>1.141296</td>\n",
       "      <td>-4.796579</td>\n",
       "      <td>2.494541</td>\n",
       "      <td>68.825000</td>\n",
       "    </tr>\n",
       "    <tr>\n",
       "      <th>std</th>\n",
       "      <td>NaN</td>\n",
       "      <td>8.965932</td>\n",
       "      <td>5.119872</td>\n",
       "      <td>1.703572</td>\n",
       "      <td>45.944423</td>\n",
       "    </tr>\n",
       "    <tr>\n",
       "      <th>min</th>\n",
       "      <td>NaN</td>\n",
       "      <td>-31.609576</td>\n",
       "      <td>-26.358598</td>\n",
       "      <td>-0.018144</td>\n",
       "      <td>0.000000</td>\n",
       "    </tr>\n",
       "    <tr>\n",
       "      <th>25%</th>\n",
       "      <td>NaN</td>\n",
       "      <td>-6.298551</td>\n",
       "      <td>-8.267985</td>\n",
       "      <td>1.000021</td>\n",
       "      <td>26.953261</td>\n",
       "    </tr>\n",
       "    <tr>\n",
       "      <th>50%</th>\n",
       "      <td>NaN</td>\n",
       "      <td>1.153055</td>\n",
       "      <td>-4.813172</td>\n",
       "      <td>2.011479</td>\n",
       "      <td>57.085625</td>\n",
       "    </tr>\n",
       "    <tr>\n",
       "      <th>75%</th>\n",
       "      <td>NaN</td>\n",
       "      <td>8.621015</td>\n",
       "      <td>-1.332816</td>\n",
       "      <td>3.999904</td>\n",
       "      <td>107.813044</td>\n",
       "    </tr>\n",
       "    <tr>\n",
       "      <th>max</th>\n",
       "      <td>NaN</td>\n",
       "      <td>29.421755</td>\n",
       "      <td>18.734063</td>\n",
       "      <td>5.019721</td>\n",
       "      <td>137.945408</td>\n",
       "    </tr>\n",
       "  </tbody>\n",
       "</table>\n",
       "</div>"
      ],
      "text/plain": [
       "            id             f0             f1             f2        product\n",
       "count   100000  100000.000000  100000.000000  100000.000000  100000.000000\n",
       "unique   99996            NaN            NaN            NaN            NaN\n",
       "top      5ltQ6            NaN            NaN            NaN            NaN\n",
       "freq         2            NaN            NaN            NaN            NaN\n",
       "mean       NaN       1.141296      -4.796579       2.494541      68.825000\n",
       "std        NaN       8.965932       5.119872       1.703572      45.944423\n",
       "min        NaN     -31.609576     -26.358598      -0.018144       0.000000\n",
       "25%        NaN      -6.298551      -8.267985       1.000021      26.953261\n",
       "50%        NaN       1.153055      -4.813172       2.011479      57.085625\n",
       "75%        NaN       8.621015      -1.332816       3.999904     107.813044\n",
       "max        NaN      29.421755      18.734063       5.019721     137.945408"
      ]
     },
     "metadata": {},
     "output_type": "display_data"
    },
    {
     "data": {
      "text/plain": [
       "'-----------'"
      ]
     },
     "metadata": {},
     "output_type": "display_data"
    },
    {
     "data": {
      "text/plain": [
       "'Пропуски:'"
      ]
     },
     "metadata": {},
     "output_type": "display_data"
    },
    {
     "data": {
      "text/plain": [
       "'-----------'"
      ]
     },
     "metadata": {},
     "output_type": "display_data"
    },
    {
     "data": {
      "text/plain": [
       "id         0\n",
       "f0         0\n",
       "f1         0\n",
       "f2         0\n",
       "product    0\n",
       "dtype: int64"
      ]
     },
     "metadata": {},
     "output_type": "display_data"
    },
    {
     "data": {
      "text/plain": [
       "'----------------------------------------------------------------------'"
      ]
     },
     "metadata": {},
     "output_type": "display_data"
    },
    {
     "data": {
      "text/plain": [
       "'Регион 2:'"
      ]
     },
     "metadata": {},
     "output_type": "display_data"
    },
    {
     "data": {
      "text/plain": [
       "'----------------------------------------------------------------------'"
      ]
     },
     "metadata": {},
     "output_type": "display_data"
    },
    {
     "data": {
      "text/html": [
       "<div>\n",
       "<style scoped>\n",
       "    .dataframe tbody tr th:only-of-type {\n",
       "        vertical-align: middle;\n",
       "    }\n",
       "\n",
       "    .dataframe tbody tr th {\n",
       "        vertical-align: top;\n",
       "    }\n",
       "\n",
       "    .dataframe thead th {\n",
       "        text-align: right;\n",
       "    }\n",
       "</style>\n",
       "<table border=\"1\" class=\"dataframe\">\n",
       "  <thead>\n",
       "    <tr style=\"text-align: right;\">\n",
       "      <th></th>\n",
       "      <th>id</th>\n",
       "      <th>f0</th>\n",
       "      <th>f1</th>\n",
       "      <th>f2</th>\n",
       "      <th>product</th>\n",
       "    </tr>\n",
       "  </thead>\n",
       "  <tbody>\n",
       "    <tr>\n",
       "      <th>85665</th>\n",
       "      <td>kUHXq</td>\n",
       "      <td>0.160400</td>\n",
       "      <td>0.898625</td>\n",
       "      <td>3.670036</td>\n",
       "      <td>126.895017</td>\n",
       "    </tr>\n",
       "    <tr>\n",
       "      <th>80758</th>\n",
       "      <td>w9U9k</td>\n",
       "      <td>0.270102</td>\n",
       "      <td>-0.622914</td>\n",
       "      <td>1.008286</td>\n",
       "      <td>48.724030</td>\n",
       "    </tr>\n",
       "    <tr>\n",
       "      <th>67029</th>\n",
       "      <td>N0Meq</td>\n",
       "      <td>-0.106355</td>\n",
       "      <td>-2.367477</td>\n",
       "      <td>2.672146</td>\n",
       "      <td>94.450266</td>\n",
       "    </tr>\n",
       "    <tr>\n",
       "      <th>30892</th>\n",
       "      <td>UnLCW</td>\n",
       "      <td>1.235423</td>\n",
       "      <td>-0.036162</td>\n",
       "      <td>-1.227888</td>\n",
       "      <td>55.108093</td>\n",
       "    </tr>\n",
       "    <tr>\n",
       "      <th>65777</th>\n",
       "      <td>jDRKZ</td>\n",
       "      <td>-1.070858</td>\n",
       "      <td>-0.975465</td>\n",
       "      <td>5.141407</td>\n",
       "      <td>117.484018</td>\n",
       "    </tr>\n",
       "  </tbody>\n",
       "</table>\n",
       "</div>"
      ],
      "text/plain": [
       "          id        f0        f1        f2     product\n",
       "85665  kUHXq  0.160400  0.898625  3.670036  126.895017\n",
       "80758  w9U9k  0.270102 -0.622914  1.008286   48.724030\n",
       "67029  N0Meq -0.106355 -2.367477  2.672146   94.450266\n",
       "30892  UnLCW  1.235423 -0.036162 -1.227888   55.108093\n",
       "65777  jDRKZ -1.070858 -0.975465  5.141407  117.484018"
      ]
     },
     "metadata": {},
     "output_type": "display_data"
    },
    {
     "name": "stdout",
     "output_type": "stream",
     "text": [
      "<class 'pandas.core.frame.DataFrame'>\n",
      "RangeIndex: 100000 entries, 0 to 99999\n",
      "Data columns (total 5 columns):\n",
      " #   Column   Non-Null Count   Dtype  \n",
      "---  ------   --------------   -----  \n",
      " 0   id       100000 non-null  object \n",
      " 1   f0       100000 non-null  float64\n",
      " 2   f1       100000 non-null  float64\n",
      " 3   f2       100000 non-null  float64\n",
      " 4   product  100000 non-null  float64\n",
      "dtypes: float64(4), object(1)\n",
      "memory usage: 3.8+ MB\n"
     ]
    },
    {
     "data": {
      "text/plain": [
       "None"
      ]
     },
     "metadata": {},
     "output_type": "display_data"
    },
    {
     "data": {
      "text/html": [
       "<div>\n",
       "<style scoped>\n",
       "    .dataframe tbody tr th:only-of-type {\n",
       "        vertical-align: middle;\n",
       "    }\n",
       "\n",
       "    .dataframe tbody tr th {\n",
       "        vertical-align: top;\n",
       "    }\n",
       "\n",
       "    .dataframe thead th {\n",
       "        text-align: right;\n",
       "    }\n",
       "</style>\n",
       "<table border=\"1\" class=\"dataframe\">\n",
       "  <thead>\n",
       "    <tr style=\"text-align: right;\">\n",
       "      <th></th>\n",
       "      <th>id</th>\n",
       "      <th>f0</th>\n",
       "      <th>f1</th>\n",
       "      <th>f2</th>\n",
       "      <th>product</th>\n",
       "    </tr>\n",
       "  </thead>\n",
       "  <tbody>\n",
       "    <tr>\n",
       "      <th>count</th>\n",
       "      <td>100000</td>\n",
       "      <td>100000.000000</td>\n",
       "      <td>100000.000000</td>\n",
       "      <td>100000.000000</td>\n",
       "      <td>100000.000000</td>\n",
       "    </tr>\n",
       "    <tr>\n",
       "      <th>unique</th>\n",
       "      <td>99996</td>\n",
       "      <td>NaN</td>\n",
       "      <td>NaN</td>\n",
       "      <td>NaN</td>\n",
       "      <td>NaN</td>\n",
       "    </tr>\n",
       "    <tr>\n",
       "      <th>top</th>\n",
       "      <td>xCHr8</td>\n",
       "      <td>NaN</td>\n",
       "      <td>NaN</td>\n",
       "      <td>NaN</td>\n",
       "      <td>NaN</td>\n",
       "    </tr>\n",
       "    <tr>\n",
       "      <th>freq</th>\n",
       "      <td>2</td>\n",
       "      <td>NaN</td>\n",
       "      <td>NaN</td>\n",
       "      <td>NaN</td>\n",
       "      <td>NaN</td>\n",
       "    </tr>\n",
       "    <tr>\n",
       "      <th>mean</th>\n",
       "      <td>NaN</td>\n",
       "      <td>0.002023</td>\n",
       "      <td>-0.002081</td>\n",
       "      <td>2.495128</td>\n",
       "      <td>95.000000</td>\n",
       "    </tr>\n",
       "    <tr>\n",
       "      <th>std</th>\n",
       "      <td>NaN</td>\n",
       "      <td>1.732045</td>\n",
       "      <td>1.730417</td>\n",
       "      <td>3.473445</td>\n",
       "      <td>44.749921</td>\n",
       "    </tr>\n",
       "    <tr>\n",
       "      <th>min</th>\n",
       "      <td>NaN</td>\n",
       "      <td>-8.760004</td>\n",
       "      <td>-7.084020</td>\n",
       "      <td>-11.970335</td>\n",
       "      <td>0.000000</td>\n",
       "    </tr>\n",
       "    <tr>\n",
       "      <th>25%</th>\n",
       "      <td>NaN</td>\n",
       "      <td>-1.162288</td>\n",
       "      <td>-1.174820</td>\n",
       "      <td>0.130359</td>\n",
       "      <td>59.450441</td>\n",
       "    </tr>\n",
       "    <tr>\n",
       "      <th>50%</th>\n",
       "      <td>NaN</td>\n",
       "      <td>0.009424</td>\n",
       "      <td>-0.009482</td>\n",
       "      <td>2.484236</td>\n",
       "      <td>94.925613</td>\n",
       "    </tr>\n",
       "    <tr>\n",
       "      <th>75%</th>\n",
       "      <td>NaN</td>\n",
       "      <td>1.158535</td>\n",
       "      <td>1.163678</td>\n",
       "      <td>4.858794</td>\n",
       "      <td>130.595027</td>\n",
       "    </tr>\n",
       "    <tr>\n",
       "      <th>max</th>\n",
       "      <td>NaN</td>\n",
       "      <td>7.238262</td>\n",
       "      <td>7.844801</td>\n",
       "      <td>16.739402</td>\n",
       "      <td>190.029838</td>\n",
       "    </tr>\n",
       "  </tbody>\n",
       "</table>\n",
       "</div>"
      ],
      "text/plain": [
       "            id             f0             f1             f2        product\n",
       "count   100000  100000.000000  100000.000000  100000.000000  100000.000000\n",
       "unique   99996            NaN            NaN            NaN            NaN\n",
       "top      xCHr8            NaN            NaN            NaN            NaN\n",
       "freq         2            NaN            NaN            NaN            NaN\n",
       "mean       NaN       0.002023      -0.002081       2.495128      95.000000\n",
       "std        NaN       1.732045       1.730417       3.473445      44.749921\n",
       "min        NaN      -8.760004      -7.084020     -11.970335       0.000000\n",
       "25%        NaN      -1.162288      -1.174820       0.130359      59.450441\n",
       "50%        NaN       0.009424      -0.009482       2.484236      94.925613\n",
       "75%        NaN       1.158535       1.163678       4.858794     130.595027\n",
       "max        NaN       7.238262       7.844801      16.739402     190.029838"
      ]
     },
     "metadata": {},
     "output_type": "display_data"
    },
    {
     "data": {
      "text/plain": [
       "'-----------'"
      ]
     },
     "metadata": {},
     "output_type": "display_data"
    },
    {
     "data": {
      "text/plain": [
       "'Пропуски:'"
      ]
     },
     "metadata": {},
     "output_type": "display_data"
    },
    {
     "data": {
      "text/plain": [
       "'-----------'"
      ]
     },
     "metadata": {},
     "output_type": "display_data"
    },
    {
     "data": {
      "text/plain": [
       "id         0\n",
       "f0         0\n",
       "f1         0\n",
       "f2         0\n",
       "product    0\n",
       "dtype: int64"
      ]
     },
     "metadata": {},
     "output_type": "display_data"
    }
   ],
   "source": [
    "display('----------------------------------------------------------------------')\n",
    "display('Регион 0:', '----------------------------------------------------------------------')\n",
    "get_data_info(geo_data_0)\n",
    "display('----------------------------------------------------------------------')\n",
    "display('Регион 1:', '----------------------------------------------------------------------')\n",
    "get_data_info(geo_data_1)\n",
    "display('----------------------------------------------------------------------')\n",
    "display('Регион 2:', '----------------------------------------------------------------------')\n",
    "get_data_info(geo_data_2)"
   ]
  },
  {
   "cell_type": "code",
   "execution_count": 6,
   "metadata": {},
   "outputs": [],
   "source": [
    "def get_corr_heatmap(df): \n",
    "    num_features = df.select_dtypes(include=['float64', 'int64']).columns.tolist()\n",
    "    df_num = df[num_features]\n",
    "    \n",
    "    corr = df.corr()\n",
    "\n",
    "    plt.figure(figsize=(12, 8))  \n",
    "\n",
    "    sns.heatmap(corr, annot=True)  \n",
    "\n",
    "    plt.show()  \n"
   ]
  },
  {
   "cell_type": "code",
   "execution_count": 7,
   "metadata": {},
   "outputs": [
    {
     "data": {
      "image/png": "[encoded data removed]",
      "text/plain": [
       "<Figure size 864x576 with 2 Axes>"
      ]
     },
     "metadata": {
      "needs_background": "light"
     },
     "output_type": "display_data"
    }
   ],
   "source": [
    "get_corr_heatmap(geo_data_0)"
   ]
  },
  {
   "cell_type": "markdown",
   "metadata": {},
   "source": [
    "### Масштабирование данных"
   ]
  },
  {
   "cell_type": "markdown",
   "metadata": {},
   "source": [
    "#### Регион 0"
   ]
  },
  {
   "cell_type": "code",
   "execution_count": 8,
   "metadata": {},
   "outputs": [],
   "source": [
    "# Разделение на выборки\n",
    "features_0 = geo_data_0.drop(['product', 'id'], axis=1)\n",
    "target_0 = geo_data_0['product']\n",
    "\n",
    "features_train_0, features_valid_0, target_train_0, target_valid_0 = train_test_split(\n",
    "    features_0, target_0, test_size=0.25, random_state=RANDOM_STATE\n",
    ")"
   ]
  },
  {
   "cell_type": "code",
   "execution_count": 9,
   "metadata": {
    "scrolled": true
   },
   "outputs": [
    {
     "data": {
      "text/plain": [
       "(75000, 3)"
      ]
     },
     "metadata": {},
     "output_type": "display_data"
    },
    {
     "data": {
      "text/plain": [
       "(25000, 3)"
      ]
     },
     "metadata": {},
     "output_type": "display_data"
    }
   ],
   "source": [
    "display(features_train_0.shape, features_valid_0.shape)"
   ]
  },
  {
   "cell_type": "code",
   "execution_count": 10,
   "metadata": {},
   "outputs": [
    {
     "data": {
      "image/png": "[encoded data removed]",
      "text/plain": [
       "<Figure size 648x288 with 1 Axes>"
      ]
     },
     "metadata": {
      "needs_background": "light"
     },
     "output_type": "display_data"
    }
   ],
   "source": [
    "features_train_0.boxplot(vert = False, figsize=(9, 4));"
   ]
  },
  {
   "cell_type": "markdown",
   "metadata": {},
   "source": [
    "Большое количество выбросов в признаке f2, значит, буду использовать стандартизацию, она менее чувствительна к выбросам"
   ]
  },
  {
   "cell_type": "code",
   "execution_count": 11,
   "metadata": {},
   "outputs": [],
   "source": [
    "# Масшатабирование\n",
    "scaler_0 = StandardScaler()\n",
    "numeric = features_train_0.columns\n",
    "\n",
    "scaler_0.fit(features_train_0[numeric])\n",
    "\n",
    "features_train_0[numeric] = scaler_0.transform(features_train_0[numeric])\n",
    "features_valid_0[numeric] = scaler_0.transform(features_valid_0[numeric])"
   ]
  },
  {
   "cell_type": "code",
   "execution_count": 12,
   "metadata": {},
   "outputs": [
    {
     "data": {
      "text/html": [
       "<div>\n",
       "<style scoped>\n",
       "    .dataframe tbody tr th:only-of-type {\n",
       "        vertical-align: middle;\n",
       "    }\n",
       "\n",
       "    .dataframe tbody tr th {\n",
       "        vertical-align: top;\n",
       "    }\n",
       "\n",
       "    .dataframe thead th {\n",
       "        text-align: right;\n",
       "    }\n",
       "</style>\n",
       "<table border=\"1\" class=\"dataframe\">\n",
       "  <thead>\n",
       "    <tr style=\"text-align: right;\">\n",
       "      <th></th>\n",
       "      <th>f0</th>\n",
       "      <th>f1</th>\n",
       "      <th>f2</th>\n",
       "    </tr>\n",
       "  </thead>\n",
       "  <tbody>\n",
       "    <tr>\n",
       "      <th>1240</th>\n",
       "      <td>0.135047</td>\n",
       "      <td>-1.418404</td>\n",
       "      <td>-0.341502</td>\n",
       "    </tr>\n",
       "    <tr>\n",
       "      <th>90593</th>\n",
       "      <td>0.103940</td>\n",
       "      <td>-1.338424</td>\n",
       "      <td>-0.546315</td>\n",
       "    </tr>\n",
       "    <tr>\n",
       "      <th>73055</th>\n",
       "      <td>-0.555157</td>\n",
       "      <td>0.262769</td>\n",
       "      <td>-0.162768</td>\n",
       "    </tr>\n",
       "    <tr>\n",
       "      <th>27446</th>\n",
       "      <td>-0.790703</td>\n",
       "      <td>1.259564</td>\n",
       "      <td>-0.289128</td>\n",
       "    </tr>\n",
       "    <tr>\n",
       "      <th>52526</th>\n",
       "      <td>-1.046686</td>\n",
       "      <td>1.372940</td>\n",
       "      <td>-0.971353</td>\n",
       "    </tr>\n",
       "    <tr>\n",
       "      <th>...</th>\n",
       "      <td>...</td>\n",
       "      <td>...</td>\n",
       "      <td>...</td>\n",
       "    </tr>\n",
       "    <tr>\n",
       "      <th>41131</th>\n",
       "      <td>1.801898</td>\n",
       "      <td>0.335665</td>\n",
       "      <td>-0.740011</td>\n",
       "    </tr>\n",
       "    <tr>\n",
       "      <th>36408</th>\n",
       "      <td>-1.297860</td>\n",
       "      <td>1.088154</td>\n",
       "      <td>-0.290748</td>\n",
       "    </tr>\n",
       "    <tr>\n",
       "      <th>53746</th>\n",
       "      <td>1.192117</td>\n",
       "      <td>-1.254196</td>\n",
       "      <td>1.512526</td>\n",
       "    </tr>\n",
       "    <tr>\n",
       "      <th>88810</th>\n",
       "      <td>0.082569</td>\n",
       "      <td>-1.168989</td>\n",
       "      <td>-0.606083</td>\n",
       "    </tr>\n",
       "    <tr>\n",
       "      <th>71745</th>\n",
       "      <td>1.705072</td>\n",
       "      <td>0.160854</td>\n",
       "      <td>-0.436839</td>\n",
       "    </tr>\n",
       "  </tbody>\n",
       "</table>\n",
       "<p>75000 rows × 3 columns</p>\n",
       "</div>"
      ],
      "text/plain": [
       "             f0        f1        f2\n",
       "1240   0.135047 -1.418404 -0.341502\n",
       "90593  0.103940 -1.338424 -0.546315\n",
       "73055 -0.555157  0.262769 -0.162768\n",
       "27446 -0.790703  1.259564 -0.289128\n",
       "52526 -1.046686  1.372940 -0.971353\n",
       "...         ...       ...       ...\n",
       "41131  1.801898  0.335665 -0.740011\n",
       "36408 -1.297860  1.088154 -0.290748\n",
       "53746  1.192117 -1.254196  1.512526\n",
       "88810  0.082569 -1.168989 -0.606083\n",
       "71745  1.705072  0.160854 -0.436839\n",
       "\n",
       "[75000 rows x 3 columns]"
      ]
     },
     "execution_count": 12,
     "metadata": {},
     "output_type": "execute_result"
    }
   ],
   "source": [
    "features_train_0"
   ]
  },
  {
   "cell_type": "markdown",
   "metadata": {},
   "source": [
    "#### Регион 1"
   ]
  },
  {
   "cell_type": "code",
   "execution_count": 13,
   "metadata": {},
   "outputs": [],
   "source": [
    "# Разделение на выборки\n",
    "features_1 = geo_data_1.drop(['product', 'id'], axis=1)\n",
    "target_1 = geo_data_1['product']\n",
    "\n",
    "features_train_1, features_valid_1, target_train_1, target_valid_1 = train_test_split(\n",
    "    features_1, target_1, test_size=0.25, random_state=RANDOM_STATE\n",
    ")"
   ]
  },
  {
   "cell_type": "code",
   "execution_count": 14,
   "metadata": {
    "scrolled": true
   },
   "outputs": [
    {
     "data": {
      "text/plain": [
       "(75000, 3)"
      ]
     },
     "metadata": {},
     "output_type": "display_data"
    },
    {
     "data": {
      "text/plain": [
       "(25000, 3)"
      ]
     },
     "metadata": {},
     "output_type": "display_data"
    }
   ],
   "source": [
    "display(features_train_1.shape, features_valid_1.shape)"
   ]
  },
  {
   "cell_type": "code",
   "execution_count": 15,
   "metadata": {},
   "outputs": [
    {
     "data": {
      "image/png": "[encoded data removed]",
      "text/plain": [
       "<Figure size 648x288 with 1 Axes>"
      ]
     },
     "metadata": {
      "needs_background": "light"
     },
     "output_type": "display_data"
    }
   ],
   "source": [
    "features_train_1.boxplot(vert = False, figsize=(9, 4));"
   ]
  },
  {
   "cell_type": "markdown",
   "metadata": {},
   "source": [
    "Большое количество выбросов в признаке f1, значит, буду использовать стандартизацию, она менее чувствительна к выбросам"
   ]
  },
  {
   "cell_type": "code",
   "execution_count": 16,
   "metadata": {},
   "outputs": [],
   "source": [
    "# Масшатабирование\n",
    "scaler_1 = StandardScaler()\n",
    "numeric = features_train_1.columns\n",
    "\n",
    "scaler_1.fit(features_train_1[numeric])\n",
    "\n",
    "features_train_1[numeric] = scaler_1.transform(features_train_1[numeric])\n",
    "features_valid_1[numeric] = scaler_1.transform(features_valid_1[numeric])"
   ]
  },
  {
   "cell_type": "code",
   "execution_count": 17,
   "metadata": {},
   "outputs": [
    {
     "data": {
      "text/html": [
       "<div>\n",
       "<style scoped>\n",
       "    .dataframe tbody tr th:only-of-type {\n",
       "        vertical-align: middle;\n",
       "    }\n",
       "\n",
       "    .dataframe tbody tr th {\n",
       "        vertical-align: top;\n",
       "    }\n",
       "\n",
       "    .dataframe thead th {\n",
       "        text-align: right;\n",
       "    }\n",
       "</style>\n",
       "<table border=\"1\" class=\"dataframe\">\n",
       "  <thead>\n",
       "    <tr style=\"text-align: right;\">\n",
       "      <th></th>\n",
       "      <th>f0</th>\n",
       "      <th>f1</th>\n",
       "      <th>f2</th>\n",
       "    </tr>\n",
       "  </thead>\n",
       "  <tbody>\n",
       "    <tr>\n",
       "      <th>1240</th>\n",
       "      <td>-0.087410</td>\n",
       "      <td>-0.745152</td>\n",
       "      <td>-0.288810</td>\n",
       "    </tr>\n",
       "    <tr>\n",
       "      <th>90593</th>\n",
       "      <td>1.263760</td>\n",
       "      <td>0.368282</td>\n",
       "      <td>0.298450</td>\n",
       "    </tr>\n",
       "    <tr>\n",
       "      <th>73055</th>\n",
       "      <td>0.716004</td>\n",
       "      <td>-0.063309</td>\n",
       "      <td>-1.459664</td>\n",
       "    </tr>\n",
       "    <tr>\n",
       "      <th>27446</th>\n",
       "      <td>-0.392727</td>\n",
       "      <td>1.536331</td>\n",
       "      <td>-1.464589</td>\n",
       "    </tr>\n",
       "    <tr>\n",
       "      <th>52526</th>\n",
       "      <td>0.100926</td>\n",
       "      <td>0.671689</td>\n",
       "      <td>0.299045</td>\n",
       "    </tr>\n",
       "    <tr>\n",
       "      <th>...</th>\n",
       "      <td>...</td>\n",
       "      <td>...</td>\n",
       "      <td>...</td>\n",
       "    </tr>\n",
       "    <tr>\n",
       "      <th>41131</th>\n",
       "      <td>0.367942</td>\n",
       "      <td>0.033941</td>\n",
       "      <td>0.880117</td>\n",
       "    </tr>\n",
       "    <tr>\n",
       "      <th>36408</th>\n",
       "      <td>-1.042698</td>\n",
       "      <td>1.129959</td>\n",
       "      <td>1.472102</td>\n",
       "    </tr>\n",
       "    <tr>\n",
       "      <th>53746</th>\n",
       "      <td>-1.510472</td>\n",
       "      <td>-1.599770</td>\n",
       "      <td>-0.874516</td>\n",
       "    </tr>\n",
       "    <tr>\n",
       "      <th>88810</th>\n",
       "      <td>0.598370</td>\n",
       "      <td>-1.371088</td>\n",
       "      <td>-1.457231</td>\n",
       "    </tr>\n",
       "    <tr>\n",
       "      <th>71745</th>\n",
       "      <td>-1.175352</td>\n",
       "      <td>-0.000434</td>\n",
       "      <td>-0.287305</td>\n",
       "    </tr>\n",
       "  </tbody>\n",
       "</table>\n",
       "<p>75000 rows × 3 columns</p>\n",
       "</div>"
      ],
      "text/plain": [
       "             f0        f1        f2\n",
       "1240  -0.087410 -0.745152 -0.288810\n",
       "90593  1.263760  0.368282  0.298450\n",
       "73055  0.716004 -0.063309 -1.459664\n",
       "27446 -0.392727  1.536331 -1.464589\n",
       "52526  0.100926  0.671689  0.299045\n",
       "...         ...       ...       ...\n",
       "41131  0.367942  0.033941  0.880117\n",
       "36408 -1.042698  1.129959  1.472102\n",
       "53746 -1.510472 -1.599770 -0.874516\n",
       "88810  0.598370 -1.371088 -1.457231\n",
       "71745 -1.175352 -0.000434 -0.287305\n",
       "\n",
       "[75000 rows x 3 columns]"
      ]
     },
     "execution_count": 17,
     "metadata": {},
     "output_type": "execute_result"
    }
   ],
   "source": [
    "features_train_1"
   ]
  },
  {
   "cell_type": "markdown",
   "metadata": {},
   "source": [
    "#### Регион 3"
   ]
  },
  {
   "cell_type": "code",
   "execution_count": 18,
   "metadata": {},
   "outputs": [],
   "source": [
    "features_2 = geo_data_2.drop(['product', 'id'], axis=1)\n",
    "target_2 = geo_data_2['product']\n",
    "\n",
    "features_train_2, features_valid_2, target_train_2, target_valid_2 = train_test_split(\n",
    "    features_2, target_2, test_size=0.25, random_state=RANDOM_STATE\n",
    ")"
   ]
  },
  {
   "cell_type": "code",
   "execution_count": 19,
   "metadata": {
    "scrolled": false
   },
   "outputs": [
    {
     "data": {
      "text/plain": [
       "(75000, 3)"
      ]
     },
     "metadata": {},
     "output_type": "display_data"
    },
    {
     "data": {
      "text/plain": [
       "(25000, 3)"
      ]
     },
     "metadata": {},
     "output_type": "display_data"
    }
   ],
   "source": [
    "display(features_train_2.shape, features_valid_2.shape)"
   ]
  },
  {
   "cell_type": "code",
   "execution_count": 20,
   "metadata": {},
   "outputs": [
    {
     "data": {
      "image/png": "[encoded data removed]",
      "text/plain": [
       "<Figure size 648x288 with 1 Axes>"
      ]
     },
     "metadata": {
      "needs_background": "light"
     },
     "output_type": "display_data"
    }
   ],
   "source": [
    "features_train_2.boxplot(vert = False, figsize=(9, 4));"
   ]
  },
  {
   "cell_type": "markdown",
   "metadata": {},
   "source": [
    "Большое количество выбросов во всех признаках, значит, буду использовать стандартизацию, она менее чувствительна к выбросам"
   ]
  },
  {
   "cell_type": "code",
   "execution_count": 21,
   "metadata": {},
   "outputs": [],
   "source": [
    "scaler_2 = StandardScaler()\n",
    "numeric = features_train_2.columns\n",
    "\n",
    "scaler_2.fit(features_train_2[numeric])\n",
    "\n",
    "features_train_2[numeric] = scaler_2.transform(features_train_2[numeric])\n",
    "features_valid_2[numeric] = scaler_2.transform(features_valid_2[numeric])"
   ]
  },
  {
   "cell_type": "code",
   "execution_count": 22,
   "metadata": {
    "scrolled": false
   },
   "outputs": [
    {
     "data": {
      "text/html": [
       "<div>\n",
       "<style scoped>\n",
       "    .dataframe tbody tr th:only-of-type {\n",
       "        vertical-align: middle;\n",
       "    }\n",
       "\n",
       "    .dataframe tbody tr th {\n",
       "        vertical-align: top;\n",
       "    }\n",
       "\n",
       "    .dataframe thead th {\n",
       "        text-align: right;\n",
       "    }\n",
       "</style>\n",
       "<table border=\"1\" class=\"dataframe\">\n",
       "  <thead>\n",
       "    <tr style=\"text-align: right;\">\n",
       "      <th></th>\n",
       "      <th>f0</th>\n",
       "      <th>f1</th>\n",
       "      <th>f2</th>\n",
       "    </tr>\n",
       "  </thead>\n",
       "  <tbody>\n",
       "    <tr>\n",
       "      <th>1240</th>\n",
       "      <td>0.561942</td>\n",
       "      <td>-0.181474</td>\n",
       "      <td>0.372260</td>\n",
       "    </tr>\n",
       "    <tr>\n",
       "      <th>90593</th>\n",
       "      <td>-1.960359</td>\n",
       "      <td>-0.034928</td>\n",
       "      <td>1.062359</td>\n",
       "    </tr>\n",
       "    <tr>\n",
       "      <th>73055</th>\n",
       "      <td>0.672937</td>\n",
       "      <td>0.226855</td>\n",
       "      <td>1.220681</td>\n",
       "    </tr>\n",
       "    <tr>\n",
       "      <th>27446</th>\n",
       "      <td>2.293895</td>\n",
       "      <td>0.378451</td>\n",
       "      <td>0.120445</td>\n",
       "    </tr>\n",
       "    <tr>\n",
       "      <th>52526</th>\n",
       "      <td>-0.796759</td>\n",
       "      <td>-1.265388</td>\n",
       "      <td>-0.603417</td>\n",
       "    </tr>\n",
       "    <tr>\n",
       "      <th>...</th>\n",
       "      <td>...</td>\n",
       "      <td>...</td>\n",
       "      <td>...</td>\n",
       "    </tr>\n",
       "    <tr>\n",
       "      <th>41131</th>\n",
       "      <td>-0.994027</td>\n",
       "      <td>-0.961978</td>\n",
       "      <td>0.034215</td>\n",
       "    </tr>\n",
       "    <tr>\n",
       "      <th>36408</th>\n",
       "      <td>2.551254</td>\n",
       "      <td>-0.918194</td>\n",
       "      <td>-0.030666</td>\n",
       "    </tr>\n",
       "    <tr>\n",
       "      <th>53746</th>\n",
       "      <td>-0.238397</td>\n",
       "      <td>-1.508229</td>\n",
       "      <td>-0.810302</td>\n",
       "    </tr>\n",
       "    <tr>\n",
       "      <th>88810</th>\n",
       "      <td>0.493985</td>\n",
       "      <td>0.469580</td>\n",
       "      <td>-0.881658</td>\n",
       "    </tr>\n",
       "    <tr>\n",
       "      <th>71745</th>\n",
       "      <td>-0.951829</td>\n",
       "      <td>0.631328</td>\n",
       "      <td>1.411829</td>\n",
       "    </tr>\n",
       "  </tbody>\n",
       "</table>\n",
       "<p>75000 rows × 3 columns</p>\n",
       "</div>"
      ],
      "text/plain": [
       "             f0        f1        f2\n",
       "1240   0.561942 -0.181474  0.372260\n",
       "90593 -1.960359 -0.034928  1.062359\n",
       "73055  0.672937  0.226855  1.220681\n",
       "27446  2.293895  0.378451  0.120445\n",
       "52526 -0.796759 -1.265388 -0.603417\n",
       "...         ...       ...       ...\n",
       "41131 -0.994027 -0.961978  0.034215\n",
       "36408  2.551254 -0.918194 -0.030666\n",
       "53746 -0.238397 -1.508229 -0.810302\n",
       "88810  0.493985  0.469580 -0.881658\n",
       "71745 -0.951829  0.631328  1.411829\n",
       "\n",
       "[75000 rows x 3 columns]"
      ]
     },
     "execution_count": 22,
     "metadata": {},
     "output_type": "execute_result"
    }
   ],
   "source": [
    "features_train_2"
   ]
  },
  {
   "cell_type": "markdown",
   "metadata": {},
   "source": [
    "### Вывод"
   ]
  },
  {
   "cell_type": "markdown",
   "metadata": {},
   "source": [
    "Загрузил и подготовил данные, провел обзор данных, отмасшатаюировал данные методом стандартизации, так как в признаках наблюдались выбросы."
   ]
  },
  {
   "cell_type": "markdown",
   "metadata": {},
   "source": [
    "## Обучение и проверка модели"
   ]
  },
  {
   "cell_type": "markdown",
   "metadata": {},
   "source": [
    "### Регион 0"
   ]
  },
  {
   "cell_type": "code",
   "execution_count": 61,
   "metadata": {},
   "outputs": [],
   "source": [
    "model_0 = LinearRegression().fit(features_train_0, target_train_0)\n",
    "model_0.distancemetric='mahalanobis'\n",
    "predictions_valid_0 = model_0.predict(features_valid_0)"
   ]
  },
  {
   "cell_type": "code",
   "execution_count": 62,
   "metadata": {},
   "outputs": [
    {
     "name": "stdout",
     "output_type": "stream",
     "text": [
      "RMSE модели для региона 0:  37.80046993478272\n",
      "Средний запас предсказанного сырья 92.49286560032228\n"
     ]
    }
   ],
   "source": [
    "print('RMSE модели для региона 0: ', np.sqrt(mean_squared_error(target_valid_0, predictions_valid_0)))\n",
    "print('Средний запас предсказанного сырья', predictions_valid_0.mean())"
   ]
  },
  {
   "cell_type": "markdown",
   "metadata": {},
   "source": [
    "Модель ошибается в среднем на 37 тыс баррелей, при средних разведанных (не предсказаанных) запасах 93 тыс баррелей на скважину"
   ]
  },
  {
   "cell_type": "markdown",
   "metadata": {},
   "source": [
    "### Регион 1"
   ]
  },
  {
   "cell_type": "code",
   "execution_count": 63,
   "metadata": {},
   "outputs": [],
   "source": [
    "model_1 = LinearRegression().fit(features_train_1, target_train_1)\n",
    "model_1.distancemetric='mahalanobis'\n",
    "predictions_valid_1 = model_1.predict(features_valid_1)"
   ]
  },
  {
   "cell_type": "code",
   "execution_count": 64,
   "metadata": {},
   "outputs": [
    {
     "name": "stdout",
     "output_type": "stream",
     "text": [
      "RMSE модели для региона 1:  0.8904933206270059\n",
      "Средний запас предсказанного сырья 69.03055429593262\n"
     ]
    }
   ],
   "source": [
    "print('RMSE модели для региона 1: ', np.sqrt(mean_squared_error(target_valid_1, predictions_valid_1)))\n",
    "print('Средний запас предсказанного сырья', predictions_valid_1.mean())"
   ]
  },
  {
   "cell_type": "markdown",
   "metadata": {},
   "source": [
    "Фантастический результат модель практически не ошибается, вероятно это связано с высокой корреляцией целевого признака с каким-то или какими-то нецелевыми признаками"
   ]
  },
  {
   "cell_type": "markdown",
   "metadata": {},
   "source": [
    "### Регион 2"
   ]
  },
  {
   "cell_type": "code",
   "execution_count": 27,
   "metadata": {},
   "outputs": [],
   "source": [
    "model_2 = LinearRegression().fit(features_train_2, target_train_2)\n",
    "predictions_valid_2 = model_2.predict(features_valid_2)"
   ]
  },
  {
   "cell_type": "code",
   "execution_count": 28,
   "metadata": {},
   "outputs": [
    {
     "name": "stdout",
     "output_type": "stream",
     "text": [
      "RMSE модели для региона 2:  39.98039278339241\n",
      "Средний запас предсказанного сырья 94.84835708988288\n"
     ]
    }
   ],
   "source": [
    "print('RMSE модели для региона 2: ', np.sqrt(mean_squared_error(target_valid_2, predictions_valid_2)))\n",
    "print('Средний запас предсказанного сырья', predictions_valid_2.mean())"
   ]
  },
  {
   "cell_type": "markdown",
   "metadata": {},
   "source": [
    "Модель ошибается в среднем на 39 тыс баррелей, при средних разведанных (не предсказанных) запасах 94-95 тыс баррелей на скважину"
   ]
  },
  {
   "cell_type": "markdown",
   "metadata": {},
   "source": [
    "## Подготовка к расчёту прибыли"
   ]
  },
  {
   "cell_type": "markdown",
   "metadata": {},
   "source": [
    "### Определил константы и необходимые для дальнейшего расчета данные"
   ]
  },
  {
   "cell_type": "markdown",
   "metadata": {},
   "source": [
    "Как я понял, бюджет 10 млрд руб, означает что мне необходимо найти, куда вложив все эти 10 млрд руб (то есть, считать их фактическими затратами на разработку скважин в регионе) можно получить максимальную прибыль с наибольшей вероятностью"
   ]
  },
  {
   "cell_type": "code",
   "execution_count": 29,
   "metadata": {},
   "outputs": [],
   "source": [
    "BUDGET = 10_000_000 #Бюджет на разработку скважин в регионе, тыс.руб\n",
    "INCOME_ONE_PROD = 450 #Доход с каждой единицы продукта, тыс.руб\n",
    "MAX_RISK = 2.5/100 # вероятность убытков\n",
    "TOTAL_WELLS = 500 # Скважин для исследования\n",
    "BEST_WELLS = 200 # Лучшие скважины"
   ]
  },
  {
   "cell_type": "code",
   "execution_count": 30,
   "metadata": {},
   "outputs": [
    {
     "data": {
      "text/plain": [
       "111.11111111111111"
      ]
     },
     "execution_count": 30,
     "metadata": {},
     "output_type": "execute_result"
    }
   ],
   "source": [
    "min_profit = ((BUDGET / BEST_WELLS) / INCOME_ONE_PROD)\n",
    "min_profit"
   ]
  },
  {
   "cell_type": "code",
   "execution_count": 31,
   "metadata": {},
   "outputs": [
    {
     "name": "stdout",
     "output_type": "stream",
     "text": [
      "Бюджет на разработку одной скважины: 50.0 млн.руб\n"
     ]
    }
   ],
   "source": [
    "budg_1_point=(BUDGET/BEST_WELLS)\n",
    "print('Бюджет на разработку одной скважины:', budg_1_point/1000,'млн.руб')"
   ]
  },
  {
   "cell_type": "markdown",
   "metadata": {},
   "source": [
    "Для безубыточной разработки одной скважины необходим объем сырья выше 111 тыс барелей в ней, затраты на разработку одной скважины - 50 млн. руб. Если изменить количество скважин для разработки, то окажется что изменилась цена разработки одной скважины (скорее всего, цена разработки одной скважины известна заранеее в реальности)"
   ]
  },
  {
   "cell_type": "code",
   "execution_count": 32,
   "metadata": {},
   "outputs": [
    {
     "name": "stdout",
     "output_type": "stream",
     "text": [
      "Средний объем скважины (тыс. баррелей) в регионе 0:  92.50000000000001\n",
      "Средний объем скважины (тыс. баррелей) в регионе 1:  68.82500000000002\n",
      "Средний объем скважины (тыс. баррелей) в регионе 2:  95.00000000000004\n"
     ]
    }
   ],
   "source": [
    "print('Средний объем скважины (тыс. баррелей) в регионе 0: ', geo_data_0['product'].mean())\n",
    "print('Средний объем скважины (тыс. баррелей) в регионе 1: ', geo_data_1['product'].mean())\n",
    "print('Средний объем скважины (тыс. баррелей) в регионе 2: ', geo_data_2['product'].mean())"
   ]
  },
  {
   "cell_type": "markdown",
   "metadata": {},
   "source": [
    "Во всех трех регионах недостаточно среднего объема на скважину для безубыточной разработки (никто не говорил, что нефтедобыча это легко), однако, все упирается в детали"
   ]
  },
  {
   "cell_type": "code",
   "execution_count": 33,
   "metadata": {},
   "outputs": [
    {
     "name": "stdout",
     "output_type": "stream",
     "text": [
      "111.87171774253068\n",
      "110.992146709366\n",
      "111.33727624548305\n"
     ]
    }
   ],
   "source": [
    "print(geo_data_0['product'].quantile(q=0.64))\n",
    "print(geo_data_1['product'].quantile(q=0.76))\n",
    "print(geo_data_2['product'].quantile(q=0.62))"
   ]
  },
  {
   "cell_type": "markdown",
   "metadata": {},
   "source": [
    "Если я конечно, правильно все рассчитал и понял, то прибыльных скважин в регионе 0 - 36%, в регионе 1 - 24%, в регионе 2 - 38%, но наше дело рассчитать вероятность прибыли и где она будет максимальна\n",
    "\n",
    "Определим, доход с каждой скважины в регионах"
   ]
  },
  {
   "cell_type": "code",
   "execution_count": 34,
   "metadata": {},
   "outputs": [],
   "source": [
    "geo_data_0['profit']=(geo_data_0['product']*(INCOME_ONE_PROD/1000)).round(2)\n",
    "geo_data_1['profit']=(geo_data_1['product']*(INCOME_ONE_PROD/1000)).round(2)\n",
    "geo_data_2['profit']=(geo_data_2['product']*(INCOME_ONE_PROD/1000)).round(2)"
   ]
  },
  {
   "cell_type": "markdown",
   "metadata": {},
   "source": [
    "Определим значение ROI для регионов"
   ]
  },
  {
   "cell_type": "code",
   "execution_count": 35,
   "metadata": {},
   "outputs": [],
   "source": [
    "geo_data_0['roi_%']=((geo_data_0['profit']-budg_1_point)/budg_1_point*100).round(2)\n",
    "geo_data_1['roi_%']=((geo_data_1['profit']-budg_1_point)/budg_1_point*100).round(2)\n",
    "geo_data_2['roi_%']=((geo_data_2['profit']-budg_1_point)/budg_1_point*100).round(2)"
   ]
  },
  {
   "cell_type": "markdown",
   "metadata": {},
   "source": [
    "### Вывод"
   ]
  },
  {
   "cell_type": "markdown",
   "metadata": {},
   "source": [
    "Обучил и проверил модели на корень из среднеквадратичной ошибки, невероятные результаты показал второй регион, вероятно из-за того что данные абсолютно синтетические, а во втором регионе специально сделали среднеквадратичную ошибку мизерной"
   ]
  },
  {
   "cell_type": "markdown",
   "metadata": {},
   "source": [
    "## Расчёт прибыли и рисков "
   ]
  },
  {
   "cell_type": "markdown",
   "metadata": {},
   "source": [
    "Через серию привязал значеня к индексам таргета и сохранил 200 лучших скважин"
   ]
  },
  {
   "cell_type": "code",
   "execution_count": 36,
   "metadata": {},
   "outputs": [],
   "source": [
    "probs_sorted_0 = pd.Series(predictions_valid_0, index=target_valid_0.index).sort_values(ascending=False)\n",
    "selected_max_0 = probs_sorted_0[:200]\n",
    "probs_sorted_1 = pd.Series(predictions_valid_1, index=target_valid_1.index).sort_values(ascending=False)\n",
    "selected_max_1 = probs_sorted_1[:200]\n",
    "probs_sorted_2 = pd.Series(predictions_valid_2, index=target_valid_2.index).sort_values(ascending=False)\n",
    "selected_max_2 = probs_sorted_2[:200]"
   ]
  },
  {
   "cell_type": "code",
   "execution_count": 37,
   "metadata": {},
   "outputs": [
    {
     "name": "stdout",
     "output_type": "stream",
     "text": [
      "Суммарный запас сырья в 200 лучших скважинах региона 0 составит: 30842.55 тыс.баррелей\n",
      "Суммарный запас сырья в 200 лучших скважинах региона 1 составит: 27752.85 тыс.баррелей\n",
      "Суммарный запас сырья в 200 лучших скважинах региона 2 составит: 29642.59 тыс.баррелей\n"
     ]
    }
   ],
   "source": [
    "selected_max_0_sum = selected_max_0.sum()\n",
    "selected_max_1_sum = selected_max_1.sum()\n",
    "selected_max_2_sum = selected_max_2.sum()\n",
    "print(f'Суммарный запас сырья в 200 лучших скважинах региона 0 составит: {round(selected_max_0_sum, 2)} тыс.баррелей' )\n",
    "print(f'Суммарный запас сырья в 200 лучших скважинах региона 1 составит: {round(selected_max_1_sum, 2)} тыс.баррелей' )\n",
    "print(f'Суммарный запас сырья в 200 лучших скважинах региона 2 составит: {round(selected_max_2_sum, 2)} тыс.баррелей' )"
   ]
  },
  {
   "cell_type": "code",
   "execution_count": 38,
   "metadata": {},
   "outputs": [
    {
     "name": "stdout",
     "output_type": "stream",
     "text": [
      "Прибыль для полученного объёма сырья в регионе 0 составит 3879147.81 тыс.рублей\n",
      "Прибыль для полученного объёма сырья в регионе 1 составит 2488781.46 тыс.рублей\n",
      "Прибыль для полученного объёма сырья в регионе 2 составит 3339163.68 тыс.рублей\n"
     ]
    }
   ],
   "source": [
    "profit_pred_0=(selected_max_0_sum*INCOME_ONE_PROD)-BUDGET\n",
    "profit_pred_1=(selected_max_1_sum*INCOME_ONE_PROD)-BUDGET\n",
    "profit_pred_2=(selected_max_2_sum*INCOME_ONE_PROD)-BUDGET\n",
    "print(f'Прибыль для полученного объёма сырья в регионе 0 составит {round(profit_pred_0, 2)} тыс.рублей')\n",
    "print(f'Прибыль для полученного объёма сырья в регионе 1 составит {round(profit_pred_1, 2)} тыс.рублей')\n",
    "print(f'Прибыль для полученного объёма сырья в регионе 2 составит {round(profit_pred_2, 2)} тыс.рублей')"
   ]
  },
  {
   "cell_type": "markdown",
   "metadata": {},
   "source": [
    "На основне данных вычислений можно написать функцию расчета прибыли"
   ]
  },
  {
   "cell_type": "code",
   "execution_count": 39,
   "metadata": {},
   "outputs": [],
   "source": [
    "def profit(predict,target,count):\n",
    "    probs_sorted = pd.Series(predict, index=target.index).sort_values(ascending=False)\n",
    "    selected_max = probs_sorted[:count].sum()\n",
    "    profit_pred=(selected_max*INCOME_ONE_PROD)-BUDGET\n",
    "    print(f'Суммарный запас сырья в {count} лучших скважинах составит: {round(selected_max, 2)} тыс.баррелей')\n",
    "    print(f'Прибыль для полученного объёма сырья составит {round(profit_pred/1000)} млн.рублей')"
   ]
  },
  {
   "cell_type": "code",
   "execution_count": 40,
   "metadata": {},
   "outputs": [
    {
     "name": "stdout",
     "output_type": "stream",
     "text": [
      "Суммарный запас сырья в 200 лучших скважинах составит: 30842.55 тыс.баррелей\n",
      "Прибыль для полученного объёма сырья составит 3879 млн.рублей\n"
     ]
    }
   ],
   "source": [
    "profit(predictions_valid_0,target_valid_0,200)"
   ]
  },
  {
   "cell_type": "code",
   "execution_count": 41,
   "metadata": {},
   "outputs": [
    {
     "name": "stdout",
     "output_type": "stream",
     "text": [
      "Суммарный запас сырья в 200 лучших скважинах составит: 27752.85 тыс.баррелей\n",
      "Прибыль для полученного объёма сырья составит 2489 млн.рублей\n"
     ]
    }
   ],
   "source": [
    "profit(predictions_valid_1,target_valid_1,200)"
   ]
  },
  {
   "cell_type": "code",
   "execution_count": 42,
   "metadata": {},
   "outputs": [
    {
     "name": "stdout",
     "output_type": "stream",
     "text": [
      "Суммарный запас сырья в 200 лучших скважинах составит: 29642.59 тыс.баррелей\n",
      "Прибыль для полученного объёма сырья составит 3339 млн.рублей\n"
     ]
    }
   ],
   "source": [
    "profit(predictions_valid_2,target_valid_2,200)"
   ]
  },
  {
   "cell_type": "markdown",
   "metadata": {},
   "source": [
    "Применил технику boostrap 1000 выборок, чтобы найти распределение прибыли, необходимо найти среднюю прибыль и 95% доверительный интервал"
   ]
  },
  {
   "cell_type": "code",
   "execution_count": 43,
   "metadata": {},
   "outputs": [],
   "source": [
    "# Изменил функцию для использования ее в бустрепе\n",
    "def profit(predict,target,count):\n",
    "    probs_sorted = pd.Series(predict).sort_values(ascending=False)\n",
    "    selected_points = target[probs_sorted.index][:count]\n",
    "    product = selected_points.sum()\n",
    "    revenue = product * INCOME_ONE_PROD\n",
    "    return revenue - BUDGET"
   ]
  },
  {
   "cell_type": "code",
   "execution_count": 44,
   "metadata": {},
   "outputs": [],
   "source": [
    "def bootstap(target,predict):\n",
    "    values = []\n",
    "    count=0\n",
    "    state = np.random.RandomState(12345)\n",
    "    predict_e = pd.Series(predict, index=target.index)\n",
    "    \n",
    "    for i in tqdm(range(1000)):\n",
    "        target_subsample = target.sample(n=500,replace=True, random_state=state)\n",
    "  \n",
    "        probs_subsample = predict_e[target_subsample.index]\n",
    "        values.append(profit(probs_subsample,target_subsample, 200))  \n",
    "    for i in values:\n",
    "        if i < 0:\n",
    "            count +=1\n",
    "            \n",
    "    values = pd.Series(values)\n",
    "    mean = values.mean()\n",
    "    confidence_interval = st.t.interval(0.95, len(values)-1, values.mean(), values.sem())\n",
    "    \n",
    "    plt.title('Распределение прибыли')\n",
    "    values.plot(kind=\"hist\", grid=True, figsize=(8,5))\n",
    "    plt.xlabel('Прибыль, тыс.руб')\n",
    "    plt.ylabel('Количество')\n",
    "    plt.show()\n",
    "    \n",
    "    low_95 = values.quantile(0.025)\n",
    "    high_95 = values.quantile(0.975)\n",
    "    \n",
    "    print(\"Средняя прибыль: {:.2f} млн.руб\".format(mean/1000))\n",
    "    print('С вероятностью 95% прибыль в данном регионе будет составлять от: {:.2f} млн.руб до: {:.2f} млн.руб'.format((low_95/1000),(high_95/1000)))\n",
    "    print(\"95%-ый доверительный интервал: от {:.2f} млн.руб до {:.2f} млн.руб\". format((confidence_interval[0]/1000),(confidence_interval[1]/1000)))\n",
    "    print ('Процент вероятности убытка в данном регионе составит {:.1%}'.format(count/1000))"
   ]
  },
  {
   "cell_type": "code",
   "execution_count": 45,
   "metadata": {},
   "outputs": [
    {
     "name": "stdout",
     "output_type": "stream",
     "text": [
      "Начальные данные\n",
      "   pred\n",
      "0     2 \n",
      "    target\n",
      "0       1 \n",
      "\n",
      "Результат семплирования\n",
      "   pred\n",
      "0     2\n",
      "0     2 \n",
      "    target\n",
      "0       1\n",
      "0       1 \n",
      "\n",
      "Результат сопоставления по индексам\n",
      "   pred\n",
      "0     2\n",
      "0     2 \n",
      "    target\n",
      "0       1\n",
      "0       1\n",
      "0       1\n",
      "0       1\n"
     ]
    }
   ],
   "source": [
    "#ячейка ревьюера\n",
    "\n",
    "print('Начальные данные')\n",
    "target = pd.DataFrame({'target': [1]})\n",
    "preds = pd.DataFrame({'pred': [2]})\n",
    "print(preds, '\\n', target, '\\n')\n",
    "print('Результат семплирования')\n",
    "preds_bs = preds.sample(n=2, replace=True)\n",
    "target_bs = target.loc[preds_bs.index]\n",
    "print(preds_bs, '\\n', target_bs, '\\n')\n",
    "print('Результат сопоставления по индексам')\n",
    "preds_sorted = preds_bs.sort_values('pred', ascending=False)\n",
    "target_selected = target_bs.loc[preds_sorted[:2].index]\n",
    "print(preds_sorted, '\\n', target_selected)"
   ]
  },
  {
   "cell_type": "code",
   "execution_count": 46,
   "metadata": {},
   "outputs": [
    {
     "name": "stdout",
     "output_type": "stream",
     "text": [
      "Начальные данные\n",
      "   target  pred\n",
      "0       1     2 \n",
      "\n",
      "Результат семплирования\n",
      "   target  pred\n",
      "0       1     2\n",
      "0       1     2 \n",
      "\n",
      "Таргет соответствующий лучшим предсказаниям\n",
      "target \n",
      " 0    1\n",
      "0    1\n",
      "Name: target, dtype: int64\n"
     ]
    }
   ],
   "source": [
    "#ячейка ревьюера\n",
    "\n",
    "print('Начальные данные')\n",
    "target = pd.DataFrame({'target': [1]})\n",
    "target['pred'] = 2\n",
    "print(target, '\\n')\n",
    "print('Результат семплирования')\n",
    "sample_df = target.sample(n=2, replace=True)\n",
    "print(sample_df, '\\n')\n",
    "print('Таргет соответствующий лучшим предсказаниям')\n",
    "df_sorted = sample_df.sort_values('pred', ascending=False)\n",
    "target_selected = df_sorted['target']\n",
    "print('target', '\\n', target_selected)"
   ]
  },
  {
   "cell_type": "code",
   "execution_count": 47,
   "metadata": {},
   "outputs": [
    {
     "data": {
      "application/vnd.jupyter.widget-view+json": {
       "model_id": "88f0b59da6d546cb93724829fad3bab1",
       "version_major": 2,
       "version_minor": 0
      },
      "text/plain": [
       "  0%|          | 0/1000 [00:00<?, ?it/s]"
      ]
     },
     "metadata": {},
     "output_type": "display_data"
    },
    {
     "data": {
      "image/png": "[encoded data removed]",
      "text/plain": [
       "<Figure size 576x360 with 1 Axes>"
      ]
     },
     "metadata": {
      "needs_background": "light"
     },
     "output_type": "display_data"
    },
    {
     "name": "stdout",
     "output_type": "stream",
     "text": [
      "Средняя прибыль: 514.14 млн.руб\n",
      "С вероятностью 95% прибыль в данном регионе будет составлять от: -44.13 млн.руб до: 1018.57 млн.руб\n",
      "95%-ый доверительный интервал: от 497.67 млн.руб до 530.61 млн.руб\n",
      "Процент вероятности убытка в данном регионе составит 3.4%\n"
     ]
    }
   ],
   "source": [
    "bootstap(target_valid_0, predictions_valid_0)"
   ]
  },
  {
   "cell_type": "code",
   "execution_count": 48,
   "metadata": {},
   "outputs": [
    {
     "data": {
      "application/vnd.jupyter.widget-view+json": {
       "model_id": "95cf0d5024ad475499268e60889da38e",
       "version_major": 2,
       "version_minor": 0
      },
      "text/plain": [
       "  0%|          | 0/1000 [00:00<?, ?it/s]"
      ]
     },
     "metadata": {},
     "output_type": "display_data"
    },
    {
     "data": {
      "image/png": "[encoded data removed]",
      "text/plain": [
       "<Figure size 576x360 with 1 Axes>"
      ]
     },
     "metadata": {
      "needs_background": "light"
     },
     "output_type": "display_data"
    },
    {
     "name": "stdout",
     "output_type": "stream",
     "text": [
      "Средняя прибыль: 523.54 млн.руб\n",
      "С вероятностью 95% прибыль в данном регионе будет составлять от: 98.79 млн.руб до: 963.56 млн.руб\n",
      "95%-ый доверительный интервал: от 509.85 млн.руб до 537.22 млн.руб\n",
      "Процент вероятности убытка в данном регионе составит 0.7%\n"
     ]
    }
   ],
   "source": [
    "bootstap(target_valid_1, predictions_valid_1)"
   ]
  },
  {
   "cell_type": "code",
   "execution_count": 49,
   "metadata": {
    "scrolled": false
   },
   "outputs": [
    {
     "data": {
      "application/vnd.jupyter.widget-view+json": {
       "model_id": "7d9d945ca7634c908b8dfe01ee0a7756",
       "version_major": 2,
       "version_minor": 0
      },
      "text/plain": [
       "  0%|          | 0/1000 [00:00<?, ?it/s]"
      ]
     },
     "metadata": {},
     "output_type": "display_data"
    },
    {
     "data": {
      "image/png": "[encoded data removed]",
      "text/plain": [
       "<Figure size 576x360 with 1 Axes>"
      ]
     },
     "metadata": {
      "needs_background": "light"
     },
     "output_type": "display_data"
    },
    {
     "name": "stdout",
     "output_type": "stream",
     "text": [
      "Средняя прибыль: 394.89 млн.руб\n",
      "С вероятностью 95% прибыль в данном регионе будет составлять от: -141.39 млн.руб до: 943.98 млн.руб\n",
      "95%-ый доверительный интервал: от 377.34 млн.руб до 412.45 млн.руб\n",
      "Процент вероятности убытка в данном регионе составит 8.7%\n"
     ]
    }
   ],
   "source": [
    "bootstap(target_valid_2, predictions_valid_2)"
   ]
  },
  {
   "cell_type": "markdown",
   "metadata": {},
   "source": [
    "### Вывод"
   ]
  },
  {
   "cell_type": "markdown",
   "metadata": {},
   "source": [
    "Основываясь на распределении среднего значения прибыли, второй регион получил наивысшую доходность - 523.54 млн.рублей. Однако, два других региона не смогли удовлетворить требуемый 2,5%-ый порог убытка. Имея мало сырья, 2-ой регион является самым \"доходным\" - свыше других."
   ]
  },
  {
   "cell_type": "markdown",
   "metadata": {},
   "source": [
    "## Вывод"
   ]
  },
  {
   "cell_type": "markdown",
   "metadata": {},
   "source": [
    "Я исследовал данные о запасах сырья по 10 тысячам скважин в трех различных регионах. Изначально я определил, что средний резерв в каждом регионе недостаточен для покрытия затрат на разработку. Чтобы оценить потенциальную прибыль от разработки в каждом регионе, я применил линейную регрессию, технологию boostrap и разделил датасеты по регионам на 1000 различных выборок каждый\n",
    "\n",
    "Основываясь на проанализированных данных, я установил 95% доверительный интервал прибыли, снизив риск потери до менее чем 2,5%. Используя эту информацию, я смог точно определить наиболее прибыльную область для разработки 200 скважин.\n",
    "\n",
    "Следовательно, несмотря на сравнительно более низкие оценки запасов сырья в 27,75 млн баррелей во втором регионе (регион 1 в датасете по сравнению с другими регионами), что может означать потенциальную потерю 0,7%, но с ожидаемой прибылью, превышающей 523,54 млн рублей, я рекомендую к разработке 200 скважин 2-ой регион."
   ]
  },
  {
   "cell_type": "markdown",
   "metadata": {},
   "source": [
    "## Чек-лист готовности проекта"
   ]
  },
  {
   "cell_type": "markdown",
   "metadata": {},
   "source": [
    "Поставьте 'x' в выполненных пунктах. Далее нажмите Shift+Enter."
   ]
  },
  {
   "cell_type": "markdown",
   "metadata": {},
   "source": [
    "- [x]  Jupyter Notebook открыт\n",
    "- [x]  Весь код выполняется без ошибок\n",
    "- [x]  Ячейки с кодом расположены в порядке исполнения\n",
    "- [x]  Выполнен шаг 1: данные подготовлены\n",
    "- [x]  Выполнен шаг 2: модели обучены и проверены\n",
    "    - [x]  Данные корректно разбиты на обучающую и валидационную выборки\n",
    "    - [x]  Модели обучены, предсказания сделаны\n",
    "    - [x]  Предсказания и правильные ответы на валидационной выборке сохранены\n",
    "    - [x]  На экране напечатаны результаты\n",
    "    - [x]  Сделаны выводы\n",
    "- [x]  Выполнен шаг 3: проведена подготовка к расчёту прибыли\n",
    "    - [x]  Для всех ключевых значений созданы константы Python\n",
    "    - [x]  Посчитано минимальное среднее количество продукта в месторождениях региона, достаточное для разработки\n",
    "    - [x]  По предыдущему пункту сделаны выводы\n",
    "    - [x]  Написана функция расчёта прибыли\n",
    "- [x]  Выполнен шаг 4: посчитаны риски и прибыль\n",
    "    - [x]  Проведена процедура *Bootstrap*\n",
    "    - [x]  Все параметры бутстрепа соответствуют условию\n",
    "    - [x]  Найдены все нужные величины\n",
    "    - [x]  Предложен регион для разработки месторождения\n",
    "    - [x]  Выбор региона обоснован"
   ]
  },
  {
   "cell_type": "code",
   "execution_count": null,
   "metadata": {},
   "outputs": [],
   "source": []
  }
 ],
 "metadata": {
  "ExecuteTimeLog": [
   {
    "duration": 1200,
    "start_time": "2023-01-15T18:37:47.281Z"
   },
   {
    "duration": 775,
    "start_time": "2023-01-15T18:38:50.654Z"
   },
   {
    "duration": 3,
    "start_time": "2023-01-15T18:40:08.948Z"
   },
   {
    "duration": 135,
    "start_time": "2023-01-15T18:40:21.513Z"
   },
   {
    "duration": 4,
    "start_time": "2023-01-15T18:41:04.580Z"
   },
   {
    "duration": 136,
    "start_time": "2023-01-15T18:41:05.509Z"
   },
   {
    "duration": 257,
    "start_time": "2023-01-15T18:41:43.166Z"
   },
   {
    "duration": 381,
    "start_time": "2023-01-15T18:41:54.560Z"
   },
   {
    "duration": 440,
    "start_time": "2023-01-15T18:46:21.769Z"
   },
   {
    "duration": 402,
    "start_time": "2023-01-15T18:46:33.181Z"
   },
   {
    "duration": 44,
    "start_time": "2023-01-15T18:46:43.760Z"
   },
   {
    "duration": 513,
    "start_time": "2023-01-15T18:46:52.342Z"
   },
   {
    "duration": 399,
    "start_time": "2023-01-15T18:47:06.060Z"
   },
   {
    "duration": 410,
    "start_time": "2023-01-15T18:47:21.586Z"
   },
   {
    "duration": 414,
    "start_time": "2023-01-15T18:47:27.872Z"
   },
   {
    "duration": 432,
    "start_time": "2023-01-15T18:47:45.480Z"
   },
   {
    "duration": 103,
    "start_time": "2023-01-15T18:48:04.620Z"
   },
   {
    "duration": 420,
    "start_time": "2023-01-15T18:48:13.343Z"
   },
   {
    "duration": 486,
    "start_time": "2023-01-15T18:48:37.526Z"
   },
   {
    "duration": 766,
    "start_time": "2023-01-15T18:53:30.582Z"
   },
   {
    "duration": 4,
    "start_time": "2023-01-15T18:55:40.622Z"
   },
   {
    "duration": 4,
    "start_time": "2023-01-15T18:55:41.114Z"
   },
   {
    "duration": 472,
    "start_time": "2023-01-15T18:58:45.605Z"
   },
   {
    "duration": 501,
    "start_time": "2023-01-15T18:58:57.857Z"
   },
   {
    "duration": 5,
    "start_time": "2023-01-15T18:59:44.450Z"
   },
   {
    "duration": 8,
    "start_time": "2023-01-15T18:59:55.488Z"
   },
   {
    "duration": 535,
    "start_time": "2023-01-15T18:59:56.401Z"
   },
   {
    "duration": 4,
    "start_time": "2023-01-15T19:00:13.696Z"
   },
   {
    "duration": 591,
    "start_time": "2023-01-15T19:00:14.475Z"
   },
   {
    "duration": 5,
    "start_time": "2023-01-15T19:00:24.390Z"
   },
   {
    "duration": 543,
    "start_time": "2023-01-15T19:00:25.012Z"
   },
   {
    "duration": 4,
    "start_time": "2023-01-15T19:00:48.869Z"
   },
   {
    "duration": 563,
    "start_time": "2023-01-15T19:00:49.296Z"
   },
   {
    "duration": 6,
    "start_time": "2023-01-15T19:00:56.411Z"
   },
   {
    "duration": 545,
    "start_time": "2023-01-15T19:00:56.767Z"
   },
   {
    "duration": 5,
    "start_time": "2023-01-15T19:01:19.273Z"
   },
   {
    "duration": 548,
    "start_time": "2023-01-15T19:01:19.865Z"
   },
   {
    "duration": 65,
    "start_time": "2023-01-15T19:07:31.336Z"
   },
   {
    "duration": 53,
    "start_time": "2023-01-15T19:07:40.771Z"
   },
   {
    "duration": 3,
    "start_time": "2023-01-15T19:08:42.530Z"
   },
   {
    "duration": 30,
    "start_time": "2023-01-15T19:08:47.955Z"
   },
   {
    "duration": 14,
    "start_time": "2023-01-15T19:09:29.025Z"
   },
   {
    "duration": 15,
    "start_time": "2023-01-15T19:10:10.143Z"
   },
   {
    "duration": 17,
    "start_time": "2023-01-15T19:10:21.138Z"
   },
   {
    "duration": 8,
    "start_time": "2023-01-15T19:10:34.103Z"
   },
   {
    "duration": 18,
    "start_time": "2023-01-15T19:11:21.930Z"
   },
   {
    "duration": 7,
    "start_time": "2023-01-15T19:11:22.566Z"
   },
   {
    "duration": 22,
    "start_time": "2023-01-15T19:12:05.532Z"
   },
   {
    "duration": 7,
    "start_time": "2023-01-15T19:12:05.906Z"
   },
   {
    "duration": 4,
    "start_time": "2023-01-15T19:13:01.950Z"
   },
   {
    "duration": 12,
    "start_time": "2023-01-15T19:16:21.923Z"
   },
   {
    "duration": 5,
    "start_time": "2023-01-15T19:16:32.209Z"
   },
   {
    "duration": 3,
    "start_time": "2023-01-15T19:16:53.565Z"
   },
   {
    "duration": 4,
    "start_time": "2023-01-15T19:17:27.818Z"
   },
   {
    "duration": 5,
    "start_time": "2023-01-15T19:17:28.866Z"
   },
   {
    "duration": 14,
    "start_time": "2023-01-15T19:19:41.535Z"
   },
   {
    "duration": 7,
    "start_time": "2023-01-15T19:19:41.954Z"
   },
   {
    "duration": 24,
    "start_time": "2023-01-15T19:19:42.535Z"
   },
   {
    "duration": 9,
    "start_time": "2023-01-15T19:19:56.084Z"
   },
   {
    "duration": 11,
    "start_time": "2023-01-15T19:20:11.871Z"
   },
   {
    "duration": 4,
    "start_time": "2023-01-15T19:20:18.371Z"
   },
   {
    "duration": 4,
    "start_time": "2023-01-15T19:20:28.292Z"
   },
   {
    "duration": 5,
    "start_time": "2023-01-15T19:20:31.629Z"
   },
   {
    "duration": 9,
    "start_time": "2023-01-15T19:21:14.241Z"
   },
   {
    "duration": 16,
    "start_time": "2023-01-15T19:21:40.625Z"
   },
   {
    "duration": 10,
    "start_time": "2023-01-15T19:21:43.542Z"
   },
   {
    "duration": 13,
    "start_time": "2023-01-15T19:22:23.124Z"
   },
   {
    "duration": 10,
    "start_time": "2023-01-15T19:22:41.768Z"
   },
   {
    "duration": 17,
    "start_time": "2023-01-15T19:23:19.832Z"
   },
   {
    "duration": 10,
    "start_time": "2023-01-15T19:23:20.288Z"
   },
   {
    "duration": 15,
    "start_time": "2023-01-15T19:24:22.313Z"
   },
   {
    "duration": 11,
    "start_time": "2023-01-15T19:24:22.652Z"
   },
   {
    "duration": 42,
    "start_time": "2023-01-15T19:25:12.305Z"
   },
   {
    "duration": 11,
    "start_time": "2023-01-15T19:25:12.711Z"
   },
   {
    "duration": 15,
    "start_time": "2023-01-15T19:25:39.386Z"
   },
   {
    "duration": 11,
    "start_time": "2023-01-15T19:25:40.754Z"
   },
   {
    "duration": 564,
    "start_time": "2023-01-15T19:32:17.741Z"
   },
   {
    "duration": 125,
    "start_time": "2023-01-15T19:32:47.350Z"
   },
   {
    "duration": 3,
    "start_time": "2023-01-15T19:33:16.824Z"
   },
   {
    "duration": 124,
    "start_time": "2023-01-15T19:33:21.154Z"
   },
   {
    "duration": 139,
    "start_time": "2023-01-15T19:33:25.482Z"
   },
   {
    "duration": 450,
    "start_time": "2023-01-15T19:33:38.962Z"
   },
   {
    "duration": 272,
    "start_time": "2023-01-15T19:35:05.232Z"
   },
   {
    "duration": 15,
    "start_time": "2023-01-15T19:35:09.867Z"
   },
   {
    "duration": 5,
    "start_time": "2023-01-15T19:35:10.735Z"
   },
   {
    "duration": 342,
    "start_time": "2023-01-15T19:35:11.329Z"
   },
   {
    "duration": 16,
    "start_time": "2023-01-15T19:36:49.496Z"
   },
   {
    "duration": 262,
    "start_time": "2023-01-15T19:36:50.987Z"
   },
   {
    "duration": 286,
    "start_time": "2023-01-15T19:37:16.445Z"
   },
   {
    "duration": 284,
    "start_time": "2023-01-15T19:37:44.833Z"
   },
   {
    "duration": 266,
    "start_time": "2023-01-15T19:37:59.550Z"
   },
   {
    "duration": 15,
    "start_time": "2023-01-15T19:38:05.636Z"
   },
   {
    "duration": 6,
    "start_time": "2023-01-15T19:38:06.194Z"
   },
   {
    "duration": 283,
    "start_time": "2023-01-15T19:38:06.874Z"
   },
   {
    "duration": 14,
    "start_time": "2023-01-15T19:39:03.515Z"
   },
   {
    "duration": 6,
    "start_time": "2023-01-15T19:39:03.989Z"
   },
   {
    "duration": 276,
    "start_time": "2023-01-15T19:39:04.453Z"
   },
   {
    "duration": 18,
    "start_time": "2023-01-15T19:39:49.175Z"
   },
   {
    "duration": 257,
    "start_time": "2023-01-15T19:39:50.662Z"
   },
   {
    "duration": 14,
    "start_time": "2023-01-15T19:57:28.298Z"
   },
   {
    "duration": 5,
    "start_time": "2023-01-15T19:57:28.826Z"
   },
   {
    "duration": 272,
    "start_time": "2023-01-15T19:57:29.347Z"
   },
   {
    "duration": 5,
    "start_time": "2023-01-15T19:57:32.580Z"
   },
   {
    "duration": 21,
    "start_time": "2023-01-15T19:57:40.875Z"
   },
   {
    "duration": 12,
    "start_time": "2023-01-15T19:57:43.194Z"
   },
   {
    "duration": 252,
    "start_time": "2023-01-15T19:57:47.724Z"
   },
   {
    "duration": 13,
    "start_time": "2023-01-15T19:57:54.170Z"
   },
   {
    "duration": 5,
    "start_time": "2023-01-15T19:57:55.137Z"
   },
   {
    "duration": 264,
    "start_time": "2023-01-15T19:57:55.728Z"
   },
   {
    "duration": 15,
    "start_time": "2023-01-15T19:58:10.690Z"
   },
   {
    "duration": 11,
    "start_time": "2023-01-15T19:58:11.640Z"
   },
   {
    "duration": 389,
    "start_time": "2023-01-15T19:58:13.638Z"
   },
   {
    "duration": 15,
    "start_time": "2023-01-15T19:59:15.229Z"
   },
   {
    "duration": 6,
    "start_time": "2023-01-15T19:59:16.444Z"
   },
   {
    "duration": 286,
    "start_time": "2023-01-15T19:59:17.188Z"
   },
   {
    "duration": 14,
    "start_time": "2023-01-15T19:59:33.071Z"
   },
   {
    "duration": 11,
    "start_time": "2023-01-15T19:59:35.646Z"
   },
   {
    "duration": 268,
    "start_time": "2023-01-15T19:59:39.090Z"
   },
   {
    "duration": 13,
    "start_time": "2023-01-15T20:00:54.281Z"
   },
   {
    "duration": 5,
    "start_time": "2023-01-15T20:00:55.983Z"
   },
   {
    "duration": 297,
    "start_time": "2023-01-15T20:00:57.679Z"
   },
   {
    "duration": 22,
    "start_time": "2023-01-15T20:01:00.173Z"
   },
   {
    "duration": 363,
    "start_time": "2023-01-15T20:01:02.353Z"
   },
   {
    "duration": 13,
    "start_time": "2023-01-15T20:01:06.717Z"
   },
   {
    "duration": 3,
    "start_time": "2023-01-15T20:08:30.190Z"
   },
   {
    "duration": 20,
    "start_time": "2023-01-15T20:08:34.451Z"
   },
   {
    "duration": 22,
    "start_time": "2023-01-15T20:08:54.021Z"
   },
   {
    "duration": 53,
    "start_time": "2023-01-15T20:09:39.347Z"
   },
   {
    "duration": 16,
    "start_time": "2023-01-15T20:09:47.185Z"
   },
   {
    "duration": 14,
    "start_time": "2023-01-15T20:10:00.364Z"
   },
   {
    "duration": 13,
    "start_time": "2023-01-15T20:10:06.760Z"
   },
   {
    "duration": 11,
    "start_time": "2023-01-15T20:10:31.300Z"
   },
   {
    "duration": 16,
    "start_time": "2023-01-15T20:10:32.570Z"
   },
   {
    "duration": 23,
    "start_time": "2023-01-15T20:11:02.433Z"
   },
   {
    "duration": 5,
    "start_time": "2023-01-15T20:11:02.906Z"
   },
   {
    "duration": 5,
    "start_time": "2023-01-15T20:14:44.327Z"
   },
   {
    "duration": 9,
    "start_time": "2023-01-15T20:15:44.332Z"
   },
   {
    "duration": 6,
    "start_time": "2023-01-15T20:15:48.780Z"
   },
   {
    "duration": 6,
    "start_time": "2023-01-15T20:18:33.002Z"
   },
   {
    "duration": 12,
    "start_time": "2023-01-15T20:22:43.553Z"
   },
   {
    "duration": 6,
    "start_time": "2023-01-15T20:22:44.426Z"
   },
   {
    "duration": 4,
    "start_time": "2023-01-15T20:22:54.153Z"
   },
   {
    "duration": 3,
    "start_time": "2023-01-15T20:22:54.171Z"
   },
   {
    "duration": 605,
    "start_time": "2023-01-15T20:22:54.176Z"
   },
   {
    "duration": 4,
    "start_time": "2023-01-15T20:22:54.783Z"
   },
   {
    "duration": 493,
    "start_time": "2023-01-15T20:22:54.789Z"
   },
   {
    "duration": 13,
    "start_time": "2023-01-15T20:22:55.285Z"
   },
   {
    "duration": 17,
    "start_time": "2023-01-15T20:22:55.300Z"
   },
   {
    "duration": 307,
    "start_time": "2023-01-15T20:22:55.319Z"
   },
   {
    "duration": 30,
    "start_time": "2023-01-15T20:22:55.628Z"
   },
   {
    "duration": 10,
    "start_time": "2023-01-15T20:22:55.660Z"
   },
   {
    "duration": 24,
    "start_time": "2023-01-15T20:22:55.671Z"
   },
   {
    "duration": 8,
    "start_time": "2023-01-15T20:22:55.697Z"
   },
   {
    "duration": 310,
    "start_time": "2023-01-15T20:22:55.706Z"
   },
   {
    "duration": 33,
    "start_time": "2023-01-15T20:22:56.019Z"
   },
   {
    "duration": 28,
    "start_time": "2023-01-15T20:22:56.056Z"
   },
   {
    "duration": 21,
    "start_time": "2023-01-15T20:22:56.086Z"
   },
   {
    "duration": 20,
    "start_time": "2023-01-15T20:22:56.109Z"
   },
   {
    "duration": 319,
    "start_time": "2023-01-15T20:22:56.130Z"
   },
   {
    "duration": 16,
    "start_time": "2023-01-15T20:22:56.452Z"
   },
   {
    "duration": 17,
    "start_time": "2023-01-15T20:22:56.469Z"
   },
   {
    "duration": 45,
    "start_time": "2023-01-15T20:22:56.488Z"
   },
   {
    "duration": 94,
    "start_time": "2023-01-15T20:22:56.553Z"
   },
   {
    "duration": 89,
    "start_time": "2023-01-15T20:22:56.649Z"
   },
   {
    "duration": 95,
    "start_time": "2023-01-15T20:22:56.749Z"
   },
   {
    "duration": 6,
    "start_time": "2023-01-15T20:25:57.548Z"
   },
   {
    "duration": 5,
    "start_time": "2023-01-15T20:26:05.753Z"
   },
   {
    "duration": 11,
    "start_time": "2023-01-15T20:28:22.823Z"
   },
   {
    "duration": 6,
    "start_time": "2023-01-15T20:28:23.283Z"
   },
   {
    "duration": 5,
    "start_time": "2023-01-15T20:29:16.068Z"
   },
   {
    "duration": 5,
    "start_time": "2023-01-15T20:29:57.411Z"
   },
   {
    "duration": 3,
    "start_time": "2023-01-15T21:11:56.592Z"
   },
   {
    "duration": 3,
    "start_time": "2023-01-15T21:11:57.635Z"
   },
   {
    "duration": 4,
    "start_time": "2023-01-15T21:12:02.252Z"
   },
   {
    "duration": 4,
    "start_time": "2023-01-15T21:13:08.364Z"
   },
   {
    "duration": 5,
    "start_time": "2023-01-15T21:13:23.256Z"
   },
   {
    "duration": 5,
    "start_time": "2023-01-15T21:15:13.461Z"
   },
   {
    "duration": 5,
    "start_time": "2023-01-15T21:15:38.881Z"
   },
   {
    "duration": 6,
    "start_time": "2023-01-15T21:15:44.462Z"
   },
   {
    "duration": 4,
    "start_time": "2023-01-15T21:15:48.744Z"
   },
   {
    "duration": 5,
    "start_time": "2023-01-15T21:15:51.434Z"
   },
   {
    "duration": 5,
    "start_time": "2023-01-15T21:15:53.875Z"
   },
   {
    "duration": 5,
    "start_time": "2023-01-15T21:15:56.081Z"
   },
   {
    "duration": 5,
    "start_time": "2023-01-15T21:20:28.624Z"
   },
   {
    "duration": 5,
    "start_time": "2023-01-15T21:21:27.163Z"
   },
   {
    "duration": 3,
    "start_time": "2023-01-15T21:22:39.396Z"
   },
   {
    "duration": 3,
    "start_time": "2023-01-15T21:25:38.103Z"
   },
   {
    "duration": 5,
    "start_time": "2023-01-15T21:39:30.876Z"
   },
   {
    "duration": 6,
    "start_time": "2023-01-15T21:39:49.404Z"
   },
   {
    "duration": 11,
    "start_time": "2023-01-15T21:45:05.988Z"
   },
   {
    "duration": 11,
    "start_time": "2023-01-15T21:45:12.259Z"
   },
   {
    "duration": 8,
    "start_time": "2023-01-15T21:45:19.052Z"
   },
   {
    "duration": 17,
    "start_time": "2023-01-15T21:51:06.549Z"
   },
   {
    "duration": 6,
    "start_time": "2023-01-15T21:51:20.563Z"
   },
   {
    "duration": 7,
    "start_time": "2023-01-15T21:51:28.026Z"
   },
   {
    "duration": 7,
    "start_time": "2023-01-15T21:51:37.791Z"
   },
   {
    "duration": 6,
    "start_time": "2023-01-15T21:51:40.370Z"
   },
   {
    "duration": 6,
    "start_time": "2023-01-15T21:51:57.614Z"
   },
   {
    "duration": 11,
    "start_time": "2023-01-15T21:54:45.169Z"
   },
   {
    "duration": 10,
    "start_time": "2023-01-15T21:56:29.989Z"
   },
   {
    "duration": 7,
    "start_time": "2023-01-15T21:56:43.247Z"
   },
   {
    "duration": 11,
    "start_time": "2023-01-15T21:57:51.853Z"
   },
   {
    "duration": 15,
    "start_time": "2023-01-15T21:57:58.183Z"
   },
   {
    "duration": 13,
    "start_time": "2023-01-15T21:58:01.018Z"
   },
   {
    "duration": 13,
    "start_time": "2023-01-15T21:58:05.264Z"
   },
   {
    "duration": 13,
    "start_time": "2023-01-15T21:58:19.204Z"
   },
   {
    "duration": 12,
    "start_time": "2023-01-15T21:58:22.141Z"
   },
   {
    "duration": 13,
    "start_time": "2023-01-15T21:58:24.899Z"
   },
   {
    "duration": 13,
    "start_time": "2023-01-15T21:58:27.179Z"
   },
   {
    "duration": 13,
    "start_time": "2023-01-15T21:58:30.053Z"
   },
   {
    "duration": 13,
    "start_time": "2023-01-15T21:58:33.107Z"
   },
   {
    "duration": 19,
    "start_time": "2023-01-15T21:58:36.076Z"
   },
   {
    "duration": 14,
    "start_time": "2023-01-15T21:58:38.863Z"
   },
   {
    "duration": 18,
    "start_time": "2023-01-15T21:58:42.242Z"
   },
   {
    "duration": 17,
    "start_time": "2023-01-15T21:58:45.226Z"
   },
   {
    "duration": 11,
    "start_time": "2023-01-15T21:58:50.223Z"
   },
   {
    "duration": 14,
    "start_time": "2023-01-15T21:58:53.015Z"
   },
   {
    "duration": 14,
    "start_time": "2023-01-15T21:58:56.849Z"
   },
   {
    "duration": 12,
    "start_time": "2023-01-15T21:58:59.234Z"
   },
   {
    "duration": 13,
    "start_time": "2023-01-15T21:59:02.101Z"
   },
   {
    "duration": 13,
    "start_time": "2023-01-15T21:59:07.457Z"
   },
   {
    "duration": 12,
    "start_time": "2023-01-15T21:59:10.713Z"
   },
   {
    "duration": 15,
    "start_time": "2023-01-15T21:59:13.201Z"
   },
   {
    "duration": 12,
    "start_time": "2023-01-15T21:59:15.586Z"
   },
   {
    "duration": 12,
    "start_time": "2023-01-15T21:59:20.347Z"
   },
   {
    "duration": 13,
    "start_time": "2023-01-15T21:59:22.848Z"
   },
   {
    "duration": 12,
    "start_time": "2023-01-15T21:59:24.765Z"
   },
   {
    "duration": 11,
    "start_time": "2023-01-15T21:59:27.397Z"
   },
   {
    "duration": 13,
    "start_time": "2023-01-15T21:59:33.297Z"
   },
   {
    "duration": 21,
    "start_time": "2023-01-15T21:59:36.825Z"
   },
   {
    "duration": 12,
    "start_time": "2023-01-15T21:59:39.274Z"
   },
   {
    "duration": 13,
    "start_time": "2023-01-15T21:59:42.802Z"
   },
   {
    "duration": 13,
    "start_time": "2023-01-15T21:59:45.414Z"
   },
   {
    "duration": 12,
    "start_time": "2023-01-15T21:59:47.522Z"
   },
   {
    "duration": 1618,
    "start_time": "2023-01-22T10:47:47.053Z"
   },
   {
    "duration": 3,
    "start_time": "2023-01-22T10:47:48.673Z"
   },
   {
    "duration": 1634,
    "start_time": "2023-01-22T10:47:48.678Z"
   },
   {
    "duration": 4,
    "start_time": "2023-01-22T10:47:50.314Z"
   },
   {
    "duration": 586,
    "start_time": "2023-01-22T10:47:50.321Z"
   },
   {
    "duration": 40,
    "start_time": "2023-01-22T10:47:50.909Z"
   },
   {
    "duration": 7,
    "start_time": "2023-01-22T10:47:50.951Z"
   },
   {
    "duration": 335,
    "start_time": "2023-01-22T10:47:50.960Z"
   },
   {
    "duration": 21,
    "start_time": "2023-01-22T10:47:51.298Z"
   },
   {
    "duration": 28,
    "start_time": "2023-01-22T10:47:51.321Z"
   },
   {
    "duration": 20,
    "start_time": "2023-01-22T10:47:51.352Z"
   },
   {
    "duration": 18,
    "start_time": "2023-01-22T10:47:51.374Z"
   },
   {
    "duration": 373,
    "start_time": "2023-01-22T10:47:51.394Z"
   },
   {
    "duration": 19,
    "start_time": "2023-01-22T10:47:51.771Z"
   },
   {
    "duration": 27,
    "start_time": "2023-01-22T10:47:51.792Z"
   },
   {
    "duration": 50,
    "start_time": "2023-01-22T10:47:51.822Z"
   },
   {
    "duration": 17,
    "start_time": "2023-01-22T10:47:51.874Z"
   },
   {
    "duration": 318,
    "start_time": "2023-01-22T10:47:51.893Z"
   },
   {
    "duration": 37,
    "start_time": "2023-01-22T10:47:52.213Z"
   },
   {
    "duration": 13,
    "start_time": "2023-01-22T10:47:52.253Z"
   },
   {
    "duration": 72,
    "start_time": "2023-01-22T10:47:52.269Z"
   },
   {
    "duration": 99,
    "start_time": "2023-01-22T10:47:52.348Z"
   },
   {
    "duration": 57,
    "start_time": "2023-01-22T10:47:52.453Z"
   },
   {
    "duration": 133,
    "start_time": "2023-01-22T10:47:52.516Z"
   },
   {
    "duration": 62,
    "start_time": "2023-01-22T10:47:52.651Z"
   },
   {
    "duration": 142,
    "start_time": "2023-01-22T10:47:52.716Z"
   },
   {
    "duration": 8,
    "start_time": "2023-01-22T10:47:52.860Z"
   },
   {
    "duration": 14,
    "start_time": "2023-01-22T10:47:52.870Z"
   },
   {
    "duration": 14,
    "start_time": "2023-01-22T10:47:52.887Z"
   },
   {
    "duration": 17,
    "start_time": "2023-01-22T10:47:52.904Z"
   },
   {
    "duration": 308,
    "start_time": "2023-01-22T10:48:01.303Z"
   },
   {
    "duration": 336,
    "start_time": "2023-01-22T10:48:12.471Z"
   },
   {
    "duration": 3,
    "start_time": "2023-01-22T11:17:21.611Z"
   },
   {
    "duration": 6,
    "start_time": "2023-01-22T11:17:22.014Z"
   },
   {
    "duration": 141,
    "start_time": "2023-01-22T12:54:29.925Z"
   },
   {
    "duration": 1908,
    "start_time": "2023-01-22T12:54:54.980Z"
   },
   {
    "duration": 29,
    "start_time": "2023-01-22T13:17:47.227Z"
   },
   {
    "duration": 4,
    "start_time": "2023-01-22T13:19:20.443Z"
   },
   {
    "duration": 5,
    "start_time": "2023-01-22T13:19:20.725Z"
   },
   {
    "duration": 16,
    "start_time": "2023-01-22T13:25:22.571Z"
   },
   {
    "duration": 3,
    "start_time": "2023-01-22T13:25:34.477Z"
   },
   {
    "duration": 4,
    "start_time": "2023-01-22T13:25:58.374Z"
   },
   {
    "duration": 3,
    "start_time": "2023-01-22T13:26:02.667Z"
   },
   {
    "duration": 3,
    "start_time": "2023-01-22T13:26:45.898Z"
   },
   {
    "duration": 13,
    "start_time": "2023-01-22T13:27:43.755Z"
   },
   {
    "duration": 107,
    "start_time": "2023-01-22T13:27:56.652Z"
   },
   {
    "duration": 4,
    "start_time": "2023-01-22T13:30:24.179Z"
   },
   {
    "duration": 5,
    "start_time": "2023-01-22T13:30:24.516Z"
   },
   {
    "duration": 6,
    "start_time": "2023-01-22T13:30:47.410Z"
   },
   {
    "duration": 5,
    "start_time": "2023-01-22T13:31:02.664Z"
   },
   {
    "duration": 5,
    "start_time": "2023-01-22T13:31:21.256Z"
   },
   {
    "duration": 7,
    "start_time": "2023-01-22T13:31:35.642Z"
   },
   {
    "duration": 14,
    "start_time": "2023-01-22T13:31:38.215Z"
   },
   {
    "duration": 5,
    "start_time": "2023-01-22T13:31:43.872Z"
   },
   {
    "duration": 25,
    "start_time": "2023-01-22T13:31:50.412Z"
   },
   {
    "duration": 4,
    "start_time": "2023-01-22T13:31:59.373Z"
   },
   {
    "duration": 19,
    "start_time": "2023-01-22T13:32:07.197Z"
   },
   {
    "duration": 787,
    "start_time": "2023-01-22T13:34:00.118Z"
   },
   {
    "duration": 9,
    "start_time": "2023-01-22T13:34:02.065Z"
   },
   {
    "duration": 14,
    "start_time": "2023-01-22T13:34:03.338Z"
   },
   {
    "duration": 20,
    "start_time": "2023-01-22T13:34:09.818Z"
   },
   {
    "duration": 10,
    "start_time": "2023-01-22T13:37:26.615Z"
   },
   {
    "duration": 16,
    "start_time": "2023-01-22T13:40:11.319Z"
   },
   {
    "duration": 9,
    "start_time": "2023-01-22T13:40:16.435Z"
   },
   {
    "duration": 5,
    "start_time": "2023-01-22T13:41:19.958Z"
   },
   {
    "duration": 5,
    "start_time": "2023-01-22T13:42:02.200Z"
   },
   {
    "duration": 6,
    "start_time": "2023-01-22T13:42:16.670Z"
   },
   {
    "duration": 4,
    "start_time": "2023-01-22T13:42:27.127Z"
   },
   {
    "duration": 6,
    "start_time": "2023-01-22T13:43:19.215Z"
   },
   {
    "duration": 4,
    "start_time": "2023-01-22T13:43:56.753Z"
   },
   {
    "duration": 5,
    "start_time": "2023-01-22T13:45:11.579Z"
   },
   {
    "duration": 8,
    "start_time": "2023-01-22T13:45:50.635Z"
   },
   {
    "duration": 5,
    "start_time": "2023-01-22T13:49:26.838Z"
   },
   {
    "duration": 4,
    "start_time": "2023-01-22T13:50:07.486Z"
   },
   {
    "duration": 9,
    "start_time": "2023-01-22T13:50:45.993Z"
   },
   {
    "duration": 12,
    "start_time": "2023-01-22T13:50:52.845Z"
   },
   {
    "duration": 7,
    "start_time": "2023-01-22T13:51:01.900Z"
   },
   {
    "duration": 9,
    "start_time": "2023-01-22T13:51:07.861Z"
   },
   {
    "duration": 8,
    "start_time": "2023-01-22T13:51:31.751Z"
   },
   {
    "duration": 7,
    "start_time": "2023-01-22T13:51:44.899Z"
   },
   {
    "duration": 10,
    "start_time": "2023-01-22T13:51:46.193Z"
   },
   {
    "duration": 4,
    "start_time": "2023-01-22T13:57:40.901Z"
   },
   {
    "duration": 29,
    "start_time": "2023-01-22T13:57:58.717Z"
   },
   {
    "duration": 11,
    "start_time": "2023-01-22T14:00:59.031Z"
   },
   {
    "duration": 14,
    "start_time": "2023-01-22T14:01:27.282Z"
   },
   {
    "duration": 63,
    "start_time": "2023-01-22T14:02:02.477Z"
   },
   {
    "duration": 7,
    "start_time": "2023-01-22T14:02:11.870Z"
   },
   {
    "duration": 1690,
    "start_time": "2023-01-22T14:02:13.884Z"
   },
   {
    "duration": 4,
    "start_time": "2023-01-22T14:02:43.331Z"
   },
   {
    "duration": 2009,
    "start_time": "2023-01-22T14:02:50.313Z"
   },
   {
    "duration": 2277,
    "start_time": "2023-01-22T14:03:41.487Z"
   },
   {
    "duration": 2102,
    "start_time": "2023-01-22T14:03:43.772Z"
   },
   {
    "duration": 1634,
    "start_time": "2023-01-22T14:25:09.195Z"
   },
   {
    "duration": 4,
    "start_time": "2023-01-22T14:25:10.832Z"
   },
   {
    "duration": 691,
    "start_time": "2023-01-22T14:25:10.843Z"
   },
   {
    "duration": 6,
    "start_time": "2023-01-22T14:25:11.538Z"
   },
   {
    "duration": 719,
    "start_time": "2023-01-22T14:25:11.549Z"
   },
   {
    "duration": 19,
    "start_time": "2023-01-22T14:25:12.281Z"
   },
   {
    "duration": 7,
    "start_time": "2023-01-22T14:25:12.302Z"
   },
   {
    "duration": 406,
    "start_time": "2023-01-22T14:25:12.311Z"
   },
   {
    "duration": 44,
    "start_time": "2023-01-22T14:25:12.720Z"
   },
   {
    "duration": 32,
    "start_time": "2023-01-22T14:25:12.768Z"
   },
   {
    "duration": 35,
    "start_time": "2023-01-22T14:25:12.803Z"
   },
   {
    "duration": 21,
    "start_time": "2023-01-22T14:25:12.841Z"
   },
   {
    "duration": 423,
    "start_time": "2023-01-22T14:25:12.864Z"
   },
   {
    "duration": 30,
    "start_time": "2023-01-22T14:25:13.290Z"
   },
   {
    "duration": 28,
    "start_time": "2023-01-22T14:25:13.322Z"
   },
   {
    "duration": 68,
    "start_time": "2023-01-22T14:25:13.355Z"
   },
   {
    "duration": 7,
    "start_time": "2023-01-22T14:25:13.426Z"
   },
   {
    "duration": 387,
    "start_time": "2023-01-22T14:25:13.436Z"
   },
   {
    "duration": 51,
    "start_time": "2023-01-22T14:25:13.826Z"
   },
   {
    "duration": 21,
    "start_time": "2023-01-22T14:25:13.881Z"
   },
   {
    "duration": 62,
    "start_time": "2023-01-22T14:25:13.904Z"
   },
   {
    "duration": 7,
    "start_time": "2023-01-22T14:25:14.045Z"
   },
   {
    "duration": 61,
    "start_time": "2023-01-22T14:25:14.054Z"
   },
   {
    "duration": 90,
    "start_time": "2023-01-22T14:25:14.154Z"
   },
   {
    "duration": 56,
    "start_time": "2023-01-22T14:25:14.247Z"
   },
   {
    "duration": 29,
    "start_time": "2023-01-22T14:25:14.347Z"
   },
   {
    "duration": 92,
    "start_time": "2023-01-22T14:25:14.381Z"
   },
   {
    "duration": 204,
    "start_time": "2023-01-22T14:25:14.480Z"
   },
   {
    "duration": 0,
    "start_time": "2023-01-22T14:25:14.686Z"
   },
   {
    "duration": 0,
    "start_time": "2023-01-22T14:25:14.687Z"
   },
   {
    "duration": 0,
    "start_time": "2023-01-22T14:25:14.689Z"
   },
   {
    "duration": 0,
    "start_time": "2023-01-22T14:25:14.691Z"
   },
   {
    "duration": 0,
    "start_time": "2023-01-22T14:25:14.692Z"
   },
   {
    "duration": 0,
    "start_time": "2023-01-22T14:25:14.694Z"
   },
   {
    "duration": 0,
    "start_time": "2023-01-22T14:25:14.695Z"
   },
   {
    "duration": 0,
    "start_time": "2023-01-22T14:25:14.696Z"
   },
   {
    "duration": 0,
    "start_time": "2023-01-22T14:25:14.697Z"
   },
   {
    "duration": 0,
    "start_time": "2023-01-22T14:25:14.699Z"
   },
   {
    "duration": 0,
    "start_time": "2023-01-22T14:25:14.701Z"
   },
   {
    "duration": 0,
    "start_time": "2023-01-22T14:25:14.702Z"
   },
   {
    "duration": 0,
    "start_time": "2023-01-22T14:25:14.704Z"
   },
   {
    "duration": 0,
    "start_time": "2023-01-22T14:25:14.706Z"
   },
   {
    "duration": 0,
    "start_time": "2023-01-22T14:25:14.707Z"
   },
   {
    "duration": 0,
    "start_time": "2023-01-22T14:25:14.708Z"
   },
   {
    "duration": 4,
    "start_time": "2023-01-22T14:26:25.720Z"
   },
   {
    "duration": 11,
    "start_time": "2023-01-22T14:26:26.363Z"
   },
   {
    "duration": 5,
    "start_time": "2023-01-22T14:26:39.265Z"
   },
   {
    "duration": 1485,
    "start_time": "2023-01-22T14:26:50.210Z"
   },
   {
    "duration": 3,
    "start_time": "2023-01-22T14:26:51.697Z"
   },
   {
    "duration": 435,
    "start_time": "2023-01-22T14:26:51.702Z"
   },
   {
    "duration": 5,
    "start_time": "2023-01-22T14:26:52.140Z"
   },
   {
    "duration": 601,
    "start_time": "2023-01-22T14:26:52.158Z"
   },
   {
    "duration": 18,
    "start_time": "2023-01-22T14:26:52.761Z"
   },
   {
    "duration": 38,
    "start_time": "2023-01-22T14:26:52.781Z"
   },
   {
    "duration": 381,
    "start_time": "2023-01-22T14:26:52.821Z"
   },
   {
    "duration": 47,
    "start_time": "2023-01-22T14:26:53.204Z"
   },
   {
    "duration": 22,
    "start_time": "2023-01-22T14:26:53.268Z"
   },
   {
    "duration": 29,
    "start_time": "2023-01-22T14:26:53.294Z"
   },
   {
    "duration": 7,
    "start_time": "2023-01-22T14:26:53.326Z"
   },
   {
    "duration": 373,
    "start_time": "2023-01-22T14:26:53.334Z"
   },
   {
    "duration": 41,
    "start_time": "2023-01-22T14:26:53.708Z"
   },
   {
    "duration": 14,
    "start_time": "2023-01-22T14:26:53.751Z"
   },
   {
    "duration": 21,
    "start_time": "2023-01-22T14:26:53.768Z"
   },
   {
    "duration": 6,
    "start_time": "2023-01-22T14:26:53.791Z"
   },
   {
    "duration": 323,
    "start_time": "2023-01-22T14:26:53.799Z"
   },
   {
    "duration": 32,
    "start_time": "2023-01-22T14:26:54.124Z"
   },
   {
    "duration": 21,
    "start_time": "2023-01-22T14:26:54.158Z"
   },
   {
    "duration": 22,
    "start_time": "2023-01-22T14:26:54.181Z"
   },
   {
    "duration": 49,
    "start_time": "2023-01-22T14:26:54.205Z"
   },
   {
    "duration": 126,
    "start_time": "2023-01-22T14:26:54.256Z"
   },
   {
    "duration": 70,
    "start_time": "2023-01-22T14:26:54.384Z"
   },
   {
    "duration": 125,
    "start_time": "2023-01-22T14:26:54.456Z"
   },
   {
    "duration": 64,
    "start_time": "2023-01-22T14:26:54.587Z"
   },
   {
    "duration": 118,
    "start_time": "2023-01-22T14:26:54.660Z"
   },
   {
    "duration": 7,
    "start_time": "2023-01-22T14:26:54.781Z"
   },
   {
    "duration": 5,
    "start_time": "2023-01-22T14:26:54.790Z"
   },
   {
    "duration": 8,
    "start_time": "2023-01-22T14:26:54.796Z"
   },
   {
    "duration": 16,
    "start_time": "2023-01-22T14:26:54.805Z"
   },
   {
    "duration": 133,
    "start_time": "2023-01-22T14:26:54.823Z"
   },
   {
    "duration": 0,
    "start_time": "2023-01-22T14:26:54.957Z"
   },
   {
    "duration": 0,
    "start_time": "2023-01-22T14:26:54.962Z"
   },
   {
    "duration": 0,
    "start_time": "2023-01-22T14:26:54.963Z"
   },
   {
    "duration": 0,
    "start_time": "2023-01-22T14:26:54.964Z"
   },
   {
    "duration": 0,
    "start_time": "2023-01-22T14:26:54.965Z"
   },
   {
    "duration": 0,
    "start_time": "2023-01-22T14:26:54.966Z"
   },
   {
    "duration": 0,
    "start_time": "2023-01-22T14:26:54.967Z"
   },
   {
    "duration": 0,
    "start_time": "2023-01-22T14:26:54.968Z"
   },
   {
    "duration": 0,
    "start_time": "2023-01-22T14:26:54.969Z"
   },
   {
    "duration": 0,
    "start_time": "2023-01-22T14:26:54.969Z"
   },
   {
    "duration": 0,
    "start_time": "2023-01-22T14:26:54.970Z"
   },
   {
    "duration": 0,
    "start_time": "2023-01-22T14:26:54.971Z"
   },
   {
    "duration": 1560,
    "start_time": "2023-01-22T14:27:24.892Z"
   },
   {
    "duration": 12,
    "start_time": "2023-01-22T14:27:26.459Z"
   },
   {
    "duration": 468,
    "start_time": "2023-01-22T14:27:26.473Z"
   },
   {
    "duration": 11,
    "start_time": "2023-01-22T14:27:26.952Z"
   },
   {
    "duration": 619,
    "start_time": "2023-01-22T14:27:26.965Z"
   },
   {
    "duration": 16,
    "start_time": "2023-01-22T14:27:27.585Z"
   },
   {
    "duration": 12,
    "start_time": "2023-01-22T14:27:27.603Z"
   },
   {
    "duration": 357,
    "start_time": "2023-01-22T14:27:27.617Z"
   },
   {
    "duration": 23,
    "start_time": "2023-01-22T14:27:27.976Z"
   },
   {
    "duration": 11,
    "start_time": "2023-01-22T14:27:28.003Z"
   },
   {
    "duration": 53,
    "start_time": "2023-01-22T14:27:28.016Z"
   },
   {
    "duration": 16,
    "start_time": "2023-01-22T14:27:28.074Z"
   },
   {
    "duration": 359,
    "start_time": "2023-01-22T14:27:28.092Z"
   },
   {
    "duration": 30,
    "start_time": "2023-01-22T14:27:28.453Z"
   },
   {
    "duration": 24,
    "start_time": "2023-01-22T14:27:28.485Z"
   },
   {
    "duration": 55,
    "start_time": "2023-01-22T14:27:28.511Z"
   },
   {
    "duration": 25,
    "start_time": "2023-01-22T14:27:28.572Z"
   },
   {
    "duration": 357,
    "start_time": "2023-01-22T14:27:28.599Z"
   },
   {
    "duration": 19,
    "start_time": "2023-01-22T14:27:28.966Z"
   },
   {
    "duration": 47,
    "start_time": "2023-01-22T14:27:28.987Z"
   },
   {
    "duration": 60,
    "start_time": "2023-01-22T14:27:29.035Z"
   },
   {
    "duration": 52,
    "start_time": "2023-01-22T14:27:29.099Z"
   },
   {
    "duration": 115,
    "start_time": "2023-01-22T14:27:29.160Z"
   },
   {
    "duration": 170,
    "start_time": "2023-01-22T14:27:29.279Z"
   },
   {
    "duration": 56,
    "start_time": "2023-01-22T14:27:29.451Z"
   },
   {
    "duration": 34,
    "start_time": "2023-01-22T14:27:29.509Z"
   },
   {
    "duration": 97,
    "start_time": "2023-01-22T14:27:29.545Z"
   },
   {
    "duration": 36,
    "start_time": "2023-01-22T14:27:29.648Z"
   },
   {
    "duration": 9,
    "start_time": "2023-01-22T14:27:29.686Z"
   },
   {
    "duration": 12,
    "start_time": "2023-01-22T14:27:29.696Z"
   },
   {
    "duration": 15,
    "start_time": "2023-01-22T14:27:29.710Z"
   },
   {
    "duration": 18,
    "start_time": "2023-01-22T14:27:29.726Z"
   },
   {
    "duration": 50,
    "start_time": "2023-01-22T14:27:29.745Z"
   },
   {
    "duration": 17,
    "start_time": "2023-01-22T14:27:29.797Z"
   },
   {
    "duration": 6,
    "start_time": "2023-01-22T14:27:29.816Z"
   },
   {
    "duration": 10,
    "start_time": "2023-01-22T14:27:29.824Z"
   },
   {
    "duration": 54,
    "start_time": "2023-01-22T14:27:29.836Z"
   },
   {
    "duration": 22,
    "start_time": "2023-01-22T14:27:29.892Z"
   },
   {
    "duration": 14,
    "start_time": "2023-01-22T14:27:29.915Z"
   },
   {
    "duration": 48,
    "start_time": "2023-01-22T14:27:29.931Z"
   },
   {
    "duration": 32,
    "start_time": "2023-01-22T14:27:29.980Z"
   },
   {
    "duration": 231,
    "start_time": "2023-01-22T14:27:30.014Z"
   },
   {
    "duration": 0,
    "start_time": "2023-01-22T14:27:30.247Z"
   },
   {
    "duration": 0,
    "start_time": "2023-01-22T14:27:30.248Z"
   },
   {
    "duration": 4,
    "start_time": "2023-01-22T14:29:27.406Z"
   },
   {
    "duration": 8,
    "start_time": "2023-01-22T14:29:39.593Z"
   },
   {
    "duration": 1558,
    "start_time": "2023-01-22T14:29:48.843Z"
   },
   {
    "duration": 4,
    "start_time": "2023-01-22T14:29:50.403Z"
   },
   {
    "duration": 499,
    "start_time": "2023-01-22T14:29:50.410Z"
   },
   {
    "duration": 4,
    "start_time": "2023-01-22T14:29:50.911Z"
   },
   {
    "duration": 579,
    "start_time": "2023-01-22T14:29:50.917Z"
   },
   {
    "duration": 21,
    "start_time": "2023-01-22T14:29:51.498Z"
   },
   {
    "duration": 24,
    "start_time": "2023-01-22T14:29:51.541Z"
   },
   {
    "duration": 365,
    "start_time": "2023-01-22T14:29:51.566Z"
   },
   {
    "duration": 29,
    "start_time": "2023-01-22T14:29:51.933Z"
   },
   {
    "duration": 38,
    "start_time": "2023-01-22T14:29:51.971Z"
   },
   {
    "duration": 29,
    "start_time": "2023-01-22T14:29:52.011Z"
   },
   {
    "duration": 57,
    "start_time": "2023-01-22T14:29:52.048Z"
   },
   {
    "duration": 375,
    "start_time": "2023-01-22T14:29:52.106Z"
   },
   {
    "duration": 31,
    "start_time": "2023-01-22T14:29:52.483Z"
   },
   {
    "duration": 43,
    "start_time": "2023-01-22T14:29:52.516Z"
   },
   {
    "duration": 69,
    "start_time": "2023-01-22T14:29:52.562Z"
   },
   {
    "duration": 61,
    "start_time": "2023-01-22T14:29:52.633Z"
   },
   {
    "duration": 391,
    "start_time": "2023-01-22T14:29:52.697Z"
   },
   {
    "duration": 20,
    "start_time": "2023-01-22T14:29:53.090Z"
   },
   {
    "duration": 12,
    "start_time": "2023-01-22T14:29:53.112Z"
   },
   {
    "duration": 45,
    "start_time": "2023-01-22T14:29:53.142Z"
   },
   {
    "duration": 101,
    "start_time": "2023-01-22T14:29:53.242Z"
   },
   {
    "duration": 117,
    "start_time": "2023-01-22T14:29:53.345Z"
   },
   {
    "duration": 85,
    "start_time": "2023-01-22T14:29:53.465Z"
   },
   {
    "duration": 99,
    "start_time": "2023-01-22T14:29:53.555Z"
   },
   {
    "duration": 12,
    "start_time": "2023-01-22T14:29:53.661Z"
   },
   {
    "duration": 114,
    "start_time": "2023-01-22T14:29:53.684Z"
   },
   {
    "duration": 16,
    "start_time": "2023-01-22T14:29:53.804Z"
   },
   {
    "duration": 9,
    "start_time": "2023-01-22T14:29:53.823Z"
   },
   {
    "duration": 55,
    "start_time": "2023-01-22T14:29:53.834Z"
   },
   {
    "duration": 39,
    "start_time": "2023-01-22T14:29:53.891Z"
   },
   {
    "duration": 36,
    "start_time": "2023-01-22T14:29:53.932Z"
   },
   {
    "duration": 51,
    "start_time": "2023-01-22T14:29:53.974Z"
   },
   {
    "duration": 23,
    "start_time": "2023-01-22T14:29:54.027Z"
   },
   {
    "duration": 32,
    "start_time": "2023-01-22T14:29:54.055Z"
   },
   {
    "duration": 18,
    "start_time": "2023-01-22T14:29:54.089Z"
   },
   {
    "duration": 11,
    "start_time": "2023-01-22T14:29:54.109Z"
   },
   {
    "duration": 22,
    "start_time": "2023-01-22T14:29:54.121Z"
   },
   {
    "duration": 47,
    "start_time": "2023-01-22T14:29:54.144Z"
   },
   {
    "duration": 13,
    "start_time": "2023-01-22T14:29:54.194Z"
   },
   {
    "duration": 11,
    "start_time": "2023-01-22T14:29:54.209Z"
   },
   {
    "duration": 13,
    "start_time": "2023-01-22T14:29:54.222Z"
   },
   {
    "duration": 2108,
    "start_time": "2023-01-22T14:29:54.236Z"
   },
   {
    "duration": 2196,
    "start_time": "2023-01-22T14:29:56.346Z"
   },
   {
    "duration": 2135,
    "start_time": "2023-01-22T14:29:58.544Z"
   },
   {
    "duration": 1547,
    "start_time": "2023-01-22T14:33:09.242Z"
   },
   {
    "duration": 3,
    "start_time": "2023-01-22T14:33:10.791Z"
   },
   {
    "duration": 436,
    "start_time": "2023-01-22T14:33:10.796Z"
   },
   {
    "duration": 4,
    "start_time": "2023-01-22T14:33:11.234Z"
   },
   {
    "duration": 524,
    "start_time": "2023-01-22T14:33:11.241Z"
   },
   {
    "duration": 16,
    "start_time": "2023-01-22T14:33:11.767Z"
   },
   {
    "duration": 5,
    "start_time": "2023-01-22T14:33:11.785Z"
   },
   {
    "duration": 326,
    "start_time": "2023-01-22T14:33:11.792Z"
   },
   {
    "duration": 41,
    "start_time": "2023-01-22T14:33:12.120Z"
   },
   {
    "duration": 11,
    "start_time": "2023-01-22T14:33:12.167Z"
   },
   {
    "duration": 17,
    "start_time": "2023-01-22T14:33:12.180Z"
   },
   {
    "duration": 5,
    "start_time": "2023-01-22T14:33:12.199Z"
   },
   {
    "duration": 379,
    "start_time": "2023-01-22T14:33:12.206Z"
   },
   {
    "duration": 22,
    "start_time": "2023-01-22T14:33:12.587Z"
   },
   {
    "duration": 17,
    "start_time": "2023-01-22T14:33:12.611Z"
   },
   {
    "duration": 25,
    "start_time": "2023-01-22T14:33:12.630Z"
   },
   {
    "duration": 36,
    "start_time": "2023-01-22T14:33:12.658Z"
   },
   {
    "duration": 347,
    "start_time": "2023-01-22T14:33:12.696Z"
   },
   {
    "duration": 22,
    "start_time": "2023-01-22T14:33:13.055Z"
   },
   {
    "duration": 10,
    "start_time": "2023-01-22T14:33:13.079Z"
   },
   {
    "duration": 61,
    "start_time": "2023-01-22T14:33:13.091Z"
   },
   {
    "duration": 115,
    "start_time": "2023-01-22T14:33:13.154Z"
   },
   {
    "duration": 19,
    "start_time": "2023-01-22T14:33:13.271Z"
   },
   {
    "duration": 7,
    "start_time": "2023-01-22T14:33:13.292Z"
   },
   {
    "duration": 106,
    "start_time": "2023-01-22T14:33:13.345Z"
   },
   {
    "duration": 23,
    "start_time": "2023-01-22T14:33:13.457Z"
   },
   {
    "duration": 44,
    "start_time": "2023-01-22T14:33:13.544Z"
   },
   {
    "duration": 32,
    "start_time": "2023-01-22T14:33:13.639Z"
   },
   {
    "duration": 10,
    "start_time": "2023-01-22T14:33:13.673Z"
   },
   {
    "duration": 21,
    "start_time": "2023-01-22T14:33:13.684Z"
   },
   {
    "duration": 17,
    "start_time": "2023-01-22T14:33:13.707Z"
   },
   {
    "duration": 10,
    "start_time": "2023-01-22T14:33:13.726Z"
   },
   {
    "duration": 18,
    "start_time": "2023-01-22T14:33:13.738Z"
   },
   {
    "duration": 34,
    "start_time": "2023-01-22T14:33:13.758Z"
   },
   {
    "duration": 29,
    "start_time": "2023-01-22T14:33:13.794Z"
   },
   {
    "duration": 47,
    "start_time": "2023-01-22T14:33:13.825Z"
   },
   {
    "duration": 21,
    "start_time": "2023-01-22T14:33:13.874Z"
   },
   {
    "duration": 9,
    "start_time": "2023-01-22T14:33:13.898Z"
   },
   {
    "duration": 8,
    "start_time": "2023-01-22T14:33:13.909Z"
   },
   {
    "duration": 9,
    "start_time": "2023-01-22T14:33:13.919Z"
   },
   {
    "duration": 19,
    "start_time": "2023-01-22T14:33:13.930Z"
   },
   {
    "duration": 19,
    "start_time": "2023-01-22T14:33:13.955Z"
   },
   {
    "duration": 1899,
    "start_time": "2023-01-22T14:33:13.976Z"
   },
   {
    "duration": 2099,
    "start_time": "2023-01-22T14:33:15.877Z"
   },
   {
    "duration": 2058,
    "start_time": "2023-01-22T14:33:17.977Z"
   },
   {
    "duration": 2033,
    "start_time": "2023-01-22T17:08:55.887Z"
   },
   {
    "duration": 3,
    "start_time": "2023-01-22T17:08:57.922Z"
   },
   {
    "duration": 390,
    "start_time": "2023-01-22T17:08:57.926Z"
   },
   {
    "duration": 4,
    "start_time": "2023-01-22T17:08:58.319Z"
   },
   {
    "duration": 460,
    "start_time": "2023-01-22T17:08:58.325Z"
   },
   {
    "duration": 17,
    "start_time": "2023-01-22T17:08:58.786Z"
   },
   {
    "duration": 12,
    "start_time": "2023-01-22T17:08:58.805Z"
   },
   {
    "duration": 349,
    "start_time": "2023-01-22T17:08:58.819Z"
   },
   {
    "duration": 20,
    "start_time": "2023-01-22T17:08:59.170Z"
   },
   {
    "duration": 11,
    "start_time": "2023-01-22T17:08:59.192Z"
   },
   {
    "duration": 40,
    "start_time": "2023-01-22T17:08:59.204Z"
   },
   {
    "duration": 6,
    "start_time": "2023-01-22T17:08:59.245Z"
   },
   {
    "duration": 297,
    "start_time": "2023-01-22T17:08:59.253Z"
   },
   {
    "duration": 26,
    "start_time": "2023-01-22T17:08:59.552Z"
   },
   {
    "duration": 13,
    "start_time": "2023-01-22T17:08:59.580Z"
   },
   {
    "duration": 18,
    "start_time": "2023-01-22T17:08:59.595Z"
   },
   {
    "duration": 27,
    "start_time": "2023-01-22T17:08:59.615Z"
   },
   {
    "duration": 289,
    "start_time": "2023-01-22T17:08:59.644Z"
   },
   {
    "duration": 19,
    "start_time": "2023-01-22T17:08:59.940Z"
   },
   {
    "duration": 11,
    "start_time": "2023-01-22T17:08:59.961Z"
   },
   {
    "duration": 68,
    "start_time": "2023-01-22T17:08:59.974Z"
   },
   {
    "duration": 8,
    "start_time": "2023-01-22T17:09:00.046Z"
   },
   {
    "duration": 14,
    "start_time": "2023-01-22T17:09:00.141Z"
   },
   {
    "duration": 187,
    "start_time": "2023-01-22T17:09:00.158Z"
   },
   {
    "duration": 69,
    "start_time": "2023-01-22T17:09:00.346Z"
   },
   {
    "duration": 133,
    "start_time": "2023-01-22T17:09:00.418Z"
   },
   {
    "duration": 28,
    "start_time": "2023-01-22T17:09:00.553Z"
   },
   {
    "duration": 25,
    "start_time": "2023-01-22T17:09:00.586Z"
   },
   {
    "duration": 30,
    "start_time": "2023-01-22T17:09:00.613Z"
   },
   {
    "duration": 29,
    "start_time": "2023-01-22T17:09:00.645Z"
   },
   {
    "duration": 39,
    "start_time": "2023-01-22T17:09:00.676Z"
   },
   {
    "duration": 33,
    "start_time": "2023-01-22T17:09:00.717Z"
   },
   {
    "duration": 25,
    "start_time": "2023-01-22T17:09:00.752Z"
   },
   {
    "duration": 66,
    "start_time": "2023-01-22T17:09:00.779Z"
   },
   {
    "duration": 50,
    "start_time": "2023-01-22T17:09:00.847Z"
   },
   {
    "duration": 66,
    "start_time": "2023-01-22T17:09:00.898Z"
   },
   {
    "duration": 43,
    "start_time": "2023-01-22T17:09:00.966Z"
   },
   {
    "duration": 120,
    "start_time": "2023-01-22T17:09:01.010Z"
   },
   {
    "duration": 57,
    "start_time": "2023-01-22T17:09:01.131Z"
   },
   {
    "duration": 68,
    "start_time": "2023-01-22T17:09:01.189Z"
   },
   {
    "duration": 55,
    "start_time": "2023-01-22T17:09:01.259Z"
   },
   {
    "duration": 67,
    "start_time": "2023-01-22T17:09:01.316Z"
   },
   {
    "duration": 1741,
    "start_time": "2023-01-22T17:09:01.385Z"
   },
   {
    "duration": 1822,
    "start_time": "2023-01-22T17:09:03.127Z"
   },
   {
    "duration": 1734,
    "start_time": "2023-01-22T17:09:04.951Z"
   },
   {
    "duration": 16,
    "start_time": "2023-01-22T17:35:39.280Z"
   },
   {
    "duration": 11,
    "start_time": "2023-01-22T17:35:50.428Z"
   },
   {
    "duration": 1531,
    "start_time": "2023-01-22T22:49:59.917Z"
   },
   {
    "duration": 3,
    "start_time": "2023-01-22T22:50:01.449Z"
   },
   {
    "duration": 1475,
    "start_time": "2023-01-22T22:50:01.454Z"
   },
   {
    "duration": 4,
    "start_time": "2023-01-22T22:50:02.930Z"
   },
   {
    "duration": 392,
    "start_time": "2023-01-22T22:50:02.935Z"
   },
   {
    "duration": 26,
    "start_time": "2023-01-22T22:51:10.908Z"
   },
   {
    "duration": 4,
    "start_time": "2023-01-22T22:51:47.962Z"
   },
   {
    "duration": 17,
    "start_time": "2023-01-22T22:53:19.926Z"
   },
   {
    "duration": 408,
    "start_time": "2023-01-22T22:53:51.108Z"
   },
   {
    "duration": 109,
    "start_time": "2023-01-22T22:54:38.938Z"
   },
   {
    "duration": 303,
    "start_time": "2023-01-22T22:54:46.361Z"
   },
   {
    "duration": 277,
    "start_time": "2023-01-22T22:57:26.682Z"
   },
   {
    "duration": 3,
    "start_time": "2023-01-22T22:59:30.285Z"
   },
   {
    "duration": 3,
    "start_time": "2023-01-22T23:00:09.887Z"
   },
   {
    "duration": 4,
    "start_time": "2023-01-22T23:15:13.165Z"
   },
   {
    "duration": 303,
    "start_time": "2023-01-22T23:15:48.474Z"
   },
   {
    "duration": 1343,
    "start_time": "2023-02-01T23:25:38.662Z"
   },
   {
    "duration": 4,
    "start_time": "2023-02-01T23:25:40.007Z"
   },
   {
    "duration": 1040,
    "start_time": "2023-02-01T23:25:40.013Z"
   },
   {
    "duration": 3,
    "start_time": "2023-02-01T23:25:41.056Z"
   },
   {
    "duration": 436,
    "start_time": "2023-02-01T23:25:41.061Z"
   },
   {
    "duration": 4,
    "start_time": "2023-02-01T23:25:41.498Z"
   },
   {
    "duration": 119,
    "start_time": "2023-02-01T23:25:41.503Z"
   },
   {
    "duration": 0,
    "start_time": "2023-02-01T23:25:41.626Z"
   },
   {
    "duration": 0,
    "start_time": "2023-02-01T23:25:41.627Z"
   },
   {
    "duration": 0,
    "start_time": "2023-02-01T23:25:41.629Z"
   },
   {
    "duration": 0,
    "start_time": "2023-02-01T23:25:41.643Z"
   },
   {
    "duration": 0,
    "start_time": "2023-02-01T23:25:41.645Z"
   },
   {
    "duration": 0,
    "start_time": "2023-02-01T23:25:41.647Z"
   },
   {
    "duration": 0,
    "start_time": "2023-02-01T23:25:41.649Z"
   },
   {
    "duration": 0,
    "start_time": "2023-02-01T23:25:41.649Z"
   },
   {
    "duration": 0,
    "start_time": "2023-02-01T23:25:41.650Z"
   },
   {
    "duration": 0,
    "start_time": "2023-02-01T23:25:41.651Z"
   },
   {
    "duration": 0,
    "start_time": "2023-02-01T23:25:41.652Z"
   },
   {
    "duration": 0,
    "start_time": "2023-02-01T23:25:41.653Z"
   },
   {
    "duration": 0,
    "start_time": "2023-02-01T23:25:41.654Z"
   },
   {
    "duration": 1,
    "start_time": "2023-02-01T23:25:41.654Z"
   },
   {
    "duration": 0,
    "start_time": "2023-02-01T23:25:41.657Z"
   },
   {
    "duration": 0,
    "start_time": "2023-02-01T23:25:41.658Z"
   },
   {
    "duration": 0,
    "start_time": "2023-02-01T23:25:41.659Z"
   },
   {
    "duration": 0,
    "start_time": "2023-02-01T23:25:41.660Z"
   },
   {
    "duration": 0,
    "start_time": "2023-02-01T23:25:41.662Z"
   },
   {
    "duration": 0,
    "start_time": "2023-02-01T23:25:41.663Z"
   },
   {
    "duration": 0,
    "start_time": "2023-02-01T23:25:41.664Z"
   },
   {
    "duration": 0,
    "start_time": "2023-02-01T23:25:41.665Z"
   },
   {
    "duration": 0,
    "start_time": "2023-02-01T23:25:41.666Z"
   },
   {
    "duration": 0,
    "start_time": "2023-02-01T23:25:41.667Z"
   },
   {
    "duration": 0,
    "start_time": "2023-02-01T23:25:41.668Z"
   },
   {
    "duration": 0,
    "start_time": "2023-02-01T23:25:41.669Z"
   },
   {
    "duration": 0,
    "start_time": "2023-02-01T23:25:41.670Z"
   },
   {
    "duration": 0,
    "start_time": "2023-02-01T23:25:41.671Z"
   },
   {
    "duration": 0,
    "start_time": "2023-02-01T23:25:41.672Z"
   },
   {
    "duration": 0,
    "start_time": "2023-02-01T23:25:41.673Z"
   },
   {
    "duration": 0,
    "start_time": "2023-02-01T23:25:41.674Z"
   },
   {
    "duration": 0,
    "start_time": "2023-02-01T23:25:41.675Z"
   },
   {
    "duration": 0,
    "start_time": "2023-02-01T23:25:41.676Z"
   },
   {
    "duration": 0,
    "start_time": "2023-02-01T23:25:41.677Z"
   },
   {
    "duration": 0,
    "start_time": "2023-02-01T23:25:41.678Z"
   },
   {
    "duration": 0,
    "start_time": "2023-02-01T23:25:41.679Z"
   },
   {
    "duration": 0,
    "start_time": "2023-02-01T23:25:41.680Z"
   },
   {
    "duration": 0,
    "start_time": "2023-02-01T23:25:41.681Z"
   },
   {
    "duration": 0,
    "start_time": "2023-02-01T23:25:41.682Z"
   },
   {
    "duration": 0,
    "start_time": "2023-02-01T23:25:41.683Z"
   },
   {
    "duration": 0,
    "start_time": "2023-02-01T23:25:41.739Z"
   },
   {
    "duration": 0,
    "start_time": "2023-02-01T23:25:41.740Z"
   },
   {
    "duration": 350,
    "start_time": "2023-02-01T23:27:15.233Z"
   },
   {
    "duration": 1303,
    "start_time": "2023-02-01T23:27:28.896Z"
   },
   {
    "duration": 3,
    "start_time": "2023-02-01T23:27:30.201Z"
   },
   {
    "duration": 437,
    "start_time": "2023-02-01T23:27:30.206Z"
   },
   {
    "duration": 4,
    "start_time": "2023-02-01T23:27:30.645Z"
   },
   {
    "duration": 503,
    "start_time": "2023-02-01T23:27:30.650Z"
   },
   {
    "duration": 3,
    "start_time": "2023-02-01T23:27:31.155Z"
   },
   {
    "duration": 433,
    "start_time": "2023-02-01T23:27:31.159Z"
   },
   {
    "duration": 13,
    "start_time": "2023-02-01T23:27:31.594Z"
   },
   {
    "duration": 31,
    "start_time": "2023-02-01T23:27:31.608Z"
   },
   {
    "duration": 332,
    "start_time": "2023-02-01T23:27:31.642Z"
   },
   {
    "duration": 16,
    "start_time": "2023-02-01T23:27:31.976Z"
   },
   {
    "duration": 20,
    "start_time": "2023-02-01T23:27:31.994Z"
   },
   {
    "duration": 38,
    "start_time": "2023-02-01T23:27:32.016Z"
   },
   {
    "duration": 26,
    "start_time": "2023-02-01T23:27:32.056Z"
   },
   {
    "duration": 297,
    "start_time": "2023-02-01T23:27:32.084Z"
   },
   {
    "duration": 16,
    "start_time": "2023-02-01T23:27:32.383Z"
   },
   {
    "duration": 10,
    "start_time": "2023-02-01T23:27:32.401Z"
   },
   {
    "duration": 38,
    "start_time": "2023-02-01T23:27:32.413Z"
   },
   {
    "duration": 5,
    "start_time": "2023-02-01T23:27:32.453Z"
   },
   {
    "duration": 325,
    "start_time": "2023-02-01T23:27:32.460Z"
   },
   {
    "duration": 17,
    "start_time": "2023-02-01T23:27:32.787Z"
   },
   {
    "duration": 11,
    "start_time": "2023-02-01T23:27:32.806Z"
   },
   {
    "duration": 40,
    "start_time": "2023-02-01T23:27:32.819Z"
   },
   {
    "duration": 83,
    "start_time": "2023-02-01T23:27:32.861Z"
   },
   {
    "duration": 114,
    "start_time": "2023-02-01T23:27:32.946Z"
   },
   {
    "duration": 80,
    "start_time": "2023-02-01T23:27:33.063Z"
   },
   {
    "duration": 120,
    "start_time": "2023-02-01T23:27:33.145Z"
   },
   {
    "duration": 7,
    "start_time": "2023-02-01T23:27:33.340Z"
   },
   {
    "duration": 120,
    "start_time": "2023-02-01T23:27:33.349Z"
   },
   {
    "duration": 8,
    "start_time": "2023-02-01T23:27:33.470Z"
   },
   {
    "duration": 5,
    "start_time": "2023-02-01T23:27:33.480Z"
   },
   {
    "duration": 8,
    "start_time": "2023-02-01T23:27:33.487Z"
   },
   {
    "duration": 20,
    "start_time": "2023-02-01T23:27:33.496Z"
   },
   {
    "duration": 14,
    "start_time": "2023-02-01T23:27:33.518Z"
   },
   {
    "duration": 14,
    "start_time": "2023-02-01T23:27:33.534Z"
   },
   {
    "duration": 13,
    "start_time": "2023-02-01T23:27:33.550Z"
   },
   {
    "duration": 5,
    "start_time": "2023-02-01T23:27:33.565Z"
   },
   {
    "duration": 10,
    "start_time": "2023-02-01T23:27:33.571Z"
   },
   {
    "duration": 4,
    "start_time": "2023-02-01T23:27:33.583Z"
   },
   {
    "duration": 10,
    "start_time": "2023-02-01T23:27:33.589Z"
   },
   {
    "duration": 8,
    "start_time": "2023-02-01T23:27:33.600Z"
   },
   {
    "duration": 36,
    "start_time": "2023-02-01T23:27:33.609Z"
   },
   {
    "duration": 3,
    "start_time": "2023-02-01T23:27:33.647Z"
   },
   {
    "duration": 26,
    "start_time": "2023-02-01T23:27:33.652Z"
   },
   {
    "duration": 28,
    "start_time": "2023-02-01T23:27:33.680Z"
   },
   {
    "duration": 15,
    "start_time": "2023-02-01T23:27:33.710Z"
   },
   {
    "duration": 1665,
    "start_time": "2023-02-01T23:27:33.727Z"
   },
   {
    "duration": 1729,
    "start_time": "2023-02-01T23:27:35.394Z"
   },
   {
    "duration": 1982,
    "start_time": "2023-02-01T23:27:37.125Z"
   },
   {
    "duration": 26,
    "start_time": "2023-02-01T23:28:13.277Z"
   },
   {
    "duration": 5,
    "start_time": "2023-02-01T23:28:15.846Z"
   },
   {
    "duration": 23,
    "start_time": "2023-02-01T23:28:48.712Z"
   },
   {
    "duration": 8,
    "start_time": "2023-02-01T23:28:48.956Z"
   },
   {
    "duration": 23,
    "start_time": "2023-02-01T23:29:04.889Z"
   },
   {
    "duration": 6,
    "start_time": "2023-02-01T23:29:05.761Z"
   },
   {
    "duration": 25,
    "start_time": "2023-02-01T23:29:32.277Z"
   },
   {
    "duration": 5,
    "start_time": "2023-02-01T23:29:32.760Z"
   },
   {
    "duration": 31,
    "start_time": "2023-02-01T23:29:46.352Z"
   },
   {
    "duration": 7,
    "start_time": "2023-02-01T23:29:47.457Z"
   },
   {
    "duration": 135,
    "start_time": "2023-02-01T23:30:32.960Z"
   },
   {
    "duration": 30,
    "start_time": "2023-02-01T23:30:41.200Z"
   },
   {
    "duration": 5,
    "start_time": "2023-02-01T23:30:41.621Z"
   },
   {
    "duration": 31,
    "start_time": "2023-02-01T23:30:59.246Z"
   },
   {
    "duration": 5,
    "start_time": "2023-02-01T23:31:00.608Z"
   }
  ],
  "kernelspec": {
   "display_name": "Python 3 (ipykernel)",
   "language": "python",
   "name": "python3"
  },
  "language_info": {
   "codemirror_mode": {
    "name": "ipython",
    "version": 3
   },
   "file_extension": ".py",
   "mimetype": "text/x-python",
   "name": "python",
   "nbconvert_exporter": "python",
   "pygments_lexer": "ipython3",
   "version": "3.9.5"
  },
  "toc": {
   "base_numbering": 1,
   "nav_menu": {},
   "number_sections": true,
   "sideBar": true,
   "skip_h1_title": true,
   "title_cell": "Table of Contents",
   "title_sidebar": "Contents",
   "toc_cell": false,
   "toc_position": {
    "height": "calc(100% - 180px)",
    "left": "10px",
    "top": "150px",
    "width": "327.101px"
   },
   "toc_section_display": true,
   "toc_window_display": true
  }
 },
 "nbformat": 4,
 "nbformat_minor": 2
}
