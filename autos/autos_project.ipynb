{
 "cells": [
  {
   "cell_type": "markdown",
   "metadata": {},
   "source": [
    "# Определение стоимости автомобилей"
   ]
  },
  {
   "cell_type": "markdown",
   "metadata": {},
   "source": [
    "## Подготовка данных"
   ]
  },
  {
   "cell_type": "markdown",
   "metadata": {},
   "source": [
    "### Обзор"
   ]
  },
  {
   "cell_type": "code",
   "execution_count": null,
   "metadata": {},
   "outputs": [],
   "source": [
    "!pip install scikit-learn==1.1.3"
   ]
  },
  {
   "cell_type": "code",
   "execution_count": null,
   "metadata": {
    "scrolled": true
   },
   "outputs": [],
   "source": [
    "!pip install phik"
   ]
  },
  {
   "cell_type": "code",
   "execution_count": null,
   "metadata": {},
   "outputs": [],
   "source": [
    "import warnings\n",
    "\n",
    "import pandas as pd\n",
    "import phik\n",
    "import numpy as np\n",
    "import pandas as pd\n",
    "import seaborn as sns\n",
    "import matplotlib.pyplot as plt\n",
    "from random import choices\n",
    "\n",
    "from sklearn.model_selection import (\n",
    "    train_test_split,\n",
    "    RandomizedSearchCV\n",
    ")\n",
    "from sklearn.metrics import (\n",
    "    mean_squared_error\n",
    ")\n",
    "\n",
    "from sklearn.linear_model import(\n",
    "    LinearRegression,\n",
    "    LogisticRegression\n",
    ")\n",
    "\n",
    "from sklearn.preprocessing import (\n",
    "    OneHotEncoder,\n",
    "    MinMaxScaler\n",
    ")  \n",
    "\n",
    "from catboost import (\n",
    "    CatBoostRegressor,\n",
    "    Pool,\n",
    "    cv\n",
    ")\n",
    "\n",
    "import lightgbm as lgb\n",
    "\n",
    "from lightgbm import(\n",
    "    LGBMRegressor\n",
    ")"
   ]
  },
  {
   "cell_type": "code",
   "execution_count": null,
   "metadata": {},
   "outputs": [],
   "source": [
    "# настройки\n",
    "pd.options.mode.chained_assignment = None\n",
    "warnings.filterwarnings(\"ignore\")\n",
    "\n",
    "# константы заглавными буквами\n",
    "RANDOM_STATE = 123456"
   ]
  },
  {
   "cell_type": "code",
   "execution_count": null,
   "metadata": {},
   "outputs": [],
   "source": [
    "data = pd.read_csv('/datasets/autos.csv', parse_dates=['DateCrawled', 'DateCreated', 'LastSeen'])"
   ]
  },
  {
   "cell_type": "code",
   "execution_count": null,
   "metadata": {},
   "outputs": [],
   "source": [
    "data.sample(5)"
   ]
  },
  {
   "cell_type": "markdown",
   "metadata": {},
   "source": [
    "Для удобства привел к нижнему регистру названия столбцов"
   ]
  },
  {
   "cell_type": "code",
   "execution_count": null,
   "metadata": {},
   "outputs": [],
   "source": [
    "data.info()"
   ]
  },
  {
   "cell_type": "code",
   "execution_count": null,
   "metadata": {},
   "outputs": [],
   "source": [
    "data.isna().sum()"
   ]
  },
  {
   "cell_type": "code",
   "execution_count": null,
   "metadata": {},
   "outputs": [],
   "source": [
    "data.describe()"
   ]
  },
  {
   "cell_type": "code",
   "execution_count": null,
   "metadata": {},
   "outputs": [],
   "source": [
    "data.boxplot(vert=False, figsize=(10, 12));"
   ]
  },
  {
   "cell_type": "code",
   "execution_count": null,
   "metadata": {},
   "outputs": [],
   "source": [
    "data.hist(figsize=(15, 9));"
   ]
  },
  {
   "cell_type": "markdown",
   "metadata": {},
   "source": [
    "Аномалии и ошибки в годе регистрации и в мощности двигателя."
   ]
  },
  {
   "cell_type": "markdown",
   "metadata": {},
   "source": [
    "### int64 в int16"
   ]
  },
  {
   "cell_type": "code",
   "execution_count": null,
   "metadata": {},
   "outputs": [],
   "source": [
    "data[data.select_dtypes(['int']).columns] = data[data.select_dtypes(['int']).columns].astype('int16')"
   ]
  },
  {
   "cell_type": "markdown",
   "metadata": {},
   "source": [
    "### Дубликаты"
   ]
  },
  {
   "cell_type": "markdown",
   "metadata": {},
   "source": [
    "Удалил дубликаты строк"
   ]
  },
  {
   "cell_type": "code",
   "execution_count": null,
   "metadata": {},
   "outputs": [],
   "source": [
    "data.duplicated().sum()"
   ]
  },
  {
   "cell_type": "code",
   "execution_count": null,
   "metadata": {},
   "outputs": [],
   "source": [
    "data = data.drop_duplicates()"
   ]
  },
  {
   "cell_type": "markdown",
   "metadata": {},
   "source": [
    "### Пропуски"
   ]
  },
  {
   "cell_type": "code",
   "execution_count": null,
   "metadata": {},
   "outputs": [],
   "source": [
    "def nan_percent_plot(df):\n",
    "    nan_percent = df.isna().mean()*100\n",
    "    if nan_percent[nan_percent.values > 0].count() > 0:\n",
    "        (\n",
    "            nan_percent[nan_percent.values > 0]\n",
    "            .sort_values(ascending=True)\n",
    "            .plot(kind = 'barh', figsize=(16, 6), fontsize=22).set_title('Процент пропущенных значений' + \"\\n\", fontsize=22)\n",
    "        );\n",
    "    else:\n",
    "        print('Пропусков не найдено')"
   ]
  },
  {
   "cell_type": "code",
   "execution_count": null,
   "metadata": {},
   "outputs": [],
   "source": [
    "nan_percent_plot(data)"
   ]
  },
  {
   "cell_type": "markdown",
   "metadata": {},
   "source": [
    "Так как столбец `Repaired` критически важен для ценообразования с точки зрения человека, терпеть пропуски в данном столбце нельзя, даже несмотря на большое количество пропусков в датасете их следует удалить. Хотя даже для анализа можно было бы заменить пропуски на наиболее часто встречающуюся категорию, или вычислить вероятность категории из имеющихся данных и подставить в каждую строку определенное значение со своей вероятностью в зависимости от дргуих признаков, такой способ, например, сохранит стандартное отклонение если признак был бы числовой. Но для конкретной задачи регрессии такое большое количество синтетических данных для обучения реальной модели - это выстрел себе в ногу. Тут остается провести доп работу по исследовательскому анализу данного столбца в контексте данного датасета для наиболее правильного заполнения пропусков синтетикой - очень трудоемкий процесс, словно отдельный проект, либо просто дропнуть эти строи и не усложнять себе жизнь. Поэтому, я принял волевое решение - удалить эти строки из датасета, оставшихся вполне себе достаточно для обучения."
   ]
  },
  {
   "cell_type": "code",
   "execution_count": null,
   "metadata": {},
   "outputs": [],
   "source": [
    "data = data[~data['Repaired'].isna()]"
   ]
  },
  {
   "cell_type": "markdown",
   "metadata": {},
   "source": [
    "Также привел к целочисленному типу данный признак."
   ]
  },
  {
   "cell_type": "code",
   "execution_count": null,
   "metadata": {},
   "outputs": [],
   "source": [
    "data['Repaired'] = data['Repaired'].apply(lambda ser: 1 if ser == 'yes' else 0).astype('int16')"
   ]
  },
  {
   "cell_type": "markdown",
   "metadata": {},
   "source": [
    "Считаю пропуски в наименовании модели для задачи определения цены недопустимыми, удалил их из датасета, около пяти процентов от датасета."
   ]
  },
  {
   "cell_type": "code",
   "execution_count": null,
   "metadata": {},
   "outputs": [],
   "source": [
    "data = data[~data['Model'].isna()]"
   ]
  },
  {
   "cell_type": "markdown",
   "metadata": {},
   "source": [
    "Пропуски в типе кузова можно считать не критичными, но есть сомнения, так как признак категориальный и если заполнить пропуски словом \"\"undefined\" то машина будет считать это отдельной категорией. ~~Поэтому просто удалю все.~~ Как выяснилось далее, тип кузова очень сильно зависит от модели. Поэтому можно рассчитать вероятности типов кузовов для каждой модели и случайным выбором из списка, с помощью random choices, с рассчитанной вероятностью для каждого типа кузова заполнить пропуски."
   ]
  },
  {
   "cell_type": "code",
   "execution_count": null,
   "metadata": {},
   "outputs": [],
   "source": [
    "for model in data['Model'].unique():\n",
    "    \n",
    "    counts = data[(~data['VehicleType'].isna() & (data['Model'] == model))]['VehicleType'].value_counts()\n",
    "    names = counts.index\n",
    "    counts = counts.values\n",
    "    \n",
    "    proba = []\n",
    "    for count in counts:\n",
    "        proba.append(round(count / sum(counts), 3))\n",
    "    \n",
    "    # Индекс [0] в choices нужно указать, чтобы он вернул значение без квадратных скобочек\n",
    "    data.loc[(data['VehicleType'].isna() & (data['Model'] == model)), 'VehicleType'] = \\\n",
    "    data.loc[(data['VehicleType'].isna() & (data['Model'] == model)), 'VehicleType'].apply(lambda ser: choices(names, weights=proba)[0])"
   ]
  },
  {
   "cell_type": "markdown",
   "metadata": {},
   "source": [
    "Про оставшиеся два признака (тип топлива и коробка передач) частично можно сказать тоже что и выше, только не заполнить в них пропуски опираясь на другой столбец, значимой связи нет, поэтому удалю все оставшиеся пропуски. В дальнейшем была заметна некоторая связь между коробкой передач и моделью, поэтому операцию выше можно попробовать повторить и для коробки передач, но это уже эксперименты."
   ]
  },
  {
   "cell_type": "code",
   "execution_count": null,
   "metadata": {},
   "outputs": [],
   "source": [
    "data = data.dropna()"
   ]
  },
  {
   "cell_type": "markdown",
   "metadata": {},
   "source": [
    "На этапе пропусков было удалено около ста тысяч записей, это около 29 процентов от всего датасета, но записей еще много, так что могу себе позволить удалить некачественные строки. При продакшине пользователь должен указать все данные, чтобы получить ответ от модели на определение рыночной стоимости. Можно конечно, оставить отдельную категорию \"undefined\" для некоторых признаков, чтобы пользователю не обязательно было вводить все данные. Но если модель планируется более менее серьезьной для серьезной работы то и пользователи должны отнестись серьезнее к заполнению данных, чтобы получить наиболее точный ответ от разработанной модели."
   ]
  },
  {
   "cell_type": "markdown",
   "metadata": {},
   "source": [
    "### Исследование даты выгрузки базы"
   ]
  },
  {
   "cell_type": "code",
   "execution_count": null,
   "metadata": {},
   "outputs": [],
   "source": [
    "year = pd.DatetimeIndex(data['DateCrawled']).year"
   ]
  },
  {
   "cell_type": "code",
   "execution_count": null,
   "metadata": {},
   "outputs": [],
   "source": [
    "year.value_counts()"
   ]
  },
  {
   "cell_type": "markdown",
   "metadata": {},
   "source": [
    "### Удаление неинформативных признаков"
   ]
  },
  {
   "cell_type": "markdown",
   "metadata": {},
   "source": [
    "В следующем коде оставил только те признаки, которые могут быть значимы исключительно для текущей задачи определения рыночной цены"
   ]
  },
  {
   "cell_type": "code",
   "execution_count": null,
   "metadata": {},
   "outputs": [],
   "source": [
    "data = data.drop(['DateCrawled', 'RegistrationMonth', 'DateCreated', 'NumberOfPictures', 'PostalCode', 'LastSeen'], axis=1)"
   ]
  },
  {
   "cell_type": "markdown",
   "metadata": {},
   "source": [
    "### Исследование колеряции признаков"
   ]
  },
  {
   "cell_type": "code",
   "execution_count": null,
   "metadata": {},
   "outputs": [],
   "source": [
    "correlation = data.phik_matrix()\n",
    "correlation"
   ]
  },
  {
   "cell_type": "code",
   "execution_count": null,
   "metadata": {},
   "outputs": [],
   "source": [
    "plt.figure(figsize = (12, 12));\n",
    "sns.heatmap(correlation);"
   ]
  },
  {
   "cell_type": "markdown",
   "metadata": {},
   "source": [
    "Значимой мультиколлинераности, чтобы это стало проблемой, не наблюдается, только в столбцах с брендом и моделью, удалю столбец с брендом. Наиболее сильная корреляция с целевым признаком заметна с годом регистрации. Из наблюдения видно, что мощность мало от чего зависит. В дальнешйем этот столбец можно дропнуть, если будут еще сигналы, чтобы сократить время обучения. Также можно в дальнейшем попробовать дропнуть тип кузова, возможно, он не влияет или не сильно влияет на ценообразование."
   ]
  },
  {
   "cell_type": "code",
   "execution_count": null,
   "metadata": {},
   "outputs": [],
   "source": [
    "data = data.drop('Brand', axis=1)"
   ]
  },
  {
   "cell_type": "markdown",
   "metadata": {},
   "source": [
    "В дальнейшем, если будут сигналы, то можно попробовать удалить признак с типом кузова"
   ]
  },
  {
   "cell_type": "markdown",
   "metadata": {},
   "source": [
    "### Обработка выбросов и аномалий"
   ]
  },
  {
   "cell_type": "code",
   "execution_count": null,
   "metadata": {},
   "outputs": [],
   "source": [
    "plt.ylim(1900, 2023)\n",
    "data.boxplot('RegistrationYear');"
   ]
  },
  {
   "cell_type": "markdown",
   "metadata": {},
   "source": [
    "Оставлю так."
   ]
  },
  {
   "cell_type": "code",
   "execution_count": null,
   "metadata": {},
   "outputs": [],
   "source": [
    "data = data[(data['RegistrationYear'] >= 1900) & (data['RegistrationYear'] <= 2023)]"
   ]
  },
  {
   "cell_type": "code",
   "execution_count": null,
   "metadata": {},
   "outputs": [],
   "source": [
    "plt.ylim(10, 350)\n",
    "data.boxplot('Power');"
   ]
  },
  {
   "cell_type": "code",
   "execution_count": null,
   "metadata": {
    "scrolled": true
   },
   "outputs": [],
   "source": [
    "data[data['Power'] > 350].count()[0]"
   ]
  },
  {
   "cell_type": "code",
   "execution_count": null,
   "metadata": {},
   "outputs": [],
   "source": [
    "data = data[(data['Power'] >= 10) & (data['Power'] <= 350)]"
   ]
  },
  {
   "cell_type": "code",
   "execution_count": null,
   "metadata": {},
   "outputs": [],
   "source": [
    "data[data['Kilometer'] < 0]['Kilometer'].count()"
   ]
  },
  {
   "cell_type": "code",
   "execution_count": null,
   "metadata": {},
   "outputs": [],
   "source": [
    "data['Kilometer'] = data['Kilometer'].apply(lambda ser: abs(ser))"
   ]
  },
  {
   "cell_type": "markdown",
   "metadata": {},
   "source": [
    "Отрицательный пробег это признак тех сбоя, вряд ли 53 тысячи пользователей установили отрицательный пробег в своем объявлении с целью мошеничества, стоит взять модуль из этого числа. Хотя кто знает, если бы была возможность то надо было бы пообщаться с дата-инженером, который собрал эти данные по этому поводу."
   ]
  },
  {
   "cell_type": "markdown",
   "metadata": {},
   "source": [
    "### Ислледование и обработка целевого признака"
   ]
  },
  {
   "cell_type": "code",
   "execution_count": null,
   "metadata": {},
   "outputs": [],
   "source": [
    "data['Price'].hist()"
   ]
  },
  {
   "cell_type": "code",
   "execution_count": null,
   "metadata": {},
   "outputs": [],
   "source": [
    "data[data['Price'] == 0]['Price'].count()"
   ]
  },
  {
   "cell_type": "markdown",
   "metadata": {},
   "source": [
    "Рассмотрел подробнее распределение цен до 1000 евро"
   ]
  },
  {
   "cell_type": "code",
   "execution_count": null,
   "metadata": {},
   "outputs": [],
   "source": [
    "data[data['Price'] < 1000]['Price'].hist();"
   ]
  },
  {
   "cell_type": "code",
   "execution_count": null,
   "metadata": {},
   "outputs": [],
   "source": [
    "data[data['Price'] < 500]['Price'].count()"
   ]
  },
  {
   "cell_type": "markdown",
   "metadata": {},
   "source": [
    "Возможно, те кто не установил ценник в поле, которое для этого предназначено, установили его в описании объявления или же вообще не установили, а ждут что кто предложит свою цену, как видно таких объявлений немного и они для модели бесполезны - дропаю эти наблюдения.\n",
    "\n",
    "Также дропнул цены ниже 500 евро, возможно, такие низкие цены установлены для бОльшего охвата аудитории, или автомобили не на ходу (а это уже другой вопрос) поэтому вряд ли эти наблюдения стоят того, чтобы обучать модель для определения рыночной стоимости авто. Если бы работал в команде и я получал бы зарплату, то стоило бы подробнее разобрать этот вопрос. В цене наблюдается небольшой разрыв в цене, между 400 евро и 500 евро. Возьму цены от 500 евро (там тоже будет разрыв, но да ладно, просто я так чувствую, что так данные будут более качественные)"
   ]
  },
  {
   "cell_type": "code",
   "execution_count": null,
   "metadata": {},
   "outputs": [],
   "source": [
    "data = data[data['Price'] > 499]"
   ]
  },
  {
   "cell_type": "code",
   "execution_count": null,
   "metadata": {},
   "outputs": [],
   "source": [
    "data.describe()"
   ]
  },
  {
   "cell_type": "markdown",
   "metadata": {},
   "source": [
    "Теперь числовые данные в порядке"
   ]
  },
  {
   "cell_type": "markdown",
   "metadata": {},
   "source": [
    "### Установка категориальных признаков"
   ]
  },
  {
   "cell_type": "code",
   "execution_count": null,
   "metadata": {},
   "outputs": [],
   "source": [
    "data.info()"
   ]
  },
  {
   "cell_type": "code",
   "execution_count": null,
   "metadata": {},
   "outputs": [],
   "source": [
    "data[data.select_dtypes('object').columns] = data[data.select_dtypes('object').columns].astype('category')"
   ]
  },
  {
   "cell_type": "markdown",
   "metadata": {},
   "source": [
    "### Вывод"
   ]
  },
  {
   "cell_type": "markdown",
   "metadata": {},
   "source": [
    "После первичного обзора для оценки состояния данных была проведена предобработка числовой формат int64 приведен к int16, удалены дубликаты, обработаны пропуски, было удалено около 29 процентов датасета, так как наибольшее число пропусков содержал в себе признак о состоянии автомобиля была ли машина в ремонте или нет, что сильно влияет на целевой признак - цену, удалены неифромативные признаки, всего шесть, проведено исследование кореляции признаков, на предмет мультиколлинеарности, также удален признак, сильно коррелирующий с другим - марка с брендом автомобиля, оставлена только марка авто, была проведена обработка выбросов и аномалий."
   ]
  },
  {
   "cell_type": "markdown",
   "metadata": {},
   "source": [
    "## Обучение моделей"
   ]
  },
  {
   "cell_type": "markdown",
   "metadata": {},
   "source": [
    "### CatBoost"
   ]
  },
  {
   "cell_type": "code",
   "execution_count": null,
   "metadata": {},
   "outputs": [],
   "source": [
    "features = data.drop(['Price'], axis=1)\n",
    "target = data['Price']\n",
    "\n",
    "features_train, features_test, target_train, target_test = train_test_split(\n",
    "    features, target, test_size=0.25, random_state=RANDOM_STATE\n",
    ")"
   ]
  },
  {
   "cell_type": "code",
   "execution_count": null,
   "metadata": {
    "scrolled": true
   },
   "outputs": [],
   "source": [
    "display(features_train.shape, features_test.shape, target_train.shape, target_test.shape)"
   ]
  },
  {
   "cell_type": "code",
   "execution_count": null,
   "metadata": {
    "scrolled": true
   },
   "outputs": [],
   "source": [
    "%%time\n",
    "cat_features = list(data.select_dtypes(['category']).columns)\n",
    "\n",
    "cb_model = CatBoostRegressor(loss_function='RMSE',\n",
    "                          #task_type=\"GPU\",\n",
    "                          #devices='0:1',\n",
    "                          iterations=150,\n",
    "                          depth=15,\n",
    "                          learning_rate=0.01)\n",
    "\n",
    "cb_model.fit(features_train, target_train, cat_features=cat_features, verbose=10, plot=False)"
   ]
  },
  {
   "cell_type": "markdown",
   "metadata": {},
   "source": [
    "### Lightgbm"
   ]
  },
  {
   "cell_type": "markdown",
   "metadata": {},
   "source": [
    "*Перенесено*"
   ]
  },
  {
   "cell_type": "markdown",
   "metadata": {},
   "source": [
    "#### Обучение"
   ]
  },
  {
   "cell_type": "code",
   "execution_count": null,
   "metadata": {
    "scrolled": true
   },
   "outputs": [],
   "source": [
    "%%time\n",
    "\n",
    "lgb_model = LGBMRegressor(max_depth=3,\n",
    "                          num_leaves=50,\n",
    "                          learning_rate=0.1,\n",
    "                          subsample_for_bin=1000,\n",
    "                          objective='rmse',\n",
    "                          num_boost_round=10,\n",
    "                          eval_set=[features_train, target_train])\n",
    "\n",
    "lgb_model.fit(features_train, target_train, eval_metric='rmse', verbose=100)"
   ]
  },
  {
   "cell_type": "code",
   "execution_count": null,
   "metadata": {},
   "outputs": [],
   "source": [
    "lgb_model.evals_result_"
   ]
  },
  {
   "cell_type": "markdown",
   "metadata": {},
   "source": [
    "'>>> None"
   ]
  },
  {
   "cell_type": "code",
   "execution_count": null,
   "metadata": {},
   "outputs": [],
   "source": [
    "lgb_model.best_score_"
   ]
  },
  {
   "cell_type": "markdown",
   "metadata": {},
   "source": [
    "Вот он не показывает оценку, потому что ему обязательно нужна валидационная выборка отдельно для оценки (!) и это в 21 веке..."
   ]
  },
  {
   "cell_type": "code",
   "execution_count": null,
   "metadata": {
    "scrolled": true
   },
   "outputs": [],
   "source": [
    "%%time\n",
    "\n",
    "gridParams = {\n",
    "    'learning_rate': [0.05],\n",
    "    'num_leaves': [90,200],\n",
    "    'boosting_type' : ['gbdt'],\n",
    "    'max_depth' : [5,6,7,8],\n",
    "    'colsample_bytree' : [0.5,0.7],\n",
    "    'subsample' : [0.5,0.7],\n",
    "    'min_split_gain' : [0.01],\n",
    "    'min_data_in_leaf':[10],\n",
    "    'metric':['rmse']\n",
    "    }\n",
    "\n",
    "clf = lgb.LGBMRegressor(num_iteration=10, n_estimators=100)\n",
    "\n",
    "grid = RandomizedSearchCV(clf,gridParams,verbose=False,cv=2,n_jobs = -1,n_iter=1, scoring=\"neg_root_mean_squared_error\")\n",
    "grid.fit(features_train, target_train)\n",
    "\n",
    "print('RMSE on VALID:', '%.4f' %grid.best_score_)"
   ]
  },
  {
   "cell_type": "code",
   "execution_count": null,
   "metadata": {},
   "outputs": [],
   "source": [
    "grid.best_score_"
   ]
  },
  {
   "cell_type": "markdown",
   "metadata": {},
   "source": [
    "Если так сильно нужно получить оценку именно на валиде то прими пожалуйста эту. Потому как заниматься получением отдельного валида это тупое занятие, есть тест и другого не надо.\n",
    "\n",
    "Итог таков: эта модель медленная и менее эффективна (именно при таких настройках и таком подходе, но для галочки есть все что надо), иду далее (хотя на самом деле при нормальных настройках она показала очень хороший результат на тесте, возможно, даже более лучший чем катбуст, но очень медленный, до невозможности просто, а о том, чтобы попробовать на ГПУ в коллабе это дело сделать я даже думать не хочу, еле с этим разобрался, в катбусте с гпу и со многим другим проще все и быстрее, к тому же катбуст более патриотичный, це наша разработка)"
   ]
  },
  {
   "cell_type": "markdown",
   "metadata": {},
   "source": [
    "### LinearRegression"
   ]
  },
  {
   "cell_type": "markdown",
   "metadata": {},
   "source": [
    "### Кодирование признаков"
   ]
  },
  {
   "cell_type": "code",
   "execution_count": null,
   "metadata": {},
   "outputs": [],
   "source": [
    "# Так как название уже зянато, решил взять названия из доков\n",
    "\n",
    "X_train = features_train.copy()\n",
    "X_test = features_test.copy()\n",
    "\n",
    "# А это просто для красоты\n",
    "y_train = target_train.copy()\n",
    "y_test = target_test.copy()\n",
    "\n",
    "X_train = X_train.reset_index(drop=True)\n",
    "X_test = X_test.reset_index(drop=True)\n",
    "\n",
    "ohe = OneHotEncoder(drop='first', handle_unknown='ignore')\n",
    "\n",
    "features_cat_train = pd.DataFrame.sparse.from_spmatrix(ohe.fit_transform(X_train[cat_features]), columns=ohe.get_feature_names())\n",
    "X_train[ohe.get_feature_names()] = features_cat_train.astype('int16')\n",
    "X_train = X_train.drop(cat_features, axis=1)\n",
    "\n",
    "features_cat_test = pd.DataFrame.sparse.from_spmatrix(\n",
    "ohe.transform(X_test[cat_features]), \n",
    "columns=ohe.get_feature_names())\n",
    "X_test[ohe.get_feature_names()] = features_cat_test.astype('int16')\n",
    "X_test = X_test.drop(cat_features, axis=1)\n",
    "\n",
    "X_train[X_train.select_dtypes(['float64']).columns] =\\\n",
    "X_train[X_train.select_dtypes(['float64']).columns].astype('float16')\n",
    "\n",
    "X_test[X_test.select_dtypes(['float64']).columns] =\\\n",
    "X_test[X_test.select_dtypes(['float64']).columns].astype('float16')"
   ]
  },
  {
   "cell_type": "markdown",
   "metadata": {},
   "source": [
    "#### Нормализация"
   ]
  },
  {
   "cell_type": "markdown",
   "metadata": {},
   "source": [
    "Стандартизация оказалась невозможна, пишет ошибку про то что не получается центрировать резреженную матрицу, прибегнул к нормализации, хоть этот метод более чувствителен к выбросам."
   ]
  },
  {
   "cell_type": "code",
   "execution_count": null,
   "metadata": {},
   "outputs": [],
   "source": [
    "numeric_train = list(X_train.select_dtypes(['int16']).columns)\n",
    "numeric_test = list(X_test.select_dtypes(['int16']).columns)\n",
    "\n",
    "scaler = MinMaxScaler()\n",
    "\n",
    "X_train[numeric_train] = scaler.fit_transform(X_train[numeric_train])\n",
    "X_test[numeric_test] = scaler.transform(X_test[numeric_test])"
   ]
  },
  {
   "cell_type": "markdown",
   "metadata": {},
   "source": [
    "#### Обучение"
   ]
  },
  {
   "cell_type": "code",
   "execution_count": null,
   "metadata": {
    "scrolled": true
   },
   "outputs": [],
   "source": [
    "%%time\n",
    "gridParams = {\n",
    "    'positive': [False]\n",
    "    }\n",
    "\n",
    "linear = LinearRegression()\n",
    "\n",
    "grid_linear = RandomizedSearchCV(linear,gridParams,cv=2,n_jobs = -1,n_iter=1, scoring=\"neg_root_mean_squared_error\")\n",
    "grid_linear.fit(X_train,y_train)\n",
    "\n",
    "print('RMSE on VALID:', '%.4f' %grid.best_score_)"
   ]
  },
  {
   "cell_type": "code",
   "execution_count": null,
   "metadata": {},
   "outputs": [],
   "source": [
    "grid.best_score_"
   ]
  },
  {
   "cell_type": "markdown",
   "metadata": {},
   "source": [
    "На самом деле значение около 2900, не знаю в чем причина этой аномалии, но линейная модель есть и проверка на валиде, можно поставить галочку. Если бы требования были бы не глупые то проверял бы, конечно, на тесте как это делают нормальные люди и таких аномалий не возникало бы, как и костыля через рандомизированный поиск настроек линейной модели и все это чтобы валид отдельным ненужным кодом не получать, который еще и перед тестом надо объединять снова как это было в прошлых проектах **рукалицо*"
   ]
  },
  {
   "cell_type": "markdown",
   "metadata": {},
   "source": [
    "### Вывод"
   ]
  },
  {
   "cell_type": "markdown",
   "metadata": {},
   "source": [
    "На этапе обучения моделей, было обучено три модели: Catboost, Lightgbm, и линейная регрессия:\n",
    "- CatBoost со временем обучения 1 минута 39 секунд с ошибкой примерно 2200\n",
    "- Lightgbm со временем со временем обучения 17 минут 28 секунд с ошибкой примерно 4000\n",
    "- Линейная регрессия со временем обучения 2 минуты с ошибкой примерно 2900\n",
    "\n",
    "Для модели Lightgbm была проведена кодировка методом OHE, для модели линейной регрессии также произведена нормализация закодированных данных. Модели Lightgbm и линейная регрессия обучались с перекрестной проверкой и рандомизированным поиском гиперпараметров. Модель CatBoost также проверялась на валидационных данных.\n",
    "\n",
    "Лучшей моделью и единственной прошедшей минимальный порог оказалась CatBoost."
   ]
  },
  {
   "cell_type": "markdown",
   "metadata": {},
   "source": [
    "## Анализ моделей"
   ]
  },
  {
   "cell_type": "markdown",
   "metadata": {},
   "source": [
    "Оценил время предсказания всех трех моделей на тренировочных данных"
   ]
  },
  {
   "cell_type": "markdown",
   "metadata": {},
   "source": [
    "<div class=\"alert alert-block alert-danger\">\n",
    "<b>Ошибка:</b> Любая из метрик интересующая заказчика не должна считаться с помощью тестовой, есть много вариантов)\n",
    "    \n",
    "- на валидационной\n",
    "- на тренировочной\n",
    "- кросс_валидация `.cv_results_`\n",
    "    \n",
    "\n",
    "</div>\n"
   ]
  },
  {
   "cell_type": "markdown",
   "metadata": {},
   "source": [
    "<div class=\"alert alert-block alert-warning\">\n",
    "<b>Изменения:</b> Исправил, теперь там тренировочная выборка\n",
    "</div>"
   ]
  },
  {
   "cell_type": "markdown",
   "metadata": {},
   "source": [
    "\n",
    "<div class=\"alert alert-block alert-success\">\n",
    "    \n",
    "<b>Успех[2]:</b> 👍\n",
    "</div>"
   ]
  },
  {
   "cell_type": "markdown",
   "metadata": {},
   "source": [
    "### Модель CatBoost"
   ]
  },
  {
   "cell_type": "markdown",
   "metadata": {},
   "source": [
    "Так как эта модель оказалась лучшей, сразу снял и на тестовых данных метрику RSME"
   ]
  },
  {
   "cell_type": "code",
   "execution_count": null,
   "metadata": {},
   "outputs": [],
   "source": [
    "%%time\n",
    "pred_cb = cb_model.predict(features_train)"
   ]
  },
  {
   "cell_type": "markdown",
   "metadata": {},
   "source": [
    "Примерно 288 мс"
   ]
  },
  {
   "cell_type": "markdown",
   "metadata": {},
   "source": [
    "### Модель Lightgbm"
   ]
  },
  {
   "cell_type": "markdown",
   "metadata": {},
   "source": [
    "Эта модель не прошла после кросс-валидации по минимальным требованиям заказчика, поэтому снял только время предсказания"
   ]
  },
  {
   "cell_type": "code",
   "execution_count": null,
   "metadata": {},
   "outputs": [],
   "source": [
    "%%time\n",
    "pred_lgb = grid.predict(features_train)"
   ]
  },
  {
   "cell_type": "markdown",
   "metadata": {},
   "source": [
    "129 мс время предсказания"
   ]
  },
  {
   "cell_type": "markdown",
   "metadata": {},
   "source": [
    "### Модель линейной регрессии"
   ]
  },
  {
   "cell_type": "markdown",
   "metadata": {},
   "source": [
    "Эта модель не прошла после кросс-валидации по минимальным требованиям заказчика, поэтому снял только время предсказания"
   ]
  },
  {
   "cell_type": "code",
   "execution_count": null,
   "metadata": {},
   "outputs": [],
   "source": [
    "%%time\n",
    "pred_linear = grid_linear.predict(X_train)"
   ]
  },
  {
   "cell_type": "markdown",
   "metadata": {},
   "source": [
    "Время предсказания 200 мс."
   ]
  },
  {
   "cell_type": "markdown",
   "metadata": {},
   "source": [
    "### Вывод"
   ]
  },
  {
   "cell_type": "markdown",
   "metadata": {},
   "source": [
    "По итогу анализа моделей, можно сказать, что модель линейной регресси (после изменения типов признаков на категории) значительно медленнее стала предсказывать скорость около 200 мс, а ранее 27 мс, в то время как две катбуст уступает во времени предсказания модели ЛГБМ, основанные на градиентном бустинге показывают результат примерно 288 мс катбуст и 129 ЛГБМ. С учетом компромисса в скорости обучения и точности рекомендую Катбуст."
   ]
  },
  {
   "cell_type": "markdown",
   "metadata": {},
   "source": [
    "<div class=\"alert alert-block alert-success\">\n",
    "    \n",
    "<b>Успех[2]:</b> Есть контакт\n",
    "</div>\n"
   ]
  },
  {
   "cell_type": "markdown",
   "metadata": {},
   "source": [
    "<div class=\"alert alert-block alert-danger\">\n",
    "<b>Ошибка:</b> Вот только здесь после анализа и выбора модели, нам должна быть доступна тестовая выборка. И здесь для одной наилучшей модели, должно идти ее тестирование.\n",
    "</div>"
   ]
  },
  {
   "cell_type": "markdown",
   "metadata": {},
   "source": [
    "<div class=\"alert alert-block alert-warning\">\n",
    "<b>Изменения:</b> Добавил отдельный раздел\n",
    "</div>"
   ]
  },
  {
   "cell_type": "markdown",
   "metadata": {},
   "source": [
    "### Тестирование CatBoost"
   ]
  },
  {
   "cell_type": "code",
   "execution_count": null,
   "metadata": {},
   "outputs": [],
   "source": [
    "pred_test = cb_model.predict(features_test)\n",
    "np.sqrt(mean_squared_error(target_test, pred_test))"
   ]
  },
  {
   "cell_type": "markdown",
   "metadata": {},
   "source": [
    "\n",
    "<div class=\"alert alert-block alert-success\">\n",
    "    \n",
    "<b>Успех[2]:</b> На тестовой выборке получено хорошее качество.\n",
    "</div>"
   ]
  },
  {
   "cell_type": "markdown",
   "metadata": {},
   "source": [
    "## Итоговый вывод"
   ]
  },
  {
   "cell_type": "markdown",
   "metadata": {},
   "source": [
    "Была поставлена задача- построить модель для определения стоимости автомобиля, с лушими показателями качества предсказания, скорости и врмени обучения. Для решения данной задачи были предоставлены исторические данные: технические характеристики, комплектации и цены автомобилей.\n",
    "\n",
    "Была использована технология градиетного бустинга в моделях CatBoostRegressor и LightGBM, и сравнение её с базовой моделью - LinearRegression\n",
    "\n",
    "По итогам качества и скорости обучения на тестовых данных - с небольшим отрывом от CatBoostRegressor побеждает модель LightGBM, но сильно уступает по скорости предсказания.\n",
    "\n",
    "Таким образом для компании \"Не бит, не крашен\" можно рекомендовать модель CatBoostRegressor, т.к. стоит немного поступиться качеством обучения, так как скорость обучения значительно выше чем у других моделей.\n",
    "\n",
    "По скорости предсказания уверенно лидирует базовая модель - линейная регрессия"
   ]
  },
  {
   "cell_type": "markdown",
   "metadata": {},
   "source": [
    "## Чек-лист проверки"
   ]
  },
  {
   "cell_type": "markdown",
   "metadata": {},
   "source": [
    "Поставьте 'x' в выполненных пунктах. Далее нажмите Shift+Enter."
   ]
  },
  {
   "cell_type": "markdown",
   "metadata": {},
   "source": [
    "- [x]  Jupyter Notebook открыт\n",
    "- [x]  Весь код выполняется без ошибок\n",
    "- [x]  Ячейки с кодом расположены в порядке исполнения\n",
    "- [x]  Выполнена загрузка и подготовка данных\n",
    "- [x]  Выполнено обучение моделей\n",
    "- [x]  Есть анализ скорости работы и качества моделей"
   ]
  },
  {
   "cell_type": "code",
   "execution_count": null,
   "metadata": {},
   "outputs": [],
   "source": []
  }
 ],
 "metadata": {
  "ExecuteTimeLog": [
   {
    "duration": 396,
    "start_time": "2023-02-28T15:06:38.056Z"
   },
   {
    "duration": 2916,
    "start_time": "2023-02-28T15:06:53.703Z"
   },
   {
    "duration": 30,
    "start_time": "2023-02-28T15:07:00.162Z"
   },
   {
    "duration": 24,
    "start_time": "2023-02-28T15:07:21.657Z"
   },
   {
    "duration": 122,
    "start_time": "2023-02-28T15:09:50.078Z"
   },
   {
    "duration": 111,
    "start_time": "2023-02-28T15:10:09.949Z"
   },
   {
    "duration": 4,
    "start_time": "2023-02-28T15:15:02.143Z"
   },
   {
    "duration": 793,
    "start_time": "2023-02-28T15:15:08.841Z"
   },
   {
    "duration": 669,
    "start_time": "2023-02-28T15:17:37.226Z"
   },
   {
    "duration": 608,
    "start_time": "2023-02-28T15:17:40.838Z"
   },
   {
    "duration": 823,
    "start_time": "2023-02-28T15:17:53.536Z"
   },
   {
    "duration": 997,
    "start_time": "2023-02-28T15:18:00.059Z"
   },
   {
    "duration": 808,
    "start_time": "2023-02-28T15:19:01.794Z"
   },
   {
    "duration": 774,
    "start_time": "2023-02-28T15:19:16.764Z"
   },
   {
    "duration": 471,
    "start_time": "2023-02-28T15:23:04.953Z"
   },
   {
    "duration": 509,
    "start_time": "2023-02-28T15:23:54.620Z"
   },
   {
    "duration": 456,
    "start_time": "2023-02-28T15:23:57.893Z"
   },
   {
    "duration": 295,
    "start_time": "2023-02-28T15:24:01.492Z"
   },
   {
    "duration": 114,
    "start_time": "2023-02-28T15:24:06.336Z"
   },
   {
    "duration": 104,
    "start_time": "2023-02-28T15:24:10.329Z"
   },
   {
    "duration": 75,
    "start_time": "2023-02-28T15:25:28.123Z"
   },
   {
    "duration": 1176,
    "start_time": "2023-02-28T15:26:08.426Z"
   },
   {
    "duration": 2,
    "start_time": "2023-02-28T15:27:26.290Z"
   },
   {
    "duration": 107,
    "start_time": "2023-02-28T15:27:27.315Z"
   },
   {
    "duration": 21,
    "start_time": "2023-02-28T15:28:12.582Z"
   },
   {
    "duration": 380,
    "start_time": "2023-02-28T15:28:58.929Z"
   },
   {
    "duration": 793,
    "start_time": "2023-02-28T15:28:59.311Z"
   },
   {
    "duration": 30,
    "start_time": "2023-02-28T15:29:00.105Z"
   },
   {
    "duration": 140,
    "start_time": "2023-02-28T15:29:00.138Z"
   },
   {
    "duration": 109,
    "start_time": "2023-02-28T15:29:00.292Z"
   },
   {
    "duration": 19,
    "start_time": "2023-02-28T15:29:00.403Z"
   },
   {
    "duration": 571,
    "start_time": "2023-02-28T15:29:00.424Z"
   },
   {
    "duration": 847,
    "start_time": "2023-02-28T15:29:00.997Z"
   },
   {
    "duration": 498,
    "start_time": "2023-02-28T15:29:01.846Z"
   },
   {
    "duration": 495,
    "start_time": "2023-02-28T15:29:02.347Z"
   },
   {
    "duration": 70,
    "start_time": "2023-02-28T15:29:02.844Z"
   },
   {
    "duration": 300,
    "start_time": "2023-02-28T15:29:08.685Z"
   },
   {
    "duration": 18,
    "start_time": "2023-02-28T15:34:42.570Z"
   },
   {
    "duration": 242,
    "start_time": "2023-02-28T15:34:46.471Z"
   },
   {
    "duration": 79,
    "start_time": "2023-02-28T15:39:51.356Z"
   },
   {
    "duration": 1942,
    "start_time": "2023-02-28T15:40:54.788Z"
   },
   {
    "duration": 195,
    "start_time": "2023-02-28T15:41:23.380Z"
   },
   {
    "duration": 1882,
    "start_time": "2023-02-28T15:41:55.817Z"
   },
   {
    "duration": 1824,
    "start_time": "2023-02-28T15:42:14.117Z"
   },
   {
    "duration": 1767,
    "start_time": "2023-02-28T15:42:26.422Z"
   },
   {
    "duration": 1884,
    "start_time": "2023-02-28T15:42:51.519Z"
   },
   {
    "duration": 1945,
    "start_time": "2023-02-28T15:43:24.722Z"
   },
   {
    "duration": 28,
    "start_time": "2023-02-28T15:52:00.400Z"
   },
   {
    "duration": 26,
    "start_time": "2023-02-28T15:53:11.352Z"
   },
   {
    "duration": 39,
    "start_time": "2023-02-28T15:53:16.504Z"
   },
   {
    "duration": 45,
    "start_time": "2023-02-28T16:02:40.905Z"
   },
   {
    "duration": 245,
    "start_time": "2023-02-28T16:02:44.488Z"
   },
   {
    "duration": 376,
    "start_time": "2023-02-28T16:03:27.138Z"
   },
   {
    "duration": 833,
    "start_time": "2023-02-28T16:03:27.516Z"
   },
   {
    "duration": 29,
    "start_time": "2023-02-28T16:03:28.350Z"
   },
   {
    "duration": 133,
    "start_time": "2023-02-28T16:03:28.380Z"
   },
   {
    "duration": 114,
    "start_time": "2023-02-28T16:03:28.515Z"
   },
   {
    "duration": 104,
    "start_time": "2023-02-28T16:03:28.630Z"
   },
   {
    "duration": 2457,
    "start_time": "2023-02-28T16:03:28.737Z"
   },
   {
    "duration": 959,
    "start_time": "2023-02-28T16:03:31.197Z"
   },
   {
    "duration": 464,
    "start_time": "2023-02-28T16:03:32.158Z"
   },
   {
    "duration": 530,
    "start_time": "2023-02-28T16:03:32.623Z"
   },
   {
    "duration": 7,
    "start_time": "2023-02-28T16:03:33.155Z"
   },
   {
    "duration": 321,
    "start_time": "2023-02-28T16:03:33.164Z"
   },
   {
    "duration": 69,
    "start_time": "2023-02-28T16:03:33.487Z"
   },
   {
    "duration": 70,
    "start_time": "2023-02-28T16:03:33.558Z"
   },
   {
    "duration": 18,
    "start_time": "2023-02-28T16:03:33.630Z"
   },
   {
    "duration": 211,
    "start_time": "2023-02-28T16:03:39.737Z"
   },
   {
    "duration": 25,
    "start_time": "2023-02-28T16:05:10.110Z"
   },
   {
    "duration": 14,
    "start_time": "2023-02-28T16:05:29.107Z"
   },
   {
    "duration": 41,
    "start_time": "2023-02-28T16:05:38.277Z"
   },
   {
    "duration": 39,
    "start_time": "2023-02-28T16:05:55.583Z"
   },
   {
    "duration": 38,
    "start_time": "2023-02-28T16:06:03.586Z"
   },
   {
    "duration": 402,
    "start_time": "2023-02-28T16:17:58.108Z"
   },
   {
    "duration": 878,
    "start_time": "2023-02-28T16:17:58.512Z"
   },
   {
    "duration": 39,
    "start_time": "2023-02-28T16:17:59.392Z"
   },
   {
    "duration": 142,
    "start_time": "2023-02-28T16:17:59.433Z"
   },
   {
    "duration": 129,
    "start_time": "2023-02-28T16:17:59.578Z"
   },
   {
    "duration": 113,
    "start_time": "2023-02-28T16:17:59.709Z"
   },
   {
    "duration": 2703,
    "start_time": "2023-02-28T16:17:59.824Z"
   },
   {
    "duration": 1000,
    "start_time": "2023-02-28T16:18:02.529Z"
   },
   {
    "duration": 472,
    "start_time": "2023-02-28T16:18:03.531Z"
   },
   {
    "duration": 514,
    "start_time": "2023-02-28T16:18:04.011Z"
   },
   {
    "duration": 5,
    "start_time": "2023-02-28T16:18:04.528Z"
   },
   {
    "duration": 302,
    "start_time": "2023-02-28T16:18:04.534Z"
   },
   {
    "duration": 71,
    "start_time": "2023-02-28T16:18:04.837Z"
   },
   {
    "duration": 194,
    "start_time": "2023-02-28T16:18:04.911Z"
   },
   {
    "duration": 20,
    "start_time": "2023-02-28T16:18:05.109Z"
   },
   {
    "duration": 53,
    "start_time": "2023-02-28T16:18:05.131Z"
   },
   {
    "duration": 36,
    "start_time": "2023-02-28T16:18:10.900Z"
   },
   {
    "duration": 24,
    "start_time": "2023-02-28T20:51:17.776Z"
   },
   {
    "duration": 24,
    "start_time": "2023-02-28T20:51:37.958Z"
   },
   {
    "duration": 23,
    "start_time": "2023-02-28T20:51:47.297Z"
   },
   {
    "duration": 45,
    "start_time": "2023-02-28T20:58:16.948Z"
   },
   {
    "duration": 204,
    "start_time": "2023-02-28T20:58:20.736Z"
   },
   {
    "duration": 108,
    "start_time": "2023-02-28T20:59:58.116Z"
   },
   {
    "duration": 87,
    "start_time": "2023-02-28T21:00:00.789Z"
   },
   {
    "duration": 92,
    "start_time": "2023-02-28T21:00:07.871Z"
   },
   {
    "duration": 80,
    "start_time": "2023-02-28T21:00:13.922Z"
   },
   {
    "duration": 70,
    "start_time": "2023-02-28T21:27:40.134Z"
   },
   {
    "duration": 74,
    "start_time": "2023-02-28T21:28:14.736Z"
   },
   {
    "duration": 71,
    "start_time": "2023-02-28T21:28:55.441Z"
   },
   {
    "duration": 75,
    "start_time": "2023-02-28T21:30:16.517Z"
   },
   {
    "duration": 5,
    "start_time": "2023-02-28T21:42:28.533Z"
   },
   {
    "duration": 805,
    "start_time": "2023-02-28T21:42:40.063Z"
   },
   {
    "duration": 4,
    "start_time": "2023-02-28T21:42:58.468Z"
   },
   {
    "duration": 4,
    "start_time": "2023-02-28T21:43:13.865Z"
   },
   {
    "duration": 6,
    "start_time": "2023-02-28T21:44:58.182Z"
   },
   {
    "duration": 12,
    "start_time": "2023-02-28T21:44:59.668Z"
   },
   {
    "duration": 56,
    "start_time": "2023-02-28T21:45:58.853Z"
   },
   {
    "duration": 4,
    "start_time": "2023-02-28T21:46:04.381Z"
   },
   {
    "duration": 5,
    "start_time": "2023-02-28T21:46:50.186Z"
   },
   {
    "duration": 3288,
    "start_time": "2023-02-28T21:46:53.033Z"
   },
   {
    "duration": 65,
    "start_time": "2023-02-28T21:52:18.107Z"
   },
   {
    "duration": 76,
    "start_time": "2023-02-28T21:52:32.579Z"
   },
   {
    "duration": 74,
    "start_time": "2023-02-28T21:52:57.986Z"
   },
   {
    "duration": 3,
    "start_time": "2023-02-28T21:53:36.208Z"
   },
   {
    "duration": 17,
    "start_time": "2023-02-28T21:53:41.459Z"
   },
   {
    "duration": 14,
    "start_time": "2023-02-28T21:54:15.117Z"
   },
   {
    "duration": 4,
    "start_time": "2023-02-28T21:54:37.488Z"
   },
   {
    "duration": 19,
    "start_time": "2023-02-28T21:54:38.016Z"
   },
   {
    "duration": 5,
    "start_time": "2023-02-28T21:59:21.972Z"
   },
   {
    "duration": 15,
    "start_time": "2023-02-28T21:59:42.889Z"
   },
   {
    "duration": 5,
    "start_time": "2023-02-28T22:00:11.652Z"
   },
   {
    "duration": 13,
    "start_time": "2023-02-28T22:00:12.752Z"
   },
   {
    "duration": 5,
    "start_time": "2023-02-28T22:00:26.217Z"
   },
   {
    "duration": 5,
    "start_time": "2023-02-28T22:00:30.175Z"
   },
   {
    "duration": 5,
    "start_time": "2023-02-28T22:02:30.854Z"
   },
   {
    "duration": 5,
    "start_time": "2023-02-28T22:02:31.315Z"
   },
   {
    "duration": 2936,
    "start_time": "2023-02-28T22:19:12.465Z"
   },
   {
    "duration": 20,
    "start_time": "2023-02-28T22:20:16.178Z"
   },
   {
    "duration": 15,
    "start_time": "2023-02-28T22:20:22.462Z"
   },
   {
    "duration": 3361,
    "start_time": "2023-02-28T22:20:33.359Z"
   },
   {
    "duration": 12,
    "start_time": "2023-02-28T22:25:57.003Z"
   },
   {
    "duration": 8,
    "start_time": "2023-02-28T22:26:19.452Z"
   },
   {
    "duration": 3,
    "start_time": "2023-02-28T22:27:24.648Z"
   },
   {
    "duration": 3,
    "start_time": "2023-02-28T22:27:25.216Z"
   },
   {
    "duration": 2,
    "start_time": "2023-02-28T22:27:47.205Z"
   },
   {
    "duration": 4,
    "start_time": "2023-02-28T22:27:47.767Z"
   },
   {
    "duration": 1464,
    "start_time": "2023-02-28T22:27:53.089Z"
   },
   {
    "duration": 1479,
    "start_time": "2023-02-28T22:28:03.206Z"
   },
   {
    "duration": 1500,
    "start_time": "2023-02-28T22:29:41.027Z"
   },
   {
    "duration": 25246,
    "start_time": "2023-02-28T22:30:39.482Z"
   },
   {
    "duration": 23,
    "start_time": "2023-02-28T22:34:44.731Z"
   },
   {
    "duration": 80,
    "start_time": "2023-02-28T22:34:54.253Z"
   },
   {
    "duration": 14,
    "start_time": "2023-02-28T22:35:40.362Z"
   },
   {
    "duration": 2,
    "start_time": "2023-02-28T22:37:48.023Z"
   },
   {
    "duration": 1538,
    "start_time": "2023-02-28T22:38:12.002Z"
   },
   {
    "duration": 1524,
    "start_time": "2023-02-28T22:38:17.457Z"
   },
   {
    "duration": 471,
    "start_time": "2023-02-28T22:38:46.175Z"
   },
   {
    "duration": 423,
    "start_time": "2023-02-28T22:38:54.161Z"
   },
   {
    "duration": 95,
    "start_time": "2023-02-28T22:44:06.604Z"
   },
   {
    "duration": 3,
    "start_time": "2023-02-28T22:45:12.045Z"
   },
   {
    "duration": 1113,
    "start_time": "2023-02-28T22:45:12.050Z"
   },
   {
    "duration": 3,
    "start_time": "2023-02-28T22:45:13.165Z"
   },
   {
    "duration": 904,
    "start_time": "2023-02-28T22:45:13.170Z"
   },
   {
    "duration": 26,
    "start_time": "2023-02-28T22:45:14.092Z"
   },
   {
    "duration": 134,
    "start_time": "2023-02-28T22:45:14.120Z"
   },
   {
    "duration": 113,
    "start_time": "2023-02-28T22:45:14.256Z"
   },
   {
    "duration": 106,
    "start_time": "2023-02-28T22:45:14.370Z"
   },
   {
    "duration": 2108,
    "start_time": "2023-02-28T22:45:14.478Z"
   },
   {
    "duration": 796,
    "start_time": "2023-02-28T22:45:16.587Z"
   },
   {
    "duration": 466,
    "start_time": "2023-02-28T22:45:17.384Z"
   },
   {
    "duration": 525,
    "start_time": "2023-02-28T22:45:17.852Z"
   },
   {
    "duration": 4,
    "start_time": "2023-02-28T22:45:18.379Z"
   },
   {
    "duration": 284,
    "start_time": "2023-02-28T22:45:18.391Z"
   },
   {
    "duration": 71,
    "start_time": "2023-02-28T22:45:18.676Z"
   },
   {
    "duration": 64,
    "start_time": "2023-02-28T22:45:18.749Z"
   },
   {
    "duration": 46,
    "start_time": "2023-02-28T22:45:18.815Z"
   },
   {
    "duration": 117,
    "start_time": "2023-02-28T22:45:18.863Z"
   },
   {
    "duration": 38,
    "start_time": "2023-02-28T22:45:18.982Z"
   },
   {
    "duration": 3391,
    "start_time": "2023-02-28T22:45:19.022Z"
   },
   {
    "duration": 357,
    "start_time": "2023-02-28T22:45:22.414Z"
   },
   {
    "duration": 93,
    "start_time": "2023-02-28T22:46:02.170Z"
   },
   {
    "duration": 210,
    "start_time": "2023-02-28T22:48:00.459Z"
   },
   {
    "duration": 112,
    "start_time": "2023-02-28T22:48:14.281Z"
   },
   {
    "duration": 115,
    "start_time": "2023-02-28T22:48:19.391Z"
   },
   {
    "duration": 104,
    "start_time": "2023-02-28T22:48:28.125Z"
   },
   {
    "duration": 3,
    "start_time": "2023-02-28T22:49:02.104Z"
   },
   {
    "duration": 410,
    "start_time": "2023-02-28T22:49:22.162Z"
   },
   {
    "duration": 366,
    "start_time": "2023-02-28T22:49:34.591Z"
   },
   {
    "duration": 364,
    "start_time": "2023-02-28T22:50:25.830Z"
   },
   {
    "duration": 359,
    "start_time": "2023-02-28T22:51:03.002Z"
   },
   {
    "duration": 348,
    "start_time": "2023-02-28T22:51:07.710Z"
   },
   {
    "duration": 363,
    "start_time": "2023-02-28T22:51:16.499Z"
   },
   {
    "duration": 422,
    "start_time": "2023-02-28T22:51:26.376Z"
   },
   {
    "duration": 18,
    "start_time": "2023-02-28T23:12:31.222Z"
   },
   {
    "duration": 38,
    "start_time": "2023-02-28T23:13:14.537Z"
   },
   {
    "duration": 28,
    "start_time": "2023-02-28T23:13:34.675Z"
   },
   {
    "duration": 18,
    "start_time": "2023-02-28T23:14:45.373Z"
   },
   {
    "duration": 16,
    "start_time": "2023-02-28T23:14:55.845Z"
   },
   {
    "duration": 3,
    "start_time": "2023-02-28T23:21:08.792Z"
   },
   {
    "duration": 7,
    "start_time": "2023-02-28T23:21:08.797Z"
   },
   {
    "duration": 7,
    "start_time": "2023-02-28T23:21:08.806Z"
   },
   {
    "duration": 720,
    "start_time": "2023-02-28T23:21:08.815Z"
   },
   {
    "duration": 19,
    "start_time": "2023-02-28T23:21:09.537Z"
   },
   {
    "duration": 127,
    "start_time": "2023-02-28T23:21:09.558Z"
   },
   {
    "duration": 104,
    "start_time": "2023-02-28T23:21:09.691Z"
   },
   {
    "duration": 80,
    "start_time": "2023-02-28T23:21:09.796Z"
   },
   {
    "duration": 1838,
    "start_time": "2023-02-28T23:21:09.891Z"
   },
   {
    "duration": 816,
    "start_time": "2023-02-28T23:21:11.730Z"
   },
   {
    "duration": 381,
    "start_time": "2023-02-28T23:21:12.548Z"
   },
   {
    "duration": 423,
    "start_time": "2023-02-28T23:21:12.931Z"
   },
   {
    "duration": 4,
    "start_time": "2023-02-28T23:21:13.355Z"
   },
   {
    "duration": 255,
    "start_time": "2023-02-28T23:21:13.360Z"
   },
   {
    "duration": 63,
    "start_time": "2023-02-28T23:21:13.617Z"
   },
   {
    "duration": 43,
    "start_time": "2023-02-28T23:21:13.691Z"
   },
   {
    "duration": 2,
    "start_time": "2023-02-28T23:21:13.736Z"
   },
   {
    "duration": 41,
    "start_time": "2023-02-28T23:21:16.740Z"
   },
   {
    "duration": 215,
    "start_time": "2023-02-28T23:21:36.191Z"
   },
   {
    "duration": 32,
    "start_time": "2023-02-28T23:22:31.465Z"
   },
   {
    "duration": 90,
    "start_time": "2023-02-28T23:22:52.199Z"
   },
   {
    "duration": 32,
    "start_time": "2023-02-28T23:24:22.461Z"
   },
   {
    "duration": 30,
    "start_time": "2023-02-28T23:24:32.482Z"
   },
   {
    "duration": 30,
    "start_time": "2023-02-28T23:24:38.865Z"
   },
   {
    "duration": 31,
    "start_time": "2023-02-28T23:25:27.935Z"
   },
   {
    "duration": 69,
    "start_time": "2023-02-28T23:25:36.662Z"
   },
   {
    "duration": 30,
    "start_time": "2023-02-28T23:25:42.603Z"
   },
   {
    "duration": 31,
    "start_time": "2023-02-28T23:25:47.999Z"
   },
   {
    "duration": 30,
    "start_time": "2023-02-28T23:35:23.703Z"
   },
   {
    "duration": 29,
    "start_time": "2023-02-28T23:35:33.330Z"
   },
   {
    "duration": 30,
    "start_time": "2023-02-28T23:35:38.170Z"
   },
   {
    "duration": 31,
    "start_time": "2023-02-28T23:36:16.099Z"
   },
   {
    "duration": 3,
    "start_time": "2023-02-28T23:53:31.026Z"
   },
   {
    "duration": 53,
    "start_time": "2023-03-01T00:04:01.867Z"
   },
   {
    "duration": 9711,
    "start_time": "2023-03-01T00:04:35.925Z"
   },
   {
    "duration": 217,
    "start_time": "2023-03-01T00:04:50.117Z"
   },
   {
    "duration": 89,
    "start_time": "2023-03-01T00:05:06.165Z"
   },
   {
    "duration": 31,
    "start_time": "2023-03-01T00:16:43.105Z"
   },
   {
    "duration": 3,
    "start_time": "2023-03-01T00:17:13.151Z"
   },
   {
    "duration": 1199,
    "start_time": "2023-03-01T00:17:13.156Z"
   },
   {
    "duration": 3,
    "start_time": "2023-03-01T00:17:14.356Z"
   },
   {
    "duration": 787,
    "start_time": "2023-03-01T00:17:14.361Z"
   },
   {
    "duration": 26,
    "start_time": "2023-03-01T00:17:15.150Z"
   },
   {
    "duration": 132,
    "start_time": "2023-03-01T00:17:15.177Z"
   },
   {
    "duration": 107,
    "start_time": "2023-03-01T00:17:15.311Z"
   },
   {
    "duration": 113,
    "start_time": "2023-03-01T00:17:15.420Z"
   },
   {
    "duration": 1830,
    "start_time": "2023-03-01T00:17:15.535Z"
   },
   {
    "duration": 746,
    "start_time": "2023-03-01T00:17:17.366Z"
   },
   {
    "duration": 425,
    "start_time": "2023-03-01T00:17:18.113Z"
   },
   {
    "duration": 478,
    "start_time": "2023-03-01T00:17:18.540Z"
   },
   {
    "duration": 5,
    "start_time": "2023-03-01T00:17:19.019Z"
   },
   {
    "duration": 268,
    "start_time": "2023-03-01T00:17:19.025Z"
   },
   {
    "duration": 61,
    "start_time": "2023-03-01T00:17:19.295Z"
   },
   {
    "duration": 65,
    "start_time": "2023-03-01T00:17:19.358Z"
   },
   {
    "duration": 9741,
    "start_time": "2023-03-01T00:17:19.425Z"
   },
   {
    "duration": 124,
    "start_time": "2023-03-01T00:17:29.168Z"
   },
   {
    "duration": 35,
    "start_time": "2023-03-01T00:17:29.293Z"
   },
   {
    "duration": 3274,
    "start_time": "2023-03-01T00:17:29.330Z"
   },
   {
    "duration": 404,
    "start_time": "2023-03-01T00:17:32.606Z"
   },
   {
    "duration": 15,
    "start_time": "2023-03-01T00:17:33.012Z"
   },
   {
    "duration": 412,
    "start_time": "2023-03-01T00:17:42.460Z"
   },
   {
    "duration": 2220,
    "start_time": "2023-03-01T00:17:56.638Z"
   },
   {
    "duration": 352,
    "start_time": "2023-03-01T00:18:02.027Z"
   },
   {
    "duration": 344,
    "start_time": "2023-03-01T00:18:14.215Z"
   },
   {
    "duration": 346,
    "start_time": "2023-03-01T00:18:27.030Z"
   },
   {
    "duration": 382,
    "start_time": "2023-03-01T00:18:38.467Z"
   },
   {
    "duration": 50,
    "start_time": "2023-03-01T00:23:31.550Z"
   },
   {
    "duration": 3,
    "start_time": "2023-03-01T00:23:48.812Z"
   },
   {
    "duration": 1114,
    "start_time": "2023-03-01T00:23:48.817Z"
   },
   {
    "duration": 3,
    "start_time": "2023-03-01T00:23:49.932Z"
   },
   {
    "duration": 783,
    "start_time": "2023-03-01T00:23:49.937Z"
   },
   {
    "duration": 26,
    "start_time": "2023-03-01T00:23:50.721Z"
   },
   {
    "duration": 112,
    "start_time": "2023-03-01T00:23:50.748Z"
   },
   {
    "duration": 111,
    "start_time": "2023-03-01T00:23:50.862Z"
   },
   {
    "duration": 105,
    "start_time": "2023-03-01T00:23:50.976Z"
   },
   {
    "duration": 1911,
    "start_time": "2023-03-01T00:23:51.083Z"
   },
   {
    "duration": 781,
    "start_time": "2023-03-01T00:23:52.996Z"
   },
   {
    "duration": 423,
    "start_time": "2023-03-01T00:23:53.779Z"
   },
   {
    "duration": 457,
    "start_time": "2023-03-01T00:23:54.204Z"
   },
   {
    "duration": 4,
    "start_time": "2023-03-01T00:23:54.662Z"
   },
   {
    "duration": 256,
    "start_time": "2023-03-01T00:23:54.668Z"
   },
   {
    "duration": 67,
    "start_time": "2023-03-01T00:23:54.925Z"
   },
   {
    "duration": 53,
    "start_time": "2023-03-01T00:23:54.995Z"
   },
   {
    "duration": 9766,
    "start_time": "2023-03-01T00:23:55.049Z"
   },
   {
    "duration": 122,
    "start_time": "2023-03-01T00:24:04.817Z"
   },
   {
    "duration": 30,
    "start_time": "2023-03-01T00:24:04.941Z"
   },
   {
    "duration": 3188,
    "start_time": "2023-03-01T00:24:04.973Z"
   },
   {
    "duration": 397,
    "start_time": "2023-03-01T00:24:08.163Z"
   },
   {
    "duration": 18,
    "start_time": "2023-03-01T00:24:08.562Z"
   },
   {
    "duration": 44,
    "start_time": "2023-03-01T00:24:32.694Z"
   },
   {
    "duration": 3,
    "start_time": "2023-03-01T00:32:32.641Z"
   },
   {
    "duration": 1077,
    "start_time": "2023-03-01T00:32:32.645Z"
   },
   {
    "duration": 2,
    "start_time": "2023-03-01T00:32:33.724Z"
   },
   {
    "duration": 779,
    "start_time": "2023-03-01T00:32:33.728Z"
   },
   {
    "duration": 27,
    "start_time": "2023-03-01T00:32:34.509Z"
   },
   {
    "duration": 119,
    "start_time": "2023-03-01T00:32:34.537Z"
   },
   {
    "duration": 106,
    "start_time": "2023-03-01T00:32:34.658Z"
   },
   {
    "duration": 97,
    "start_time": "2023-03-01T00:32:34.765Z"
   },
   {
    "duration": 1896,
    "start_time": "2023-03-01T00:32:34.864Z"
   },
   {
    "duration": 731,
    "start_time": "2023-03-01T00:32:36.762Z"
   },
   {
    "duration": 421,
    "start_time": "2023-03-01T00:32:37.494Z"
   },
   {
    "duration": 434,
    "start_time": "2023-03-01T00:32:37.916Z"
   },
   {
    "duration": 3,
    "start_time": "2023-03-01T00:32:38.352Z"
   },
   {
    "duration": 241,
    "start_time": "2023-03-01T00:32:38.357Z"
   },
   {
    "duration": 58,
    "start_time": "2023-03-01T00:32:38.600Z"
   },
   {
    "duration": 64,
    "start_time": "2023-03-01T00:32:38.660Z"
   },
   {
    "duration": 15248,
    "start_time": "2023-03-01T00:32:38.726Z"
   },
   {
    "duration": 122,
    "start_time": "2023-03-01T00:32:53.976Z"
   },
   {
    "duration": 31,
    "start_time": "2023-03-01T00:32:54.100Z"
   },
   {
    "duration": 3125,
    "start_time": "2023-03-01T00:32:54.133Z"
   },
   {
    "duration": 400,
    "start_time": "2023-03-01T00:32:57.260Z"
   },
   {
    "duration": 17,
    "start_time": "2023-03-01T00:32:57.662Z"
   },
   {
    "duration": 2,
    "start_time": "2023-03-01T00:33:06.512Z"
   },
   {
    "duration": 17,
    "start_time": "2023-03-01T00:33:06.516Z"
   },
   {
    "duration": 14,
    "start_time": "2023-03-01T00:33:06.535Z"
   },
   {
    "duration": 728,
    "start_time": "2023-03-01T00:33:06.551Z"
   },
   {
    "duration": 22,
    "start_time": "2023-03-01T00:33:07.281Z"
   },
   {
    "duration": 119,
    "start_time": "2023-03-01T00:33:07.305Z"
   },
   {
    "duration": 110,
    "start_time": "2023-03-01T00:33:07.425Z"
   },
   {
    "duration": 103,
    "start_time": "2023-03-01T00:33:07.536Z"
   },
   {
    "duration": 1830,
    "start_time": "2023-03-01T00:33:07.641Z"
   },
   {
    "duration": 827,
    "start_time": "2023-03-01T00:33:09.472Z"
   },
   {
    "duration": 407,
    "start_time": "2023-03-01T00:33:10.301Z"
   },
   {
    "duration": 416,
    "start_time": "2023-03-01T00:33:10.709Z"
   },
   {
    "duration": 3,
    "start_time": "2023-03-01T00:33:11.127Z"
   },
   {
    "duration": 251,
    "start_time": "2023-03-01T00:33:11.132Z"
   },
   {
    "duration": 65,
    "start_time": "2023-03-01T00:33:11.384Z"
   },
   {
    "duration": 55,
    "start_time": "2023-03-01T00:33:11.451Z"
   },
   {
    "duration": 15511,
    "start_time": "2023-03-01T00:33:21.204Z"
   },
   {
    "duration": 192,
    "start_time": "2023-03-01T00:33:40.662Z"
   },
   {
    "duration": 85,
    "start_time": "2023-03-01T00:34:20.580Z"
   },
   {
    "duration": 22,
    "start_time": "2023-03-01T00:37:54.696Z"
   },
   {
    "duration": 78,
    "start_time": "2023-03-01T00:39:04.243Z"
   },
   {
    "duration": 4,
    "start_time": "2023-03-01T09:57:41.571Z"
   },
   {
    "duration": 434,
    "start_time": "2023-03-01T09:57:41.578Z"
   },
   {
    "duration": 0,
    "start_time": "2023-03-01T09:57:42.015Z"
   },
   {
    "duration": 0,
    "start_time": "2023-03-01T09:57:42.015Z"
   },
   {
    "duration": 0,
    "start_time": "2023-03-01T09:57:42.016Z"
   },
   {
    "duration": 0,
    "start_time": "2023-03-01T09:57:42.018Z"
   },
   {
    "duration": 0,
    "start_time": "2023-03-01T09:57:42.018Z"
   },
   {
    "duration": 0,
    "start_time": "2023-03-01T09:57:42.020Z"
   },
   {
    "duration": 0,
    "start_time": "2023-03-01T09:57:42.021Z"
   },
   {
    "duration": 0,
    "start_time": "2023-03-01T09:57:42.022Z"
   },
   {
    "duration": 0,
    "start_time": "2023-03-01T09:57:42.023Z"
   },
   {
    "duration": 0,
    "start_time": "2023-03-01T09:57:42.025Z"
   },
   {
    "duration": 0,
    "start_time": "2023-03-01T09:57:42.048Z"
   },
   {
    "duration": 0,
    "start_time": "2023-03-01T09:57:42.050Z"
   },
   {
    "duration": 0,
    "start_time": "2023-03-01T09:57:42.051Z"
   },
   {
    "duration": 0,
    "start_time": "2023-03-01T09:57:42.052Z"
   },
   {
    "duration": 0,
    "start_time": "2023-03-01T09:57:42.053Z"
   },
   {
    "duration": 0,
    "start_time": "2023-03-01T09:57:42.054Z"
   },
   {
    "duration": 0,
    "start_time": "2023-03-01T09:57:42.055Z"
   },
   {
    "duration": 0,
    "start_time": "2023-03-01T09:57:42.056Z"
   },
   {
    "duration": 0,
    "start_time": "2023-03-01T09:57:42.057Z"
   },
   {
    "duration": 0,
    "start_time": "2023-03-01T09:57:42.058Z"
   },
   {
    "duration": 3062,
    "start_time": "2023-03-01T09:58:37.375Z"
   },
   {
    "duration": 1331,
    "start_time": "2023-03-01T09:58:40.440Z"
   },
   {
    "duration": 4,
    "start_time": "2023-03-01T09:58:41.773Z"
   },
   {
    "duration": 2939,
    "start_time": "2023-03-01T09:58:41.778Z"
   },
   {
    "duration": 27,
    "start_time": "2023-03-01T09:58:44.719Z"
   },
   {
    "duration": 111,
    "start_time": "2023-03-01T09:58:44.748Z"
   },
   {
    "duration": 104,
    "start_time": "2023-03-01T09:58:44.860Z"
   },
   {
    "duration": 105,
    "start_time": "2023-03-01T09:58:44.965Z"
   },
   {
    "duration": 1890,
    "start_time": "2023-03-01T09:58:45.072Z"
   },
   {
    "duration": 770,
    "start_time": "2023-03-01T09:58:46.963Z"
   },
   {
    "duration": 442,
    "start_time": "2023-03-01T09:58:47.736Z"
   },
   {
    "duration": 480,
    "start_time": "2023-03-01T09:58:48.179Z"
   },
   {
    "duration": 4,
    "start_time": "2023-03-01T09:58:48.660Z"
   },
   {
    "duration": 247,
    "start_time": "2023-03-01T09:58:48.666Z"
   },
   {
    "duration": 67,
    "start_time": "2023-03-01T09:58:48.915Z"
   },
   {
    "duration": 52,
    "start_time": "2023-03-01T09:58:48.984Z"
   },
   {
    "duration": 15567,
    "start_time": "2023-03-01T09:58:49.049Z"
   },
   {
    "duration": 130,
    "start_time": "2023-03-01T09:59:04.618Z"
   },
   {
    "duration": 33,
    "start_time": "2023-03-01T09:59:04.750Z"
   },
   {
    "duration": 3279,
    "start_time": "2023-03-01T09:59:04.785Z"
   },
   {
    "duration": 420,
    "start_time": "2023-03-01T09:59:08.066Z"
   },
   {
    "duration": 19,
    "start_time": "2023-03-01T09:59:08.488Z"
   },
   {
    "duration": 374,
    "start_time": "2023-03-01T10:02:54.398Z"
   },
   {
    "duration": 2349,
    "start_time": "2023-03-01T10:03:10.136Z"
   },
   {
    "duration": 363,
    "start_time": "2023-03-01T10:03:15.285Z"
   },
   {
    "duration": 52,
    "start_time": "2023-03-01T10:07:41.828Z"
   },
   {
    "duration": 49,
    "start_time": "2023-03-01T10:09:13.312Z"
   },
   {
    "duration": 105,
    "start_time": "2023-03-01T10:14:41.421Z"
   },
   {
    "duration": 23,
    "start_time": "2023-03-01T10:14:44.728Z"
   },
   {
    "duration": 42,
    "start_time": "2023-03-01T10:14:56.317Z"
   },
   {
    "duration": 38,
    "start_time": "2023-03-01T10:15:03.128Z"
   },
   {
    "duration": 8,
    "start_time": "2023-03-01T10:15:06.606Z"
   },
   {
    "duration": 45,
    "start_time": "2023-03-01T10:15:35.043Z"
   },
   {
    "duration": 2051,
    "start_time": "2023-03-01T10:20:50.383Z"
   },
   {
    "duration": 1222,
    "start_time": "2023-03-01T10:20:52.436Z"
   },
   {
    "duration": 4,
    "start_time": "2023-03-01T10:20:53.660Z"
   },
   {
    "duration": 861,
    "start_time": "2023-03-01T10:20:53.667Z"
   },
   {
    "duration": 36,
    "start_time": "2023-03-01T10:20:54.530Z"
   },
   {
    "duration": 128,
    "start_time": "2023-03-01T10:20:54.568Z"
   },
   {
    "duration": 112,
    "start_time": "2023-03-01T10:20:54.698Z"
   },
   {
    "duration": 119,
    "start_time": "2023-03-01T10:20:54.811Z"
   },
   {
    "duration": 2012,
    "start_time": "2023-03-01T10:20:54.932Z"
   },
   {
    "duration": 741,
    "start_time": "2023-03-01T10:20:56.947Z"
   },
   {
    "duration": 460,
    "start_time": "2023-03-01T10:20:57.690Z"
   },
   {
    "duration": 556,
    "start_time": "2023-03-01T10:20:58.151Z"
   },
   {
    "duration": 4,
    "start_time": "2023-03-01T10:20:58.709Z"
   },
   {
    "duration": 260,
    "start_time": "2023-03-01T10:20:58.714Z"
   },
   {
    "duration": 62,
    "start_time": "2023-03-01T10:20:58.975Z"
   },
   {
    "duration": 63,
    "start_time": "2023-03-01T10:20:59.039Z"
   },
   {
    "duration": 56,
    "start_time": "2023-03-01T10:20:59.104Z"
   },
   {
    "duration": 17294,
    "start_time": "2023-03-01T10:20:59.162Z"
   },
   {
    "duration": 116,
    "start_time": "2023-03-01T10:21:16.458Z"
   },
   {
    "duration": 30,
    "start_time": "2023-03-01T10:21:16.576Z"
   },
   {
    "duration": 3183,
    "start_time": "2023-03-01T10:21:16.608Z"
   },
   {
    "duration": 409,
    "start_time": "2023-03-01T10:21:19.792Z"
   },
   {
    "duration": 17,
    "start_time": "2023-03-01T10:21:20.203Z"
   },
   {
    "duration": 2278,
    "start_time": "2023-03-01T10:21:29.378Z"
   },
   {
    "duration": 379,
    "start_time": "2023-03-01T10:21:31.756Z"
   },
   {
    "duration": 111,
    "start_time": "2023-03-01T10:22:43.761Z"
   },
   {
    "duration": 346,
    "start_time": "2023-03-01T10:23:08.147Z"
   },
   {
    "duration": 8,
    "start_time": "2023-03-01T10:23:54.269Z"
   },
   {
    "duration": 7,
    "start_time": "2023-03-01T10:24:15.384Z"
   },
   {
    "duration": 7,
    "start_time": "2023-03-01T10:24:27.663Z"
   },
   {
    "duration": 7,
    "start_time": "2023-03-01T10:24:31.769Z"
   },
   {
    "duration": 8,
    "start_time": "2023-03-01T10:24:42.001Z"
   },
   {
    "duration": 7,
    "start_time": "2023-03-01T10:24:54.943Z"
   },
   {
    "duration": 8,
    "start_time": "2023-03-01T10:25:27.767Z"
   },
   {
    "duration": 278,
    "start_time": "2023-03-01T10:26:26.772Z"
   },
   {
    "duration": 11,
    "start_time": "2023-03-01T10:29:01.387Z"
   },
   {
    "duration": 60,
    "start_time": "2023-03-01T10:29:28.282Z"
   },
   {
    "duration": 51,
    "start_time": "2023-03-01T10:29:50.922Z"
   },
   {
    "duration": 11,
    "start_time": "2023-03-01T10:29:55.119Z"
   },
   {
    "duration": 18,
    "start_time": "2023-03-01T10:30:40.499Z"
   },
   {
    "duration": 45,
    "start_time": "2023-03-01T10:30:58.758Z"
   },
   {
    "duration": 232,
    "start_time": "2023-03-01T10:32:12.905Z"
   },
   {
    "duration": 209,
    "start_time": "2023-03-01T10:33:21.621Z"
   },
   {
    "duration": 240,
    "start_time": "2023-03-01T10:33:26.051Z"
   },
   {
    "duration": 10,
    "start_time": "2023-03-01T10:34:14.173Z"
   },
   {
    "duration": 10,
    "start_time": "2023-03-01T10:34:35.664Z"
   },
   {
    "duration": 8,
    "start_time": "2023-03-01T10:34:51.427Z"
   },
   {
    "duration": 11,
    "start_time": "2023-03-01T10:34:55.933Z"
   },
   {
    "duration": 10,
    "start_time": "2023-03-01T10:35:13.223Z"
   },
   {
    "duration": 77,
    "start_time": "2023-03-01T10:35:27.899Z"
   },
   {
    "duration": 9,
    "start_time": "2023-03-01T10:35:48.088Z"
   },
   {
    "duration": 10,
    "start_time": "2023-03-01T10:36:02.456Z"
   },
   {
    "duration": 21,
    "start_time": "2023-03-01T10:37:08.821Z"
   },
   {
    "duration": 50,
    "start_time": "2023-03-01T10:37:24.893Z"
   },
   {
    "duration": 319,
    "start_time": "2023-03-01T10:38:01.629Z"
   },
   {
    "duration": 297,
    "start_time": "2023-03-01T10:38:24.683Z"
   },
   {
    "duration": 2059,
    "start_time": "2023-03-01T10:39:14.727Z"
   },
   {
    "duration": 1133,
    "start_time": "2023-03-01T10:39:16.788Z"
   },
   {
    "duration": 3,
    "start_time": "2023-03-01T10:39:17.923Z"
   },
   {
    "duration": 780,
    "start_time": "2023-03-01T10:39:17.928Z"
   },
   {
    "duration": 26,
    "start_time": "2023-03-01T10:39:18.710Z"
   },
   {
    "duration": 117,
    "start_time": "2023-03-01T10:39:18.738Z"
   },
   {
    "duration": 113,
    "start_time": "2023-03-01T10:39:18.857Z"
   },
   {
    "duration": 129,
    "start_time": "2023-03-01T10:39:18.971Z"
   },
   {
    "duration": 1893,
    "start_time": "2023-03-01T10:39:19.101Z"
   },
   {
    "duration": 818,
    "start_time": "2023-03-01T10:39:20.997Z"
   },
   {
    "duration": 463,
    "start_time": "2023-03-01T10:39:21.817Z"
   },
   {
    "duration": 520,
    "start_time": "2023-03-01T10:39:22.281Z"
   },
   {
    "duration": 5,
    "start_time": "2023-03-01T10:39:22.803Z"
   },
   {
    "duration": 308,
    "start_time": "2023-03-01T10:39:22.810Z"
   },
   {
    "duration": 80,
    "start_time": "2023-03-01T10:39:23.120Z"
   },
   {
    "duration": 75,
    "start_time": "2023-03-01T10:39:23.202Z"
   },
   {
    "duration": 76,
    "start_time": "2023-03-01T10:39:23.279Z"
   },
   {
    "duration": 16478,
    "start_time": "2023-03-01T10:39:23.357Z"
   },
   {
    "duration": 131,
    "start_time": "2023-03-01T10:39:39.837Z"
   },
   {
    "duration": 27,
    "start_time": "2023-03-01T10:39:39.970Z"
   },
   {
    "duration": 3245,
    "start_time": "2023-03-01T10:39:39.999Z"
   },
   {
    "duration": 391,
    "start_time": "2023-03-01T10:39:43.248Z"
   },
   {
    "duration": 17,
    "start_time": "2023-03-01T10:39:43.640Z"
   },
   {
    "duration": 322,
    "start_time": "2023-03-01T10:39:43.659Z"
   },
   {
    "duration": 22,
    "start_time": "2023-03-01T10:39:43.983Z"
   },
   {
    "duration": 255,
    "start_time": "2023-03-01T10:39:44.007Z"
   },
   {
    "duration": 9,
    "start_time": "2023-03-01T10:39:44.264Z"
   },
   {
    "duration": 22,
    "start_time": "2023-03-01T10:39:44.276Z"
   },
   {
    "duration": 62,
    "start_time": "2023-03-01T10:39:44.300Z"
   },
   {
    "duration": 284,
    "start_time": "2023-03-01T10:44:17.502Z"
   },
   {
    "duration": 57,
    "start_time": "2023-03-01T10:46:53.081Z"
   },
   {
    "duration": 8,
    "start_time": "2023-03-01T10:46:53.723Z"
   },
   {
    "duration": 3,
    "start_time": "2023-03-01T10:52:33.899Z"
   },
   {
    "duration": 112,
    "start_time": "2023-03-01T10:53:48.701Z"
   },
   {
    "duration": 14,
    "start_time": "2023-03-01T10:53:53.177Z"
   },
   {
    "duration": 22,
    "start_time": "2023-03-01T10:54:00.516Z"
   },
   {
    "duration": 11,
    "start_time": "2023-03-01T10:54:09.746Z"
   },
   {
    "duration": 5,
    "start_time": "2023-03-01T10:54:15.683Z"
   },
   {
    "duration": 10,
    "start_time": "2023-03-01T10:54:42.626Z"
   },
   {
    "duration": 6,
    "start_time": "2023-03-01T10:54:43.192Z"
   },
   {
    "duration": 4,
    "start_time": "2023-03-01T11:00:26.831Z"
   },
   {
    "duration": 31,
    "start_time": "2023-03-01T11:01:13.287Z"
   },
   {
    "duration": 4,
    "start_time": "2023-03-01T11:01:35.667Z"
   },
   {
    "duration": 2292,
    "start_time": "2023-03-01T11:01:46.391Z"
   },
   {
    "duration": 141,
    "start_time": "2023-03-01T11:03:41.461Z"
   },
   {
    "duration": 5,
    "start_time": "2023-03-01T11:03:42.951Z"
   },
   {
    "duration": 1393,
    "start_time": "2023-03-01T11:04:02.603Z"
   },
   {
    "duration": 139,
    "start_time": "2023-03-01T11:04:09.639Z"
   },
   {
    "duration": 5,
    "start_time": "2023-03-01T11:04:10.333Z"
   },
   {
    "duration": 5,
    "start_time": "2023-03-01T11:04:24.254Z"
   },
   {
    "duration": 4441,
    "start_time": "2023-03-01T11:10:08.279Z"
   },
   {
    "duration": 149,
    "start_time": "2023-03-01T11:10:19.363Z"
   },
   {
    "duration": 6,
    "start_time": "2023-03-01T11:10:20.116Z"
   },
   {
    "duration": 67014,
    "start_time": "2023-03-01T11:11:01.980Z"
   },
   {
    "duration": 323,
    "start_time": "2023-03-01T11:12:11.931Z"
   },
   {
    "duration": 5,
    "start_time": "2023-03-01T11:12:12.769Z"
   },
   {
    "duration": 2719,
    "start_time": "2023-03-01T11:18:33.076Z"
   },
   {
    "duration": 4,
    "start_time": "2023-03-01T11:22:50.334Z"
   },
   {
    "duration": 3,
    "start_time": "2023-03-01T11:24:45.171Z"
   },
   {
    "duration": 2939,
    "start_time": "2023-03-01T11:24:59.764Z"
   },
   {
    "duration": 72,
    "start_time": "2023-03-01T11:25:38.530Z"
   },
   {
    "duration": 1565,
    "start_time": "2023-03-01T11:25:47.158Z"
   },
   {
    "duration": 3116,
    "start_time": "2023-03-01T11:26:09.177Z"
   },
   {
    "duration": 1381,
    "start_time": "2023-03-01T11:42:14.716Z"
   },
   {
    "duration": 1308,
    "start_time": "2023-03-01T11:42:32.375Z"
   },
   {
    "duration": 3484,
    "start_time": "2023-03-01T11:42:47.374Z"
   },
   {
    "duration": 153,
    "start_time": "2023-03-01T11:42:54.983Z"
   },
   {
    "duration": 6,
    "start_time": "2023-03-01T11:42:55.652Z"
   },
   {
    "duration": 92,
    "start_time": "2023-03-01T11:43:36.531Z"
   },
   {
    "duration": 3289,
    "start_time": "2023-03-01T11:43:41.335Z"
   },
   {
    "duration": 157,
    "start_time": "2023-03-01T11:43:49.059Z"
   },
   {
    "duration": 5,
    "start_time": "2023-03-01T11:43:50.383Z"
   },
   {
    "duration": 3455,
    "start_time": "2023-03-01T11:54:37.667Z"
   },
   {
    "duration": 5680,
    "start_time": "2023-03-01T11:55:35.020Z"
   },
   {
    "duration": 164,
    "start_time": "2023-03-01T11:55:50.532Z"
   },
   {
    "duration": 5,
    "start_time": "2023-03-01T11:55:50.906Z"
   },
   {
    "duration": 44474,
    "start_time": "2023-03-01T11:56:04.931Z"
   },
   {
    "duration": 226,
    "start_time": "2023-03-01T11:56:49.407Z"
   },
   {
    "duration": 5,
    "start_time": "2023-03-01T11:56:49.635Z"
   },
   {
    "duration": 4,
    "start_time": "2023-03-01T12:24:31.220Z"
   },
   {
    "duration": 1586,
    "start_time": "2023-03-01T12:24:31.225Z"
   },
   {
    "duration": 3,
    "start_time": "2023-03-01T12:24:32.814Z"
   },
   {
    "duration": 937,
    "start_time": "2023-03-01T12:24:32.818Z"
   },
   {
    "duration": 29,
    "start_time": "2023-03-01T12:24:33.757Z"
   },
   {
    "duration": 139,
    "start_time": "2023-03-01T12:24:33.787Z"
   },
   {
    "duration": 121,
    "start_time": "2023-03-01T12:24:33.928Z"
   },
   {
    "duration": 120,
    "start_time": "2023-03-01T12:24:34.051Z"
   },
   {
    "duration": 2252,
    "start_time": "2023-03-01T12:24:34.173Z"
   },
   {
    "duration": 909,
    "start_time": "2023-03-01T12:24:36.427Z"
   },
   {
    "duration": 464,
    "start_time": "2023-03-01T12:24:37.340Z"
   },
   {
    "duration": 553,
    "start_time": "2023-03-01T12:24:37.806Z"
   },
   {
    "duration": 4,
    "start_time": "2023-03-01T12:24:38.361Z"
   },
   {
    "duration": 256,
    "start_time": "2023-03-01T12:24:38.366Z"
   },
   {
    "duration": 68,
    "start_time": "2023-03-01T12:24:38.623Z"
   },
   {
    "duration": 70,
    "start_time": "2023-03-01T12:24:38.693Z"
   },
   {
    "duration": 58,
    "start_time": "2023-03-01T12:24:38.764Z"
   },
   {
    "duration": 15842,
    "start_time": "2023-03-01T12:24:38.825Z"
   },
   {
    "duration": 117,
    "start_time": "2023-03-01T12:24:54.668Z"
   },
   {
    "duration": 31,
    "start_time": "2023-03-01T12:24:54.787Z"
   },
   {
    "duration": 3303,
    "start_time": "2023-03-01T12:24:54.820Z"
   },
   {
    "duration": 444,
    "start_time": "2023-03-01T12:24:58.125Z"
   },
   {
    "duration": 19,
    "start_time": "2023-03-01T12:24:58.570Z"
   },
   {
    "duration": 436,
    "start_time": "2023-03-01T12:24:58.590Z"
   },
   {
    "duration": 28,
    "start_time": "2023-03-01T12:24:59.028Z"
   },
   {
    "duration": 255,
    "start_time": "2023-03-01T12:24:59.058Z"
   },
   {
    "duration": 9,
    "start_time": "2023-03-01T12:24:59.315Z"
   },
   {
    "duration": 34,
    "start_time": "2023-03-01T12:24:59.326Z"
   },
   {
    "duration": 55,
    "start_time": "2023-03-01T12:24:59.364Z"
   },
   {
    "duration": 87,
    "start_time": "2023-03-01T12:24:59.421Z"
   },
   {
    "duration": 7,
    "start_time": "2023-03-01T12:24:59.510Z"
   },
   {
    "duration": 317,
    "start_time": "2023-03-01T12:24:59.519Z"
   },
   {
    "duration": 15,
    "start_time": "2023-03-01T12:24:59.837Z"
   },
   {
    "duration": 0,
    "start_time": "2023-03-01T12:24:59.854Z"
   },
   {
    "duration": 7,
    "start_time": "2023-03-03T07:42:17.448Z"
   },
   {
    "duration": 566,
    "start_time": "2023-03-03T07:42:17.460Z"
   },
   {
    "duration": 0,
    "start_time": "2023-03-03T07:42:18.029Z"
   },
   {
    "duration": 0,
    "start_time": "2023-03-03T07:42:18.030Z"
   },
   {
    "duration": 0,
    "start_time": "2023-03-03T07:42:18.032Z"
   },
   {
    "duration": 0,
    "start_time": "2023-03-03T07:42:18.033Z"
   },
   {
    "duration": 0,
    "start_time": "2023-03-03T07:42:18.034Z"
   },
   {
    "duration": 0,
    "start_time": "2023-03-03T07:42:18.035Z"
   },
   {
    "duration": 0,
    "start_time": "2023-03-03T07:42:18.036Z"
   },
   {
    "duration": 0,
    "start_time": "2023-03-03T07:42:18.051Z"
   },
   {
    "duration": 0,
    "start_time": "2023-03-03T07:42:18.051Z"
   },
   {
    "duration": 0,
    "start_time": "2023-03-03T07:42:18.052Z"
   },
   {
    "duration": 0,
    "start_time": "2023-03-03T07:42:18.053Z"
   },
   {
    "duration": 0,
    "start_time": "2023-03-03T07:42:18.053Z"
   },
   {
    "duration": 0,
    "start_time": "2023-03-03T07:42:18.054Z"
   },
   {
    "duration": 0,
    "start_time": "2023-03-03T07:42:18.055Z"
   },
   {
    "duration": 0,
    "start_time": "2023-03-03T07:42:18.057Z"
   },
   {
    "duration": 0,
    "start_time": "2023-03-03T07:42:18.058Z"
   },
   {
    "duration": 0,
    "start_time": "2023-03-03T07:42:18.059Z"
   },
   {
    "duration": 0,
    "start_time": "2023-03-03T07:42:18.059Z"
   },
   {
    "duration": 0,
    "start_time": "2023-03-03T07:42:18.060Z"
   },
   {
    "duration": 0,
    "start_time": "2023-03-03T07:42:18.066Z"
   },
   {
    "duration": 0,
    "start_time": "2023-03-03T07:42:18.067Z"
   },
   {
    "duration": 0,
    "start_time": "2023-03-03T07:42:18.069Z"
   },
   {
    "duration": 0,
    "start_time": "2023-03-03T07:42:18.070Z"
   },
   {
    "duration": 0,
    "start_time": "2023-03-03T07:42:18.071Z"
   },
   {
    "duration": 0,
    "start_time": "2023-03-03T07:42:18.073Z"
   },
   {
    "duration": 0,
    "start_time": "2023-03-03T07:42:18.074Z"
   },
   {
    "duration": 0,
    "start_time": "2023-03-03T07:42:18.075Z"
   },
   {
    "duration": 0,
    "start_time": "2023-03-03T07:42:18.076Z"
   },
   {
    "duration": 0,
    "start_time": "2023-03-03T07:42:18.078Z"
   },
   {
    "duration": 0,
    "start_time": "2023-03-03T07:42:18.079Z"
   },
   {
    "duration": 0,
    "start_time": "2023-03-03T07:42:18.080Z"
   },
   {
    "duration": 0,
    "start_time": "2023-03-03T07:42:18.081Z"
   },
   {
    "duration": 4406,
    "start_time": "2023-03-03T07:43:43.416Z"
   },
   {
    "duration": 1890,
    "start_time": "2023-03-03T07:43:47.825Z"
   },
   {
    "duration": 4,
    "start_time": "2023-03-03T07:43:49.717Z"
   },
   {
    "duration": 1455,
    "start_time": "2023-03-03T07:43:49.723Z"
   },
   {
    "duration": 32,
    "start_time": "2023-03-03T07:43:51.180Z"
   },
   {
    "duration": 215,
    "start_time": "2023-03-03T07:43:51.214Z"
   },
   {
    "duration": 184,
    "start_time": "2023-03-03T07:43:51.430Z"
   },
   {
    "duration": 121,
    "start_time": "2023-03-03T07:43:51.616Z"
   },
   {
    "duration": 3151,
    "start_time": "2023-03-03T07:43:51.739Z"
   },
   {
    "duration": 1065,
    "start_time": "2023-03-03T07:43:54.894Z"
   },
   {
    "duration": 599,
    "start_time": "2023-03-03T07:43:55.966Z"
   },
   {
    "duration": 669,
    "start_time": "2023-03-03T07:43:56.571Z"
   },
   {
    "duration": 37,
    "start_time": "2023-03-03T07:43:57.242Z"
   },
   {
    "duration": 403,
    "start_time": "2023-03-03T07:43:57.288Z"
   },
   {
    "duration": 75,
    "start_time": "2023-03-03T07:43:57.693Z"
   },
   {
    "duration": 108,
    "start_time": "2023-03-03T07:43:57.770Z"
   },
   {
    "duration": 63,
    "start_time": "2023-03-03T07:43:57.883Z"
   },
   {
    "duration": 26259,
    "start_time": "2023-03-03T07:43:57.953Z"
   },
   {
    "duration": 159,
    "start_time": "2023-03-03T07:44:24.213Z"
   },
   {
    "duration": 32,
    "start_time": "2023-03-03T07:44:24.376Z"
   },
   {
    "duration": 4362,
    "start_time": "2023-03-03T07:44:24.410Z"
   },
   {
    "duration": 491,
    "start_time": "2023-03-03T07:44:28.773Z"
   },
   {
    "duration": 30,
    "start_time": "2023-03-03T07:44:29.266Z"
   },
   {
    "duration": 532,
    "start_time": "2023-03-03T07:44:29.299Z"
   },
   {
    "duration": 38,
    "start_time": "2023-03-03T07:44:29.834Z"
   },
   {
    "duration": 331,
    "start_time": "2023-03-03T07:44:29.880Z"
   },
   {
    "duration": 9,
    "start_time": "2023-03-03T07:44:30.213Z"
   },
   {
    "duration": 41,
    "start_time": "2023-03-03T07:44:30.226Z"
   },
   {
    "duration": 107,
    "start_time": "2023-03-03T07:44:30.269Z"
   },
   {
    "duration": 55,
    "start_time": "2023-03-03T07:44:30.377Z"
   },
   {
    "duration": 6,
    "start_time": "2023-03-03T07:44:30.434Z"
   },
   {
    "duration": 290,
    "start_time": "2023-03-03T07:44:30.451Z"
   },
   {
    "duration": 18,
    "start_time": "2023-03-03T07:44:30.742Z"
   },
   {
    "duration": 0,
    "start_time": "2023-03-03T07:44:30.763Z"
   },
   {
    "duration": 1032390,
    "start_time": "2023-03-03T07:45:35.844Z"
   },
   {
    "duration": 1213,
    "start_time": "2023-03-03T08:19:20.019Z"
   },
   {
    "duration": 5,
    "start_time": "2023-03-03T08:19:21.234Z"
   },
   {
    "duration": 1015,
    "start_time": "2023-03-03T08:31:48.280Z"
   },
   {
    "duration": 726,
    "start_time": "2023-03-03T08:32:52.616Z"
   },
   {
    "duration": 3213,
    "start_time": "2023-03-03T08:34:43.286Z"
   },
   {
    "duration": 3156,
    "start_time": "2023-03-03T08:34:52.729Z"
   },
   {
    "duration": 472,
    "start_time": "2023-03-03T08:39:53.762Z"
   },
   {
    "duration": 19,
    "start_time": "2023-03-03T08:40:27.967Z"
   },
   {
    "duration": 3327,
    "start_time": "2023-03-03T08:44:44.980Z"
   },
   {
    "duration": 1968,
    "start_time": "2023-03-03T08:46:17.777Z"
   },
   {
    "duration": 1120,
    "start_time": "2023-03-03T08:47:25.094Z"
   },
   {
    "duration": 920,
    "start_time": "2023-03-03T08:48:05.323Z"
   },
   {
    "duration": 1317,
    "start_time": "2023-03-03T12:29:20.313Z"
   },
   {
    "duration": 6,
    "start_time": "2023-03-03T12:29:25.987Z"
   },
   {
    "duration": 41,
    "start_time": "2023-03-03T12:31:16.925Z"
   },
   {
    "duration": 6,
    "start_time": "2023-03-03T12:45:07.967Z"
   },
   {
    "duration": 99,
    "start_time": "2023-03-03T12:46:09.096Z"
   },
   {
    "duration": 6,
    "start_time": "2023-03-03T12:46:56.595Z"
   },
   {
    "duration": 6,
    "start_time": "2023-03-03T12:50:58.063Z"
   },
   {
    "duration": 6,
    "start_time": "2023-03-03T12:51:05.754Z"
   },
   {
    "duration": 60,
    "start_time": "2023-03-03T13:12:49.551Z"
   },
   {
    "duration": 7635,
    "start_time": "2023-03-03T13:13:16.804Z"
   },
   {
    "duration": 5,
    "start_time": "2023-03-03T13:13:27.918Z"
   },
   {
    "duration": 44,
    "start_time": "2023-03-03T13:13:33.352Z"
   },
   {
    "duration": 43,
    "start_time": "2023-03-03T13:13:43.145Z"
   },
   {
    "duration": 2377,
    "start_time": "2023-03-03T13:13:56.531Z"
   },
   {
    "duration": 2397,
    "start_time": "2023-03-03T13:13:58.910Z"
   },
   {
    "duration": 1291,
    "start_time": "2023-03-03T13:14:01.310Z"
   },
   {
    "duration": 4,
    "start_time": "2023-03-03T13:14:02.603Z"
   },
   {
    "duration": 877,
    "start_time": "2023-03-03T13:14:02.609Z"
   },
   {
    "duration": 30,
    "start_time": "2023-03-03T13:14:03.488Z"
   },
   {
    "duration": 170,
    "start_time": "2023-03-03T13:14:03.520Z"
   },
   {
    "duration": 171,
    "start_time": "2023-03-03T13:14:03.692Z"
   },
   {
    "duration": 156,
    "start_time": "2023-03-03T13:14:03.866Z"
   },
   {
    "duration": 2684,
    "start_time": "2023-03-03T13:14:04.025Z"
   },
   {
    "duration": 913,
    "start_time": "2023-03-03T13:14:06.712Z"
   },
   {
    "duration": 503,
    "start_time": "2023-03-03T13:14:07.627Z"
   },
   {
    "duration": 500,
    "start_time": "2023-03-03T13:14:08.132Z"
   },
   {
    "duration": 4,
    "start_time": "2023-03-03T13:14:08.634Z"
   },
   {
    "duration": 386,
    "start_time": "2023-03-03T13:14:08.639Z"
   },
   {
    "duration": 94,
    "start_time": "2023-03-03T13:14:09.027Z"
   },
   {
    "duration": 119,
    "start_time": "2023-03-03T13:14:09.123Z"
   },
   {
    "duration": 65,
    "start_time": "2023-03-03T13:14:09.244Z"
   },
   {
    "duration": 21734,
    "start_time": "2023-03-03T13:14:09.311Z"
   },
   {
    "duration": 132,
    "start_time": "2023-03-03T13:14:31.047Z"
   },
   {
    "duration": 27,
    "start_time": "2023-03-03T13:14:31.181Z"
   },
   {
    "duration": 3712,
    "start_time": "2023-03-03T13:14:31.210Z"
   },
   {
    "duration": 467,
    "start_time": "2023-03-03T13:14:34.924Z"
   },
   {
    "duration": 12,
    "start_time": "2023-03-03T13:14:35.393Z"
   },
   {
    "duration": 377,
    "start_time": "2023-03-03T13:14:35.408Z"
   },
   {
    "duration": 19,
    "start_time": "2023-03-03T13:14:35.788Z"
   },
   {
    "duration": 323,
    "start_time": "2023-03-03T13:14:35.809Z"
   },
   {
    "duration": 14,
    "start_time": "2023-03-03T13:14:36.136Z"
   },
   {
    "duration": 17,
    "start_time": "2023-03-03T13:14:36.153Z"
   },
   {
    "duration": 62,
    "start_time": "2023-03-03T13:14:36.172Z"
   },
   {
    "duration": 50,
    "start_time": "2023-03-03T13:14:36.248Z"
   },
   {
    "duration": 7,
    "start_time": "2023-03-03T13:14:36.300Z"
   },
   {
    "duration": 6498,
    "start_time": "2023-03-03T13:14:36.309Z"
   },
   {
    "duration": 57,
    "start_time": "2023-03-03T13:14:42.809Z"
   },
   {
    "duration": 7,
    "start_time": "2023-03-03T13:14:42.869Z"
   },
   {
    "duration": 971,
    "start_time": "2023-03-03T13:14:42.878Z"
   },
   {
    "duration": 400,
    "start_time": "2023-03-03T13:14:43.851Z"
   },
   {
    "duration": 35,
    "start_time": "2023-03-03T13:15:07.466Z"
   },
   {
    "duration": 4,
    "start_time": "2023-03-03T13:18:01.166Z"
   },
   {
    "duration": 846,
    "start_time": "2023-03-03T13:18:27.294Z"
   },
   {
    "duration": 403,
    "start_time": "2023-03-03T13:19:30.657Z"
   },
   {
    "duration": 2419,
    "start_time": "2023-03-03T13:22:26.985Z"
   },
   {
    "duration": 2383,
    "start_time": "2023-03-03T13:22:29.407Z"
   },
   {
    "duration": 1289,
    "start_time": "2023-03-03T13:22:31.792Z"
   },
   {
    "duration": 2,
    "start_time": "2023-03-03T13:22:33.084Z"
   },
   {
    "duration": 954,
    "start_time": "2023-03-03T13:22:33.089Z"
   },
   {
    "duration": 41,
    "start_time": "2023-03-03T13:22:34.045Z"
   },
   {
    "duration": 192,
    "start_time": "2023-03-03T13:22:34.088Z"
   },
   {
    "duration": 169,
    "start_time": "2023-03-03T13:22:34.282Z"
   },
   {
    "duration": 122,
    "start_time": "2023-03-03T13:22:34.453Z"
   },
   {
    "duration": 2579,
    "start_time": "2023-03-03T13:22:34.577Z"
   },
   {
    "duration": 913,
    "start_time": "2023-03-03T13:22:37.158Z"
   },
   {
    "duration": 524,
    "start_time": "2023-03-03T13:22:38.073Z"
   },
   {
    "duration": 504,
    "start_time": "2023-03-03T13:22:38.599Z"
   },
   {
    "duration": 5,
    "start_time": "2023-03-03T13:22:39.106Z"
   },
   {
    "duration": 444,
    "start_time": "2023-03-03T13:22:39.112Z"
   },
   {
    "duration": 75,
    "start_time": "2023-03-03T13:22:39.558Z"
   },
   {
    "duration": 122,
    "start_time": "2023-03-03T13:22:39.635Z"
   },
   {
    "duration": 62,
    "start_time": "2023-03-03T13:22:39.759Z"
   },
   {
    "duration": 22684,
    "start_time": "2023-03-03T13:22:39.823Z"
   },
   {
    "duration": 149,
    "start_time": "2023-03-03T13:23:02.509Z"
   },
   {
    "duration": 32,
    "start_time": "2023-03-03T13:23:02.660Z"
   },
   {
    "duration": 3972,
    "start_time": "2023-03-03T13:23:02.694Z"
   },
   {
    "duration": 425,
    "start_time": "2023-03-03T13:23:06.668Z"
   },
   {
    "duration": 11,
    "start_time": "2023-03-03T13:23:07.095Z"
   },
   {
    "duration": 359,
    "start_time": "2023-03-03T13:23:07.108Z"
   },
   {
    "duration": 18,
    "start_time": "2023-03-03T13:23:07.469Z"
   },
   {
    "duration": 313,
    "start_time": "2023-03-03T13:23:07.489Z"
   },
   {
    "duration": 8,
    "start_time": "2023-03-03T13:23:07.803Z"
   },
   {
    "duration": 16,
    "start_time": "2023-03-03T13:23:07.813Z"
   },
   {
    "duration": 70,
    "start_time": "2023-03-03T13:23:07.831Z"
   },
   {
    "duration": 71,
    "start_time": "2023-03-03T13:23:07.902Z"
   },
   {
    "duration": 7,
    "start_time": "2023-03-03T13:23:07.975Z"
   },
   {
    "duration": 6694,
    "start_time": "2023-03-03T13:23:07.984Z"
   },
   {
    "duration": 66,
    "start_time": "2023-03-03T13:23:14.680Z"
   },
   {
    "duration": 7,
    "start_time": "2023-03-03T13:23:14.749Z"
   },
   {
    "duration": 675,
    "start_time": "2023-03-03T13:23:14.758Z"
   },
   {
    "duration": 158343,
    "start_time": "2023-03-03T13:23:15.435Z"
   },
   {
    "duration": 214,
    "start_time": "2023-03-03T13:29:34.106Z"
   },
   {
    "duration": 283,
    "start_time": "2023-03-03T13:29:47.480Z"
   },
   {
    "duration": 6,
    "start_time": "2023-03-03T13:29:54.790Z"
   },
   {
    "duration": 314,
    "start_time": "2023-03-03T13:30:37.344Z"
   },
   {
    "duration": 6,
    "start_time": "2023-03-03T13:30:39.125Z"
   },
   {
    "duration": 105,
    "start_time": "2023-03-03T13:33:20.513Z"
   },
   {
    "duration": 7,
    "start_time": "2023-03-03T13:33:36.562Z"
   },
   {
    "duration": 9,
    "start_time": "2023-03-03T13:36:38.839Z"
   },
   {
    "duration": 3,
    "start_time": "2023-03-03T13:36:41.244Z"
   },
   {
    "duration": 8,
    "start_time": "2023-03-03T13:36:57.648Z"
   },
   {
    "duration": 9,
    "start_time": "2023-03-03T13:36:59.218Z"
   },
   {
    "duration": 8,
    "start_time": "2023-03-03T13:37:05.615Z"
   },
   {
    "duration": 9,
    "start_time": "2023-03-03T13:37:07.630Z"
   },
   {
    "duration": 9,
    "start_time": "2023-03-03T13:37:19.773Z"
   },
   {
    "duration": 4,
    "start_time": "2023-03-03T13:37:21.127Z"
   },
   {
    "duration": 181,
    "start_time": "2023-03-03T13:38:56.793Z"
   },
   {
    "duration": 2141,
    "start_time": "2023-03-03T13:39:27.880Z"
   },
   {
    "duration": 146,
    "start_time": "2023-03-03T13:39:42.200Z"
   },
   {
    "duration": 4,
    "start_time": "2023-03-03T13:43:16.919Z"
   },
   {
    "duration": 5614,
    "start_time": "2023-03-03T13:44:55.948Z"
   },
   {
    "duration": 4,
    "start_time": "2023-03-03T13:45:12.870Z"
   },
   {
    "duration": 9,
    "start_time": "2023-03-03T13:45:15.225Z"
   },
   {
    "duration": 4,
    "start_time": "2023-03-03T13:45:17.482Z"
   },
   {
    "duration": 10,
    "start_time": "2023-03-03T13:45:23.961Z"
   },
   {
    "duration": 302467,
    "start_time": "2023-03-03T13:46:11.183Z"
   },
   {
    "duration": 9,
    "start_time": "2023-03-03T13:51:54.993Z"
   },
   {
    "duration": 4,
    "start_time": "2023-03-03T13:52:02.657Z"
   },
   {
    "duration": 283,
    "start_time": "2023-03-03T13:52:13.473Z"
   },
   {
    "duration": 6,
    "start_time": "2023-03-03T13:52:16.233Z"
   },
   {
    "duration": 86669,
    "start_time": "2023-03-03T13:52:55.385Z"
   },
   {
    "duration": 5,
    "start_time": "2023-03-03T13:54:45.616Z"
   },
   {
    "duration": 320,
    "start_time": "2023-03-03T13:54:46.342Z"
   },
   {
    "duration": 6,
    "start_time": "2023-03-03T13:54:48.716Z"
   },
   {
    "duration": 3,
    "start_time": "2023-03-03T13:55:43.755Z"
   },
   {
    "duration": 3,
    "start_time": "2023-03-03T13:55:46.724Z"
   },
   {
    "duration": 4,
    "start_time": "2023-03-03T13:55:54.368Z"
   },
   {
    "duration": 4,
    "start_time": "2023-03-03T13:56:40.176Z"
   },
   {
    "duration": 3159,
    "start_time": "2023-03-03T14:02:07.191Z"
   },
   {
    "duration": 3449,
    "start_time": "2023-03-03T14:03:28.655Z"
   },
   {
    "duration": 126,
    "start_time": "2023-03-03T14:05:31.339Z"
   },
   {
    "duration": 5,
    "start_time": "2023-03-03T14:06:20.684Z"
   },
   {
    "duration": 4,
    "start_time": "2023-03-03T14:06:27.562Z"
   },
   {
    "duration": 4,
    "start_time": "2023-03-03T14:06:35.431Z"
   },
   {
    "duration": 36,
    "start_time": "2023-03-03T14:08:12.199Z"
   },
   {
    "duration": 14555,
    "start_time": "2023-03-03T20:17:46.194Z"
   },
   {
    "duration": 3373,
    "start_time": "2023-03-03T20:18:00.753Z"
   },
   {
    "duration": 1676,
    "start_time": "2023-03-03T20:18:04.129Z"
   },
   {
    "duration": 6,
    "start_time": "2023-03-03T20:18:05.807Z"
   },
   {
    "duration": 1768,
    "start_time": "2023-03-03T20:18:05.820Z"
   },
   {
    "duration": 31,
    "start_time": "2023-03-03T20:18:07.595Z"
   },
   {
    "duration": 154,
    "start_time": "2023-03-03T20:18:07.627Z"
   },
   {
    "duration": 170,
    "start_time": "2023-03-03T20:18:07.786Z"
   },
   {
    "duration": 128,
    "start_time": "2023-03-03T20:18:07.963Z"
   },
   {
    "duration": 2608,
    "start_time": "2023-03-03T20:18:08.097Z"
   },
   {
    "duration": 1001,
    "start_time": "2023-03-03T20:18:10.707Z"
   },
   {
    "duration": 576,
    "start_time": "2023-03-03T20:18:11.710Z"
   },
   {
    "duration": 653,
    "start_time": "2023-03-03T20:18:12.291Z"
   },
   {
    "duration": 25,
    "start_time": "2023-03-03T20:18:12.948Z"
   },
   {
    "duration": 495,
    "start_time": "2023-03-03T20:18:12.980Z"
   },
   {
    "duration": 85,
    "start_time": "2023-03-03T20:18:13.477Z"
   },
   {
    "duration": 148,
    "start_time": "2023-03-03T20:18:13.568Z"
   },
   {
    "duration": 74,
    "start_time": "2023-03-03T20:18:13.718Z"
   },
   {
    "duration": 21871,
    "start_time": "2023-03-03T20:18:13.794Z"
   },
   {
    "duration": 158,
    "start_time": "2023-03-03T20:18:35.673Z"
   },
   {
    "duration": 41,
    "start_time": "2023-03-03T20:18:35.835Z"
   },
   {
    "duration": 4195,
    "start_time": "2023-03-03T20:18:35.878Z"
   },
   {
    "duration": 443,
    "start_time": "2023-03-03T20:18:40.083Z"
   },
   {
    "duration": 14,
    "start_time": "2023-03-03T20:18:40.528Z"
   },
   {
    "duration": 384,
    "start_time": "2023-03-03T20:18:40.544Z"
   },
   {
    "duration": 30,
    "start_time": "2023-03-03T20:18:40.930Z"
   },
   {
    "duration": 282,
    "start_time": "2023-03-03T20:18:40.961Z"
   },
   {
    "duration": 10,
    "start_time": "2023-03-03T20:18:41.248Z"
   },
   {
    "duration": 23,
    "start_time": "2023-03-03T20:18:41.261Z"
   },
   {
    "duration": 78,
    "start_time": "2023-03-03T20:18:41.290Z"
   },
   {
    "duration": 68,
    "start_time": "2023-03-03T20:18:41.373Z"
   },
   {
    "duration": 33,
    "start_time": "2023-03-03T20:18:41.443Z"
   },
   {
    "duration": 7639,
    "start_time": "2023-03-03T20:18:41.484Z"
   },
   {
    "duration": 70,
    "start_time": "2023-03-03T20:18:49.125Z"
   },
   {
    "duration": 23,
    "start_time": "2023-03-03T20:18:49.198Z"
   },
   {
    "duration": 667,
    "start_time": "2023-03-03T20:18:49.223Z"
   },
   {
    "duration": 43,
    "start_time": "2023-03-03T20:18:49.891Z"
   },
   {
    "duration": 282,
    "start_time": "2023-03-03T20:18:49.935Z"
   },
   {
    "duration": 12,
    "start_time": "2023-03-03T20:18:50.219Z"
   },
   {
    "duration": 0,
    "start_time": "2023-03-03T20:18:50.233Z"
   },
   {
    "duration": 0,
    "start_time": "2023-03-03T20:18:50.234Z"
   },
   {
    "duration": 2600,
    "start_time": "2023-03-03T21:54:44.608Z"
   },
   {
    "duration": 2523,
    "start_time": "2023-03-03T21:54:47.211Z"
   },
   {
    "duration": 4,
    "start_time": "2023-03-03T21:54:49.736Z"
   },
   {
    "duration": 71,
    "start_time": "2023-03-03T21:54:49.743Z"
   },
   {
    "duration": 952,
    "start_time": "2023-03-03T21:54:49.816Z"
   },
   {
    "duration": 39,
    "start_time": "2023-03-03T21:54:50.776Z"
   },
   {
    "duration": 161,
    "start_time": "2023-03-03T21:54:50.817Z"
   },
   {
    "duration": 141,
    "start_time": "2023-03-03T21:54:50.985Z"
   },
   {
    "duration": 244,
    "start_time": "2023-03-03T21:54:51.128Z"
   },
   {
    "duration": 2783,
    "start_time": "2023-03-03T21:54:51.378Z"
   },
   {
    "duration": 143,
    "start_time": "2023-03-03T21:54:54.685Z"
   },
   {
    "duration": 47,
    "start_time": "2023-03-03T21:56:40.017Z"
   },
   {
    "duration": 139,
    "start_time": "2023-03-03T21:56:47.723Z"
   },
   {
    "duration": 2347,
    "start_time": "2023-03-03T21:57:30.472Z"
   },
   {
    "duration": 2303,
    "start_time": "2023-03-03T21:57:32.822Z"
   },
   {
    "duration": 1387,
    "start_time": "2023-03-03T21:57:35.127Z"
   },
   {
    "duration": 2,
    "start_time": "2023-03-03T21:57:36.516Z"
   },
   {
    "duration": 960,
    "start_time": "2023-03-03T21:57:36.526Z"
   },
   {
    "duration": 40,
    "start_time": "2023-03-03T21:57:37.492Z"
   },
   {
    "duration": 162,
    "start_time": "2023-03-03T21:57:37.534Z"
   },
   {
    "duration": 136,
    "start_time": "2023-03-03T21:57:37.705Z"
   },
   {
    "duration": 116,
    "start_time": "2023-03-03T21:57:37.843Z"
   },
   {
    "duration": 2702,
    "start_time": "2023-03-03T21:57:37.961Z"
   },
   {
    "duration": 952,
    "start_time": "2023-03-03T21:57:40.670Z"
   },
   {
    "duration": 54,
    "start_time": "2023-03-03T21:57:41.634Z"
   },
   {
    "duration": 651,
    "start_time": "2023-03-03T21:57:41.690Z"
   },
   {
    "duration": 645,
    "start_time": "2023-03-03T21:57:42.350Z"
   },
   {
    "duration": 5,
    "start_time": "2023-03-03T21:57:42.997Z"
   },
   {
    "duration": 482,
    "start_time": "2023-03-03T21:57:43.004Z"
   },
   {
    "duration": 78,
    "start_time": "2023-03-03T21:57:43.492Z"
   },
   {
    "duration": 133,
    "start_time": "2023-03-03T21:57:43.572Z"
   },
   {
    "duration": 57,
    "start_time": "2023-03-03T21:57:43.706Z"
   },
   {
    "duration": 21248,
    "start_time": "2023-03-03T21:57:43.764Z"
   },
   {
    "duration": 142,
    "start_time": "2023-03-03T21:58:05.014Z"
   },
   {
    "duration": 38,
    "start_time": "2023-03-03T21:58:05.163Z"
   },
   {
    "duration": 4016,
    "start_time": "2023-03-03T21:58:05.203Z"
   },
   {
    "duration": 413,
    "start_time": "2023-03-03T21:58:09.221Z"
   },
   {
    "duration": 26,
    "start_time": "2023-03-03T21:58:09.636Z"
   },
   {
    "duration": 394,
    "start_time": "2023-03-03T21:58:09.669Z"
   },
   {
    "duration": 24,
    "start_time": "2023-03-03T21:58:10.068Z"
   },
   {
    "duration": 306,
    "start_time": "2023-03-03T21:58:10.098Z"
   },
   {
    "duration": 10,
    "start_time": "2023-03-03T21:58:10.406Z"
   },
   {
    "duration": 26,
    "start_time": "2023-03-03T21:58:10.418Z"
   },
   {
    "duration": 58,
    "start_time": "2023-03-03T21:58:10.445Z"
   },
   {
    "duration": 71,
    "start_time": "2023-03-03T21:58:10.505Z"
   },
   {
    "duration": 22,
    "start_time": "2023-03-03T21:58:10.585Z"
   },
   {
    "duration": 7538,
    "start_time": "2023-03-03T21:58:10.609Z"
   },
   {
    "duration": 74,
    "start_time": "2023-03-03T21:58:18.149Z"
   },
   {
    "duration": 5,
    "start_time": "2023-03-03T21:58:18.224Z"
   },
   {
    "duration": 652,
    "start_time": "2023-03-03T21:58:18.231Z"
   },
   {
    "duration": 48,
    "start_time": "2023-03-03T21:58:18.885Z"
   },
   {
    "duration": 287,
    "start_time": "2023-03-03T21:58:18.935Z"
   },
   {
    "duration": 14,
    "start_time": "2023-03-03T21:58:19.224Z"
   },
   {
    "duration": 0,
    "start_time": "2023-03-03T21:58:19.240Z"
   },
   {
    "duration": 0,
    "start_time": "2023-03-03T21:58:19.241Z"
   },
   {
    "duration": 135,
    "start_time": "2023-03-03T22:00:04.804Z"
   },
   {
    "duration": 17,
    "start_time": "2023-03-03T22:00:48.028Z"
   },
   {
    "duration": 82,
    "start_time": "2023-03-03T22:03:13.921Z"
   },
   {
    "duration": 14,
    "start_time": "2023-03-03T22:03:22.108Z"
   },
   {
    "duration": 16,
    "start_time": "2023-03-03T22:03:25.008Z"
   },
   {
    "duration": 105,
    "start_time": "2023-03-03T22:03:29.315Z"
   },
   {
    "duration": 5,
    "start_time": "2023-03-03T22:03:43.216Z"
   },
   {
    "duration": 5,
    "start_time": "2023-03-03T22:03:47.940Z"
   },
   {
    "duration": 8,
    "start_time": "2023-03-03T22:03:54.690Z"
   },
   {
    "duration": 28,
    "start_time": "2023-03-03T22:03:59.406Z"
   },
   {
    "duration": 26,
    "start_time": "2023-03-03T22:04:06.068Z"
   },
   {
    "duration": 198,
    "start_time": "2023-03-03T22:04:09.533Z"
   },
   {
    "duration": 5,
    "start_time": "2023-03-03T22:04:21.041Z"
   },
   {
    "duration": 3164,
    "start_time": "2023-03-03T22:05:03.005Z"
   },
   {
    "duration": 3055,
    "start_time": "2023-03-03T22:05:06.173Z"
   },
   {
    "duration": 1763,
    "start_time": "2023-03-03T22:05:09.229Z"
   },
   {
    "duration": 8,
    "start_time": "2023-03-03T22:05:11.012Z"
   },
   {
    "duration": 1352,
    "start_time": "2023-03-03T22:05:11.028Z"
   },
   {
    "duration": 45,
    "start_time": "2023-03-03T22:05:12.384Z"
   },
   {
    "duration": 246,
    "start_time": "2023-03-03T22:05:12.432Z"
   },
   {
    "duration": 254,
    "start_time": "2023-03-03T22:05:12.681Z"
   },
   {
    "duration": 242,
    "start_time": "2023-03-03T22:05:12.937Z"
   },
   {
    "duration": 3288,
    "start_time": "2023-03-03T22:05:13.181Z"
   },
   {
    "duration": 1249,
    "start_time": "2023-03-03T22:05:16.471Z"
   },
   {
    "duration": 62,
    "start_time": "2023-03-03T22:05:17.730Z"
   },
   {
    "duration": 827,
    "start_time": "2023-03-03T22:05:17.801Z"
   },
   {
    "duration": 731,
    "start_time": "2023-03-03T22:05:18.635Z"
   },
   {
    "duration": 13,
    "start_time": "2023-03-03T22:05:19.375Z"
   },
   {
    "duration": 580,
    "start_time": "2023-03-03T22:05:19.391Z"
   },
   {
    "duration": 96,
    "start_time": "2023-03-03T22:05:19.976Z"
   },
   {
    "duration": 265,
    "start_time": "2023-03-03T22:05:20.080Z"
   },
   {
    "duration": 59,
    "start_time": "2023-03-03T22:05:20.353Z"
   },
   {
    "duration": 25539,
    "start_time": "2023-03-03T22:05:20.414Z"
   },
   {
    "duration": 189,
    "start_time": "2023-03-03T22:05:45.957Z"
   },
   {
    "duration": 51,
    "start_time": "2023-03-03T22:05:46.162Z"
   },
   {
    "duration": 5521,
    "start_time": "2023-03-03T22:05:46.219Z"
   },
   {
    "duration": 530,
    "start_time": "2023-03-03T22:05:51.750Z"
   },
   {
    "duration": 20,
    "start_time": "2023-03-03T22:05:52.282Z"
   },
   {
    "duration": 622,
    "start_time": "2023-03-03T22:05:52.306Z"
   },
   {
    "duration": 26,
    "start_time": "2023-03-03T22:05:52.936Z"
   },
   {
    "duration": 487,
    "start_time": "2023-03-03T22:05:52.969Z"
   },
   {
    "duration": 16,
    "start_time": "2023-03-03T22:05:53.462Z"
   },
   {
    "duration": 158,
    "start_time": "2023-03-03T22:05:53.484Z"
   },
   {
    "duration": 131,
    "start_time": "2023-03-03T22:05:53.645Z"
   },
   {
    "duration": 96,
    "start_time": "2023-03-03T22:05:53.783Z"
   },
   {
    "duration": 94,
    "start_time": "2023-03-03T22:05:53.885Z"
   },
   {
    "duration": 8275,
    "start_time": "2023-03-03T22:05:53.985Z"
   },
   {
    "duration": 82,
    "start_time": "2023-03-03T22:06:02.261Z"
   },
   {
    "duration": 112,
    "start_time": "2023-03-03T22:06:02.345Z"
   },
   {
    "duration": 898,
    "start_time": "2023-03-03T22:06:02.459Z"
   },
   {
    "duration": 318,
    "start_time": "2023-03-03T22:06:03.359Z"
   },
   {
    "duration": 16,
    "start_time": "2023-03-03T22:06:03.679Z"
   },
   {
    "duration": 0,
    "start_time": "2023-03-03T22:06:03.696Z"
   },
   {
    "duration": 0,
    "start_time": "2023-03-03T22:06:03.698Z"
   },
   {
    "duration": 80419,
    "start_time": "2023-03-03T22:07:16.125Z"
   },
   {
    "duration": 12,
    "start_time": "2023-03-03T22:09:26.301Z"
   },
   {
    "duration": 194,
    "start_time": "2023-03-03T22:09:35.120Z"
   },
   {
    "duration": 137,
    "start_time": "2023-03-03T22:09:48.631Z"
   },
   {
    "duration": 125,
    "start_time": "2023-03-03T22:09:56.518Z"
   },
   {
    "duration": 496,
    "start_time": "2023-03-03T22:10:01.370Z"
   },
   {
    "duration": 5,
    "start_time": "2023-03-03T22:10:05.225Z"
   },
   {
    "duration": 23,
    "start_time": "2023-03-03T22:10:31.481Z"
   },
   {
    "duration": 73682,
    "start_time": "2023-03-03T22:11:35.310Z"
   },
   {
    "duration": 27,
    "start_time": "2023-03-03T22:14:19.541Z"
   },
   {
    "duration": 11,
    "start_time": "2023-03-03T22:14:25.668Z"
   },
   {
    "duration": 18,
    "start_time": "2023-03-03T22:14:28.886Z"
   },
   {
    "duration": 26,
    "start_time": "2023-03-03T22:14:34.741Z"
   },
   {
    "duration": 11,
    "start_time": "2023-03-03T22:16:48.993Z"
   },
   {
    "duration": 5,
    "start_time": "2023-03-03T22:17:02.181Z"
   },
   {
    "duration": 21,
    "start_time": "2023-03-03T22:17:28.474Z"
   },
   {
    "duration": 8,
    "start_time": "2023-03-03T22:17:47.501Z"
   },
   {
    "duration": 3,
    "start_time": "2023-03-03T22:18:23.334Z"
   },
   {
    "duration": 69401,
    "start_time": "2023-03-03T22:22:49.774Z"
   },
   {
    "duration": 20,
    "start_time": "2023-03-03T22:29:57.872Z"
   },
   {
    "duration": 5,
    "start_time": "2023-03-03T22:30:25.577Z"
   },
   {
    "duration": 85391,
    "start_time": "2023-03-03T22:30:29.528Z"
   },
   {
    "duration": 8207,
    "start_time": "2023-03-03T22:33:41.259Z"
   },
   {
    "duration": 3,
    "start_time": "2023-03-03T22:33:59.011Z"
   },
   {
    "duration": 7,
    "start_time": "2023-03-03T22:34:10.405Z"
   },
   {
    "duration": 172,
    "start_time": "2023-03-03T22:34:31.274Z"
   },
   {
    "duration": 143,
    "start_time": "2023-03-03T22:34:46.899Z"
   },
   {
    "duration": 111,
    "start_time": "2023-03-03T22:35:33.800Z"
   },
   {
    "duration": 7019,
    "start_time": "2023-03-03T22:36:21.994Z"
   },
   {
    "duration": 3,
    "start_time": "2023-03-03T22:36:40.462Z"
   },
   {
    "duration": 128,
    "start_time": "2023-03-03T22:40:33.979Z"
   },
   {
    "duration": 125,
    "start_time": "2023-03-03T22:40:38.682Z"
   },
   {
    "duration": 128,
    "start_time": "2023-03-03T22:41:45.509Z"
   },
   {
    "duration": 10128,
    "start_time": "2023-03-03T22:51:43.482Z"
   },
   {
    "duration": 13,
    "start_time": "2023-03-03T22:57:12.538Z"
   },
   {
    "duration": 13,
    "start_time": "2023-03-03T22:57:15.483Z"
   },
   {
    "duration": 18,
    "start_time": "2023-03-03T22:57:18.971Z"
   },
   {
    "duration": 16,
    "start_time": "2023-03-03T22:57:47.369Z"
   },
   {
    "duration": 9,
    "start_time": "2023-03-03T22:57:49.401Z"
   },
   {
    "duration": 12,
    "start_time": "2023-03-03T22:57:52.235Z"
   },
   {
    "duration": 3,
    "start_time": "2023-03-03T22:58:04.633Z"
   },
   {
    "duration": 7,
    "start_time": "2023-03-03T22:58:17.471Z"
   },
   {
    "duration": 121,
    "start_time": "2023-03-03T23:01:26.791Z"
   },
   {
    "duration": 70,
    "start_time": "2023-03-03T23:02:48.048Z"
   },
   {
    "duration": 217,
    "start_time": "2023-03-03T23:03:33.097Z"
   },
   {
    "duration": 8,
    "start_time": "2023-03-03T23:10:41.817Z"
   },
   {
    "duration": 27085,
    "start_time": "2023-03-03T23:10:41.827Z"
   },
   {
    "duration": 3,
    "start_time": "2023-03-03T23:23:20.398Z"
   },
   {
    "duration": 4,
    "start_time": "2023-03-03T23:23:20.403Z"
   },
   {
    "duration": 1313,
    "start_time": "2023-03-03T23:23:20.408Z"
   },
   {
    "duration": 3,
    "start_time": "2023-03-03T23:23:21.723Z"
   },
   {
    "duration": 976,
    "start_time": "2023-03-03T23:23:21.727Z"
   },
   {
    "duration": 25,
    "start_time": "2023-03-03T23:23:22.706Z"
   },
   {
    "duration": 133,
    "start_time": "2023-03-03T23:23:22.733Z"
   },
   {
    "duration": 155,
    "start_time": "2023-03-03T23:23:22.868Z"
   },
   {
    "duration": 105,
    "start_time": "2023-03-03T23:23:23.025Z"
   },
   {
    "duration": 2474,
    "start_time": "2023-03-03T23:23:23.133Z"
   },
   {
    "duration": 914,
    "start_time": "2023-03-03T23:23:25.608Z"
   },
   {
    "duration": 53,
    "start_time": "2023-03-03T23:23:26.525Z"
   },
   {
    "duration": 594,
    "start_time": "2023-03-03T23:23:26.589Z"
   },
   {
    "duration": 537,
    "start_time": "2023-03-03T23:23:27.184Z"
   },
   {
    "duration": 4,
    "start_time": "2023-03-03T23:23:27.723Z"
   },
   {
    "duration": 418,
    "start_time": "2023-03-03T23:23:27.728Z"
   },
   {
    "duration": 76,
    "start_time": "2023-03-03T23:23:28.148Z"
   },
   {
    "duration": 129,
    "start_time": "2023-03-03T23:23:28.225Z"
   },
   {
    "duration": 59,
    "start_time": "2023-03-03T23:23:28.356Z"
   },
   {
    "duration": 19814,
    "start_time": "2023-03-03T23:23:28.417Z"
   },
   {
    "duration": 141,
    "start_time": "2023-03-03T23:23:48.232Z"
   },
   {
    "duration": 37,
    "start_time": "2023-03-03T23:23:48.384Z"
   },
   {
    "duration": 3725,
    "start_time": "2023-03-03T23:23:48.423Z"
   },
   {
    "duration": 447,
    "start_time": "2023-03-03T23:23:52.150Z"
   },
   {
    "duration": 12,
    "start_time": "2023-03-03T23:23:52.605Z"
   },
   {
    "duration": 369,
    "start_time": "2023-03-03T23:23:52.618Z"
   },
   {
    "duration": 21,
    "start_time": "2023-03-03T23:23:52.989Z"
   },
   {
    "duration": 287,
    "start_time": "2023-03-03T23:23:53.013Z"
   },
   {
    "duration": 13,
    "start_time": "2023-03-03T23:23:53.303Z"
   },
   {
    "duration": 21,
    "start_time": "2023-03-03T23:23:53.318Z"
   },
   {
    "duration": 73,
    "start_time": "2023-03-03T23:23:53.341Z"
   },
   {
    "duration": 83,
    "start_time": "2023-03-03T23:23:53.416Z"
   },
   {
    "duration": 9,
    "start_time": "2023-03-03T23:23:53.506Z"
   },
   {
    "duration": 7691,
    "start_time": "2023-03-03T23:23:53.517Z"
   },
   {
    "duration": 55,
    "start_time": "2023-03-03T23:24:01.209Z"
   },
   {
    "duration": 40,
    "start_time": "2023-03-03T23:24:01.269Z"
   },
   {
    "duration": 630,
    "start_time": "2023-03-03T23:24:01.311Z"
   },
   {
    "duration": 10060,
    "start_time": "2023-03-03T23:24:01.943Z"
   },
   {
    "duration": 8636,
    "start_time": "2023-03-03T23:24:12.007Z"
   },
   {
    "duration": 17,
    "start_time": "2023-03-03T23:24:20.645Z"
   },
   {
    "duration": 18,
    "start_time": "2023-03-03T23:24:20.677Z"
   },
   {
    "duration": 298,
    "start_time": "2023-03-03T23:24:20.697Z"
   },
   {
    "duration": 12,
    "start_time": "2023-03-03T23:24:20.997Z"
   },
   {
    "duration": 0,
    "start_time": "2023-03-03T23:24:21.011Z"
   },
   {
    "duration": 0,
    "start_time": "2023-03-03T23:24:21.013Z"
   },
   {
    "duration": 32624,
    "start_time": "2023-03-03T23:25:12.430Z"
   },
   {
    "duration": 12,
    "start_time": "2023-03-03T23:25:45.060Z"
   },
   {
    "duration": 298,
    "start_time": "2023-03-03T23:32:09.490Z"
   },
   {
    "duration": 3,
    "start_time": "2023-03-03T23:32:16.817Z"
   },
   {
    "duration": 11,
    "start_time": "2023-03-03T23:32:26.585Z"
   },
   {
    "duration": 254,
    "start_time": "2023-03-03T23:33:28.544Z"
   },
   {
    "duration": 10,
    "start_time": "2023-03-03T23:33:32.508Z"
   },
   {
    "duration": 11,
    "start_time": "2023-03-03T23:33:37.810Z"
   },
   {
    "duration": 3,
    "start_time": "2023-03-03T23:33:41.795Z"
   },
   {
    "duration": 284,
    "start_time": "2023-03-03T23:33:52.376Z"
   },
   {
    "duration": 4,
    "start_time": "2023-03-03T23:33:54.370Z"
   },
   {
    "duration": 4,
    "start_time": "2023-03-03T23:34:40.478Z"
   },
   {
    "duration": 2594,
    "start_time": "2023-03-03T23:34:41.702Z"
   },
   {
    "duration": 7,
    "start_time": "2023-03-03T23:34:44.298Z"
   },
   {
    "duration": 295,
    "start_time": "2023-03-03T23:35:53.901Z"
   },
   {
    "duration": 3,
    "start_time": "2023-03-03T23:35:55.632Z"
   },
   {
    "duration": 3,
    "start_time": "2023-03-03T23:35:59.212Z"
   },
   {
    "duration": 10,
    "start_time": "2023-03-03T23:36:03.998Z"
   },
   {
    "duration": 10,
    "start_time": "2023-03-03T23:36:06.299Z"
   },
   {
    "duration": 5,
    "start_time": "2023-03-03T23:36:07.776Z"
   },
   {
    "duration": 13777,
    "start_time": "2023-03-03T23:36:18.211Z"
   },
   {
    "duration": 8,
    "start_time": "2023-03-03T23:36:32.008Z"
   },
   {
    "duration": 289,
    "start_time": "2023-03-03T23:36:39.983Z"
   },
   {
    "duration": 3,
    "start_time": "2023-03-03T23:36:41.918Z"
   },
   {
    "duration": 300,
    "start_time": "2023-03-03T23:36:58.364Z"
   },
   {
    "duration": 5,
    "start_time": "2023-03-03T23:36:59.680Z"
   },
   {
    "duration": 356,
    "start_time": "2023-03-03T23:37:05.639Z"
   },
   {
    "duration": 4,
    "start_time": "2023-03-03T23:37:08.400Z"
   },
   {
    "duration": 4,
    "start_time": "2023-03-03T23:37:17.789Z"
   },
   {
    "duration": 15,
    "start_time": "2023-03-03T23:37:40.072Z"
   },
   {
    "duration": 7,
    "start_time": "2023-03-03T23:38:52.873Z"
   },
   {
    "duration": 6,
    "start_time": "2023-03-03T23:39:27.368Z"
   },
   {
    "duration": 8,
    "start_time": "2023-03-03T23:39:33.286Z"
   },
   {
    "duration": 14,
    "start_time": "2023-03-03T23:46:29.222Z"
   },
   {
    "duration": 90,
    "start_time": "2023-03-03T23:46:38.934Z"
   },
   {
    "duration": 62,
    "start_time": "2023-03-03T23:46:44.314Z"
   },
   {
    "duration": 2238,
    "start_time": "2023-03-03T23:47:10.311Z"
   },
   {
    "duration": 2452,
    "start_time": "2023-03-03T23:47:20.744Z"
   },
   {
    "duration": 2471,
    "start_time": "2023-03-03T23:47:33.673Z"
   },
   {
    "duration": 4,
    "start_time": "2023-03-03T23:47:42.623Z"
   },
   {
    "duration": 4,
    "start_time": "2023-03-03T23:47:57.623Z"
   },
   {
    "duration": 9,
    "start_time": "2023-03-03T23:48:07.991Z"
   },
   {
    "duration": 20,
    "start_time": "2023-03-03T23:48:31.504Z"
   },
   {
    "duration": 9,
    "start_time": "2023-03-03T23:48:48.498Z"
   },
   {
    "duration": 63,
    "start_time": "2023-03-03T23:49:03.005Z"
   },
   {
    "duration": 38,
    "start_time": "2023-03-03T23:49:58.142Z"
   },
   {
    "duration": 9,
    "start_time": "2023-03-03T23:50:25.922Z"
   },
   {
    "duration": 21,
    "start_time": "2023-03-03T23:50:45.971Z"
   },
   {
    "duration": 4,
    "start_time": "2023-03-03T23:50:56.840Z"
   },
   {
    "duration": 41,
    "start_time": "2023-03-03T23:52:34.819Z"
   },
   {
    "duration": 8,
    "start_time": "2023-03-03T23:53:35.771Z"
   },
   {
    "duration": 55,
    "start_time": "2023-03-03T23:53:35.781Z"
   },
   {
    "duration": 1368,
    "start_time": "2023-03-03T23:53:35.838Z"
   },
   {
    "duration": 5,
    "start_time": "2023-03-03T23:53:37.207Z"
   },
   {
    "duration": 986,
    "start_time": "2023-03-03T23:53:37.214Z"
   },
   {
    "duration": 28,
    "start_time": "2023-03-03T23:53:38.204Z"
   },
   {
    "duration": 150,
    "start_time": "2023-03-03T23:53:38.234Z"
   },
   {
    "duration": 157,
    "start_time": "2023-03-03T23:53:38.385Z"
   },
   {
    "duration": 124,
    "start_time": "2023-03-03T23:53:38.544Z"
   },
   {
    "duration": 2549,
    "start_time": "2023-03-03T23:53:38.678Z"
   },
   {
    "duration": 925,
    "start_time": "2023-03-03T23:53:41.229Z"
   },
   {
    "duration": 56,
    "start_time": "2023-03-03T23:53:42.156Z"
   },
   {
    "duration": 539,
    "start_time": "2023-03-03T23:53:42.215Z"
   },
   {
    "duration": 593,
    "start_time": "2023-03-03T23:53:42.760Z"
   },
   {
    "duration": 7,
    "start_time": "2023-03-03T23:53:43.355Z"
   },
   {
    "duration": 499,
    "start_time": "2023-03-03T23:53:43.364Z"
   },
   {
    "duration": 75,
    "start_time": "2023-03-03T23:53:43.869Z"
   },
   {
    "duration": 151,
    "start_time": "2023-03-03T23:53:43.946Z"
   },
   {
    "duration": 61,
    "start_time": "2023-03-03T23:53:44.099Z"
   },
   {
    "duration": 21506,
    "start_time": "2023-03-03T23:53:44.162Z"
   },
   {
    "duration": 156,
    "start_time": "2023-03-03T23:54:05.670Z"
   },
   {
    "duration": 43,
    "start_time": "2023-03-03T23:54:05.832Z"
   },
   {
    "duration": 4026,
    "start_time": "2023-03-03T23:54:05.877Z"
   },
   {
    "duration": 425,
    "start_time": "2023-03-03T23:54:09.904Z"
   },
   {
    "duration": 28,
    "start_time": "2023-03-03T23:54:10.330Z"
   },
   {
    "duration": 384,
    "start_time": "2023-03-03T23:54:10.359Z"
   },
   {
    "duration": 30,
    "start_time": "2023-03-03T23:54:10.749Z"
   },
   {
    "duration": 321,
    "start_time": "2023-03-03T23:54:10.781Z"
   },
   {
    "duration": 19,
    "start_time": "2023-03-03T23:54:11.105Z"
   },
   {
    "duration": 17,
    "start_time": "2023-03-03T23:54:11.126Z"
   },
   {
    "duration": 68,
    "start_time": "2023-03-03T23:54:11.145Z"
   },
   {
    "duration": 58,
    "start_time": "2023-03-03T23:54:11.217Z"
   },
   {
    "duration": 30,
    "start_time": "2023-03-03T23:54:11.287Z"
   },
   {
    "duration": 7857,
    "start_time": "2023-03-03T23:54:11.319Z"
   },
   {
    "duration": 66,
    "start_time": "2023-03-03T23:54:19.177Z"
   },
   {
    "duration": 19,
    "start_time": "2023-03-03T23:54:19.245Z"
   },
   {
    "duration": 718,
    "start_time": "2023-03-03T23:54:19.266Z"
   },
   {
    "duration": 10009,
    "start_time": "2023-03-03T23:54:19.994Z"
   },
   {
    "duration": 6220,
    "start_time": "2023-03-03T23:54:30.007Z"
   },
   {
    "duration": 2,
    "start_time": "2023-03-03T23:54:36.229Z"
   },
   {
    "duration": 14,
    "start_time": "2023-03-03T23:54:36.235Z"
   },
   {
    "duration": 30739,
    "start_time": "2023-03-03T23:54:36.252Z"
   },
   {
    "duration": 20,
    "start_time": "2023-03-03T23:55:07.002Z"
   },
   {
    "duration": 267,
    "start_time": "2023-03-03T23:55:07.023Z"
   },
   {
    "duration": 61,
    "start_time": "2023-03-03T23:55:07.299Z"
   },
   {
    "duration": 64,
    "start_time": "2023-03-03T23:55:07.368Z"
   },
   {
    "duration": 262,
    "start_time": "2023-03-03T23:55:07.434Z"
   },
   {
    "duration": 53,
    "start_time": "2023-03-03T23:55:07.698Z"
   },
   {
    "duration": 13,
    "start_time": "2023-03-03T23:55:07.753Z"
   },
   {
    "duration": 202,
    "start_time": "2023-03-03T23:57:45.518Z"
   },
   {
    "duration": 177,
    "start_time": "2023-03-03T23:58:20.713Z"
   },
   {
    "duration": 38,
    "start_time": "2023-03-03T23:58:39.530Z"
   },
   {
    "duration": 18,
    "start_time": "2023-03-03T23:59:49.111Z"
   },
   {
    "duration": 214,
    "start_time": "2023-03-04T00:00:15.168Z"
   },
   {
    "duration": 87,
    "start_time": "2023-03-04T00:00:30.132Z"
   },
   {
    "duration": 626,
    "start_time": "2023-03-04T00:05:46.237Z"
   },
   {
    "duration": 44,
    "start_time": "2023-03-04T00:05:58.346Z"
   },
   {
    "duration": 644,
    "start_time": "2023-03-04T00:08:37.644Z"
   },
   {
    "duration": 149,
    "start_time": "2023-03-04T00:08:45.815Z"
   },
   {
    "duration": 629,
    "start_time": "2023-03-04T00:08:56.240Z"
   },
   {
    "duration": 22,
    "start_time": "2023-03-04T00:08:56.908Z"
   },
   {
    "duration": 8,
    "start_time": "2023-03-04T00:09:18.285Z"
   },
   {
    "duration": 14,
    "start_time": "2023-03-04T00:09:18.299Z"
   },
   {
    "duration": 1362,
    "start_time": "2023-03-04T00:09:18.314Z"
   },
   {
    "duration": 11,
    "start_time": "2023-03-04T00:09:19.684Z"
   },
   {
    "duration": 980,
    "start_time": "2023-03-04T00:09:19.704Z"
   },
   {
    "duration": 29,
    "start_time": "2023-03-04T00:09:20.699Z"
   },
   {
    "duration": 155,
    "start_time": "2023-03-04T00:09:20.729Z"
   },
   {
    "duration": 157,
    "start_time": "2023-03-04T00:09:20.892Z"
   },
   {
    "duration": 117,
    "start_time": "2023-03-04T00:09:21.054Z"
   },
   {
    "duration": 2521,
    "start_time": "2023-03-04T00:09:21.173Z"
   },
   {
    "duration": 906,
    "start_time": "2023-03-04T00:09:23.696Z"
   },
   {
    "duration": 53,
    "start_time": "2023-03-04T00:09:24.605Z"
   },
   {
    "duration": 529,
    "start_time": "2023-03-04T00:09:24.659Z"
   },
   {
    "duration": 597,
    "start_time": "2023-03-04T00:09:25.190Z"
   },
   {
    "duration": 5,
    "start_time": "2023-03-04T00:09:25.791Z"
   },
   {
    "duration": 437,
    "start_time": "2023-03-04T00:09:25.797Z"
   },
   {
    "duration": 71,
    "start_time": "2023-03-04T00:09:26.236Z"
   },
   {
    "duration": 137,
    "start_time": "2023-03-04T00:09:26.309Z"
   },
   {
    "duration": 64,
    "start_time": "2023-03-04T00:09:26.447Z"
   },
   {
    "duration": 19846,
    "start_time": "2023-03-04T00:09:26.514Z"
   },
   {
    "duration": 125,
    "start_time": "2023-03-04T00:09:46.369Z"
   },
   {
    "duration": 38,
    "start_time": "2023-03-04T00:09:46.496Z"
   },
   {
    "duration": 3772,
    "start_time": "2023-03-04T00:09:46.535Z"
   },
   {
    "duration": 449,
    "start_time": "2023-03-04T00:09:50.310Z"
   },
   {
    "duration": 24,
    "start_time": "2023-03-04T00:09:50.761Z"
   },
   {
    "duration": 355,
    "start_time": "2023-03-04T00:09:50.787Z"
   },
   {
    "duration": 34,
    "start_time": "2023-03-04T00:09:51.154Z"
   },
   {
    "duration": 289,
    "start_time": "2023-03-04T00:09:51.196Z"
   },
   {
    "duration": 19,
    "start_time": "2023-03-04T00:09:51.488Z"
   },
   {
    "duration": 23,
    "start_time": "2023-03-04T00:09:51.508Z"
   },
   {
    "duration": 107,
    "start_time": "2023-03-04T00:09:51.533Z"
   },
   {
    "duration": 52,
    "start_time": "2023-03-04T00:09:51.641Z"
   },
   {
    "duration": 30,
    "start_time": "2023-03-04T00:09:51.695Z"
   },
   {
    "duration": 7641,
    "start_time": "2023-03-04T00:09:51.726Z"
   },
   {
    "duration": 57,
    "start_time": "2023-03-04T00:09:59.375Z"
   },
   {
    "duration": 4,
    "start_time": "2023-03-04T00:09:59.434Z"
   },
   {
    "duration": 753,
    "start_time": "2023-03-04T00:09:59.439Z"
   },
   {
    "duration": 6609,
    "start_time": "2023-03-04T00:10:00.199Z"
   },
   {
    "duration": 7695,
    "start_time": "2023-03-04T00:10:06.811Z"
   },
   {
    "duration": 3,
    "start_time": "2023-03-04T00:10:14.508Z"
   },
   {
    "duration": 10,
    "start_time": "2023-03-04T00:10:14.513Z"
   },
   {
    "duration": 29536,
    "start_time": "2023-03-04T00:10:14.526Z"
   },
   {
    "duration": 7,
    "start_time": "2023-03-04T00:10:44.069Z"
   },
   {
    "duration": 201,
    "start_time": "2023-03-04T00:10:44.081Z"
   },
   {
    "duration": 68,
    "start_time": "2023-03-04T00:10:44.291Z"
   },
   {
    "duration": 45,
    "start_time": "2023-03-04T00:10:44.363Z"
   },
   {
    "duration": 18,
    "start_time": "2023-03-04T00:10:44.409Z"
   },
   {
    "duration": 155,
    "start_time": "2023-03-04T00:10:44.429Z"
   },
   {
    "duration": 0,
    "start_time": "2023-03-04T00:10:44.597Z"
   },
   {
    "duration": 0,
    "start_time": "2023-03-04T00:10:44.598Z"
   },
   {
    "duration": 10663,
    "start_time": "2023-03-04T00:12:04.521Z"
   },
   {
    "duration": 129,
    "start_time": "2023-03-04T00:13:52.876Z"
   },
   {
    "duration": 13,
    "start_time": "2023-03-04T00:17:53.969Z"
   },
   {
    "duration": 68,
    "start_time": "2023-03-04T00:18:37.443Z"
   },
   {
    "duration": 49861,
    "start_time": "2023-03-04T00:18:42.027Z"
   },
   {
    "duration": 251,
    "start_time": "2023-03-04T00:21:02.933Z"
   },
   {
    "duration": 14337,
    "start_time": "2023-03-04T00:28:06.554Z"
   },
   {
    "duration": 5,
    "start_time": "2023-03-04T00:28:35.695Z"
   },
   {
    "duration": 3,
    "start_time": "2023-03-04T07:55:50.755Z"
   },
   {
    "duration": 5,
    "start_time": "2023-03-04T07:55:50.760Z"
   },
   {
    "duration": 412,
    "start_time": "2023-03-04T07:55:50.767Z"
   },
   {
    "duration": 0,
    "start_time": "2023-03-04T07:55:51.182Z"
   },
   {
    "duration": 0,
    "start_time": "2023-03-04T07:55:51.183Z"
   },
   {
    "duration": 0,
    "start_time": "2023-03-04T07:55:51.184Z"
   },
   {
    "duration": 0,
    "start_time": "2023-03-04T07:55:51.185Z"
   },
   {
    "duration": 0,
    "start_time": "2023-03-04T07:55:51.186Z"
   },
   {
    "duration": 0,
    "start_time": "2023-03-04T07:55:51.187Z"
   },
   {
    "duration": 0,
    "start_time": "2023-03-04T07:55:51.188Z"
   },
   {
    "duration": 0,
    "start_time": "2023-03-04T07:55:51.189Z"
   },
   {
    "duration": 0,
    "start_time": "2023-03-04T07:55:51.190Z"
   },
   {
    "duration": 0,
    "start_time": "2023-03-04T07:55:51.191Z"
   },
   {
    "duration": 0,
    "start_time": "2023-03-04T07:55:51.191Z"
   },
   {
    "duration": 0,
    "start_time": "2023-03-04T07:55:51.192Z"
   },
   {
    "duration": 0,
    "start_time": "2023-03-04T07:55:51.193Z"
   },
   {
    "duration": 0,
    "start_time": "2023-03-04T07:55:51.195Z"
   },
   {
    "duration": 0,
    "start_time": "2023-03-04T07:55:51.196Z"
   },
   {
    "duration": 0,
    "start_time": "2023-03-04T07:55:51.196Z"
   },
   {
    "duration": 0,
    "start_time": "2023-03-04T07:55:51.197Z"
   },
   {
    "duration": 0,
    "start_time": "2023-03-04T07:55:51.198Z"
   },
   {
    "duration": 0,
    "start_time": "2023-03-04T07:55:51.199Z"
   },
   {
    "duration": 0,
    "start_time": "2023-03-04T07:55:51.200Z"
   },
   {
    "duration": 0,
    "start_time": "2023-03-04T07:55:51.201Z"
   },
   {
    "duration": 0,
    "start_time": "2023-03-04T07:55:51.202Z"
   },
   {
    "duration": 0,
    "start_time": "2023-03-04T07:55:51.203Z"
   },
   {
    "duration": 0,
    "start_time": "2023-03-04T07:55:51.204Z"
   },
   {
    "duration": 0,
    "start_time": "2023-03-04T07:55:51.241Z"
   },
   {
    "duration": 0,
    "start_time": "2023-03-04T07:55:51.243Z"
   },
   {
    "duration": 0,
    "start_time": "2023-03-04T07:55:51.245Z"
   },
   {
    "duration": 0,
    "start_time": "2023-03-04T07:55:51.246Z"
   },
   {
    "duration": 0,
    "start_time": "2023-03-04T07:55:51.247Z"
   },
   {
    "duration": 0,
    "start_time": "2023-03-04T07:55:51.255Z"
   },
   {
    "duration": 0,
    "start_time": "2023-03-04T07:55:51.256Z"
   },
   {
    "duration": 0,
    "start_time": "2023-03-04T07:55:51.257Z"
   },
   {
    "duration": 0,
    "start_time": "2023-03-04T07:55:51.259Z"
   },
   {
    "duration": 0,
    "start_time": "2023-03-04T07:55:51.260Z"
   },
   {
    "duration": 0,
    "start_time": "2023-03-04T07:55:51.261Z"
   },
   {
    "duration": 0,
    "start_time": "2023-03-04T07:55:51.263Z"
   },
   {
    "duration": 0,
    "start_time": "2023-03-04T07:55:51.264Z"
   },
   {
    "duration": 0,
    "start_time": "2023-03-04T07:55:51.265Z"
   },
   {
    "duration": 1,
    "start_time": "2023-03-04T07:55:51.266Z"
   },
   {
    "duration": 0,
    "start_time": "2023-03-04T07:55:51.268Z"
   },
   {
    "duration": 0,
    "start_time": "2023-03-04T07:55:51.269Z"
   },
   {
    "duration": 0,
    "start_time": "2023-03-04T07:55:51.270Z"
   },
   {
    "duration": 0,
    "start_time": "2023-03-04T07:55:51.271Z"
   },
   {
    "duration": 0,
    "start_time": "2023-03-04T07:55:51.272Z"
   },
   {
    "duration": 0,
    "start_time": "2023-03-04T07:55:51.273Z"
   },
   {
    "duration": 0,
    "start_time": "2023-03-04T07:55:51.274Z"
   },
   {
    "duration": 6413,
    "start_time": "2023-03-04T07:56:34.366Z"
   },
   {
    "duration": 3953,
    "start_time": "2023-03-04T07:56:40.782Z"
   },
   {
    "duration": 1429,
    "start_time": "2023-03-04T07:56:44.737Z"
   },
   {
    "duration": 2,
    "start_time": "2023-03-04T07:56:46.168Z"
   },
   {
    "duration": 2898,
    "start_time": "2023-03-04T07:56:46.171Z"
   },
   {
    "duration": 22,
    "start_time": "2023-03-04T07:56:49.071Z"
   },
   {
    "duration": 97,
    "start_time": "2023-03-04T07:56:49.094Z"
   },
   {
    "duration": 105,
    "start_time": "2023-03-04T07:56:49.193Z"
   },
   {
    "duration": 90,
    "start_time": "2023-03-04T07:56:49.299Z"
   },
   {
    "duration": 1681,
    "start_time": "2023-03-04T07:56:49.391Z"
   },
   {
    "duration": 829,
    "start_time": "2023-03-04T07:56:51.074Z"
   },
   {
    "duration": 47,
    "start_time": "2023-03-04T07:56:51.905Z"
   },
   {
    "duration": 386,
    "start_time": "2023-03-04T07:56:51.954Z"
   },
   {
    "duration": 620,
    "start_time": "2023-03-04T07:56:52.341Z"
   },
   {
    "duration": 4,
    "start_time": "2023-03-04T07:56:52.963Z"
   },
   {
    "duration": 243,
    "start_time": "2023-03-04T07:56:52.968Z"
   },
   {
    "duration": 59,
    "start_time": "2023-03-04T07:56:53.213Z"
   },
   {
    "duration": 93,
    "start_time": "2023-03-04T07:56:53.274Z"
   },
   {
    "duration": 39,
    "start_time": "2023-03-04T07:56:53.369Z"
   },
   {
    "duration": 15618,
    "start_time": "2023-03-04T07:56:53.409Z"
   },
   {
    "duration": 99,
    "start_time": "2023-03-04T07:57:09.028Z"
   },
   {
    "duration": 25,
    "start_time": "2023-03-04T07:57:09.129Z"
   },
   {
    "duration": 2981,
    "start_time": "2023-03-04T07:57:09.156Z"
   },
   {
    "duration": 454,
    "start_time": "2023-03-04T07:57:12.140Z"
   },
   {
    "duration": 11,
    "start_time": "2023-03-04T07:57:12.596Z"
   },
   {
    "duration": 281,
    "start_time": "2023-03-04T07:57:12.609Z"
   },
   {
    "duration": 14,
    "start_time": "2023-03-04T07:57:12.891Z"
   },
   {
    "duration": 217,
    "start_time": "2023-03-04T07:57:12.908Z"
   },
   {
    "duration": 14,
    "start_time": "2023-03-04T07:57:13.126Z"
   },
   {
    "duration": 13,
    "start_time": "2023-03-04T07:57:13.142Z"
   },
   {
    "duration": 43,
    "start_time": "2023-03-04T07:57:13.156Z"
   },
   {
    "duration": 59,
    "start_time": "2023-03-04T07:57:13.200Z"
   },
   {
    "duration": 7,
    "start_time": "2023-03-04T07:57:13.260Z"
   },
   {
    "duration": 5370,
    "start_time": "2023-03-04T07:57:13.269Z"
   },
   {
    "duration": 46,
    "start_time": "2023-03-04T07:57:18.640Z"
   },
   {
    "duration": 6,
    "start_time": "2023-03-04T07:57:18.688Z"
   },
   {
    "duration": 558,
    "start_time": "2023-03-04T07:57:18.695Z"
   },
   {
    "duration": 2385,
    "start_time": "2023-03-04T07:57:19.255Z"
   },
   {
    "duration": 2452,
    "start_time": "2023-03-04T07:57:21.642Z"
   },
   {
    "duration": 2,
    "start_time": "2023-03-04T07:57:24.096Z"
   },
   {
    "duration": 9,
    "start_time": "2023-03-04T07:57:24.099Z"
   },
   {
    "duration": 34743,
    "start_time": "2023-03-04T07:57:24.110Z"
   },
   {
    "duration": 4,
    "start_time": "2023-03-04T07:57:58.854Z"
   },
   {
    "duration": 287,
    "start_time": "2023-03-04T07:57:58.860Z"
   },
   {
    "duration": 3,
    "start_time": "2023-03-04T07:57:59.149Z"
   },
   {
    "duration": 11,
    "start_time": "2023-03-04T07:57:59.154Z"
   },
   {
    "duration": 194,
    "start_time": "2023-03-04T07:57:59.167Z"
   },
   {
    "duration": 0,
    "start_time": "2023-03-04T07:57:59.362Z"
   },
   {
    "duration": 0,
    "start_time": "2023-03-04T07:57:59.363Z"
   },
   {
    "duration": 5,
    "start_time": "2023-03-04T07:58:15.695Z"
   },
   {
    "duration": 3,
    "start_time": "2023-03-04T07:58:25.834Z"
   },
   {
    "duration": 6084,
    "start_time": "2023-03-04T08:02:45.959Z"
   },
   {
    "duration": 3,
    "start_time": "2023-03-04T08:02:55.828Z"
   },
   {
    "duration": 275839,
    "start_time": "2023-03-04T08:05:23.014Z"
   },
   {
    "duration": 4,
    "start_time": "2023-03-04T08:34:29.497Z"
   },
   {
    "duration": 69,
    "start_time": "2023-03-04T09:08:04.791Z"
   },
   {
    "duration": 64,
    "start_time": "2023-03-04T09:08:15.994Z"
   },
   {
    "duration": 2016,
    "start_time": "2023-03-04T09:09:23.784Z"
   },
   {
    "duration": 2076,
    "start_time": "2023-03-04T09:09:25.802Z"
   },
   {
    "duration": 1178,
    "start_time": "2023-03-04T09:09:27.880Z"
   },
   {
    "duration": 3,
    "start_time": "2023-03-04T09:09:29.065Z"
   },
   {
    "duration": 783,
    "start_time": "2023-03-04T09:09:29.069Z"
   },
   {
    "duration": 31,
    "start_time": "2023-03-04T09:09:29.859Z"
   },
   {
    "duration": 117,
    "start_time": "2023-03-04T09:09:29.892Z"
   },
   {
    "duration": 116,
    "start_time": "2023-03-04T09:09:30.011Z"
   },
   {
    "duration": 98,
    "start_time": "2023-03-04T09:09:30.129Z"
   },
   {
    "duration": 2094,
    "start_time": "2023-03-04T09:09:30.230Z"
   },
   {
    "duration": 976,
    "start_time": "2023-03-04T09:09:32.326Z"
   },
   {
    "duration": 45,
    "start_time": "2023-03-04T09:09:33.304Z"
   },
   {
    "duration": 444,
    "start_time": "2023-03-04T09:09:33.354Z"
   },
   {
    "duration": 491,
    "start_time": "2023-03-04T09:09:33.801Z"
   },
   {
    "duration": 4,
    "start_time": "2023-03-04T09:09:34.294Z"
   },
   {
    "duration": 298,
    "start_time": "2023-03-04T09:09:34.300Z"
   },
   {
    "duration": 63,
    "start_time": "2023-03-04T09:09:34.600Z"
   },
   {
    "duration": 90,
    "start_time": "2023-03-04T09:09:34.669Z"
   },
   {
    "duration": 44,
    "start_time": "2023-03-04T09:09:34.763Z"
   },
   {
    "duration": 17297,
    "start_time": "2023-03-04T09:09:34.809Z"
   },
   {
    "duration": 106,
    "start_time": "2023-03-04T09:09:52.108Z"
   },
   {
    "duration": 35,
    "start_time": "2023-03-04T09:09:52.216Z"
   },
   {
    "duration": 3307,
    "start_time": "2023-03-04T09:09:52.258Z"
   },
   {
    "duration": 393,
    "start_time": "2023-03-04T09:09:55.567Z"
   },
   {
    "duration": 13,
    "start_time": "2023-03-04T09:09:55.961Z"
   },
   {
    "duration": 285,
    "start_time": "2023-03-04T09:09:55.977Z"
   },
   {
    "duration": 15,
    "start_time": "2023-03-04T09:09:56.264Z"
   },
   {
    "duration": 282,
    "start_time": "2023-03-04T09:09:56.284Z"
   },
   {
    "duration": 22,
    "start_time": "2023-03-04T09:09:56.568Z"
   },
   {
    "duration": 21,
    "start_time": "2023-03-04T09:09:56.593Z"
   },
   {
    "duration": 59,
    "start_time": "2023-03-04T09:09:56.616Z"
   },
   {
    "duration": 40,
    "start_time": "2023-03-04T09:09:56.677Z"
   },
   {
    "duration": 6,
    "start_time": "2023-03-04T09:09:56.719Z"
   },
   {
    "duration": 6216,
    "start_time": "2023-03-04T09:09:56.742Z"
   },
   {
    "duration": 46,
    "start_time": "2023-03-04T09:10:02.960Z"
   },
   {
    "duration": 5,
    "start_time": "2023-03-04T09:10:03.008Z"
   },
   {
    "duration": 642,
    "start_time": "2023-03-04T09:10:03.014Z"
   },
   {
    "duration": 12811,
    "start_time": "2023-03-04T09:10:03.658Z"
   },
   {
    "duration": 11626,
    "start_time": "2023-03-04T09:10:16.472Z"
   },
   {
    "duration": 3,
    "start_time": "2023-03-04T09:10:28.100Z"
   },
   {
    "duration": 16,
    "start_time": "2023-03-04T09:10:28.104Z"
   },
   {
    "duration": 48625,
    "start_time": "2023-03-04T09:10:28.122Z"
   },
   {
    "duration": 5,
    "start_time": "2023-03-04T09:11:16.748Z"
   },
   {
    "duration": 409,
    "start_time": "2023-03-04T09:11:16.755Z"
   },
   {
    "duration": 91,
    "start_time": "2023-03-04T09:11:17.166Z"
   },
   {
    "duration": 9,
    "start_time": "2023-03-04T09:11:17.263Z"
   },
   {
    "duration": 330,
    "start_time": "2023-03-04T09:11:17.274Z"
   },
   {
    "duration": 0,
    "start_time": "2023-03-04T09:11:17.605Z"
   },
   {
    "duration": 0,
    "start_time": "2023-03-04T09:11:17.607Z"
   },
   {
    "duration": 60055,
    "start_time": "2023-03-04T09:12:09.609Z"
   },
   {
    "duration": 18070,
    "start_time": "2023-03-04T09:13:46.177Z"
   },
   {
    "duration": 4,
    "start_time": "2023-03-04T09:14:26.164Z"
   },
   {
    "duration": 19,
    "start_time": "2023-03-04T09:15:27.250Z"
   },
   {
    "duration": 8500,
    "start_time": "2023-03-04T09:15:42.124Z"
   },
   {
    "duration": 112,
    "start_time": "2023-03-04T09:15:58.598Z"
   },
   {
    "duration": 484,
    "start_time": "2023-03-04T09:16:23.772Z"
   },
   {
    "duration": 23,
    "start_time": "2023-03-04T09:20:23.759Z"
   },
   {
    "duration": 24,
    "start_time": "2023-03-04T09:20:33.740Z"
   },
   {
    "duration": 37934,
    "start_time": "2023-03-04T09:20:47.907Z"
   },
   {
    "duration": 4,
    "start_time": "2023-03-04T09:21:25.843Z"
   },
   {
    "duration": 34339,
    "start_time": "2023-03-04T09:22:04.712Z"
   },
   {
    "duration": 37080,
    "start_time": "2023-03-04T09:26:47.400Z"
   },
   {
    "duration": 5,
    "start_time": "2023-03-04T09:27:41.088Z"
   },
   {
    "duration": 4,
    "start_time": "2023-03-04T09:28:27.778Z"
   },
   {
    "duration": 4,
    "start_time": "2023-03-04T09:28:36.311Z"
   },
   {
    "duration": 4,
    "start_time": "2023-03-04T09:29:25.353Z"
   },
   {
    "duration": 35096,
    "start_time": "2023-03-04T09:29:25.358Z"
   },
   {
    "duration": 4,
    "start_time": "2023-03-04T09:33:26.563Z"
   },
   {
    "duration": 18748,
    "start_time": "2023-03-04T09:34:38.802Z"
   },
   {
    "duration": 5,
    "start_time": "2023-03-04T09:35:00.736Z"
   },
   {
    "duration": 95,
    "start_time": "2023-03-04T09:35:34.617Z"
   },
   {
    "duration": 8,
    "start_time": "2023-03-04T09:36:02.781Z"
   },
   {
    "duration": 66386,
    "start_time": "2023-03-04T09:36:26.880Z"
   },
   {
    "duration": 39677,
    "start_time": "2023-03-04T09:44:01.975Z"
   },
   {
    "duration": 4,
    "start_time": "2023-03-04T09:45:12.710Z"
   },
   {
    "duration": 4,
    "start_time": "2023-03-04T09:45:47.223Z"
   },
   {
    "duration": 8,
    "start_time": "2023-03-04T09:48:17.531Z"
   },
   {
    "duration": 3,
    "start_time": "2023-03-04T09:48:22.433Z"
   },
   {
    "duration": 1807,
    "start_time": "2023-03-04T09:48:55.300Z"
   },
   {
    "duration": 1756,
    "start_time": "2023-03-04T09:48:57.109Z"
   },
   {
    "duration": 1116,
    "start_time": "2023-03-04T09:48:58.868Z"
   },
   {
    "duration": 3,
    "start_time": "2023-03-04T09:48:59.986Z"
   },
   {
    "duration": 720,
    "start_time": "2023-03-04T09:48:59.991Z"
   },
   {
    "duration": 33,
    "start_time": "2023-03-04T09:49:00.712Z"
   },
   {
    "duration": 119,
    "start_time": "2023-03-04T09:49:00.747Z"
   },
   {
    "duration": 111,
    "start_time": "2023-03-04T09:49:00.868Z"
   },
   {
    "duration": 115,
    "start_time": "2023-03-04T09:49:00.981Z"
   },
   {
    "duration": 1822,
    "start_time": "2023-03-04T09:49:01.099Z"
   },
   {
    "duration": 828,
    "start_time": "2023-03-04T09:49:02.923Z"
   },
   {
    "duration": 33,
    "start_time": "2023-03-04T09:49:03.752Z"
   },
   {
    "duration": 402,
    "start_time": "2023-03-04T09:49:03.787Z"
   },
   {
    "duration": 423,
    "start_time": "2023-03-04T09:49:04.190Z"
   },
   {
    "duration": 4,
    "start_time": "2023-03-04T09:49:04.615Z"
   },
   {
    "duration": 242,
    "start_time": "2023-03-04T09:49:04.620Z"
   },
   {
    "duration": 47,
    "start_time": "2023-03-04T09:49:04.863Z"
   },
   {
    "duration": 91,
    "start_time": "2023-03-04T09:49:04.912Z"
   },
   {
    "duration": 46,
    "start_time": "2023-03-04T09:49:05.005Z"
   },
   {
    "duration": 14554,
    "start_time": "2023-03-04T09:49:05.053Z"
   },
   {
    "duration": 96,
    "start_time": "2023-03-04T09:49:19.608Z"
   },
   {
    "duration": 22,
    "start_time": "2023-03-04T09:49:19.706Z"
   },
   {
    "duration": 2935,
    "start_time": "2023-03-04T09:49:19.740Z"
   },
   {
    "duration": 366,
    "start_time": "2023-03-04T09:49:22.676Z"
   },
   {
    "duration": 12,
    "start_time": "2023-03-04T09:49:23.044Z"
   },
   {
    "duration": 264,
    "start_time": "2023-03-04T09:49:23.058Z"
   },
   {
    "duration": 16,
    "start_time": "2023-03-04T09:49:23.324Z"
   },
   {
    "duration": 224,
    "start_time": "2023-03-04T09:49:23.343Z"
   },
   {
    "duration": 9,
    "start_time": "2023-03-04T09:49:23.569Z"
   },
   {
    "duration": 14,
    "start_time": "2023-03-04T09:49:23.580Z"
   },
   {
    "duration": 66,
    "start_time": "2023-03-04T09:49:23.596Z"
   },
   {
    "duration": 39,
    "start_time": "2023-03-04T09:49:23.664Z"
   },
   {
    "duration": 8,
    "start_time": "2023-03-04T09:49:23.704Z"
   },
   {
    "duration": 5520,
    "start_time": "2023-03-04T09:49:23.714Z"
   },
   {
    "duration": 51,
    "start_time": "2023-03-04T09:49:29.238Z"
   },
   {
    "duration": 6,
    "start_time": "2023-03-04T09:49:29.290Z"
   },
   {
    "duration": 561,
    "start_time": "2023-03-04T09:49:29.298Z"
   },
   {
    "duration": 2084,
    "start_time": "2023-03-04T09:49:29.861Z"
   },
   {
    "duration": 1755,
    "start_time": "2023-03-04T09:49:31.947Z"
   },
   {
    "duration": 2,
    "start_time": "2023-03-04T09:49:33.703Z"
   },
   {
    "duration": 7,
    "start_time": "2023-03-04T09:49:33.706Z"
   },
   {
    "duration": 6432,
    "start_time": "2023-03-04T09:49:33.714Z"
   },
   {
    "duration": 4,
    "start_time": "2023-03-04T09:49:40.147Z"
   },
   {
    "duration": 8410,
    "start_time": "2023-03-04T09:49:40.152Z"
   },
   {
    "duration": 25585,
    "start_time": "2023-03-04T09:49:48.564Z"
   },
   {
    "duration": 4,
    "start_time": "2023-03-04T09:50:23.453Z"
   },
   {
    "duration": 5,
    "start_time": "2023-03-04T09:50:27.033Z"
   },
   {
    "duration": 5,
    "start_time": "2023-03-04T09:50:34.249Z"
   },
   {
    "duration": 3,
    "start_time": "2023-03-04T09:50:49.200Z"
   },
   {
    "duration": 2,
    "start_time": "2023-03-04T09:51:19.729Z"
   },
   {
    "duration": 4,
    "start_time": "2023-03-04T09:51:25.966Z"
   },
   {
    "duration": 3,
    "start_time": "2023-03-04T09:51:30.183Z"
   },
   {
    "duration": 4,
    "start_time": "2023-03-04T09:51:35.451Z"
   },
   {
    "duration": 3,
    "start_time": "2023-03-04T09:51:40.058Z"
   },
   {
    "duration": 4,
    "start_time": "2023-03-04T09:51:41.584Z"
   },
   {
    "duration": 3,
    "start_time": "2023-03-04T09:51:43.656Z"
   },
   {
    "duration": 2,
    "start_time": "2023-03-04T09:51:49.374Z"
   },
   {
    "duration": 3,
    "start_time": "2023-03-04T09:51:52.994Z"
   },
   {
    "duration": 43847,
    "start_time": "2023-03-04T09:52:12.612Z"
   },
   {
    "duration": 162,
    "start_time": "2023-03-04T09:53:08.190Z"
   },
   {
    "duration": 30376,
    "start_time": "2023-03-04T09:53:24.392Z"
   },
   {
    "duration": 14,
    "start_time": "2023-03-04T09:54:17.322Z"
   },
   {
    "duration": 130,
    "start_time": "2023-03-04T09:55:10.411Z"
   },
   {
    "duration": 6,
    "start_time": "2023-03-04T09:55:45.341Z"
   },
   {
    "duration": 28919,
    "start_time": "2023-03-04T09:56:04.452Z"
   },
   {
    "duration": 5,
    "start_time": "2023-03-04T09:57:35.257Z"
   },
   {
    "duration": 30812,
    "start_time": "2023-03-04T09:58:31.840Z"
   },
   {
    "duration": 4,
    "start_time": "2023-03-04T09:59:02.654Z"
   },
   {
    "duration": 7,
    "start_time": "2023-03-04T10:11:29.055Z"
   },
   {
    "duration": 55,
    "start_time": "2023-03-04T10:11:40.954Z"
   },
   {
    "duration": 4,
    "start_time": "2023-03-04T10:11:54.070Z"
   },
   {
    "duration": 13,
    "start_time": "2023-03-04T10:12:00.086Z"
   },
   {
    "duration": 10,
    "start_time": "2023-03-04T10:12:02.846Z"
   },
   {
    "duration": 4,
    "start_time": "2023-03-04T10:12:08.042Z"
   },
   {
    "duration": 5,
    "start_time": "2023-03-04T10:12:13.951Z"
   },
   {
    "duration": 4,
    "start_time": "2023-03-04T10:12:18.359Z"
   },
   {
    "duration": 4,
    "start_time": "2023-03-04T10:12:29.752Z"
   },
   {
    "duration": 3,
    "start_time": "2023-03-04T10:12:36.814Z"
   },
   {
    "duration": 9,
    "start_time": "2023-03-04T10:12:42.366Z"
   },
   {
    "duration": 4,
    "start_time": "2023-03-04T10:12:45.585Z"
   },
   {
    "duration": 42,
    "start_time": "2023-03-04T10:13:01.752Z"
   },
   {
    "duration": 6,
    "start_time": "2023-03-04T10:13:03.653Z"
   },
   {
    "duration": 8,
    "start_time": "2023-03-04T10:13:38.487Z"
   },
   {
    "duration": 3,
    "start_time": "2023-03-04T10:13:41.357Z"
   },
   {
    "duration": 3,
    "start_time": "2023-03-04T10:13:49.319Z"
   },
   {
    "duration": 2,
    "start_time": "2023-03-04T10:13:55.335Z"
   },
   {
    "duration": 38,
    "start_time": "2023-03-04T10:14:03.653Z"
   },
   {
    "duration": 7,
    "start_time": "2023-03-04T10:14:06.257Z"
   },
   {
    "duration": 6859,
    "start_time": "2023-03-04T10:18:01.383Z"
   },
   {
    "duration": 1940,
    "start_time": "2023-03-04T10:18:17.233Z"
   },
   {
    "duration": 4,
    "start_time": "2023-03-04T10:18:21.223Z"
   },
   {
    "duration": 8,
    "start_time": "2023-03-04T10:19:25.670Z"
   },
   {
    "duration": 77,
    "start_time": "2023-03-04T10:19:33.837Z"
   },
   {
    "duration": 11,
    "start_time": "2023-03-04T10:19:41.057Z"
   },
   {
    "duration": 11,
    "start_time": "2023-03-04T10:19:49.057Z"
   },
   {
    "duration": 3,
    "start_time": "2023-03-04T10:20:21.703Z"
   },
   {
    "duration": 8,
    "start_time": "2023-03-04T10:20:28.752Z"
   },
   {
    "duration": 4,
    "start_time": "2023-03-04T10:20:32.151Z"
   },
   {
    "duration": 5492,
    "start_time": "2023-03-04T10:21:17.660Z"
   },
   {
    "duration": 3,
    "start_time": "2023-03-04T10:21:29.304Z"
   },
   {
    "duration": 3,
    "start_time": "2023-03-04T10:21:35.460Z"
   },
   {
    "duration": 3,
    "start_time": "2023-03-04T10:21:45.920Z"
   },
   {
    "duration": 4,
    "start_time": "2023-03-04T10:22:47.098Z"
   },
   {
    "duration": 4,
    "start_time": "2023-03-04T10:22:50.819Z"
   },
   {
    "duration": 49504,
    "start_time": "2023-03-04T10:23:16.277Z"
   },
   {
    "duration": 9,
    "start_time": "2023-03-04T10:24:08.753Z"
   },
   {
    "duration": 5,
    "start_time": "2023-03-04T10:24:21.652Z"
   },
   {
    "duration": 6754,
    "start_time": "2023-03-04T14:39:16.962Z"
   },
   {
    "duration": 2781,
    "start_time": "2023-03-04T14:39:23.718Z"
   },
   {
    "duration": 1501,
    "start_time": "2023-03-04T14:39:26.501Z"
   },
   {
    "duration": 4,
    "start_time": "2023-03-04T14:39:28.005Z"
   },
   {
    "duration": 1185,
    "start_time": "2023-03-04T14:39:28.012Z"
   },
   {
    "duration": 28,
    "start_time": "2023-03-04T14:39:29.199Z"
   },
   {
    "duration": 122,
    "start_time": "2023-03-04T14:39:29.229Z"
   },
   {
    "duration": 109,
    "start_time": "2023-03-04T14:39:29.353Z"
   },
   {
    "duration": 118,
    "start_time": "2023-03-04T14:39:29.464Z"
   },
   {
    "duration": 2124,
    "start_time": "2023-03-04T14:39:29.585Z"
   },
   {
    "duration": 918,
    "start_time": "2023-03-04T14:39:31.711Z"
   },
   {
    "duration": 56,
    "start_time": "2023-03-04T14:39:32.631Z"
   },
   {
    "duration": 502,
    "start_time": "2023-03-04T14:39:32.689Z"
   },
   {
    "duration": 556,
    "start_time": "2023-03-04T14:39:33.195Z"
   },
   {
    "duration": 4,
    "start_time": "2023-03-04T14:39:33.753Z"
   },
   {
    "duration": 298,
    "start_time": "2023-03-04T14:39:33.759Z"
   },
   {
    "duration": 59,
    "start_time": "2023-03-04T14:39:34.058Z"
   },
   {
    "duration": 129,
    "start_time": "2023-03-04T14:39:34.119Z"
   },
   {
    "duration": 67,
    "start_time": "2023-03-04T14:39:34.250Z"
   },
   {
    "duration": 16765,
    "start_time": "2023-03-04T14:39:34.320Z"
   },
   {
    "duration": 116,
    "start_time": "2023-03-04T14:39:51.087Z"
   },
   {
    "duration": 43,
    "start_time": "2023-03-04T14:39:51.205Z"
   },
   {
    "duration": 3721,
    "start_time": "2023-03-04T14:39:51.250Z"
   },
   {
    "duration": 496,
    "start_time": "2023-03-04T14:39:54.973Z"
   },
   {
    "duration": 14,
    "start_time": "2023-03-04T14:39:55.472Z"
   },
   {
    "duration": 404,
    "start_time": "2023-03-04T14:39:55.488Z"
   },
   {
    "duration": 19,
    "start_time": "2023-03-04T14:39:55.894Z"
   },
   {
    "duration": 315,
    "start_time": "2023-03-04T14:39:55.918Z"
   },
   {
    "duration": 17,
    "start_time": "2023-03-04T14:39:56.236Z"
   },
   {
    "duration": 26,
    "start_time": "2023-03-04T14:39:56.255Z"
   },
   {
    "duration": 69,
    "start_time": "2023-03-04T14:39:56.283Z"
   },
   {
    "duration": 61,
    "start_time": "2023-03-04T14:39:56.355Z"
   },
   {
    "duration": 8,
    "start_time": "2023-03-04T14:39:56.418Z"
   },
   {
    "duration": 60772,
    "start_time": "2023-03-04T14:39:56.428Z"
   },
   {
    "duration": 18,
    "start_time": "2023-03-04T14:40:57.202Z"
   },
   {
    "duration": 706,
    "start_time": "2023-03-04T14:40:57.222Z"
   },
   {
    "duration": 10026,
    "start_time": "2023-03-04T14:40:57.930Z"
   },
   {
    "duration": 11051,
    "start_time": "2023-03-04T14:41:07.958Z"
   },
   {
    "duration": 4,
    "start_time": "2023-03-04T14:41:19.010Z"
   },
   {
    "duration": 9,
    "start_time": "2023-03-04T14:41:19.015Z"
   },
   {
    "duration": 22124,
    "start_time": "2023-03-04T14:41:19.027Z"
   },
   {
    "duration": 6,
    "start_time": "2023-03-04T14:41:41.153Z"
   },
   {
    "duration": 10299,
    "start_time": "2023-03-04T14:41:41.161Z"
   },
   {
    "duration": 78908,
    "start_time": "2023-03-04T14:41:51.462Z"
   },
   {
    "duration": 4,
    "start_time": "2023-03-04T14:43:10.373Z"
   },
   {
    "duration": 99846,
    "start_time": "2023-03-04T14:50:30.863Z"
   },
   {
    "duration": 6,
    "start_time": "2023-03-04T14:52:18.713Z"
   },
   {
    "duration": 18379,
    "start_time": "2023-03-04T14:57:40.022Z"
   },
   {
    "duration": 30519,
    "start_time": "2023-03-04T14:58:12.265Z"
   },
   {
    "duration": 52906,
    "start_time": "2023-03-04T14:59:06.892Z"
   },
   {
    "duration": 1048740,
    "start_time": "2023-03-04T15:02:48.564Z"
   },
   {
    "duration": 73,
    "start_time": "2023-03-04T15:20:17.306Z"
   },
   {
    "duration": 232,
    "start_time": "2023-03-04T15:31:55.996Z"
   },
   {
    "duration": 6,
    "start_time": "2023-03-04T15:33:09.132Z"
   },
   {
    "duration": 267,
    "start_time": "2023-03-04T15:36:48.205Z"
   },
   {
    "duration": 7,
    "start_time": "2023-03-04T15:37:28.921Z"
   },
   {
    "duration": 120781,
    "start_time": "2023-03-04T15:38:35.574Z"
   },
   {
    "duration": 10,
    "start_time": "2023-03-04T15:40:36.358Z"
   },
   {
    "duration": 255,
    "start_time": "2023-03-04T15:42:36.727Z"
   },
   {
    "duration": 63,
    "start_time": "2023-03-04T15:42:47.498Z"
   },
   {
    "duration": 6788,
    "start_time": "2023-03-07T15:47:44.458Z"
   },
   {
    "duration": 2774,
    "start_time": "2023-03-07T15:47:51.249Z"
   },
   {
    "duration": 1392,
    "start_time": "2023-03-07T15:47:54.024Z"
   },
   {
    "duration": 4,
    "start_time": "2023-03-07T15:47:55.418Z"
   },
   {
    "duration": 3595,
    "start_time": "2023-03-07T15:47:55.423Z"
   },
   {
    "duration": 35,
    "start_time": "2023-03-07T15:47:59.019Z"
   },
   {
    "duration": 134,
    "start_time": "2023-03-07T15:47:59.062Z"
   },
   {
    "duration": 179,
    "start_time": "2023-03-07T15:47:59.198Z"
   },
   {
    "duration": 97,
    "start_time": "2023-03-07T15:47:59.379Z"
   },
   {
    "duration": 2043,
    "start_time": "2023-03-07T15:47:59.478Z"
   },
   {
    "duration": 901,
    "start_time": "2023-03-07T15:48:01.523Z"
   },
   {
    "duration": 41,
    "start_time": "2023-03-07T15:48:02.425Z"
   },
   {
    "duration": 872,
    "start_time": "2023-03-07T15:48:02.473Z"
   },
   {
    "duration": 1102,
    "start_time": "2023-03-07T15:48:03.351Z"
   },
   {
    "duration": 8,
    "start_time": "2023-03-07T15:48:04.459Z"
   },
   {
    "duration": 470,
    "start_time": "2023-03-07T15:48:04.468Z"
   },
   {
    "duration": 62,
    "start_time": "2023-03-07T15:48:04.940Z"
   },
   {
    "duration": 108,
    "start_time": "2023-03-07T15:48:05.003Z"
   },
   {
    "duration": 56,
    "start_time": "2023-03-07T15:48:05.113Z"
   },
   {
    "duration": 17864,
    "start_time": "2023-03-07T15:48:05.172Z"
   },
   {
    "duration": 134,
    "start_time": "2023-03-07T15:48:23.037Z"
   },
   {
    "duration": 1809,
    "start_time": "2023-03-07T15:48:30.828Z"
   },
   {
    "duration": 134,
    "start_time": "2023-03-07T15:48:53.160Z"
   },
   {
    "duration": 11,
    "start_time": "2023-03-07T15:48:56.400Z"
   },
   {
    "duration": 11,
    "start_time": "2023-03-07T15:49:00.566Z"
   },
   {
    "duration": 970,
    "start_time": "2023-03-07T15:51:06.729Z"
   },
   {
    "duration": 31,
    "start_time": "2023-03-07T15:51:08.386Z"
   },
   {
    "duration": 71,
    "start_time": "2023-03-07T15:51:12.263Z"
   },
   {
    "duration": 12,
    "start_time": "2023-03-07T15:51:31.968Z"
   },
   {
    "duration": 8,
    "start_time": "2023-03-07T15:51:36.708Z"
   },
   {
    "duration": 10,
    "start_time": "2023-03-07T15:52:17.967Z"
   },
   {
    "duration": 17,
    "start_time": "2023-03-07T15:52:27.939Z"
   },
   {
    "duration": 9,
    "start_time": "2023-03-07T15:52:30.328Z"
   },
   {
    "duration": 9,
    "start_time": "2023-03-07T15:52:34.492Z"
   },
   {
    "duration": 10,
    "start_time": "2023-03-07T15:53:00.625Z"
   },
   {
    "duration": 10,
    "start_time": "2023-03-07T15:53:28.868Z"
   },
   {
    "duration": 20,
    "start_time": "2023-03-07T15:53:36.300Z"
   },
   {
    "duration": 21,
    "start_time": "2023-03-07T15:53:57.338Z"
   },
   {
    "duration": 9,
    "start_time": "2023-03-07T15:54:49.300Z"
   },
   {
    "duration": 2,
    "start_time": "2023-03-07T15:55:25.705Z"
   },
   {
    "duration": 12,
    "start_time": "2023-03-07T15:55:44.100Z"
   },
   {
    "duration": 3,
    "start_time": "2023-03-07T15:55:51.191Z"
   },
   {
    "duration": 25,
    "start_time": "2023-03-07T15:56:35.040Z"
   },
   {
    "duration": 11,
    "start_time": "2023-03-07T15:59:17.571Z"
   },
   {
    "duration": 22,
    "start_time": "2023-03-07T15:59:24.442Z"
   },
   {
    "duration": 39,
    "start_time": "2023-03-07T15:59:31.535Z"
   },
   {
    "duration": 8,
    "start_time": "2023-03-07T15:59:33.387Z"
   },
   {
    "duration": 18,
    "start_time": "2023-03-07T15:59:39.450Z"
   },
   {
    "duration": 13,
    "start_time": "2023-03-07T15:59:53.351Z"
   },
   {
    "duration": 9,
    "start_time": "2023-03-07T15:59:58.765Z"
   },
   {
    "duration": 35,
    "start_time": "2023-03-07T16:00:47.049Z"
   },
   {
    "duration": 8,
    "start_time": "2023-03-07T16:00:47.661Z"
   },
   {
    "duration": 2,
    "start_time": "2023-03-07T16:03:11.404Z"
   },
   {
    "duration": 4,
    "start_time": "2023-03-07T16:03:12.856Z"
   },
   {
    "duration": 15,
    "start_time": "2023-03-07T16:03:12.862Z"
   },
   {
    "duration": 35,
    "start_time": "2023-03-07T16:03:12.879Z"
   },
   {
    "duration": 910,
    "start_time": "2023-03-07T16:03:13.102Z"
   },
   {
    "duration": 38,
    "start_time": "2023-03-07T16:03:14.013Z"
   },
   {
    "duration": 111,
    "start_time": "2023-03-07T16:03:14.053Z"
   },
   {
    "duration": 105,
    "start_time": "2023-03-07T16:03:14.172Z"
   },
   {
    "duration": 88,
    "start_time": "2023-03-07T16:03:14.280Z"
   },
   {
    "duration": 1936,
    "start_time": "2023-03-07T16:03:14.370Z"
   },
   {
    "duration": 1590,
    "start_time": "2023-03-07T16:03:16.307Z"
   },
   {
    "duration": 33,
    "start_time": "2023-03-07T16:03:17.899Z"
   },
   {
    "duration": 248,
    "start_time": "2023-03-07T16:03:17.948Z"
   },
   {
    "duration": 295,
    "start_time": "2023-03-07T16:03:18.197Z"
   },
   {
    "duration": 4,
    "start_time": "2023-03-07T16:03:18.493Z"
   },
   {
    "duration": 285,
    "start_time": "2023-03-07T16:03:18.499Z"
   },
   {
    "duration": 83,
    "start_time": "2023-03-07T16:03:18.786Z"
   },
   {
    "duration": 112,
    "start_time": "2023-03-07T16:03:18.871Z"
   },
   {
    "duration": 26,
    "start_time": "2023-03-07T16:03:18.984Z"
   },
   {
    "duration": 17231,
    "start_time": "2023-03-07T16:03:19.012Z"
   },
   {
    "duration": 65,
    "start_time": "2023-03-07T16:03:36.250Z"
   },
   {
    "duration": 23,
    "start_time": "2023-03-07T16:03:36.317Z"
   },
   {
    "duration": 3,
    "start_time": "2023-03-07T16:15:36.865Z"
   },
   {
    "duration": 9,
    "start_time": "2023-03-07T16:15:36.878Z"
   },
   {
    "duration": 4,
    "start_time": "2023-03-07T16:15:36.899Z"
   },
   {
    "duration": 7,
    "start_time": "2023-03-07T16:15:36.905Z"
   },
   {
    "duration": 892,
    "start_time": "2023-03-07T16:15:36.931Z"
   },
   {
    "duration": 39,
    "start_time": "2023-03-07T16:15:37.825Z"
   },
   {
    "duration": 106,
    "start_time": "2023-03-07T16:15:37.868Z"
   },
   {
    "duration": 75,
    "start_time": "2023-03-07T16:15:37.976Z"
   },
   {
    "duration": 84,
    "start_time": "2023-03-07T16:15:38.061Z"
   },
   {
    "duration": 2056,
    "start_time": "2023-03-07T16:15:38.147Z"
   },
   {
    "duration": 1505,
    "start_time": "2023-03-07T16:15:40.205Z"
   },
   {
    "duration": 40,
    "start_time": "2023-03-07T16:15:41.712Z"
   },
   {
    "duration": 300,
    "start_time": "2023-03-07T16:15:41.759Z"
   },
   {
    "duration": 305,
    "start_time": "2023-03-07T16:15:42.061Z"
   },
   {
    "duration": 11,
    "start_time": "2023-03-07T16:15:42.367Z"
   },
   {
    "duration": 339,
    "start_time": "2023-03-07T16:15:42.380Z"
   },
   {
    "duration": 56,
    "start_time": "2023-03-07T16:15:42.721Z"
   },
   {
    "duration": 146,
    "start_time": "2023-03-07T16:15:42.781Z"
   },
   {
    "duration": 36,
    "start_time": "2023-03-07T16:15:42.929Z"
   },
   {
    "duration": 18016,
    "start_time": "2023-03-07T16:15:42.969Z"
   },
   {
    "duration": 71,
    "start_time": "2023-03-07T16:16:00.987Z"
   },
   {
    "duration": 25,
    "start_time": "2023-03-07T16:16:01.064Z"
   },
   {
    "duration": 19,
    "start_time": "2023-03-07T16:16:01.091Z"
   },
   {
    "duration": 78,
    "start_time": "2023-03-07T16:16:01.112Z"
   },
   {
    "duration": 3483,
    "start_time": "2023-03-07T16:16:01.192Z"
   },
   {
    "duration": 455,
    "start_time": "2023-03-07T16:16:04.677Z"
   },
   {
    "duration": 16,
    "start_time": "2023-03-07T16:16:05.134Z"
   },
   {
    "duration": 355,
    "start_time": "2023-03-07T16:16:05.151Z"
   },
   {
    "duration": 14,
    "start_time": "2023-03-07T16:16:05.508Z"
   },
   {
    "duration": 262,
    "start_time": "2023-03-07T16:16:05.524Z"
   },
   {
    "duration": 7,
    "start_time": "2023-03-07T16:16:05.788Z"
   },
   {
    "duration": 15,
    "start_time": "2023-03-07T16:16:05.797Z"
   },
   {
    "duration": 194,
    "start_time": "2023-03-07T16:16:16.801Z"
   },
   {
    "duration": 21,
    "start_time": "2023-03-07T16:16:57.043Z"
   },
   {
    "duration": 12,
    "start_time": "2023-03-07T16:17:06.363Z"
   },
   {
    "duration": 36,
    "start_time": "2023-03-07T16:17:22.932Z"
   },
   {
    "duration": 18,
    "start_time": "2023-03-07T16:18:27.598Z"
   },
   {
    "duration": 22,
    "start_time": "2023-03-07T16:18:41.036Z"
   },
   {
    "duration": 10,
    "start_time": "2023-03-07T16:20:19.174Z"
   },
   {
    "duration": 10,
    "start_time": "2023-03-07T16:21:15.704Z"
   },
   {
    "duration": 7,
    "start_time": "2023-03-07T16:21:21.063Z"
   },
   {
    "duration": 159,
    "start_time": "2023-03-07T16:21:24.537Z"
   },
   {
    "duration": 6,
    "start_time": "2023-03-07T16:21:28.907Z"
   },
   {
    "duration": 25,
    "start_time": "2023-03-07T16:21:30.337Z"
   },
   {
    "duration": 2,
    "start_time": "2023-03-07T16:27:23.399Z"
   },
   {
    "duration": 20,
    "start_time": "2023-03-07T16:27:23.403Z"
   },
   {
    "duration": 18,
    "start_time": "2023-03-07T16:27:23.454Z"
   },
   {
    "duration": 9,
    "start_time": "2023-03-07T16:27:23.474Z"
   },
   {
    "duration": 874,
    "start_time": "2023-03-07T16:27:23.484Z"
   },
   {
    "duration": 24,
    "start_time": "2023-03-07T16:27:24.359Z"
   },
   {
    "duration": 80,
    "start_time": "2023-03-07T16:27:24.385Z"
   },
   {
    "duration": 63,
    "start_time": "2023-03-07T16:27:24.467Z"
   },
   {
    "duration": 91,
    "start_time": "2023-03-07T16:27:24.531Z"
   },
   {
    "duration": 1919,
    "start_time": "2023-03-07T16:27:24.624Z"
   },
   {
    "duration": 1411,
    "start_time": "2023-03-07T16:27:26.545Z"
   },
   {
    "duration": 32,
    "start_time": "2023-03-07T16:27:27.958Z"
   },
   {
    "duration": 245,
    "start_time": "2023-03-07T16:27:27.992Z"
   },
   {
    "duration": 261,
    "start_time": "2023-03-07T16:27:28.240Z"
   },
   {
    "duration": 4,
    "start_time": "2023-03-07T16:27:28.503Z"
   },
   {
    "duration": 234,
    "start_time": "2023-03-07T16:27:28.509Z"
   },
   {
    "duration": 39,
    "start_time": "2023-03-07T16:27:28.744Z"
   },
   {
    "duration": 85,
    "start_time": "2023-03-07T16:27:28.785Z"
   },
   {
    "duration": 28,
    "start_time": "2023-03-07T16:27:28.871Z"
   },
   {
    "duration": 16995,
    "start_time": "2023-03-07T16:27:28.901Z"
   },
   {
    "duration": 77,
    "start_time": "2023-03-07T16:27:45.898Z"
   },
   {
    "duration": 20,
    "start_time": "2023-03-07T16:27:45.977Z"
   },
   {
    "duration": 5,
    "start_time": "2023-03-07T16:27:45.999Z"
   },
   {
    "duration": 14,
    "start_time": "2023-03-07T16:27:46.006Z"
   },
   {
    "duration": 3577,
    "start_time": "2023-03-07T16:27:46.022Z"
   },
   {
    "duration": 440,
    "start_time": "2023-03-07T16:27:49.600Z"
   },
   {
    "duration": 20,
    "start_time": "2023-03-07T16:27:50.042Z"
   },
   {
    "duration": 310,
    "start_time": "2023-03-07T16:27:50.068Z"
   },
   {
    "duration": 15,
    "start_time": "2023-03-07T16:27:50.379Z"
   },
   {
    "duration": 271,
    "start_time": "2023-03-07T16:27:50.395Z"
   },
   {
    "duration": 8,
    "start_time": "2023-03-07T16:27:50.668Z"
   },
   {
    "duration": 14,
    "start_time": "2023-03-07T16:27:50.677Z"
   },
   {
    "duration": 18,
    "start_time": "2023-03-07T16:29:44.362Z"
   },
   {
    "duration": 9,
    "start_time": "2023-03-07T16:30:00.060Z"
   },
   {
    "duration": 39,
    "start_time": "2023-03-07T16:30:08.437Z"
   },
   {
    "duration": 6,
    "start_time": "2023-03-07T16:30:10.407Z"
   },
   {
    "duration": 79,
    "start_time": "2023-03-07T16:31:29.803Z"
   },
   {
    "duration": 146,
    "start_time": "2023-03-07T16:32:45.653Z"
   },
   {
    "duration": 7,
    "start_time": "2023-03-07T16:32:46.656Z"
   },
   {
    "duration": 15,
    "start_time": "2023-03-07T16:41:26.955Z"
   },
   {
    "duration": 163,
    "start_time": "2023-03-07T16:41:30.097Z"
   },
   {
    "duration": 155,
    "start_time": "2023-03-07T16:41:34.377Z"
   },
   {
    "duration": 5,
    "start_time": "2023-03-07T16:41:36.701Z"
   },
   {
    "duration": 42,
    "start_time": "2023-03-07T16:42:08.282Z"
   },
   {
    "duration": 13,
    "start_time": "2023-03-07T16:42:33.949Z"
   },
   {
    "duration": 43,
    "start_time": "2023-03-07T16:42:34.475Z"
   },
   {
    "duration": 3,
    "start_time": "2023-03-07T16:43:10.797Z"
   },
   {
    "duration": 6,
    "start_time": "2023-03-07T16:43:27.398Z"
   },
   {
    "duration": 45,
    "start_time": "2023-03-07T16:43:35.064Z"
   },
   {
    "duration": 7,
    "start_time": "2023-03-07T16:43:42.398Z"
   },
   {
    "duration": 5,
    "start_time": "2023-03-07T16:48:24.757Z"
   },
   {
    "duration": 16,
    "start_time": "2023-03-07T16:50:22.452Z"
   },
   {
    "duration": 48,
    "start_time": "2023-03-07T16:50:23.183Z"
   },
   {
    "duration": 2,
    "start_time": "2023-03-07T16:51:17.265Z"
   },
   {
    "duration": 32,
    "start_time": "2023-03-07T16:51:17.272Z"
   },
   {
    "duration": 28,
    "start_time": "2023-03-07T16:51:17.306Z"
   },
   {
    "duration": 23,
    "start_time": "2023-03-07T16:51:17.336Z"
   },
   {
    "duration": 830,
    "start_time": "2023-03-07T16:51:17.361Z"
   },
   {
    "duration": 22,
    "start_time": "2023-03-07T16:51:18.192Z"
   },
   {
    "duration": 90,
    "start_time": "2023-03-07T16:51:18.215Z"
   },
   {
    "duration": 78,
    "start_time": "2023-03-07T16:51:18.306Z"
   },
   {
    "duration": 84,
    "start_time": "2023-03-07T16:51:18.385Z"
   },
   {
    "duration": 1782,
    "start_time": "2023-03-07T16:51:18.471Z"
   },
   {
    "duration": 1363,
    "start_time": "2023-03-07T16:51:20.255Z"
   },
   {
    "duration": 34,
    "start_time": "2023-03-07T16:51:21.619Z"
   },
   {
    "duration": 231,
    "start_time": "2023-03-07T16:51:21.654Z"
   },
   {
    "duration": 249,
    "start_time": "2023-03-07T16:51:21.887Z"
   },
   {
    "duration": 13,
    "start_time": "2023-03-07T16:51:22.139Z"
   },
   {
    "duration": 216,
    "start_time": "2023-03-07T16:51:22.154Z"
   },
   {
    "duration": 35,
    "start_time": "2023-03-07T16:51:22.371Z"
   },
   {
    "duration": 115,
    "start_time": "2023-03-07T16:51:22.407Z"
   },
   {
    "duration": 32,
    "start_time": "2023-03-07T16:51:22.524Z"
   },
   {
    "duration": 15597,
    "start_time": "2023-03-07T16:51:22.561Z"
   },
   {
    "duration": 59,
    "start_time": "2023-03-07T16:51:38.160Z"
   },
   {
    "duration": 40,
    "start_time": "2023-03-07T16:51:38.220Z"
   },
   {
    "duration": 6,
    "start_time": "2023-03-07T16:51:38.262Z"
   },
   {
    "duration": 20,
    "start_time": "2023-03-07T16:51:38.271Z"
   },
   {
    "duration": 3201,
    "start_time": "2023-03-07T16:51:38.292Z"
   },
   {
    "duration": 461,
    "start_time": "2023-03-07T16:51:41.495Z"
   },
   {
    "duration": 10,
    "start_time": "2023-03-07T16:51:41.959Z"
   },
   {
    "duration": 306,
    "start_time": "2023-03-07T16:51:41.971Z"
   },
   {
    "duration": 14,
    "start_time": "2023-03-07T16:51:42.279Z"
   },
   {
    "duration": 313,
    "start_time": "2023-03-07T16:51:42.295Z"
   },
   {
    "duration": 9,
    "start_time": "2023-03-07T16:51:42.611Z"
   },
   {
    "duration": 35,
    "start_time": "2023-03-07T16:51:42.622Z"
   },
   {
    "duration": 15,
    "start_time": "2023-03-07T16:51:42.659Z"
   },
   {
    "duration": 100,
    "start_time": "2023-03-07T16:51:42.676Z"
   },
   {
    "duration": 397,
    "start_time": "2023-03-07T16:52:34.851Z"
   },
   {
    "duration": 154,
    "start_time": "2023-03-07T16:52:48.203Z"
   },
   {
    "duration": 12,
    "start_time": "2023-03-07T16:56:54.309Z"
   },
   {
    "duration": 113,
    "start_time": "2023-03-07T16:56:56.407Z"
   },
   {
    "duration": 7,
    "start_time": "2023-03-07T16:57:16.538Z"
   },
   {
    "duration": 2,
    "start_time": "2023-03-07T16:57:22.132Z"
   },
   {
    "duration": 24,
    "start_time": "2023-03-07T16:57:22.135Z"
   },
   {
    "duration": 9,
    "start_time": "2023-03-07T16:57:22.161Z"
   },
   {
    "duration": 5,
    "start_time": "2023-03-07T16:57:22.171Z"
   },
   {
    "duration": 880,
    "start_time": "2023-03-07T16:57:22.178Z"
   },
   {
    "duration": 24,
    "start_time": "2023-03-07T16:57:23.060Z"
   },
   {
    "duration": 90,
    "start_time": "2023-03-07T16:57:23.086Z"
   },
   {
    "duration": 83,
    "start_time": "2023-03-07T16:57:23.179Z"
   },
   {
    "duration": 91,
    "start_time": "2023-03-07T16:57:23.264Z"
   },
   {
    "duration": 1793,
    "start_time": "2023-03-07T16:57:23.357Z"
   },
   {
    "duration": 1366,
    "start_time": "2023-03-07T16:57:25.153Z"
   },
   {
    "duration": 43,
    "start_time": "2023-03-07T16:57:26.521Z"
   },
   {
    "duration": 231,
    "start_time": "2023-03-07T16:57:26.566Z"
   },
   {
    "duration": 258,
    "start_time": "2023-03-07T16:57:26.799Z"
   },
   {
    "duration": 4,
    "start_time": "2023-03-07T16:57:27.058Z"
   },
   {
    "duration": 220,
    "start_time": "2023-03-07T16:57:27.065Z"
   },
   {
    "duration": 29,
    "start_time": "2023-03-07T16:57:27.286Z"
   },
   {
    "duration": 99,
    "start_time": "2023-03-07T16:57:27.316Z"
   },
   {
    "duration": 35,
    "start_time": "2023-03-07T16:57:27.417Z"
   },
   {
    "duration": 15701,
    "start_time": "2023-03-07T16:57:27.454Z"
   },
   {
    "duration": 63,
    "start_time": "2023-03-07T16:57:43.157Z"
   },
   {
    "duration": 39,
    "start_time": "2023-03-07T16:57:43.222Z"
   },
   {
    "duration": 7,
    "start_time": "2023-03-07T16:57:43.262Z"
   },
   {
    "duration": 16,
    "start_time": "2023-03-07T16:57:43.270Z"
   },
   {
    "duration": 3269,
    "start_time": "2023-03-07T16:57:43.288Z"
   },
   {
    "duration": 394,
    "start_time": "2023-03-07T16:57:46.559Z"
   },
   {
    "duration": 10,
    "start_time": "2023-03-07T16:57:46.954Z"
   },
   {
    "duration": 250,
    "start_time": "2023-03-07T16:57:46.965Z"
   },
   {
    "duration": 13,
    "start_time": "2023-03-07T16:57:47.217Z"
   },
   {
    "duration": 247,
    "start_time": "2023-03-07T16:57:47.232Z"
   },
   {
    "duration": 7,
    "start_time": "2023-03-07T16:57:47.481Z"
   },
   {
    "duration": 18,
    "start_time": "2023-03-07T16:57:47.490Z"
   },
   {
    "duration": 9,
    "start_time": "2023-03-07T16:57:47.509Z"
   },
   {
    "duration": 92,
    "start_time": "2023-03-07T16:57:47.519Z"
   },
   {
    "duration": 154,
    "start_time": "2023-03-07T16:57:47.613Z"
   },
   {
    "duration": 7,
    "start_time": "2023-03-07T16:57:47.768Z"
   },
   {
    "duration": 8,
    "start_time": "2023-03-07T16:57:52.351Z"
   },
   {
    "duration": 118,
    "start_time": "2023-03-07T16:58:23.990Z"
   },
   {
    "duration": 17,
    "start_time": "2023-03-07T16:59:37.342Z"
   },
   {
    "duration": 43,
    "start_time": "2023-03-07T16:59:38.052Z"
   },
   {
    "duration": 2,
    "start_time": "2023-03-07T17:07:37.299Z"
   },
   {
    "duration": 2,
    "start_time": "2023-03-07T17:07:37.324Z"
   },
   {
    "duration": 6,
    "start_time": "2023-03-07T17:07:37.328Z"
   },
   {
    "duration": 22,
    "start_time": "2023-03-07T17:07:37.335Z"
   },
   {
    "duration": 856,
    "start_time": "2023-03-07T17:07:37.359Z"
   },
   {
    "duration": 41,
    "start_time": "2023-03-07T17:07:38.217Z"
   },
   {
    "duration": 71,
    "start_time": "2023-03-07T17:07:38.260Z"
   },
   {
    "duration": 104,
    "start_time": "2023-03-07T17:07:38.333Z"
   },
   {
    "duration": 81,
    "start_time": "2023-03-07T17:07:38.438Z"
   },
   {
    "duration": 1853,
    "start_time": "2023-03-07T17:07:38.521Z"
   },
   {
    "duration": 1544,
    "start_time": "2023-03-07T17:07:40.376Z"
   },
   {
    "duration": 40,
    "start_time": "2023-03-07T17:07:41.922Z"
   },
   {
    "duration": 272,
    "start_time": "2023-03-07T17:07:41.965Z"
   },
   {
    "duration": 297,
    "start_time": "2023-03-07T17:07:42.238Z"
   },
   {
    "duration": 7,
    "start_time": "2023-03-07T17:07:42.537Z"
   },
   {
    "duration": 345,
    "start_time": "2023-03-07T17:07:42.545Z"
   },
   {
    "duration": 33,
    "start_time": "2023-03-07T17:07:42.892Z"
   },
   {
    "duration": 107,
    "start_time": "2023-03-07T17:07:42.926Z"
   },
   {
    "duration": 37,
    "start_time": "2023-03-07T17:07:43.035Z"
   },
   {
    "duration": 16435,
    "start_time": "2023-03-07T17:07:43.074Z"
   },
   {
    "duration": 65,
    "start_time": "2023-03-07T17:07:59.510Z"
   },
   {
    "duration": 21,
    "start_time": "2023-03-07T17:07:59.576Z"
   },
   {
    "duration": 6,
    "start_time": "2023-03-07T17:07:59.598Z"
   },
   {
    "duration": 12,
    "start_time": "2023-03-07T17:07:59.605Z"
   },
   {
    "duration": 3094,
    "start_time": "2023-03-07T17:07:59.619Z"
   },
   {
    "duration": 434,
    "start_time": "2023-03-07T17:08:02.715Z"
   },
   {
    "duration": 10,
    "start_time": "2023-03-07T17:08:03.151Z"
   },
   {
    "duration": 268,
    "start_time": "2023-03-07T17:08:03.162Z"
   },
   {
    "duration": 19,
    "start_time": "2023-03-07T17:08:03.432Z"
   },
   {
    "duration": 230,
    "start_time": "2023-03-07T17:08:03.453Z"
   },
   {
    "duration": 6,
    "start_time": "2023-03-07T17:08:03.686Z"
   },
   {
    "duration": 12,
    "start_time": "2023-03-07T17:08:03.694Z"
   },
   {
    "duration": 25,
    "start_time": "2023-03-07T17:08:03.708Z"
   },
   {
    "duration": 94,
    "start_time": "2023-03-07T17:08:03.734Z"
   },
   {
    "duration": 158,
    "start_time": "2023-03-07T17:08:03.829Z"
   },
   {
    "duration": 7,
    "start_time": "2023-03-07T17:08:03.989Z"
   },
   {
    "duration": 237,
    "start_time": "2023-03-07T17:08:03.997Z"
   },
   {
    "duration": 22,
    "start_time": "2023-03-07T17:08:04.236Z"
   },
   {
    "duration": 14,
    "start_time": "2023-03-07T17:08:04.260Z"
   },
   {
    "duration": 40,
    "start_time": "2023-03-07T17:08:04.276Z"
   },
   {
    "duration": 45,
    "start_time": "2023-03-07T17:08:52.364Z"
   },
   {
    "duration": 9,
    "start_time": "2023-03-07T17:08:53.237Z"
   },
   {
    "duration": 71744,
    "start_time": "2023-03-07T17:09:09.979Z"
   },
   {
    "duration": 35,
    "start_time": "2023-03-07T17:19:40.299Z"
   },
   {
    "duration": 2,
    "start_time": "2023-03-07T17:20:44.095Z"
   },
   {
    "duration": 6,
    "start_time": "2023-03-07T17:20:44.099Z"
   },
   {
    "duration": 4,
    "start_time": "2023-03-07T17:20:44.390Z"
   },
   {
    "duration": 3,
    "start_time": "2023-03-07T17:20:44.430Z"
   },
   {
    "duration": 849,
    "start_time": "2023-03-07T17:20:44.434Z"
   },
   {
    "duration": 22,
    "start_time": "2023-03-07T17:20:45.285Z"
   },
   {
    "duration": 86,
    "start_time": "2023-03-07T17:20:45.309Z"
   },
   {
    "duration": 81,
    "start_time": "2023-03-07T17:20:45.397Z"
   },
   {
    "duration": 90,
    "start_time": "2023-03-07T17:20:45.480Z"
   },
   {
    "duration": 1997,
    "start_time": "2023-03-07T17:20:45.571Z"
   },
   {
    "duration": 1383,
    "start_time": "2023-03-07T17:20:47.570Z"
   },
   {
    "duration": 34,
    "start_time": "2023-03-07T17:20:48.958Z"
   },
   {
    "duration": 273,
    "start_time": "2023-03-07T17:20:48.994Z"
   },
   {
    "duration": 280,
    "start_time": "2023-03-07T17:20:49.270Z"
   },
   {
    "duration": 4,
    "start_time": "2023-03-07T17:20:49.552Z"
   },
   {
    "duration": 232,
    "start_time": "2023-03-07T17:20:49.559Z"
   },
   {
    "duration": 35,
    "start_time": "2023-03-07T17:20:49.793Z"
   },
   {
    "duration": 91,
    "start_time": "2023-03-07T17:20:49.839Z"
   },
   {
    "duration": 42,
    "start_time": "2023-03-07T17:20:49.931Z"
   },
   {
    "duration": 16101,
    "start_time": "2023-03-07T17:20:49.975Z"
   },
   {
    "duration": 72,
    "start_time": "2023-03-07T17:21:06.078Z"
   },
   {
    "duration": 22,
    "start_time": "2023-03-07T17:21:06.151Z"
   },
   {
    "duration": 6,
    "start_time": "2023-03-07T17:21:06.174Z"
   },
   {
    "duration": 13,
    "start_time": "2023-03-07T17:21:06.181Z"
   },
   {
    "duration": 3263,
    "start_time": "2023-03-07T17:21:06.196Z"
   },
   {
    "duration": 385,
    "start_time": "2023-03-07T17:21:09.460Z"
   },
   {
    "duration": 9,
    "start_time": "2023-03-07T17:21:09.855Z"
   },
   {
    "duration": 254,
    "start_time": "2023-03-07T17:21:09.866Z"
   },
   {
    "duration": 19,
    "start_time": "2023-03-07T17:21:10.121Z"
   },
   {
    "duration": 224,
    "start_time": "2023-03-07T17:21:10.155Z"
   },
   {
    "duration": 8,
    "start_time": "2023-03-07T17:21:10.380Z"
   },
   {
    "duration": 13,
    "start_time": "2023-03-07T17:21:10.391Z"
   },
   {
    "duration": 9,
    "start_time": "2023-03-07T17:21:10.406Z"
   },
   {
    "duration": 103,
    "start_time": "2023-03-07T17:21:10.417Z"
   },
   {
    "duration": 178,
    "start_time": "2023-03-07T17:21:10.522Z"
   },
   {
    "duration": 6,
    "start_time": "2023-03-07T17:21:10.701Z"
   },
   {
    "duration": 142,
    "start_time": "2023-03-07T17:21:10.709Z"
   },
   {
    "duration": 8,
    "start_time": "2023-03-07T17:21:10.853Z"
   },
   {
    "duration": 12,
    "start_time": "2023-03-07T17:21:10.863Z"
   },
   {
    "duration": 41,
    "start_time": "2023-03-07T17:21:10.877Z"
   },
   {
    "duration": 41,
    "start_time": "2023-03-07T17:21:13.030Z"
   },
   {
    "duration": 20,
    "start_time": "2023-03-07T17:23:32.767Z"
   },
   {
    "duration": 22,
    "start_time": "2023-03-07T17:23:40.230Z"
   },
   {
    "duration": 14,
    "start_time": "2023-03-07T17:23:58.918Z"
   },
   {
    "duration": 25,
    "start_time": "2023-03-07T17:24:01.728Z"
   },
   {
    "duration": 14,
    "start_time": "2023-03-07T17:24:06.915Z"
   },
   {
    "duration": 10,
    "start_time": "2023-03-07T17:24:18.671Z"
   },
   {
    "duration": 96,
    "start_time": "2023-03-07T17:24:43.229Z"
   },
   {
    "duration": 16,
    "start_time": "2023-03-07T17:24:44.886Z"
   },
   {
    "duration": 28,
    "start_time": "2023-03-07T17:25:21.258Z"
   },
   {
    "duration": 9,
    "start_time": "2023-03-07T17:25:22.054Z"
   },
   {
    "duration": 804,
    "start_time": "2023-03-07T17:25:30.808Z"
   },
   {
    "duration": 808,
    "start_time": "2023-03-07T17:26:44.788Z"
   },
   {
    "duration": 74175,
    "start_time": "2023-03-07T17:27:04.180Z"
   },
   {
    "duration": 59,
    "start_time": "2023-03-07T17:32:51.124Z"
   },
   {
    "duration": 78,
    "start_time": "2023-03-07T17:33:03.327Z"
   },
   {
    "duration": 70,
    "start_time": "2023-03-07T17:33:17.827Z"
   },
   {
    "duration": 44,
    "start_time": "2023-03-07T17:35:04.651Z"
   },
   {
    "duration": 70,
    "start_time": "2023-03-07T17:35:14.551Z"
   },
   {
    "duration": 6362,
    "start_time": "2023-03-07T17:36:22.866Z"
   },
   {
    "duration": 1882,
    "start_time": "2023-03-07T17:36:35.454Z"
   },
   {
    "duration": 3,
    "start_time": "2023-03-07T17:36:45.225Z"
   },
   {
    "duration": 4,
    "start_time": "2023-03-07T17:36:49.016Z"
   },
   {
    "duration": 82,
    "start_time": "2023-03-07T17:37:17.976Z"
   },
   {
    "duration": 1502,
    "start_time": "2023-03-07T17:41:01.365Z"
   },
   {
    "duration": 2151,
    "start_time": "2023-03-07T17:49:16.097Z"
   },
   {
    "duration": 122714,
    "start_time": "2023-03-07T17:50:06.537Z"
   },
   {
    "duration": 3,
    "start_time": "2023-03-07T17:52:19.567Z"
   },
   {
    "duration": 89249,
    "start_time": "2023-03-07T17:52:59.696Z"
   },
   {
    "duration": 6,
    "start_time": "2023-03-07T17:54:28.946Z"
   },
   {
    "duration": 460,
    "start_time": "2023-03-07T17:55:05.063Z"
   },
   {
    "duration": 9137,
    "start_time": "2023-03-07T17:55:06.889Z"
   },
   {
    "duration": 8,
    "start_time": "2023-03-07T17:55:56.864Z"
   },
   {
    "duration": 14,
    "start_time": "2023-03-07T17:56:52.637Z"
   },
   {
    "duration": 292,
    "start_time": "2023-03-07T18:17:18.278Z"
   },
   {
    "duration": 52,
    "start_time": "2023-03-07T18:17:20.679Z"
   },
   {
    "duration": 137,
    "start_time": "2023-03-07T18:18:01.234Z"
   },
   {
    "duration": 95,
    "start_time": "2023-03-07T18:18:18.823Z"
   },
   {
    "duration": 110762,
    "start_time": "2023-03-07T18:18:29.090Z"
   },
   {
    "duration": 7,
    "start_time": "2023-03-07T18:20:19.854Z"
   },
   {
    "duration": 202,
    "start_time": "2023-03-07T18:24:43.864Z"
   },
   {
    "duration": 238,
    "start_time": "2023-03-07T18:24:49.421Z"
   },
   {
    "duration": 218,
    "start_time": "2023-03-07T18:24:52.334Z"
   },
   {
    "duration": 197,
    "start_time": "2023-03-07T18:24:53.667Z"
   },
   {
    "duration": 12,
    "start_time": "2023-03-07T18:29:36.180Z"
   },
   {
    "duration": 95,
    "start_time": "2023-03-07T18:29:58.361Z"
   },
   {
    "duration": 80984,
    "start_time": "2023-03-07T18:30:58.025Z"
   },
   {
    "duration": 106,
    "start_time": "2023-03-07T18:32:34.100Z"
   },
   {
    "duration": 4,
    "start_time": "2023-03-07T19:52:38.945Z"
   },
   {
    "duration": 5,
    "start_time": "2023-03-07T19:52:38.950Z"
   },
   {
    "duration": 447,
    "start_time": "2023-03-07T19:52:38.956Z"
   },
   {
    "duration": 0,
    "start_time": "2023-03-07T19:52:39.406Z"
   },
   {
    "duration": 0,
    "start_time": "2023-03-07T19:52:39.407Z"
   },
   {
    "duration": 0,
    "start_time": "2023-03-07T19:52:39.408Z"
   },
   {
    "duration": 0,
    "start_time": "2023-03-07T19:52:39.409Z"
   },
   {
    "duration": 0,
    "start_time": "2023-03-07T19:52:39.410Z"
   },
   {
    "duration": 0,
    "start_time": "2023-03-07T19:52:39.411Z"
   },
   {
    "duration": 0,
    "start_time": "2023-03-07T19:52:39.412Z"
   },
   {
    "duration": 0,
    "start_time": "2023-03-07T19:52:39.414Z"
   },
   {
    "duration": 0,
    "start_time": "2023-03-07T19:52:39.415Z"
   },
   {
    "duration": 0,
    "start_time": "2023-03-07T19:52:39.416Z"
   },
   {
    "duration": 0,
    "start_time": "2023-03-07T19:52:39.417Z"
   },
   {
    "duration": 0,
    "start_time": "2023-03-07T19:52:39.441Z"
   },
   {
    "duration": 0,
    "start_time": "2023-03-07T19:52:39.442Z"
   },
   {
    "duration": 0,
    "start_time": "2023-03-07T19:52:39.444Z"
   },
   {
    "duration": 0,
    "start_time": "2023-03-07T19:52:39.444Z"
   },
   {
    "duration": 0,
    "start_time": "2023-03-07T19:52:39.445Z"
   },
   {
    "duration": 0,
    "start_time": "2023-03-07T19:52:39.447Z"
   },
   {
    "duration": 0,
    "start_time": "2023-03-07T19:52:39.448Z"
   },
   {
    "duration": 0,
    "start_time": "2023-03-07T19:52:39.449Z"
   },
   {
    "duration": 0,
    "start_time": "2023-03-07T19:52:39.450Z"
   },
   {
    "duration": 0,
    "start_time": "2023-03-07T19:52:39.451Z"
   },
   {
    "duration": 0,
    "start_time": "2023-03-07T19:52:39.451Z"
   },
   {
    "duration": 0,
    "start_time": "2023-03-07T19:52:39.452Z"
   },
   {
    "duration": 0,
    "start_time": "2023-03-07T19:52:39.453Z"
   },
   {
    "duration": 0,
    "start_time": "2023-03-07T19:52:39.455Z"
   },
   {
    "duration": 0,
    "start_time": "2023-03-07T19:52:39.456Z"
   },
   {
    "duration": 0,
    "start_time": "2023-03-07T19:52:39.457Z"
   },
   {
    "duration": 0,
    "start_time": "2023-03-07T19:52:39.458Z"
   },
   {
    "duration": 0,
    "start_time": "2023-03-07T19:52:39.459Z"
   },
   {
    "duration": 0,
    "start_time": "2023-03-07T19:52:39.460Z"
   },
   {
    "duration": 0,
    "start_time": "2023-03-07T19:52:39.461Z"
   },
   {
    "duration": 0,
    "start_time": "2023-03-07T19:52:39.461Z"
   },
   {
    "duration": 0,
    "start_time": "2023-03-07T19:52:39.462Z"
   },
   {
    "duration": 0,
    "start_time": "2023-03-07T19:52:39.463Z"
   },
   {
    "duration": 0,
    "start_time": "2023-03-07T19:52:39.464Z"
   },
   {
    "duration": 0,
    "start_time": "2023-03-07T19:52:39.465Z"
   },
   {
    "duration": 0,
    "start_time": "2023-03-07T19:52:39.466Z"
   },
   {
    "duration": 0,
    "start_time": "2023-03-07T19:52:39.467Z"
   },
   {
    "duration": 0,
    "start_time": "2023-03-07T19:52:39.468Z"
   },
   {
    "duration": 0,
    "start_time": "2023-03-07T19:52:39.469Z"
   },
   {
    "duration": 0,
    "start_time": "2023-03-07T19:52:39.470Z"
   },
   {
    "duration": 0,
    "start_time": "2023-03-07T19:52:39.471Z"
   },
   {
    "duration": 8527,
    "start_time": "2023-03-07T19:52:46.380Z"
   },
   {
    "duration": 3154,
    "start_time": "2023-03-07T19:52:54.909Z"
   },
   {
    "duration": 808,
    "start_time": "2023-03-07T19:52:58.065Z"
   },
   {
    "duration": 3,
    "start_time": "2023-03-07T19:52:58.875Z"
   },
   {
    "duration": 989,
    "start_time": "2023-03-07T19:52:58.879Z"
   },
   {
    "duration": 3,
    "start_time": "2023-03-07T19:52:59.870Z"
   },
   {
    "duration": 18,
    "start_time": "2023-03-07T19:53:01.607Z"
   },
   {
    "duration": 11,
    "start_time": "2023-03-07T19:53:02.185Z"
   },
   {
    "duration": 6,
    "start_time": "2023-03-07T19:53:02.260Z"
   },
   {
    "duration": 29,
    "start_time": "2023-03-07T19:53:02.342Z"
   },
   {
    "duration": 215,
    "start_time": "2023-03-07T19:53:02.433Z"
   },
   {
    "duration": 1294,
    "start_time": "2023-03-07T19:53:02.650Z"
   },
   {
    "duration": 10,
    "start_time": "2023-03-07T19:53:03.946Z"
   },
   {
    "duration": 9,
    "start_time": "2023-03-07T19:53:03.957Z"
   },
   {
    "duration": 12,
    "start_time": "2023-03-07T19:53:03.968Z"
   },
   {
    "duration": 4,
    "start_time": "2023-03-07T19:53:03.982Z"
   },
   {
    "duration": 190,
    "start_time": "2023-03-07T19:53:03.987Z"
   },
   {
    "duration": 5,
    "start_time": "2023-03-07T19:53:04.179Z"
   },
   {
    "duration": 6,
    "start_time": "2023-03-07T19:53:04.186Z"
   },
   {
    "duration": 5,
    "start_time": "2023-03-07T19:53:04.194Z"
   },
   {
    "duration": 315,
    "start_time": "2023-03-07T19:53:04.201Z"
   },
   {
    "duration": 0,
    "start_time": "2023-03-07T19:53:04.517Z"
   },
   {
    "duration": 0,
    "start_time": "2023-03-07T19:53:04.518Z"
   },
   {
    "duration": 8,
    "start_time": "2023-03-07T19:53:04.599Z"
   },
   {
    "duration": 4,
    "start_time": "2023-03-07T19:53:04.847Z"
   },
   {
    "duration": 294,
    "start_time": "2023-03-07T19:53:06.515Z"
   },
   {
    "duration": 527,
    "start_time": "2023-03-07T19:53:07.004Z"
   },
   {
    "duration": 4,
    "start_time": "2023-03-07T19:53:07.541Z"
   },
   {
    "duration": 124,
    "start_time": "2023-03-07T19:53:07.547Z"
   },
   {
    "duration": 5,
    "start_time": "2023-03-07T19:53:08.770Z"
   },
   {
    "duration": 96,
    "start_time": "2023-03-07T19:53:10.246Z"
   },
   {
    "duration": 5,
    "start_time": "2023-03-07T19:53:10.422Z"
   },
   {
    "duration": 4,
    "start_time": "2023-03-07T19:53:11.172Z"
   },
   {
    "duration": 6,
    "start_time": "2023-03-07T19:53:11.505Z"
   },
   {
    "duration": 4,
    "start_time": "2023-03-07T19:53:11.591Z"
   },
   {
    "duration": 144,
    "start_time": "2023-03-07T19:53:11.839Z"
   },
   {
    "duration": 5,
    "start_time": "2023-03-07T19:53:11.985Z"
   },
   {
    "duration": 179,
    "start_time": "2023-03-07T19:53:12.089Z"
   },
   {
    "duration": 6,
    "start_time": "2023-03-07T19:53:12.269Z"
   },
   {
    "duration": 3,
    "start_time": "2023-03-07T19:53:12.339Z"
   },
   {
    "duration": 33,
    "start_time": "2023-03-07T19:53:12.424Z"
   },
   {
    "duration": 14,
    "start_time": "2023-03-07T19:53:14.632Z"
   },
   {
    "duration": 12,
    "start_time": "2023-03-07T19:53:14.701Z"
   },
   {
    "duration": 9,
    "start_time": "2023-03-07T19:53:19.607Z"
   },
   {
    "duration": 6,
    "start_time": "2023-03-07T19:53:21.656Z"
   },
   {
    "duration": 15,
    "start_time": "2023-03-07T19:53:24.806Z"
   },
   {
    "duration": 15,
    "start_time": "2023-03-07T19:53:28.526Z"
   },
   {
    "duration": 7,
    "start_time": "2023-03-07T19:53:33.411Z"
   },
   {
    "duration": 939,
    "start_time": "2023-03-07T19:53:34.084Z"
   },
   {
    "duration": 169,
    "start_time": "2023-03-07T19:53:49.223Z"
   },
   {
    "duration": 2,
    "start_time": "2023-03-07T19:53:56.844Z"
   },
   {
    "duration": 5,
    "start_time": "2023-03-07T19:54:05.060Z"
   },
   {
    "duration": 68,
    "start_time": "2023-03-07T19:54:10.567Z"
   },
   {
    "duration": 11,
    "start_time": "2023-03-07T20:32:15.585Z"
   },
   {
    "duration": 9,
    "start_time": "2023-03-07T20:32:19.952Z"
   },
   {
    "duration": 2,
    "start_time": "2023-03-07T20:32:33.345Z"
   },
   {
    "duration": 2,
    "start_time": "2023-03-07T20:32:34.903Z"
   },
   {
    "duration": 4,
    "start_time": "2023-03-07T20:32:41.738Z"
   },
   {
    "duration": 140,
    "start_time": "2023-03-07T20:32:47.584Z"
   },
   {
    "duration": 18,
    "start_time": "2023-03-07T20:33:04.810Z"
   },
   {
    "duration": 13,
    "start_time": "2023-03-07T20:33:08.355Z"
   },
   {
    "duration": 31,
    "start_time": "2023-03-07T20:33:16.214Z"
   },
   {
    "duration": 16,
    "start_time": "2023-03-07T20:33:25.705Z"
   },
   {
    "duration": 207,
    "start_time": "2023-03-07T20:33:26.459Z"
   },
   {
    "duration": 2,
    "start_time": "2023-03-07T20:33:30.020Z"
   },
   {
    "duration": 26,
    "start_time": "2023-03-07T20:33:31.793Z"
   },
   {
    "duration": 14,
    "start_time": "2023-03-07T20:33:34.061Z"
   },
   {
    "duration": 17,
    "start_time": "2023-03-07T20:33:57.057Z"
   },
   {
    "duration": 15,
    "start_time": "2023-03-07T20:34:02.653Z"
   },
   {
    "duration": 15,
    "start_time": "2023-03-07T20:34:04.532Z"
   },
   {
    "duration": 3,
    "start_time": "2023-03-07T20:34:16.345Z"
   },
   {
    "duration": 1063,
    "start_time": "2023-03-07T20:34:16.878Z"
   },
   {
    "duration": 2,
    "start_time": "2023-03-07T20:34:20.673Z"
   },
   {
    "duration": 14,
    "start_time": "2023-03-07T20:34:20.972Z"
   },
   {
    "duration": 12,
    "start_time": "2023-03-07T20:34:21.530Z"
   },
   {
    "duration": 7,
    "start_time": "2023-03-07T20:34:22.035Z"
   },
   {
    "duration": 31,
    "start_time": "2023-03-07T20:34:22.102Z"
   },
   {
    "duration": 319,
    "start_time": "2023-03-07T20:34:22.184Z"
   },
   {
    "duration": 1150,
    "start_time": "2023-03-07T20:34:22.505Z"
   },
   {
    "duration": 10,
    "start_time": "2023-03-07T20:34:23.657Z"
   },
   {
    "duration": 15,
    "start_time": "2023-03-07T20:34:23.669Z"
   },
   {
    "duration": 21,
    "start_time": "2023-03-07T20:34:23.686Z"
   },
   {
    "duration": 18,
    "start_time": "2023-03-07T20:34:23.709Z"
   },
   {
    "duration": 168,
    "start_time": "2023-03-07T20:34:23.729Z"
   },
   {
    "duration": 4,
    "start_time": "2023-03-07T20:34:23.899Z"
   },
   {
    "duration": 33,
    "start_time": "2023-03-07T20:34:23.905Z"
   },
   {
    "duration": 15,
    "start_time": "2023-03-07T20:34:23.940Z"
   },
   {
    "duration": 27,
    "start_time": "2023-03-07T20:34:23.958Z"
   },
   {
    "duration": 24,
    "start_time": "2023-03-07T20:34:23.987Z"
   },
   {
    "duration": 3,
    "start_time": "2023-03-07T20:34:24.283Z"
   },
   {
    "duration": 5,
    "start_time": "2023-03-07T20:34:24.391Z"
   },
   {
    "duration": 4,
    "start_time": "2023-03-07T20:34:25.735Z"
   },
   {
    "duration": 102,
    "start_time": "2023-03-07T20:34:26.613Z"
   },
   {
    "duration": 354,
    "start_time": "2023-03-07T20:34:26.717Z"
   },
   {
    "duration": 4,
    "start_time": "2023-03-07T20:34:27.074Z"
   },
   {
    "duration": 123,
    "start_time": "2023-03-07T20:34:27.770Z"
   },
   {
    "duration": 4,
    "start_time": "2023-03-07T20:34:27.929Z"
   },
   {
    "duration": 85,
    "start_time": "2023-03-07T20:34:28.927Z"
   },
   {
    "duration": 6,
    "start_time": "2023-03-07T20:34:29.016Z"
   },
   {
    "duration": 4,
    "start_time": "2023-03-07T20:34:29.341Z"
   },
   {
    "duration": 5,
    "start_time": "2023-03-07T20:34:29.674Z"
   },
   {
    "duration": 3,
    "start_time": "2023-03-07T20:34:29.757Z"
   },
   {
    "duration": 219,
    "start_time": "2023-03-07T20:34:30.008Z"
   },
   {
    "duration": 5,
    "start_time": "2023-03-07T20:34:30.499Z"
   },
   {
    "duration": 115,
    "start_time": "2023-03-07T20:34:30.949Z"
   },
   {
    "duration": 5,
    "start_time": "2023-03-07T20:34:31.145Z"
   },
   {
    "duration": 3,
    "start_time": "2023-03-07T20:34:31.594Z"
   },
   {
    "duration": 22,
    "start_time": "2023-03-07T20:34:31.850Z"
   },
   {
    "duration": 10,
    "start_time": "2023-03-07T20:34:33.514Z"
   },
   {
    "duration": 3,
    "start_time": "2023-03-07T20:34:34.586Z"
   },
   {
    "duration": 10,
    "start_time": "2023-03-07T20:34:35.674Z"
   },
   {
    "duration": 9,
    "start_time": "2023-03-07T20:34:37.727Z"
   },
   {
    "duration": 8,
    "start_time": "2023-03-07T20:34:38.125Z"
   },
   {
    "duration": 410,
    "start_time": "2023-03-07T20:34:38.546Z"
   },
   {
    "duration": 159,
    "start_time": "2023-03-07T20:34:44.222Z"
   },
   {
    "duration": 3,
    "start_time": "2023-03-07T20:34:47.774Z"
   },
   {
    "duration": 20,
    "start_time": "2023-03-07T20:34:48.323Z"
   },
   {
    "duration": 9,
    "start_time": "2023-03-07T20:34:51.289Z"
   },
   {
    "duration": 11,
    "start_time": "2023-03-07T20:35:01.039Z"
   },
   {
    "duration": 3,
    "start_time": "2023-03-07T20:35:09.208Z"
   },
   {
    "duration": 197,
    "start_time": "2023-03-07T20:35:09.747Z"
   },
   {
    "duration": 17,
    "start_time": "2023-03-07T20:35:10.589Z"
   },
   {
    "duration": 6,
    "start_time": "2023-03-07T20:35:10.607Z"
   },
   {
    "duration": 27,
    "start_time": "2023-03-07T20:35:10.614Z"
   },
   {
    "duration": 160,
    "start_time": "2023-03-07T20:35:10.643Z"
   },
   {
    "duration": 546,
    "start_time": "2023-03-07T20:35:10.805Z"
   },
   {
    "duration": 11,
    "start_time": "2023-03-07T20:35:11.353Z"
   },
   {
    "duration": 31,
    "start_time": "2023-03-07T20:35:11.365Z"
   },
   {
    "duration": 8,
    "start_time": "2023-03-07T20:35:11.398Z"
   },
   {
    "duration": 4,
    "start_time": "2023-03-07T20:35:11.407Z"
   },
   {
    "duration": 5,
    "start_time": "2023-03-07T20:35:11.484Z"
   },
   {
    "duration": 5,
    "start_time": "2023-03-07T20:35:15.586Z"
   },
   {
    "duration": 2,
    "start_time": "2023-03-07T20:35:15.815Z"
   },
   {
    "duration": 1014,
    "start_time": "2023-03-07T20:35:16.404Z"
   },
   {
    "duration": 3,
    "start_time": "2023-03-07T20:35:17.420Z"
   },
   {
    "duration": 66,
    "start_time": "2023-03-07T20:35:17.425Z"
   },
   {
    "duration": 73,
    "start_time": "2023-03-07T20:35:17.494Z"
   },
   {
    "duration": 68,
    "start_time": "2023-03-07T20:35:17.570Z"
   },
   {
    "duration": 85,
    "start_time": "2023-03-07T20:35:17.640Z"
   },
   {
    "duration": 288,
    "start_time": "2023-03-07T20:35:17.727Z"
   },
   {
    "duration": 1285,
    "start_time": "2023-03-07T20:35:18.017Z"
   },
   {
    "duration": 8,
    "start_time": "2023-03-07T20:35:19.304Z"
   },
   {
    "duration": 8,
    "start_time": "2023-03-07T20:35:19.314Z"
   },
   {
    "duration": 34,
    "start_time": "2023-03-07T20:35:19.324Z"
   },
   {
    "duration": 9,
    "start_time": "2023-03-07T20:35:19.360Z"
   },
   {
    "duration": 151,
    "start_time": "2023-03-07T20:35:19.370Z"
   },
   {
    "duration": 4,
    "start_time": "2023-03-07T20:35:19.523Z"
   },
   {
    "duration": 13,
    "start_time": "2023-03-07T20:35:19.528Z"
   },
   {
    "duration": 15,
    "start_time": "2023-03-07T20:35:19.543Z"
   },
   {
    "duration": 258,
    "start_time": "2023-03-07T20:35:19.560Z"
   },
   {
    "duration": 0,
    "start_time": "2023-03-07T20:35:19.820Z"
   },
   {
    "duration": 0,
    "start_time": "2023-03-07T20:35:19.821Z"
   },
   {
    "duration": 0,
    "start_time": "2023-03-07T20:35:19.823Z"
   },
   {
    "duration": 0,
    "start_time": "2023-03-07T20:35:19.823Z"
   },
   {
    "duration": 0,
    "start_time": "2023-03-07T20:35:19.825Z"
   },
   {
    "duration": 0,
    "start_time": "2023-03-07T20:35:19.826Z"
   },
   {
    "duration": 3,
    "start_time": "2023-03-07T20:35:19.983Z"
   },
   {
    "duration": 94,
    "start_time": "2023-03-07T20:35:20.235Z"
   },
   {
    "duration": 4,
    "start_time": "2023-03-07T20:35:20.401Z"
   },
   {
    "duration": 94,
    "start_time": "2023-03-07T20:35:20.732Z"
   },
   {
    "duration": 5,
    "start_time": "2023-03-07T20:35:20.828Z"
   },
   {
    "duration": 4,
    "start_time": "2023-03-07T20:35:21.149Z"
   },
   {
    "duration": 6,
    "start_time": "2023-03-07T20:35:21.483Z"
   },
   {
    "duration": 4,
    "start_time": "2023-03-07T20:35:21.567Z"
   },
   {
    "duration": 143,
    "start_time": "2023-03-07T20:35:21.817Z"
   },
   {
    "duration": 5,
    "start_time": "2023-03-07T20:35:21.962Z"
   },
   {
    "duration": 145,
    "start_time": "2023-03-07T20:35:22.066Z"
   },
   {
    "duration": 6,
    "start_time": "2023-03-07T20:35:22.213Z"
   },
   {
    "duration": 4,
    "start_time": "2023-03-07T20:35:22.316Z"
   },
   {
    "duration": 29,
    "start_time": "2023-03-07T20:35:22.399Z"
   },
   {
    "duration": 11,
    "start_time": "2023-03-07T20:35:22.916Z"
   },
   {
    "duration": 3,
    "start_time": "2023-03-07T20:35:23.001Z"
   },
   {
    "duration": 10,
    "start_time": "2023-03-07T20:35:23.158Z"
   },
   {
    "duration": 7,
    "start_time": "2023-03-07T20:35:23.755Z"
   },
   {
    "duration": 7,
    "start_time": "2023-03-07T20:35:23.817Z"
   },
   {
    "duration": 538,
    "start_time": "2023-03-07T20:35:23.941Z"
   },
   {
    "duration": 76,
    "start_time": "2023-03-07T20:35:27.175Z"
   },
   {
    "duration": 17,
    "start_time": "2023-03-07T20:35:34.060Z"
   },
   {
    "duration": 119,
    "start_time": "2023-03-07T20:35:47.337Z"
   },
   {
    "duration": 6,
    "start_time": "2023-03-07T20:35:49.331Z"
   },
   {
    "duration": 4,
    "start_time": "2023-03-07T20:35:51.804Z"
   },
   {
    "duration": 5,
    "start_time": "2023-03-07T20:35:51.994Z"
   },
   {
    "duration": 4,
    "start_time": "2023-03-07T20:35:52.593Z"
   },
   {
    "duration": 324,
    "start_time": "2023-03-07T20:35:53.747Z"
   },
   {
    "duration": 371,
    "start_time": "2023-03-07T20:35:54.073Z"
   },
   {
    "duration": 15,
    "start_time": "2023-03-07T20:35:54.711Z"
   },
   {
    "duration": 101,
    "start_time": "2023-03-07T20:35:54.969Z"
   },
   {
    "duration": 6,
    "start_time": "2023-03-07T20:35:55.775Z"
   },
   {
    "duration": 111,
    "start_time": "2023-03-07T20:35:57.014Z"
   },
   {
    "duration": 6,
    "start_time": "2023-03-07T20:35:57.170Z"
   },
   {
    "duration": 4,
    "start_time": "2023-03-07T20:35:58.098Z"
   },
   {
    "duration": 6,
    "start_time": "2023-03-07T20:35:58.843Z"
   },
   {
    "duration": 4,
    "start_time": "2023-03-07T20:35:58.925Z"
   },
   {
    "duration": 131,
    "start_time": "2023-03-07T20:35:59.175Z"
   },
   {
    "duration": 5,
    "start_time": "2023-03-07T20:35:59.308Z"
   },
   {
    "duration": 257,
    "start_time": "2023-03-07T20:36:00.041Z"
   },
   {
    "duration": 7,
    "start_time": "2023-03-07T20:36:00.299Z"
   },
   {
    "duration": 35,
    "start_time": "2023-03-07T20:36:00.307Z"
   },
   {
    "duration": 26,
    "start_time": "2023-03-07T20:36:00.368Z"
   },
   {
    "duration": 15,
    "start_time": "2023-03-07T20:36:00.876Z"
   },
   {
    "duration": 21,
    "start_time": "2023-03-07T20:36:00.957Z"
   },
   {
    "duration": 13,
    "start_time": "2023-03-07T20:36:01.057Z"
   },
   {
    "duration": 6,
    "start_time": "2023-03-07T20:36:02.674Z"
   },
   {
    "duration": 8,
    "start_time": "2023-03-07T20:36:02.866Z"
   },
   {
    "duration": 478,
    "start_time": "2023-03-07T20:36:03.130Z"
   },
   {
    "duration": 294,
    "start_time": "2023-03-07T20:36:07.347Z"
   },
   {
    "duration": 3,
    "start_time": "2023-03-07T20:36:08.050Z"
   },
   {
    "duration": 23,
    "start_time": "2023-03-07T20:36:08.762Z"
   },
   {
    "duration": 3,
    "start_time": "2023-03-07T20:36:17.795Z"
   },
   {
    "duration": 17,
    "start_time": "2023-03-07T20:36:24.441Z"
   },
   {
    "duration": 3,
    "start_time": "2023-03-07T20:36:29.581Z"
   },
   {
    "duration": 10,
    "start_time": "2023-03-07T20:36:35.001Z"
   },
   {
    "duration": 3,
    "start_time": "2023-03-07T20:36:36.976Z"
   },
   {
    "duration": 4,
    "start_time": "2023-03-07T20:36:45.079Z"
   },
   {
    "duration": 3,
    "start_time": "2023-03-07T20:36:45.334Z"
   },
   {
    "duration": 951,
    "start_time": "2023-03-07T20:36:46.094Z"
   },
   {
    "duration": 3,
    "start_time": "2023-03-07T20:36:47.047Z"
   },
   {
    "duration": 15,
    "start_time": "2023-03-07T20:36:47.052Z"
   },
   {
    "duration": 12,
    "start_time": "2023-03-07T20:36:47.070Z"
   },
   {
    "duration": 7,
    "start_time": "2023-03-07T20:36:47.084Z"
   },
   {
    "duration": 63,
    "start_time": "2023-03-07T20:36:47.092Z"
   },
   {
    "duration": 230,
    "start_time": "2023-03-07T20:36:47.157Z"
   },
   {
    "duration": 1270,
    "start_time": "2023-03-07T20:36:47.389Z"
   },
   {
    "duration": 8,
    "start_time": "2023-03-07T20:36:48.660Z"
   },
   {
    "duration": 13,
    "start_time": "2023-03-07T20:36:48.670Z"
   },
   {
    "duration": 16,
    "start_time": "2023-03-07T20:36:48.685Z"
   },
   {
    "duration": 5,
    "start_time": "2023-03-07T20:36:48.702Z"
   },
   {
    "duration": 163,
    "start_time": "2023-03-07T20:36:48.708Z"
   },
   {
    "duration": 4,
    "start_time": "2023-03-07T20:36:48.873Z"
   },
   {
    "duration": 5,
    "start_time": "2023-03-07T20:36:48.878Z"
   },
   {
    "duration": 5,
    "start_time": "2023-03-07T20:36:48.884Z"
   },
   {
    "duration": 233,
    "start_time": "2023-03-07T20:36:48.891Z"
   },
   {
    "duration": 0,
    "start_time": "2023-03-07T20:36:49.126Z"
   },
   {
    "duration": 0,
    "start_time": "2023-03-07T20:36:49.127Z"
   },
   {
    "duration": 0,
    "start_time": "2023-03-07T20:36:49.129Z"
   },
   {
    "duration": 0,
    "start_time": "2023-03-07T20:36:49.130Z"
   },
   {
    "duration": 646,
    "start_time": "2023-03-07T20:36:49.337Z"
   },
   {
    "duration": 572,
    "start_time": "2023-03-07T20:36:49.985Z"
   },
   {
    "duration": 4,
    "start_time": "2023-03-07T20:36:50.558Z"
   },
   {
    "duration": 100,
    "start_time": "2023-03-07T20:36:50.563Z"
   },
   {
    "duration": 4,
    "start_time": "2023-03-07T20:36:50.665Z"
   },
   {
    "duration": 105,
    "start_time": "2023-03-07T20:36:50.671Z"
   },
   {
    "duration": 6,
    "start_time": "2023-03-07T20:36:51.136Z"
   },
   {
    "duration": 4,
    "start_time": "2023-03-07T20:36:51.473Z"
   },
   {
    "duration": 7,
    "start_time": "2023-03-07T20:36:51.792Z"
   },
   {
    "duration": 5,
    "start_time": "2023-03-07T20:36:51.876Z"
   },
   {
    "duration": 123,
    "start_time": "2023-03-07T20:36:52.125Z"
   },
   {
    "duration": 5,
    "start_time": "2023-03-07T20:36:52.250Z"
   },
   {
    "duration": 144,
    "start_time": "2023-03-07T20:36:53.037Z"
   },
   {
    "duration": 5,
    "start_time": "2023-03-07T20:36:53.183Z"
   },
   {
    "duration": 3,
    "start_time": "2023-03-07T20:36:58.776Z"
   },
   {
    "duration": 26,
    "start_time": "2023-03-07T20:36:59.022Z"
   },
   {
    "duration": 12,
    "start_time": "2023-03-07T20:37:00.108Z"
   },
   {
    "duration": 10,
    "start_time": "2023-03-07T20:37:00.725Z"
   },
   {
    "duration": 12,
    "start_time": "2023-03-07T20:37:05.741Z"
   },
   {
    "duration": 4,
    "start_time": "2023-03-07T20:37:12.874Z"
   },
   {
    "duration": 1196,
    "start_time": "2023-03-07T20:37:21.979Z"
   },
   {
    "duration": 3,
    "start_time": "2023-03-07T20:37:26.669Z"
   },
   {
    "duration": 1062,
    "start_time": "2023-03-07T20:37:27.370Z"
   },
   {
    "duration": 25,
    "start_time": "2023-03-07T20:37:28.434Z"
   },
   {
    "duration": 107,
    "start_time": "2023-03-07T20:37:28.461Z"
   },
   {
    "duration": 99,
    "start_time": "2023-03-07T20:37:28.570Z"
   },
   {
    "duration": 96,
    "start_time": "2023-03-07T20:37:28.671Z"
   },
   {
    "duration": 2088,
    "start_time": "2023-03-07T20:37:28.768Z"
   },
   {
    "duration": 1487,
    "start_time": "2023-03-07T20:37:30.857Z"
   },
   {
    "duration": 42,
    "start_time": "2023-03-07T20:37:32.345Z"
   },
   {
    "duration": 301,
    "start_time": "2023-03-07T20:37:32.389Z"
   },
   {
    "duration": 342,
    "start_time": "2023-03-07T20:37:32.691Z"
   },
   {
    "duration": 8,
    "start_time": "2023-03-07T20:37:33.035Z"
   },
   {
    "duration": 226,
    "start_time": "2023-03-07T20:37:33.045Z"
   },
   {
    "duration": 40,
    "start_time": "2023-03-07T20:37:33.274Z"
   },
   {
    "duration": 97,
    "start_time": "2023-03-07T20:37:33.315Z"
   },
   {
    "duration": 39,
    "start_time": "2023-03-07T20:37:33.413Z"
   },
   {
    "duration": 18442,
    "start_time": "2023-03-07T20:37:33.453Z"
   },
   {
    "duration": 80,
    "start_time": "2023-03-07T20:37:51.897Z"
   },
   {
    "duration": 23,
    "start_time": "2023-03-07T20:37:51.979Z"
   },
   {
    "duration": 6,
    "start_time": "2023-03-07T20:37:52.003Z"
   },
   {
    "duration": 35,
    "start_time": "2023-03-07T20:37:52.010Z"
   },
   {
    "duration": 3402,
    "start_time": "2023-03-07T20:37:52.047Z"
   },
   {
    "duration": 402,
    "start_time": "2023-03-07T20:37:55.451Z"
   },
   {
    "duration": 16,
    "start_time": "2023-03-07T20:37:55.854Z"
   },
   {
    "duration": 351,
    "start_time": "2023-03-07T20:37:55.872Z"
   },
   {
    "duration": 23,
    "start_time": "2023-03-07T20:37:56.224Z"
   },
   {
    "duration": 267,
    "start_time": "2023-03-07T20:37:56.249Z"
   },
   {
    "duration": 11,
    "start_time": "2023-03-07T20:37:56.518Z"
   },
   {
    "duration": 15,
    "start_time": "2023-03-07T20:37:56.541Z"
   },
   {
    "duration": 19,
    "start_time": "2023-03-07T20:37:56.558Z"
   },
   {
    "duration": 92,
    "start_time": "2023-03-07T20:37:56.579Z"
   },
   {
    "duration": 159,
    "start_time": "2023-03-07T20:37:56.673Z"
   },
   {
    "duration": 12,
    "start_time": "2023-03-07T20:37:56.833Z"
   },
   {
    "duration": 213,
    "start_time": "2023-03-07T20:37:56.847Z"
   },
   {
    "duration": 9,
    "start_time": "2023-03-07T20:37:57.062Z"
   },
   {
    "duration": 26,
    "start_time": "2023-03-07T20:37:57.075Z"
   },
   {
    "duration": 60,
    "start_time": "2023-03-07T20:37:57.103Z"
   },
   {
    "duration": 45,
    "start_time": "2023-03-07T20:37:57.166Z"
   },
   {
    "duration": 97,
    "start_time": "2023-03-07T20:37:57.213Z"
   },
   {
    "duration": 39,
    "start_time": "2023-03-07T20:37:57.312Z"
   },
   {
    "duration": 10,
    "start_time": "2023-03-07T20:37:57.352Z"
   },
   {
    "duration": 25,
    "start_time": "2023-03-07T20:37:57.364Z"
   },
   {
    "duration": 804,
    "start_time": "2023-03-07T20:38:37.588Z"
   },
   {
    "duration": 21,
    "start_time": "2023-03-07T20:38:44.740Z"
   },
   {
    "duration": 3,
    "start_time": "2023-03-07T20:38:48.619Z"
   },
   {
    "duration": 21,
    "start_time": "2023-03-07T20:38:56.326Z"
   },
   {
    "duration": 17,
    "start_time": "2023-03-07T20:39:01.193Z"
   },
   {
    "duration": 20,
    "start_time": "2023-03-07T20:39:09.716Z"
   },
   {
    "duration": 1126,
    "start_time": "2023-03-07T20:39:24.280Z"
   },
   {
    "duration": 3,
    "start_time": "2023-03-07T20:39:27.988Z"
   },
   {
    "duration": 160,
    "start_time": "2023-03-07T20:39:35.232Z"
   },
   {
    "duration": 856,
    "start_time": "2023-03-07T20:40:29.628Z"
   },
   {
    "duration": 84,
    "start_time": "2023-03-07T20:40:35.663Z"
   },
   {
    "duration": 650,
    "start_time": "2023-03-07T20:41:02.796Z"
   },
   {
    "duration": 2,
    "start_time": "2023-03-07T20:41:06.725Z"
   },
   {
    "duration": 8751,
    "start_time": "2023-03-07T20:41:25.809Z"
   },
   {
    "duration": 2,
    "start_time": "2023-03-07T20:41:34.562Z"
   },
   {
    "duration": 3,
    "start_time": "2023-03-07T20:41:37.815Z"
   },
   {
    "duration": 3,
    "start_time": "2023-03-07T20:43:18.517Z"
   },
   {
    "duration": 4433,
    "start_time": "2023-03-07T20:43:32.158Z"
   },
   {
    "duration": 3,
    "start_time": "2023-03-07T20:43:37.389Z"
   },
   {
    "duration": 862,
    "start_time": "2023-03-07T20:43:42.317Z"
   },
   {
    "duration": 3,
    "start_time": "2023-03-07T20:43:43.879Z"
   },
   {
    "duration": 576,
    "start_time": "2023-03-07T20:43:48.932Z"
   },
   {
    "duration": 4,
    "start_time": "2023-03-07T20:43:49.510Z"
   },
   {
    "duration": 1057,
    "start_time": "2023-03-07T20:43:54.035Z"
   },
   {
    "duration": 3,
    "start_time": "2023-03-07T20:43:55.094Z"
   },
   {
    "duration": 4200,
    "start_time": "2023-03-07T20:44:02.295Z"
   },
   {
    "duration": 2,
    "start_time": "2023-03-07T20:44:06.497Z"
   },
   {
    "duration": 38,
    "start_time": "2023-03-07T20:44:46.898Z"
   },
   {
    "duration": 28,
    "start_time": "2023-03-07T20:44:59.430Z"
   },
   {
    "duration": 79,
    "start_time": "2023-03-07T20:45:01.698Z"
   },
   {
    "duration": 609,
    "start_time": "2023-03-07T20:45:12.927Z"
   },
   {
    "duration": 4,
    "start_time": "2023-03-07T20:45:14.331Z"
   },
   {
    "duration": 41,
    "start_time": "2023-03-07T20:45:19.601Z"
   },
   {
    "duration": 580,
    "start_time": "2023-03-07T20:45:23.849Z"
   },
   {
    "duration": 3,
    "start_time": "2023-03-07T20:45:26.699Z"
   },
   {
    "duration": 548,
    "start_time": "2023-03-07T20:45:32.056Z"
   },
   {
    "duration": 4,
    "start_time": "2023-03-07T20:45:32.846Z"
   },
   {
    "duration": 959,
    "start_time": "2023-03-07T20:45:35.818Z"
   },
   {
    "duration": 3,
    "start_time": "2023-03-07T20:45:36.779Z"
   },
   {
    "duration": 748,
    "start_time": "2023-03-07T20:45:41.768Z"
   },
   {
    "duration": 3,
    "start_time": "2023-03-07T20:45:42.518Z"
   },
   {
    "duration": 5241,
    "start_time": "2023-03-07T20:46:03.148Z"
   },
   {
    "duration": 3,
    "start_time": "2023-03-07T20:46:08.391Z"
   },
   {
    "duration": 2600,
    "start_time": "2023-03-07T20:46:15.024Z"
   },
   {
    "duration": 3,
    "start_time": "2023-03-07T20:46:18.537Z"
   },
   {
    "duration": 5,
    "start_time": "2023-03-07T20:46:59.651Z"
   },
   {
    "duration": 738,
    "start_time": "2023-03-07T20:47:07.617Z"
   },
   {
    "duration": 18,
    "start_time": "2023-03-07T20:47:10.175Z"
   },
   {
    "duration": 539,
    "start_time": "2023-03-07T20:47:15.586Z"
   },
   {
    "duration": 3,
    "start_time": "2023-03-07T20:47:16.811Z"
   },
   {
    "duration": 2460,
    "start_time": "2023-03-07T20:47:20.700Z"
   },
   {
    "duration": 3,
    "start_time": "2023-03-07T20:47:29.461Z"
   },
   {
    "duration": 9326,
    "start_time": "2023-03-07T20:47:47.667Z"
   },
   {
    "duration": 733,
    "start_time": "2023-03-07T20:48:19.699Z"
   },
   {
    "duration": 8920,
    "start_time": "2023-03-07T20:48:25.532Z"
   },
   {
    "duration": 3,
    "start_time": "2023-03-07T20:48:34.454Z"
   },
   {
    "duration": 8785,
    "start_time": "2023-03-07T20:48:40.878Z"
   },
   {
    "duration": 2,
    "start_time": "2023-03-07T20:48:49.665Z"
   },
   {
    "duration": 571,
    "start_time": "2023-03-07T20:50:54.054Z"
   },
   {
    "duration": 800,
    "start_time": "2023-03-07T20:51:01.050Z"
   },
   {
    "duration": 4289,
    "start_time": "2023-03-07T20:51:06.267Z"
   },
   {
    "duration": 1753,
    "start_time": "2023-03-07T20:51:27.728Z"
   }
  ],
  "kernelspec": {
   "display_name": "Python 3 (ipykernel)",
   "language": "python",
   "name": "python3"
  },
  "language_info": {
   "codemirror_mode": {
    "name": "ipython",
    "version": 3
   },
   "file_extension": ".py",
   "mimetype": "text/x-python",
   "name": "python",
   "nbconvert_exporter": "python",
   "pygments_lexer": "ipython3",
   "version": "3.9.5"
  },
  "toc": {
   "base_numbering": 1,
   "nav_menu": {},
   "number_sections": true,
   "sideBar": true,
   "skip_h1_title": true,
   "title_cell": "Table of Contents",
   "title_sidebar": "Contents",
   "toc_cell": false,
   "toc_position": {
    "height": "calc(100% - 180px)",
    "left": "10px",
    "top": "150px",
    "width": "292.594px"
   },
   "toc_section_display": true,
   "toc_window_display": true
  }
 },
 "nbformat": 4,
 "nbformat_minor": 2
}
