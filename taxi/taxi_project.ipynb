{
 "cells": [
  {
   "cell_type": "markdown",
   "metadata": {
    "toc": true
   },
   "source": [
    "<h1>Содержание<span class=\"tocSkip\"></span></h1>\n",
    "<div class=\"toc\"><ul class=\"toc-item\"><li><span><a href=\"#Подготовка\" data-toc-modified-id=\"Подготовка-1\"><span class=\"toc-item-num\">1&nbsp;&nbsp;</span>Подготовка</a></span><ul class=\"toc-item\"><li><span><a href=\"#Вывод\" data-toc-modified-id=\"Вывод-1.1\"><span class=\"toc-item-num\">1.1&nbsp;&nbsp;</span>Вывод</a></span></li></ul></li><li><span><a href=\"#Анализ\" data-toc-modified-id=\"Анализ-2\"><span class=\"toc-item-num\">2&nbsp;&nbsp;</span>Анализ</a></span><ul class=\"toc-item\"><li><span><a href=\"#Вывод\" data-toc-modified-id=\"Вывод-2.1\"><span class=\"toc-item-num\">2.1&nbsp;&nbsp;</span>Вывод</a></span></li></ul></li><li><span><a href=\"#Обучение\" data-toc-modified-id=\"Обучение-3\"><span class=\"toc-item-num\">3&nbsp;&nbsp;</span>Обучение</a></span><ul class=\"toc-item\"><li><span><a href=\"#Катбуст\" data-toc-modified-id=\"Катбуст-3.1\"><span class=\"toc-item-num\">3.1&nbsp;&nbsp;</span>Катбуст</a></span></li><li><span><a href=\"#Случайный-лес\" data-toc-modified-id=\"Случайный-лес-3.2\"><span class=\"toc-item-num\">3.2&nbsp;&nbsp;</span>Случайный лес</a></span></li><li><span><a href=\"#Линейная-регрессия\" data-toc-modified-id=\"Линейная-регрессия-3.3\"><span class=\"toc-item-num\">3.3&nbsp;&nbsp;</span>Линейная регрессия</a></span></li><li><span><a href=\"#Проверка-на-адекватность\" data-toc-modified-id=\"Проверка-на-адекватность-3.4\"><span class=\"toc-item-num\">3.4&nbsp;&nbsp;</span>Проверка на адекватность</a></span></li><li><span><a href=\"#Важность-признаков\" data-toc-modified-id=\"Важность-признаков-3.5\"><span class=\"toc-item-num\">3.5&nbsp;&nbsp;</span>Важность признаков</a></span></li><li><span><a href=\"#Вывод\" data-toc-modified-id=\"Вывод-3.6\"><span class=\"toc-item-num\">3.6&nbsp;&nbsp;</span>Вывод</a></span></li></ul></li><li><span><a href=\"#Тестирование\" data-toc-modified-id=\"Тестирование-4\"><span class=\"toc-item-num\">4&nbsp;&nbsp;</span>Тестирование</a></span><ul class=\"toc-item\"><li><span><a href=\"#Проверка-на-адекватность\" data-toc-modified-id=\"Проверка-на-адекватность-4.1\"><span class=\"toc-item-num\">4.1&nbsp;&nbsp;</span>Проверка на адекватность</a></span></li><li><span><a href=\"#Вывод\" data-toc-modified-id=\"Вывод-4.2\"><span class=\"toc-item-num\">4.2&nbsp;&nbsp;</span>Вывод</a></span></li></ul></li><li><span><a href=\"#Итоговый-вывод\" data-toc-modified-id=\"Итоговый-вывод-5\"><span class=\"toc-item-num\">5&nbsp;&nbsp;</span>Итоговый вывод</a></span></li><li><span><a href=\"#Чек-лист-проверки\" data-toc-modified-id=\"Чек-лист-проверки-6\"><span class=\"toc-item-num\">6&nbsp;&nbsp;</span>Чек-лист проверки</a></span></li></ul></div>"
   ]
  },
  {
   "cell_type": "markdown",
   "metadata": {},
   "source": [
    "#  Прогнозирование заказов такси"
   ]
  },
  {
   "cell_type": "markdown",
   "metadata": {},
   "source": [
    "## Подготовка"
   ]
  },
  {
   "cell_type": "code",
   "execution_count": 1,
   "metadata": {},
   "outputs": [],
   "source": [
    "import pandas as pd\n",
    "import numpy as np\n",
    "import matplotlib.pyplot as plt\n",
    "\n",
    "from statsmodels.tsa.seasonal import seasonal_decompose\n",
    "\n",
    "from sklearn.model_selection import(\n",
    "    RandomizedSearchCV,\n",
    "    train_test_split,\n",
    "    TimeSeriesSplit\n",
    ")\n",
    "\n",
    "from sklearn.preprocessing import (\n",
    "    MinMaxScaler\n",
    ")\n",
    "\n",
    "from sklearn.metrics import mean_squared_error\n",
    "\n",
    "from sklearn.linear_model import LinearRegression\n",
    "\n",
    "from sklearn.ensemble import(\n",
    "    RandomForestRegressor\n",
    ")\n",
    "\n",
    "from catboost import (\n",
    "    CatBoostRegressor\n",
    ")"
   ]
  },
  {
   "cell_type": "code",
   "execution_count": 2,
   "metadata": {},
   "outputs": [],
   "source": [
    "data = pd.read_csv('/datasets/taxi.csv', index_col=[0], parse_dates=[0])"
   ]
  },
  {
   "cell_type": "code",
   "execution_count": 3,
   "metadata": {},
   "outputs": [],
   "source": [
    "data.sort_index(inplace=True)"
   ]
  },
  {
   "cell_type": "code",
   "execution_count": 4,
   "metadata": {},
   "outputs": [],
   "source": [
    "data = data.resample('1h').sum()"
   ]
  },
  {
   "cell_type": "code",
   "execution_count": 5,
   "metadata": {},
   "outputs": [
    {
     "data": {
      "text/html": [
       "<div>\n",
       "<style scoped>\n",
       "    .dataframe tbody tr th:only-of-type {\n",
       "        vertical-align: middle;\n",
       "    }\n",
       "\n",
       "    .dataframe tbody tr th {\n",
       "        vertical-align: top;\n",
       "    }\n",
       "\n",
       "    .dataframe thead th {\n",
       "        text-align: right;\n",
       "    }\n",
       "</style>\n",
       "<table border=\"1\" class=\"dataframe\">\n",
       "  <thead>\n",
       "    <tr style=\"text-align: right;\">\n",
       "      <th></th>\n",
       "      <th>num_orders</th>\n",
       "    </tr>\n",
       "    <tr>\n",
       "      <th>datetime</th>\n",
       "      <th></th>\n",
       "    </tr>\n",
       "  </thead>\n",
       "  <tbody>\n",
       "    <tr>\n",
       "      <th>2018-03-01 00:00:00</th>\n",
       "      <td>124</td>\n",
       "    </tr>\n",
       "    <tr>\n",
       "      <th>2018-03-01 01:00:00</th>\n",
       "      <td>85</td>\n",
       "    </tr>\n",
       "    <tr>\n",
       "      <th>2018-03-01 02:00:00</th>\n",
       "      <td>71</td>\n",
       "    </tr>\n",
       "    <tr>\n",
       "      <th>2018-03-01 03:00:00</th>\n",
       "      <td>66</td>\n",
       "    </tr>\n",
       "    <tr>\n",
       "      <th>2018-03-01 04:00:00</th>\n",
       "      <td>43</td>\n",
       "    </tr>\n",
       "  </tbody>\n",
       "</table>\n",
       "</div>"
      ],
      "text/plain": [
       "                     num_orders\n",
       "datetime                       \n",
       "2018-03-01 00:00:00         124\n",
       "2018-03-01 01:00:00          85\n",
       "2018-03-01 02:00:00          71\n",
       "2018-03-01 03:00:00          66\n",
       "2018-03-01 04:00:00          43"
      ]
     },
     "execution_count": 5,
     "metadata": {},
     "output_type": "execute_result"
    }
   ],
   "source": [
    "data.head(5)"
   ]
  },
  {
   "cell_type": "code",
   "execution_count": 6,
   "metadata": {},
   "outputs": [
    {
     "name": "stdout",
     "output_type": "stream",
     "text": [
      "<class 'pandas.core.frame.DataFrame'>\n",
      "DatetimeIndex: 4416 entries, 2018-03-01 00:00:00 to 2018-08-31 23:00:00\n",
      "Freq: H\n",
      "Data columns (total 1 columns):\n",
      " #   Column      Non-Null Count  Dtype\n",
      "---  ------      --------------  -----\n",
      " 0   num_orders  4416 non-null   int64\n",
      "dtypes: int64(1)\n",
      "memory usage: 69.0 KB\n"
     ]
    }
   ],
   "source": [
    "data.info()"
   ]
  },
  {
   "cell_type": "code",
   "execution_count": 7,
   "metadata": {},
   "outputs": [
    {
     "data": {
      "text/plain": [
       "num_orders    0\n",
       "dtype: int64"
      ]
     },
     "execution_count": 7,
     "metadata": {},
     "output_type": "execute_result"
    }
   ],
   "source": [
    "data.isna().sum()"
   ]
  },
  {
   "cell_type": "code",
   "execution_count": 8,
   "metadata": {},
   "outputs": [
    {
     "data": {
      "text/plain": [
       "True"
      ]
     },
     "execution_count": 8,
     "metadata": {},
     "output_type": "execute_result"
    }
   ],
   "source": [
    "data.index.is_monotonic"
   ]
  },
  {
   "cell_type": "markdown",
   "metadata": {},
   "source": [
    "### Вывод"
   ]
  },
  {
   "cell_type": "markdown",
   "metadata": {},
   "source": [
    "Импортированы необходимые библиотеки, данные подготовлены - прочитаны и рессемплированны по одному часу для дальнейшего анализа с суммированием заказов, в дальнейшем можно взять среднее значение и от него опираться. Пропусков нету, серьезная предобработка не требуется."
   ]
  },
  {
   "cell_type": "markdown",
   "metadata": {},
   "source": [
    "## Анализ"
   ]
  },
  {
   "cell_type": "markdown",
   "metadata": {},
   "source": [
    "Я решил посмотреть как сильно похожи дни друг на друга. Для этого я собрал корреляцию дня одного месяца с другим таким же днем, но другого месяца, а потом посмотрел стандратное отклонение и среднее значение и в целом нарисовал боксплот, проверил, на наличие выбросов."
   ]
  },
  {
   "cell_type": "code",
   "execution_count": 9,
   "metadata": {},
   "outputs": [
    {
     "data": {
      "image/png": "[encoded data removed]",
      "text/plain": [
       "<Figure size 432x288 with 1 Axes>"
      ]
     },
     "metadata": {
      "needs_background": "light"
     },
     "output_type": "display_data"
    }
   ],
   "source": [
    "data['2018-03-02':'2018-03-02'].plot();"
   ]
  },
  {
   "cell_type": "code",
   "execution_count": 10,
   "metadata": {},
   "outputs": [],
   "source": [
    "correlations = []\n",
    "for day in range(1, 31):\n",
    "    if day < 10:\n",
    "        correlations.append(pd.Series(data[f'2018-03-0{day}':f'2018-03-0{day}'].values.ravel())\n",
    "                        .corr(pd.Series(data[f'2018-04-0{day}':f'2018-04-0{day}'].values.ravel())))\n",
    "    else:\n",
    "        correlations.append(pd.Series(data[f'2018-03-{day}':f'2018-03-{day}'].values.ravel())\n",
    "                        .corr(pd.Series(data[f'2018-04-{day}':f'2018-04-{day}'].values.ravel())))"
   ]
  },
  {
   "cell_type": "code",
   "execution_count": 11,
   "metadata": {},
   "outputs": [
    {
     "data": {
      "text/plain": [
       "0.5458387357267268"
      ]
     },
     "execution_count": 11,
     "metadata": {},
     "output_type": "execute_result"
    }
   ],
   "source": [
    "np.mean(correlations)"
   ]
  },
  {
   "cell_type": "code",
   "execution_count": 12,
   "metadata": {},
   "outputs": [
    {
     "data": {
      "text/plain": [
       "0.1355405210976782"
      ]
     },
     "execution_count": 12,
     "metadata": {},
     "output_type": "execute_result"
    }
   ],
   "source": [
    "np.std(correlations)"
   ]
  },
  {
   "cell_type": "code",
   "execution_count": 13,
   "metadata": {},
   "outputs": [
    {
     "data": {
      "image/png": "[encoded data removed]",
      "text/plain": [
       "<Figure size 432x288 with 1 Axes>"
      ]
     },
     "metadata": {
      "needs_background": "light"
     },
     "output_type": "display_data"
    }
   ],
   "source": [
    "plt.boxplot(correlations);"
   ]
  },
  {
   "cell_type": "code",
   "execution_count": 14,
   "metadata": {},
   "outputs": [
    {
     "data": {
      "text/plain": [
       "<AxesSubplot:xlabel='datetime'>"
      ]
     },
     "execution_count": 14,
     "metadata": {},
     "output_type": "execute_result"
    },
    {
     "data": {
      "image/png": "[encoded data removed]",
      "text/plain": [
       "<Figure size 432x288 with 1 Axes>"
      ]
     },
     "metadata": {
      "needs_background": "light"
     },
     "output_type": "display_data"
    }
   ],
   "source": [
    "data.plot()"
   ]
  },
  {
   "cell_type": "code",
   "execution_count": 15,
   "metadata": {},
   "outputs": [],
   "source": [
    "decomposed = seasonal_decompose(data)"
   ]
  },
  {
   "cell_type": "code",
   "execution_count": 16,
   "metadata": {},
   "outputs": [
    {
     "data": {
      "image/png": "[encoded data removed]",
      "text/plain": [
       "<Figure size 1080x720 with 1 Axes>"
      ]
     },
     "metadata": {
      "needs_background": "light"
     },
     "output_type": "display_data"
    }
   ],
   "source": [
    "decomposed.trend.plot(ax=plt.gca(), figsize=(15, 10), fontsize=12).set_title('\\n'+'Тренд за все время'+'\\n', fontsize=17);"
   ]
  },
  {
   "cell_type": "code",
   "execution_count": 17,
   "metadata": {},
   "outputs": [
    {
     "data": {
      "image/png": "[encoded data removed]",
      "text/plain": [
       "<Figure size 1080x720 with 1 Axes>"
      ]
     },
     "metadata": {
      "needs_background": "light"
     },
     "output_type": "display_data"
    }
   ],
   "source": [
    "decomposed.trend['2018-03-02':'2018-03-09'].plot(ax=plt.gca(), figsize=(15, 10)).set_title('\\n'+'Тренд за неделю'+'\\n', fontsize=17);"
   ]
  },
  {
   "cell_type": "code",
   "execution_count": 18,
   "metadata": {},
   "outputs": [
    {
     "data": {
      "image/png": "[encoded data removed]",
      "text/plain": [
       "<Figure size 1080x720 with 1 Axes>"
      ]
     },
     "metadata": {
      "needs_background": "light"
     },
     "output_type": "display_data"
    }
   ],
   "source": [
    "decomposed.seasonal['2018-03-02':'2018-03-09'].plot(ax=plt.gca(), figsize=(15, 10)).set_title('\\n'+'Сезонность за неделю'+'\\n', fontsize=17);"
   ]
  },
  {
   "cell_type": "code",
   "execution_count": 19,
   "metadata": {},
   "outputs": [
    {
     "data": {
      "image/png": "[encoded data removed]",
      "text/plain": [
       "<Figure size 1080x720 with 1 Axes>"
      ]
     },
     "metadata": {
      "needs_background": "light"
     },
     "output_type": "display_data"
    }
   ],
   "source": [
    "decomposed.resid['2018-03-02':'2018-03-09'].plot(ax=plt.gca(), figsize=(15, 10)).set_title('\\n'+'Остатки за неделю'+'\\n', fontsize=17);"
   ]
  },
  {
   "cell_type": "markdown",
   "metadata": {},
   "source": [
    "### Вывод"
   ]
  },
  {
   "cell_type": "markdown",
   "metadata": {},
   "source": [
    "Можно сказать, что по результатам проведенного анализа дни похожи друг на друга, и не сильно зависят от месяца, главное учитывать, что количество заказов растет, это связано, вероянто, с тем, что сервис развивается и им пользуются все больше людей. Это не может не оказать влияние на результаты обучения и в дальнейшем это необходимо учитывать.\n",
    "\n",
    "Также очевидна зависимость от дня недели, видна четкая сезонность по неделе. В целом существуют выбросы в датасете, слишком мало или слишком много заказов такси, например, из-за исключительных, праздничных дней. Попробую при обучении нивелировать данный момент, но не гарантирую, что получится.\n",
    "\n",
    "Заказы зависят от времени суток и дня недели."
   ]
  },
  {
   "cell_type": "markdown",
   "metadata": {},
   "source": [
    "## Обучение"
   ]
  },
  {
   "cell_type": "code",
   "execution_count": 20,
   "metadata": {},
   "outputs": [],
   "source": [
    "'''\n",
    "Извини, что запутано, сам хотел как можно проще решить эту проблему, а именно возврата строки \n",
    "утро, день, вечер, ночь в зависимости от времени, пришлось делать так как сделал, но проблему решил\n",
    "Пришлось делать две функции и первую вызывать из второй, это немного неправильно, конечно.\n",
    "'''\n",
    "\n",
    "def make_features(data, max_lag, rolling_mean_size):\n",
    "    data['dayofweek'] = data.index.dayofweek\n",
    "    data['hour'] = data.index.hour\n",
    "    \n",
    "    for lag in range(1, max_lag + 1):\n",
    "        data['lag_{}'.format(lag)] = data['num_orders'].shift(lag)\n",
    "        \n",
    "    data['rolling_mean'] = data['num_orders'].shift().rolling(rolling_mean_size).mean()\n",
    "\n",
    "    return data"
   ]
  },
  {
   "cell_type": "code",
   "execution_count": 21,
   "metadata": {
    "scrolled": false
   },
   "outputs": [
    {
     "data": {
      "text/html": [
       "<div>\n",
       "<style scoped>\n",
       "    .dataframe tbody tr th:only-of-type {\n",
       "        vertical-align: middle;\n",
       "    }\n",
       "\n",
       "    .dataframe tbody tr th {\n",
       "        vertical-align: top;\n",
       "    }\n",
       "\n",
       "    .dataframe thead th {\n",
       "        text-align: right;\n",
       "    }\n",
       "</style>\n",
       "<table border=\"1\" class=\"dataframe\">\n",
       "  <thead>\n",
       "    <tr style=\"text-align: right;\">\n",
       "      <th></th>\n",
       "      <th>num_orders</th>\n",
       "      <th>dayofweek</th>\n",
       "      <th>hour</th>\n",
       "      <th>lag_1</th>\n",
       "      <th>lag_2</th>\n",
       "      <th>lag_3</th>\n",
       "      <th>lag_4</th>\n",
       "      <th>lag_5</th>\n",
       "      <th>lag_6</th>\n",
       "      <th>lag_7</th>\n",
       "      <th>...</th>\n",
       "      <th>lag_16</th>\n",
       "      <th>lag_17</th>\n",
       "      <th>lag_18</th>\n",
       "      <th>lag_19</th>\n",
       "      <th>lag_20</th>\n",
       "      <th>lag_21</th>\n",
       "      <th>lag_22</th>\n",
       "      <th>lag_23</th>\n",
       "      <th>lag_24</th>\n",
       "      <th>rolling_mean</th>\n",
       "    </tr>\n",
       "    <tr>\n",
       "      <th>datetime</th>\n",
       "      <th></th>\n",
       "      <th></th>\n",
       "      <th></th>\n",
       "      <th></th>\n",
       "      <th></th>\n",
       "      <th></th>\n",
       "      <th></th>\n",
       "      <th></th>\n",
       "      <th></th>\n",
       "      <th></th>\n",
       "      <th></th>\n",
       "      <th></th>\n",
       "      <th></th>\n",
       "      <th></th>\n",
       "      <th></th>\n",
       "      <th></th>\n",
       "      <th></th>\n",
       "      <th></th>\n",
       "      <th></th>\n",
       "      <th></th>\n",
       "      <th></th>\n",
       "    </tr>\n",
       "  </thead>\n",
       "  <tbody>\n",
       "    <tr>\n",
       "      <th>2018-03-01 00:00:00</th>\n",
       "      <td>124</td>\n",
       "      <td>3</td>\n",
       "      <td>0</td>\n",
       "      <td>NaN</td>\n",
       "      <td>NaN</td>\n",
       "      <td>NaN</td>\n",
       "      <td>NaN</td>\n",
       "      <td>NaN</td>\n",
       "      <td>NaN</td>\n",
       "      <td>NaN</td>\n",
       "      <td>...</td>\n",
       "      <td>NaN</td>\n",
       "      <td>NaN</td>\n",
       "      <td>NaN</td>\n",
       "      <td>NaN</td>\n",
       "      <td>NaN</td>\n",
       "      <td>NaN</td>\n",
       "      <td>NaN</td>\n",
       "      <td>NaN</td>\n",
       "      <td>NaN</td>\n",
       "      <td>NaN</td>\n",
       "    </tr>\n",
       "    <tr>\n",
       "      <th>2018-03-01 01:00:00</th>\n",
       "      <td>85</td>\n",
       "      <td>3</td>\n",
       "      <td>1</td>\n",
       "      <td>124.0</td>\n",
       "      <td>NaN</td>\n",
       "      <td>NaN</td>\n",
       "      <td>NaN</td>\n",
       "      <td>NaN</td>\n",
       "      <td>NaN</td>\n",
       "      <td>NaN</td>\n",
       "      <td>...</td>\n",
       "      <td>NaN</td>\n",
       "      <td>NaN</td>\n",
       "      <td>NaN</td>\n",
       "      <td>NaN</td>\n",
       "      <td>NaN</td>\n",
       "      <td>NaN</td>\n",
       "      <td>NaN</td>\n",
       "      <td>NaN</td>\n",
       "      <td>NaN</td>\n",
       "      <td>NaN</td>\n",
       "    </tr>\n",
       "    <tr>\n",
       "      <th>2018-03-01 02:00:00</th>\n",
       "      <td>71</td>\n",
       "      <td>3</td>\n",
       "      <td>2</td>\n",
       "      <td>85.0</td>\n",
       "      <td>124.0</td>\n",
       "      <td>NaN</td>\n",
       "      <td>NaN</td>\n",
       "      <td>NaN</td>\n",
       "      <td>NaN</td>\n",
       "      <td>NaN</td>\n",
       "      <td>...</td>\n",
       "      <td>NaN</td>\n",
       "      <td>NaN</td>\n",
       "      <td>NaN</td>\n",
       "      <td>NaN</td>\n",
       "      <td>NaN</td>\n",
       "      <td>NaN</td>\n",
       "      <td>NaN</td>\n",
       "      <td>NaN</td>\n",
       "      <td>NaN</td>\n",
       "      <td>NaN</td>\n",
       "    </tr>\n",
       "  </tbody>\n",
       "</table>\n",
       "<p>3 rows × 28 columns</p>\n",
       "</div>"
      ],
      "text/plain": [
       "                     num_orders  dayofweek  hour  lag_1  lag_2  lag_3  lag_4  \\\n",
       "datetime                                                                       \n",
       "2018-03-01 00:00:00         124          3     0    NaN    NaN    NaN    NaN   \n",
       "2018-03-01 01:00:00          85          3     1  124.0    NaN    NaN    NaN   \n",
       "2018-03-01 02:00:00          71          3     2   85.0  124.0    NaN    NaN   \n",
       "\n",
       "                     lag_5  lag_6  lag_7  ...  lag_16  lag_17  lag_18  lag_19  \\\n",
       "datetime                                  ...                                   \n",
       "2018-03-01 00:00:00    NaN    NaN    NaN  ...     NaN     NaN     NaN     NaN   \n",
       "2018-03-01 01:00:00    NaN    NaN    NaN  ...     NaN     NaN     NaN     NaN   \n",
       "2018-03-01 02:00:00    NaN    NaN    NaN  ...     NaN     NaN     NaN     NaN   \n",
       "\n",
       "                     lag_20  lag_21  lag_22  lag_23  lag_24  rolling_mean  \n",
       "datetime                                                                   \n",
       "2018-03-01 00:00:00     NaN     NaN     NaN     NaN     NaN           NaN  \n",
       "2018-03-01 01:00:00     NaN     NaN     NaN     NaN     NaN           NaN  \n",
       "2018-03-01 02:00:00     NaN     NaN     NaN     NaN     NaN           NaN  \n",
       "\n",
       "[3 rows x 28 columns]"
      ]
     },
     "execution_count": 21,
     "metadata": {},
     "output_type": "execute_result"
    }
   ],
   "source": [
    "make_features(data, 24, 60)[:3]"
   ]
  },
  {
   "cell_type": "markdown",
   "metadata": {},
   "source": [
    "Так как важность фичей показало что лаги от 2 д 23 включительно, оказали наименьшее влияние, решил их удалить, для оптимизации."
   ]
  },
  {
   "cell_type": "code",
   "execution_count": 22,
   "metadata": {},
   "outputs": [],
   "source": [
    "data = data.drop(data.loc[:, 'lag_2':'lag_23'].columns, axis=1)"
   ]
  },
  {
   "cell_type": "code",
   "execution_count": 23,
   "metadata": {},
   "outputs": [],
   "source": [
    "train, test = train_test_split(data, shuffle=False, test_size=0.1)\n",
    "train = train.dropna()\n",
    "\n",
    "features_train = train.drop(['num_orders'], axis=1)\n",
    "target_train = train['num_orders']\n",
    "\n",
    "features_test = test.drop(['num_orders'], axis=1)\n",
    "target_test = test['num_orders']"
   ]
  },
  {
   "cell_type": "code",
   "execution_count": 24,
   "metadata": {},
   "outputs": [
    {
     "data": {
      "text/plain": [
       "(3914, 5)"
      ]
     },
     "metadata": {},
     "output_type": "display_data"
    },
    {
     "data": {
      "text/plain": [
       "(3914,)"
      ]
     },
     "metadata": {},
     "output_type": "display_data"
    },
    {
     "data": {
      "text/plain": [
       "(442, 5)"
      ]
     },
     "metadata": {},
     "output_type": "display_data"
    },
    {
     "data": {
      "text/plain": [
       "(442,)"
      ]
     },
     "metadata": {},
     "output_type": "display_data"
    }
   ],
   "source": [
    "display(features_train.shape, target_train.shape, features_test.shape, target_test.shape)"
   ]
  },
  {
   "cell_type": "markdown",
   "metadata": {},
   "source": [
    "### Катбуст"
   ]
  },
  {
   "cell_type": "markdown",
   "metadata": {},
   "source": [
    "Обучать буду модель катбуст, думаю ее одной достаточно."
   ]
  },
  {
   "cell_type": "code",
   "execution_count": 71,
   "metadata": {},
   "outputs": [
    {
     "data": {
      "application/vnd.jupyter.widget-view+json": {
       "model_id": "2a7c8f8523d14dee9a4e243c65c9952f",
       "version_major": 2,
       "version_minor": 0
      },
      "text/plain": [
       "MetricVisualizer(layout=Layout(align_self='stretch', height='500px'))"
      ]
     },
     "metadata": {},
     "output_type": "display_data"
    },
    {
     "name": "stdout",
     "output_type": "stream",
     "text": [
      "0:\tlearn: 38.1278899\ttotal: 892us\tremaining: 892ms\n",
      "200:\tlearn: 23.4028843\ttotal: 148ms\tremaining: 588ms\n",
      "400:\tlearn: 21.8225041\ttotal: 295ms\tremaining: 441ms\n",
      "600:\tlearn: 20.6095683\ttotal: 461ms\tremaining: 306ms\n",
      "800:\tlearn: 19.7599202\ttotal: 619ms\tremaining: 154ms\n",
      "999:\tlearn: 19.1092049\ttotal: 774ms\tremaining: 0us\n",
      "CPU times: user 867 ms, sys: 81.9 ms, total: 949 ms\n",
      "Wall time: 1.77 s\n"
     ]
    },
    {
     "data": {
      "text/plain": [
       "<catboost.core.CatBoostRegressor at 0x7f94841ff250>"
      ]
     },
     "execution_count": 71,
     "metadata": {},
     "output_type": "execute_result"
    }
   ],
   "source": [
    "%%time\n",
    "\n",
    "cb_model = CatBoostRegressor(loss_function='RMSE',\n",
    "                          #task_type=\"GPU\",\n",
    "                          #devices='0:1',\n",
    "                          iterations=1000,\n",
    "                          depth=4,\n",
    "                          learning_rate=0.03)\n",
    "\n",
    "cb_model.fit(features_train, target_train, verbose=200, plot=True)"
   ]
  },
  {
   "cell_type": "markdown",
   "metadata": {},
   "source": [
    "### Случайный лес"
   ]
  },
  {
   "cell_type": "code",
   "execution_count": 26,
   "metadata": {},
   "outputs": [
    {
     "name": "stdout",
     "output_type": "stream",
     "text": [
      "RMSE on VALID: -24.5727\n",
      "CPU times: user 19.2 s, sys: 70.4 ms, total: 19.3 s\n",
      "Wall time: 19.3 s\n"
     ]
    }
   ],
   "source": [
    "%%time\n",
    "\n",
    "tscv = TimeSeriesSplit(n_splits=10)\n",
    "\n",
    "parameters = {\n",
    "    'n_estimators': range(50, 251, 5),\n",
    "    'max_depth': range(2, 30),\n",
    "    'min_samples_leaf': range(1, 6)\n",
    "}\n",
    "\n",
    "model_random_forest = RandomForestRegressor(random_state=12345)\n",
    "\n",
    "search = RandomizedSearchCV(model_random_forest, parameters, n_iter=5, cv=tscv, scoring='neg_root_mean_squared_error')\n",
    "search.fit(features_train, target_train)\n",
    "results = search.cv_results_\n",
    "\n",
    "print('RMSE on VALID:', '%.4f' %search.best_score_)"
   ]
  },
  {
   "cell_type": "markdown",
   "metadata": {},
   "source": [
    "Качество такое себе, плюс подбор значений долгий, уменьшу количество итераций, чтобы тебе не ждать долго, если решишь заупстить код."
   ]
  },
  {
   "cell_type": "markdown",
   "metadata": {},
   "source": [
    "### Линейная регрессия"
   ]
  },
  {
   "cell_type": "code",
   "execution_count": 27,
   "metadata": {},
   "outputs": [
    {
     "name": "stdout",
     "output_type": "stream",
     "text": [
      "RMSE on VALID: -29.1229\n",
      "CPU times: user 14.4 ms, sys: 227 µs, total: 14.6 ms\n",
      "Wall time: 18.5 ms\n"
     ]
    }
   ],
   "source": [
    "%%time\n",
    "\n",
    "scaler = MinMaxScaler()\n",
    "X_train = scaler.fit_transform(features_train)\n",
    "\n",
    "tscv = TimeSeriesSplit(n_splits=2)\n",
    "\n",
    "parameters = {\n",
    "    'positive':[False]\n",
    "}\n",
    "\n",
    "model_line = LinearRegression()\n",
    "\n",
    "search_line = RandomizedSearchCV(model_line, parameters, n_iter=1, cv=tscv, scoring='neg_root_mean_squared_error')\n",
    "search_line.fit(X_train, target_train)\n",
    "results = search_line.cv_results_\n",
    "\n",
    "print('RMSE on VALID:', '%.4f' %search_line.best_score_)"
   ]
  },
  {
   "cell_type": "markdown",
   "metadata": {},
   "source": [
    "### Проверка на адекватность"
   ]
  },
  {
   "cell_type": "code",
   "execution_count": 28,
   "metadata": {},
   "outputs": [
    {
     "data": {
      "text/plain": [
       "36.2252364625901"
      ]
     },
     "execution_count": 28,
     "metadata": {},
     "output_type": "execute_result"
    }
   ],
   "source": [
    "pred_dummy1 = target_train.shift()\n",
    "pred_dummy1.iloc[0] = target_train.iloc[-1]\n",
    "np.sqrt(mean_squared_error(target_train, pred_dummy1))"
   ]
  },
  {
   "cell_type": "code",
   "execution_count": 29,
   "metadata": {},
   "outputs": [
    {
     "data": {
      "text/plain": [
       "38.67192139960377"
      ]
     },
     "execution_count": 29,
     "metadata": {},
     "output_type": "execute_result"
    }
   ],
   "source": [
    "pred_dummy2 = [target_train.mean()] * len(target_train)\n",
    "np.sqrt(mean_squared_error(target_train, pred_dummy2))"
   ]
  },
  {
   "cell_type": "markdown",
   "metadata": {},
   "source": [
    "### Важность признаков"
   ]
  },
  {
   "cell_type": "code",
   "execution_count": 30,
   "metadata": {},
   "outputs": [
    {
     "data": {
      "image/png": "[encoded data removed]",
      "text/plain": [
       "<Figure size 864x432 with 1 Axes>"
      ]
     },
     "metadata": {},
     "output_type": "display_data"
    }
   ],
   "source": [
    "fig, ax = plt.subplots()\n",
    "\n",
    "feature_importance = pd.Series(dict(zip(features_train.columns, cb_model.get_feature_importance()))).sort_values(ascending=False)\n",
    "\n",
    "ax.bar(feature_importance.index, feature_importance.values)\n",
    "\n",
    "ax.set_facecolor('seashell')\n",
    "fig.set_facecolor('floralwhite')\n",
    "fig.set_figwidth(12)    #  ширина Figure\n",
    "fig.set_figheight(6)    #  высота Figure\n",
    "plt.title('\\n'+'Важность признаков'+'\\n', fontsize=22)\n",
    "plt.ylabel('Важность', fontsize=17)\n",
    "plt.xlabel('Признаки', fontsize=17)\n",
    "\n",
    "plt.show()"
   ]
  },
  {
   "cell_type": "markdown",
   "metadata": {},
   "source": [
    "### Вывод"
   ]
  },
  {
   "cell_type": "markdown",
   "metadata": {},
   "source": [
    "В процессе обучения добавил признаки, удалил лишние, добавил категорию - время суток - утро, день и т.д. Модель катбуст обучилась с ошибкой примерно 25 заказов на валидационных данных, думаю, лучше вряд ли получится в данный момент с таким подходом. Модель прошла несколько проверок на адекватность и доказала предиктивную силу. Просмотрена важность признаков"
   ]
  },
  {
   "cell_type": "markdown",
   "metadata": {},
   "source": [
    "## Тестирование"
   ]
  },
  {
   "cell_type": "code",
   "execution_count": 72,
   "metadata": {},
   "outputs": [
    {
     "data": {
      "text/plain": [
       "44.06856192893891"
      ]
     },
     "execution_count": 72,
     "metadata": {},
     "output_type": "execute_result"
    }
   ],
   "source": [
    "pred_test = cb_model.predict(features_test)\n",
    "np.sqrt(mean_squared_error(target_test, pred_test))"
   ]
  },
  {
   "cell_type": "markdown",
   "metadata": {},
   "source": [
    "### Проверка на адекватность"
   ]
  },
  {
   "cell_type": "code",
   "execution_count": 32,
   "metadata": {},
   "outputs": [
    {
     "data": {
      "text/plain": [
       "58.856486242815066"
      ]
     },
     "execution_count": 32,
     "metadata": {},
     "output_type": "execute_result"
    }
   ],
   "source": [
    "pred_dummy1 = target_test.shift()\n",
    "pred_dummy1.iloc[0] = target_train.iloc[-1]\n",
    "np.sqrt(mean_squared_error(target_test, pred_dummy1))"
   ]
  },
  {
   "cell_type": "code",
   "execution_count": 33,
   "metadata": {},
   "outputs": [
    {
     "data": {
      "text/plain": [
       "58.549609354757315"
      ]
     },
     "execution_count": 33,
     "metadata": {},
     "output_type": "execute_result"
    }
   ],
   "source": [
    "pred_dummy2 = [target_test.mean()] * len(target_test)\n",
    "np.sqrt(mean_squared_error(target_test, pred_dummy2))"
   ]
  },
  {
   "cell_type": "markdown",
   "metadata": {},
   "source": [
    "### Вывод"
   ]
  },
  {
   "cell_type": "markdown",
   "metadata": {},
   "source": [
    "Модель прошла тестирование и соответствует минимальным требованиям - не более 48 заказов ошибка, корень из средней квадратичной ошибки. Модель прошла проверку на адекватность на тестовых данных."
   ]
  },
  {
   "cell_type": "markdown",
   "metadata": {},
   "source": [
    "## Итоговый вывод"
   ]
  },
  {
   "cell_type": "markdown",
   "metadata": {},
   "source": [
    "В ходе работы, произведены работы над признаками для модели, выполнено рессемпилирование по каждому часу, в качестве агрегирующей функции - суммирование заказов, добавлены признаки:\n",
    " - Скользящая средняя\n",
    " - Лаги единица и двадцать третий номер периода остальные удалены из-за малой важности\n",
    " - Время дня - утро, день, вечер, ночь\n",
    " - Номер дня недели\n",
    " - Номер дня месяца\n",
    "\n",
    "Была выбрана модель катбуст в качестве основной и единственной модели для обучения, есть возможность улучшить качество, для этого требуется изменить минимальные требования. Улучшить можно если выделить больше времени на обучение. \n",
    "\n",
    "Модель прошла проверки на адекватность при обучении и тестировании и показала предиктивную силу на тесте - чуть более 47 заказов ошибка, на валидационных данных - чуть более 22 заказов. Наиболее важный признак - 24 лаг (смещение на 24 строки)"
   ]
  },
  {
   "cell_type": "code",
   "execution_count": 34,
   "metadata": {},
   "outputs": [
    {
     "data": {
      "image/png": "[encoded data removed]",
      "text/plain": [
       "<Figure size 1296x720 with 1 Axes>"
      ]
     },
     "metadata": {
      "needs_background": "light"
     },
     "output_type": "display_data"
    }
   ],
   "source": [
    "plt.figure(figsize=(18, 10))\n",
    "plt.plot(target_test.index, \n",
    "         target_test, \n",
    "         'b-', \n",
    "         target_test.index, \n",
    "         pred_test,\n",
    "         'r-');"
   ]
  },
  {
   "cell_type": "markdown",
   "metadata": {},
   "source": [
    "Как видно, модель неплохо отрабатывает небольшие вслески, но плохо отрабатывает большие колебания (какие-нибудь праздничные дни, когда вечером заказов много и люди пьяные, но понятно, модель не знает этого), также модель себя не очень хорошо показывает в обычные часы, создается впечатление, что она преуменьшает количество заказов (как раз таки из-за выбросов в датасете), возможно, в реальной работе, если бы не существовало бы концпеции глубокого обучения нейросетей, можно было бы автоматически завышать результат, выдаваемый моделью, что повышения точности предсказания в обычные дни."
   ]
  },
  {
   "cell_type": "markdown",
   "metadata": {},
   "source": [
    "***\n"
   ]
  },
  {
   "cell_type": "markdown",
   "metadata": {},
   "source": [
    "## Чек-лист проверки"
   ]
  },
  {
   "cell_type": "markdown",
   "metadata": {},
   "source": [
    "- [x]  Jupyter Notebook открыт\n",
    "- [x]  Весь код выполняется без ошибок\n",
    "- [x]  Ячейки с кодом расположены в порядке исполнения\n",
    "- [x]  Данные загружены и подготовлены\n",
    "- [x]  Данные проанализированы\n",
    "- [x]  Модель обучена, гиперпараметры подобраны\n",
    "- [x]  Качество моделей проверено, выводы сделаны\n",
    "- [x]  Значение *RMSE* на тестовой выборке не больше 48"
   ]
  },
  {
   "cell_type": "code",
   "execution_count": null,
   "metadata": {},
   "outputs": [],
   "source": []
  }
 ],
 "metadata": {
  "ExecuteTimeLog": [
   {
    "duration": 469,
    "start_time": "2023-03-08T20:04:31.312Z"
   },
   {
    "duration": 123,
    "start_time": "2023-03-08T20:04:59.312Z"
   },
   {
    "duration": 167,
    "start_time": "2023-03-08T20:05:10.826Z"
   },
   {
    "duration": 16,
    "start_time": "2023-03-08T20:05:14.619Z"
   },
   {
    "duration": 45,
    "start_time": "2023-03-08T20:05:51.884Z"
   },
   {
    "duration": 9,
    "start_time": "2023-03-08T20:05:52.618Z"
   },
   {
    "duration": 11,
    "start_time": "2023-03-08T20:06:01.290Z"
   },
   {
    "duration": 3,
    "start_time": "2023-03-08T20:09:40.134Z"
   },
   {
    "duration": 10,
    "start_time": "2023-03-08T20:09:46.485Z"
   },
   {
    "duration": 402,
    "start_time": "2023-03-09T12:19:44.676Z"
   },
   {
    "duration": 175,
    "start_time": "2023-03-09T12:19:54.791Z"
   },
   {
    "duration": 4,
    "start_time": "2023-03-09T12:20:18.880Z"
   },
   {
    "duration": 16,
    "start_time": "2023-03-09T12:20:22.087Z"
   },
   {
    "duration": 11,
    "start_time": "2023-03-09T12:20:25.383Z"
   },
   {
    "duration": 6,
    "start_time": "2023-03-09T12:22:30.773Z"
   },
   {
    "duration": 4,
    "start_time": "2023-03-09T12:22:32.806Z"
   },
   {
    "duration": 46000,
    "start_time": "2023-03-09T12:22:54.369Z"
   },
   {
    "duration": 0,
    "start_time": "2023-03-09T12:23:40.371Z"
   },
   {
    "duration": 9,
    "start_time": "2023-03-09T12:23:42.692Z"
   },
   {
    "duration": 3,
    "start_time": "2023-03-09T12:23:52.217Z"
   },
   {
    "duration": 50,
    "start_time": "2023-03-09T12:23:52.558Z"
   },
   {
    "duration": 4,
    "start_time": "2023-03-09T12:23:53.036Z"
   },
   {
    "duration": 10,
    "start_time": "2023-03-09T12:23:53.420Z"
   },
   {
    "duration": 12,
    "start_time": "2023-03-09T12:23:54.325Z"
   },
   {
    "duration": 11,
    "start_time": "2023-03-09T12:23:56.920Z"
   },
   {
    "duration": 334,
    "start_time": "2023-03-09T12:23:58.085Z"
   },
   {
    "duration": 7,
    "start_time": "2023-03-09T12:24:11.160Z"
   },
   {
    "duration": 225,
    "start_time": "2023-03-09T12:24:11.806Z"
   },
   {
    "duration": 62,
    "start_time": "2023-03-09T12:24:21.598Z"
   },
   {
    "duration": 3,
    "start_time": "2023-03-09T12:24:21.893Z"
   },
   {
    "duration": 8,
    "start_time": "2023-03-09T12:24:30.686Z"
   },
   {
    "duration": 276,
    "start_time": "2023-03-09T12:24:31.173Z"
   },
   {
    "duration": 6,
    "start_time": "2023-03-09T12:24:42.076Z"
   },
   {
    "duration": 241,
    "start_time": "2023-03-09T12:24:42.427Z"
   },
   {
    "duration": 7,
    "start_time": "2023-03-09T12:24:49.337Z"
   },
   {
    "duration": 309,
    "start_time": "2023-03-09T12:24:50.219Z"
   },
   {
    "duration": 49,
    "start_time": "2023-03-09T12:24:57.737Z"
   },
   {
    "duration": 4,
    "start_time": "2023-03-09T12:24:58.110Z"
   },
   {
    "duration": 6,
    "start_time": "2023-03-09T12:24:58.571Z"
   },
   {
    "duration": 529,
    "start_time": "2023-03-09T12:24:59.222Z"
   },
   {
    "duration": 323,
    "start_time": "2023-03-09T12:27:42.362Z"
   },
   {
    "duration": 195,
    "start_time": "2023-03-09T12:27:55.879Z"
   },
   {
    "duration": 139,
    "start_time": "2023-03-09T12:28:48.876Z"
   },
   {
    "duration": 154,
    "start_time": "2023-03-09T12:29:14.836Z"
   },
   {
    "duration": 163,
    "start_time": "2023-03-09T12:29:52.789Z"
   },
   {
    "duration": 8,
    "start_time": "2023-03-09T12:35:20.639Z"
   },
   {
    "duration": 174,
    "start_time": "2023-03-09T12:35:22.053Z"
   },
   {
    "duration": 49,
    "start_time": "2023-03-09T12:35:25.539Z"
   },
   {
    "duration": 3,
    "start_time": "2023-03-09T12:35:25.865Z"
   },
   {
    "duration": 8,
    "start_time": "2023-03-09T12:35:26.251Z"
   },
   {
    "duration": 207,
    "start_time": "2023-03-09T12:35:26.617Z"
   },
   {
    "duration": 16,
    "start_time": "2023-03-09T12:37:12.537Z"
   },
   {
    "duration": 9,
    "start_time": "2023-03-09T12:38:10.343Z"
   },
   {
    "duration": 5,
    "start_time": "2023-03-09T12:38:14.159Z"
   },
   {
    "duration": 8,
    "start_time": "2023-03-09T12:38:28.994Z"
   },
   {
    "duration": 4,
    "start_time": "2023-03-09T12:38:29.352Z"
   },
   {
    "duration": 9,
    "start_time": "2023-03-09T12:38:36.993Z"
   },
   {
    "duration": 4,
    "start_time": "2023-03-09T12:39:00.230Z"
   },
   {
    "duration": 5,
    "start_time": "2023-03-09T12:43:02.307Z"
   },
   {
    "duration": 16,
    "start_time": "2023-03-09T12:46:57.954Z"
   },
   {
    "duration": 11,
    "start_time": "2023-03-09T12:51:51.744Z"
   },
   {
    "duration": 10,
    "start_time": "2023-03-09T12:52:09.737Z"
   },
   {
    "duration": 776,
    "start_time": "2023-03-09T12:52:19.899Z"
   },
   {
    "duration": 14,
    "start_time": "2023-03-09T12:52:27.721Z"
   },
   {
    "duration": 8,
    "start_time": "2023-03-09T12:52:30.434Z"
   },
   {
    "duration": 9,
    "start_time": "2023-03-09T12:52:51.951Z"
   },
   {
    "duration": 9,
    "start_time": "2023-03-09T12:53:27.191Z"
   },
   {
    "duration": 9,
    "start_time": "2023-03-09T12:54:08.095Z"
   },
   {
    "duration": 6,
    "start_time": "2023-03-09T12:54:10.758Z"
   },
   {
    "duration": 9,
    "start_time": "2023-03-09T12:54:11.293Z"
   },
   {
    "duration": 9,
    "start_time": "2023-03-09T12:54:36.883Z"
   },
   {
    "duration": 10,
    "start_time": "2023-03-09T12:54:37.875Z"
   },
   {
    "duration": 13,
    "start_time": "2023-03-09T12:55:14.937Z"
   },
   {
    "duration": 7,
    "start_time": "2023-03-09T12:56:58.645Z"
   },
   {
    "duration": 13,
    "start_time": "2023-03-09T13:00:17.719Z"
   },
   {
    "duration": 10,
    "start_time": "2023-03-09T13:00:24.315Z"
   },
   {
    "duration": 7,
    "start_time": "2023-03-09T13:00:42.533Z"
   },
   {
    "duration": 4,
    "start_time": "2023-03-09T13:01:07.402Z"
   },
   {
    "duration": 5,
    "start_time": "2023-03-09T13:01:09.596Z"
   },
   {
    "duration": 5,
    "start_time": "2023-03-09T13:01:25.855Z"
   },
   {
    "duration": 1265,
    "start_time": "2023-03-09T13:07:36.055Z"
   },
   {
    "duration": 38,
    "start_time": "2023-03-09T13:07:53.922Z"
   },
   {
    "duration": 8,
    "start_time": "2023-03-09T13:08:02.467Z"
   },
   {
    "duration": 4,
    "start_time": "2023-03-09T13:08:19.358Z"
   },
   {
    "duration": 3,
    "start_time": "2023-03-09T13:08:37.895Z"
   },
   {
    "duration": 1019,
    "start_time": "2023-03-09T13:15:33.497Z"
   },
   {
    "duration": 90,
    "start_time": "2023-03-09T13:15:53.694Z"
   },
   {
    "duration": 7,
    "start_time": "2023-03-09T13:15:55.948Z"
   },
   {
    "duration": 4,
    "start_time": "2023-03-09T13:16:03.349Z"
   },
   {
    "duration": 8,
    "start_time": "2023-03-09T13:18:06.139Z"
   },
   {
    "duration": 6,
    "start_time": "2023-03-09T13:18:11.822Z"
   },
   {
    "duration": 4,
    "start_time": "2023-03-09T13:18:18.208Z"
   },
   {
    "duration": 6,
    "start_time": "2023-03-09T13:18:33.182Z"
   },
   {
    "duration": 3,
    "start_time": "2023-03-09T13:18:59.479Z"
   },
   {
    "duration": 14,
    "start_time": "2023-03-09T13:19:19.219Z"
   },
   {
    "duration": 94,
    "start_time": "2023-03-09T13:19:25.975Z"
   },
   {
    "duration": 101,
    "start_time": "2023-03-09T13:19:40.872Z"
   },
   {
    "duration": 2528,
    "start_time": "2023-03-09T13:23:22.514Z"
   },
   {
    "duration": 5,
    "start_time": "2023-03-09T13:23:36.867Z"
   },
   {
    "duration": 1065,
    "start_time": "2023-03-10T14:36:50.222Z"
   },
   {
    "duration": 292,
    "start_time": "2023-03-10T14:36:52.217Z"
   },
   {
    "duration": 15,
    "start_time": "2023-03-10T14:36:52.560Z"
   },
   {
    "duration": 13,
    "start_time": "2023-03-10T14:36:52.905Z"
   },
   {
    "duration": 245,
    "start_time": "2023-03-10T14:36:55.716Z"
   },
   {
    "duration": 152,
    "start_time": "2023-03-10T14:37:20.522Z"
   },
   {
    "duration": 5,
    "start_time": "2023-03-10T14:37:21.884Z"
   },
   {
    "duration": 111,
    "start_time": "2023-03-10T14:37:23.994Z"
   },
   {
    "duration": 5,
    "start_time": "2023-03-10T14:38:22.803Z"
   },
   {
    "duration": 150,
    "start_time": "2023-03-10T15:00:25.331Z"
   },
   {
    "duration": 583,
    "start_time": "2023-03-10T15:01:58.492Z"
   },
   {
    "duration": 354,
    "start_time": "2023-03-10T15:02:12.001Z"
   },
   {
    "duration": 11,
    "start_time": "2023-03-10T15:02:25.494Z"
   },
   {
    "duration": 389,
    "start_time": "2023-03-10T15:02:32.113Z"
   },
   {
    "duration": 435,
    "start_time": "2023-03-10T15:03:08.882Z"
   },
   {
    "duration": 433,
    "start_time": "2023-03-10T15:03:40.465Z"
   },
   {
    "duration": 45,
    "start_time": "2023-03-10T15:05:24.668Z"
   },
   {
    "duration": 240,
    "start_time": "2023-03-10T15:05:55.380Z"
   },
   {
    "duration": 266,
    "start_time": "2023-03-10T15:06:07.427Z"
   },
   {
    "duration": 305,
    "start_time": "2023-03-10T15:06:29.222Z"
   },
   {
    "duration": 242,
    "start_time": "2023-03-10T15:07:34.849Z"
   },
   {
    "duration": 274,
    "start_time": "2023-03-10T15:10:48.821Z"
   },
   {
    "duration": 230,
    "start_time": "2023-03-10T15:11:39.581Z"
   },
   {
    "duration": 281,
    "start_time": "2023-03-10T16:19:35.356Z"
   },
   {
    "duration": 296,
    "start_time": "2023-03-10T16:20:02.766Z"
   },
   {
    "duration": 361,
    "start_time": "2023-03-10T16:20:46.655Z"
   },
   {
    "duration": 349,
    "start_time": "2023-03-10T16:20:55.744Z"
   },
   {
    "duration": 248,
    "start_time": "2023-03-10T16:21:07.355Z"
   },
   {
    "duration": 274,
    "start_time": "2023-03-10T16:21:19.284Z"
   },
   {
    "duration": 94,
    "start_time": "2023-03-10T16:22:06.955Z"
   },
   {
    "duration": 216,
    "start_time": "2023-03-10T16:22:16.947Z"
   },
   {
    "duration": 78,
    "start_time": "2023-03-10T16:23:11.463Z"
   },
   {
    "duration": 82,
    "start_time": "2023-03-10T16:23:31.517Z"
   },
   {
    "duration": 251,
    "start_time": "2023-03-10T16:23:41.625Z"
   },
   {
    "duration": 85,
    "start_time": "2023-03-10T16:24:14.098Z"
   },
   {
    "duration": 218,
    "start_time": "2023-03-10T16:24:19.053Z"
   },
   {
    "duration": 211,
    "start_time": "2023-03-10T16:24:55.324Z"
   },
   {
    "duration": 242,
    "start_time": "2023-03-10T16:25:00.405Z"
   },
   {
    "duration": 390,
    "start_time": "2023-03-10T16:25:19.775Z"
   },
   {
    "duration": 212,
    "start_time": "2023-03-10T16:25:27.525Z"
   },
   {
    "duration": 210,
    "start_time": "2023-03-10T16:25:32.413Z"
   },
   {
    "duration": 3,
    "start_time": "2023-03-10T16:31:16.785Z"
   },
   {
    "duration": 52,
    "start_time": "2023-03-10T16:31:17.077Z"
   },
   {
    "duration": 4,
    "start_time": "2023-03-10T16:31:17.395Z"
   },
   {
    "duration": 7,
    "start_time": "2023-03-10T16:31:17.716Z"
   },
   {
    "duration": 146,
    "start_time": "2023-03-10T16:31:20.356Z"
   },
   {
    "duration": 94,
    "start_time": "2023-03-10T16:31:29.866Z"
   },
   {
    "duration": 6,
    "start_time": "2023-03-10T16:31:30.433Z"
   },
   {
    "duration": 4,
    "start_time": "2023-03-10T16:31:30.626Z"
   },
   {
    "duration": 100,
    "start_time": "2023-03-10T16:31:30.877Z"
   },
   {
    "duration": 8,
    "start_time": "2023-03-10T16:31:31.100Z"
   },
   {
    "duration": 295,
    "start_time": "2023-03-10T16:31:31.303Z"
   },
   {
    "duration": 222,
    "start_time": "2023-03-10T16:31:31.600Z"
   },
   {
    "duration": 223,
    "start_time": "2023-03-10T16:31:31.824Z"
   },
   {
    "duration": 248,
    "start_time": "2023-03-10T16:31:32.049Z"
   },
   {
    "duration": 8,
    "start_time": "2023-03-10T16:41:38.806Z"
   },
   {
    "duration": 381,
    "start_time": "2023-03-10T16:41:59.719Z"
   },
   {
    "duration": 1237,
    "start_time": "2023-03-10T16:42:49.055Z"
   },
   {
    "duration": 48,
    "start_time": "2023-03-10T16:42:50.293Z"
   },
   {
    "duration": 3,
    "start_time": "2023-03-10T16:42:50.343Z"
   },
   {
    "duration": 15,
    "start_time": "2023-03-10T16:42:50.348Z"
   },
   {
    "duration": 161,
    "start_time": "2023-03-10T16:42:50.365Z"
   },
   {
    "duration": 96,
    "start_time": "2023-03-10T16:42:50.539Z"
   },
   {
    "duration": 4,
    "start_time": "2023-03-10T16:42:50.636Z"
   },
   {
    "duration": 11,
    "start_time": "2023-03-10T16:42:50.642Z"
   },
   {
    "duration": 92,
    "start_time": "2023-03-10T16:42:50.654Z"
   },
   {
    "duration": 7,
    "start_time": "2023-03-10T16:42:50.749Z"
   },
   {
    "duration": 323,
    "start_time": "2023-03-10T16:42:50.758Z"
   },
   {
    "duration": 198,
    "start_time": "2023-03-10T16:42:51.083Z"
   },
   {
    "duration": 222,
    "start_time": "2023-03-10T16:42:51.283Z"
   },
   {
    "duration": 210,
    "start_time": "2023-03-10T16:42:51.507Z"
   },
   {
    "duration": 9,
    "start_time": "2023-03-10T16:48:37.442Z"
   },
   {
    "duration": 7,
    "start_time": "2023-03-10T16:48:45.721Z"
   },
   {
    "duration": 117,
    "start_time": "2023-03-10T16:48:58.701Z"
   },
   {
    "duration": 16,
    "start_time": "2023-03-10T16:49:02.599Z"
   },
   {
    "duration": 7,
    "start_time": "2023-03-10T16:49:15.798Z"
   },
   {
    "duration": 104,
    "start_time": "2023-03-10T16:51:31.370Z"
   },
   {
    "duration": 4,
    "start_time": "2023-03-10T16:51:32.287Z"
   },
   {
    "duration": 5,
    "start_time": "2023-03-10T16:51:32.974Z"
   },
   {
    "duration": 92,
    "start_time": "2023-03-10T16:51:33.984Z"
   },
   {
    "duration": 4,
    "start_time": "2023-03-10T17:04:44.506Z"
   },
   {
    "duration": 5,
    "start_time": "2023-03-10T17:06:22.522Z"
   },
   {
    "duration": 4,
    "start_time": "2023-03-10T18:08:50.097Z"
   },
   {
    "duration": 7,
    "start_time": "2023-03-10T18:23:32.428Z"
   },
   {
    "duration": 22,
    "start_time": "2023-03-10T18:23:58.020Z"
   },
   {
    "duration": 5,
    "start_time": "2023-03-10T18:24:30.861Z"
   },
   {
    "duration": 6,
    "start_time": "2023-03-10T18:24:35.421Z"
   },
   {
    "duration": 18,
    "start_time": "2023-03-10T18:24:42.105Z"
   },
   {
    "duration": 5,
    "start_time": "2023-03-10T18:24:45.722Z"
   },
   {
    "duration": 5,
    "start_time": "2023-03-10T18:24:50.838Z"
   },
   {
    "duration": 7,
    "start_time": "2023-03-10T18:25:11.197Z"
   },
   {
    "duration": 6,
    "start_time": "2023-03-10T18:25:42.909Z"
   },
   {
    "duration": 4,
    "start_time": "2023-03-10T18:30:31.616Z"
   },
   {
    "duration": 5,
    "start_time": "2023-03-10T18:30:53.699Z"
   },
   {
    "duration": 5,
    "start_time": "2023-03-10T18:31:01.396Z"
   },
   {
    "duration": 8,
    "start_time": "2023-03-10T18:31:11.636Z"
   },
   {
    "duration": 16,
    "start_time": "2023-03-10T18:31:13.771Z"
   },
   {
    "duration": 1198,
    "start_time": "2023-03-10T18:32:55.003Z"
   },
   {
    "duration": 6,
    "start_time": "2023-03-10T18:33:04.496Z"
   },
   {
    "duration": 12,
    "start_time": "2023-03-10T18:33:07.955Z"
   },
   {
    "duration": 5,
    "start_time": "2023-03-10T18:33:10.806Z"
   },
   {
    "duration": 5,
    "start_time": "2023-03-10T18:33:52.018Z"
   },
   {
    "duration": 5,
    "start_time": "2023-03-10T18:33:55.913Z"
   },
   {
    "duration": 6,
    "start_time": "2023-03-10T18:34:00.443Z"
   },
   {
    "duration": 6,
    "start_time": "2023-03-10T18:34:08.459Z"
   },
   {
    "duration": 78,
    "start_time": "2023-03-10T18:36:40.063Z"
   },
   {
    "duration": 10,
    "start_time": "2023-03-10T18:37:36.561Z"
   },
   {
    "duration": 18,
    "start_time": "2023-03-10T18:37:57.415Z"
   },
   {
    "duration": 14,
    "start_time": "2023-03-10T18:38:22.944Z"
   },
   {
    "duration": 122,
    "start_time": "2023-03-10T18:38:47.055Z"
   },
   {
    "duration": 5,
    "start_time": "2023-03-10T18:39:38.349Z"
   },
   {
    "duration": 4,
    "start_time": "2023-03-10T18:39:55.807Z"
   },
   {
    "duration": 11,
    "start_time": "2023-03-10T18:40:01.221Z"
   },
   {
    "duration": 4,
    "start_time": "2023-03-10T18:40:12.200Z"
   },
   {
    "duration": 4,
    "start_time": "2023-03-10T18:40:33.422Z"
   },
   {
    "duration": 9,
    "start_time": "2023-03-10T18:40:41.290Z"
   },
   {
    "duration": 9,
    "start_time": "2023-03-10T18:40:48.721Z"
   },
   {
    "duration": 9,
    "start_time": "2023-03-10T18:41:10.272Z"
   },
   {
    "duration": 6,
    "start_time": "2023-03-10T18:46:58.182Z"
   },
   {
    "duration": 1392,
    "start_time": "2023-03-10T18:47:29.736Z"
   },
   {
    "duration": 52,
    "start_time": "2023-03-10T18:47:31.130Z"
   },
   {
    "duration": 4,
    "start_time": "2023-03-10T18:47:31.183Z"
   },
   {
    "duration": 23,
    "start_time": "2023-03-10T18:47:31.189Z"
   },
   {
    "duration": 37,
    "start_time": "2023-03-10T18:47:31.214Z"
   },
   {
    "duration": 26,
    "start_time": "2023-03-10T18:47:31.253Z"
   },
   {
    "duration": 21,
    "start_time": "2023-03-10T18:47:31.281Z"
   },
   {
    "duration": 185,
    "start_time": "2023-03-10T18:47:31.304Z"
   },
   {
    "duration": 104,
    "start_time": "2023-03-10T18:47:31.491Z"
   },
   {
    "duration": 4,
    "start_time": "2023-03-10T18:47:31.597Z"
   },
   {
    "duration": 18,
    "start_time": "2023-03-10T18:47:31.602Z"
   },
   {
    "duration": 92,
    "start_time": "2023-03-10T18:47:31.621Z"
   },
   {
    "duration": 16,
    "start_time": "2023-03-10T18:47:31.715Z"
   },
   {
    "duration": 292,
    "start_time": "2023-03-10T18:47:31.733Z"
   },
   {
    "duration": 227,
    "start_time": "2023-03-10T18:47:32.027Z"
   },
   {
    "duration": 208,
    "start_time": "2023-03-10T18:47:32.256Z"
   },
   {
    "duration": 219,
    "start_time": "2023-03-10T18:47:32.466Z"
   },
   {
    "duration": 8,
    "start_time": "2023-03-10T18:47:32.687Z"
   },
   {
    "duration": 115,
    "start_time": "2023-03-10T18:47:32.696Z"
   },
   {
    "duration": 6,
    "start_time": "2023-03-10T18:48:04.001Z"
   },
   {
    "duration": 52,
    "start_time": "2023-03-10T18:48:05.440Z"
   },
   {
    "duration": 39,
    "start_time": "2023-03-10T18:49:46.377Z"
   },
   {
    "duration": 32,
    "start_time": "2023-03-10T18:49:52.821Z"
   },
   {
    "duration": 9,
    "start_time": "2023-03-10T18:54:02.568Z"
   },
   {
    "duration": 16,
    "start_time": "2023-03-10T18:57:16.247Z"
   },
   {
    "duration": 12,
    "start_time": "2023-03-10T18:57:23.190Z"
   },
   {
    "duration": 40,
    "start_time": "2023-03-10T18:58:58.627Z"
   },
   {
    "duration": 73,
    "start_time": "2023-03-10T18:59:19.261Z"
   },
   {
    "duration": 7,
    "start_time": "2023-03-10T19:01:06.142Z"
   },
   {
    "duration": 7,
    "start_time": "2023-03-10T19:01:40.483Z"
   },
   {
    "duration": 44,
    "start_time": "2023-03-10T19:02:25.567Z"
   },
   {
    "duration": 14,
    "start_time": "2023-03-10T19:03:20.731Z"
   },
   {
    "duration": 60,
    "start_time": "2023-03-10T19:03:33.710Z"
   },
   {
    "duration": 12,
    "start_time": "2023-03-10T19:03:51.154Z"
   },
   {
    "duration": 27,
    "start_time": "2023-03-10T19:03:55.274Z"
   },
   {
    "duration": 11,
    "start_time": "2023-03-10T19:04:43.157Z"
   },
   {
    "duration": 409,
    "start_time": "2023-03-10T19:05:04.450Z"
   },
   {
    "duration": 15,
    "start_time": "2023-03-10T19:05:09.852Z"
   },
   {
    "duration": 46,
    "start_time": "2023-03-10T19:05:32.692Z"
   },
   {
    "duration": 12,
    "start_time": "2023-03-10T19:05:53.089Z"
   },
   {
    "duration": 5,
    "start_time": "2023-03-10T19:07:18.739Z"
   },
   {
    "duration": 21,
    "start_time": "2023-03-10T19:08:03.279Z"
   },
   {
    "duration": 24,
    "start_time": "2023-03-10T19:08:46.798Z"
   },
   {
    "duration": 31,
    "start_time": "2023-03-10T19:08:53.032Z"
   },
   {
    "duration": 6,
    "start_time": "2023-03-10T19:13:18.302Z"
   },
   {
    "duration": 14,
    "start_time": "2023-03-10T19:13:21.510Z"
   },
   {
    "duration": 10,
    "start_time": "2023-03-10T19:13:22.774Z"
   },
   {
    "duration": 103,
    "start_time": "2023-03-10T19:14:27.382Z"
   },
   {
    "duration": 68,
    "start_time": "2023-03-10T19:14:31.967Z"
   },
   {
    "duration": 72866,
    "start_time": "2023-03-10T19:14:39.240Z"
   },
   {
    "duration": 1058,
    "start_time": "2023-03-10T19:16:49.944Z"
   },
   {
    "duration": 1057,
    "start_time": "2023-03-10T19:17:12.204Z"
   },
   {
    "duration": 1670,
    "start_time": "2023-03-10T19:17:30.358Z"
   },
   {
    "duration": 1046,
    "start_time": "2023-03-10T19:17:41.847Z"
   },
   {
    "duration": 1508,
    "start_time": "2023-03-10T19:17:55.734Z"
   },
   {
    "duration": 1054,
    "start_time": "2023-03-10T19:18:06.682Z"
   },
   {
    "duration": 812,
    "start_time": "2023-03-10T19:18:23.862Z"
   },
   {
    "duration": 7,
    "start_time": "2023-03-10T19:31:54.139Z"
   },
   {
    "duration": 6,
    "start_time": "2023-03-10T19:32:33.417Z"
   },
   {
    "duration": 6,
    "start_time": "2023-03-10T19:33:32.823Z"
   },
   {
    "duration": 4,
    "start_time": "2023-03-10T19:39:18.236Z"
   },
   {
    "duration": 5,
    "start_time": "2023-03-10T19:40:31.101Z"
   },
   {
    "duration": 4,
    "start_time": "2023-03-10T19:40:41.910Z"
   },
   {
    "duration": 20,
    "start_time": "2023-03-10T19:41:10.244Z"
   },
   {
    "duration": 20,
    "start_time": "2023-03-10T19:41:20.784Z"
   },
   {
    "duration": 6,
    "start_time": "2023-03-10T19:42:24.942Z"
   },
   {
    "duration": 3,
    "start_time": "2023-03-10T19:43:08.205Z"
   },
   {
    "duration": 130,
    "start_time": "2023-03-10T19:44:32.531Z"
   },
   {
    "duration": 114,
    "start_time": "2023-03-10T19:44:59.057Z"
   },
   {
    "duration": 127,
    "start_time": "2023-03-10T19:47:33.401Z"
   },
   {
    "duration": 6,
    "start_time": "2023-03-10T19:50:06.980Z"
   },
   {
    "duration": 1638,
    "start_time": "2023-03-10T19:51:18.746Z"
   },
   {
    "duration": 8,
    "start_time": "2023-03-10T19:51:25.844Z"
   },
   {
    "duration": 6,
    "start_time": "2023-03-10T19:51:26.504Z"
   },
   {
    "duration": 128,
    "start_time": "2023-03-10T19:51:35.473Z"
   },
   {
    "duration": 7,
    "start_time": "2023-03-10T19:51:45.103Z"
   },
   {
    "duration": 1980,
    "start_time": "2023-03-10T19:52:26.372Z"
   },
   {
    "duration": 1776,
    "start_time": "2023-03-10T19:52:43.708Z"
   },
   {
    "duration": 17,
    "start_time": "2023-03-10T20:03:10.638Z"
   },
   {
    "duration": 6,
    "start_time": "2023-03-10T20:03:43.658Z"
   },
   {
    "duration": 6,
    "start_time": "2023-03-10T20:04:26.886Z"
   },
   {
    "duration": 6,
    "start_time": "2023-03-10T20:04:52.118Z"
   },
   {
    "duration": 1421,
    "start_time": "2023-03-10T20:09:36.348Z"
   },
   {
    "duration": 49,
    "start_time": "2023-03-10T20:09:37.771Z"
   },
   {
    "duration": 3,
    "start_time": "2023-03-10T20:09:37.821Z"
   },
   {
    "duration": 12,
    "start_time": "2023-03-10T20:09:37.827Z"
   },
   {
    "duration": 9,
    "start_time": "2023-03-10T20:09:37.841Z"
   },
   {
    "duration": 11,
    "start_time": "2023-03-10T20:09:37.851Z"
   },
   {
    "duration": 6,
    "start_time": "2023-03-10T20:09:37.863Z"
   },
   {
    "duration": 174,
    "start_time": "2023-03-10T20:09:37.870Z"
   },
   {
    "duration": 111,
    "start_time": "2023-03-10T20:09:38.046Z"
   },
   {
    "duration": 4,
    "start_time": "2023-03-10T20:09:38.160Z"
   },
   {
    "duration": 8,
    "start_time": "2023-03-10T20:09:38.166Z"
   },
   {
    "duration": 105,
    "start_time": "2023-03-10T20:09:38.176Z"
   },
   {
    "duration": 8,
    "start_time": "2023-03-10T20:09:38.282Z"
   },
   {
    "duration": 296,
    "start_time": "2023-03-10T20:09:38.292Z"
   },
   {
    "duration": 272,
    "start_time": "2023-03-10T20:09:38.590Z"
   },
   {
    "duration": 234,
    "start_time": "2023-03-10T20:09:38.864Z"
   },
   {
    "duration": 219,
    "start_time": "2023-03-10T20:09:39.099Z"
   },
   {
    "duration": 13,
    "start_time": "2023-03-10T20:09:39.320Z"
   },
   {
    "duration": 48,
    "start_time": "2023-03-10T20:09:39.335Z"
   },
   {
    "duration": 6,
    "start_time": "2023-03-10T20:09:39.385Z"
   },
   {
    "duration": 7,
    "start_time": "2023-03-10T20:09:39.393Z"
   },
   {
    "duration": 10,
    "start_time": "2023-03-10T20:09:39.401Z"
   },
   {
    "duration": 21,
    "start_time": "2023-03-10T20:09:39.412Z"
   },
   {
    "duration": 1729,
    "start_time": "2023-03-10T20:09:39.435Z"
   },
   {
    "duration": 6,
    "start_time": "2023-03-10T20:09:41.166Z"
   },
   {
    "duration": 8,
    "start_time": "2023-03-10T20:09:41.174Z"
   },
   {
    "duration": 137,
    "start_time": "2023-03-10T20:09:41.184Z"
   },
   {
    "duration": 9,
    "start_time": "2023-03-10T20:09:41.324Z"
   },
   {
    "duration": 6,
    "start_time": "2023-03-10T20:09:41.334Z"
   },
   {
    "duration": 6,
    "start_time": "2023-03-10T20:09:41.341Z"
   },
   {
    "duration": 2831,
    "start_time": "2023-03-11T20:10:19.379Z"
   },
   {
    "duration": 642,
    "start_time": "2023-03-11T20:10:22.212Z"
   },
   {
    "duration": 15,
    "start_time": "2023-03-11T20:10:22.863Z"
   },
   {
    "duration": 30,
    "start_time": "2023-03-11T20:10:22.882Z"
   },
   {
    "duration": 38,
    "start_time": "2023-03-11T20:10:22.915Z"
   },
   {
    "duration": 38,
    "start_time": "2023-03-11T20:10:22.955Z"
   },
   {
    "duration": 10,
    "start_time": "2023-03-11T20:10:23.002Z"
   },
   {
    "duration": 42,
    "start_time": "2023-03-11T20:10:23.015Z"
   },
   {
    "duration": 51,
    "start_time": "2023-03-12T11:54:27.930Z"
   },
   {
    "duration": 1767,
    "start_time": "2023-03-12T11:54:33.450Z"
   },
   {
    "duration": 363,
    "start_time": "2023-03-12T11:54:35.220Z"
   },
   {
    "duration": 3,
    "start_time": "2023-03-12T11:54:35.585Z"
   },
   {
    "duration": 16,
    "start_time": "2023-03-12T11:54:35.590Z"
   },
   {
    "duration": 12,
    "start_time": "2023-03-12T11:54:35.608Z"
   },
   {
    "duration": 19,
    "start_time": "2023-03-12T11:54:35.622Z"
   },
   {
    "duration": 38,
    "start_time": "2023-03-12T11:54:35.643Z"
   },
   {
    "duration": 21,
    "start_time": "2023-03-12T11:54:35.683Z"
   },
   {
    "duration": 215,
    "start_time": "2023-03-12T11:54:35.706Z"
   },
   {
    "duration": 138,
    "start_time": "2023-03-12T11:54:35.924Z"
   },
   {
    "duration": 4,
    "start_time": "2023-03-12T11:54:36.068Z"
   },
   {
    "duration": 5,
    "start_time": "2023-03-12T11:54:36.074Z"
   },
   {
    "duration": 114,
    "start_time": "2023-03-12T11:54:36.081Z"
   },
   {
    "duration": 235,
    "start_time": "2023-03-12T11:54:39.048Z"
   },
   {
    "duration": 4,
    "start_time": "2023-03-12T12:01:37.220Z"
   },
   {
    "duration": 46,
    "start_time": "2023-03-12T12:01:37.226Z"
   },
   {
    "duration": 4,
    "start_time": "2023-03-12T12:01:37.274Z"
   },
   {
    "duration": 8,
    "start_time": "2023-03-12T12:01:37.280Z"
   },
   {
    "duration": 7,
    "start_time": "2023-03-12T12:01:37.290Z"
   },
   {
    "duration": 11,
    "start_time": "2023-03-12T12:01:37.299Z"
   },
   {
    "duration": 45,
    "start_time": "2023-03-12T12:01:37.311Z"
   },
   {
    "duration": 7,
    "start_time": "2023-03-12T12:01:37.358Z"
   },
   {
    "duration": 287,
    "start_time": "2023-03-12T12:01:37.369Z"
   },
   {
    "duration": 123,
    "start_time": "2023-03-12T12:01:37.658Z"
   },
   {
    "duration": 5,
    "start_time": "2023-03-12T12:01:37.783Z"
   },
   {
    "duration": 6,
    "start_time": "2023-03-12T12:01:37.790Z"
   },
   {
    "duration": 115,
    "start_time": "2023-03-12T12:01:37.797Z"
   },
   {
    "duration": 255,
    "start_time": "2023-03-12T12:01:37.914Z"
   },
   {
    "duration": 12,
    "start_time": "2023-03-12T12:01:38.171Z"
   },
   {
    "duration": 318,
    "start_time": "2023-03-12T12:01:38.185Z"
   },
   {
    "duration": 256,
    "start_time": "2023-03-12T12:01:38.506Z"
   },
   {
    "duration": 274,
    "start_time": "2023-03-12T12:01:38.764Z"
   },
   {
    "duration": 229,
    "start_time": "2023-03-12T12:01:39.039Z"
   },
   {
    "duration": 5,
    "start_time": "2023-03-12T12:01:39.270Z"
   },
   {
    "duration": 44,
    "start_time": "2023-03-12T12:01:39.276Z"
   },
   {
    "duration": 31,
    "start_time": "2023-03-12T12:01:39.322Z"
   },
   {
    "duration": 15,
    "start_time": "2023-03-12T12:01:39.356Z"
   },
   {
    "duration": 9,
    "start_time": "2023-03-12T12:01:39.375Z"
   },
   {
    "duration": 1297,
    "start_time": "2023-03-12T12:01:46.141Z"
   },
   {
    "duration": 2007,
    "start_time": "2023-03-12T12:03:01.008Z"
   },
   {
    "duration": 3303,
    "start_time": "2023-03-12T12:03:28.319Z"
   },
   {
    "duration": 49,
    "start_time": "2023-03-12T12:10:13.234Z"
   },
   {
    "duration": 4,
    "start_time": "2023-03-12T12:11:15.178Z"
   },
   {
    "duration": 87,
    "start_time": "2023-03-12T12:13:23.580Z"
   },
   {
    "duration": 43530,
    "start_time": "2023-03-12T12:13:35.337Z"
   },
   {
    "duration": 43870,
    "start_time": "2023-03-12T12:15:11.598Z"
   },
   {
    "duration": 36,
    "start_time": "2023-03-12T12:17:17.590Z"
   },
   {
    "duration": 8,
    "start_time": "2023-03-12T12:17:23.985Z"
   },
   {
    "duration": 34,
    "start_time": "2023-03-12T12:17:29.681Z"
   },
   {
    "duration": 6,
    "start_time": "2023-03-12T12:17:37.470Z"
   },
   {
    "duration": 123,
    "start_time": "2023-03-12T12:17:48.356Z"
   },
   {
    "duration": 32,
    "start_time": "2023-03-12T12:20:11.248Z"
   },
   {
    "duration": 6,
    "start_time": "2023-03-12T12:20:22.549Z"
   },
   {
    "duration": 4390,
    "start_time": "2023-03-12T12:20:44.344Z"
   },
   {
    "duration": 6,
    "start_time": "2023-03-12T12:20:57.723Z"
   },
   {
    "duration": 2822,
    "start_time": "2023-03-12T12:21:16.290Z"
   },
   {
    "duration": 128,
    "start_time": "2023-03-12T12:21:26.211Z"
   },
   {
    "duration": 6,
    "start_time": "2023-03-12T12:21:42.246Z"
   },
   {
    "duration": 18469,
    "start_time": "2023-03-12T12:21:55.252Z"
   },
   {
    "duration": 27,
    "start_time": "2023-03-12T12:22:44.128Z"
   },
   {
    "duration": 6,
    "start_time": "2023-03-12T12:22:48.488Z"
   },
   {
    "duration": 302,
    "start_time": "2023-03-12T12:29:18.800Z"
   },
   {
    "duration": 268,
    "start_time": "2023-03-12T12:29:30.055Z"
   },
   {
    "duration": 266,
    "start_time": "2023-03-12T12:29:34.802Z"
   },
   {
    "duration": 254,
    "start_time": "2023-03-12T12:29:51.896Z"
   },
   {
    "duration": 1634,
    "start_time": "2023-03-12T16:42:02.058Z"
   },
   {
    "duration": 159,
    "start_time": "2023-03-12T16:45:05.927Z"
   },
   {
    "duration": 4,
    "start_time": "2023-03-12T16:45:13.463Z"
   },
   {
    "duration": 167,
    "start_time": "2023-03-12T16:45:13.469Z"
   },
   {
    "duration": 4,
    "start_time": "2023-03-12T16:45:13.637Z"
   },
   {
    "duration": 14,
    "start_time": "2023-03-12T16:45:13.643Z"
   },
   {
    "duration": 14,
    "start_time": "2023-03-12T16:45:13.660Z"
   },
   {
    "duration": 11,
    "start_time": "2023-03-12T16:45:13.675Z"
   },
   {
    "duration": 6,
    "start_time": "2023-03-12T16:45:13.688Z"
   },
   {
    "duration": 25,
    "start_time": "2023-03-12T16:45:13.696Z"
   },
   {
    "duration": 198,
    "start_time": "2023-03-12T16:45:13.723Z"
   },
   {
    "duration": 117,
    "start_time": "2023-03-12T16:45:13.923Z"
   },
   {
    "duration": 4,
    "start_time": "2023-03-12T16:45:14.041Z"
   },
   {
    "duration": 8,
    "start_time": "2023-03-12T16:45:14.047Z"
   },
   {
    "duration": 103,
    "start_time": "2023-03-12T16:45:14.056Z"
   },
   {
    "duration": 308,
    "start_time": "2023-03-12T16:45:14.162Z"
   },
   {
    "duration": 9,
    "start_time": "2023-03-12T16:45:14.472Z"
   },
   {
    "duration": 316,
    "start_time": "2023-03-12T16:45:14.482Z"
   },
   {
    "duration": 201,
    "start_time": "2023-03-12T16:45:14.799Z"
   },
   {
    "duration": 230,
    "start_time": "2023-03-12T16:45:15.001Z"
   },
   {
    "duration": 239,
    "start_time": "2023-03-12T16:45:15.233Z"
   },
   {
    "duration": 5,
    "start_time": "2023-03-12T16:45:15.474Z"
   },
   {
    "duration": 58,
    "start_time": "2023-03-12T16:45:15.481Z"
   },
   {
    "duration": 7,
    "start_time": "2023-03-12T16:45:15.540Z"
   },
   {
    "duration": 17,
    "start_time": "2023-03-12T16:45:15.549Z"
   },
   {
    "duration": 11,
    "start_time": "2023-03-12T16:45:15.568Z"
   },
   {
    "duration": 3108,
    "start_time": "2023-03-12T16:45:15.581Z"
   },
   {
    "duration": 22641,
    "start_time": "2023-03-12T16:45:18.691Z"
   },
   {
    "duration": 16888,
    "start_time": "2023-03-12T16:46:00.026Z"
   },
   {
    "duration": 28881,
    "start_time": "2023-03-12T16:46:37.362Z"
   },
   {
    "duration": 28,
    "start_time": "2023-03-12T16:47:28.314Z"
   },
   {
    "duration": 7,
    "start_time": "2023-03-12T16:47:32.591Z"
   },
   {
    "duration": 181,
    "start_time": "2023-03-12T16:48:12.798Z"
   },
   {
    "duration": 231,
    "start_time": "2023-03-12T16:48:20.806Z"
   },
   {
    "duration": 142,
    "start_time": "2023-03-12T16:48:27.129Z"
   },
   {
    "duration": 166,
    "start_time": "2023-03-12T16:48:42.010Z"
   },
   {
    "duration": 111,
    "start_time": "2023-03-12T16:55:43.563Z"
   },
   {
    "duration": 116,
    "start_time": "2023-03-12T16:56:00.033Z"
   },
   {
    "duration": 139,
    "start_time": "2023-03-12T16:58:11.760Z"
   },
   {
    "duration": 122,
    "start_time": "2023-03-12T16:58:41.123Z"
   },
   {
    "duration": 11,
    "start_time": "2023-03-12T16:59:01.304Z"
   },
   {
    "duration": 7,
    "start_time": "2023-03-12T16:59:06.003Z"
   },
   {
    "duration": 5,
    "start_time": "2023-03-12T16:59:18.091Z"
   },
   {
    "duration": 7,
    "start_time": "2023-03-12T16:59:27.890Z"
   },
   {
    "duration": 5,
    "start_time": "2023-03-12T16:59:53.146Z"
   },
   {
    "duration": 6,
    "start_time": "2023-03-12T16:59:57.949Z"
   },
   {
    "duration": 140,
    "start_time": "2023-03-12T17:00:08.794Z"
   },
   {
    "duration": 156,
    "start_time": "2023-03-12T17:00:31.230Z"
   },
   {
    "duration": 156,
    "start_time": "2023-03-12T17:03:28.721Z"
   },
   {
    "duration": 175,
    "start_time": "2023-03-12T17:03:55.392Z"
   },
   {
    "duration": 157,
    "start_time": "2023-03-12T17:04:09.314Z"
   },
   {
    "duration": 157,
    "start_time": "2023-03-12T17:04:19.828Z"
   },
   {
    "duration": 4,
    "start_time": "2023-03-12T17:10:29.042Z"
   },
   {
    "duration": 4,
    "start_time": "2023-03-12T17:13:14.054Z"
   },
   {
    "duration": 4,
    "start_time": "2023-03-12T17:13:17.410Z"
   },
   {
    "duration": 52,
    "start_time": "2023-03-12T17:16:03.826Z"
   },
   {
    "duration": 6,
    "start_time": "2023-03-12T17:16:08.209Z"
   },
   {
    "duration": 50,
    "start_time": "2023-03-12T17:16:35.196Z"
   },
   {
    "duration": 28,
    "start_time": "2023-03-12T17:16:48.654Z"
   },
   {
    "duration": 28,
    "start_time": "2023-03-12T17:16:54.953Z"
   },
   {
    "duration": 65,
    "start_time": "2023-03-12T17:17:03.413Z"
   },
   {
    "duration": 61,
    "start_time": "2023-03-12T17:17:08.409Z"
   },
   {
    "duration": 17,
    "start_time": "2023-03-12T17:17:14.690Z"
   },
   {
    "duration": 22,
    "start_time": "2023-03-12T17:17:20.405Z"
   },
   {
    "duration": 24,
    "start_time": "2023-03-12T17:17:24.833Z"
   },
   {
    "duration": 34,
    "start_time": "2023-03-12T17:17:27.873Z"
   },
   {
    "duration": 280,
    "start_time": "2023-03-12T17:17:30.291Z"
   },
   {
    "duration": 8,
    "start_time": "2023-03-12T17:17:52.057Z"
   },
   {
    "duration": 9,
    "start_time": "2023-03-12T17:17:58.826Z"
   },
   {
    "duration": 64,
    "start_time": "2023-03-12T17:18:06.953Z"
   },
   {
    "duration": 19,
    "start_time": "2023-03-12T17:18:09.992Z"
   },
   {
    "duration": 16,
    "start_time": "2023-03-12T17:18:48.902Z"
   },
   {
    "duration": 7,
    "start_time": "2023-03-12T17:18:57.609Z"
   },
   {
    "duration": 8,
    "start_time": "2023-03-12T17:19:04.818Z"
   },
   {
    "duration": 21,
    "start_time": "2023-03-12T17:19:35.415Z"
   },
   {
    "duration": 7,
    "start_time": "2023-03-12T17:20:11.384Z"
   },
   {
    "duration": 1528,
    "start_time": "2023-03-12T17:21:54.922Z"
   },
   {
    "duration": 51,
    "start_time": "2023-03-12T17:21:56.453Z"
   },
   {
    "duration": 3,
    "start_time": "2023-03-12T17:21:56.506Z"
   },
   {
    "duration": 10,
    "start_time": "2023-03-12T17:21:56.511Z"
   },
   {
    "duration": 11,
    "start_time": "2023-03-12T17:21:56.522Z"
   },
   {
    "duration": 11,
    "start_time": "2023-03-12T17:21:56.534Z"
   },
   {
    "duration": 7,
    "start_time": "2023-03-12T17:21:56.547Z"
   },
   {
    "duration": 5,
    "start_time": "2023-03-12T17:21:56.556Z"
   },
   {
    "duration": 205,
    "start_time": "2023-03-12T17:21:56.563Z"
   },
   {
    "duration": 130,
    "start_time": "2023-03-12T17:21:56.772Z"
   },
   {
    "duration": 5,
    "start_time": "2023-03-12T17:21:56.905Z"
   },
   {
    "duration": 4,
    "start_time": "2023-03-12T17:21:56.921Z"
   },
   {
    "duration": 108,
    "start_time": "2023-03-12T17:21:56.927Z"
   },
   {
    "duration": 323,
    "start_time": "2023-03-12T17:21:57.036Z"
   },
   {
    "duration": 8,
    "start_time": "2023-03-12T17:21:57.361Z"
   },
   {
    "duration": 333,
    "start_time": "2023-03-12T17:21:57.372Z"
   },
   {
    "duration": 211,
    "start_time": "2023-03-12T17:21:57.707Z"
   },
   {
    "duration": 230,
    "start_time": "2023-03-12T17:21:57.920Z"
   },
   {
    "duration": 235,
    "start_time": "2023-03-12T17:21:58.152Z"
   },
   {
    "duration": 5,
    "start_time": "2023-03-12T17:21:58.389Z"
   },
   {
    "duration": 53,
    "start_time": "2023-03-12T17:21:58.395Z"
   },
   {
    "duration": 6,
    "start_time": "2023-03-12T17:21:58.450Z"
   },
   {
    "duration": 9,
    "start_time": "2023-03-12T17:21:58.458Z"
   },
   {
    "duration": 8,
    "start_time": "2023-03-12T17:21:58.470Z"
   },
   {
    "duration": 3203,
    "start_time": "2023-03-12T17:21:58.480Z"
   },
   {
    "duration": 19319,
    "start_time": "2023-03-12T17:22:01.685Z"
   },
   {
    "duration": 23,
    "start_time": "2023-03-12T17:22:21.006Z"
   },
   {
    "duration": 6,
    "start_time": "2023-03-12T17:22:21.032Z"
   },
   {
    "duration": 9,
    "start_time": "2023-03-12T17:22:21.040Z"
   },
   {
    "duration": 180,
    "start_time": "2023-03-12T17:22:21.050Z"
   },
   {
    "duration": 7,
    "start_time": "2023-03-12T17:22:21.232Z"
   },
   {
    "duration": 6,
    "start_time": "2023-03-12T17:22:21.240Z"
   },
   {
    "duration": 9,
    "start_time": "2023-03-12T17:22:21.248Z"
   },
   {
    "duration": 435,
    "start_time": "2023-03-12T17:22:21.259Z"
   },
   {
    "duration": 1780,
    "start_time": "2023-03-12T21:12:41.235Z"
   },
   {
    "duration": 183,
    "start_time": "2023-03-12T21:12:43.018Z"
   },
   {
    "duration": 3,
    "start_time": "2023-03-12T21:12:43.202Z"
   },
   {
    "duration": 13,
    "start_time": "2023-03-12T21:12:43.207Z"
   },
   {
    "duration": 12,
    "start_time": "2023-03-12T21:12:43.222Z"
   },
   {
    "duration": 12,
    "start_time": "2023-03-12T21:12:43.236Z"
   },
   {
    "duration": 5,
    "start_time": "2023-03-12T21:12:43.250Z"
   },
   {
    "duration": 5,
    "start_time": "2023-03-12T21:12:43.257Z"
   },
   {
    "duration": 234,
    "start_time": "2023-03-12T21:12:43.263Z"
   },
   {
    "duration": 138,
    "start_time": "2023-03-12T21:12:43.499Z"
   },
   {
    "duration": 4,
    "start_time": "2023-03-12T21:12:43.642Z"
   },
   {
    "duration": 14,
    "start_time": "2023-03-12T21:12:43.649Z"
   },
   {
    "duration": 106,
    "start_time": "2023-03-12T21:12:43.665Z"
   },
   {
    "duration": 335,
    "start_time": "2023-03-12T21:12:43.773Z"
   },
   {
    "duration": 21,
    "start_time": "2023-03-12T21:12:44.109Z"
   },
   {
    "duration": 354,
    "start_time": "2023-03-12T21:12:44.132Z"
   },
   {
    "duration": 214,
    "start_time": "2023-03-12T21:12:44.487Z"
   },
   {
    "duration": 238,
    "start_time": "2023-03-12T21:12:44.703Z"
   },
   {
    "duration": 261,
    "start_time": "2023-03-12T21:12:44.943Z"
   },
   {
    "duration": 5,
    "start_time": "2023-03-12T21:12:45.206Z"
   },
   {
    "duration": 51,
    "start_time": "2023-03-12T21:12:45.212Z"
   },
   {
    "duration": 7,
    "start_time": "2023-03-12T21:12:45.265Z"
   },
   {
    "duration": 12,
    "start_time": "2023-03-12T21:12:45.273Z"
   },
   {
    "duration": 8,
    "start_time": "2023-03-12T21:12:45.287Z"
   },
   {
    "duration": 39409,
    "start_time": "2023-03-12T21:13:13.750Z"
   },
   {
    "duration": 16,
    "start_time": "2023-03-12T21:14:28.546Z"
   },
   {
    "duration": 14992,
    "start_time": "2023-03-12T21:14:55.044Z"
   },
   {
    "duration": 17,
    "start_time": "2023-03-12T21:15:18.715Z"
   },
   {
    "duration": 2334,
    "start_time": "2023-03-12T21:15:29.006Z"
   },
   {
    "duration": 7,
    "start_time": "2023-03-12T21:15:37.512Z"
   },
   {
    "duration": 2189,
    "start_time": "2023-03-12T21:15:51.948Z"
   },
   {
    "duration": 6,
    "start_time": "2023-03-12T21:16:05.555Z"
   },
   {
    "duration": 7446,
    "start_time": "2023-03-12T21:16:17.784Z"
   },
   {
    "duration": 9,
    "start_time": "2023-03-12T21:16:25.236Z"
   },
   {
    "duration": 834459,
    "start_time": "2023-03-12T21:16:38.837Z"
   },
   {
    "duration": 16,
    "start_time": "2023-03-12T21:30:39.874Z"
   },
   {
    "duration": 3273,
    "start_time": "2023-03-12T21:32:05.873Z"
   },
   {
    "duration": 8,
    "start_time": "2023-03-12T21:32:16.634Z"
   },
   {
    "duration": 757,
    "start_time": "2023-03-12T21:32:29.540Z"
   },
   {
    "duration": 1649,
    "start_time": "2023-03-12T21:32:46.448Z"
   },
   {
    "duration": 6,
    "start_time": "2023-03-12T21:32:58.898Z"
   },
   {
    "duration": 1105,
    "start_time": "2023-03-12T21:33:06.622Z"
   },
   {
    "duration": 6,
    "start_time": "2023-03-12T21:33:15.636Z"
   },
   {
    "duration": 2851,
    "start_time": "2023-03-12T21:33:23.219Z"
   },
   {
    "duration": 5,
    "start_time": "2023-03-12T21:33:29.309Z"
   },
   {
    "duration": 1770,
    "start_time": "2023-03-12T21:33:36.241Z"
   },
   {
    "duration": 6,
    "start_time": "2023-03-12T21:33:43.237Z"
   },
   {
    "duration": 7,
    "start_time": "2023-03-12T21:37:19.437Z"
   },
   {
    "duration": 2009,
    "start_time": "2023-03-12T21:37:33.191Z"
   },
   {
    "duration": 7,
    "start_time": "2023-03-12T21:37:40.170Z"
   },
   {
    "duration": 1702,
    "start_time": "2023-03-12T21:37:46.595Z"
   },
   {
    "duration": 5,
    "start_time": "2023-03-12T21:37:51.199Z"
   },
   {
    "duration": 1412,
    "start_time": "2023-03-12T21:37:57.098Z"
   },
   {
    "duration": 11,
    "start_time": "2023-03-12T21:38:02.822Z"
   },
   {
    "duration": 1613,
    "start_time": "2023-03-12T21:38:09.969Z"
   },
   {
    "duration": 6,
    "start_time": "2023-03-12T21:38:15.000Z"
   },
   {
    "duration": 1577,
    "start_time": "2023-03-12T21:38:25.629Z"
   },
   {
    "duration": 16,
    "start_time": "2023-03-12T21:38:31.717Z"
   },
   {
    "duration": 1680,
    "start_time": "2023-03-12T21:38:40.992Z"
   },
   {
    "duration": 19,
    "start_time": "2023-03-12T21:38:47.018Z"
   },
   {
    "duration": 1672,
    "start_time": "2023-03-12T21:39:35.438Z"
   },
   {
    "duration": 7,
    "start_time": "2023-03-12T21:39:43.301Z"
   },
   {
    "duration": 1689,
    "start_time": "2023-03-12T21:39:52.098Z"
   },
   {
    "duration": 5,
    "start_time": "2023-03-12T21:39:56.771Z"
   },
   {
    "duration": 1756,
    "start_time": "2023-03-12T21:40:02.943Z"
   },
   {
    "duration": 6,
    "start_time": "2023-03-12T21:40:09.374Z"
   },
   {
    "duration": 1737,
    "start_time": "2023-03-12T21:40:16.434Z"
   },
   {
    "duration": 5,
    "start_time": "2023-03-12T21:40:21.309Z"
   },
   {
    "duration": 1622,
    "start_time": "2023-03-12T21:40:27.568Z"
   },
   {
    "duration": 6,
    "start_time": "2023-03-12T21:40:32.452Z"
   },
   {
    "duration": 1775,
    "start_time": "2023-03-12T21:40:38.818Z"
   },
   {
    "duration": 7,
    "start_time": "2023-03-12T21:40:44.034Z"
   }
  ],
  "kernelspec": {
   "display_name": "Python 3 (ipykernel)",
   "language": "python",
   "name": "python3"
  },
  "language_info": {
   "codemirror_mode": {
    "name": "ipython",
    "version": 3
   },
   "file_extension": ".py",
   "mimetype": "text/x-python",
   "name": "python",
   "nbconvert_exporter": "python",
   "pygments_lexer": "ipython3",
   "version": "3.9.5"
  },
  "toc": {
   "base_numbering": 1,
   "nav_menu": {},
   "number_sections": true,
   "sideBar": true,
   "skip_h1_title": true,
   "title_cell": "Содержание",
   "title_sidebar": "Contents",
   "toc_cell": true,
   "toc_position": {
    "height": "calc(100% - 180px)",
    "left": "10px",
    "top": "150px",
    "width": "165px"
   },
   "toc_section_display": true,
   "toc_window_display": true
  }
 },
 "nbformat": 4,
 "nbformat_minor": 2
}
