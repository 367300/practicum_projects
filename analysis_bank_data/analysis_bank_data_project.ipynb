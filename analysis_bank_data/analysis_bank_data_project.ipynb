{
 "cells": [
  {
   "cell_type": "markdown",
   "id": "bdfed3cb",
   "metadata": {
    "deletable": false,
    "editable": false,
    "id": "c81daeeb"
   },
   "source": [
    "# Исследование надежности заемщиков\n"
   ]
  },
  {
   "cell_type": "markdown",
   "id": "a114e58d",
   "metadata": {
    "deletable": false,
    "editable": false,
    "id": "827c20bf"
   },
   "source": [
    "Во второй части проекта вы выполните шаги 3 и 4. Их вручную проверит ревьюер.\n",
    "Чтобы вам не пришлось писать код заново для шагов 1 и 2, мы добавили авторские решения в ячейки с кодом. \n",
    "\n"
   ]
  },
  {
   "cell_type": "markdown",
   "id": "9e18ca6e",
   "metadata": {
    "deletable": false,
    "editable": false,
    "id": "744d7639"
   },
   "source": [
    "## Откройте таблицу и изучите общую информацию о данных"
   ]
  },
  {
   "cell_type": "code",
   "execution_count": 2,
   "id": "68579673",
   "metadata": {
    "deletable": false,
    "id": "7bcf75c9"
   },
   "outputs": [],
   "source": [
    "import pandas as pd\n",
    "\n",
    "try:\n",
    "    data = pd.read_csv('/datasets/data.csv')\n",
    "except:\n",
    "    data = pd.read_csv('https://code.s3.yandex.net/datasets/data.csv')"
   ]
  },
  {
   "cell_type": "code",
   "execution_count": 3,
   "id": "a5dd7c6a",
   "metadata": {
    "deletable": false,
    "id": "2a7cab99",
    "outputId": "1a8f3ef2-d323-4ec2-ddf7-89670b5944c4"
   },
   "outputs": [
    {
     "data": {
      "text/html": [
       "<div>\n",
       "<style scoped>\n",
       "    .dataframe tbody tr th:only-of-type {\n",
       "        vertical-align: middle;\n",
       "    }\n",
       "\n",
       "    .dataframe tbody tr th {\n",
       "        vertical-align: top;\n",
       "    }\n",
       "\n",
       "    .dataframe thead th {\n",
       "        text-align: right;\n",
       "    }\n",
       "</style>\n",
       "<table border=\"1\" class=\"dataframe\">\n",
       "  <thead>\n",
       "    <tr style=\"text-align: right;\">\n",
       "      <th></th>\n",
       "      <th>children</th>\n",
       "      <th>days_employed</th>\n",
       "      <th>dob_years</th>\n",
       "      <th>education</th>\n",
       "      <th>education_id</th>\n",
       "      <th>family_status</th>\n",
       "      <th>family_status_id</th>\n",
       "      <th>gender</th>\n",
       "      <th>income_type</th>\n",
       "      <th>debt</th>\n",
       "      <th>total_income</th>\n",
       "      <th>purpose</th>\n",
       "    </tr>\n",
       "  </thead>\n",
       "  <tbody>\n",
       "    <tr>\n",
       "      <th>0</th>\n",
       "      <td>1</td>\n",
       "      <td>-8437.673028</td>\n",
       "      <td>42</td>\n",
       "      <td>высшее</td>\n",
       "      <td>0</td>\n",
       "      <td>женат / замужем</td>\n",
       "      <td>0</td>\n",
       "      <td>F</td>\n",
       "      <td>сотрудник</td>\n",
       "      <td>0</td>\n",
       "      <td>253875.639453</td>\n",
       "      <td>покупка жилья</td>\n",
       "    </tr>\n",
       "    <tr>\n",
       "      <th>1</th>\n",
       "      <td>1</td>\n",
       "      <td>-4024.803754</td>\n",
       "      <td>36</td>\n",
       "      <td>среднее</td>\n",
       "      <td>1</td>\n",
       "      <td>женат / замужем</td>\n",
       "      <td>0</td>\n",
       "      <td>F</td>\n",
       "      <td>сотрудник</td>\n",
       "      <td>0</td>\n",
       "      <td>112080.014102</td>\n",
       "      <td>приобретение автомобиля</td>\n",
       "    </tr>\n",
       "    <tr>\n",
       "      <th>2</th>\n",
       "      <td>0</td>\n",
       "      <td>-5623.422610</td>\n",
       "      <td>33</td>\n",
       "      <td>Среднее</td>\n",
       "      <td>1</td>\n",
       "      <td>женат / замужем</td>\n",
       "      <td>0</td>\n",
       "      <td>M</td>\n",
       "      <td>сотрудник</td>\n",
       "      <td>0</td>\n",
       "      <td>145885.952297</td>\n",
       "      <td>покупка жилья</td>\n",
       "    </tr>\n",
       "    <tr>\n",
       "      <th>3</th>\n",
       "      <td>3</td>\n",
       "      <td>-4124.747207</td>\n",
       "      <td>32</td>\n",
       "      <td>среднее</td>\n",
       "      <td>1</td>\n",
       "      <td>женат / замужем</td>\n",
       "      <td>0</td>\n",
       "      <td>M</td>\n",
       "      <td>сотрудник</td>\n",
       "      <td>0</td>\n",
       "      <td>267628.550329</td>\n",
       "      <td>дополнительное образование</td>\n",
       "    </tr>\n",
       "    <tr>\n",
       "      <th>4</th>\n",
       "      <td>0</td>\n",
       "      <td>340266.072047</td>\n",
       "      <td>53</td>\n",
       "      <td>среднее</td>\n",
       "      <td>1</td>\n",
       "      <td>гражданский брак</td>\n",
       "      <td>1</td>\n",
       "      <td>F</td>\n",
       "      <td>пенсионер</td>\n",
       "      <td>0</td>\n",
       "      <td>158616.077870</td>\n",
       "      <td>сыграть свадьбу</td>\n",
       "    </tr>\n",
       "    <tr>\n",
       "      <th>5</th>\n",
       "      <td>0</td>\n",
       "      <td>-926.185831</td>\n",
       "      <td>27</td>\n",
       "      <td>высшее</td>\n",
       "      <td>0</td>\n",
       "      <td>гражданский брак</td>\n",
       "      <td>1</td>\n",
       "      <td>M</td>\n",
       "      <td>компаньон</td>\n",
       "      <td>0</td>\n",
       "      <td>255763.565419</td>\n",
       "      <td>покупка жилья</td>\n",
       "    </tr>\n",
       "    <tr>\n",
       "      <th>6</th>\n",
       "      <td>0</td>\n",
       "      <td>-2879.202052</td>\n",
       "      <td>43</td>\n",
       "      <td>высшее</td>\n",
       "      <td>0</td>\n",
       "      <td>женат / замужем</td>\n",
       "      <td>0</td>\n",
       "      <td>F</td>\n",
       "      <td>компаньон</td>\n",
       "      <td>0</td>\n",
       "      <td>240525.971920</td>\n",
       "      <td>операции с жильем</td>\n",
       "    </tr>\n",
       "    <tr>\n",
       "      <th>7</th>\n",
       "      <td>0</td>\n",
       "      <td>-152.779569</td>\n",
       "      <td>50</td>\n",
       "      <td>СРЕДНЕЕ</td>\n",
       "      <td>1</td>\n",
       "      <td>женат / замужем</td>\n",
       "      <td>0</td>\n",
       "      <td>M</td>\n",
       "      <td>сотрудник</td>\n",
       "      <td>0</td>\n",
       "      <td>135823.934197</td>\n",
       "      <td>образование</td>\n",
       "    </tr>\n",
       "    <tr>\n",
       "      <th>8</th>\n",
       "      <td>2</td>\n",
       "      <td>-6929.865299</td>\n",
       "      <td>35</td>\n",
       "      <td>ВЫСШЕЕ</td>\n",
       "      <td>0</td>\n",
       "      <td>гражданский брак</td>\n",
       "      <td>1</td>\n",
       "      <td>F</td>\n",
       "      <td>сотрудник</td>\n",
       "      <td>0</td>\n",
       "      <td>95856.832424</td>\n",
       "      <td>на проведение свадьбы</td>\n",
       "    </tr>\n",
       "    <tr>\n",
       "      <th>9</th>\n",
       "      <td>0</td>\n",
       "      <td>-2188.756445</td>\n",
       "      <td>41</td>\n",
       "      <td>среднее</td>\n",
       "      <td>1</td>\n",
       "      <td>женат / замужем</td>\n",
       "      <td>0</td>\n",
       "      <td>M</td>\n",
       "      <td>сотрудник</td>\n",
       "      <td>0</td>\n",
       "      <td>144425.938277</td>\n",
       "      <td>покупка жилья для семьи</td>\n",
       "    </tr>\n",
       "    <tr>\n",
       "      <th>10</th>\n",
       "      <td>2</td>\n",
       "      <td>-4171.483647</td>\n",
       "      <td>36</td>\n",
       "      <td>высшее</td>\n",
       "      <td>0</td>\n",
       "      <td>женат / замужем</td>\n",
       "      <td>0</td>\n",
       "      <td>M</td>\n",
       "      <td>компаньон</td>\n",
       "      <td>0</td>\n",
       "      <td>113943.491460</td>\n",
       "      <td>покупка недвижимости</td>\n",
       "    </tr>\n",
       "    <tr>\n",
       "      <th>11</th>\n",
       "      <td>0</td>\n",
       "      <td>-792.701887</td>\n",
       "      <td>40</td>\n",
       "      <td>среднее</td>\n",
       "      <td>1</td>\n",
       "      <td>женат / замужем</td>\n",
       "      <td>0</td>\n",
       "      <td>F</td>\n",
       "      <td>сотрудник</td>\n",
       "      <td>0</td>\n",
       "      <td>77069.234271</td>\n",
       "      <td>покупка коммерческой недвижимости</td>\n",
       "    </tr>\n",
       "    <tr>\n",
       "      <th>12</th>\n",
       "      <td>0</td>\n",
       "      <td>NaN</td>\n",
       "      <td>65</td>\n",
       "      <td>среднее</td>\n",
       "      <td>1</td>\n",
       "      <td>гражданский брак</td>\n",
       "      <td>1</td>\n",
       "      <td>M</td>\n",
       "      <td>пенсионер</td>\n",
       "      <td>0</td>\n",
       "      <td>NaN</td>\n",
       "      <td>сыграть свадьбу</td>\n",
       "    </tr>\n",
       "    <tr>\n",
       "      <th>13</th>\n",
       "      <td>0</td>\n",
       "      <td>-1846.641941</td>\n",
       "      <td>54</td>\n",
       "      <td>неоконченное высшее</td>\n",
       "      <td>2</td>\n",
       "      <td>женат / замужем</td>\n",
       "      <td>0</td>\n",
       "      <td>F</td>\n",
       "      <td>сотрудник</td>\n",
       "      <td>0</td>\n",
       "      <td>130458.228857</td>\n",
       "      <td>приобретение автомобиля</td>\n",
       "    </tr>\n",
       "    <tr>\n",
       "      <th>14</th>\n",
       "      <td>0</td>\n",
       "      <td>-1844.956182</td>\n",
       "      <td>56</td>\n",
       "      <td>высшее</td>\n",
       "      <td>0</td>\n",
       "      <td>гражданский брак</td>\n",
       "      <td>1</td>\n",
       "      <td>F</td>\n",
       "      <td>компаньон</td>\n",
       "      <td>1</td>\n",
       "      <td>165127.911772</td>\n",
       "      <td>покупка жилой недвижимости</td>\n",
       "    </tr>\n",
       "    <tr>\n",
       "      <th>15</th>\n",
       "      <td>1</td>\n",
       "      <td>-972.364419</td>\n",
       "      <td>26</td>\n",
       "      <td>среднее</td>\n",
       "      <td>1</td>\n",
       "      <td>женат / замужем</td>\n",
       "      <td>0</td>\n",
       "      <td>F</td>\n",
       "      <td>сотрудник</td>\n",
       "      <td>0</td>\n",
       "      <td>116820.904450</td>\n",
       "      <td>строительство собственной недвижимости</td>\n",
       "    </tr>\n",
       "    <tr>\n",
       "      <th>16</th>\n",
       "      <td>0</td>\n",
       "      <td>-1719.934226</td>\n",
       "      <td>35</td>\n",
       "      <td>среднее</td>\n",
       "      <td>1</td>\n",
       "      <td>женат / замужем</td>\n",
       "      <td>0</td>\n",
       "      <td>F</td>\n",
       "      <td>сотрудник</td>\n",
       "      <td>0</td>\n",
       "      <td>289202.704229</td>\n",
       "      <td>недвижимость</td>\n",
       "    </tr>\n",
       "    <tr>\n",
       "      <th>17</th>\n",
       "      <td>0</td>\n",
       "      <td>-2369.999720</td>\n",
       "      <td>33</td>\n",
       "      <td>высшее</td>\n",
       "      <td>0</td>\n",
       "      <td>гражданский брак</td>\n",
       "      <td>1</td>\n",
       "      <td>M</td>\n",
       "      <td>сотрудник</td>\n",
       "      <td>0</td>\n",
       "      <td>90410.586745</td>\n",
       "      <td>строительство недвижимости</td>\n",
       "    </tr>\n",
       "    <tr>\n",
       "      <th>18</th>\n",
       "      <td>0</td>\n",
       "      <td>400281.136913</td>\n",
       "      <td>53</td>\n",
       "      <td>среднее</td>\n",
       "      <td>1</td>\n",
       "      <td>вдовец / вдова</td>\n",
       "      <td>2</td>\n",
       "      <td>F</td>\n",
       "      <td>пенсионер</td>\n",
       "      <td>0</td>\n",
       "      <td>56823.777243</td>\n",
       "      <td>на покупку подержанного автомобиля</td>\n",
       "    </tr>\n",
       "    <tr>\n",
       "      <th>19</th>\n",
       "      <td>0</td>\n",
       "      <td>-10038.818549</td>\n",
       "      <td>48</td>\n",
       "      <td>СРЕДНЕЕ</td>\n",
       "      <td>1</td>\n",
       "      <td>в разводе</td>\n",
       "      <td>3</td>\n",
       "      <td>F</td>\n",
       "      <td>сотрудник</td>\n",
       "      <td>0</td>\n",
       "      <td>242831.107982</td>\n",
       "      <td>на покупку своего автомобиля</td>\n",
       "    </tr>\n",
       "  </tbody>\n",
       "</table>\n",
       "</div>"
      ],
      "text/plain": [
       "    children  days_employed  dob_years            education  education_id  \\\n",
       "0          1   -8437.673028         42               высшее             0   \n",
       "1          1   -4024.803754         36              среднее             1   \n",
       "2          0   -5623.422610         33              Среднее             1   \n",
       "3          3   -4124.747207         32              среднее             1   \n",
       "4          0  340266.072047         53              среднее             1   \n",
       "5          0    -926.185831         27               высшее             0   \n",
       "6          0   -2879.202052         43               высшее             0   \n",
       "7          0    -152.779569         50              СРЕДНЕЕ             1   \n",
       "8          2   -6929.865299         35               ВЫСШЕЕ             0   \n",
       "9          0   -2188.756445         41              среднее             1   \n",
       "10         2   -4171.483647         36               высшее             0   \n",
       "11         0    -792.701887         40              среднее             1   \n",
       "12         0            NaN         65              среднее             1   \n",
       "13         0   -1846.641941         54  неоконченное высшее             2   \n",
       "14         0   -1844.956182         56               высшее             0   \n",
       "15         1    -972.364419         26              среднее             1   \n",
       "16         0   -1719.934226         35              среднее             1   \n",
       "17         0   -2369.999720         33               высшее             0   \n",
       "18         0  400281.136913         53              среднее             1   \n",
       "19         0  -10038.818549         48              СРЕДНЕЕ             1   \n",
       "\n",
       "       family_status  family_status_id gender income_type  debt  \\\n",
       "0    женат / замужем                 0      F   сотрудник     0   \n",
       "1    женат / замужем                 0      F   сотрудник     0   \n",
       "2    женат / замужем                 0      M   сотрудник     0   \n",
       "3    женат / замужем                 0      M   сотрудник     0   \n",
       "4   гражданский брак                 1      F   пенсионер     0   \n",
       "5   гражданский брак                 1      M   компаньон     0   \n",
       "6    женат / замужем                 0      F   компаньон     0   \n",
       "7    женат / замужем                 0      M   сотрудник     0   \n",
       "8   гражданский брак                 1      F   сотрудник     0   \n",
       "9    женат / замужем                 0      M   сотрудник     0   \n",
       "10   женат / замужем                 0      M   компаньон     0   \n",
       "11   женат / замужем                 0      F   сотрудник     0   \n",
       "12  гражданский брак                 1      M   пенсионер     0   \n",
       "13   женат / замужем                 0      F   сотрудник     0   \n",
       "14  гражданский брак                 1      F   компаньон     1   \n",
       "15   женат / замужем                 0      F   сотрудник     0   \n",
       "16   женат / замужем                 0      F   сотрудник     0   \n",
       "17  гражданский брак                 1      M   сотрудник     0   \n",
       "18    вдовец / вдова                 2      F   пенсионер     0   \n",
       "19         в разводе                 3      F   сотрудник     0   \n",
       "\n",
       "     total_income                                 purpose  \n",
       "0   253875.639453                           покупка жилья  \n",
       "1   112080.014102                 приобретение автомобиля  \n",
       "2   145885.952297                           покупка жилья  \n",
       "3   267628.550329              дополнительное образование  \n",
       "4   158616.077870                         сыграть свадьбу  \n",
       "5   255763.565419                           покупка жилья  \n",
       "6   240525.971920                       операции с жильем  \n",
       "7   135823.934197                             образование  \n",
       "8    95856.832424                   на проведение свадьбы  \n",
       "9   144425.938277                 покупка жилья для семьи  \n",
       "10  113943.491460                    покупка недвижимости  \n",
       "11   77069.234271       покупка коммерческой недвижимости  \n",
       "12            NaN                         сыграть свадьбу  \n",
       "13  130458.228857                 приобретение автомобиля  \n",
       "14  165127.911772              покупка жилой недвижимости  \n",
       "15  116820.904450  строительство собственной недвижимости  \n",
       "16  289202.704229                            недвижимость  \n",
       "17   90410.586745              строительство недвижимости  \n",
       "18   56823.777243      на покупку подержанного автомобиля  \n",
       "19  242831.107982            на покупку своего автомобиля  "
      ]
     },
     "execution_count": 3,
     "metadata": {},
     "output_type": "execute_result"
    }
   ],
   "source": [
    "data.head(20)"
   ]
  },
  {
   "cell_type": "code",
   "execution_count": 4,
   "id": "ad19d9ad",
   "metadata": {
    "deletable": false,
    "id": "2b757bca",
    "outputId": "15376089-8dad-46c9-b520-c05248d43158"
   },
   "outputs": [
    {
     "name": "stdout",
     "output_type": "stream",
     "text": [
      "<class 'pandas.core.frame.DataFrame'>\n",
      "RangeIndex: 21525 entries, 0 to 21524\n",
      "Data columns (total 12 columns):\n",
      " #   Column            Non-Null Count  Dtype  \n",
      "---  ------            --------------  -----  \n",
      " 0   children          21525 non-null  int64  \n",
      " 1   days_employed     19351 non-null  float64\n",
      " 2   dob_years         21525 non-null  int64  \n",
      " 3   education         21525 non-null  object \n",
      " 4   education_id      21525 non-null  int64  \n",
      " 5   family_status     21525 non-null  object \n",
      " 6   family_status_id  21525 non-null  int64  \n",
      " 7   gender            21525 non-null  object \n",
      " 8   income_type       21525 non-null  object \n",
      " 9   debt              21525 non-null  int64  \n",
      " 10  total_income      19351 non-null  float64\n",
      " 11  purpose           21525 non-null  object \n",
      "dtypes: float64(2), int64(5), object(5)\n",
      "memory usage: 2.0+ MB\n"
     ]
    }
   ],
   "source": [
    "data.info()"
   ]
  },
  {
   "cell_type": "markdown",
   "id": "d55506ca",
   "metadata": {
    "deletable": false,
    "editable": false,
    "id": "333ec665"
   },
   "source": [
    "## Предобработка данных"
   ]
  },
  {
   "cell_type": "markdown",
   "id": "0671a784",
   "metadata": {
    "deletable": false,
    "editable": false,
    "id": "02d92d53"
   },
   "source": [
    "### Удаление пропусков"
   ]
  },
  {
   "cell_type": "code",
   "execution_count": 5,
   "id": "49b47302",
   "metadata": {
    "deletable": false,
    "id": "7f9b2309",
    "outputId": "81f4d817-781c-465c-ed15-91ce4446810d"
   },
   "outputs": [
    {
     "data": {
      "text/plain": [
       "children               0\n",
       "days_employed       2174\n",
       "dob_years              0\n",
       "education              0\n",
       "education_id           0\n",
       "family_status          0\n",
       "family_status_id       0\n",
       "gender                 0\n",
       "income_type            0\n",
       "debt                   0\n",
       "total_income        2174\n",
       "purpose                0\n",
       "dtype: int64"
      ]
     },
     "execution_count": 5,
     "metadata": {},
     "output_type": "execute_result"
    }
   ],
   "source": [
    "data.isna().sum()"
   ]
  },
  {
   "cell_type": "code",
   "execution_count": 6,
   "id": "16812366",
   "metadata": {
    "deletable": false,
    "id": "42006a93"
   },
   "outputs": [],
   "source": [
    "for t in data['income_type'].unique():\n",
    "    data.loc[(data['income_type'] == t) & (data['total_income'].isna()), 'total_income'] = \\\n",
    "    data.loc[(data['income_type'] == t), 'total_income'].median()"
   ]
  },
  {
   "cell_type": "markdown",
   "id": "1cc0cad5",
   "metadata": {
    "deletable": false,
    "editable": false,
    "id": "89da5ece"
   },
   "source": [
    "### Обработка аномальных значений"
   ]
  },
  {
   "cell_type": "code",
   "execution_count": 7,
   "id": "003bfcd3",
   "metadata": {
    "deletable": false,
    "id": "f6f055bf"
   },
   "outputs": [],
   "source": [
    "data['days_employed'] = data['days_employed'].abs()"
   ]
  },
  {
   "cell_type": "code",
   "execution_count": 8,
   "id": "4d2ef89c",
   "metadata": {
    "deletable": false,
    "id": "85a5faf6",
    "outputId": "801ef80e-522b-4668-f34e-565af7432bcf"
   },
   "outputs": [
    {
     "data": {
      "text/plain": [
       "income_type\n",
       "безработный        366413.652744\n",
       "в декрете            3296.759962\n",
       "госслужащий          2689.368353\n",
       "компаньон            1547.382223\n",
       "пенсионер          365213.306266\n",
       "предприниматель       520.848083\n",
       "сотрудник            1574.202821\n",
       "студент               578.751554\n",
       "Name: days_employed, dtype: float64"
      ]
     },
     "execution_count": 8,
     "metadata": {},
     "output_type": "execute_result"
    }
   ],
   "source": [
    "data.groupby('income_type')['days_employed'].agg('median')"
   ]
  },
  {
   "cell_type": "markdown",
   "id": "173619ba",
   "metadata": {
    "deletable": false,
    "editable": false,
    "id": "38d1a030"
   },
   "source": [
    "У двух типов (безработные и пенсионеры) получатся аномально большие значения. Исправить такие значения сложно, поэтому оставьте их как есть. Тем более этот столбец не понадобится вам для исследования."
   ]
  },
  {
   "cell_type": "code",
   "execution_count": 9,
   "id": "24f7e84f",
   "metadata": {
    "deletable": false,
    "id": "ef5056eb",
    "outputId": "6975b15c-7f95-4697-d16d-a0c79b657b03"
   },
   "outputs": [
    {
     "data": {
      "text/plain": [
       "array([ 1,  0,  3,  2, -1,  4, 20,  5])"
      ]
     },
     "execution_count": 9,
     "metadata": {},
     "output_type": "execute_result"
    }
   ],
   "source": [
    "data['children'].unique()"
   ]
  },
  {
   "cell_type": "code",
   "execution_count": 10,
   "id": "c91a5e9c",
   "metadata": {
    "deletable": false,
    "id": "3ff9801d"
   },
   "outputs": [],
   "source": [
    "data = data[(data['children'] != -1) & (data['children'] != 20)]"
   ]
  },
  {
   "cell_type": "code",
   "execution_count": 11,
   "id": "c654a8e2",
   "metadata": {
    "deletable": false,
    "id": "ad4fa8b7",
    "outputId": "b2097101-d49d-44d9-901b-32a65c9463d1"
   },
   "outputs": [
    {
     "data": {
      "text/plain": [
       "array([1, 0, 3, 2, 4, 5])"
      ]
     },
     "execution_count": 11,
     "metadata": {},
     "output_type": "execute_result"
    }
   ],
   "source": [
    "data['children'].unique()"
   ]
  },
  {
   "cell_type": "markdown",
   "id": "8cdf8a0d",
   "metadata": {
    "deletable": false,
    "editable": false,
    "id": "75440b63"
   },
   "source": [
    "### Удаление пропусков (продолжение)"
   ]
  },
  {
   "cell_type": "code",
   "execution_count": 12,
   "id": "99312352",
   "metadata": {
    "deletable": false,
    "id": "af6b1a7e"
   },
   "outputs": [],
   "source": [
    "for t in data['income_type'].unique():\n",
    "    data.loc[(data['income_type'] == t) & (data['days_employed'].isna()), 'days_employed'] = \\\n",
    "    data.loc[(data['income_type'] == t), 'days_employed'].median()"
   ]
  },
  {
   "cell_type": "code",
   "execution_count": 13,
   "id": "e8b557d2",
   "metadata": {
    "deletable": false,
    "id": "55f78bc2",
    "outputId": "8da1e4e1-358e-4e87-98c9-f261bce0a7b2"
   },
   "outputs": [
    {
     "data": {
      "text/plain": [
       "children            0\n",
       "days_employed       0\n",
       "dob_years           0\n",
       "education           0\n",
       "education_id        0\n",
       "family_status       0\n",
       "family_status_id    0\n",
       "gender              0\n",
       "income_type         0\n",
       "debt                0\n",
       "total_income        0\n",
       "purpose             0\n",
       "dtype: int64"
      ]
     },
     "execution_count": 13,
     "metadata": {},
     "output_type": "execute_result"
    }
   ],
   "source": [
    "data.isna().sum()"
   ]
  },
  {
   "cell_type": "markdown",
   "id": "7353c236",
   "metadata": {
    "deletable": false,
    "editable": false,
    "id": "ddc81e43"
   },
   "source": [
    "### Изменение типов данных"
   ]
  },
  {
   "cell_type": "code",
   "execution_count": 14,
   "id": "32ac6646",
   "metadata": {
    "deletable": false,
    "id": "920b65ad"
   },
   "outputs": [],
   "source": [
    "data['total_income'] = data['total_income'].astype(int)"
   ]
  },
  {
   "cell_type": "markdown",
   "id": "f68fd5d3",
   "metadata": {
    "deletable": false,
    "editable": false,
    "id": "80c420ba"
   },
   "source": [
    "### Обработка дубликатов"
   ]
  },
  {
   "cell_type": "code",
   "execution_count": 15,
   "id": "f029b6d6",
   "metadata": {
    "deletable": false
   },
   "outputs": [],
   "source": [
    "data['education'] = data['education'].str.lower()"
   ]
  },
  {
   "cell_type": "code",
   "execution_count": 16,
   "id": "fb62b7e5",
   "metadata": {
    "deletable": false,
    "id": "3ee445e4",
    "outputId": "9684deba-1934-42d1-99e1-cda61740f822"
   },
   "outputs": [
    {
     "data": {
      "text/plain": [
       "71"
      ]
     },
     "execution_count": 16,
     "metadata": {},
     "output_type": "execute_result"
    }
   ],
   "source": [
    "data.duplicated().sum()"
   ]
  },
  {
   "cell_type": "code",
   "execution_count": 17,
   "id": "551b3c52",
   "metadata": {
    "deletable": false,
    "id": "8575fe05"
   },
   "outputs": [],
   "source": [
    "data = data.drop_duplicates()"
   ]
  },
  {
   "cell_type": "markdown",
   "id": "be46de4a",
   "metadata": {
    "deletable": false,
    "editable": false,
    "id": "9904cf55"
   },
   "source": [
    "### Категоризация данных"
   ]
  },
  {
   "cell_type": "code",
   "execution_count": 18,
   "id": "0e4ac4e8",
   "metadata": {
    "deletable": false,
    "id": "e1771346"
   },
   "outputs": [],
   "source": [
    "def categorize_income(income):\n",
    "    try:\n",
    "        if 0 <= income <= 30000:\n",
    "            return 'E'\n",
    "        elif 30001 <= income <= 50000:\n",
    "            return 'D'\n",
    "        elif 50001 <= income <= 200000:\n",
    "            return 'C'\n",
    "        elif 200001 <= income <= 1000000:\n",
    "            return 'B'\n",
    "        elif income >= 1000001:\n",
    "            return 'A'\n",
    "    except:\n",
    "        pass"
   ]
  },
  {
   "cell_type": "code",
   "execution_count": 19,
   "id": "7c82e50c",
   "metadata": {
    "deletable": false,
    "id": "d5f3586d"
   },
   "outputs": [],
   "source": [
    "data['total_income_category'] = data['total_income'].apply(categorize_income)"
   ]
  },
  {
   "cell_type": "code",
   "execution_count": 20,
   "id": "85010112",
   "metadata": {
    "deletable": false,
    "id": "f67ce9b3",
    "outputId": "673c12d9-7d7e-4ae0-9812-c622c89dd244"
   },
   "outputs": [
    {
     "data": {
      "text/plain": [
       "array(['покупка жилья', 'приобретение автомобиля',\n",
       "       'дополнительное образование', 'сыграть свадьбу',\n",
       "       'операции с жильем', 'образование', 'на проведение свадьбы',\n",
       "       'покупка жилья для семьи', 'покупка недвижимости',\n",
       "       'покупка коммерческой недвижимости', 'покупка жилой недвижимости',\n",
       "       'строительство собственной недвижимости', 'недвижимость',\n",
       "       'строительство недвижимости', 'на покупку подержанного автомобиля',\n",
       "       'на покупку своего автомобиля',\n",
       "       'операции с коммерческой недвижимостью',\n",
       "       'строительство жилой недвижимости', 'жилье',\n",
       "       'операции со своей недвижимостью', 'автомобили',\n",
       "       'заняться образованием', 'сделка с подержанным автомобилем',\n",
       "       'получение образования', 'автомобиль', 'свадьба',\n",
       "       'получение дополнительного образования', 'покупка своего жилья',\n",
       "       'операции с недвижимостью', 'получение высшего образования',\n",
       "       'свой автомобиль', 'сделка с автомобилем',\n",
       "       'профильное образование', 'высшее образование',\n",
       "       'покупка жилья для сдачи', 'на покупку автомобиля', 'ремонт жилью',\n",
       "       'заняться высшим образованием'], dtype=object)"
      ]
     },
     "execution_count": 20,
     "metadata": {},
     "output_type": "execute_result"
    }
   ],
   "source": [
    "data['purpose'].unique()"
   ]
  },
  {
   "cell_type": "code",
   "execution_count": 21,
   "id": "8600cd13",
   "metadata": {
    "deletable": false,
    "id": "e149fab4"
   },
   "outputs": [],
   "source": [
    "def categorize_purpose(row):\n",
    "    try:\n",
    "        if 'автом' in row:\n",
    "            return 'операции с автомобилем'\n",
    "        elif 'жил' in row or 'недвиж' in row:\n",
    "            return 'операции с недвижимостью'\n",
    "        elif 'свад' in row:\n",
    "            return 'проведение свадьбы'\n",
    "        elif 'образов' in row:\n",
    "            return 'получение образования'\n",
    "    except:\n",
    "        return 'нет категории'"
   ]
  },
  {
   "cell_type": "code",
   "execution_count": 22,
   "id": "79e8a2f1",
   "metadata": {
    "deletable": false,
    "id": "bf36e69b"
   },
   "outputs": [],
   "source": [
    "data['purpose_category'] = data['purpose'].apply(categorize_purpose)"
   ]
  },
  {
   "cell_type": "markdown",
   "id": "2725af25",
   "metadata": {
    "deletable": false,
    "editable": false,
    "id": "09b242bf"
   },
   "source": [
    "### Шаг 3. Исследуйте данные и ответьте на вопросы"
   ]
  },
  {
   "cell_type": "markdown",
   "id": "5ad37e3f",
   "metadata": {
    "deletable": false,
    "editable": false,
    "id": "c5d66278"
   },
   "source": [
    "#### 3.1 Есть ли зависимость между количеством детей и возвратом кредита в срок?"
   ]
  },
  {
   "cell_type": "markdown",
   "id": "179a6042",
   "metadata": {},
   "source": [
    "Сгруппируем датасет по количеству детей и проблем с долгами, а также посчитаем количество значений для дальнейшего проведения анализа"
   ]
  },
  {
   "cell_type": "code",
   "execution_count": 23,
   "id": "8445b6a7",
   "metadata": {},
   "outputs": [
    {
     "data": {
      "text/plain": [
       "children  debt\n",
       "0         0       13028\n",
       "          1        1063\n",
       "1         0        4364\n",
       "          1         444\n",
       "2         0        1858\n",
       "          1         194\n",
       "3         0         303\n",
       "          1          27\n",
       "4         0          37\n",
       "          1           4\n",
       "5         0           9\n",
       "Name: debt, dtype: int64"
      ]
     },
     "execution_count": 23,
     "metadata": {},
     "output_type": "execute_result"
    }
   ],
   "source": [
    "child_grouped = data.groupby('children')\n",
    "child_grouped_count = child_grouped['debt'].value_counts()\n",
    "child_grouped_count # Запишем результат value_counts() в отдельную переменную для того, чтобы обращаться к ней в дальнейшем"
   ]
  },
  {
   "cell_type": "markdown",
   "id": "22e53cdd",
   "metadata": {},
   "source": [
    "Посчитаем конверсию проблемных клиентов банка в зависимости от количества детей в их семьях, так как в семьях с пятью детьми не в датасете не найдено проблемных клиентов примем их конверсвию за 0.0 и добавим в полученный список после цикла"
   ]
  },
  {
   "cell_type": "code",
   "execution_count": 24,
   "id": "1781abae",
   "metadata": {
    "deletable": false,
    "id": "2cacfc4a"
   },
   "outputs": [],
   "source": [
    "'''\n",
    "Импортируем библиотеку numpy для возможности поделить элементы одного списка на элементы другого, это необходимо для того чтобы\n",
    "расчитать конверсию и ввести ее в список\n",
    "'''\n",
    "import numpy as np\n",
    "\n",
    "total_chield_list = [] # Пустой список для количества заемщиков\n",
    "\n",
    "for i in range(2, 14, 2): # Через срез value_counts() обращаемся к каждой категори, а затем суммируем два значения\n",
    "    total_num = child_grouped_count[i-2:i].sum() \n",
    "    total_chield_list.append(total_num)\n",
    "    \n",
    "total_chield_debt = [] # Пустой список для количества должников\n",
    "\n",
    "for i in range(5): \n",
    "    total_num = child_grouped_count[i][1]\n",
    "    total_chield_debt.append(total_num)\n",
    "\n",
    "total_chield_debt.append(0)# Добавим в конец количество должников для категории \"5 детей\"\n",
    "\n",
    "# Создаем numpy-списки для расчета конверсии категорий\n",
    "total_chield_numpy = np.array(total_chield_list)\n",
    "total_chield_debt_numpy = np.array(total_chield_debt)\n",
    "\n",
    "conversions_num_chield = total_chield_debt / total_chield_numpy # Конверсии в виде numpy-списков"
   ]
  },
  {
   "cell_type": "code",
   "execution_count": 25,
   "id": "ac3d1a24",
   "metadata": {
    "scrolled": false
   },
   "outputs": [
    {
     "data": {
      "text/html": [
       "<div>\n",
       "<style scoped>\n",
       "    .dataframe tbody tr th:only-of-type {\n",
       "        vertical-align: middle;\n",
       "    }\n",
       "\n",
       "    .dataframe tbody tr th {\n",
       "        vertical-align: top;\n",
       "    }\n",
       "\n",
       "    .dataframe thead th {\n",
       "        text-align: right;\n",
       "    }\n",
       "</style>\n",
       "<table border=\"1\" class=\"dataframe\">\n",
       "  <thead>\n",
       "    <tr style=\"text-align: right;\">\n",
       "      <th></th>\n",
       "      <th>Количество детей</th>\n",
       "      <th>Количество заемщиков</th>\n",
       "      <th>Количество должников</th>\n",
       "      <th>Процент просрочки (%)</th>\n",
       "    </tr>\n",
       "  </thead>\n",
       "  <tbody>\n",
       "    <tr>\n",
       "      <th>0</th>\n",
       "      <td>0</td>\n",
       "      <td>14091</td>\n",
       "      <td>1063</td>\n",
       "      <td>7.543822</td>\n",
       "    </tr>\n",
       "    <tr>\n",
       "      <th>1</th>\n",
       "      <td>1</td>\n",
       "      <td>4808</td>\n",
       "      <td>444</td>\n",
       "      <td>9.234609</td>\n",
       "    </tr>\n",
       "    <tr>\n",
       "      <th>2</th>\n",
       "      <td>2</td>\n",
       "      <td>2052</td>\n",
       "      <td>194</td>\n",
       "      <td>9.454191</td>\n",
       "    </tr>\n",
       "    <tr>\n",
       "      <th>3</th>\n",
       "      <td>3</td>\n",
       "      <td>330</td>\n",
       "      <td>27</td>\n",
       "      <td>8.181818</td>\n",
       "    </tr>\n",
       "    <tr>\n",
       "      <th>4</th>\n",
       "      <td>4</td>\n",
       "      <td>41</td>\n",
       "      <td>4</td>\n",
       "      <td>9.756098</td>\n",
       "    </tr>\n",
       "    <tr>\n",
       "      <th>5</th>\n",
       "      <td>5</td>\n",
       "      <td>9</td>\n",
       "      <td>0</td>\n",
       "      <td>0.000000</td>\n",
       "    </tr>\n",
       "  </tbody>\n",
       "</table>\n",
       "</div>"
      ],
      "text/plain": [
       "   Количество детей  Количество заемщиков  Количество должников  \\\n",
       "0                 0                 14091                  1063   \n",
       "1                 1                  4808                   444   \n",
       "2                 2                  2052                   194   \n",
       "3                 3                   330                    27   \n",
       "4                 4                    41                     4   \n",
       "5                 5                     9                     0   \n",
       "\n",
       "   Процент просрочки (%)  \n",
       "0               7.543822  \n",
       "1               9.234609  \n",
       "2               9.454191  \n",
       "3               8.181818  \n",
       "4               9.756098  \n",
       "5               0.000000  "
      ]
     },
     "execution_count": 25,
     "metadata": {},
     "output_type": "execute_result"
    }
   ],
   "source": [
    "'''\n",
    "Создаем и выводим датафрейм со сводными данными\n",
    "'''\n",
    "chield_pivot = pd.DataFrame({'Количество детей': range(6), 'Количество заемщиков': total_chield_list,\n",
    "        'Количество должников': total_chield_debt, 'Процент просрочки (%)': conversions_num_chield*100})\n",
    "\n",
    "chield_pivot"
   ]
  },
  {
   "cell_type": "code",
   "execution_count": 29,
   "id": "fe4d8c7f",
   "metadata": {},
   "outputs": [
    {
     "data": {
      "text/html": [
       "<div>\n",
       "<style scoped>\n",
       "    .dataframe tbody tr th:only-of-type {\n",
       "        vertical-align: middle;\n",
       "    }\n",
       "\n",
       "    .dataframe tbody tr th {\n",
       "        vertical-align: top;\n",
       "    }\n",
       "\n",
       "    .dataframe thead th {\n",
       "        text-align: right;\n",
       "    }\n",
       "</style>\n",
       "<table border=\"1\" class=\"dataframe\">\n",
       "  <thead>\n",
       "    <tr style=\"text-align: right;\">\n",
       "      <th></th>\n",
       "      <th>debt</th>\n",
       "      <th>info</th>\n",
       "      <th>debt</th>\n",
       "    </tr>\n",
       "    <tr>\n",
       "      <th>children</th>\n",
       "      <th></th>\n",
       "      <th></th>\n",
       "      <th></th>\n",
       "    </tr>\n",
       "  </thead>\n",
       "  <tbody>\n",
       "    <tr>\n",
       "      <th>0</th>\n",
       "      <td>14091</td>\n",
       "      <td>1063</td>\n",
       "      <td>0.075438</td>\n",
       "    </tr>\n",
       "    <tr>\n",
       "      <th>1</th>\n",
       "      <td>4808</td>\n",
       "      <td>444</td>\n",
       "      <td>0.092346</td>\n",
       "    </tr>\n",
       "    <tr>\n",
       "      <th>2</th>\n",
       "      <td>2052</td>\n",
       "      <td>194</td>\n",
       "      <td>0.094542</td>\n",
       "    </tr>\n",
       "    <tr>\n",
       "      <th>3</th>\n",
       "      <td>330</td>\n",
       "      <td>27</td>\n",
       "      <td>0.081818</td>\n",
       "    </tr>\n",
       "    <tr>\n",
       "      <th>4</th>\n",
       "      <td>41</td>\n",
       "      <td>4</td>\n",
       "      <td>0.097561</td>\n",
       "    </tr>\n",
       "    <tr>\n",
       "      <th>5</th>\n",
       "      <td>9</td>\n",
       "      <td>0</td>\n",
       "      <td>0.000000</td>\n",
       "    </tr>\n",
       "  </tbody>\n",
       "</table>\n",
       "</div>"
      ],
      "text/plain": [
       "           debt  info      debt\n",
       "children                       \n",
       "0         14091  1063  0.075438\n",
       "1          4808   444  0.092346\n",
       "2          2052   194  0.094542\n",
       "3           330    27  0.081818\n",
       "4            41     4  0.097561\n",
       "5             9     0  0.000000"
      ]
     },
     "execution_count": 29,
     "metadata": {},
     "output_type": "execute_result"
    }
   ],
   "source": [
    "x = data.pivot_table(index='children', values='debt', aggfunc=['count', 'sum', 'mean'])\n",
    "x.columns = ['debt', 'info', 'debt']\n",
    "x"
   ]
  },
  {
   "cell_type": "markdown",
   "id": "2529e164",
   "metadata": {},
   "source": [
    "Для наглядности полученных результатов построим простую гистаграмму:"
   ]
  },
  {
   "cell_type": "code",
   "execution_count": null,
   "id": "fb85ff93",
   "metadata": {},
   "outputs": [],
   "source": [
    "import matplotlib.pyplot as plt\n",
    "\n",
    "plt.rcParams[\"axes.grid\"] = True # Переопределим параметр библиотеки для отображения сетки на графике\n",
    "index = range(6) # Определим координаты, пусть для значений оси Х будет сгенерирована последовательность чисел от 0 до 5\n",
    "values = conversions_num_chield\n",
    "plt.title('Конверсия по количеству детей')\n",
    "plt.xlabel('Количество детей')\n",
    "plt.bar(index,values) # Построим гистаграмму в вертикально положении\n",
    "plt.show()"
   ]
  },
  {
   "cell_type": "markdown",
   "id": "c33154a8",
   "metadata": {
    "deletable": false,
    "id": "3a6b99ec"
   },
   "source": [
    "**Вывод:** Из полученных данных можно подумать, что в семьях в которых 5 детей, нет проблем с задолженностью, но нет, так как таких клиентов незначительое количество по сравнению с общим числом, пренебрегаем этой группой, для того чтобы провести более подробный анализ конверсии для семей с пятью детьми необходимо иметь большее количество данных. Однако, имеющиеся данные позволяют сказать, что существует выраженная зависимость между количеством детей и возвратом кредита в срок, конверсия для бездетных семей показывает более лучшие результаты по сравнению с другими около 8 процентов проблемных и далее резко растет пытаясь соблюсти пропорцию: чем больше детей, тем выше конверсия, поэтому можно сделать вывод о том, что чем больше детей у клиента тем выше вероятность кредитных проблем, в данном датафрейме можно сделать интересное наблюдение: в семьях с тремя детьми наблюдается довольно резкое улучшение конверсии она приближиается к уровню бездетных семей и имеет конверсию 8.9%, в то время как бездетные семьи имеют около 8% конверсии"
   ]
  },
  {
   "cell_type": "markdown",
   "id": "b6359d78",
   "metadata": {
    "deletable": false,
    "editable": false,
    "id": "97be82ca"
   },
   "source": [
    "#### 3.2 Есть ли зависимость между семейным положением и возвратом кредита в срок?"
   ]
  },
  {
   "cell_type": "markdown",
   "id": "50e1d101",
   "metadata": {},
   "source": [
    "Вначале, сгруппируем данные по семейному положению и посчитаем количество для каждой категории семейного положения, разделим категорию на тех кто имел проблемы с долгом и тех кто не имел проблем. \n",
    "    Обратим внимание, что к значениям value_counts() можно обращаться по индексу по два значения для каждой категории всего категорий пять и проведем анализ категориальных значений"
   ]
  },
  {
   "cell_type": "code",
   "execution_count": null,
   "id": "f9e62df8",
   "metadata": {
    "deletable": false,
    "id": "dc3f7ee8"
   },
   "outputs": [],
   "source": [
    "# Ваш код будет здесь. Вы можете создавать новые ячейки.\n",
    "family_data_group = data.groupby('family_status')\n",
    "family_data_count = family_data_group['debt'].value_counts()\n",
    "family_data_count # Запишем результат value_counts() в отдельную переменную для того, чтобы обращаться к ней в дальнейшем"
   ]
  },
  {
   "cell_type": "markdown",
   "id": "79af3aa5",
   "metadata": {},
   "source": [
    "Далее, посчитаем конверсию для семейных положений через цикл for с диапазоном значений от 2 до 10 с шагом 2 для правильности расчета и добавим каждое значение в список:"
   ]
  },
  {
   "cell_type": "code",
   "execution_count": null,
   "id": "5851c7dd",
   "metadata": {},
   "outputs": [],
   "source": [
    "family_status_total = [] # Пустой список для общего числа в категории \"Семейное положение\"\n",
    "\n",
    "for i in range(2, 12, 2):\n",
    "    total_family_num = family_data_count[i-2] + family_data_count[i-1]\n",
    "    family_status_total.append(total_family_num)\n",
    "    \n",
    "family_status_total_debt = [] # Пустой список для количества должников в категории \"Семейное положение\"\n",
    "\n",
    "for i in range(1, 11, 2):\n",
    "    family_status_total_debt.append(family_data_count[i])\n",
    "\n",
    "conversions_family_status = [] # Пустой список для конверсий в категории \"Семейное положение\"\n",
    "\n",
    "# Создаем numpy-списки для расчета конверсии категорий\n",
    "family_status_total_numpy = np.array(family_status_total)\n",
    "family_total_debt_numpy = np.array(family_status_total_debt)\n",
    "\n",
    "conversions_family_status = family_total_debt_numpy / family_status_total_numpy # Конверсии в виде numpy-списков"
   ]
  },
  {
   "cell_type": "markdown",
   "id": "a2da3476",
   "metadata": {},
   "source": [
    "Используем цикл for для перебора значений по диапазону уникальных имен в сгруппированном фрейме данных для правильности названий значений конверсий на гистаграмме:"
   ]
  },
  {
   "cell_type": "code",
   "execution_count": null,
   "id": "011b62cd",
   "metadata": {},
   "outputs": [],
   "source": [
    "name_lines_family = []\n",
    "\n",
    "# Переберем с помощью цикла for уникальные значения имен и добавим их в пустой список\n",
    "for i in range(5):\n",
    "    name_lines_family.append(family_data_group['family_status'].unique()[i][0])\n",
    "name_lines_family"
   ]
  },
  {
   "cell_type": "code",
   "execution_count": null,
   "id": "de38b60e",
   "metadata": {},
   "outputs": [],
   "source": [
    "'''\n",
    "Создаем и выводим датафрейм со сводными данными\n",
    "'''\n",
    "family_pivot = pd.DataFrame({'Семейное положение': name_lines_family, 'Количество заемщиков': family_status_total,\n",
    "        'Количество должников': family_status_total_debt, 'Процент просрочки (%)': conversions_family_status*100})\n",
    "\n",
    "family_pivot"
   ]
  },
  {
   "cell_type": "markdown",
   "id": "15665f5f",
   "metadata": {},
   "source": [
    "Для наглядности полученных результатов построим простую гистаграмму:"
   ]
  },
  {
   "cell_type": "code",
   "execution_count": null,
   "id": "0e03d4b9",
   "metadata": {},
   "outputs": [],
   "source": [
    "index = name_lines_family # Определим координаты\n",
    "values = conversions_family_status\n",
    "plt.title('Конверсия по семейным категориям')\n",
    "plt.barh(index,values) # Построим гистаграмму в горизонтальном положении\n",
    "plt.show()"
   ]
  },
  {
   "cell_type": "markdown",
   "id": "ebd9c614",
   "metadata": {
    "deletable": false,
    "id": "1cef7837"
   },
   "source": [
    "**Вывод:** Из полученных результатов можно сделать вывод о том, что овдовевшие люди меньше других подверженны проблемам с долгами, однако, нельзя не учесть тот факт, количество женатых и замужних людей кратно превосходит любую другую семейную категорию, но исходя из имеющегося фрейма данных можно наблюдать зависимость семейного положения на возврат кредита в срок, овдовевшие и находящиеся в разводе люди меньше прочих подверженны \"проблемности\" по кредитным долгам около 7 процентов против не женатых, не замужних людей с конверсией почти в 11 процентов - максимальное значение конверсии среди всех категорий"
   ]
  },
  {
   "cell_type": "markdown",
   "id": "4fe83cfa",
   "metadata": {
    "deletable": false,
    "editable": false,
    "id": "1e8b2fca"
   },
   "source": [
    "#### 3.3 Есть ли зависимость между уровнем дохода и возвратом кредита в срок?"
   ]
  },
  {
   "cell_type": "markdown",
   "id": "4d26ef10",
   "metadata": {},
   "source": [
    "Аналогично предыдущим пунктам также вычислим конверсии для разных категорий, использовав группировку и подсчеты количества значений с помощью метода value_counts() и обращаться к сумме подсчета будем также по индексу. Первое что сделаем - сгруппируем фрейм данных по новому столбцу, что был создан в результате работы функции categorize_income() категорезирующая клиентов по ежемесячным доходам и проведем анализ категориальных значений"
   ]
  },
  {
   "cell_type": "code",
   "execution_count": null,
   "id": "572d8046",
   "metadata": {
    "deletable": false,
    "id": "cd7e3720"
   },
   "outputs": [],
   "source": [
    "# Ваш код будет здесь. Вы можете создавать новые ячейки.\n",
    "total_income_grouped = data.groupby('total_income_category')\n",
    "total_income_count = total_income_grouped['debt'].value_counts()\n",
    "total_income_count"
   ]
  },
  {
   "cell_type": "markdown",
   "id": "ceb97c15",
   "metadata": {},
   "source": [
    "Видим, что самая многочисленная категория \"С\" кратно превосходит прочие категории, но делать какие-либо вывода еще рано. Расчитаем сначала конверсии проблемных клиентов этих категорий"
   ]
  },
  {
   "cell_type": "code",
   "execution_count": null,
   "id": "90ff0f45",
   "metadata": {},
   "outputs": [],
   "source": [
    "total_income_num = [] # Пустой список для общего числа в категории \"Уровень дохода\"\n",
    "\n",
    "for i in range(2, 12, 2):\n",
    "    total_income = total_income_count[i-2] + total_income_count[i-1]\n",
    "    total_income_num.append(total_income)\n",
    "    \n",
    "family_income_debt = [] # Пустой список для количества должников в категории \"Уровень дохода\"\n",
    "\n",
    "for i in range(1, 11, 2):\n",
    "    family_income_debt.append(total_income_count[i])\n",
    "    \n",
    "total_income_numpy = np.array(total_income_num)  \n",
    "total_income_debt_numpy = np.array(family_income_debt)\n",
    "\n",
    "conversions_total_income = total_income_debt_numpy / total_income_numpy # Расчет конверсий для категорий дохода"
   ]
  },
  {
   "cell_type": "markdown",
   "id": "1271a6f3",
   "metadata": {},
   "source": [
    "Используем цикл for для перебора значений по диапазону уникальных имен в сгруппированном фрейме данных для правильности названий значений конверсий на гистаграмме:"
   ]
  },
  {
   "cell_type": "code",
   "execution_count": null,
   "id": "01614f24",
   "metadata": {},
   "outputs": [],
   "source": [
    "name_lines_income = []\n",
    "\n",
    "# Переберем с помощью цикла for уникальные значения имен и добавим их в пустой список\n",
    "for i in range(5):\n",
    "    name_lines_income.append(total_income_grouped['total_income_category'].unique()[i][0])\n",
    "name_lines_income"
   ]
  },
  {
   "cell_type": "code",
   "execution_count": null,
   "id": "ce941d4d",
   "metadata": {},
   "outputs": [],
   "source": [
    "income_pivot = pd.DataFrame({'Категория дохода': name_lines_income, 'Количество заемщиков': total_income_num,\n",
    "        'Количество должников': family_income_debt, 'Процент просрочки (%)': conversions_total_income*100})\n",
    "\n",
    "income_pivot"
   ]
  },
  {
   "cell_type": "markdown",
   "id": "b29c3d3e",
   "metadata": {},
   "source": [
    "Для наглядности полученных результатов построим простую гистаграмму:"
   ]
  },
  {
   "cell_type": "code",
   "execution_count": null,
   "id": "53b35ff6",
   "metadata": {},
   "outputs": [],
   "source": [
    "index = name_lines_income # Определим координаты\n",
    "values = conversions_total_income\n",
    "plt.title('Конверсия по уровню дохода')\n",
    "plt.barh(index,values) # Построим гистаграмму в горизонтальном положении\n",
    "plt.show()"
   ]
  },
  {
   "cell_type": "markdown",
   "id": "94908142",
   "metadata": {
    "deletable": false,
    "id": "e8593def"
   },
   "source": [
    "**Вывод:** На графике наглядно видна зависимость между уровнем дохода и возвратом кредита в срок, так клиенты категории \"D\" клиенты с доходами 30001–50000 руб по численности на третьем месте во всем датафрейме самые непроблемные имеющие самую низкую конверсию около 6.4%, в то время самыми проблемными клиентами являются люди категории \"E\" с доходами от 0 до 30000 руб. Однако, эта зависимость не пропорциональна доходам, так клиенты со средними доходами и имеющие самую лучшую конверсию легко могут перейти в самую \"тяжелую\" группу так как находятся от них недалеко, а самая многчисленная группа - \"C\" на уровень выше имеет уже конверсию немногим меньше самой проблемной категории на уровне 9.3%. Таким образом, лучшая категория имеет все шансы на переход к более худшей конверсии, если переместится вверх, либо вниз по категории доходов."
   ]
  },
  {
   "cell_type": "markdown",
   "id": "680d6b7b",
   "metadata": {
    "deletable": false,
    "editable": false,
    "id": "99ecbd1f"
   },
   "source": [
    "#### 3.4 Как разные цели кредита влияют на его возврат в срок?"
   ]
  },
  {
   "cell_type": "markdown",
   "id": "5fabd292",
   "metadata": {},
   "source": [
    "Аналогично предыдущему пункту также вычислим конверсии для разных категорий, использовав группировку и подсчеты количества значений с помощью метода value_counts() и обращаться к сумме подсчета будем также по индексу. Первое что сделаем - сгруппируем фрейм данных по новому столбцу, что был создан в результате работы функции categorize_purpose() категорезирующая клиентов по целям кредита и проведем анализ категориальных значений"
   ]
  },
  {
   "cell_type": "code",
   "execution_count": null,
   "id": "2ce68ed3",
   "metadata": {
    "deletable": false,
    "id": "2b687290"
   },
   "outputs": [],
   "source": [
    "# Ваш код будет здесь. Вы можете создавать новые ячейки.\n",
    "total_purpose_grouped = data.groupby('purpose_category')\n",
    "total_purpose_count = total_purpose_grouped['debt'].value_counts()\n",
    "total_purpose_count # Запишем результат value_counts() в отдельную переменную для того, чтобы обращаться к ней в дальнейшем"
   ]
  },
  {
   "cell_type": "code",
   "execution_count": null,
   "id": "1f07bb79",
   "metadata": {},
   "outputs": [],
   "source": [
    "total_purpose_category = [] # Пустой список для общего количества в категории\n",
    "\n",
    "for index_count in range(2, 10, 2):\n",
    "    total = total_purpose_count[index_count-1] + total_purpose_count[index_count-2]\n",
    "    total_purpose_category.append(total)\n",
    "    \n",
    "total_purpose_debt = [] # Пустой список для количества должников\n",
    "\n",
    "for i in range(1, 9, 2):\n",
    "    total_purpose_debt.append(total_purpose_count[i])\n",
    "\n",
    "total_purpose_category_numpy = np.array(total_purpose_category)\n",
    "total_purpose_debt_numpy = np.array(total_purpose_debt)\n",
    "conversions_purpose_category = total_purpose_debt_numpy / total_purpose_category_numpy # numpy-списки конверсий целей кредита"
   ]
  },
  {
   "cell_type": "markdown",
   "id": "f98fca6b",
   "metadata": {},
   "source": [
    "Используем цикл for для перебора значений по диапазону уникальных имен в сгруппированном фрейме данных для правильности названий значений конверсий на гистаграмме:"
   ]
  },
  {
   "cell_type": "code",
   "execution_count": null,
   "id": "b29ac23b",
   "metadata": {},
   "outputs": [],
   "source": [
    "name_lines_purpose = []\n",
    "\n",
    "# Переберем с помощью цикла for уникальные значения имен и добавим их в пустой список\n",
    "for i in range(4):\n",
    "    name_lines_purpose.append(total_purpose_grouped['purpose_category'].unique()[i][0])\n",
    "name_lines_purpose"
   ]
  },
  {
   "cell_type": "code",
   "execution_count": null,
   "id": "cea970cf",
   "metadata": {},
   "outputs": [],
   "source": [
    "purpose_pivot = pd.DataFrame({'Цели кредита': name_lines_purpose, 'Количество заемщиков': total_purpose_category,\n",
    "        'Количество должников': total_purpose_debt, 'Процент просрочки (%)': conversions_purpose_category*100})\n",
    "\n",
    "purpose_pivot"
   ]
  },
  {
   "cell_type": "markdown",
   "id": "e9ce2497",
   "metadata": {},
   "source": [
    "Для наглядности полученных результатов построим простую гистаграмму:"
   ]
  },
  {
   "cell_type": "code",
   "execution_count": null,
   "id": "8f6e272b",
   "metadata": {},
   "outputs": [],
   "source": [
    "index = name_lines_purpose # Определим координаты\n",
    "values = conversions_purpose_category\n",
    "plt.title('Конверсия по целям кредита')\n",
    "plt.barh(index,values) # Построим гистаграмму в горизонтальном положении\n",
    "plt.show()"
   ]
  },
  {
   "cell_type": "markdown",
   "id": "eda81a5a",
   "metadata": {
    "deletable": false,
    "id": "b4bb2ce6"
   },
   "source": [
    "**Вывод:** Из полученных результатов видно, что на операции с недвижимостью приходится самая низкая она же лучшая конверсия для банков, отвечая на поставленый вопрос можно сказать, что разные цели кредита влияют на его возврат в срок, так для текущего датафрейма операции с недвижимостью конверсия составляет чуть менее 8%, для проведения свадьбы - 8.6%, для получения образования - на уровне 10%, для операций с автомобилем - 10.3% - самое высокое значение. Самое многочисленное количество приходится как раз на самую низку конверсию - на операции с недвижимостью, самое малочисленное количество - на проведение свадьб."
   ]
  },
  {
   "cell_type": "markdown",
   "id": "f6d041d1",
   "metadata": {
    "deletable": false,
    "editable": false,
    "id": "09c3ac4c"
   },
   "source": [
    "#### 3.5 Приведите возможные причины появления пропусков в исходных данных."
   ]
  },
  {
   "cell_type": "markdown",
   "id": "317bd470",
   "metadata": {
    "deletable": false,
    "id": "9da2ceda"
   },
   "source": [
    "*Ответ:* Ошибки при запросах к базам данных, ошибки записи в базах данных, а также грамотность кода, которая должна минимизировать человеческий фактор при записи, например, возможность пропуска обязательных для заполнения полей. Возможные техсбои которые могут не сохранить часть данных в базе данных"
   ]
  },
  {
   "cell_type": "markdown",
   "id": "47ce696b",
   "metadata": {
    "deletable": false,
    "editable": false,
    "id": "7b0487d6"
   },
   "source": [
    "#### 3.6 Объясните, почему заполнить пропуски медианным значением — лучшее решение для количественных переменных."
   ]
  },
  {
   "cell_type": "markdown",
   "id": "8873d4bf",
   "metadata": {
    "deletable": false,
    "id": "7ecf2b8e"
   },
   "source": [
    "*Ответ:* Медианна берет самое среднее значение не позволяя перетягивать в какую-либо сторону значение как это может быть при расчете среднего числа из прочих данных, например, из-за аномальных данных, так в коде метод сортирует данные и если они нечетного количества то медианна - среднее значение, если четное, то берет два значения стоящие в центре данных и высчитывает между ними среднее, это и есть медианна. Отвечая на поставленный вопрос, можно сказать, что медианна в условиях отсутствующих количественных значений и имеющих большую выборку данных, подставить в пропуски медианну значений по категориям - лучшее решение из-за алгоритма, описанного выше."
   ]
  },
  {
   "cell_type": "markdown",
   "id": "e21e3108",
   "metadata": {
    "deletable": false,
    "editable": false,
    "id": "6db5255a"
   },
   "source": [
    "### Шаг 4: общий вывод."
   ]
  },
  {
   "cell_type": "markdown",
   "id": "583e6b1f",
   "metadata": {
    "deletable": false,
    "id": "bad65432"
   },
   "source": [
    "Проведя поверхностный анализ и отвечая на поставленные вопросы, можно описать наиболее \"идеального\" клиента для банка: это бездетный человек имеющий доход 30-50 тыс. руб, желательно вдовец или вдова или находящееся в разводе и имеющий цель кредита на операции с недвижимостью. Конечно, можно задать больше вопросов, как зависит возраст на выплату кредита в срок или пол, а также исследовать количество целевой категории для ее сравнения с другими категориями, чтобы получить преположительно наиболее верные зависимости, если учитывать их долю в общем числе, но все это не отвечает напрямую на поставленные вопросы лишь возможно скорректируют их, в этом можно \"зарыться\", даже самые скудные данные можно анализировать продолжительное время. Разумеется, для более глубокого анализа нельзя не учитывать, например, долю категории в общем фрейме данных.\n",
    "\n",
    "В датасете были обработали дубликаты, пропуски, в числовых значениях, например, таких как уровень ежемесячного дохода вместо пропусков вставили медианные значения по категории, категоризацю данных провели в столбцах по уровню дохода и цели получения кредита. Как было сказано выше, в некоторых категориях было явно недостаточно записей для наиболее качественного анализа, так например, в семьях с 5 детьми количество должников равняется нулю, а заемщиков в этой категории - 9, при общем объеме более чем в 21 тыс. Если есть возможность, рекомендуется пополнение датасета малочисленными категориями в целях более качественного анализа\n",
    "\n",
    "Интересное наблюдение: в семьях с тремя детьми конверсия должников резко падает, затем с четвертым ребенком возвращается в восходящий тренд, также при операциях с недвижимостью конверсия смотрится гораздо лучше, чем при других категориях целей кредита, а люди, зарабатывающие 30-50 тыс руб более всего склонны возвращать кредиты без просрочек, однако, с увеличением или понижением категории дохода (ниже 30 тыс или выше 50 тыс руб) конверсия резко ухудшается"
   ]
  }
 ],
 "metadata": {
  "ExecuteTimeLog": [
   {
    "duration": 515,
    "start_time": "2022-10-19T14:28:50.952Z"
   },
   {
    "duration": 31,
    "start_time": "2022-10-19T14:28:51.470Z"
   },
   {
    "duration": 52,
    "start_time": "2022-10-19T14:28:51.503Z"
   },
   {
    "duration": 19,
    "start_time": "2022-10-19T14:28:51.558Z"
   },
   {
    "duration": 53,
    "start_time": "2022-10-19T14:28:51.579Z"
   },
   {
    "duration": 4,
    "start_time": "2022-10-19T14:28:51.635Z"
   },
   {
    "duration": 23,
    "start_time": "2022-10-19T14:28:51.655Z"
   },
   {
    "duration": 30,
    "start_time": "2022-10-19T14:28:51.680Z"
   },
   {
    "duration": 24,
    "start_time": "2022-10-19T14:28:51.712Z"
   },
   {
    "duration": 7,
    "start_time": "2022-10-19T14:28:51.739Z"
   },
   {
    "duration": 47,
    "start_time": "2022-10-19T14:28:51.748Z"
   },
   {
    "duration": 14,
    "start_time": "2022-10-19T14:28:51.797Z"
   },
   {
    "duration": 4,
    "start_time": "2022-10-19T14:28:51.813Z"
   },
   {
    "duration": 15,
    "start_time": "2022-10-19T14:28:51.818Z"
   },
   {
    "duration": 36,
    "start_time": "2022-10-19T14:28:51.835Z"
   },
   {
    "duration": 21,
    "start_time": "2022-10-19T14:28:51.873Z"
   },
   {
    "duration": 4,
    "start_time": "2022-10-19T14:28:51.895Z"
   },
   {
    "duration": 13,
    "start_time": "2022-10-19T14:28:51.900Z"
   },
   {
    "duration": 10,
    "start_time": "2022-10-19T14:28:51.915Z"
   },
   {
    "duration": 31,
    "start_time": "2022-10-19T14:28:51.926Z"
   },
   {
    "duration": 17,
    "start_time": "2022-10-19T14:28:51.958Z"
   },
   {
    "duration": 17,
    "start_time": "2022-10-19T14:28:51.976Z"
   },
   {
    "duration": 7,
    "start_time": "2022-10-19T14:28:51.995Z"
   },
   {
    "duration": 6,
    "start_time": "2022-10-19T14:28:52.004Z"
   },
   {
    "duration": 17,
    "start_time": "2022-10-19T14:28:52.011Z"
   },
   {
    "duration": 6,
    "start_time": "2022-10-19T14:30:28.016Z"
   },
   {
    "duration": 17,
    "start_time": "2022-10-19T14:39:53.953Z"
   },
   {
    "duration": 87,
    "start_time": "2022-10-19T14:40:14.001Z"
   },
   {
    "duration": 5,
    "start_time": "2022-10-19T14:40:23.390Z"
   },
   {
    "duration": 70,
    "start_time": "2022-10-19T14:41:25.639Z"
   },
   {
    "duration": 4,
    "start_time": "2022-10-19T14:49:58.582Z"
   },
   {
    "duration": 4,
    "start_time": "2022-10-19T14:50:01.121Z"
   },
   {
    "duration": 9,
    "start_time": "2022-10-19T14:50:19.337Z"
   },
   {
    "duration": 10,
    "start_time": "2022-10-19T14:50:28.875Z"
   },
   {
    "duration": 13,
    "start_time": "2022-10-19T14:50:54.622Z"
   },
   {
    "duration": 10,
    "start_time": "2022-10-19T14:51:05.024Z"
   },
   {
    "duration": 13,
    "start_time": "2022-10-19T14:51:11.769Z"
   },
   {
    "duration": 10,
    "start_time": "2022-10-19T14:51:17.455Z"
   },
   {
    "duration": 9,
    "start_time": "2022-10-19T14:51:40.968Z"
   },
   {
    "duration": 7,
    "start_time": "2022-10-19T14:52:03.179Z"
   },
   {
    "duration": 9,
    "start_time": "2022-10-19T14:52:17.310Z"
   },
   {
    "duration": 11,
    "start_time": "2022-10-19T14:52:25.177Z"
   },
   {
    "duration": 12,
    "start_time": "2022-10-19T14:52:38.119Z"
   },
   {
    "duration": 9,
    "start_time": "2022-10-19T14:53:06.205Z"
   },
   {
    "duration": 11,
    "start_time": "2022-10-19T14:53:12.638Z"
   },
   {
    "duration": 75,
    "start_time": "2022-10-19T15:06:07.153Z"
   },
   {
    "duration": 10,
    "start_time": "2022-10-19T15:06:13.529Z"
   },
   {
    "duration": 13,
    "start_time": "2022-10-19T15:06:57.751Z"
   },
   {
    "duration": 12,
    "start_time": "2022-10-19T15:08:27.780Z"
   },
   {
    "duration": 13,
    "start_time": "2022-10-19T15:10:38.545Z"
   },
   {
    "duration": 12,
    "start_time": "2022-10-19T15:12:03.278Z"
   },
   {
    "duration": 18,
    "start_time": "2022-10-19T15:12:10.450Z"
   },
   {
    "duration": 14,
    "start_time": "2022-10-19T15:12:24.099Z"
   },
   {
    "duration": 12,
    "start_time": "2022-10-19T15:12:37.092Z"
   },
   {
    "duration": 10,
    "start_time": "2022-10-19T15:13:34.164Z"
   },
   {
    "duration": 13,
    "start_time": "2022-10-19T15:13:41.569Z"
   },
   {
    "duration": 28,
    "start_time": "2022-10-19T15:14:24.772Z"
   },
   {
    "duration": 10,
    "start_time": "2022-10-19T15:14:33.630Z"
   },
   {
    "duration": 8,
    "start_time": "2022-10-19T15:14:54.958Z"
   },
   {
    "duration": 7,
    "start_time": "2022-10-19T15:15:14.698Z"
   },
   {
    "duration": 14,
    "start_time": "2022-10-19T15:17:03.205Z"
   },
   {
    "duration": 7,
    "start_time": "2022-10-19T15:18:46.109Z"
   },
   {
    "duration": 8,
    "start_time": "2022-10-19T15:18:54.430Z"
   },
   {
    "duration": 9,
    "start_time": "2022-10-19T15:18:57.285Z"
   },
   {
    "duration": 8,
    "start_time": "2022-10-19T15:19:02.559Z"
   },
   {
    "duration": 8,
    "start_time": "2022-10-19T15:19:05.069Z"
   },
   {
    "duration": 8,
    "start_time": "2022-10-19T15:19:09.458Z"
   },
   {
    "duration": 8,
    "start_time": "2022-10-19T15:19:15.905Z"
   },
   {
    "duration": 8,
    "start_time": "2022-10-19T15:19:20.354Z"
   },
   {
    "duration": 10,
    "start_time": "2022-10-19T15:19:25.588Z"
   },
   {
    "duration": 17,
    "start_time": "2022-10-19T15:19:54.989Z"
   },
   {
    "duration": 10,
    "start_time": "2022-10-19T15:19:57.650Z"
   },
   {
    "duration": 9,
    "start_time": "2022-10-19T15:20:04.213Z"
   },
   {
    "duration": 10,
    "start_time": "2022-10-19T15:20:09.710Z"
   },
   {
    "duration": 10,
    "start_time": "2022-10-19T15:20:16.665Z"
   },
   {
    "duration": 9,
    "start_time": "2022-10-19T15:42:12.688Z"
   },
   {
    "duration": 11,
    "start_time": "2022-10-19T15:43:15.250Z"
   },
   {
    "duration": 13,
    "start_time": "2022-10-19T15:43:29.394Z"
   },
   {
    "duration": 11,
    "start_time": "2022-10-19T15:43:36.730Z"
   },
   {
    "duration": 9,
    "start_time": "2022-10-19T16:21:48.152Z"
   },
   {
    "duration": 13,
    "start_time": "2022-10-19T16:22:00.843Z"
   },
   {
    "duration": 15,
    "start_time": "2022-10-19T16:23:36.197Z"
   },
   {
    "duration": 19,
    "start_time": "2022-10-19T16:25:47.151Z"
   },
   {
    "duration": 45,
    "start_time": "2022-10-19T16:32:51.630Z"
   },
   {
    "duration": 39,
    "start_time": "2022-10-19T16:33:05.645Z"
   },
   {
    "duration": 887,
    "start_time": "2022-10-19T16:33:09.873Z"
   },
   {
    "duration": 38,
    "start_time": "2022-10-19T16:33:13.903Z"
   },
   {
    "duration": 32,
    "start_time": "2022-10-19T16:35:15.450Z"
   },
   {
    "duration": 25,
    "start_time": "2022-10-19T16:36:02.802Z"
   },
   {
    "duration": 26,
    "start_time": "2022-10-19T17:09:01.872Z"
   },
   {
    "duration": 8,
    "start_time": "2022-10-19T17:19:52.453Z"
   },
   {
    "duration": 12,
    "start_time": "2022-10-19T17:20:21.784Z"
   },
   {
    "duration": 9,
    "start_time": "2022-10-19T17:21:23.930Z"
   },
   {
    "duration": 12,
    "start_time": "2022-10-19T17:21:30.778Z"
   },
   {
    "duration": 9,
    "start_time": "2022-10-19T17:21:34.960Z"
   },
   {
    "duration": 10,
    "start_time": "2022-10-19T17:21:39.726Z"
   },
   {
    "duration": 11,
    "start_time": "2022-10-19T17:21:45.020Z"
   },
   {
    "duration": 9,
    "start_time": "2022-10-19T17:22:11.140Z"
   },
   {
    "duration": 9,
    "start_time": "2022-10-19T17:22:16.616Z"
   },
   {
    "duration": 10,
    "start_time": "2022-10-19T17:22:19.076Z"
   },
   {
    "duration": 26,
    "start_time": "2022-10-19T17:32:16.915Z"
   },
   {
    "duration": 26,
    "start_time": "2022-10-19T17:34:34.587Z"
   },
   {
    "duration": 43,
    "start_time": "2022-10-19T17:39:02.276Z"
   },
   {
    "duration": 38,
    "start_time": "2022-10-19T17:39:08.217Z"
   },
   {
    "duration": 22,
    "start_time": "2022-10-19T17:46:33.769Z"
   },
   {
    "duration": 530,
    "start_time": "2022-10-19T17:52:49.173Z"
   },
   {
    "duration": 111,
    "start_time": "2022-10-19T17:55:14.247Z"
   },
   {
    "duration": 135,
    "start_time": "2022-10-19T17:56:27.020Z"
   },
   {
    "duration": 6,
    "start_time": "2022-10-19T18:00:48.882Z"
   },
   {
    "duration": 11,
    "start_time": "2022-10-19T18:01:10.888Z"
   },
   {
    "duration": 10,
    "start_time": "2022-10-19T18:01:28.162Z"
   },
   {
    "duration": 9,
    "start_time": "2022-10-19T18:01:33.919Z"
   },
   {
    "duration": 131,
    "start_time": "2022-10-19T18:02:05.704Z"
   },
   {
    "duration": 184,
    "start_time": "2022-10-19T18:02:15.110Z"
   },
   {
    "duration": 10,
    "start_time": "2022-10-19T18:02:32.440Z"
   },
   {
    "duration": 12,
    "start_time": "2022-10-19T18:02:38.960Z"
   },
   {
    "duration": 9,
    "start_time": "2022-10-19T18:02:42.485Z"
   },
   {
    "duration": 9,
    "start_time": "2022-10-19T18:02:54.750Z"
   },
   {
    "duration": 11,
    "start_time": "2022-10-19T18:04:07.294Z"
   },
   {
    "duration": 9,
    "start_time": "2022-10-19T18:04:10.623Z"
   },
   {
    "duration": 11,
    "start_time": "2022-10-19T18:04:13.444Z"
   },
   {
    "duration": 10,
    "start_time": "2022-10-19T18:04:19.497Z"
   },
   {
    "duration": 10,
    "start_time": "2022-10-19T18:04:47.236Z"
   },
   {
    "duration": 8,
    "start_time": "2022-10-19T18:08:07.460Z"
   },
   {
    "duration": 19,
    "start_time": "2022-10-19T18:08:10.462Z"
   },
   {
    "duration": 154,
    "start_time": "2022-10-19T18:08:11.815Z"
   },
   {
    "duration": 20,
    "start_time": "2022-10-19T18:08:23.578Z"
   },
   {
    "duration": 23,
    "start_time": "2022-10-19T18:08:36.890Z"
   },
   {
    "duration": 159,
    "start_time": "2022-10-19T18:08:58.887Z"
   },
   {
    "duration": 26,
    "start_time": "2022-10-19T18:09:03.705Z"
   },
   {
    "duration": 123,
    "start_time": "2022-10-19T18:09:07.819Z"
   },
   {
    "duration": 32,
    "start_time": "2022-10-19T18:09:41.843Z"
   },
   {
    "duration": 124,
    "start_time": "2022-10-19T18:14:59.095Z"
   },
   {
    "duration": 22,
    "start_time": "2022-10-19T18:23:38.108Z"
   },
   {
    "duration": 130,
    "start_time": "2022-10-19T18:23:39.756Z"
   },
   {
    "duration": 130,
    "start_time": "2022-10-19T18:30:30.273Z"
   },
   {
    "duration": 23,
    "start_time": "2022-10-19T18:40:59.521Z"
   },
   {
    "duration": 17,
    "start_time": "2022-10-19T18:50:39.413Z"
   },
   {
    "duration": 9,
    "start_time": "2022-10-19T18:52:10.622Z"
   },
   {
    "duration": 24,
    "start_time": "2022-10-19T18:54:40.147Z"
   },
   {
    "duration": 23,
    "start_time": "2022-10-19T18:57:28.435Z"
   },
   {
    "duration": 123,
    "start_time": "2022-10-19T18:57:29.874Z"
   },
   {
    "duration": 10,
    "start_time": "2022-10-19T18:57:33.401Z"
   },
   {
    "duration": 25,
    "start_time": "2022-10-19T18:57:36.666Z"
   },
   {
    "duration": 23,
    "start_time": "2022-10-19T18:57:39.766Z"
   },
   {
    "duration": 23,
    "start_time": "2022-10-19T18:58:07.300Z"
   },
   {
    "duration": 20,
    "start_time": "2022-10-19T18:58:12.057Z"
   },
   {
    "duration": 117,
    "start_time": "2022-10-19T18:59:31.745Z"
   },
   {
    "duration": 529,
    "start_time": "2022-10-20T11:41:54.284Z"
   },
   {
    "duration": 27,
    "start_time": "2022-10-20T11:41:54.815Z"
   },
   {
    "duration": 26,
    "start_time": "2022-10-20T11:41:54.843Z"
   },
   {
    "duration": 10,
    "start_time": "2022-10-20T11:41:54.871Z"
   },
   {
    "duration": 65,
    "start_time": "2022-10-20T11:41:54.883Z"
   },
   {
    "duration": 3,
    "start_time": "2022-10-20T11:41:54.950Z"
   },
   {
    "duration": 20,
    "start_time": "2022-10-20T11:41:54.955Z"
   },
   {
    "duration": 4,
    "start_time": "2022-10-20T11:41:54.977Z"
   },
   {
    "duration": 10,
    "start_time": "2022-10-20T11:41:54.982Z"
   },
   {
    "duration": 5,
    "start_time": "2022-10-20T11:41:55.010Z"
   },
   {
    "duration": 45,
    "start_time": "2022-10-20T11:41:55.016Z"
   },
   {
    "duration": 9,
    "start_time": "2022-10-20T11:41:55.063Z"
   },
   {
    "duration": 7,
    "start_time": "2022-10-20T11:41:55.073Z"
   },
   {
    "duration": 12,
    "start_time": "2022-10-20T11:41:55.082Z"
   },
   {
    "duration": 29,
    "start_time": "2022-10-20T11:41:55.108Z"
   },
   {
    "duration": 27,
    "start_time": "2022-10-20T11:41:55.139Z"
   },
   {
    "duration": 3,
    "start_time": "2022-10-20T11:41:55.168Z"
   },
   {
    "duration": 18,
    "start_time": "2022-10-20T11:41:55.173Z"
   },
   {
    "duration": 34,
    "start_time": "2022-10-20T11:41:55.192Z"
   },
   {
    "duration": 7,
    "start_time": "2022-10-20T11:41:55.228Z"
   },
   {
    "duration": 14,
    "start_time": "2022-10-20T11:41:55.237Z"
   },
   {
    "duration": 9,
    "start_time": "2022-10-20T11:41:55.253Z"
   },
   {
    "duration": 25,
    "start_time": "2022-10-20T11:41:55.263Z"
   },
   {
    "duration": 8,
    "start_time": "2022-10-20T11:41:55.290Z"
   },
   {
    "duration": 27,
    "start_time": "2022-10-20T11:41:55.300Z"
   },
   {
    "duration": 96,
    "start_time": "2022-10-20T11:41:55.328Z"
   },
   {
    "duration": 0,
    "start_time": "2022-10-20T11:41:55.425Z"
   },
   {
    "duration": 0,
    "start_time": "2022-10-20T11:41:55.426Z"
   },
   {
    "duration": 0,
    "start_time": "2022-10-20T11:41:55.427Z"
   },
   {
    "duration": 0,
    "start_time": "2022-10-20T11:41:55.429Z"
   },
   {
    "duration": 0,
    "start_time": "2022-10-20T11:41:55.430Z"
   },
   {
    "duration": 0,
    "start_time": "2022-10-20T11:41:55.431Z"
   },
   {
    "duration": 25,
    "start_time": "2022-10-20T11:42:48.683Z"
   },
   {
    "duration": 486,
    "start_time": "2022-10-20T11:42:55.482Z"
   },
   {
    "duration": 23,
    "start_time": "2022-10-20T11:42:55.970Z"
   },
   {
    "duration": 21,
    "start_time": "2022-10-20T11:42:55.995Z"
   },
   {
    "duration": 9,
    "start_time": "2022-10-20T11:42:56.018Z"
   },
   {
    "duration": 37,
    "start_time": "2022-10-20T11:42:56.029Z"
   },
   {
    "duration": 4,
    "start_time": "2022-10-20T11:42:56.067Z"
   },
   {
    "duration": 15,
    "start_time": "2022-10-20T11:42:56.072Z"
   },
   {
    "duration": 20,
    "start_time": "2022-10-20T11:42:56.089Z"
   },
   {
    "duration": 7,
    "start_time": "2022-10-20T11:42:56.111Z"
   },
   {
    "duration": 4,
    "start_time": "2022-10-20T11:42:56.122Z"
   },
   {
    "duration": 31,
    "start_time": "2022-10-20T11:42:56.127Z"
   },
   {
    "duration": 8,
    "start_time": "2022-10-20T11:42:56.159Z"
   },
   {
    "duration": 3,
    "start_time": "2022-10-20T11:42:56.169Z"
   },
   {
    "duration": 36,
    "start_time": "2022-10-20T11:42:56.173Z"
   },
   {
    "duration": 18,
    "start_time": "2022-10-20T11:42:56.210Z"
   },
   {
    "duration": 16,
    "start_time": "2022-10-20T11:42:56.230Z"
   },
   {
    "duration": 3,
    "start_time": "2022-10-20T11:42:56.247Z"
   },
   {
    "duration": 11,
    "start_time": "2022-10-20T11:42:56.252Z"
   },
   {
    "duration": 5,
    "start_time": "2022-10-20T11:42:56.264Z"
   },
   {
    "duration": 3,
    "start_time": "2022-10-20T11:42:56.271Z"
   },
   {
    "duration": 38,
    "start_time": "2022-10-20T11:42:56.275Z"
   },
   {
    "duration": 8,
    "start_time": "2022-10-20T11:42:56.314Z"
   },
   {
    "duration": 24,
    "start_time": "2022-10-20T11:42:56.323Z"
   },
   {
    "duration": 8,
    "start_time": "2022-10-20T11:42:56.349Z"
   },
   {
    "duration": 21,
    "start_time": "2022-10-20T11:42:56.358Z"
   },
   {
    "duration": 46,
    "start_time": "2022-10-20T11:42:56.381Z"
   },
   {
    "duration": 514,
    "start_time": "2022-10-20T11:42:56.429Z"
   },
   {
    "duration": 10,
    "start_time": "2022-10-20T11:42:56.946Z"
   },
   {
    "duration": 22,
    "start_time": "2022-10-20T11:42:56.957Z"
   },
   {
    "duration": 34,
    "start_time": "2022-10-20T11:42:56.981Z"
   },
   {
    "duration": 111,
    "start_time": "2022-10-20T11:42:57.016Z"
   },
   {
    "duration": 2,
    "start_time": "2022-10-20T11:42:57.128Z"
   },
   {
    "duration": 11,
    "start_time": "2022-10-20T12:20:54.631Z"
   },
   {
    "duration": 20,
    "start_time": "2022-10-20T12:21:25.723Z"
   },
   {
    "duration": 22,
    "start_time": "2022-10-20T12:23:12.074Z"
   },
   {
    "duration": 10,
    "start_time": "2022-10-20T12:24:18.091Z"
   },
   {
    "duration": 23,
    "start_time": "2022-10-20T12:24:19.478Z"
   },
   {
    "duration": 9,
    "start_time": "2022-10-20T12:25:07.729Z"
   },
   {
    "duration": 22,
    "start_time": "2022-10-20T12:25:09.618Z"
   },
   {
    "duration": 35,
    "start_time": "2022-10-20T12:25:11.982Z"
   },
   {
    "duration": 121,
    "start_time": "2022-10-20T12:25:31.290Z"
   },
   {
    "duration": 32,
    "start_time": "2022-10-20T12:29:05.008Z"
   },
   {
    "duration": 310,
    "start_time": "2022-10-20T12:29:06.867Z"
   },
   {
    "duration": 240,
    "start_time": "2022-10-20T12:29:20.194Z"
   },
   {
    "duration": 135,
    "start_time": "2022-10-20T12:29:22.925Z"
   },
   {
    "duration": 114,
    "start_time": "2022-10-20T12:34:38.306Z"
   },
   {
    "duration": 439,
    "start_time": "2022-10-20T12:48:45.669Z"
   },
   {
    "duration": 21,
    "start_time": "2022-10-20T12:48:46.110Z"
   },
   {
    "duration": 14,
    "start_time": "2022-10-20T12:48:46.133Z"
   },
   {
    "duration": 10,
    "start_time": "2022-10-20T12:48:46.149Z"
   },
   {
    "duration": 52,
    "start_time": "2022-10-20T12:48:46.161Z"
   },
   {
    "duration": 3,
    "start_time": "2022-10-20T12:48:46.215Z"
   },
   {
    "duration": 18,
    "start_time": "2022-10-20T12:48:46.219Z"
   },
   {
    "duration": 4,
    "start_time": "2022-10-20T12:48:46.238Z"
   },
   {
    "duration": 13,
    "start_time": "2022-10-20T12:48:46.244Z"
   },
   {
    "duration": 11,
    "start_time": "2022-10-20T12:48:46.261Z"
   },
   {
    "duration": 36,
    "start_time": "2022-10-20T12:48:46.273Z"
   },
   {
    "duration": 9,
    "start_time": "2022-10-20T12:48:46.310Z"
   },
   {
    "duration": 7,
    "start_time": "2022-10-20T12:48:46.321Z"
   },
   {
    "duration": 15,
    "start_time": "2022-10-20T12:48:46.330Z"
   },
   {
    "duration": 22,
    "start_time": "2022-10-20T12:48:46.347Z"
   },
   {
    "duration": 17,
    "start_time": "2022-10-20T12:48:46.371Z"
   },
   {
    "duration": 19,
    "start_time": "2022-10-20T12:48:46.390Z"
   },
   {
    "duration": 13,
    "start_time": "2022-10-20T12:48:46.410Z"
   },
   {
    "duration": 6,
    "start_time": "2022-10-20T12:48:46.424Z"
   },
   {
    "duration": 4,
    "start_time": "2022-10-20T12:48:46.431Z"
   },
   {
    "duration": 10,
    "start_time": "2022-10-20T12:48:46.436Z"
   },
   {
    "duration": 9,
    "start_time": "2022-10-20T12:48:46.447Z"
   },
   {
    "duration": 23,
    "start_time": "2022-10-20T12:48:46.457Z"
   },
   {
    "duration": 364,
    "start_time": "2022-10-20T12:48:46.481Z"
   },
   {
    "duration": 10,
    "start_time": "2022-10-20T12:48:46.847Z"
   },
   {
    "duration": 24,
    "start_time": "2022-10-20T12:48:46.859Z"
   },
   {
    "duration": 39,
    "start_time": "2022-10-20T12:48:46.884Z"
   },
   {
    "duration": 121,
    "start_time": "2022-10-20T12:48:46.926Z"
   },
   {
    "duration": 8,
    "start_time": "2022-10-20T12:48:47.049Z"
   },
   {
    "duration": 50,
    "start_time": "2022-10-20T12:48:47.059Z"
   },
   {
    "duration": 22,
    "start_time": "2022-10-20T12:48:47.111Z"
   },
   {
    "duration": 112,
    "start_time": "2022-10-20T12:48:47.134Z"
   },
   {
    "duration": 10,
    "start_time": "2022-10-20T12:48:47.247Z"
   },
   {
    "duration": 20,
    "start_time": "2022-10-20T12:48:47.259Z"
   },
   {
    "duration": 41,
    "start_time": "2022-10-20T12:48:47.282Z"
   },
   {
    "duration": 120,
    "start_time": "2022-10-20T12:48:47.325Z"
   },
   {
    "duration": 121,
    "start_time": "2022-10-20T13:19:32.984Z"
   },
   {
    "duration": 474,
    "start_time": "2022-10-20T13:31:11.924Z"
   },
   {
    "duration": 22,
    "start_time": "2022-10-20T13:31:12.400Z"
   },
   {
    "duration": 16,
    "start_time": "2022-10-20T13:31:12.423Z"
   },
   {
    "duration": 22,
    "start_time": "2022-10-20T13:31:12.442Z"
   },
   {
    "duration": 39,
    "start_time": "2022-10-20T13:31:12.465Z"
   },
   {
    "duration": 10,
    "start_time": "2022-10-20T13:31:12.505Z"
   },
   {
    "duration": 21,
    "start_time": "2022-10-20T13:31:12.516Z"
   },
   {
    "duration": 23,
    "start_time": "2022-10-20T13:31:12.540Z"
   },
   {
    "duration": 43,
    "start_time": "2022-10-20T13:31:12.565Z"
   },
   {
    "duration": 23,
    "start_time": "2022-10-20T13:31:12.612Z"
   },
   {
    "duration": 62,
    "start_time": "2022-10-20T13:31:12.637Z"
   },
   {
    "duration": 12,
    "start_time": "2022-10-20T13:31:12.702Z"
   },
   {
    "duration": 17,
    "start_time": "2022-10-20T13:31:12.716Z"
   },
   {
    "duration": 41,
    "start_time": "2022-10-20T13:31:12.734Z"
   },
   {
    "duration": 36,
    "start_time": "2022-10-20T13:31:12.777Z"
   },
   {
    "duration": 57,
    "start_time": "2022-10-20T13:31:12.815Z"
   },
   {
    "duration": 8,
    "start_time": "2022-10-20T13:31:12.874Z"
   },
   {
    "duration": 30,
    "start_time": "2022-10-20T13:31:12.884Z"
   },
   {
    "duration": 38,
    "start_time": "2022-10-20T13:31:12.916Z"
   },
   {
    "duration": 3,
    "start_time": "2022-10-20T13:31:12.956Z"
   },
   {
    "duration": 26,
    "start_time": "2022-10-20T13:31:12.961Z"
   },
   {
    "duration": 39,
    "start_time": "2022-10-20T13:31:12.989Z"
   },
   {
    "duration": 40,
    "start_time": "2022-10-20T13:31:13.029Z"
   },
   {
    "duration": 375,
    "start_time": "2022-10-20T13:31:13.070Z"
   },
   {
    "duration": 9,
    "start_time": "2022-10-20T13:31:13.446Z"
   },
   {
    "duration": 40,
    "start_time": "2022-10-20T13:31:13.457Z"
   },
   {
    "duration": 23,
    "start_time": "2022-10-20T13:31:13.498Z"
   },
   {
    "duration": 118,
    "start_time": "2022-10-20T13:31:13.524Z"
   },
   {
    "duration": 9,
    "start_time": "2022-10-20T13:31:13.644Z"
   },
   {
    "duration": 50,
    "start_time": "2022-10-20T13:31:13.654Z"
   },
   {
    "duration": 20,
    "start_time": "2022-10-20T13:31:13.706Z"
   },
   {
    "duration": 128,
    "start_time": "2022-10-20T13:31:13.728Z"
   },
   {
    "duration": 10,
    "start_time": "2022-10-20T13:31:13.857Z"
   },
   {
    "duration": 40,
    "start_time": "2022-10-20T13:31:13.869Z"
   },
   {
    "duration": 24,
    "start_time": "2022-10-20T13:31:13.911Z"
   },
   {
    "duration": 118,
    "start_time": "2022-10-20T13:31:13.937Z"
   },
   {
    "duration": 59,
    "start_time": "2022-10-21T11:41:17.735Z"
   },
   {
    "duration": 556,
    "start_time": "2022-10-21T11:41:27.800Z"
   },
   {
    "duration": 29,
    "start_time": "2022-10-21T11:41:28.359Z"
   },
   {
    "duration": 46,
    "start_time": "2022-10-21T11:41:28.390Z"
   },
   {
    "duration": 35,
    "start_time": "2022-10-21T11:41:28.440Z"
   },
   {
    "duration": 67,
    "start_time": "2022-10-21T11:41:28.477Z"
   },
   {
    "duration": 5,
    "start_time": "2022-10-21T11:41:28.548Z"
   },
   {
    "duration": 47,
    "start_time": "2022-10-21T11:41:28.555Z"
   },
   {
    "duration": 31,
    "start_time": "2022-10-21T11:41:28.605Z"
   },
   {
    "duration": 38,
    "start_time": "2022-10-21T11:41:28.638Z"
   },
   {
    "duration": 18,
    "start_time": "2022-10-21T11:41:28.682Z"
   },
   {
    "duration": 80,
    "start_time": "2022-10-21T11:41:28.702Z"
   },
   {
    "duration": 10,
    "start_time": "2022-10-21T11:41:28.785Z"
   },
   {
    "duration": 32,
    "start_time": "2022-10-21T11:41:28.797Z"
   },
   {
    "duration": 40,
    "start_time": "2022-10-21T11:41:28.831Z"
   },
   {
    "duration": 75,
    "start_time": "2022-10-21T11:41:28.873Z"
   },
   {
    "duration": 21,
    "start_time": "2022-10-21T11:41:28.950Z"
   },
   {
    "duration": 19,
    "start_time": "2022-10-21T11:41:28.973Z"
   },
   {
    "duration": 35,
    "start_time": "2022-10-21T11:41:28.994Z"
   },
   {
    "duration": 26,
    "start_time": "2022-10-21T11:41:29.031Z"
   },
   {
    "duration": 26,
    "start_time": "2022-10-21T11:41:29.060Z"
   },
   {
    "duration": 102,
    "start_time": "2022-10-21T11:41:29.088Z"
   },
   {
    "duration": 40,
    "start_time": "2022-10-21T11:41:29.192Z"
   },
   {
    "duration": 46,
    "start_time": "2022-10-21T11:41:29.234Z"
   },
   {
    "duration": 52,
    "start_time": "2022-10-21T11:41:29.282Z"
   },
   {
    "duration": 625,
    "start_time": "2022-10-21T11:41:29.336Z"
   },
   {
    "duration": 12,
    "start_time": "2022-10-21T11:41:29.963Z"
   },
   {
    "duration": 45,
    "start_time": "2022-10-21T11:41:29.978Z"
   },
   {
    "duration": 55,
    "start_time": "2022-10-21T11:41:30.028Z"
   },
   {
    "duration": 156,
    "start_time": "2022-10-21T11:41:30.086Z"
   },
   {
    "duration": 16,
    "start_time": "2022-10-21T11:41:30.245Z"
   },
   {
    "duration": 45,
    "start_time": "2022-10-21T11:41:30.263Z"
   },
   {
    "duration": 34,
    "start_time": "2022-10-21T11:41:30.310Z"
   },
   {
    "duration": 155,
    "start_time": "2022-10-21T11:41:30.347Z"
   },
   {
    "duration": 14,
    "start_time": "2022-10-21T11:41:30.505Z"
   },
   {
    "duration": 49,
    "start_time": "2022-10-21T11:41:30.522Z"
   },
   {
    "duration": 30,
    "start_time": "2022-10-21T11:41:30.573Z"
   },
   {
    "duration": 189,
    "start_time": "2022-10-21T11:41:30.605Z"
   },
   {
    "duration": 6,
    "start_time": "2022-10-21T11:41:45.467Z"
   },
   {
    "duration": 29,
    "start_time": "2022-10-21T11:46:07.108Z"
   },
   {
    "duration": 19,
    "start_time": "2022-10-21T11:46:32.422Z"
   },
   {
    "duration": 235,
    "start_time": "2022-10-21T11:46:58.477Z"
   },
   {
    "duration": 142,
    "start_time": "2022-10-21T11:51:45.313Z"
   },
   {
    "duration": 16,
    "start_time": "2022-10-21T11:53:59.953Z"
   },
   {
    "duration": 4,
    "start_time": "2022-10-21T11:54:39.311Z"
   },
   {
    "duration": 18,
    "start_time": "2022-10-21T11:54:48.565Z"
   },
   {
    "duration": 142,
    "start_time": "2022-10-21T11:57:08.614Z"
   },
   {
    "duration": 10,
    "start_time": "2022-10-21T12:19:04.702Z"
   },
   {
    "duration": 11,
    "start_time": "2022-10-21T12:19:10.405Z"
   },
   {
    "duration": 9,
    "start_time": "2022-10-21T12:19:17.508Z"
   },
   {
    "duration": 16,
    "start_time": "2022-10-21T12:19:38.315Z"
   },
   {
    "duration": 9,
    "start_time": "2022-10-21T12:20:22.125Z"
   },
   {
    "duration": 1077,
    "start_time": "2022-10-21T12:20:49.053Z"
   },
   {
    "duration": 1148,
    "start_time": "2022-10-21T12:21:16.772Z"
   },
   {
    "duration": 13,
    "start_time": "2022-10-21T12:22:47.994Z"
   },
   {
    "duration": 841,
    "start_time": "2022-10-21T12:23:22.472Z"
   },
   {
    "duration": 18,
    "start_time": "2022-10-21T12:23:45.030Z"
   },
   {
    "duration": 1014,
    "start_time": "2022-10-21T12:24:36.280Z"
   },
   {
    "duration": 1055,
    "start_time": "2022-10-21T12:25:26.253Z"
   },
   {
    "duration": 11,
    "start_time": "2022-10-21T12:25:57.573Z"
   },
   {
    "duration": 12,
    "start_time": "2022-10-21T12:25:59.207Z"
   },
   {
    "duration": 24,
    "start_time": "2022-10-21T12:26:39.084Z"
   },
   {
    "duration": 799,
    "start_time": "2022-10-21T12:31:53.608Z"
   },
   {
    "duration": 968,
    "start_time": "2022-10-21T12:32:16.480Z"
   },
   {
    "duration": 1021,
    "start_time": "2022-10-21T12:32:35.950Z"
   },
   {
    "duration": 9,
    "start_time": "2022-10-21T12:34:17.149Z"
   },
   {
    "duration": 10,
    "start_time": "2022-10-21T12:34:22.476Z"
   },
   {
    "duration": 1014,
    "start_time": "2022-10-21T12:34:28.886Z"
   },
   {
    "duration": 971,
    "start_time": "2022-10-21T12:38:53.132Z"
   },
   {
    "duration": 13,
    "start_time": "2022-10-21T12:39:00.290Z"
   },
   {
    "duration": 903,
    "start_time": "2022-10-21T12:39:04.490Z"
   },
   {
    "duration": 893,
    "start_time": "2022-10-21T12:39:07.637Z"
   },
   {
    "duration": 917,
    "start_time": "2022-10-21T12:47:35.492Z"
   },
   {
    "duration": 807,
    "start_time": "2022-10-21T12:47:56.905Z"
   },
   {
    "duration": 892,
    "start_time": "2022-10-21T12:48:05.741Z"
   },
   {
    "duration": 22,
    "start_time": "2022-10-21T12:50:31.556Z"
   },
   {
    "duration": 11,
    "start_time": "2022-10-21T12:50:52.905Z"
   },
   {
    "duration": 11,
    "start_time": "2022-10-21T12:51:06.870Z"
   },
   {
    "duration": 18,
    "start_time": "2022-10-21T12:52:26.373Z"
   },
   {
    "duration": 822,
    "start_time": "2022-10-21T12:52:38.924Z"
   },
   {
    "duration": 13,
    "start_time": "2022-10-21T12:52:48.614Z"
   },
   {
    "duration": 11,
    "start_time": "2022-10-21T12:52:55.487Z"
   },
   {
    "duration": 10,
    "start_time": "2022-10-21T12:53:10.311Z"
   },
   {
    "duration": 10,
    "start_time": "2022-10-21T12:53:16.225Z"
   },
   {
    "duration": 10,
    "start_time": "2022-10-21T12:54:42.922Z"
   },
   {
    "duration": 7,
    "start_time": "2022-10-21T12:59:56.288Z"
   },
   {
    "duration": 7,
    "start_time": "2022-10-21T13:00:04.970Z"
   },
   {
    "duration": 9,
    "start_time": "2022-10-21T13:00:13.884Z"
   },
   {
    "duration": 7,
    "start_time": "2022-10-21T13:00:36.719Z"
   },
   {
    "duration": 8,
    "start_time": "2022-10-21T13:00:47.004Z"
   },
   {
    "duration": 9,
    "start_time": "2022-10-21T13:01:00.720Z"
   },
   {
    "duration": 9,
    "start_time": "2022-10-21T13:01:11.693Z"
   },
   {
    "duration": 8,
    "start_time": "2022-10-21T13:01:30.588Z"
   },
   {
    "duration": 30,
    "start_time": "2022-10-21T13:04:32.314Z"
   },
   {
    "duration": 31,
    "start_time": "2022-10-21T13:05:01.816Z"
   },
   {
    "duration": 27,
    "start_time": "2022-10-21T13:05:18.779Z"
   },
   {
    "duration": 28,
    "start_time": "2022-10-21T13:05:30.604Z"
   },
   {
    "duration": 27,
    "start_time": "2022-10-21T13:05:42.890Z"
   },
   {
    "duration": 33,
    "start_time": "2022-10-21T13:06:00.834Z"
   },
   {
    "duration": 147,
    "start_time": "2022-10-21T13:23:46.574Z"
   },
   {
    "duration": 26,
    "start_time": "2022-10-21T13:36:53.820Z"
   },
   {
    "duration": 12,
    "start_time": "2022-10-21T13:39:34.946Z"
   },
   {
    "duration": 8,
    "start_time": "2022-10-21T13:39:42.815Z"
   },
   {
    "duration": 54,
    "start_time": "2022-10-21T13:40:18.769Z"
   },
   {
    "duration": 41,
    "start_time": "2022-10-21T13:43:59.707Z"
   },
   {
    "duration": 14,
    "start_time": "2022-10-21T13:44:07.662Z"
   },
   {
    "duration": 10,
    "start_time": "2022-10-21T13:44:29.822Z"
   },
   {
    "duration": 29,
    "start_time": "2022-10-21T13:44:42.402Z"
   },
   {
    "duration": 1926,
    "start_time": "2022-10-21T13:47:03.675Z"
   },
   {
    "duration": 28,
    "start_time": "2022-10-21T13:47:18.693Z"
   },
   {
    "duration": 5,
    "start_time": "2022-10-21T13:47:46.388Z"
   },
   {
    "duration": 25,
    "start_time": "2022-10-21T13:47:54.254Z"
   },
   {
    "duration": 10,
    "start_time": "2022-10-21T13:49:17.907Z"
   },
   {
    "duration": 7,
    "start_time": "2022-10-21T13:50:29.009Z"
   },
   {
    "duration": 6,
    "start_time": "2022-10-21T13:55:02.383Z"
   },
   {
    "duration": 9,
    "start_time": "2022-10-21T13:55:33.181Z"
   },
   {
    "duration": 8,
    "start_time": "2022-10-21T13:55:39.575Z"
   },
   {
    "duration": 8,
    "start_time": "2022-10-21T13:56:29.882Z"
   },
   {
    "duration": 9,
    "start_time": "2022-10-21T13:59:18.262Z"
   },
   {
    "duration": 781,
    "start_time": "2022-10-21T13:59:22.668Z"
   },
   {
    "duration": 8,
    "start_time": "2022-10-21T13:59:26.127Z"
   },
   {
    "duration": 7,
    "start_time": "2022-10-21T13:59:30.369Z"
   },
   {
    "duration": 9,
    "start_time": "2022-10-21T13:59:34.435Z"
   },
   {
    "duration": 9,
    "start_time": "2022-10-21T13:59:37.011Z"
   },
   {
    "duration": 8,
    "start_time": "2022-10-21T13:59:39.770Z"
   },
   {
    "duration": 9,
    "start_time": "2022-10-21T13:59:42.425Z"
   },
   {
    "duration": 9,
    "start_time": "2022-10-21T13:59:45.208Z"
   },
   {
    "duration": 14,
    "start_time": "2022-10-21T14:01:16.778Z"
   },
   {
    "duration": 17,
    "start_time": "2022-10-21T14:01:41.743Z"
   },
   {
    "duration": 11,
    "start_time": "2022-10-21T14:01:46.168Z"
   },
   {
    "duration": 9,
    "start_time": "2022-10-21T14:02:36.345Z"
   },
   {
    "duration": 9,
    "start_time": "2022-10-21T14:02:50.134Z"
   },
   {
    "duration": 2065,
    "start_time": "2022-10-21T14:06:13.226Z"
   },
   {
    "duration": 8,
    "start_time": "2022-10-21T14:06:35.067Z"
   },
   {
    "duration": 8,
    "start_time": "2022-10-21T14:06:49.933Z"
   },
   {
    "duration": 2564,
    "start_time": "2022-10-21T14:06:59.916Z"
   },
   {
    "duration": 8,
    "start_time": "2022-10-21T14:07:05.135Z"
   },
   {
    "duration": 1619,
    "start_time": "2022-10-21T14:07:15.580Z"
   },
   {
    "duration": 8,
    "start_time": "2022-10-21T14:07:24.412Z"
   },
   {
    "duration": 17,
    "start_time": "2022-10-21T14:07:54.174Z"
   },
   {
    "duration": 840,
    "start_time": "2022-10-21T14:08:10.487Z"
   },
   {
    "duration": 17,
    "start_time": "2022-10-21T14:08:27.464Z"
   },
   {
    "duration": 8,
    "start_time": "2022-10-21T14:08:54.740Z"
   },
   {
    "duration": 18,
    "start_time": "2022-10-21T14:09:18.107Z"
   },
   {
    "duration": 18,
    "start_time": "2022-10-21T14:09:51.109Z"
   },
   {
    "duration": 17,
    "start_time": "2022-10-21T14:10:21.214Z"
   },
   {
    "duration": 19,
    "start_time": "2022-10-21T14:10:24.822Z"
   },
   {
    "duration": 12,
    "start_time": "2022-10-21T14:10:44.127Z"
   },
   {
    "duration": 12,
    "start_time": "2022-10-21T14:11:06.095Z"
   },
   {
    "duration": 4,
    "start_time": "2022-10-21T14:11:17.766Z"
   },
   {
    "duration": 18,
    "start_time": "2022-10-21T14:12:03.934Z"
   },
   {
    "duration": 17,
    "start_time": "2022-10-21T14:13:44.859Z"
   },
   {
    "duration": 10,
    "start_time": "2022-10-21T14:13:47.088Z"
   },
   {
    "duration": 13,
    "start_time": "2022-10-21T14:15:27.187Z"
   },
   {
    "duration": 9,
    "start_time": "2022-10-21T14:16:16.913Z"
   },
   {
    "duration": 9,
    "start_time": "2022-10-21T14:16:28.302Z"
   },
   {
    "duration": 18,
    "start_time": "2022-10-21T14:17:42.429Z"
   },
   {
    "duration": 16,
    "start_time": "2022-10-21T14:24:11.588Z"
   },
   {
    "duration": 17,
    "start_time": "2022-10-21T14:24:31.888Z"
   },
   {
    "duration": 93,
    "start_time": "2022-10-21T14:25:07.157Z"
   },
   {
    "duration": 46,
    "start_time": "2022-10-21T14:25:24.536Z"
   },
   {
    "duration": 13,
    "start_time": "2022-10-21T14:25:33.482Z"
   },
   {
    "duration": 4,
    "start_time": "2022-10-21T14:26:31.174Z"
   },
   {
    "duration": 13,
    "start_time": "2022-10-21T14:27:08.841Z"
   },
   {
    "duration": 13,
    "start_time": "2022-10-21T14:27:48.083Z"
   },
   {
    "duration": 13,
    "start_time": "2022-10-21T14:28:04.026Z"
   },
   {
    "duration": 10,
    "start_time": "2022-10-21T14:28:11.827Z"
   },
   {
    "duration": 4,
    "start_time": "2022-10-21T14:28:23.123Z"
   },
   {
    "duration": 424,
    "start_time": "2022-10-21T14:28:57.807Z"
   },
   {
    "duration": 27,
    "start_time": "2022-10-21T14:28:58.233Z"
   },
   {
    "duration": 28,
    "start_time": "2022-10-21T14:28:58.262Z"
   },
   {
    "duration": 14,
    "start_time": "2022-10-21T14:28:58.292Z"
   },
   {
    "duration": 48,
    "start_time": "2022-10-21T14:28:58.309Z"
   },
   {
    "duration": 3,
    "start_time": "2022-10-21T14:28:58.359Z"
   },
   {
    "duration": 10,
    "start_time": "2022-10-21T14:28:58.364Z"
   },
   {
    "duration": 5,
    "start_time": "2022-10-21T14:28:58.375Z"
   },
   {
    "duration": 11,
    "start_time": "2022-10-21T14:28:58.381Z"
   },
   {
    "duration": 13,
    "start_time": "2022-10-21T14:28:58.393Z"
   },
   {
    "duration": 63,
    "start_time": "2022-10-21T14:28:58.407Z"
   },
   {
    "duration": 9,
    "start_time": "2022-10-21T14:28:58.472Z"
   },
   {
    "duration": 14,
    "start_time": "2022-10-21T14:28:58.483Z"
   },
   {
    "duration": 13,
    "start_time": "2022-10-21T14:28:58.500Z"
   },
   {
    "duration": 21,
    "start_time": "2022-10-21T14:28:58.515Z"
   },
   {
    "duration": 33,
    "start_time": "2022-10-21T14:28:58.538Z"
   },
   {
    "duration": 4,
    "start_time": "2022-10-21T14:28:58.573Z"
   },
   {
    "duration": 25,
    "start_time": "2022-10-21T14:28:58.578Z"
   },
   {
    "duration": 10,
    "start_time": "2022-10-21T14:28:58.604Z"
   },
   {
    "duration": 5,
    "start_time": "2022-10-21T14:28:58.616Z"
   },
   {
    "duration": 12,
    "start_time": "2022-10-21T14:28:58.623Z"
   },
   {
    "duration": 20,
    "start_time": "2022-10-21T14:28:58.637Z"
   },
   {
    "duration": 39,
    "start_time": "2022-10-21T14:28:58.658Z"
   },
   {
    "duration": 17,
    "start_time": "2022-10-21T14:28:58.699Z"
   },
   {
    "duration": 37,
    "start_time": "2022-10-21T14:28:58.718Z"
   },
   {
    "duration": 418,
    "start_time": "2022-10-21T14:28:58.757Z"
   },
   {
    "duration": 80,
    "start_time": "2022-10-21T14:28:59.177Z"
   },
   {
    "duration": 0,
    "start_time": "2022-10-21T14:28:59.259Z"
   },
   {
    "duration": 0,
    "start_time": "2022-10-21T14:28:59.261Z"
   },
   {
    "duration": 0,
    "start_time": "2022-10-21T14:28:59.262Z"
   },
   {
    "duration": 0,
    "start_time": "2022-10-21T14:28:59.263Z"
   },
   {
    "duration": 0,
    "start_time": "2022-10-21T14:28:59.264Z"
   },
   {
    "duration": 0,
    "start_time": "2022-10-21T14:28:59.265Z"
   },
   {
    "duration": 0,
    "start_time": "2022-10-21T14:28:59.266Z"
   },
   {
    "duration": 0,
    "start_time": "2022-10-21T14:28:59.267Z"
   },
   {
    "duration": 0,
    "start_time": "2022-10-21T14:28:59.268Z"
   },
   {
    "duration": 0,
    "start_time": "2022-10-21T14:28:59.269Z"
   },
   {
    "duration": 0,
    "start_time": "2022-10-21T14:28:59.269Z"
   },
   {
    "duration": 10,
    "start_time": "2022-10-21T14:29:17.428Z"
   },
   {
    "duration": 10,
    "start_time": "2022-10-21T14:31:54.252Z"
   },
   {
    "duration": 350,
    "start_time": "2022-10-21T14:35:43.024Z"
   },
   {
    "duration": 11,
    "start_time": "2022-10-21T14:36:18.513Z"
   },
   {
    "duration": 502,
    "start_time": "2022-10-23T12:24:44.812Z"
   },
   {
    "duration": 20,
    "start_time": "2022-10-23T12:24:45.316Z"
   },
   {
    "duration": 13,
    "start_time": "2022-10-23T12:24:45.337Z"
   },
   {
    "duration": 9,
    "start_time": "2022-10-23T12:24:45.352Z"
   },
   {
    "duration": 38,
    "start_time": "2022-10-23T12:24:45.362Z"
   },
   {
    "duration": 3,
    "start_time": "2022-10-23T12:24:45.402Z"
   },
   {
    "duration": 7,
    "start_time": "2022-10-23T12:24:45.421Z"
   },
   {
    "duration": 7,
    "start_time": "2022-10-23T12:24:45.429Z"
   },
   {
    "duration": 13,
    "start_time": "2022-10-23T12:24:45.437Z"
   },
   {
    "duration": 14,
    "start_time": "2022-10-23T12:24:45.454Z"
   },
   {
    "duration": 44,
    "start_time": "2022-10-23T12:24:45.470Z"
   },
   {
    "duration": 10,
    "start_time": "2022-10-23T12:24:45.515Z"
   },
   {
    "duration": 6,
    "start_time": "2022-10-23T12:24:45.526Z"
   },
   {
    "duration": 14,
    "start_time": "2022-10-23T12:24:45.534Z"
   },
   {
    "duration": 18,
    "start_time": "2022-10-23T12:24:45.549Z"
   },
   {
    "duration": 17,
    "start_time": "2022-10-23T12:24:45.569Z"
   },
   {
    "duration": 4,
    "start_time": "2022-10-23T12:24:45.587Z"
   },
   {
    "duration": 40,
    "start_time": "2022-10-23T12:24:45.593Z"
   },
   {
    "duration": 19,
    "start_time": "2022-10-23T12:24:45.635Z"
   },
   {
    "duration": 10,
    "start_time": "2022-10-23T12:24:45.656Z"
   },
   {
    "duration": 16,
    "start_time": "2022-10-23T12:24:45.668Z"
   },
   {
    "duration": 12,
    "start_time": "2022-10-23T12:24:45.685Z"
   },
   {
    "duration": 24,
    "start_time": "2022-10-23T12:24:45.698Z"
   },
   {
    "duration": 13,
    "start_time": "2022-10-23T12:24:45.724Z"
   },
   {
    "duration": 9,
    "start_time": "2022-10-23T12:24:45.738Z"
   },
   {
    "duration": 508,
    "start_time": "2022-10-23T12:24:45.749Z"
   },
   {
    "duration": 12,
    "start_time": "2022-10-23T12:24:46.259Z"
   },
   {
    "duration": 39,
    "start_time": "2022-10-23T12:24:46.274Z"
   },
   {
    "duration": 21,
    "start_time": "2022-10-23T12:24:46.314Z"
   },
   {
    "duration": 117,
    "start_time": "2022-10-23T12:24:46.336Z"
   },
   {
    "duration": 9,
    "start_time": "2022-10-23T12:24:46.455Z"
   },
   {
    "duration": 24,
    "start_time": "2022-10-23T12:24:46.465Z"
   },
   {
    "duration": 36,
    "start_time": "2022-10-23T12:24:46.491Z"
   },
   {
    "duration": 97,
    "start_time": "2022-10-23T12:24:46.528Z"
   },
   {
    "duration": 8,
    "start_time": "2022-10-23T12:24:46.627Z"
   },
   {
    "duration": 18,
    "start_time": "2022-10-23T12:24:46.637Z"
   },
   {
    "duration": 18,
    "start_time": "2022-10-23T12:24:46.656Z"
   },
   {
    "duration": 139,
    "start_time": "2022-10-23T12:24:46.676Z"
   },
   {
    "duration": 8,
    "start_time": "2022-10-23T12:29:52.067Z"
   },
   {
    "duration": 8,
    "start_time": "2022-10-23T12:30:13.312Z"
   },
   {
    "duration": 10,
    "start_time": "2022-10-23T12:30:26.801Z"
   },
   {
    "duration": 8,
    "start_time": "2022-10-23T12:31:02.593Z"
   },
   {
    "duration": 9,
    "start_time": "2022-10-23T12:31:20.944Z"
   },
   {
    "duration": 8,
    "start_time": "2022-10-23T12:31:27.444Z"
   },
   {
    "duration": 9,
    "start_time": "2022-10-23T12:31:33.099Z"
   },
   {
    "duration": 10,
    "start_time": "2022-10-23T12:31:37.284Z"
   },
   {
    "duration": 3,
    "start_time": "2022-10-23T12:33:57.241Z"
   },
   {
    "duration": 3,
    "start_time": "2022-10-23T12:34:06.563Z"
   },
   {
    "duration": 4,
    "start_time": "2022-10-23T12:34:21.817Z"
   },
   {
    "duration": 4,
    "start_time": "2022-10-23T12:34:29.967Z"
   },
   {
    "duration": 4,
    "start_time": "2022-10-23T12:34:35.519Z"
   },
   {
    "duration": 5,
    "start_time": "2022-10-23T12:34:40.896Z"
   },
   {
    "duration": 8,
    "start_time": "2022-10-23T12:35:11.187Z"
   },
   {
    "duration": 5,
    "start_time": "2022-10-23T12:37:04.353Z"
   },
   {
    "duration": 73,
    "start_time": "2022-10-23T12:43:40.735Z"
   },
   {
    "duration": 3,
    "start_time": "2022-10-23T12:44:06.340Z"
   },
   {
    "duration": 8,
    "start_time": "2022-10-23T12:45:26.117Z"
   },
   {
    "duration": 6,
    "start_time": "2022-10-23T12:52:28.251Z"
   },
   {
    "duration": 10,
    "start_time": "2022-10-23T13:04:27.743Z"
   },
   {
    "duration": 79,
    "start_time": "2022-10-23T13:07:56.233Z"
   },
   {
    "duration": 9,
    "start_time": "2022-10-23T13:09:47.854Z"
   },
   {
    "duration": 24,
    "start_time": "2022-10-23T13:09:50.445Z"
   },
   {
    "duration": 8,
    "start_time": "2022-10-23T13:10:59.418Z"
   },
   {
    "duration": 24,
    "start_time": "2022-10-23T13:11:00.588Z"
   },
   {
    "duration": 5,
    "start_time": "2022-10-23T13:13:19.801Z"
   },
   {
    "duration": 6,
    "start_time": "2022-10-23T13:18:41.706Z"
   },
   {
    "duration": 7,
    "start_time": "2022-10-23T13:22:10.662Z"
   },
   {
    "duration": 8,
    "start_time": "2022-10-23T13:22:15.504Z"
   },
   {
    "duration": 18,
    "start_time": "2022-10-23T13:22:20.070Z"
   },
   {
    "duration": 13,
    "start_time": "2022-10-23T13:22:43.353Z"
   },
   {
    "duration": 13,
    "start_time": "2022-10-23T13:22:44.248Z"
   },
   {
    "duration": 8,
    "start_time": "2022-10-23T13:25:25.451Z"
   },
   {
    "duration": 5,
    "start_time": "2022-10-23T13:26:03.285Z"
   },
   {
    "duration": 8,
    "start_time": "2022-10-23T13:27:23.381Z"
   },
   {
    "duration": 9,
    "start_time": "2022-10-23T13:27:26.844Z"
   },
   {
    "duration": 5,
    "start_time": "2022-10-23T13:27:29.282Z"
   },
   {
    "duration": 14,
    "start_time": "2022-10-23T13:27:31.097Z"
   },
   {
    "duration": 11,
    "start_time": "2022-10-23T13:27:46.111Z"
   },
   {
    "duration": 12,
    "start_time": "2022-10-23T13:28:05.702Z"
   },
   {
    "duration": 13,
    "start_time": "2022-10-23T13:28:13.361Z"
   },
   {
    "duration": 10,
    "start_time": "2022-10-23T13:29:13.440Z"
   },
   {
    "duration": 495,
    "start_time": "2022-10-23T13:29:30.299Z"
   },
   {
    "duration": 28,
    "start_time": "2022-10-23T13:29:30.796Z"
   },
   {
    "duration": 43,
    "start_time": "2022-10-23T13:29:30.826Z"
   },
   {
    "duration": 64,
    "start_time": "2022-10-23T13:29:30.871Z"
   },
   {
    "duration": 73,
    "start_time": "2022-10-23T13:29:30.936Z"
   },
   {
    "duration": 3,
    "start_time": "2022-10-23T13:29:31.011Z"
   },
   {
    "duration": 37,
    "start_time": "2022-10-23T13:29:31.016Z"
   },
   {
    "duration": 19,
    "start_time": "2022-10-23T13:29:31.055Z"
   },
   {
    "duration": 20,
    "start_time": "2022-10-23T13:29:31.075Z"
   },
   {
    "duration": 10,
    "start_time": "2022-10-23T13:29:31.099Z"
   },
   {
    "duration": 38,
    "start_time": "2022-10-23T13:29:31.111Z"
   },
   {
    "duration": 10,
    "start_time": "2022-10-23T13:29:31.150Z"
   },
   {
    "duration": 12,
    "start_time": "2022-10-23T13:29:31.162Z"
   },
   {
    "duration": 15,
    "start_time": "2022-10-23T13:29:31.176Z"
   },
   {
    "duration": 19,
    "start_time": "2022-10-23T13:29:31.193Z"
   },
   {
    "duration": 17,
    "start_time": "2022-10-23T13:29:31.220Z"
   },
   {
    "duration": 14,
    "start_time": "2022-10-23T13:29:31.238Z"
   },
   {
    "duration": 21,
    "start_time": "2022-10-23T13:29:31.253Z"
   },
   {
    "duration": 11,
    "start_time": "2022-10-23T13:29:31.276Z"
   },
   {
    "duration": 17,
    "start_time": "2022-10-23T13:29:31.289Z"
   },
   {
    "duration": 18,
    "start_time": "2022-10-23T13:29:31.308Z"
   },
   {
    "duration": 54,
    "start_time": "2022-10-23T13:29:31.327Z"
   },
   {
    "duration": 64,
    "start_time": "2022-10-23T13:29:31.383Z"
   },
   {
    "duration": 0,
    "start_time": "2022-10-23T13:29:31.449Z"
   },
   {
    "duration": 0,
    "start_time": "2022-10-23T13:29:31.450Z"
   },
   {
    "duration": 0,
    "start_time": "2022-10-23T13:29:31.451Z"
   },
   {
    "duration": 0,
    "start_time": "2022-10-23T13:29:31.452Z"
   },
   {
    "duration": 0,
    "start_time": "2022-10-23T13:29:31.453Z"
   },
   {
    "duration": 0,
    "start_time": "2022-10-23T13:29:31.454Z"
   },
   {
    "duration": 0,
    "start_time": "2022-10-23T13:29:31.454Z"
   },
   {
    "duration": 0,
    "start_time": "2022-10-23T13:29:31.455Z"
   },
   {
    "duration": 0,
    "start_time": "2022-10-23T13:29:31.456Z"
   },
   {
    "duration": 0,
    "start_time": "2022-10-23T13:29:31.457Z"
   },
   {
    "duration": 0,
    "start_time": "2022-10-23T13:29:31.458Z"
   },
   {
    "duration": 0,
    "start_time": "2022-10-23T13:29:31.459Z"
   },
   {
    "duration": 0,
    "start_time": "2022-10-23T13:29:31.460Z"
   },
   {
    "duration": 0,
    "start_time": "2022-10-23T13:29:31.461Z"
   },
   {
    "duration": 0,
    "start_time": "2022-10-23T13:29:31.462Z"
   },
   {
    "duration": 0,
    "start_time": "2022-10-23T13:29:31.463Z"
   },
   {
    "duration": 9,
    "start_time": "2022-10-23T13:30:28.673Z"
   },
   {
    "duration": 10,
    "start_time": "2022-10-23T13:30:35.806Z"
   },
   {
    "duration": 9,
    "start_time": "2022-10-23T13:30:56.600Z"
   },
   {
    "duration": 6,
    "start_time": "2022-10-23T13:31:17.979Z"
   },
   {
    "duration": 9,
    "start_time": "2022-10-23T13:31:20.085Z"
   },
   {
    "duration": 10,
    "start_time": "2022-10-23T13:33:10.949Z"
   },
   {
    "duration": 5,
    "start_time": "2022-10-23T13:33:17.023Z"
   },
   {
    "duration": 21,
    "start_time": "2022-10-23T13:33:23.232Z"
   },
   {
    "duration": 6,
    "start_time": "2022-10-23T13:34:07.517Z"
   },
   {
    "duration": 8,
    "start_time": "2022-10-23T13:37:03.506Z"
   },
   {
    "duration": 5,
    "start_time": "2022-10-23T13:37:11.681Z"
   },
   {
    "duration": 8,
    "start_time": "2022-10-23T13:37:48.793Z"
   },
   {
    "duration": 8,
    "start_time": "2022-10-23T13:44:41.959Z"
   },
   {
    "duration": 6,
    "start_time": "2022-10-23T13:44:43.770Z"
   },
   {
    "duration": 19,
    "start_time": "2022-10-23T13:45:07.070Z"
   },
   {
    "duration": 6,
    "start_time": "2022-10-23T13:48:40.855Z"
   },
   {
    "duration": 6,
    "start_time": "2022-10-23T13:51:20.260Z"
   },
   {
    "duration": 6,
    "start_time": "2022-10-23T13:51:36.437Z"
   },
   {
    "duration": 7,
    "start_time": "2022-10-23T13:51:39.943Z"
   },
   {
    "duration": 6,
    "start_time": "2022-10-23T13:51:45.279Z"
   },
   {
    "duration": 6,
    "start_time": "2022-10-23T13:51:48.595Z"
   },
   {
    "duration": 9,
    "start_time": "2022-10-23T13:53:49.438Z"
   },
   {
    "duration": 6,
    "start_time": "2022-10-23T13:54:59.346Z"
   },
   {
    "duration": 7,
    "start_time": "2022-10-23T13:55:04.507Z"
   },
   {
    "duration": 6,
    "start_time": "2022-10-23T13:55:21.964Z"
   },
   {
    "duration": 5,
    "start_time": "2022-10-23T14:00:30.936Z"
   },
   {
    "duration": 5,
    "start_time": "2022-10-23T14:01:31.579Z"
   },
   {
    "duration": 9,
    "start_time": "2022-10-23T14:01:41.284Z"
   },
   {
    "duration": 9,
    "start_time": "2022-10-23T14:04:36.587Z"
   },
   {
    "duration": 9,
    "start_time": "2022-10-23T14:09:49.806Z"
   },
   {
    "duration": 9,
    "start_time": "2022-10-23T14:12:04.179Z"
   },
   {
    "duration": 10,
    "start_time": "2022-10-23T14:15:16.935Z"
   },
   {
    "duration": 5,
    "start_time": "2022-10-23T14:15:22.644Z"
   },
   {
    "duration": 9,
    "start_time": "2022-10-23T14:15:40.167Z"
   },
   {
    "duration": 7,
    "start_time": "2022-10-23T14:16:11.023Z"
   },
   {
    "duration": 3,
    "start_time": "2022-10-23T14:16:46.083Z"
   },
   {
    "duration": 9,
    "start_time": "2022-10-23T14:17:01.714Z"
   },
   {
    "duration": 9,
    "start_time": "2022-10-23T14:23:05.649Z"
   },
   {
    "duration": 12,
    "start_time": "2022-10-23T14:23:08.126Z"
   },
   {
    "duration": 17,
    "start_time": "2022-10-23T14:24:29.550Z"
   },
   {
    "duration": 11,
    "start_time": "2022-10-23T14:28:44.514Z"
   },
   {
    "duration": 7,
    "start_time": "2022-10-23T14:28:53.352Z"
   },
   {
    "duration": 9,
    "start_time": "2022-10-23T14:29:04.091Z"
   },
   {
    "duration": 16,
    "start_time": "2022-10-23T14:30:59.857Z"
   },
   {
    "duration": 4,
    "start_time": "2022-10-23T14:32:21.513Z"
   },
   {
    "duration": 3,
    "start_time": "2022-10-23T14:32:29.400Z"
   },
   {
    "duration": 16,
    "start_time": "2022-10-23T14:33:02.670Z"
   },
   {
    "duration": 4,
    "start_time": "2022-10-23T14:33:05.161Z"
   },
   {
    "duration": 4,
    "start_time": "2022-10-23T14:33:10.383Z"
   },
   {
    "duration": 697,
    "start_time": "2022-10-23T14:34:42.040Z"
   },
   {
    "duration": 13,
    "start_time": "2022-10-23T14:34:50.146Z"
   },
   {
    "duration": 8,
    "start_time": "2022-10-23T14:36:50.083Z"
   },
   {
    "duration": 4,
    "start_time": "2022-10-23T14:36:59.144Z"
   },
   {
    "duration": 4,
    "start_time": "2022-10-23T14:37:10.203Z"
   },
   {
    "duration": 9,
    "start_time": "2022-10-23T14:37:20.868Z"
   },
   {
    "duration": 9,
    "start_time": "2022-10-23T14:39:35.880Z"
   },
   {
    "duration": 3,
    "start_time": "2022-10-23T14:40:24.309Z"
   },
   {
    "duration": 9,
    "start_time": "2022-10-23T14:40:26.382Z"
   },
   {
    "duration": 22,
    "start_time": "2022-10-23T14:40:34.423Z"
   },
   {
    "duration": 10,
    "start_time": "2022-10-23T14:40:37.591Z"
   },
   {
    "duration": 9,
    "start_time": "2022-10-23T14:40:47.232Z"
   },
   {
    "duration": 43,
    "start_time": "2022-10-23T14:41:04.380Z"
   },
   {
    "duration": 45,
    "start_time": "2022-10-23T14:41:07.857Z"
   },
   {
    "duration": 74,
    "start_time": "2022-10-23T14:41:17.018Z"
   },
   {
    "duration": 39,
    "start_time": "2022-10-23T14:42:16.734Z"
   },
   {
    "duration": 7,
    "start_time": "2022-10-23T14:43:50.930Z"
   },
   {
    "duration": 9,
    "start_time": "2022-10-23T14:44:26.746Z"
   },
   {
    "duration": 4,
    "start_time": "2022-10-23T14:45:30.880Z"
   },
   {
    "duration": 20,
    "start_time": "2022-10-23T14:45:34.115Z"
   },
   {
    "duration": 9,
    "start_time": "2022-10-23T14:45:36.182Z"
   },
   {
    "duration": 11,
    "start_time": "2022-10-23T14:46:08.293Z"
   },
   {
    "duration": 432,
    "start_time": "2022-10-23T14:47:25.035Z"
   },
   {
    "duration": 32,
    "start_time": "2022-10-23T14:47:25.468Z"
   },
   {
    "duration": 25,
    "start_time": "2022-10-23T14:47:25.502Z"
   },
   {
    "duration": 9,
    "start_time": "2022-10-23T14:47:25.529Z"
   },
   {
    "duration": 30,
    "start_time": "2022-10-23T14:47:25.540Z"
   },
   {
    "duration": 3,
    "start_time": "2022-10-23T14:47:25.572Z"
   },
   {
    "duration": 17,
    "start_time": "2022-10-23T14:47:25.577Z"
   },
   {
    "duration": 5,
    "start_time": "2022-10-23T14:47:25.595Z"
   },
   {
    "duration": 25,
    "start_time": "2022-10-23T14:47:25.601Z"
   },
   {
    "duration": 5,
    "start_time": "2022-10-23T14:47:25.628Z"
   },
   {
    "duration": 32,
    "start_time": "2022-10-23T14:47:25.634Z"
   },
   {
    "duration": 9,
    "start_time": "2022-10-23T14:47:25.667Z"
   },
   {
    "duration": 3,
    "start_time": "2022-10-23T14:47:25.678Z"
   },
   {
    "duration": 11,
    "start_time": "2022-10-23T14:47:25.682Z"
   },
   {
    "duration": 18,
    "start_time": "2022-10-23T14:47:25.721Z"
   },
   {
    "duration": 16,
    "start_time": "2022-10-23T14:47:25.741Z"
   },
   {
    "duration": 3,
    "start_time": "2022-10-23T14:47:25.758Z"
   },
   {
    "duration": 18,
    "start_time": "2022-10-23T14:47:25.763Z"
   },
   {
    "duration": 8,
    "start_time": "2022-10-23T14:47:25.783Z"
   },
   {
    "duration": 4,
    "start_time": "2022-10-23T14:47:25.792Z"
   },
   {
    "duration": 29,
    "start_time": "2022-10-23T14:47:25.798Z"
   },
   {
    "duration": 10,
    "start_time": "2022-10-23T14:47:25.829Z"
   },
   {
    "duration": 85,
    "start_time": "2022-10-23T14:47:25.840Z"
   },
   {
    "duration": 0,
    "start_time": "2022-10-23T14:47:25.927Z"
   },
   {
    "duration": 0,
    "start_time": "2022-10-23T14:47:25.928Z"
   },
   {
    "duration": 0,
    "start_time": "2022-10-23T14:47:25.929Z"
   },
   {
    "duration": 0,
    "start_time": "2022-10-23T14:47:25.931Z"
   },
   {
    "duration": 0,
    "start_time": "2022-10-23T14:47:25.932Z"
   },
   {
    "duration": 0,
    "start_time": "2022-10-23T14:47:25.933Z"
   },
   {
    "duration": 0,
    "start_time": "2022-10-23T14:47:25.934Z"
   },
   {
    "duration": 0,
    "start_time": "2022-10-23T14:47:25.935Z"
   },
   {
    "duration": 0,
    "start_time": "2022-10-23T14:47:25.936Z"
   },
   {
    "duration": 0,
    "start_time": "2022-10-23T14:47:25.937Z"
   },
   {
    "duration": 0,
    "start_time": "2022-10-23T14:47:25.938Z"
   },
   {
    "duration": 0,
    "start_time": "2022-10-23T14:47:25.939Z"
   },
   {
    "duration": 0,
    "start_time": "2022-10-23T14:47:25.940Z"
   },
   {
    "duration": 0,
    "start_time": "2022-10-23T14:47:25.941Z"
   },
   {
    "duration": 0,
    "start_time": "2022-10-23T14:47:25.942Z"
   },
   {
    "duration": 0,
    "start_time": "2022-10-23T14:47:25.943Z"
   },
   {
    "duration": 7,
    "start_time": "2022-10-23T14:47:31.667Z"
   },
   {
    "duration": 9,
    "start_time": "2022-10-23T14:48:00.457Z"
   },
   {
    "duration": 14,
    "start_time": "2022-10-23T14:48:00.787Z"
   },
   {
    "duration": 8,
    "start_time": "2022-10-23T14:48:01.577Z"
   },
   {
    "duration": 8,
    "start_time": "2022-10-23T14:48:35.622Z"
   },
   {
    "duration": 12,
    "start_time": "2022-10-23T14:48:37.506Z"
   },
   {
    "duration": 12,
    "start_time": "2022-10-23T14:49:09.420Z"
   },
   {
    "duration": 7,
    "start_time": "2022-10-23T14:49:10.377Z"
   },
   {
    "duration": 12,
    "start_time": "2022-10-23T14:49:14.531Z"
   },
   {
    "duration": 12,
    "start_time": "2022-10-23T14:49:25.502Z"
   },
   {
    "duration": 11,
    "start_time": "2022-10-23T14:49:46.862Z"
   },
   {
    "duration": 6,
    "start_time": "2022-10-23T14:50:04.057Z"
   },
   {
    "duration": 4,
    "start_time": "2022-10-23T14:50:13.151Z"
   },
   {
    "duration": 4,
    "start_time": "2022-10-23T14:50:41.266Z"
   },
   {
    "duration": 7,
    "start_time": "2022-10-23T14:50:49.515Z"
   },
   {
    "duration": 7,
    "start_time": "2022-10-23T14:50:59.581Z"
   },
   {
    "duration": 12,
    "start_time": "2022-10-23T14:51:19.896Z"
   },
   {
    "duration": 10,
    "start_time": "2022-10-23T14:51:28.817Z"
   },
   {
    "duration": 12,
    "start_time": "2022-10-23T14:51:33.196Z"
   },
   {
    "duration": 8,
    "start_time": "2022-10-23T14:52:53.837Z"
   },
   {
    "duration": 58,
    "start_time": "2022-10-23T14:52:58.136Z"
   },
   {
    "duration": 17,
    "start_time": "2022-10-23T14:52:58.196Z"
   },
   {
    "duration": 44,
    "start_time": "2022-10-23T14:52:58.214Z"
   },
   {
    "duration": 25,
    "start_time": "2022-10-23T14:52:58.260Z"
   },
   {
    "duration": 46,
    "start_time": "2022-10-23T14:52:58.286Z"
   },
   {
    "duration": 4,
    "start_time": "2022-10-23T14:52:58.334Z"
   },
   {
    "duration": 35,
    "start_time": "2022-10-23T14:52:58.339Z"
   },
   {
    "duration": 26,
    "start_time": "2022-10-23T14:52:58.376Z"
   },
   {
    "duration": 19,
    "start_time": "2022-10-23T14:52:58.404Z"
   },
   {
    "duration": 16,
    "start_time": "2022-10-23T14:52:58.426Z"
   },
   {
    "duration": 43,
    "start_time": "2022-10-23T14:52:58.444Z"
   },
   {
    "duration": 14,
    "start_time": "2022-10-23T14:52:58.489Z"
   },
   {
    "duration": 14,
    "start_time": "2022-10-23T14:52:58.505Z"
   },
   {
    "duration": 48,
    "start_time": "2022-10-23T14:52:58.521Z"
   },
   {
    "duration": 41,
    "start_time": "2022-10-23T14:52:58.571Z"
   },
   {
    "duration": 17,
    "start_time": "2022-10-23T14:52:58.614Z"
   },
   {
    "duration": 3,
    "start_time": "2022-10-23T14:52:58.633Z"
   },
   {
    "duration": 13,
    "start_time": "2022-10-23T14:52:58.638Z"
   },
   {
    "duration": 10,
    "start_time": "2022-10-23T14:52:58.652Z"
   },
   {
    "duration": 5,
    "start_time": "2022-10-23T14:52:58.664Z"
   },
   {
    "duration": 15,
    "start_time": "2022-10-23T14:52:58.670Z"
   },
   {
    "duration": 24,
    "start_time": "2022-10-23T14:52:58.687Z"
   },
   {
    "duration": 13,
    "start_time": "2022-10-23T14:52:58.713Z"
   },
   {
    "duration": 0,
    "start_time": "2022-10-23T14:52:58.727Z"
   },
   {
    "duration": 52,
    "start_time": "2022-10-23T14:53:03.223Z"
   },
   {
    "duration": 15,
    "start_time": "2022-10-23T14:53:03.277Z"
   },
   {
    "duration": 32,
    "start_time": "2022-10-23T14:53:03.293Z"
   },
   {
    "duration": 21,
    "start_time": "2022-10-23T14:53:03.327Z"
   },
   {
    "duration": 35,
    "start_time": "2022-10-23T14:53:03.350Z"
   },
   {
    "duration": 3,
    "start_time": "2022-10-23T14:53:03.387Z"
   },
   {
    "duration": 24,
    "start_time": "2022-10-23T14:53:03.392Z"
   },
   {
    "duration": 20,
    "start_time": "2022-10-23T14:53:03.420Z"
   },
   {
    "duration": 26,
    "start_time": "2022-10-23T14:53:03.442Z"
   },
   {
    "duration": 16,
    "start_time": "2022-10-23T14:53:03.471Z"
   },
   {
    "duration": 36,
    "start_time": "2022-10-23T14:53:03.488Z"
   },
   {
    "duration": 8,
    "start_time": "2022-10-23T14:53:03.526Z"
   },
   {
    "duration": 26,
    "start_time": "2022-10-23T14:53:03.536Z"
   },
   {
    "duration": 18,
    "start_time": "2022-10-23T14:53:03.564Z"
   },
   {
    "duration": 26,
    "start_time": "2022-10-23T14:53:03.583Z"
   },
   {
    "duration": 16,
    "start_time": "2022-10-23T14:53:03.611Z"
   },
   {
    "duration": 23,
    "start_time": "2022-10-23T14:53:03.628Z"
   },
   {
    "duration": 25,
    "start_time": "2022-10-23T14:53:03.652Z"
   },
   {
    "duration": 18,
    "start_time": "2022-10-23T14:53:03.679Z"
   },
   {
    "duration": 15,
    "start_time": "2022-10-23T14:53:03.698Z"
   },
   {
    "duration": 32,
    "start_time": "2022-10-23T14:53:03.714Z"
   },
   {
    "duration": 34,
    "start_time": "2022-10-23T14:53:03.747Z"
   },
   {
    "duration": 24,
    "start_time": "2022-10-23T14:53:03.783Z"
   },
   {
    "duration": 0,
    "start_time": "2022-10-23T14:53:03.809Z"
   },
   {
    "duration": 0,
    "start_time": "2022-10-23T14:53:03.811Z"
   },
   {
    "duration": 0,
    "start_time": "2022-10-23T14:53:03.812Z"
   },
   {
    "duration": 0,
    "start_time": "2022-10-23T14:53:03.814Z"
   },
   {
    "duration": 0,
    "start_time": "2022-10-23T14:53:03.816Z"
   },
   {
    "duration": 0,
    "start_time": "2022-10-23T14:53:03.817Z"
   },
   {
    "duration": 0,
    "start_time": "2022-10-23T14:53:03.822Z"
   },
   {
    "duration": 0,
    "start_time": "2022-10-23T14:53:03.824Z"
   },
   {
    "duration": 0,
    "start_time": "2022-10-23T14:53:03.825Z"
   },
   {
    "duration": 0,
    "start_time": "2022-10-23T14:53:03.826Z"
   },
   {
    "duration": 0,
    "start_time": "2022-10-23T14:53:03.828Z"
   },
   {
    "duration": 0,
    "start_time": "2022-10-23T14:53:03.830Z"
   },
   {
    "duration": 0,
    "start_time": "2022-10-23T14:53:03.831Z"
   },
   {
    "duration": 0,
    "start_time": "2022-10-23T14:53:03.832Z"
   },
   {
    "duration": 0,
    "start_time": "2022-10-23T14:53:03.833Z"
   },
   {
    "duration": 0,
    "start_time": "2022-10-23T14:53:03.834Z"
   },
   {
    "duration": 0,
    "start_time": "2022-10-23T14:53:03.835Z"
   },
   {
    "duration": 12,
    "start_time": "2022-10-23T14:53:17.059Z"
   },
   {
    "duration": 6,
    "start_time": "2022-10-23T14:53:34.746Z"
   },
   {
    "duration": 4,
    "start_time": "2022-10-23T14:53:40.395Z"
   },
   {
    "duration": 4,
    "start_time": "2022-10-23T14:53:48.208Z"
   },
   {
    "duration": 12,
    "start_time": "2022-10-23T14:53:51.429Z"
   },
   {
    "duration": 474,
    "start_time": "2022-10-23T14:54:42.106Z"
   },
   {
    "duration": 22,
    "start_time": "2022-10-23T14:54:42.582Z"
   },
   {
    "duration": 21,
    "start_time": "2022-10-23T14:54:42.606Z"
   },
   {
    "duration": 10,
    "start_time": "2022-10-23T14:54:42.630Z"
   },
   {
    "duration": 38,
    "start_time": "2022-10-23T14:54:42.642Z"
   },
   {
    "duration": 4,
    "start_time": "2022-10-23T14:54:42.682Z"
   },
   {
    "duration": 14,
    "start_time": "2022-10-23T14:54:42.687Z"
   },
   {
    "duration": 22,
    "start_time": "2022-10-23T14:54:42.703Z"
   },
   {
    "duration": 12,
    "start_time": "2022-10-23T14:54:42.727Z"
   },
   {
    "duration": 6,
    "start_time": "2022-10-23T14:54:42.742Z"
   },
   {
    "duration": 57,
    "start_time": "2022-10-23T14:54:42.749Z"
   },
   {
    "duration": 10,
    "start_time": "2022-10-23T14:54:42.807Z"
   },
   {
    "duration": 4,
    "start_time": "2022-10-23T14:54:42.820Z"
   },
   {
    "duration": 15,
    "start_time": "2022-10-23T14:54:42.825Z"
   },
   {
    "duration": 24,
    "start_time": "2022-10-23T14:54:42.842Z"
   },
   {
    "duration": 17,
    "start_time": "2022-10-23T14:54:42.867Z"
   },
   {
    "duration": 3,
    "start_time": "2022-10-23T14:54:42.885Z"
   },
   {
    "duration": 13,
    "start_time": "2022-10-23T14:54:42.890Z"
   },
   {
    "duration": 6,
    "start_time": "2022-10-23T14:54:42.921Z"
   },
   {
    "duration": 5,
    "start_time": "2022-10-23T14:54:42.928Z"
   },
   {
    "duration": 14,
    "start_time": "2022-10-23T14:54:42.934Z"
   },
   {
    "duration": 9,
    "start_time": "2022-10-23T14:54:42.949Z"
   },
   {
    "duration": 95,
    "start_time": "2022-10-23T14:54:42.959Z"
   },
   {
    "duration": 0,
    "start_time": "2022-10-23T14:54:43.055Z"
   },
   {
    "duration": 0,
    "start_time": "2022-10-23T14:54:43.057Z"
   },
   {
    "duration": 0,
    "start_time": "2022-10-23T14:54:43.058Z"
   },
   {
    "duration": 0,
    "start_time": "2022-10-23T14:54:43.059Z"
   },
   {
    "duration": 0,
    "start_time": "2022-10-23T14:54:43.060Z"
   },
   {
    "duration": 0,
    "start_time": "2022-10-23T14:54:43.061Z"
   },
   {
    "duration": 0,
    "start_time": "2022-10-23T14:54:43.062Z"
   },
   {
    "duration": 0,
    "start_time": "2022-10-23T14:54:43.063Z"
   },
   {
    "duration": 0,
    "start_time": "2022-10-23T14:54:43.064Z"
   },
   {
    "duration": 0,
    "start_time": "2022-10-23T14:54:43.065Z"
   },
   {
    "duration": 0,
    "start_time": "2022-10-23T14:54:43.067Z"
   },
   {
    "duration": 0,
    "start_time": "2022-10-23T14:54:43.068Z"
   },
   {
    "duration": 0,
    "start_time": "2022-10-23T14:54:43.069Z"
   },
   {
    "duration": 0,
    "start_time": "2022-10-23T14:54:43.070Z"
   },
   {
    "duration": 0,
    "start_time": "2022-10-23T14:54:43.071Z"
   },
   {
    "duration": 0,
    "start_time": "2022-10-23T14:54:43.072Z"
   },
   {
    "duration": 0,
    "start_time": "2022-10-23T14:54:43.073Z"
   },
   {
    "duration": 3,
    "start_time": "2022-10-23T14:55:02.568Z"
   },
   {
    "duration": 8,
    "start_time": "2022-10-23T14:55:04.164Z"
   },
   {
    "duration": 8,
    "start_time": "2022-10-23T14:55:05.549Z"
   },
   {
    "duration": 13,
    "start_time": "2022-10-23T14:55:07.356Z"
   },
   {
    "duration": 7,
    "start_time": "2022-10-23T14:55:25.161Z"
   },
   {
    "duration": 4,
    "start_time": "2022-10-23T14:55:36.807Z"
   },
   {
    "duration": 3,
    "start_time": "2022-10-23T14:59:26.748Z"
   },
   {
    "duration": 5,
    "start_time": "2022-10-23T14:59:31.168Z"
   },
   {
    "duration": 2,
    "start_time": "2022-10-23T14:59:43.090Z"
   },
   {
    "duration": 2,
    "start_time": "2022-10-23T14:59:46.990Z"
   },
   {
    "duration": 5,
    "start_time": "2022-10-23T14:59:50.194Z"
   },
   {
    "duration": 3,
    "start_time": "2022-10-23T15:00:05.710Z"
   },
   {
    "duration": 9,
    "start_time": "2022-10-23T15:00:25.412Z"
   },
   {
    "duration": 9,
    "start_time": "2022-10-23T15:02:00.560Z"
   },
   {
    "duration": 54,
    "start_time": "2022-10-23T15:02:06.929Z"
   },
   {
    "duration": 15,
    "start_time": "2022-10-23T15:02:06.985Z"
   },
   {
    "duration": 45,
    "start_time": "2022-10-23T15:02:07.002Z"
   },
   {
    "duration": 28,
    "start_time": "2022-10-23T15:02:07.050Z"
   },
   {
    "duration": 65,
    "start_time": "2022-10-23T15:02:07.080Z"
   },
   {
    "duration": 8,
    "start_time": "2022-10-23T15:02:07.147Z"
   },
   {
    "duration": 23,
    "start_time": "2022-10-23T15:02:07.156Z"
   },
   {
    "duration": 25,
    "start_time": "2022-10-23T15:02:07.181Z"
   },
   {
    "duration": 29,
    "start_time": "2022-10-23T15:02:07.208Z"
   },
   {
    "duration": 21,
    "start_time": "2022-10-23T15:02:07.240Z"
   },
   {
    "duration": 74,
    "start_time": "2022-10-23T15:02:07.263Z"
   },
   {
    "duration": 16,
    "start_time": "2022-10-23T15:02:07.338Z"
   },
   {
    "duration": 74,
    "start_time": "2022-10-23T15:02:07.356Z"
   },
   {
    "duration": 35,
    "start_time": "2022-10-23T15:02:07.431Z"
   },
   {
    "duration": 60,
    "start_time": "2022-10-23T15:02:07.467Z"
   },
   {
    "duration": 41,
    "start_time": "2022-10-23T15:02:07.529Z"
   },
   {
    "duration": 12,
    "start_time": "2022-10-23T15:02:07.572Z"
   },
   {
    "duration": 54,
    "start_time": "2022-10-23T15:02:07.585Z"
   },
   {
    "duration": 36,
    "start_time": "2022-10-23T15:02:07.641Z"
   },
   {
    "duration": 22,
    "start_time": "2022-10-23T15:02:07.679Z"
   },
   {
    "duration": 50,
    "start_time": "2022-10-23T15:02:07.703Z"
   },
   {
    "duration": 27,
    "start_time": "2022-10-23T15:02:07.755Z"
   },
   {
    "duration": 41,
    "start_time": "2022-10-23T15:02:07.784Z"
   },
   {
    "duration": 55,
    "start_time": "2022-10-23T15:02:07.827Z"
   },
   {
    "duration": 384,
    "start_time": "2022-10-23T15:02:07.883Z"
   },
   {
    "duration": 10,
    "start_time": "2022-10-23T15:02:08.269Z"
   },
   {
    "duration": 40,
    "start_time": "2022-10-23T15:02:08.280Z"
   },
   {
    "duration": 65,
    "start_time": "2022-10-23T15:02:08.323Z"
   },
   {
    "duration": 24,
    "start_time": "2022-10-23T15:02:08.390Z"
   },
   {
    "duration": 139,
    "start_time": "2022-10-23T15:02:08.415Z"
   },
   {
    "duration": 10,
    "start_time": "2022-10-23T15:02:08.556Z"
   },
   {
    "duration": 55,
    "start_time": "2022-10-23T15:02:08.568Z"
   },
   {
    "duration": 52,
    "start_time": "2022-10-23T15:02:08.624Z"
   },
   {
    "duration": 16,
    "start_time": "2022-10-23T15:02:08.678Z"
   },
   {
    "duration": 119,
    "start_time": "2022-10-23T15:02:08.695Z"
   },
   {
    "duration": 11,
    "start_time": "2022-10-23T15:02:08.816Z"
   },
   {
    "duration": 50,
    "start_time": "2022-10-23T15:02:08.828Z"
   },
   {
    "duration": 43,
    "start_time": "2022-10-23T15:02:08.880Z"
   },
   {
    "duration": 140,
    "start_time": "2022-10-23T15:02:08.925Z"
   },
   {
    "duration": 394,
    "start_time": "2022-10-23T15:02:21.278Z"
   },
   {
    "duration": 21,
    "start_time": "2022-10-23T15:02:21.674Z"
   },
   {
    "duration": 15,
    "start_time": "2022-10-23T15:02:21.697Z"
   },
   {
    "duration": 13,
    "start_time": "2022-10-23T15:02:21.721Z"
   },
   {
    "duration": 36,
    "start_time": "2022-10-23T15:02:21.735Z"
   },
   {
    "duration": 4,
    "start_time": "2022-10-23T15:02:21.773Z"
   },
   {
    "duration": 22,
    "start_time": "2022-10-23T15:02:21.779Z"
   },
   {
    "duration": 30,
    "start_time": "2022-10-23T15:02:21.803Z"
   },
   {
    "duration": 54,
    "start_time": "2022-10-23T15:02:21.835Z"
   },
   {
    "duration": 29,
    "start_time": "2022-10-23T15:02:21.891Z"
   },
   {
    "duration": 72,
    "start_time": "2022-10-23T15:02:21.921Z"
   },
   {
    "duration": 38,
    "start_time": "2022-10-23T15:02:21.995Z"
   },
   {
    "duration": 20,
    "start_time": "2022-10-23T15:02:22.035Z"
   },
   {
    "duration": 47,
    "start_time": "2022-10-23T15:02:22.057Z"
   },
   {
    "duration": 63,
    "start_time": "2022-10-23T15:02:22.106Z"
   },
   {
    "duration": 40,
    "start_time": "2022-10-23T15:02:22.171Z"
   },
   {
    "duration": 22,
    "start_time": "2022-10-23T15:02:22.213Z"
   },
   {
    "duration": 36,
    "start_time": "2022-10-23T15:02:22.237Z"
   },
   {
    "duration": 45,
    "start_time": "2022-10-23T15:02:22.275Z"
   },
   {
    "duration": 36,
    "start_time": "2022-10-23T15:02:22.322Z"
   },
   {
    "duration": 28,
    "start_time": "2022-10-23T15:02:22.359Z"
   },
   {
    "duration": 48,
    "start_time": "2022-10-23T15:02:22.389Z"
   },
   {
    "duration": 23,
    "start_time": "2022-10-23T15:02:22.439Z"
   },
   {
    "duration": 48,
    "start_time": "2022-10-23T15:02:22.464Z"
   },
   {
    "duration": 366,
    "start_time": "2022-10-23T15:02:22.513Z"
   },
   {
    "duration": 9,
    "start_time": "2022-10-23T15:02:22.880Z"
   },
   {
    "duration": 37,
    "start_time": "2022-10-23T15:02:22.890Z"
   },
   {
    "duration": 71,
    "start_time": "2022-10-23T15:02:22.931Z"
   },
   {
    "duration": 15,
    "start_time": "2022-10-23T15:02:23.004Z"
   },
   {
    "duration": 162,
    "start_time": "2022-10-23T15:02:23.020Z"
   },
   {
    "duration": 8,
    "start_time": "2022-10-23T15:02:23.184Z"
   },
   {
    "duration": 13,
    "start_time": "2022-10-23T15:02:23.194Z"
   },
   {
    "duration": 40,
    "start_time": "2022-10-23T15:02:23.209Z"
   },
   {
    "duration": 21,
    "start_time": "2022-10-23T15:02:23.251Z"
   },
   {
    "duration": 132,
    "start_time": "2022-10-23T15:02:23.274Z"
   },
   {
    "duration": 16,
    "start_time": "2022-10-23T15:02:23.407Z"
   },
   {
    "duration": 32,
    "start_time": "2022-10-23T15:02:23.425Z"
   },
   {
    "duration": 19,
    "start_time": "2022-10-23T15:02:23.459Z"
   },
   {
    "duration": 120,
    "start_time": "2022-10-23T15:02:23.480Z"
   },
   {
    "duration": 10,
    "start_time": "2022-10-23T15:05:34.204Z"
   },
   {
    "duration": 342,
    "start_time": "2022-10-23T15:06:43.690Z"
   },
   {
    "duration": 79,
    "start_time": "2022-10-23T15:11:00.716Z"
   },
   {
    "duration": 52,
    "start_time": "2022-10-23T15:11:12.146Z"
   },
   {
    "duration": 8,
    "start_time": "2022-10-23T15:13:39.342Z"
   },
   {
    "duration": 3,
    "start_time": "2022-10-23T15:13:46.050Z"
   },
   {
    "duration": 9,
    "start_time": "2022-10-23T15:13:47.100Z"
   },
   {
    "duration": 42,
    "start_time": "2022-10-23T15:17:15.284Z"
   },
   {
    "duration": 41,
    "start_time": "2022-10-23T15:17:30.681Z"
   },
   {
    "duration": 50,
    "start_time": "2022-10-23T15:17:36.893Z"
   },
   {
    "duration": 46,
    "start_time": "2022-10-23T15:17:49.850Z"
   },
   {
    "duration": 39,
    "start_time": "2022-10-23T15:18:24.873Z"
   },
   {
    "duration": 45,
    "start_time": "2022-10-23T15:18:34.554Z"
   },
   {
    "duration": 43,
    "start_time": "2022-10-23T15:19:10.125Z"
   },
   {
    "duration": 40,
    "start_time": "2022-10-23T15:19:21.094Z"
   },
   {
    "duration": 100,
    "start_time": "2022-10-23T15:20:49.737Z"
   },
   {
    "duration": 10,
    "start_time": "2022-10-23T15:22:21.266Z"
   },
   {
    "duration": 5,
    "start_time": "2022-10-23T15:22:37.919Z"
   },
   {
    "duration": 11,
    "start_time": "2022-10-23T15:29:10.553Z"
   },
   {
    "duration": 5,
    "start_time": "2022-10-23T15:29:49.679Z"
   },
   {
    "duration": 11,
    "start_time": "2022-10-23T15:31:29.348Z"
   },
   {
    "duration": 10,
    "start_time": "2022-10-23T15:32:55.064Z"
   },
   {
    "duration": 109,
    "start_time": "2022-10-23T15:32:57.069Z"
   },
   {
    "duration": 476,
    "start_time": "2022-10-23T15:42:59.164Z"
   },
   {
    "duration": 23,
    "start_time": "2022-10-23T15:42:59.642Z"
   },
   {
    "duration": 15,
    "start_time": "2022-10-23T15:42:59.667Z"
   },
   {
    "duration": 11,
    "start_time": "2022-10-23T15:42:59.684Z"
   },
   {
    "duration": 58,
    "start_time": "2022-10-23T15:42:59.697Z"
   },
   {
    "duration": 4,
    "start_time": "2022-10-23T15:42:59.758Z"
   },
   {
    "duration": 21,
    "start_time": "2022-10-23T15:42:59.764Z"
   },
   {
    "duration": 5,
    "start_time": "2022-10-23T15:42:59.787Z"
   },
   {
    "duration": 10,
    "start_time": "2022-10-23T15:42:59.795Z"
   },
   {
    "duration": 5,
    "start_time": "2022-10-23T15:42:59.823Z"
   },
   {
    "duration": 45,
    "start_time": "2022-10-23T15:42:59.830Z"
   },
   {
    "duration": 9,
    "start_time": "2022-10-23T15:42:59.877Z"
   },
   {
    "duration": 3,
    "start_time": "2022-10-23T15:42:59.888Z"
   },
   {
    "duration": 35,
    "start_time": "2022-10-23T15:42:59.893Z"
   },
   {
    "duration": 19,
    "start_time": "2022-10-23T15:42:59.929Z"
   },
   {
    "duration": 17,
    "start_time": "2022-10-23T15:42:59.950Z"
   },
   {
    "duration": 4,
    "start_time": "2022-10-23T15:42:59.968Z"
   },
   {
    "duration": 23,
    "start_time": "2022-10-23T15:42:59.974Z"
   },
   {
    "duration": 23,
    "start_time": "2022-10-23T15:42:59.999Z"
   },
   {
    "duration": 18,
    "start_time": "2022-10-23T15:43:00.024Z"
   },
   {
    "duration": 39,
    "start_time": "2022-10-23T15:43:00.043Z"
   },
   {
    "duration": 17,
    "start_time": "2022-10-23T15:43:00.084Z"
   },
   {
    "duration": 12,
    "start_time": "2022-10-23T15:43:00.104Z"
   },
   {
    "duration": 56,
    "start_time": "2022-10-23T15:43:00.118Z"
   },
   {
    "duration": 412,
    "start_time": "2022-10-23T15:43:00.177Z"
   },
   {
    "duration": 12,
    "start_time": "2022-10-23T15:43:00.591Z"
   },
   {
    "duration": 43,
    "start_time": "2022-10-23T15:43:00.605Z"
   },
   {
    "duration": 95,
    "start_time": "2022-10-23T15:43:00.653Z"
   },
   {
    "duration": 46,
    "start_time": "2022-10-23T15:43:00.750Z"
   },
   {
    "duration": 188,
    "start_time": "2022-10-23T15:43:00.798Z"
   },
   {
    "duration": 10,
    "start_time": "2022-10-23T15:43:00.988Z"
   },
   {
    "duration": 41,
    "start_time": "2022-10-23T15:43:01.000Z"
   },
   {
    "duration": 138,
    "start_time": "2022-10-23T15:43:01.043Z"
   },
   {
    "duration": 0,
    "start_time": "2022-10-23T15:43:01.182Z"
   },
   {
    "duration": 0,
    "start_time": "2022-10-23T15:43:01.183Z"
   },
   {
    "duration": 0,
    "start_time": "2022-10-23T15:43:01.185Z"
   },
   {
    "duration": 0,
    "start_time": "2022-10-23T15:43:01.186Z"
   },
   {
    "duration": 0,
    "start_time": "2022-10-23T15:43:01.187Z"
   },
   {
    "duration": 0,
    "start_time": "2022-10-23T15:43:01.188Z"
   },
   {
    "duration": 0,
    "start_time": "2022-10-23T15:43:01.189Z"
   },
   {
    "duration": 11,
    "start_time": "2022-10-23T15:43:35.621Z"
   },
   {
    "duration": 9,
    "start_time": "2022-10-23T15:44:01.931Z"
   },
   {
    "duration": 31,
    "start_time": "2022-10-23T15:44:20.778Z"
   },
   {
    "duration": 9,
    "start_time": "2022-10-23T15:44:44.122Z"
   },
   {
    "duration": 439,
    "start_time": "2022-10-23T15:45:07.978Z"
   },
   {
    "duration": 23,
    "start_time": "2022-10-23T15:45:08.419Z"
   },
   {
    "duration": 18,
    "start_time": "2022-10-23T15:45:08.444Z"
   },
   {
    "duration": 20,
    "start_time": "2022-10-23T15:45:08.464Z"
   },
   {
    "duration": 56,
    "start_time": "2022-10-23T15:45:08.485Z"
   },
   {
    "duration": 4,
    "start_time": "2022-10-23T15:45:08.543Z"
   },
   {
    "duration": 13,
    "start_time": "2022-10-23T15:45:08.548Z"
   },
   {
    "duration": 13,
    "start_time": "2022-10-23T15:45:08.563Z"
   },
   {
    "duration": 21,
    "start_time": "2022-10-23T15:45:08.578Z"
   },
   {
    "duration": 6,
    "start_time": "2022-10-23T15:45:08.604Z"
   },
   {
    "duration": 64,
    "start_time": "2022-10-23T15:45:08.611Z"
   },
   {
    "duration": 12,
    "start_time": "2022-10-23T15:45:08.677Z"
   },
   {
    "duration": 19,
    "start_time": "2022-10-23T15:45:08.691Z"
   },
   {
    "duration": 28,
    "start_time": "2022-10-23T15:45:08.713Z"
   },
   {
    "duration": 46,
    "start_time": "2022-10-23T15:45:08.743Z"
   },
   {
    "duration": 17,
    "start_time": "2022-10-23T15:45:08.791Z"
   },
   {
    "duration": 6,
    "start_time": "2022-10-23T15:45:08.810Z"
   },
   {
    "duration": 23,
    "start_time": "2022-10-23T15:45:08.817Z"
   },
   {
    "duration": 23,
    "start_time": "2022-10-23T15:45:08.841Z"
   },
   {
    "duration": 25,
    "start_time": "2022-10-23T15:45:08.867Z"
   },
   {
    "duration": 40,
    "start_time": "2022-10-23T15:45:08.894Z"
   },
   {
    "duration": 34,
    "start_time": "2022-10-23T15:45:08.936Z"
   },
   {
    "duration": 33,
    "start_time": "2022-10-23T15:45:08.972Z"
   },
   {
    "duration": 74,
    "start_time": "2022-10-23T15:45:09.008Z"
   },
   {
    "duration": 389,
    "start_time": "2022-10-23T15:45:09.084Z"
   },
   {
    "duration": 9,
    "start_time": "2022-10-23T15:45:09.475Z"
   },
   {
    "duration": 15,
    "start_time": "2022-10-23T15:45:09.486Z"
   },
   {
    "duration": 52,
    "start_time": "2022-10-23T15:45:09.504Z"
   },
   {
    "duration": 12,
    "start_time": "2022-10-23T15:45:09.557Z"
   },
   {
    "duration": 157,
    "start_time": "2022-10-23T15:45:09.571Z"
   },
   {
    "duration": 11,
    "start_time": "2022-10-23T15:45:09.731Z"
   },
   {
    "duration": 16,
    "start_time": "2022-10-23T15:45:09.744Z"
   },
   {
    "duration": 33,
    "start_time": "2022-10-23T15:45:09.762Z"
   },
   {
    "duration": 9,
    "start_time": "2022-10-23T15:45:09.797Z"
   },
   {
    "duration": 116,
    "start_time": "2022-10-23T15:45:09.827Z"
   },
   {
    "duration": 11,
    "start_time": "2022-10-23T15:45:09.945Z"
   },
   {
    "duration": 5,
    "start_time": "2022-10-23T15:45:09.958Z"
   },
   {
    "duration": 27,
    "start_time": "2022-10-23T15:45:09.965Z"
   },
   {
    "duration": 9,
    "start_time": "2022-10-23T15:45:09.994Z"
   },
   {
    "duration": 123,
    "start_time": "2022-10-23T15:45:10.021Z"
   },
   {
    "duration": 141,
    "start_time": "2022-10-23T15:46:03.215Z"
   },
   {
    "duration": 10,
    "start_time": "2022-10-23T15:46:34.890Z"
   },
   {
    "duration": 487,
    "start_time": "2022-10-26T16:48:09.516Z"
   },
   {
    "duration": 22,
    "start_time": "2022-10-26T16:48:10.005Z"
   },
   {
    "duration": 16,
    "start_time": "2022-10-26T16:48:10.028Z"
   },
   {
    "duration": 9,
    "start_time": "2022-10-26T16:48:10.046Z"
   },
   {
    "duration": 34,
    "start_time": "2022-10-26T16:48:10.056Z"
   },
   {
    "duration": 3,
    "start_time": "2022-10-26T16:48:10.092Z"
   },
   {
    "duration": 19,
    "start_time": "2022-10-26T16:48:10.097Z"
   },
   {
    "duration": 16,
    "start_time": "2022-10-26T16:48:10.117Z"
   },
   {
    "duration": 6,
    "start_time": "2022-10-26T16:48:10.135Z"
   },
   {
    "duration": 5,
    "start_time": "2022-10-26T16:48:10.144Z"
   },
   {
    "duration": 39,
    "start_time": "2022-10-26T16:48:10.150Z"
   },
   {
    "duration": 9,
    "start_time": "2022-10-26T16:48:10.190Z"
   },
   {
    "duration": 5,
    "start_time": "2022-10-26T16:48:10.201Z"
   },
   {
    "duration": 17,
    "start_time": "2022-10-26T16:48:10.233Z"
   },
   {
    "duration": 31,
    "start_time": "2022-10-26T16:48:10.252Z"
   },
   {
    "duration": 16,
    "start_time": "2022-10-26T16:48:10.284Z"
   },
   {
    "duration": 4,
    "start_time": "2022-10-26T16:48:10.301Z"
   },
   {
    "duration": 26,
    "start_time": "2022-10-26T16:48:10.307Z"
   },
   {
    "duration": 7,
    "start_time": "2022-10-26T16:48:10.335Z"
   },
   {
    "duration": 11,
    "start_time": "2022-10-26T16:48:10.343Z"
   },
   {
    "duration": 12,
    "start_time": "2022-10-26T16:48:10.356Z"
   },
   {
    "duration": 10,
    "start_time": "2022-10-26T16:48:10.370Z"
   },
   {
    "duration": 10,
    "start_time": "2022-10-26T16:48:10.382Z"
   },
   {
    "duration": 16,
    "start_time": "2022-10-26T16:48:10.393Z"
   },
   {
    "duration": 358,
    "start_time": "2022-10-26T16:48:10.410Z"
   },
   {
    "duration": 9,
    "start_time": "2022-10-26T16:48:10.770Z"
   },
   {
    "duration": 4,
    "start_time": "2022-10-26T16:48:10.781Z"
   },
   {
    "duration": 25,
    "start_time": "2022-10-26T16:48:10.788Z"
   },
   {
    "duration": 25,
    "start_time": "2022-10-26T16:48:10.814Z"
   },
   {
    "duration": 127,
    "start_time": "2022-10-26T16:48:10.841Z"
   },
   {
    "duration": 9,
    "start_time": "2022-10-26T16:48:10.970Z"
   },
   {
    "duration": 5,
    "start_time": "2022-10-26T16:48:10.980Z"
   },
   {
    "duration": 21,
    "start_time": "2022-10-26T16:48:10.986Z"
   },
   {
    "duration": 26,
    "start_time": "2022-10-26T16:48:11.008Z"
   },
   {
    "duration": 106,
    "start_time": "2022-10-26T16:48:11.036Z"
   },
   {
    "duration": 11,
    "start_time": "2022-10-26T16:48:11.144Z"
   },
   {
    "duration": 4,
    "start_time": "2022-10-26T16:48:11.157Z"
   },
   {
    "duration": 23,
    "start_time": "2022-10-26T16:48:11.163Z"
   },
   {
    "duration": 8,
    "start_time": "2022-10-26T16:48:11.187Z"
   },
   {
    "duration": 133,
    "start_time": "2022-10-26T16:48:11.196Z"
   },
   {
    "duration": 47,
    "start_time": "2022-10-27T13:24:31.200Z"
   },
   {
    "duration": 1010,
    "start_time": "2022-10-27T13:24:43.222Z"
   },
   {
    "duration": 19,
    "start_time": "2022-10-27T13:24:44.234Z"
   },
   {
    "duration": 15,
    "start_time": "2022-10-27T13:24:44.254Z"
   },
   {
    "duration": 8,
    "start_time": "2022-10-27T13:24:44.271Z"
   },
   {
    "duration": 31,
    "start_time": "2022-10-27T13:24:44.281Z"
   },
   {
    "duration": 10,
    "start_time": "2022-10-27T13:24:44.313Z"
   },
   {
    "duration": 11,
    "start_time": "2022-10-27T13:24:44.324Z"
   },
   {
    "duration": 4,
    "start_time": "2022-10-27T13:24:44.337Z"
   },
   {
    "duration": 10,
    "start_time": "2022-10-27T13:24:44.342Z"
   },
   {
    "duration": 4,
    "start_time": "2022-10-27T13:24:44.354Z"
   },
   {
    "duration": 34,
    "start_time": "2022-10-27T13:24:44.359Z"
   },
   {
    "duration": 31,
    "start_time": "2022-10-27T13:24:44.394Z"
   },
   {
    "duration": 5,
    "start_time": "2022-10-27T13:24:44.426Z"
   },
   {
    "duration": 12,
    "start_time": "2022-10-27T13:24:44.432Z"
   },
   {
    "duration": 20,
    "start_time": "2022-10-27T13:24:44.446Z"
   },
   {
    "duration": 14,
    "start_time": "2022-10-27T13:24:44.468Z"
   },
   {
    "duration": 3,
    "start_time": "2022-10-27T13:24:44.484Z"
   },
   {
    "duration": 11,
    "start_time": "2022-10-27T13:24:44.488Z"
   },
   {
    "duration": 6,
    "start_time": "2022-10-27T13:24:44.521Z"
   },
   {
    "duration": 3,
    "start_time": "2022-10-27T13:24:44.528Z"
   },
   {
    "duration": 11,
    "start_time": "2022-10-27T13:24:44.532Z"
   },
   {
    "duration": 7,
    "start_time": "2022-10-27T13:24:44.544Z"
   },
   {
    "duration": 7,
    "start_time": "2022-10-27T13:24:44.553Z"
   },
   {
    "duration": 12,
    "start_time": "2022-10-27T13:24:44.561Z"
   },
   {
    "duration": 6,
    "start_time": "2022-10-27T13:24:44.575Z"
   },
   {
    "duration": 340,
    "start_time": "2022-10-27T13:24:44.582Z"
   },
   {
    "duration": 9,
    "start_time": "2022-10-27T13:24:44.924Z"
   },
   {
    "duration": 4,
    "start_time": "2022-10-27T13:24:44.935Z"
   },
   {
    "duration": 27,
    "start_time": "2022-10-27T13:24:44.940Z"
   },
   {
    "duration": 8,
    "start_time": "2022-10-27T13:24:44.968Z"
   },
   {
    "duration": 130,
    "start_time": "2022-10-27T13:24:44.978Z"
   },
   {
    "duration": 17,
    "start_time": "2022-10-27T13:24:45.110Z"
   },
   {
    "duration": 4,
    "start_time": "2022-10-27T13:24:45.129Z"
   },
   {
    "duration": 20,
    "start_time": "2022-10-27T13:24:45.134Z"
   },
   {
    "duration": 8,
    "start_time": "2022-10-27T13:24:45.155Z"
   },
   {
    "duration": 108,
    "start_time": "2022-10-27T13:24:45.164Z"
   },
   {
    "duration": 8,
    "start_time": "2022-10-27T13:24:45.273Z"
   },
   {
    "duration": 23,
    "start_time": "2022-10-27T13:24:45.282Z"
   },
   {
    "duration": 52,
    "start_time": "2022-10-27T13:24:45.307Z"
   },
   {
    "duration": 10,
    "start_time": "2022-10-27T13:24:45.360Z"
   },
   {
    "duration": 128,
    "start_time": "2022-10-27T13:24:45.371Z"
   },
   {
    "duration": 65,
    "start_time": "2022-10-27T13:25:08.506Z"
   },
   {
    "duration": 26,
    "start_time": "2022-10-27T13:25:36.459Z"
   },
   {
    "duration": 44,
    "start_time": "2022-10-27T15:31:24.027Z"
   },
   {
    "duration": 713,
    "start_time": "2022-10-27T15:31:33.732Z"
   },
   {
    "duration": 20,
    "start_time": "2022-10-27T15:31:34.447Z"
   },
   {
    "duration": 15,
    "start_time": "2022-10-27T15:31:34.468Z"
   },
   {
    "duration": 8,
    "start_time": "2022-10-27T15:31:34.485Z"
   },
   {
    "duration": 39,
    "start_time": "2022-10-27T15:31:34.495Z"
   },
   {
    "duration": 3,
    "start_time": "2022-10-27T15:31:34.535Z"
   },
   {
    "duration": 10,
    "start_time": "2022-10-27T15:31:34.539Z"
   },
   {
    "duration": 3,
    "start_time": "2022-10-27T15:31:34.551Z"
   },
   {
    "duration": 9,
    "start_time": "2022-10-27T15:31:34.556Z"
   },
   {
    "duration": 4,
    "start_time": "2022-10-27T15:31:34.567Z"
   },
   {
    "duration": 51,
    "start_time": "2022-10-27T15:31:34.572Z"
   },
   {
    "duration": 10,
    "start_time": "2022-10-27T15:31:34.624Z"
   },
   {
    "duration": 3,
    "start_time": "2022-10-27T15:31:34.636Z"
   },
   {
    "duration": 13,
    "start_time": "2022-10-27T15:31:34.640Z"
   },
   {
    "duration": 20,
    "start_time": "2022-10-27T15:31:34.654Z"
   },
   {
    "duration": 15,
    "start_time": "2022-10-27T15:31:34.675Z"
   },
   {
    "duration": 3,
    "start_time": "2022-10-27T15:31:34.692Z"
   },
   {
    "duration": 33,
    "start_time": "2022-10-27T15:31:34.696Z"
   },
   {
    "duration": 5,
    "start_time": "2022-10-27T15:31:34.730Z"
   },
   {
    "duration": 4,
    "start_time": "2022-10-27T15:31:34.736Z"
   },
   {
    "duration": 12,
    "start_time": "2022-10-27T15:31:34.741Z"
   },
   {
    "duration": 8,
    "start_time": "2022-10-27T15:31:34.754Z"
   },
   {
    "duration": 7,
    "start_time": "2022-10-27T15:31:34.763Z"
   },
   {
    "duration": 14,
    "start_time": "2022-10-27T15:31:34.772Z"
   },
   {
    "duration": 266,
    "start_time": "2022-10-27T15:31:34.787Z"
   },
   {
    "duration": 0,
    "start_time": "2022-10-27T15:31:35.055Z"
   },
   {
    "duration": 0,
    "start_time": "2022-10-27T15:31:35.057Z"
   },
   {
    "duration": 0,
    "start_time": "2022-10-27T15:31:35.058Z"
   },
   {
    "duration": 0,
    "start_time": "2022-10-27T15:31:35.059Z"
   },
   {
    "duration": 0,
    "start_time": "2022-10-27T15:31:35.061Z"
   },
   {
    "duration": 0,
    "start_time": "2022-10-27T15:31:35.063Z"
   },
   {
    "duration": 0,
    "start_time": "2022-10-27T15:31:35.064Z"
   },
   {
    "duration": 0,
    "start_time": "2022-10-27T15:31:35.066Z"
   },
   {
    "duration": 0,
    "start_time": "2022-10-27T15:31:35.067Z"
   },
   {
    "duration": 0,
    "start_time": "2022-10-27T15:31:35.068Z"
   },
   {
    "duration": 0,
    "start_time": "2022-10-27T15:31:35.069Z"
   },
   {
    "duration": 0,
    "start_time": "2022-10-27T15:31:35.071Z"
   },
   {
    "duration": 0,
    "start_time": "2022-10-27T15:31:35.072Z"
   },
   {
    "duration": 0,
    "start_time": "2022-10-27T15:31:35.073Z"
   },
   {
    "duration": 0,
    "start_time": "2022-10-27T15:31:35.074Z"
   },
   {
    "duration": 0,
    "start_time": "2022-10-27T15:31:35.075Z"
   },
   {
    "duration": 171,
    "start_time": "2022-10-27T15:32:26.050Z"
   },
   {
    "duration": 18,
    "start_time": "2022-10-27T15:32:33.145Z"
   },
   {
    "duration": 28,
    "start_time": "2022-10-27T15:32:39.632Z"
   }
  ],
  "colab": {
   "name": "dpp_template_part2.ipynb",
   "provenance": []
  },
  "kernelspec": {
   "display_name": "Python 3 (ipykernel)",
   "language": "python",
   "name": "python3"
  },
  "language_info": {
   "codemirror_mode": {
    "name": "ipython",
    "version": 3
   },
   "file_extension": ".py",
   "mimetype": "text/x-python",
   "name": "python",
   "nbconvert_exporter": "python",
   "pygments_lexer": "ipython3",
   "version": "3.9.5"
  },
  "toc": {
   "base_numbering": 1,
   "nav_menu": {},
   "number_sections": true,
   "sideBar": true,
   "skip_h1_title": true,
   "title_cell": "Table of Contents",
   "title_sidebar": "Contents",
   "toc_cell": false,
   "toc_position": {
    "height": "calc(100% - 180px)",
    "left": "10px",
    "top": "150px",
    "width": "356.594px"
   },
   "toc_section_display": true,
   "toc_window_display": true
  }
 },
 "nbformat": 4,
 "nbformat_minor": 5
}
