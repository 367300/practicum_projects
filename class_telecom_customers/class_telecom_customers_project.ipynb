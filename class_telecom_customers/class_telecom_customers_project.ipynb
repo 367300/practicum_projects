{
 "cells": [
  {
   "cell_type": "markdown",
   "metadata": {},
   "source": [
    "# Рекомендация тарифов"
   ]
  },
  {
   "cell_type": "markdown",
   "metadata": {},
   "source": [
    "В вашем распоряжении данные о поведении клиентов, которые уже перешли на эти тарифы (из проекта курса «Статистический анализ данных»). Нужно построить модель для задачи классификации, которая выберет подходящий тариф. Предобработка данных не понадобится — вы её уже сделали.\n",
    "\n",
    "Постройте модель с максимально большим значением *accuracy*. Чтобы сдать проект успешно, нужно довести долю правильных ответов по крайней мере до 0.75. Проверьте *accuracy* на тестовой выборке самостоятельно."
   ]
  },
  {
   "cell_type": "markdown",
   "metadata": {},
   "source": [
    "## Откройте и изучите файл"
   ]
  },
  {
   "cell_type": "code",
   "execution_count": 1,
   "metadata": {},
   "outputs": [],
   "source": [
    "from sklearn.tree import DecisionTreeClassifier\n",
    "from sklearn.ensemble import RandomForestClassifier\n",
    "from sklearn.linear_model import LogisticRegression\n",
    "from sklearn.model_selection import RandomizedSearchCV\n",
    "from sklearn.metrics import accuracy_score\n",
    "from sklearn.model_selection import train_test_split\n",
    "from scipy.stats import randint\n",
    "import matplotlib.pyplot as plt\n",
    "import pandas as pd\n",
    "from sklearn.ensemble import RandomForestRegressor\n",
    "import numpy as np"
   ]
  },
  {
   "cell_type": "code",
   "execution_count": 2,
   "metadata": {},
   "outputs": [],
   "source": [
    "df = pd.read_csv('/datasets/users_behavior.csv')"
   ]
  },
  {
   "cell_type": "code",
   "execution_count": 3,
   "metadata": {},
   "outputs": [
    {
     "data": {
      "text/html": [
       "<div>\n",
       "<style scoped>\n",
       "    .dataframe tbody tr th:only-of-type {\n",
       "        vertical-align: middle;\n",
       "    }\n",
       "\n",
       "    .dataframe tbody tr th {\n",
       "        vertical-align: top;\n",
       "    }\n",
       "\n",
       "    .dataframe thead th {\n",
       "        text-align: right;\n",
       "    }\n",
       "</style>\n",
       "<table border=\"1\" class=\"dataframe\">\n",
       "  <thead>\n",
       "    <tr style=\"text-align: right;\">\n",
       "      <th></th>\n",
       "      <th>calls</th>\n",
       "      <th>minutes</th>\n",
       "      <th>messages</th>\n",
       "      <th>mb_used</th>\n",
       "      <th>is_ultra</th>\n",
       "    </tr>\n",
       "  </thead>\n",
       "  <tbody>\n",
       "    <tr>\n",
       "      <th>0</th>\n",
       "      <td>40.0</td>\n",
       "      <td>311.90</td>\n",
       "      <td>83.0</td>\n",
       "      <td>19915.42</td>\n",
       "      <td>0</td>\n",
       "    </tr>\n",
       "    <tr>\n",
       "      <th>1</th>\n",
       "      <td>85.0</td>\n",
       "      <td>516.75</td>\n",
       "      <td>56.0</td>\n",
       "      <td>22696.96</td>\n",
       "      <td>0</td>\n",
       "    </tr>\n",
       "    <tr>\n",
       "      <th>2</th>\n",
       "      <td>77.0</td>\n",
       "      <td>467.66</td>\n",
       "      <td>86.0</td>\n",
       "      <td>21060.45</td>\n",
       "      <td>0</td>\n",
       "    </tr>\n",
       "    <tr>\n",
       "      <th>3</th>\n",
       "      <td>106.0</td>\n",
       "      <td>745.53</td>\n",
       "      <td>81.0</td>\n",
       "      <td>8437.39</td>\n",
       "      <td>1</td>\n",
       "    </tr>\n",
       "    <tr>\n",
       "      <th>4</th>\n",
       "      <td>66.0</td>\n",
       "      <td>418.74</td>\n",
       "      <td>1.0</td>\n",
       "      <td>14502.75</td>\n",
       "      <td>0</td>\n",
       "    </tr>\n",
       "  </tbody>\n",
       "</table>\n",
       "</div>"
      ],
      "text/plain": [
       "   calls  minutes  messages   mb_used  is_ultra\n",
       "0   40.0   311.90      83.0  19915.42         0\n",
       "1   85.0   516.75      56.0  22696.96         0\n",
       "2   77.0   467.66      86.0  21060.45         0\n",
       "3  106.0   745.53      81.0   8437.39         1\n",
       "4   66.0   418.74       1.0  14502.75         0"
      ]
     },
     "execution_count": 3,
     "metadata": {},
     "output_type": "execute_result"
    }
   ],
   "source": [
    "df.head()"
   ]
  },
  {
   "cell_type": "code",
   "execution_count": 4,
   "metadata": {},
   "outputs": [
    {
     "data": {
      "text/plain": [
       "calls       0\n",
       "minutes     0\n",
       "messages    0\n",
       "mb_used     0\n",
       "is_ultra    0\n",
       "dtype: int64"
      ]
     },
     "execution_count": 4,
     "metadata": {},
     "output_type": "execute_result"
    }
   ],
   "source": [
    "df.isna().sum()"
   ]
  },
  {
   "cell_type": "code",
   "execution_count": 5,
   "metadata": {},
   "outputs": [
    {
     "name": "stdout",
     "output_type": "stream",
     "text": [
      "<class 'pandas.core.frame.DataFrame'>\n",
      "RangeIndex: 3214 entries, 0 to 3213\n",
      "Data columns (total 5 columns):\n",
      " #   Column    Non-Null Count  Dtype  \n",
      "---  ------    --------------  -----  \n",
      " 0   calls     3214 non-null   float64\n",
      " 1   minutes   3214 non-null   float64\n",
      " 2   messages  3214 non-null   float64\n",
      " 3   mb_used   3214 non-null   float64\n",
      " 4   is_ultra  3214 non-null   int64  \n",
      "dtypes: float64(4), int64(1)\n",
      "memory usage: 125.7 KB\n"
     ]
    }
   ],
   "source": [
    "df.info()"
   ]
  },
  {
   "cell_type": "code",
   "execution_count": 6,
   "metadata": {},
   "outputs": [
    {
     "data": {
      "text/html": [
       "<div>\n",
       "<style scoped>\n",
       "    .dataframe tbody tr th:only-of-type {\n",
       "        vertical-align: middle;\n",
       "    }\n",
       "\n",
       "    .dataframe tbody tr th {\n",
       "        vertical-align: top;\n",
       "    }\n",
       "\n",
       "    .dataframe thead th {\n",
       "        text-align: right;\n",
       "    }\n",
       "</style>\n",
       "<table border=\"1\" class=\"dataframe\">\n",
       "  <thead>\n",
       "    <tr style=\"text-align: right;\">\n",
       "      <th></th>\n",
       "      <th>calls</th>\n",
       "      <th>minutes</th>\n",
       "      <th>messages</th>\n",
       "      <th>mb_used</th>\n",
       "      <th>is_ultra</th>\n",
       "    </tr>\n",
       "  </thead>\n",
       "  <tbody>\n",
       "    <tr>\n",
       "      <th>count</th>\n",
       "      <td>3214.000000</td>\n",
       "      <td>3214.000000</td>\n",
       "      <td>3214.000000</td>\n",
       "      <td>3214.000000</td>\n",
       "      <td>3214.000000</td>\n",
       "    </tr>\n",
       "    <tr>\n",
       "      <th>mean</th>\n",
       "      <td>63.038892</td>\n",
       "      <td>438.208787</td>\n",
       "      <td>38.281269</td>\n",
       "      <td>17207.673836</td>\n",
       "      <td>0.306472</td>\n",
       "    </tr>\n",
       "    <tr>\n",
       "      <th>std</th>\n",
       "      <td>33.236368</td>\n",
       "      <td>234.569872</td>\n",
       "      <td>36.148326</td>\n",
       "      <td>7570.968246</td>\n",
       "      <td>0.461100</td>\n",
       "    </tr>\n",
       "    <tr>\n",
       "      <th>min</th>\n",
       "      <td>0.000000</td>\n",
       "      <td>0.000000</td>\n",
       "      <td>0.000000</td>\n",
       "      <td>0.000000</td>\n",
       "      <td>0.000000</td>\n",
       "    </tr>\n",
       "    <tr>\n",
       "      <th>25%</th>\n",
       "      <td>40.000000</td>\n",
       "      <td>274.575000</td>\n",
       "      <td>9.000000</td>\n",
       "      <td>12491.902500</td>\n",
       "      <td>0.000000</td>\n",
       "    </tr>\n",
       "    <tr>\n",
       "      <th>50%</th>\n",
       "      <td>62.000000</td>\n",
       "      <td>430.600000</td>\n",
       "      <td>30.000000</td>\n",
       "      <td>16943.235000</td>\n",
       "      <td>0.000000</td>\n",
       "    </tr>\n",
       "    <tr>\n",
       "      <th>75%</th>\n",
       "      <td>82.000000</td>\n",
       "      <td>571.927500</td>\n",
       "      <td>57.000000</td>\n",
       "      <td>21424.700000</td>\n",
       "      <td>1.000000</td>\n",
       "    </tr>\n",
       "    <tr>\n",
       "      <th>max</th>\n",
       "      <td>244.000000</td>\n",
       "      <td>1632.060000</td>\n",
       "      <td>224.000000</td>\n",
       "      <td>49745.730000</td>\n",
       "      <td>1.000000</td>\n",
       "    </tr>\n",
       "  </tbody>\n",
       "</table>\n",
       "</div>"
      ],
      "text/plain": [
       "             calls      minutes     messages       mb_used     is_ultra\n",
       "count  3214.000000  3214.000000  3214.000000   3214.000000  3214.000000\n",
       "mean     63.038892   438.208787    38.281269  17207.673836     0.306472\n",
       "std      33.236368   234.569872    36.148326   7570.968246     0.461100\n",
       "min       0.000000     0.000000     0.000000      0.000000     0.000000\n",
       "25%      40.000000   274.575000     9.000000  12491.902500     0.000000\n",
       "50%      62.000000   430.600000    30.000000  16943.235000     0.000000\n",
       "75%      82.000000   571.927500    57.000000  21424.700000     1.000000\n",
       "max     244.000000  1632.060000   224.000000  49745.730000     1.000000"
      ]
     },
     "execution_count": 6,
     "metadata": {},
     "output_type": "execute_result"
    }
   ],
   "source": [
    "df.describe()"
   ]
  },
  {
   "cell_type": "code",
   "execution_count": 7,
   "metadata": {
    "scrolled": false
   },
   "outputs": [
    {
     "data": {
      "image/png": "[encoded data removed]",
      "text/plain": [
       "<Figure size 1080x504 with 6 Axes>"
      ]
     },
     "metadata": {
      "needs_background": "light"
     },
     "output_type": "display_data"
    }
   ],
   "source": [
    "df.hist(bins=30, figsize=(15, 7));"
   ]
  },
  {
   "cell_type": "code",
   "execution_count": 8,
   "metadata": {},
   "outputs": [
    {
     "data": {
      "image/png": "[encoded data removed]",
      "text/plain": [
       "<Figure size 1080x504 with 1 Axes>"
      ]
     },
     "metadata": {
      "needs_background": "light"
     },
     "output_type": "display_data"
    }
   ],
   "source": [
    "df.messages.hist(bins=30, figsize=(15, 7)).set_title('\\n' + 'Количество отправленных сообщений' + '\\n', fontsize=22);"
   ]
  },
  {
   "cell_type": "markdown",
   "metadata": {},
   "source": [
    "### Вывод"
   ]
  },
  {
   "cell_type": "markdown",
   "metadata": {},
   "source": [
    "В данных обработки не треубется так как она была уже проведена ранее. Данные содержат в себе исключительно числовые данные, 5 признаков и одного целевого столбца, были постренные гистограммы, на одной из них видно, что пользователей тарифов \"Смарт\" почти в два раза больше пользователей тарифа \"Ультра\" (вероятно, из-за стоимости), всего записей в датасете чуть меньше двух тысяч, также заметно, что почти половина пользователей либо не пользуется обычными смс-сообщениями, либо отправляет их в минимальном количестве"
   ]
  },
  {
   "cell_type": "code",
   "execution_count": 9,
   "metadata": {},
   "outputs": [
    {
     "data": {
      "text/plain": [
       "0    0.693528\n",
       "1    0.306472\n",
       "Name: is_ultra, dtype: float64"
      ]
     },
     "execution_count": 9,
     "metadata": {},
     "output_type": "execute_result"
    }
   ],
   "source": [
    "df['is_ultra'].value_counts(normalize=True)"
   ]
  },
  {
   "cell_type": "markdown",
   "metadata": {},
   "source": [
    "## Разбейте данные на выборки"
   ]
  },
  {
   "cell_type": "code",
   "execution_count": 10,
   "metadata": {},
   "outputs": [],
   "source": [
    "df_train, df_valid_test = train_test_split(\n",
    "    df, test_size=0.40, random_state=12345)\n",
    "\n",
    "df_valid, df_test = train_test_split(\n",
    "    df_valid_test, test_size=0.50, random_state=12345)"
   ]
  },
  {
   "cell_type": "markdown",
   "metadata": {},
   "source": [
    "Так как спрятанной выборки нет, то от основной для валидационной отделяют 20%, и 20% для тестовой, соотношение получается 3/1/1\n",
    "\n",
    "(обучающая 60%, валидационная 20%, тестовая 20%)"
   ]
  },
  {
   "cell_type": "code",
   "execution_count": 11,
   "metadata": {},
   "outputs": [],
   "source": [
    "features_train = df_train.drop(['is_ultra'], axis=1)\n",
    "target_train = df_train['is_ultra']\n",
    "\n",
    "features_valid = df_valid.drop(['is_ultra'], axis=1)\n",
    "target_valid = df_valid['is_ultra']\n",
    "\n",
    "features_test = df_test.drop(['is_ultra'], axis=1)\n",
    "target_test = df_test['is_ultra']"
   ]
  },
  {
   "cell_type": "code",
   "execution_count": 12,
   "metadata": {},
   "outputs": [
    {
     "data": {
      "text/plain": [
       "(1928, 4)"
      ]
     },
     "execution_count": 12,
     "metadata": {},
     "output_type": "execute_result"
    }
   ],
   "source": [
    "features_train.shape"
   ]
  },
  {
   "cell_type": "code",
   "execution_count": 13,
   "metadata": {},
   "outputs": [
    {
     "data": {
      "text/plain": [
       "(643, 4)"
      ]
     },
     "execution_count": 13,
     "metadata": {},
     "output_type": "execute_result"
    }
   ],
   "source": [
    "features_valid.shape"
   ]
  },
  {
   "cell_type": "code",
   "execution_count": 14,
   "metadata": {},
   "outputs": [
    {
     "data": {
      "text/plain": [
       "(643, 4)"
      ]
     },
     "execution_count": 14,
     "metadata": {},
     "output_type": "execute_result"
    }
   ],
   "source": [
    "features_test.shape"
   ]
  },
  {
   "cell_type": "markdown",
   "metadata": {},
   "source": [
    "## Исследуйте модели"
   ]
  },
  {
   "cell_type": "markdown",
   "metadata": {},
   "source": [
    "### Дерево решений"
   ]
  },
  {
   "cell_type": "markdown",
   "metadata": {},
   "source": [
    "Первая модель - дерево решений, с подбором различных гиперпараметров через цикл for (на самом деле перепробованы все возможные гиперпараметры, но результата это не дало, с целью сохранения времени, решено оставить перебор только трех гиперпараметров, наиболее существенных для данного датафрейма):"
   ]
  },
  {
   "cell_type": "code",
   "execution_count": 15,
   "metadata": {},
   "outputs": [],
   "source": [
    "best_model_tree = None\n",
    "best_result_tree_valid = 0\n",
    "for criterion in ['gini', 'entropy']:\n",
    "    for max_features in ['auto', 'sqrt', 'log2']:\n",
    "        for depth in range(1, 10):\n",
    "            model_tree = DecisionTreeClassifier(random_state=12345, max_depth=depth,\n",
    "                                                criterion=criterion, max_features=max_features)\n",
    "            model_tree.fit(features_train, target_train)\n",
    "            train_predictions = model_tree.predict(features_valid)\n",
    "            result = accuracy_score(target_valid, train_predictions)\n",
    "            if result > best_result_tree_valid:\n",
    "                best_result_tree_valid = result\n",
    "                best_model_tree = model_tree"
   ]
  },
  {
   "cell_type": "code",
   "execution_count": 16,
   "metadata": {},
   "outputs": [
    {
     "data": {
      "text/plain": [
       "DecisionTreeClassifier(criterion='entropy', max_depth=5, max_features='auto',\n",
       "                       random_state=12345)"
      ]
     },
     "execution_count": 16,
     "metadata": {},
     "output_type": "execute_result"
    }
   ],
   "source": [
    "best_model_tree"
   ]
  },
  {
   "cell_type": "code",
   "execution_count": 17,
   "metadata": {},
   "outputs": [
    {
     "data": {
      "text/plain": [
       "0.7916018662519441"
      ]
     },
     "execution_count": 17,
     "metadata": {},
     "output_type": "execute_result"
    }
   ],
   "source": [
    "best_result_tree_valid"
   ]
  },
  {
   "cell_type": "markdown",
   "metadata": {},
   "source": [
    "### Случайный лес"
   ]
  },
  {
   "cell_type": "markdown",
   "metadata": {},
   "source": [
    "Следующая модель - случайный лес, с деревьями решений, подбор аналогичный предыдущему:"
   ]
  },
  {
   "cell_type": "code",
   "execution_count": 18,
   "metadata": {},
   "outputs": [],
   "source": [
    "best_model_est = None\n",
    "best_result_est = 0\n",
    "for criterion in ['entropy', 'gini']:\n",
    "    for est in range(70, 120, 10):\n",
    "        for depth in range(1, 56, 10):\n",
    "            model_est = RandomForestClassifier(random_state=12345,\n",
    "                                               n_estimators=est,\n",
    "                                               max_depth=depth,\n",
    "                                               criterion=criterion)\n",
    "            model_est.fit(features_train, target_train)\n",
    "            train_predictions = model_tree.predict(features_valid)\n",
    "            result = model_est.score(features_valid, target_valid)\n",
    "            if result > best_result_est:\n",
    "                best_model_est = model_est\n",
    "                best_result_est = result"
   ]
  },
  {
   "cell_type": "code",
   "execution_count": 19,
   "metadata": {
    "scrolled": true
   },
   "outputs": [
    {
     "data": {
      "text/plain": [
       "RandomForestClassifier(criterion='entropy', max_depth=31, n_estimators=80,\n",
       "                       random_state=12345)"
      ]
     },
     "execution_count": 19,
     "metadata": {},
     "output_type": "execute_result"
    }
   ],
   "source": [
    "best_model_est"
   ]
  },
  {
   "cell_type": "code",
   "execution_count": 20,
   "metadata": {
    "scrolled": true
   },
   "outputs": [
    {
     "data": {
      "text/plain": [
       "0.7931570762052877"
      ]
     },
     "execution_count": 20,
     "metadata": {},
     "output_type": "execute_result"
    }
   ],
   "source": [
    "best_result_est"
   ]
  },
  {
   "cell_type": "markdown",
   "metadata": {},
   "source": [
    "#### Перебор гиперпараметров случайного леса (доп)"
   ]
  },
  {
   "cell_type": "markdown",
   "metadata": {},
   "source": [
    "*(Не совсем по теме пройденных уроков, но я так увлекся этой темой, что в погоне за лучшими показателями даже оставлял на длительное время перебор гиперпараметров, буду очень признателен, если подскажешь в каком направлении двигаться правильнее))*"
   ]
  },
  {
   "cell_type": "markdown",
   "metadata": {},
   "source": [
    "Так как данная модель показала лучший результат по сравнению с одним деревом, было решено использовать функцию RandomizedSearchCV() для подбора случайных параметров (из пространства достаточно широких параметров), для примерной обрисовки, чтобы потом попытаться сузить пространство для более тщательного подбора, увеличения быстродействия и подбора лучших параметров (хотя тут не угадаешь, какие параметры в какой момент окажут значительное влияние, ведь соседкие параметры могут быть совершенно разными)"
   ]
  },
  {
   "cell_type": "code",
   "execution_count": 21,
   "metadata": {
    "scrolled": false
   },
   "outputs": [
    {
     "data": {
      "text/plain": [
       "RandomizedSearchCV(cv=6, estimator=RandomForestClassifier(random_state=12345),\n",
       "                   n_iter=2, n_jobs=-1,\n",
       "                   param_distributions={'criterion': ['gini', 'entropy'],\n",
       "                                        'max_depth': [10, 20, 30, 40, 50, None],\n",
       "                                        'max_features': <scipy.stats._distn_infrastructure.rv_discrete_frozen object at 0x7fc61eff5f40>,\n",
       "                                        'min_samples_leaf': <scipy.stats._distn_infrastructure.rv_discrete_frozen object at 0x7fc61f07fbb0>,\n",
       "                                        'min_samples_split': array([2, 4]),\n",
       "                                        'n_estimators': array([170, 180, 190, 200, 210, 220, 230, 240, 250, 260, 270, 280, 290,\n",
       "       300, 310, 320, 330, 340, 350, 360, 370, 380, 390, 400])},\n",
       "                   scoring='accuracy')"
      ]
     },
     "execution_count": 21,
     "metadata": {},
     "output_type": "execute_result"
    }
   ],
   "source": [
    "# Пространство гиперпарметров\n",
    "model_est_space={'max_depth':list(np.arange(10, 51, step=10)) + [None],\n",
    "              'n_estimators':np.arange(170, 401, step=10),\n",
    "              'max_features':randint(1,3),\n",
    "              'criterion':['gini','entropy'],\n",
    "              'min_samples_leaf':randint(1,3),\n",
    "              'min_samples_split':np.arange(2, 6, step=2)\n",
    "         }\n",
    "\n",
    "# Так как нигде не нашел с помощью какого параметра можно назначить тестирование,\n",
    "# решил скормить весь датасет целиком этой функции, в документации прочитал, что эта функция уже содержит в себе\n",
    "# все необходимое, поэтому отделил только ту часть которая должна оставаться скрытой - тестовую\n",
    "# Следуя этой логике отделил только 20 процентов под тест, для соблюдения 3/1/1\n",
    "df_train_random, df_test_random = train_test_split(df, test_size=0.20, random_state=12345)\n",
    "\n",
    "df_features_random = df_train_random.drop(['is_ultra'], axis=1)\n",
    "df_target_random = df_train_random['is_ultra']\n",
    "\n",
    "features_test_random = df_test_random.drop(['is_ultra'], axis=1)\n",
    "target_test_random = df_test_random['is_ultra']\n",
    "\n",
    "# Число итераций уменьшено, так как работа здесь была закончена\n",
    "model_est_random = RandomizedSearchCV(RandomForestClassifier(random_state=12345), model_est_space,\n",
    "                                                n_iter=2, scoring='accuracy', n_jobs=-1, cv=6)\n",
    "\n",
    "model_est_random.fit(df_features_random, df_target_random)"
   ]
  },
  {
   "cell_type": "code",
   "execution_count": 22,
   "metadata": {},
   "outputs": [
    {
     "data": {
      "text/plain": [
       "0.814474725689679"
      ]
     },
     "execution_count": 22,
     "metadata": {},
     "output_type": "execute_result"
    }
   ],
   "source": [
    "# Точность модели на валидационных данных, как я понимаю\n",
    "model_est_random.best_score_"
   ]
  },
  {
   "cell_type": "code",
   "execution_count": 23,
   "metadata": {
    "scrolled": true
   },
   "outputs": [
    {
     "data": {
      "text/plain": [
       "{'criterion': 'gini',\n",
       " 'max_depth': 10,\n",
       " 'max_features': 2,\n",
       " 'min_samples_leaf': 2,\n",
       " 'min_samples_split': 2,\n",
       " 'n_estimators': 360}"
      ]
     },
     "execution_count": 23,
     "metadata": {},
     "output_type": "execute_result"
    }
   ],
   "source": [
    "model_est_random.best_params_"
   ]
  },
  {
   "cell_type": "markdown",
   "metadata": {},
   "source": [
    "Случайно были подобраны (из большого числа итераций) следующие гиперпараметры:\n",
    "\n",
    "- 'criterion': 'entropy',\n",
    "- 'max_depth': 10,\n",
    "- 'max_features': 2,\n",
    "- 'min_samples_leaf': 1,\n",
    "- 'min_samples_split': 4,\n",
    "- 'n_estimators': 270\n",
    "\n",
    "Точность модели на тестовых данных (тестовых в рандомайзере) составила - 0.8040435458786936"
   ]
  },
  {
   "cell_type": "code",
   "execution_count": 24,
   "metadata": {},
   "outputs": [
    {
     "data": {
      "text/plain": [
       "0.7978227060653188"
      ]
     },
     "execution_count": 24,
     "metadata": {},
     "output_type": "execute_result"
    }
   ],
   "source": [
    "model_est = RandomForestClassifier(\n",
    "    random_state=12345,\n",
    "    criterion='entropy',\n",
    "    max_depth=10,\n",
    "    max_features=2,\n",
    "    min_samples_leaf=1,\n",
    "    min_samples_split=4,\n",
    "    n_estimators=270\n",
    ")\n",
    "\n",
    "# Обучение и тест на валидационных данных новой модели, не с рандомайзера, а именно на начальном разделении \n",
    "# с подобранными случайными параметрами\n",
    "model_est.fit(features_train, target_train)\n",
    "best_result_est = model_est.score(features_valid, target_valid)\n",
    "best_result_est"
   ]
  },
  {
   "cell_type": "raw",
   "metadata": {},
   "source": [
    "%%time\n",
    "# Код ревьюера\n",
    "parameters = {\n",
    "    'n_estimators': range(50, 121, 5),\n",
    "    'max_depth': range(2, 11),\n",
    "    'min_samples_leaf': range(1, 4),\n",
    "}\n",
    "\n",
    "model = RandomForestClassifier(random_state=96)\n",
    "\n",
    "metrics = ['f1', 'roc_auc']\n",
    "\n",
    "# Обрати внимание я указал в scoring список мужных метрик,\n",
    "# А в refit указал 'f1', теперь GridSearchCV будет оптимизировать эту метрику\n",
    "search = RandomizedSearchCV(model, parameters, n_iter=1, cv=4, scoring=metrics, refit='f1')\n",
    "search.fit(features_train, target_train)\n",
    "results = search.cv_results_\n",
    "# Печатаем лучшие значения метрик и гиперпараметры\n",
    "print('F1 on VALID:', '%.4f' %search.best_score_)\n",
    "print('AUC-ROC on VALID:', '%.4f' %results['mean_test_roc_auc'].mean())\n",
    "print(pd.Series(search.best_params_))"
   ]
  },
  {
   "cell_type": "code",
   "execution_count": 25,
   "metadata": {},
   "outputs": [
    {
     "name": "stdout",
     "output_type": "stream",
     "text": [
      "F1 on VALID: 0.5506\n",
      "AUC-ROC on VALID: 0.7660\n",
      "n_estimators        55\n",
      "min_samples_leaf     1\n",
      "max_depth            2\n",
      "dtype: int64\n",
      "CPU times: user 495 ms, sys: 4 ms, total: 499 ms\n",
      "Wall time: 507 ms\n"
     ]
    }
   ],
   "source": [
    "%%time\n",
    "# Код ревьюера\n",
    "parameters = {\n",
    "    'n_estimators': range(50, 121, 5),\n",
    "    'max_depth': range(2, 11),\n",
    "    'min_samples_leaf': range(1, 4),\n",
    "}\n",
    "\n",
    "model = RandomForestClassifier(random_state=96)\n",
    "\n",
    "metrics = ['f1', 'roc_auc']\n",
    "\n",
    "# Обрати внимание я указал в scoring список мужных метрик,\n",
    "# А в refit указал 'f1', теперь GridSearchCV будет оптимизировать эту метрику\n",
    "search = RandomizedSearchCV(model, parameters, n_iter=1, cv=4, scoring=metrics, refit='f1')\n",
    "search.fit(features_train, target_train)\n",
    "results = search.cv_results_\n",
    "# Печатаем лучшие значения метрик и гиперпараметры\n",
    "print('F1 on VALID:', '%.4f' %search.best_score_)\n",
    "print('AUC-ROC on VALID:', '%.4f' %results['mean_test_roc_auc'].mean())\n",
    "print(pd.Series(search.best_params_))"
   ]
  },
  {
   "cell_type": "code",
   "execution_count": 26,
   "metadata": {},
   "outputs": [
    {
     "data": {
      "text/plain": [
       "0.8009331259720062"
      ]
     },
     "execution_count": 26,
     "metadata": {},
     "output_type": "execute_result"
    }
   ],
   "source": [
    "model_est = RandomForestClassifier(\n",
    "    random_state=96,\n",
    "    max_depth=9,\n",
    "    min_samples_leaf=3,\n",
    "    n_estimators=50\n",
    ")\n",
    "\n",
    "# Обучение и тест на валидационных данных новой модели, не с рандомайзера, а именно на начальном разделении \n",
    "# с подобранными случайными параметрами\n",
    "model_est.fit(features_train, target_train)\n",
    "best_result_est = model_est.score(features_valid, target_valid)\n",
    "best_result_est"
   ]
  },
  {
   "cell_type": "markdown",
   "metadata": {},
   "source": [
    "### Логистическая регрессия"
   ]
  },
  {
   "cell_type": "code",
   "execution_count": 76,
   "metadata": {},
   "outputs": [],
   "source": [
    "from sklearn.linear_model import LinearRegression\n",
    "model_logistic_regression = LinearRegression();\n",
    "model.distancemetric='manhattan'\n",
    "model_logistic_regression.fit(features_train, target_train);"
   ]
  },
  {
   "cell_type": "code",
   "execution_count": 77,
   "metadata": {},
   "outputs": [],
   "source": [
    "predict_valid = model_logistic_regression.predict(features_valid)\n",
    "predict_valid = np.round(predict_valid)\n",
    "predict_test = model_logistic_regression.predict(features_test)\n",
    "predict_test = np.round(predict_test)"
   ]
  },
  {
   "cell_type": "code",
   "execution_count": 78,
   "metadata": {},
   "outputs": [
    {
     "data": {
      "text/plain": [
       "0.7573872472783826"
      ]
     },
     "execution_count": 78,
     "metadata": {},
     "output_type": "execute_result"
    }
   ],
   "source": [
    "logistic_regression_result_valid = accuracy_score(target_valid, predict_valid)\n",
    "logistic_regression_result_valid"
   ]
  },
  {
   "cell_type": "markdown",
   "metadata": {},
   "source": [
    "### Сравнение точности моделей"
   ]
  },
  {
   "cell_type": "code",
   "execution_count": 79,
   "metadata": {},
   "outputs": [],
   "source": [
    "list_resuts_valid = [best_result_tree_valid, best_result_est, logistic_regression_result_valid]\n",
    "results_valid = pd.Series(list_resuts_valid, index=['Дерево решений', 'Лес', 'Логистическая регрессия'])"
   ]
  },
  {
   "cell_type": "code",
   "execution_count": 80,
   "metadata": {},
   "outputs": [
    {
     "data": {
      "image/png": "[encoded data removed]",
      "text/plain": [
       "<Figure size 720x504 with 1 Axes>"
      ]
     },
     "metadata": {
      "needs_background": "light"
     },
     "output_type": "display_data"
    }
   ],
   "source": [
    "results_valid.plot(x=results_valid.index,\n",
    "                   y=results_valid.values,\n",
    "                   kind='bar',\n",
    "                   figsize=(10, 7),\n",
    "                   rot=0);\n",
    "\n",
    "plt.title(\"\\n\"+'Точность моделей (валид)'+\"\\n\", fontsize=22)\n",
    "plt.axhline(y=0.75, color='red');"
   ]
  },
  {
   "cell_type": "markdown",
   "metadata": {},
   "source": [
    "По требуемой точности - 75% (красная линия), подходят все три модели, однако, лучшей из них является случайный лес, с точностью на валидационных данных - 79.8%"
   ]
  },
  {
   "cell_type": "markdown",
   "metadata": {},
   "source": [
    "## Проверьте модель на тестовой выборке"
   ]
  },
  {
   "cell_type": "markdown",
   "metadata": {},
   "source": [
    "Точность дерева решений на тесте:"
   ]
  },
  {
   "cell_type": "code",
   "execution_count": 81,
   "metadata": {
    "scrolled": true
   },
   "outputs": [
    {
     "data": {
      "text/plain": [
       "0.7869362363919129"
      ]
     },
     "execution_count": 81,
     "metadata": {},
     "output_type": "execute_result"
    }
   ],
   "source": [
    "best_result_tree_test = model_tree.score(features_test, target_test)\n",
    "best_result_tree_test"
   ]
  },
  {
   "cell_type": "markdown",
   "metadata": {},
   "source": [
    "Точность случайного леса на тесте:"
   ]
  },
  {
   "cell_type": "code",
   "execution_count": 82,
   "metadata": {
    "scrolled": false
   },
   "outputs": [
    {
     "data": {
      "text/plain": [
       "0.8040435458786936"
      ]
     },
     "execution_count": 82,
     "metadata": {},
     "output_type": "execute_result"
    }
   ],
   "source": [
    "best_result_est_test = model_est.score(features_test, target_test)\n",
    "best_result_est_test"
   ]
  },
  {
   "cell_type": "markdown",
   "metadata": {},
   "source": [
    "Точность логистической регрессии на тесте:"
   ]
  },
  {
   "cell_type": "code",
   "execution_count": 83,
   "metadata": {},
   "outputs": [
    {
     "data": {
      "text/plain": [
       "0.7402799377916018"
      ]
     },
     "execution_count": 83,
     "metadata": {},
     "output_type": "execute_result"
    }
   ],
   "source": [
    "logistic_regression_result_test = accuracy_score(target_test, predict_test)\n",
    "logistic_regression_result_test"
   ]
  },
  {
   "cell_type": "code",
   "execution_count": 84,
   "metadata": {},
   "outputs": [],
   "source": [
    "list_results_test = [best_result_tree_test, best_result_est_test, logistic_regression_result_test]\n",
    "results_test = pd.Series(list_results_test, index=['Дерево решений', 'Лес', 'Логистическая регрессия'])"
   ]
  },
  {
   "cell_type": "code",
   "execution_count": 85,
   "metadata": {},
   "outputs": [
    {
     "data": {
      "image/png": "[encoded data removed]",
      "text/plain": [
       "<Figure size 720x504 with 1 Axes>"
      ]
     },
     "metadata": {
      "needs_background": "light"
     },
     "output_type": "display_data"
    }
   ],
   "source": [
    "results_test.plot(x=results_test.index,\n",
    "                   y=results_test.values,\n",
    "                   kind='bar',\n",
    "                   figsize=(10, 7),\n",
    "                   rot=0);\n",
    "\n",
    "plt.title(\"\\n\"+'Точность моделей (тест)'+\"\\n\", fontsize=22)\n",
    "plt.axhline(y=0.75, color='red');"
   ]
  },
  {
   "cell_type": "markdown",
   "metadata": {},
   "source": [
    "На тестовых данных проходит по точности, только две модели - дерево решений и случайный лес, лучшим так и остался случайный лес с точност. около 81%"
   ]
  },
  {
   "cell_type": "code",
   "execution_count": 86,
   "metadata": {},
   "outputs": [],
   "source": [
    "features_full_train = pd.concat([features_train, features_valid])\n",
    "target_full_train = pd.concat([target_train, target_valid])"
   ]
  },
  {
   "cell_type": "code",
   "execution_count": 87,
   "metadata": {},
   "outputs": [
    {
     "data": {
      "text/plain": [
       "0.8055987558320373"
      ]
     },
     "execution_count": 87,
     "metadata": {},
     "output_type": "execute_result"
    }
   ],
   "source": [
    "model_est = RandomForestClassifier(\n",
    "    random_state=12345,\n",
    "    criterion='entropy',\n",
    "    max_depth=10,\n",
    "    max_features=2,\n",
    "    min_samples_leaf=1,\n",
    "    min_samples_split=4,\n",
    "    n_estimators=270,\n",
    "    class_weight={1: 1, 0: 1}\n",
    ")\n",
    "\n",
    "model_est.fit(features_full_train, target_full_train)\n",
    "model_est.score(features_test, target_test)"
   ]
  },
  {
   "cell_type": "code",
   "execution_count": 88,
   "metadata": {},
   "outputs": [
    {
     "data": {
      "text/plain": [
       "0.7853810264385692"
      ]
     },
     "execution_count": 88,
     "metadata": {},
     "output_type": "execute_result"
    }
   ],
   "source": [
    "model_tree = DecisionTreeClassifier(\n",
    "    random_state=12345,\n",
    "    criterion='entropy',\n",
    "    max_depth=5,\n",
    "    max_features='auto'\n",
    ")\n",
    "\n",
    "model_tree.fit(features_full_train, target_full_train)\n",
    "model_tree.score(features_test, target_test)"
   ]
  },
  {
   "cell_type": "markdown",
   "metadata": {},
   "source": [
    "## (бонус) Проверьте модели на адекватность"
   ]
  },
  {
   "cell_type": "markdown",
   "metadata": {},
   "source": [
    "*Подскажие пожалуйста в каком направлении двигаться я искал в интернете, но там нашел только проверка модели для решений задач по регрессии, а не классификации*"
   ]
  },
  {
   "cell_type": "markdown",
   "metadata": {},
   "source": [
    "Оценили адекватность полученных моделей прошедших минимум в 0.75, всего две модели. Проверили спобом \"глупой\" модели, создали список с нулями, равный по длине тестовому, представили этот список как предсказания этой \"глупой\" модели и сравнили с полученными ранее моделями:"
   ]
  },
  {
   "cell_type": "code",
   "execution_count": 89,
   "metadata": {},
   "outputs": [
    {
     "data": {
      "text/plain": [
       "0.6842923794712286"
      ]
     },
     "execution_count": 89,
     "metadata": {},
     "output_type": "execute_result"
    }
   ],
   "source": [
    "dummy_prediction = np.zeros(643)\n",
    "accuracy_score(target_test, dummy_prediction)"
   ]
  },
  {
   "cell_type": "markdown",
   "metadata": {},
   "source": [
    "Около 68 процентов точности глупой модели.\n",
    "\n",
    "Показатель лучшей модели - случайного леса:"
   ]
  },
  {
   "cell_type": "code",
   "execution_count": 90,
   "metadata": {
    "scrolled": false
   },
   "outputs": [
    {
     "data": {
      "text/plain": [
       "0.8055987558320373"
      ]
     },
     "execution_count": 90,
     "metadata": {},
     "output_type": "execute_result"
    }
   ],
   "source": [
    "model_est_predictions = model_est.predict(features_test)\n",
    "accuracy_score(target_test, model_est_predictions)"
   ]
  },
  {
   "cell_type": "markdown",
   "metadata": {},
   "source": [
    "Показатель дерева решений:"
   ]
  },
  {
   "cell_type": "code",
   "execution_count": 91,
   "metadata": {},
   "outputs": [
    {
     "data": {
      "text/plain": [
       "0.7853810264385692"
      ]
     },
     "execution_count": 91,
     "metadata": {},
     "output_type": "execute_result"
    }
   ],
   "source": [
    "model_tree_predictions = model_tree.predict(features_test)\n",
    "accuracy_score(target_test, model_tree_predictions)"
   ]
  },
  {
   "cell_type": "markdown",
   "metadata": {},
   "source": [
    "Как увидели, что обе модели прошли проверку на адекватность, чуть более десяти процентов точности составляет разница между \"глупой\" модели и модели по случайному лесу, значит, модель обладает предиктивной силой и может считаться адекватной"
   ]
  },
  {
   "cell_type": "markdown",
   "metadata": {},
   "source": [
    "## Вывод"
   ]
  },
  {
   "cell_type": "markdown",
   "metadata": {},
   "source": [
    "Исходные данные как и было описано выше в выводе не требовали предобработки так как она была проведена ранее, исследовали три модели - дерево решений, случайный лес и логистическая регрессия для задач классификации. Лучшей из них явилась модель случайного леса, подошли под условия поставленной задачи (не менее 75 процентов точности) только две из них - случайный лес (около 80 процентов) и дерево решений (чуть менее 80 процентов), на тестовых данных.\n",
    "\n",
    "В целом, можно сказать, что возможно, есть пути улучшения модели, но задача выполнена. Так можно поработать с признаками - дополнительно их классифицировать, например, попробовать дополнительно классифицировать пользователей отправляющих много смс и мало отправляющих или совсем не отправляющих, также можно попробоать классифицировать и по другим признакам, например, по интернет-трафику или звонкам, а затем обучить модель."
   ]
  },
  {
   "cell_type": "markdown",
   "metadata": {},
   "source": [
    "## Чек-лист готовности проекта"
   ]
  },
  {
   "cell_type": "markdown",
   "metadata": {},
   "source": [
    "Поставьте 'x' в выполненных пунктах. Далее нажмите Shift+Enter."
   ]
  },
  {
   "cell_type": "markdown",
   "metadata": {},
   "source": [
    "- [x] Jupyter Notebook открыт\n",
    "- [x] Весь код исполняется без ошибок\n",
    "- [x] Ячейки с кодом расположены в порядке исполнения\n",
    "- [x] Выполнено задание 1: данные загружены и изучены\n",
    "- [x] Выполнено задание 2: данные разбиты на три выборки\n",
    "- [x] Выполнено задание 3: проведено исследование моделей\n",
    "    - [x] Рассмотрено больше одной модели\n",
    "    - [x] Рассмотрено хотя бы 3 значения гипепараметров для какой-нибудь модели\n",
    "    - [x] Написаны выводы по результатам исследования\n",
    "- [x] Выполнено задание 3: Проведено тестирование\n",
    "- [x] Удалось достичь accuracy не меньше 0.75\n"
   ]
  },
  {
   "cell_type": "code",
   "execution_count": null,
   "metadata": {},
   "outputs": [],
   "source": []
  }
 ],
 "metadata": {
  "ExecuteTimeLog": [
   {
    "duration": 386,
    "start_time": "2022-11-30T14:36:19.267Z"
   },
   {
    "duration": 81,
    "start_time": "2022-11-30T14:36:39.904Z"
   },
   {
    "duration": 18,
    "start_time": "2022-11-30T14:36:47.373Z"
   },
   {
    "duration": 8,
    "start_time": "2022-11-30T14:37:07.111Z"
   },
   {
    "duration": 5,
    "start_time": "2022-11-30T14:37:10.347Z"
   },
   {
    "duration": 18,
    "start_time": "2022-11-30T14:37:22.436Z"
   },
   {
    "duration": 789,
    "start_time": "2022-11-30T14:38:06.805Z"
   },
   {
    "duration": 489,
    "start_time": "2022-11-30T14:38:23.226Z"
   },
   {
    "duration": 531,
    "start_time": "2022-11-30T14:38:32.927Z"
   },
   {
    "duration": 72,
    "start_time": "2022-11-30T14:55:43.483Z"
   },
   {
    "duration": 701,
    "start_time": "2022-11-30T14:56:36.756Z"
   },
   {
    "duration": 4,
    "start_time": "2022-11-30T14:56:40.005Z"
   },
   {
    "duration": 11,
    "start_time": "2022-11-30T14:56:44.860Z"
   },
   {
    "duration": 11,
    "start_time": "2022-11-30T14:56:57.886Z"
   },
   {
    "duration": 11,
    "start_time": "2022-11-30T14:57:04.840Z"
   },
   {
    "duration": 4,
    "start_time": "2022-11-30T14:58:28.377Z"
   },
   {
    "duration": 11,
    "start_time": "2022-11-30T14:58:32.105Z"
   },
   {
    "duration": 6,
    "start_time": "2022-11-30T15:00:45.471Z"
   },
   {
    "duration": 10,
    "start_time": "2022-11-30T15:00:48.912Z"
   },
   {
    "duration": 11,
    "start_time": "2022-11-30T15:00:53.611Z"
   },
   {
    "duration": 1041,
    "start_time": "2022-11-30T15:01:21.763Z"
   },
   {
    "duration": 31,
    "start_time": "2022-11-30T15:01:22.806Z"
   },
   {
    "duration": 17,
    "start_time": "2022-11-30T15:01:22.839Z"
   },
   {
    "duration": 5,
    "start_time": "2022-11-30T15:01:22.858Z"
   },
   {
    "duration": 15,
    "start_time": "2022-11-30T15:01:22.864Z"
   },
   {
    "duration": 752,
    "start_time": "2022-11-30T15:01:22.880Z"
   },
   {
    "duration": 7,
    "start_time": "2022-11-30T15:01:23.634Z"
   },
   {
    "duration": 11,
    "start_time": "2022-11-30T15:01:23.652Z"
   },
   {
    "duration": 11,
    "start_time": "2022-11-30T15:02:07.000Z"
   },
   {
    "duration": 6,
    "start_time": "2022-11-30T15:06:47.862Z"
   },
   {
    "duration": 131,
    "start_time": "2022-11-30T15:09:32.523Z"
   },
   {
    "duration": 37,
    "start_time": "2022-11-30T15:09:52.854Z"
   },
   {
    "duration": 15,
    "start_time": "2022-11-30T15:09:57.227Z"
   },
   {
    "duration": 10,
    "start_time": "2022-11-30T15:10:11.625Z"
   },
   {
    "duration": 6,
    "start_time": "2022-11-30T15:10:17.846Z"
   },
   {
    "duration": 32,
    "start_time": "2022-11-30T15:10:18.763Z"
   },
   {
    "duration": 27,
    "start_time": "2022-11-30T15:10:32.166Z"
   },
   {
    "duration": 5,
    "start_time": "2022-11-30T15:10:38.439Z"
   },
   {
    "duration": 4,
    "start_time": "2022-11-30T15:10:50.714Z"
   },
   {
    "duration": 113,
    "start_time": "2022-11-30T15:11:02.508Z"
   },
   {
    "duration": 4,
    "start_time": "2022-11-30T15:11:03.668Z"
   },
   {
    "duration": 3,
    "start_time": "2022-11-30T15:11:04.195Z"
   },
   {
    "duration": 457,
    "start_time": "2022-11-30T15:11:08.112Z"
   },
   {
    "duration": 3,
    "start_time": "2022-11-30T15:11:08.850Z"
   },
   {
    "duration": 4,
    "start_time": "2022-11-30T15:11:10.099Z"
   },
   {
    "duration": 30,
    "start_time": "2022-11-30T15:11:13.977Z"
   },
   {
    "duration": 4,
    "start_time": "2022-11-30T15:11:14.592Z"
   },
   {
    "duration": 4,
    "start_time": "2022-11-30T15:11:15.019Z"
   },
   {
    "duration": 7,
    "start_time": "2022-11-30T15:12:46.869Z"
   },
   {
    "duration": 11,
    "start_time": "2022-11-30T15:14:02.901Z"
   },
   {
    "duration": 21,
    "start_time": "2022-11-30T15:15:21.368Z"
   },
   {
    "duration": 28,
    "start_time": "2022-11-30T15:16:00.831Z"
   },
   {
    "duration": 5,
    "start_time": "2022-11-30T15:16:07.188Z"
   },
   {
    "duration": 5,
    "start_time": "2022-11-30T15:16:12.834Z"
   },
   {
    "duration": 38,
    "start_time": "2022-11-30T15:16:55.462Z"
   },
   {
    "duration": 4,
    "start_time": "2022-11-30T15:16:56.239Z"
   },
   {
    "duration": 5,
    "start_time": "2022-11-30T15:16:56.857Z"
   },
   {
    "duration": 6,
    "start_time": "2022-11-30T15:16:57.493Z"
   },
   {
    "duration": 252,
    "start_time": "2022-11-30T15:18:13.635Z"
   },
   {
    "duration": 3,
    "start_time": "2022-11-30T15:18:20.709Z"
   },
   {
    "duration": 5,
    "start_time": "2022-11-30T15:18:40.376Z"
   },
   {
    "duration": 4,
    "start_time": "2022-11-30T15:18:56.305Z"
   },
   {
    "duration": 9,
    "start_time": "2022-11-30T15:19:49.984Z"
   },
   {
    "duration": 4610,
    "start_time": "2022-11-30T15:20:05.430Z"
   },
   {
    "duration": 4,
    "start_time": "2022-11-30T15:20:12.925Z"
   },
   {
    "duration": 3,
    "start_time": "2022-11-30T15:20:14.662Z"
   },
   {
    "duration": 18,
    "start_time": "2022-11-30T15:20:15.695Z"
   },
   {
    "duration": 240,
    "start_time": "2022-11-30T15:20:19.601Z"
   },
   {
    "duration": 4,
    "start_time": "2022-11-30T15:20:20.800Z"
   },
   {
    "duration": 4,
    "start_time": "2022-11-30T15:20:21.675Z"
   },
   {
    "duration": 15,
    "start_time": "2022-11-30T15:20:22.659Z"
   },
   {
    "duration": 9,
    "start_time": "2022-11-30T15:22:02.257Z"
   },
   {
    "duration": 7,
    "start_time": "2022-11-30T15:22:20.751Z"
   },
   {
    "duration": 14,
    "start_time": "2022-11-30T15:22:26.980Z"
   },
   {
    "duration": 31,
    "start_time": "2022-11-30T15:22:38.264Z"
   },
   {
    "duration": 44,
    "start_time": "2022-11-30T15:22:47.346Z"
   },
   {
    "duration": 17,
    "start_time": "2022-11-30T15:23:28.122Z"
   },
   {
    "duration": 7,
    "start_time": "2022-11-30T15:25:23.813Z"
   },
   {
    "duration": 8,
    "start_time": "2022-11-30T15:26:38.905Z"
   },
   {
    "duration": 18,
    "start_time": "2022-11-30T15:27:25.761Z"
   },
   {
    "duration": 8,
    "start_time": "2022-11-30T15:27:40.696Z"
   },
   {
    "duration": 9,
    "start_time": "2022-11-30T15:28:41.372Z"
   },
   {
    "duration": 5,
    "start_time": "2022-11-30T15:28:49.916Z"
   },
   {
    "duration": 6,
    "start_time": "2022-11-30T15:29:17.205Z"
   },
   {
    "duration": 18,
    "start_time": "2022-11-30T15:29:32.406Z"
   },
   {
    "duration": 7,
    "start_time": "2022-11-30T15:29:35.669Z"
   },
   {
    "duration": 7,
    "start_time": "2022-11-30T15:29:45.571Z"
   },
   {
    "duration": 6,
    "start_time": "2022-11-30T15:29:58.887Z"
   },
   {
    "duration": 1002,
    "start_time": "2022-11-30T15:30:08.107Z"
   },
   {
    "duration": 29,
    "start_time": "2022-11-30T15:30:09.112Z"
   },
   {
    "duration": 16,
    "start_time": "2022-11-30T15:30:09.143Z"
   },
   {
    "duration": 9,
    "start_time": "2022-11-30T15:30:09.161Z"
   },
   {
    "duration": 13,
    "start_time": "2022-11-30T15:30:09.172Z"
   },
   {
    "duration": 766,
    "start_time": "2022-11-30T15:30:09.187Z"
   },
   {
    "duration": 6,
    "start_time": "2022-11-30T15:30:09.955Z"
   },
   {
    "duration": 9,
    "start_time": "2022-11-30T15:30:09.962Z"
   },
   {
    "duration": 119,
    "start_time": "2022-11-30T15:30:09.972Z"
   },
   {
    "duration": 0,
    "start_time": "2022-11-30T15:30:10.093Z"
   },
   {
    "duration": 0,
    "start_time": "2022-11-30T15:30:10.094Z"
   },
   {
    "duration": 0,
    "start_time": "2022-11-30T15:30:10.096Z"
   },
   {
    "duration": 0,
    "start_time": "2022-11-30T15:30:10.097Z"
   },
   {
    "duration": 0,
    "start_time": "2022-11-30T15:30:10.098Z"
   },
   {
    "duration": 0,
    "start_time": "2022-11-30T15:30:10.099Z"
   },
   {
    "duration": 0,
    "start_time": "2022-11-30T15:30:10.100Z"
   },
   {
    "duration": 0,
    "start_time": "2022-11-30T15:30:10.101Z"
   },
   {
    "duration": 0,
    "start_time": "2022-11-30T15:30:10.102Z"
   },
   {
    "duration": 0,
    "start_time": "2022-11-30T15:30:10.103Z"
   },
   {
    "duration": 0,
    "start_time": "2022-11-30T15:30:10.104Z"
   },
   {
    "duration": 29,
    "start_time": "2022-11-30T15:30:39.980Z"
   },
   {
    "duration": 1111,
    "start_time": "2022-11-30T15:30:59.232Z"
   },
   {
    "duration": 32,
    "start_time": "2022-11-30T15:31:00.345Z"
   },
   {
    "duration": 18,
    "start_time": "2022-11-30T15:31:00.379Z"
   },
   {
    "duration": 30,
    "start_time": "2022-11-30T15:31:00.399Z"
   },
   {
    "duration": 29,
    "start_time": "2022-11-30T15:31:00.431Z"
   },
   {
    "duration": 863,
    "start_time": "2022-11-30T15:31:00.462Z"
   },
   {
    "duration": 5,
    "start_time": "2022-11-30T15:31:01.327Z"
   },
   {
    "duration": 16,
    "start_time": "2022-11-30T15:31:01.334Z"
   },
   {
    "duration": 40,
    "start_time": "2022-11-30T15:31:01.352Z"
   },
   {
    "duration": 4,
    "start_time": "2022-11-30T15:31:01.395Z"
   },
   {
    "duration": 18,
    "start_time": "2022-11-30T15:31:01.400Z"
   },
   {
    "duration": 9,
    "start_time": "2022-11-30T15:31:01.419Z"
   },
   {
    "duration": 254,
    "start_time": "2022-11-30T15:31:01.429Z"
   },
   {
    "duration": 4,
    "start_time": "2022-11-30T15:31:01.685Z"
   },
   {
    "duration": 11,
    "start_time": "2022-11-30T15:31:01.690Z"
   },
   {
    "duration": 20,
    "start_time": "2022-11-30T15:31:01.702Z"
   },
   {
    "duration": 54,
    "start_time": "2022-11-30T15:31:01.724Z"
   },
   {
    "duration": 6,
    "start_time": "2022-11-30T15:31:01.781Z"
   },
   {
    "duration": 13,
    "start_time": "2022-11-30T15:31:01.789Z"
   },
   {
    "duration": 23,
    "start_time": "2022-11-30T15:31:01.804Z"
   },
   {
    "duration": 102,
    "start_time": "2022-11-30T15:31:53.920Z"
   },
   {
    "duration": 10,
    "start_time": "2022-11-30T15:32:11.912Z"
   },
   {
    "duration": 5,
    "start_time": "2022-11-30T15:33:06.699Z"
   },
   {
    "duration": 4,
    "start_time": "2022-11-30T15:33:26.781Z"
   },
   {
    "duration": 4,
    "start_time": "2022-11-30T15:37:32.023Z"
   },
   {
    "duration": 4,
    "start_time": "2022-11-30T15:37:38.117Z"
   },
   {
    "duration": 128,
    "start_time": "2022-11-30T15:38:06.194Z"
   },
   {
    "duration": 193,
    "start_time": "2022-11-30T15:38:17.623Z"
   },
   {
    "duration": 115,
    "start_time": "2022-11-30T15:38:52.144Z"
   },
   {
    "duration": 5,
    "start_time": "2022-11-30T15:41:38.803Z"
   },
   {
    "duration": 127,
    "start_time": "2022-11-30T15:41:39.936Z"
   },
   {
    "duration": 5,
    "start_time": "2022-11-30T15:43:52.853Z"
   },
   {
    "duration": 129,
    "start_time": "2022-11-30T15:43:53.712Z"
   },
   {
    "duration": 130,
    "start_time": "2022-11-30T15:44:23.940Z"
   },
   {
    "duration": 124,
    "start_time": "2022-11-30T15:44:28.307Z"
   },
   {
    "duration": 127,
    "start_time": "2022-11-30T15:44:36.033Z"
   },
   {
    "duration": 120,
    "start_time": "2022-11-30T15:44:41.161Z"
   },
   {
    "duration": 122,
    "start_time": "2022-11-30T15:46:07.006Z"
   },
   {
    "duration": 136,
    "start_time": "2022-11-30T15:46:27.627Z"
   },
   {
    "duration": 127,
    "start_time": "2022-11-30T15:46:52.791Z"
   },
   {
    "duration": 4,
    "start_time": "2022-11-30T15:47:46.407Z"
   },
   {
    "duration": 129,
    "start_time": "2022-11-30T15:47:51.509Z"
   },
   {
    "duration": 126,
    "start_time": "2022-11-30T15:47:58.233Z"
   },
   {
    "duration": 228,
    "start_time": "2022-11-30T15:48:16.392Z"
   },
   {
    "duration": 137,
    "start_time": "2022-11-30T15:49:16.863Z"
   },
   {
    "duration": 140,
    "start_time": "2022-11-30T15:50:08.752Z"
   },
   {
    "duration": 128,
    "start_time": "2022-11-30T15:50:17.847Z"
   },
   {
    "duration": 152,
    "start_time": "2022-11-30T15:50:30.851Z"
   },
   {
    "duration": 135,
    "start_time": "2022-11-30T15:50:37.180Z"
   },
   {
    "duration": 138,
    "start_time": "2022-11-30T15:50:44.075Z"
   },
   {
    "duration": 138,
    "start_time": "2022-11-30T15:50:52.143Z"
   },
   {
    "duration": 126,
    "start_time": "2022-11-30T15:50:59.912Z"
   },
   {
    "duration": 138,
    "start_time": "2022-11-30T15:51:07.820Z"
   },
   {
    "duration": 125,
    "start_time": "2022-11-30T15:51:15.820Z"
   },
   {
    "duration": 127,
    "start_time": "2022-11-30T15:51:23.431Z"
   },
   {
    "duration": 142,
    "start_time": "2022-11-30T15:51:37.488Z"
   },
   {
    "duration": 227,
    "start_time": "2022-11-30T15:51:50.275Z"
   },
   {
    "duration": 126,
    "start_time": "2022-11-30T15:52:09.373Z"
   },
   {
    "duration": 127,
    "start_time": "2022-11-30T15:52:28.018Z"
   },
   {
    "duration": 142,
    "start_time": "2022-11-30T15:52:45.591Z"
   },
   {
    "duration": 5,
    "start_time": "2022-11-30T15:53:29.651Z"
   },
   {
    "duration": 129,
    "start_time": "2022-11-30T15:53:30.830Z"
   },
   {
    "duration": 6,
    "start_time": "2022-11-30T15:53:42.559Z"
   },
   {
    "duration": 126,
    "start_time": "2022-11-30T15:53:43.090Z"
   },
   {
    "duration": 263,
    "start_time": "2022-11-30T15:56:09.522Z"
   },
   {
    "duration": 241,
    "start_time": "2022-11-30T15:56:16.655Z"
   },
   {
    "duration": 203,
    "start_time": "2022-11-30T15:56:29.998Z"
   },
   {
    "duration": 250,
    "start_time": "2022-11-30T15:57:40.362Z"
   },
   {
    "duration": 217,
    "start_time": "2022-11-30T15:57:46.292Z"
   },
   {
    "duration": 257,
    "start_time": "2022-11-30T15:57:50.239Z"
   },
   {
    "duration": 11,
    "start_time": "2022-11-30T15:59:39.866Z"
   },
   {
    "duration": 4,
    "start_time": "2022-11-30T15:59:51.272Z"
   },
   {
    "duration": 261,
    "start_time": "2022-11-30T15:59:51.860Z"
   },
   {
    "duration": 3,
    "start_time": "2022-11-30T16:02:14.322Z"
   },
   {
    "duration": 7,
    "start_time": "2022-11-30T16:03:01.833Z"
   },
   {
    "duration": 9,
    "start_time": "2022-11-30T16:03:07.121Z"
   },
   {
    "duration": 6,
    "start_time": "2022-11-30T16:03:45.991Z"
   },
   {
    "duration": 4,
    "start_time": "2022-11-30T16:04:06.701Z"
   },
   {
    "duration": 250,
    "start_time": "2022-11-30T16:04:07.051Z"
   },
   {
    "duration": 1470,
    "start_time": "2022-11-30T19:15:34.374Z"
   },
   {
    "duration": 77,
    "start_time": "2022-11-30T19:15:35.845Z"
   },
   {
    "duration": 13,
    "start_time": "2022-11-30T19:15:35.924Z"
   },
   {
    "duration": 7,
    "start_time": "2022-11-30T19:15:35.939Z"
   },
   {
    "duration": 11,
    "start_time": "2022-11-30T19:15:35.947Z"
   },
   {
    "duration": 530,
    "start_time": "2022-11-30T19:15:35.960Z"
   },
   {
    "duration": 15,
    "start_time": "2022-11-30T19:15:36.492Z"
   },
   {
    "duration": 15,
    "start_time": "2022-11-30T19:15:36.509Z"
   },
   {
    "duration": 31,
    "start_time": "2022-11-30T19:15:36.526Z"
   },
   {
    "duration": 5,
    "start_time": "2022-11-30T19:15:36.560Z"
   },
   {
    "duration": 6,
    "start_time": "2022-11-30T19:15:36.566Z"
   },
   {
    "duration": 15,
    "start_time": "2022-11-30T19:15:36.574Z"
   },
   {
    "duration": 248,
    "start_time": "2022-11-30T19:15:36.590Z"
   },
   {
    "duration": 5,
    "start_time": "2022-11-30T19:15:36.840Z"
   },
   {
    "duration": 14,
    "start_time": "2022-11-30T19:15:36.846Z"
   },
   {
    "duration": 11,
    "start_time": "2022-11-30T19:15:36.861Z"
   },
   {
    "duration": 40,
    "start_time": "2022-11-30T19:15:36.874Z"
   },
   {
    "duration": 6,
    "start_time": "2022-11-30T19:15:36.916Z"
   },
   {
    "duration": 9,
    "start_time": "2022-11-30T19:15:36.923Z"
   },
   {
    "duration": 6,
    "start_time": "2022-11-30T19:15:36.933Z"
   },
   {
    "duration": 115,
    "start_time": "2022-11-30T19:15:36.941Z"
   },
   {
    "duration": 0,
    "start_time": "2022-11-30T19:15:37.057Z"
   },
   {
    "duration": 0,
    "start_time": "2022-11-30T19:15:37.058Z"
   },
   {
    "duration": 0,
    "start_time": "2022-11-30T19:15:37.060Z"
   },
   {
    "duration": 4,
    "start_time": "2022-11-30T19:16:42.337Z"
   },
   {
    "duration": 11,
    "start_time": "2022-11-30T19:16:44.336Z"
   },
   {
    "duration": 289,
    "start_time": "2022-11-30T19:16:58.954Z"
   },
   {
    "duration": 11,
    "start_time": "2022-11-30T19:17:11.811Z"
   },
   {
    "duration": 5,
    "start_time": "2022-11-30T19:17:41.180Z"
   },
   {
    "duration": 288,
    "start_time": "2022-11-30T19:17:49.273Z"
   },
   {
    "duration": 244,
    "start_time": "2022-11-30T19:17:59.371Z"
   },
   {
    "duration": 10,
    "start_time": "2022-11-30T19:23:22.662Z"
   },
   {
    "duration": 3,
    "start_time": "2022-11-30T19:23:44.981Z"
   },
   {
    "duration": 29,
    "start_time": "2022-11-30T19:23:51.588Z"
   },
   {
    "duration": 3,
    "start_time": "2022-11-30T19:24:12.028Z"
   },
   {
    "duration": 30,
    "start_time": "2022-11-30T19:24:17.109Z"
   },
   {
    "duration": 33,
    "start_time": "2022-11-30T19:25:48.336Z"
   },
   {
    "duration": 22,
    "start_time": "2022-11-30T19:26:59.877Z"
   },
   {
    "duration": 28,
    "start_time": "2022-11-30T19:27:10.748Z"
   },
   {
    "duration": 43,
    "start_time": "2022-11-30T19:28:58.609Z"
   },
   {
    "duration": 44,
    "start_time": "2022-11-30T19:29:16.196Z"
   },
   {
    "duration": 4218,
    "start_time": "2022-11-30T19:29:38.972Z"
   },
   {
    "duration": 6,
    "start_time": "2022-11-30T19:29:54.934Z"
   },
   {
    "duration": 4,
    "start_time": "2022-11-30T19:30:14.722Z"
   },
   {
    "duration": 4322,
    "start_time": "2022-11-30T19:30:23.092Z"
   },
   {
    "duration": 4,
    "start_time": "2022-11-30T19:30:28.429Z"
   },
   {
    "duration": 3,
    "start_time": "2022-11-30T19:30:29.859Z"
   },
   {
    "duration": 3,
    "start_time": "2022-11-30T19:30:31.071Z"
   },
   {
    "duration": 3,
    "start_time": "2022-11-30T19:30:32.270Z"
   },
   {
    "duration": 4258,
    "start_time": "2022-11-30T19:30:38.753Z"
   },
   {
    "duration": 30,
    "start_time": "2022-11-30T19:30:58.847Z"
   },
   {
    "duration": 4256,
    "start_time": "2022-11-30T19:31:11.801Z"
   },
   {
    "duration": 4,
    "start_time": "2022-11-30T19:31:21.362Z"
   },
   {
    "duration": 4,
    "start_time": "2022-11-30T19:31:22.558Z"
   },
   {
    "duration": 2051,
    "start_time": "2022-11-30T19:32:15.333Z"
   },
   {
    "duration": 4,
    "start_time": "2022-11-30T19:32:19.952Z"
   },
   {
    "duration": 4,
    "start_time": "2022-11-30T19:32:21.096Z"
   },
   {
    "duration": 5,
    "start_time": "2022-11-30T19:32:22.182Z"
   },
   {
    "duration": 5280,
    "start_time": "2022-11-30T19:32:40.146Z"
   },
   {
    "duration": 4,
    "start_time": "2022-11-30T19:32:53.260Z"
   },
   {
    "duration": 4,
    "start_time": "2022-11-30T19:32:54.179Z"
   },
   {
    "duration": 6,
    "start_time": "2022-11-30T19:32:54.848Z"
   },
   {
    "duration": 964,
    "start_time": "2022-11-30T19:33:28.677Z"
   },
   {
    "duration": 3,
    "start_time": "2022-11-30T19:33:31.173Z"
   },
   {
    "duration": 3,
    "start_time": "2022-11-30T19:33:33.630Z"
   },
   {
    "duration": 2,
    "start_time": "2022-11-30T19:33:39.598Z"
   },
   {
    "duration": 4,
    "start_time": "2022-11-30T19:33:40.455Z"
   },
   {
    "duration": 7,
    "start_time": "2022-11-30T19:33:41.305Z"
   },
   {
    "duration": 974,
    "start_time": "2022-11-30T19:34:02.283Z"
   },
   {
    "duration": 3,
    "start_time": "2022-11-30T19:34:04.386Z"
   },
   {
    "duration": 4,
    "start_time": "2022-11-30T19:34:05.776Z"
   },
   {
    "duration": 7,
    "start_time": "2022-11-30T19:34:07.057Z"
   },
   {
    "duration": 12,
    "start_time": "2022-11-30T19:36:21.583Z"
   },
   {
    "duration": 120,
    "start_time": "2022-11-30T19:36:40.547Z"
   },
   {
    "duration": 114,
    "start_time": "2022-11-30T19:36:54.748Z"
   },
   {
    "duration": 4,
    "start_time": "2022-11-30T19:37:06.725Z"
   },
   {
    "duration": 3,
    "start_time": "2022-11-30T19:37:08.321Z"
   },
   {
    "duration": 6,
    "start_time": "2022-11-30T19:37:09.004Z"
   },
   {
    "duration": 2216,
    "start_time": "2022-11-30T19:37:20.963Z"
   },
   {
    "duration": 8,
    "start_time": "2022-11-30T19:37:27.830Z"
   },
   {
    "duration": 4,
    "start_time": "2022-11-30T19:37:28.403Z"
   },
   {
    "duration": 6,
    "start_time": "2022-11-30T19:37:29.890Z"
   },
   {
    "duration": 115,
    "start_time": "2022-11-30T19:37:41.506Z"
   },
   {
    "duration": 4,
    "start_time": "2022-11-30T19:37:43.120Z"
   },
   {
    "duration": 4,
    "start_time": "2022-11-30T19:37:43.948Z"
   },
   {
    "duration": 6,
    "start_time": "2022-11-30T19:37:44.687Z"
   },
   {
    "duration": 51,
    "start_time": "2022-11-30T19:37:50.286Z"
   },
   {
    "duration": 4,
    "start_time": "2022-11-30T19:37:51.434Z"
   },
   {
    "duration": 3,
    "start_time": "2022-11-30T19:37:52.268Z"
   },
   {
    "duration": 7,
    "start_time": "2022-11-30T19:37:52.863Z"
   },
   {
    "duration": 19,
    "start_time": "2022-11-30T19:37:55.691Z"
   },
   {
    "duration": 21,
    "start_time": "2022-11-30T19:37:56.374Z"
   },
   {
    "duration": 4,
    "start_time": "2022-11-30T19:37:56.396Z"
   },
   {
    "duration": 4,
    "start_time": "2022-11-30T19:37:57.430Z"
   },
   {
    "duration": 7,
    "start_time": "2022-11-30T19:37:58.249Z"
   },
   {
    "duration": 50,
    "start_time": "2022-11-30T19:38:02.040Z"
   },
   {
    "duration": 5,
    "start_time": "2022-11-30T19:38:02.906Z"
   },
   {
    "duration": 3,
    "start_time": "2022-11-30T19:38:03.497Z"
   },
   {
    "duration": 6,
    "start_time": "2022-11-30T19:38:04.420Z"
   },
   {
    "duration": 103,
    "start_time": "2022-11-30T19:38:23.449Z"
   },
   {
    "duration": 4,
    "start_time": "2022-11-30T19:38:24.446Z"
   },
   {
    "duration": 3,
    "start_time": "2022-11-30T19:38:25.155Z"
   },
   {
    "duration": 7,
    "start_time": "2022-11-30T19:38:25.767Z"
   },
   {
    "duration": 110,
    "start_time": "2022-11-30T19:38:27.155Z"
   },
   {
    "duration": 5,
    "start_time": "2022-11-30T19:38:27.630Z"
   },
   {
    "duration": 4,
    "start_time": "2022-11-30T19:38:28.075Z"
   },
   {
    "duration": 6,
    "start_time": "2022-11-30T19:38:28.606Z"
   },
   {
    "duration": 110,
    "start_time": "2022-11-30T19:38:29.947Z"
   },
   {
    "duration": 4,
    "start_time": "2022-11-30T19:38:30.370Z"
   },
   {
    "duration": 4,
    "start_time": "2022-11-30T19:38:30.974Z"
   },
   {
    "duration": 7,
    "start_time": "2022-11-30T19:38:32.120Z"
   },
   {
    "duration": 103,
    "start_time": "2022-11-30T19:38:33.759Z"
   },
   {
    "duration": 3,
    "start_time": "2022-11-30T19:38:34.266Z"
   },
   {
    "duration": 5,
    "start_time": "2022-11-30T19:38:34.782Z"
   },
   {
    "duration": 6,
    "start_time": "2022-11-30T19:38:35.470Z"
   },
   {
    "duration": 115,
    "start_time": "2022-11-30T19:38:40.757Z"
   },
   {
    "duration": 4,
    "start_time": "2022-11-30T19:38:41.284Z"
   },
   {
    "duration": 3,
    "start_time": "2022-11-30T19:38:42.444Z"
   },
   {
    "duration": 6,
    "start_time": "2022-11-30T19:38:43.236Z"
   },
   {
    "duration": 106,
    "start_time": "2022-11-30T19:40:09.292Z"
   },
   {
    "duration": 165,
    "start_time": "2022-11-30T19:40:23.839Z"
   },
   {
    "duration": 4,
    "start_time": "2022-11-30T19:40:26.252Z"
   },
   {
    "duration": 4,
    "start_time": "2022-11-30T19:40:28.708Z"
   },
   {
    "duration": 6,
    "start_time": "2022-11-30T19:40:29.572Z"
   },
   {
    "duration": 162,
    "start_time": "2022-11-30T19:40:35.193Z"
   },
   {
    "duration": 4,
    "start_time": "2022-11-30T19:40:35.827Z"
   },
   {
    "duration": 4,
    "start_time": "2022-11-30T19:40:36.389Z"
   },
   {
    "duration": 8,
    "start_time": "2022-11-30T19:40:37.031Z"
   },
   {
    "duration": 161,
    "start_time": "2022-11-30T19:41:04.106Z"
   },
   {
    "duration": 4,
    "start_time": "2022-11-30T19:41:04.581Z"
   },
   {
    "duration": 4,
    "start_time": "2022-11-30T19:41:05.043Z"
   },
   {
    "duration": 6,
    "start_time": "2022-11-30T19:41:05.636Z"
   },
   {
    "duration": 214,
    "start_time": "2022-11-30T19:41:14.903Z"
   },
   {
    "duration": 4,
    "start_time": "2022-11-30T19:41:15.363Z"
   },
   {
    "duration": 3,
    "start_time": "2022-11-30T19:41:15.898Z"
   },
   {
    "duration": 7,
    "start_time": "2022-11-30T19:41:16.594Z"
   },
   {
    "duration": 13,
    "start_time": "2022-11-30T19:42:17.211Z"
   },
   {
    "duration": 11,
    "start_time": "2022-11-30T19:42:44.285Z"
   },
   {
    "duration": 9,
    "start_time": "2022-11-30T19:42:51.760Z"
   },
   {
    "duration": 11,
    "start_time": "2022-11-30T19:42:59.115Z"
   },
   {
    "duration": 119,
    "start_time": "2022-11-30T19:44:09.454Z"
   },
   {
    "duration": 235,
    "start_time": "2022-11-30T19:44:53.865Z"
   },
   {
    "duration": 7,
    "start_time": "2022-11-30T19:44:55.919Z"
   },
   {
    "duration": 4,
    "start_time": "2022-11-30T19:44:57.961Z"
   },
   {
    "duration": 6,
    "start_time": "2022-11-30T19:44:58.977Z"
   },
   {
    "duration": 4017,
    "start_time": "2022-11-30T19:45:09.938Z"
   },
   {
    "duration": 4,
    "start_time": "2022-11-30T19:45:15.159Z"
   },
   {
    "duration": 4,
    "start_time": "2022-11-30T19:45:16.076Z"
   },
   {
    "duration": 6,
    "start_time": "2022-11-30T19:45:16.680Z"
   },
   {
    "duration": 242,
    "start_time": "2022-11-30T19:45:21.451Z"
   },
   {
    "duration": 4,
    "start_time": "2022-11-30T19:45:22.309Z"
   },
   {
    "duration": 3,
    "start_time": "2022-11-30T19:45:22.914Z"
   },
   {
    "duration": 6,
    "start_time": "2022-11-30T19:45:23.861Z"
   },
   {
    "duration": 217,
    "start_time": "2022-11-30T19:46:17.580Z"
   },
   {
    "duration": 4,
    "start_time": "2022-11-30T19:46:18.258Z"
   },
   {
    "duration": 4,
    "start_time": "2022-11-30T19:46:19.808Z"
   },
   {
    "duration": 7,
    "start_time": "2022-11-30T19:46:20.436Z"
   },
   {
    "duration": 207,
    "start_time": "2022-11-30T19:46:25.389Z"
   },
   {
    "duration": 5,
    "start_time": "2022-11-30T19:46:28.461Z"
   },
   {
    "duration": 4,
    "start_time": "2022-11-30T19:46:29.141Z"
   },
   {
    "duration": 8,
    "start_time": "2022-11-30T19:46:29.706Z"
   },
   {
    "duration": 14,
    "start_time": "2022-11-30T19:46:35.695Z"
   },
   {
    "duration": 211,
    "start_time": "2022-11-30T19:46:44.672Z"
   },
   {
    "duration": 4,
    "start_time": "2022-11-30T19:46:46.210Z"
   },
   {
    "duration": 4,
    "start_time": "2022-11-30T19:46:46.852Z"
   },
   {
    "duration": 6,
    "start_time": "2022-11-30T19:46:47.556Z"
   },
   {
    "duration": 164,
    "start_time": "2022-11-30T19:47:14.242Z"
   },
   {
    "duration": 4,
    "start_time": "2022-11-30T19:47:15.114Z"
   },
   {
    "duration": 4,
    "start_time": "2022-11-30T19:47:15.771Z"
   },
   {
    "duration": 6,
    "start_time": "2022-11-30T19:47:16.510Z"
   },
   {
    "duration": 18,
    "start_time": "2022-11-30T19:48:48.095Z"
   },
   {
    "duration": 257,
    "start_time": "2022-11-30T19:48:59.625Z"
   },
   {
    "duration": 4,
    "start_time": "2022-11-30T19:49:01.135Z"
   },
   {
    "duration": 3,
    "start_time": "2022-11-30T19:49:01.800Z"
   },
   {
    "duration": 6,
    "start_time": "2022-11-30T19:49:02.365Z"
   },
   {
    "duration": 258,
    "start_time": "2022-11-30T19:49:07.819Z"
   },
   {
    "duration": 4,
    "start_time": "2022-11-30T19:49:08.518Z"
   },
   {
    "duration": 4,
    "start_time": "2022-11-30T19:49:08.990Z"
   },
   {
    "duration": 7,
    "start_time": "2022-11-30T19:49:09.674Z"
   },
   {
    "duration": 272,
    "start_time": "2022-11-30T19:49:14.896Z"
   },
   {
    "duration": 5,
    "start_time": "2022-11-30T19:49:16.136Z"
   },
   {
    "duration": 4,
    "start_time": "2022-11-30T19:49:16.658Z"
   },
   {
    "duration": 6,
    "start_time": "2022-11-30T19:49:17.255Z"
   },
   {
    "duration": 254,
    "start_time": "2022-11-30T19:49:21.599Z"
   },
   {
    "duration": 3,
    "start_time": "2022-11-30T19:49:22.078Z"
   },
   {
    "duration": 3,
    "start_time": "2022-11-30T19:49:22.518Z"
   },
   {
    "duration": 6,
    "start_time": "2022-11-30T19:49:22.941Z"
   },
   {
    "duration": 17,
    "start_time": "2022-11-30T19:49:29.669Z"
   },
   {
    "duration": 17,
    "start_time": "2022-11-30T19:49:33.026Z"
   },
   {
    "duration": 256,
    "start_time": "2022-11-30T19:49:35.597Z"
   },
   {
    "duration": 4,
    "start_time": "2022-11-30T19:49:36.895Z"
   },
   {
    "duration": 5,
    "start_time": "2022-11-30T19:49:37.543Z"
   },
   {
    "duration": 6,
    "start_time": "2022-11-30T19:49:38.237Z"
   },
   {
    "duration": 239,
    "start_time": "2022-11-30T19:50:01.045Z"
   },
   {
    "duration": 4,
    "start_time": "2022-11-30T19:50:01.530Z"
   },
   {
    "duration": 3,
    "start_time": "2022-11-30T19:50:03.903Z"
   },
   {
    "duration": 6,
    "start_time": "2022-11-30T19:50:04.593Z"
   },
   {
    "duration": 22580,
    "start_time": "2022-11-30T19:50:35.714Z"
   },
   {
    "duration": 4,
    "start_time": "2022-11-30T19:51:01.070Z"
   },
   {
    "duration": 3,
    "start_time": "2022-11-30T19:51:02.507Z"
   },
   {
    "duration": 27,
    "start_time": "2022-11-30T19:51:03.226Z"
   },
   {
    "duration": 18497,
    "start_time": "2022-11-30T19:52:06.049Z"
   },
   {
    "duration": 4,
    "start_time": "2022-11-30T19:52:29.247Z"
   },
   {
    "duration": 3,
    "start_time": "2022-11-30T19:52:30.991Z"
   },
   {
    "duration": 23,
    "start_time": "2022-11-30T19:52:31.594Z"
   },
   {
    "duration": 121656,
    "start_time": "2022-11-30T19:53:59.478Z"
   },
   {
    "duration": 4,
    "start_time": "2022-11-30T19:56:03.233Z"
   },
   {
    "duration": 3,
    "start_time": "2022-11-30T19:56:10.395Z"
   },
   {
    "duration": 16,
    "start_time": "2022-11-30T19:56:11.378Z"
   },
   {
    "duration": 70,
    "start_time": "2022-11-30T19:59:10.181Z"
   },
   {
    "duration": 77182,
    "start_time": "2022-11-30T19:59:13.786Z"
   },
   {
    "duration": 5,
    "start_time": "2022-11-30T20:00:46.584Z"
   },
   {
    "duration": 3,
    "start_time": "2022-11-30T20:00:49.718Z"
   },
   {
    "duration": 12,
    "start_time": "2022-11-30T20:00:50.275Z"
   },
   {
    "duration": 32167,
    "start_time": "2022-11-30T20:04:08.591Z"
   },
   {
    "duration": 4,
    "start_time": "2022-11-30T20:04:43.096Z"
   },
   {
    "duration": 4,
    "start_time": "2022-11-30T20:04:43.996Z"
   },
   {
    "duration": 19,
    "start_time": "2022-11-30T20:04:44.599Z"
   },
   {
    "duration": 16944,
    "start_time": "2022-11-30T20:04:53.534Z"
   },
   {
    "duration": 11393,
    "start_time": "2022-11-30T20:05:22.626Z"
   },
   {
    "duration": 4,
    "start_time": "2022-11-30T20:05:34.020Z"
   },
   {
    "duration": 7,
    "start_time": "2022-11-30T20:05:34.025Z"
   },
   {
    "duration": 14,
    "start_time": "2022-11-30T20:05:34.034Z"
   },
   {
    "duration": 28,
    "start_time": "2022-11-30T20:05:58.829Z"
   },
   {
    "duration": 27,
    "start_time": "2022-11-30T20:06:02.019Z"
   },
   {
    "duration": 6,
    "start_time": "2022-11-30T20:06:03.002Z"
   },
   {
    "duration": 5,
    "start_time": "2022-11-30T20:06:03.678Z"
   },
   {
    "duration": 6,
    "start_time": "2022-11-30T20:06:04.557Z"
   },
   {
    "duration": 28,
    "start_time": "2022-11-30T20:06:07.072Z"
   },
   {
    "duration": 5,
    "start_time": "2022-11-30T20:06:07.687Z"
   },
   {
    "duration": 4,
    "start_time": "2022-11-30T20:06:08.085Z"
   },
   {
    "duration": 5,
    "start_time": "2022-11-30T20:06:08.460Z"
   },
   {
    "duration": 27,
    "start_time": "2022-11-30T20:06:10.646Z"
   },
   {
    "duration": 5,
    "start_time": "2022-11-30T20:06:11.134Z"
   },
   {
    "duration": 4,
    "start_time": "2022-11-30T20:06:11.550Z"
   },
   {
    "duration": 5,
    "start_time": "2022-11-30T20:06:11.991Z"
   },
   {
    "duration": 28,
    "start_time": "2022-11-30T20:06:14.981Z"
   },
   {
    "duration": 6,
    "start_time": "2022-11-30T20:06:15.854Z"
   },
   {
    "duration": 5,
    "start_time": "2022-11-30T20:06:16.352Z"
   },
   {
    "duration": 5,
    "start_time": "2022-11-30T20:06:16.904Z"
   },
   {
    "duration": 28,
    "start_time": "2022-11-30T20:06:18.696Z"
   },
   {
    "duration": 6,
    "start_time": "2022-11-30T20:06:19.121Z"
   },
   {
    "duration": 5,
    "start_time": "2022-11-30T20:06:19.471Z"
   },
   {
    "duration": 4,
    "start_time": "2022-11-30T20:06:19.923Z"
   },
   {
    "duration": 11,
    "start_time": "2022-11-30T20:06:21.666Z"
   },
   {
    "duration": 31,
    "start_time": "2022-11-30T20:06:25.951Z"
   },
   {
    "duration": 6,
    "start_time": "2022-11-30T20:06:26.700Z"
   },
   {
    "duration": 5,
    "start_time": "2022-11-30T20:06:27.287Z"
   },
   {
    "duration": 5,
    "start_time": "2022-11-30T20:06:27.919Z"
   },
   {
    "duration": 7,
    "start_time": "2022-11-30T20:07:05.259Z"
   },
   {
    "duration": 6,
    "start_time": "2022-11-30T20:07:05.871Z"
   },
   {
    "duration": 7,
    "start_time": "2022-11-30T20:07:06.335Z"
   },
   {
    "duration": 5,
    "start_time": "2022-11-30T20:07:06.846Z"
   },
   {
    "duration": 7,
    "start_time": "2022-11-30T20:07:15.916Z"
   },
   {
    "duration": 5,
    "start_time": "2022-11-30T20:07:16.212Z"
   },
   {
    "duration": 5,
    "start_time": "2022-11-30T20:07:16.562Z"
   },
   {
    "duration": 4,
    "start_time": "2022-11-30T20:07:16.844Z"
   },
   {
    "duration": 157,
    "start_time": "2022-11-30T20:07:19.572Z"
   },
   {
    "duration": 6,
    "start_time": "2022-11-30T20:07:20.032Z"
   },
   {
    "duration": 165,
    "start_time": "2022-11-30T20:07:24.773Z"
   },
   {
    "duration": 6,
    "start_time": "2022-11-30T20:07:25.703Z"
   },
   {
    "duration": 4,
    "start_time": "2022-11-30T20:07:26.251Z"
   },
   {
    "duration": 6,
    "start_time": "2022-11-30T20:07:26.757Z"
   },
   {
    "duration": 178,
    "start_time": "2022-11-30T20:07:35.279Z"
   },
   {
    "duration": 5,
    "start_time": "2022-11-30T20:07:36.390Z"
   },
   {
    "duration": 4,
    "start_time": "2022-11-30T20:07:36.959Z"
   },
   {
    "duration": 6,
    "start_time": "2022-11-30T20:07:37.393Z"
   },
   {
    "duration": 144,
    "start_time": "2022-11-30T20:07:48.856Z"
   },
   {
    "duration": 5,
    "start_time": "2022-11-30T20:07:49.981Z"
   },
   {
    "duration": 5,
    "start_time": "2022-11-30T20:07:50.480Z"
   },
   {
    "duration": 5,
    "start_time": "2022-11-30T20:07:50.946Z"
   },
   {
    "duration": 28,
    "start_time": "2022-11-30T20:08:08.341Z"
   },
   {
    "duration": 5,
    "start_time": "2022-11-30T20:08:08.967Z"
   },
   {
    "duration": 4,
    "start_time": "2022-11-30T20:08:09.395Z"
   },
   {
    "duration": 5,
    "start_time": "2022-11-30T20:08:09.848Z"
   },
   {
    "duration": 29,
    "start_time": "2022-11-30T20:08:41.577Z"
   },
   {
    "duration": 7,
    "start_time": "2022-11-30T20:08:42.292Z"
   },
   {
    "duration": 5,
    "start_time": "2022-11-30T20:08:42.734Z"
   },
   {
    "duration": 4,
    "start_time": "2022-11-30T20:08:43.217Z"
   },
   {
    "duration": 49,
    "start_time": "2022-11-30T20:08:53.647Z"
   },
   {
    "duration": 6,
    "start_time": "2022-11-30T20:08:54.139Z"
   },
   {
    "duration": 4,
    "start_time": "2022-11-30T20:08:54.650Z"
   },
   {
    "duration": 5,
    "start_time": "2022-11-30T20:08:55.348Z"
   },
   {
    "duration": 50,
    "start_time": "2022-11-30T20:09:52.047Z"
   },
   {
    "duration": 6,
    "start_time": "2022-11-30T20:09:52.469Z"
   },
   {
    "duration": 6,
    "start_time": "2022-11-30T20:09:52.910Z"
   },
   {
    "duration": 6,
    "start_time": "2022-11-30T20:09:53.332Z"
   },
   {
    "duration": 5,
    "start_time": "2022-11-30T20:10:03.328Z"
   },
   {
    "duration": 203,
    "start_time": "2022-11-30T20:10:04.859Z"
   },
   {
    "duration": 4,
    "start_time": "2022-11-30T20:10:10.925Z"
   },
   {
    "duration": 247,
    "start_time": "2022-11-30T20:10:12.792Z"
   },
   {
    "duration": 10,
    "start_time": "2022-11-30T20:24:07.490Z"
   },
   {
    "duration": 3,
    "start_time": "2022-11-30T20:25:56.567Z"
   },
   {
    "duration": 235,
    "start_time": "2022-11-30T20:26:04.695Z"
   },
   {
    "duration": 23942,
    "start_time": "2022-11-30T20:29:50.281Z"
   },
   {
    "duration": 4,
    "start_time": "2022-11-30T20:30:14.225Z"
   },
   {
    "duration": 9,
    "start_time": "2022-11-30T20:30:14.230Z"
   },
   {
    "duration": 32,
    "start_time": "2022-11-30T20:30:14.240Z"
   },
   {
    "duration": 47675,
    "start_time": "2022-11-30T20:31:40.199Z"
   },
   {
    "duration": 4,
    "start_time": "2022-11-30T20:32:43.045Z"
   },
   {
    "duration": 3,
    "start_time": "2022-11-30T20:32:48.341Z"
   },
   {
    "duration": 1220,
    "start_time": "2022-11-30T20:45:10.246Z"
   },
   {
    "duration": 30,
    "start_time": "2022-11-30T20:45:11.468Z"
   },
   {
    "duration": 12,
    "start_time": "2022-11-30T20:45:11.499Z"
   },
   {
    "duration": 6,
    "start_time": "2022-11-30T20:45:11.512Z"
   },
   {
    "duration": 10,
    "start_time": "2022-11-30T20:45:11.519Z"
   },
   {
    "duration": 521,
    "start_time": "2022-11-30T20:45:11.531Z"
   },
   {
    "duration": 6,
    "start_time": "2022-11-30T20:45:12.053Z"
   },
   {
    "duration": 10,
    "start_time": "2022-11-30T20:45:12.061Z"
   },
   {
    "duration": 225,
    "start_time": "2022-11-30T20:45:12.072Z"
   },
   {
    "duration": 7,
    "start_time": "2022-11-30T20:45:12.299Z"
   },
   {
    "duration": 5,
    "start_time": "2022-11-30T20:45:12.308Z"
   },
   {
    "duration": 7,
    "start_time": "2022-11-30T20:45:12.315Z"
   },
   {
    "duration": 20281,
    "start_time": "2022-11-30T20:45:12.323Z"
   },
   {
    "duration": 4,
    "start_time": "2022-11-30T20:45:32.606Z"
   },
   {
    "duration": 12,
    "start_time": "2022-11-30T20:45:32.611Z"
   },
   {
    "duration": 35,
    "start_time": "2022-11-30T20:45:32.624Z"
   },
   {
    "duration": 42786,
    "start_time": "2022-11-30T20:45:32.660Z"
   },
   {
    "duration": 3,
    "start_time": "2022-11-30T20:46:15.448Z"
   },
   {
    "duration": 7,
    "start_time": "2022-11-30T20:46:15.453Z"
   },
   {
    "duration": 30,
    "start_time": "2022-11-30T20:46:15.462Z"
   },
   {
    "duration": 12,
    "start_time": "2022-11-30T20:46:15.493Z"
   },
   {
    "duration": 7,
    "start_time": "2022-11-30T20:46:15.506Z"
   },
   {
    "duration": 6,
    "start_time": "2022-11-30T20:46:15.514Z"
   },
   {
    "duration": 111,
    "start_time": "2022-11-30T20:46:15.522Z"
   },
   {
    "duration": 0,
    "start_time": "2022-11-30T20:46:15.635Z"
   },
   {
    "duration": 0,
    "start_time": "2022-11-30T20:46:15.636Z"
   },
   {
    "duration": 0,
    "start_time": "2022-11-30T20:46:15.637Z"
   },
   {
    "duration": 4,
    "start_time": "2022-11-30T20:52:38.633Z"
   },
   {
    "duration": 4,
    "start_time": "2022-11-30T20:53:56.138Z"
   },
   {
    "duration": 551476,
    "start_time": "2022-11-30T21:00:18.837Z"
   },
   {
    "duration": 12,
    "start_time": "2022-11-30T21:11:56.750Z"
   },
   {
    "duration": 0,
    "start_time": "2022-12-01T10:54:44.992Z"
   },
   {
    "duration": 0,
    "start_time": "2022-12-01T10:54:45.005Z"
   },
   {
    "duration": 0,
    "start_time": "2022-12-01T10:54:45.007Z"
   },
   {
    "duration": 0,
    "start_time": "2022-12-01T10:54:45.008Z"
   },
   {
    "duration": 0,
    "start_time": "2022-12-01T10:54:45.009Z"
   },
   {
    "duration": 0,
    "start_time": "2022-12-01T10:54:45.010Z"
   },
   {
    "duration": 0,
    "start_time": "2022-12-01T10:54:45.011Z"
   },
   {
    "duration": 0,
    "start_time": "2022-12-01T10:54:45.012Z"
   },
   {
    "duration": 0,
    "start_time": "2022-12-01T10:54:45.013Z"
   },
   {
    "duration": 0,
    "start_time": "2022-12-01T10:54:45.014Z"
   },
   {
    "duration": 0,
    "start_time": "2022-12-01T10:54:45.016Z"
   },
   {
    "duration": 0,
    "start_time": "2022-12-01T10:54:45.017Z"
   },
   {
    "duration": 0,
    "start_time": "2022-12-01T10:54:45.018Z"
   },
   {
    "duration": 0,
    "start_time": "2022-12-01T10:54:45.019Z"
   },
   {
    "duration": 0,
    "start_time": "2022-12-01T10:54:45.020Z"
   },
   {
    "duration": 0,
    "start_time": "2022-12-01T10:54:45.021Z"
   },
   {
    "duration": 0,
    "start_time": "2022-12-01T10:54:45.022Z"
   },
   {
    "duration": 0,
    "start_time": "2022-12-01T10:54:45.024Z"
   },
   {
    "duration": 0,
    "start_time": "2022-12-01T10:54:45.025Z"
   },
   {
    "duration": 0,
    "start_time": "2022-12-01T10:54:45.026Z"
   },
   {
    "duration": 0,
    "start_time": "2022-12-01T10:54:45.027Z"
   },
   {
    "duration": 0,
    "start_time": "2022-12-01T10:54:45.028Z"
   },
   {
    "duration": 0,
    "start_time": "2022-12-01T10:54:45.029Z"
   },
   {
    "duration": 1,
    "start_time": "2022-12-01T10:54:45.030Z"
   },
   {
    "duration": 0,
    "start_time": "2022-12-01T10:54:45.032Z"
   },
   {
    "duration": 0,
    "start_time": "2022-12-01T10:54:45.033Z"
   },
   {
    "duration": 0,
    "start_time": "2022-12-01T10:54:45.034Z"
   },
   {
    "duration": 0,
    "start_time": "2022-12-01T10:54:45.036Z"
   },
   {
    "duration": 0,
    "start_time": "2022-12-01T10:54:45.037Z"
   },
   {
    "duration": 4,
    "start_time": "2022-12-01T11:03:51.583Z"
   },
   {
    "duration": 28,
    "start_time": "2022-12-01T11:03:52.275Z"
   },
   {
    "duration": 12,
    "start_time": "2022-12-01T11:03:53.251Z"
   },
   {
    "duration": 6,
    "start_time": "2022-12-01T11:03:53.716Z"
   },
   {
    "duration": 11,
    "start_time": "2022-12-01T11:03:54.324Z"
   },
   {
    "duration": 1481,
    "start_time": "2022-12-01T11:04:00.170Z"
   },
   {
    "duration": 58,
    "start_time": "2022-12-01T11:04:01.653Z"
   },
   {
    "duration": 13,
    "start_time": "2022-12-01T11:04:01.712Z"
   },
   {
    "duration": 29,
    "start_time": "2022-12-01T11:04:01.727Z"
   },
   {
    "duration": 78,
    "start_time": "2022-12-01T11:04:01.758Z"
   },
   {
    "duration": 578,
    "start_time": "2022-12-01T11:04:01.837Z"
   },
   {
    "duration": 7,
    "start_time": "2022-12-01T11:04:02.417Z"
   },
   {
    "duration": 30,
    "start_time": "2022-12-01T11:04:02.426Z"
   },
   {
    "duration": 255,
    "start_time": "2022-12-01T11:04:02.458Z"
   },
   {
    "duration": 5,
    "start_time": "2022-12-01T11:04:02.716Z"
   },
   {
    "duration": 13,
    "start_time": "2022-12-01T11:04:02.723Z"
   },
   {
    "duration": 19,
    "start_time": "2022-12-01T11:04:02.737Z"
   },
   {
    "duration": 21213,
    "start_time": "2022-12-01T11:04:02.757Z"
   },
   {
    "duration": 5,
    "start_time": "2022-12-01T11:04:23.972Z"
   },
   {
    "duration": 8,
    "start_time": "2022-12-01T11:04:23.978Z"
   },
   {
    "duration": 7,
    "start_time": "2022-12-01T11:04:23.987Z"
   },
   {
    "duration": 3,
    "start_time": "2022-12-01T11:04:24.005Z"
   },
   {
    "duration": 32,
    "start_time": "2022-12-01T11:04:24.010Z"
   },
   {
    "duration": 46093,
    "start_time": "2022-12-01T11:04:24.043Z"
   },
   {
    "duration": 5,
    "start_time": "2022-12-01T11:05:10.138Z"
   },
   {
    "duration": 35,
    "start_time": "2022-12-01T11:05:10.145Z"
   },
   {
    "duration": 35,
    "start_time": "2022-12-01T11:05:10.181Z"
   },
   {
    "duration": 5,
    "start_time": "2022-12-01T11:05:10.218Z"
   },
   {
    "duration": 13,
    "start_time": "2022-12-01T11:05:10.225Z"
   },
   {
    "duration": 33,
    "start_time": "2022-12-01T11:05:10.240Z"
   },
   {
    "duration": 120,
    "start_time": "2022-12-01T11:05:10.274Z"
   },
   {
    "duration": 0,
    "start_time": "2022-12-01T11:05:10.395Z"
   },
   {
    "duration": 0,
    "start_time": "2022-12-01T11:05:10.397Z"
   },
   {
    "duration": 0,
    "start_time": "2022-12-01T11:05:10.404Z"
   },
   {
    "duration": 6,
    "start_time": "2022-12-01T11:05:53.624Z"
   },
   {
    "duration": 281,
    "start_time": "2022-12-01T11:05:55.877Z"
   },
   {
    "duration": 5,
    "start_time": "2022-12-01T11:06:01.352Z"
   },
   {
    "duration": 198,
    "start_time": "2022-12-01T11:06:02.459Z"
   },
   {
    "duration": 5,
    "start_time": "2022-12-01T11:06:46.227Z"
   },
   {
    "duration": 3,
    "start_time": "2022-12-01T11:14:01.448Z"
   },
   {
    "duration": 67,
    "start_time": "2022-12-01T11:14:01.453Z"
   },
   {
    "duration": 51,
    "start_time": "2022-12-01T11:14:01.522Z"
   },
   {
    "duration": 58,
    "start_time": "2022-12-01T11:14:01.575Z"
   },
   {
    "duration": 62,
    "start_time": "2022-12-01T11:14:01.635Z"
   },
   {
    "duration": 552,
    "start_time": "2022-12-01T11:14:01.699Z"
   },
   {
    "duration": 6,
    "start_time": "2022-12-01T11:14:02.253Z"
   },
   {
    "duration": 21,
    "start_time": "2022-12-01T11:14:02.261Z"
   },
   {
    "duration": 215,
    "start_time": "2022-12-01T11:14:02.283Z"
   },
   {
    "duration": 5,
    "start_time": "2022-12-01T11:14:02.500Z"
   },
   {
    "duration": 14,
    "start_time": "2022-12-01T11:14:02.507Z"
   },
   {
    "duration": 46,
    "start_time": "2022-12-01T11:14:02.523Z"
   },
   {
    "duration": 21170,
    "start_time": "2022-12-01T11:14:02.570Z"
   },
   {
    "duration": 56000,
    "start_time": "2022-12-01T11:14:23.742Z"
   },
   {
    "duration": 3,
    "start_time": "2022-12-01T11:15:19.743Z"
   },
   {
    "duration": 8,
    "start_time": "2022-12-01T11:15:19.747Z"
   },
   {
    "duration": 5,
    "start_time": "2022-12-01T11:15:19.757Z"
   },
   {
    "duration": 46,
    "start_time": "2022-12-01T11:15:19.764Z"
   },
   {
    "duration": 45949,
    "start_time": "2022-12-01T11:15:19.811Z"
   },
   {
    "duration": 4,
    "start_time": "2022-12-01T11:16:05.762Z"
   },
   {
    "duration": 19,
    "start_time": "2022-12-01T11:16:05.768Z"
   },
   {
    "duration": 28,
    "start_time": "2022-12-01T11:16:05.788Z"
   },
   {
    "duration": 6,
    "start_time": "2022-12-01T11:16:05.818Z"
   },
   {
    "duration": 9,
    "start_time": "2022-12-01T11:16:05.826Z"
   },
   {
    "duration": 6,
    "start_time": "2022-12-01T11:16:05.837Z"
   },
   {
    "duration": 8,
    "start_time": "2022-12-01T11:16:05.844Z"
   },
   {
    "duration": 217,
    "start_time": "2022-12-01T11:16:05.854Z"
   },
   {
    "duration": 35,
    "start_time": "2022-12-01T11:16:06.073Z"
   },
   {
    "duration": 249,
    "start_time": "2022-12-01T11:16:06.110Z"
   },
   {
    "duration": 48997,
    "start_time": "2022-12-01T11:16:09.166Z"
   },
   {
    "duration": 114,
    "start_time": "2022-12-01T11:17:36.544Z"
   },
   {
    "duration": 11,
    "start_time": "2022-12-01T11:18:01.636Z"
   },
   {
    "duration": 62014,
    "start_time": "2022-12-01T11:18:48.435Z"
   },
   {
    "duration": 4,
    "start_time": "2022-12-01T11:19:50.451Z"
   },
   {
    "duration": 4,
    "start_time": "2022-12-01T11:20:28.105Z"
   },
   {
    "duration": 14534,
    "start_time": "2022-12-01T11:20:57.403Z"
   },
   {
    "duration": 4,
    "start_time": "2022-12-01T11:21:11.939Z"
   },
   {
    "duration": 14243,
    "start_time": "2022-12-01T11:22:44.422Z"
   },
   {
    "duration": 4,
    "start_time": "2022-12-01T11:22:58.667Z"
   },
   {
    "duration": 14635,
    "start_time": "2022-12-01T11:23:21.775Z"
   },
   {
    "duration": 4,
    "start_time": "2022-12-01T11:23:36.412Z"
   },
   {
    "duration": 4,
    "start_time": "2022-12-01T11:27:01.806Z"
   },
   {
    "duration": 3,
    "start_time": "2022-12-01T11:27:11.463Z"
   },
   {
    "duration": 12,
    "start_time": "2022-12-01T11:29:07.395Z"
   },
   {
    "duration": 10,
    "start_time": "2022-12-01T11:29:14.762Z"
   },
   {
    "duration": 4,
    "start_time": "2022-12-01T11:29:21.158Z"
   },
   {
    "duration": 10,
    "start_time": "2022-12-01T11:29:30.135Z"
   },
   {
    "duration": 5,
    "start_time": "2022-12-01T11:29:50.292Z"
   },
   {
    "duration": 4,
    "start_time": "2022-12-01T11:29:54.143Z"
   },
   {
    "duration": 4,
    "start_time": "2022-12-01T11:30:05.060Z"
   },
   {
    "duration": 4,
    "start_time": "2022-12-01T11:30:26.583Z"
   },
   {
    "duration": 4,
    "start_time": "2022-12-01T11:30:29.747Z"
   },
   {
    "duration": 4,
    "start_time": "2022-12-01T11:30:32.888Z"
   },
   {
    "duration": 5,
    "start_time": "2022-12-01T11:30:35.427Z"
   },
   {
    "duration": 6,
    "start_time": "2022-12-01T11:30:38.733Z"
   },
   {
    "duration": 4,
    "start_time": "2022-12-01T11:30:55.823Z"
   },
   {
    "duration": 5,
    "start_time": "2022-12-01T11:31:21.005Z"
   },
   {
    "duration": 1866,
    "start_time": "2022-12-01T11:32:11.879Z"
   },
   {
    "duration": 4,
    "start_time": "2022-12-01T11:32:23.812Z"
   },
   {
    "duration": 5,
    "start_time": "2022-12-01T11:32:34.707Z"
   },
   {
    "duration": 4,
    "start_time": "2022-12-01T11:32:37.148Z"
   },
   {
    "duration": 4,
    "start_time": "2022-12-01T11:32:43.027Z"
   },
   {
    "duration": 3,
    "start_time": "2022-12-01T11:32:45.554Z"
   },
   {
    "duration": 4,
    "start_time": "2022-12-01T11:32:51.801Z"
   },
   {
    "duration": 308,
    "start_time": "2022-12-01T11:32:56.499Z"
   },
   {
    "duration": 3,
    "start_time": "2022-12-01T11:32:59.826Z"
   },
   {
    "duration": 408,
    "start_time": "2022-12-01T11:33:04.779Z"
   },
   {
    "duration": 3,
    "start_time": "2022-12-01T11:33:07.692Z"
   },
   {
    "duration": 4,
    "start_time": "2022-12-01T11:33:08.509Z"
   },
   {
    "duration": 3,
    "start_time": "2022-12-01T11:33:09.639Z"
   },
   {
    "duration": 5,
    "start_time": "2022-12-01T11:33:17.491Z"
   },
   {
    "duration": 4,
    "start_time": "2022-12-01T11:33:33.919Z"
   },
   {
    "duration": 2203,
    "start_time": "2022-12-01T11:34:46.827Z"
   },
   {
    "duration": 4,
    "start_time": "2022-12-01T11:34:50.963Z"
   },
   {
    "duration": 3,
    "start_time": "2022-12-01T11:35:03.082Z"
   },
   {
    "duration": 95431,
    "start_time": "2022-12-01T11:35:04.053Z"
   },
   {
    "duration": 6,
    "start_time": "2022-12-01T11:36:39.486Z"
   },
   {
    "duration": 3391529,
    "start_time": "2022-12-01T11:38:56.336Z"
   },
   {
    "duration": 4,
    "start_time": "2022-12-01T12:35:27.867Z"
   },
   {
    "duration": 12,
    "start_time": "2022-12-01T12:35:27.872Z"
   },
   {
    "duration": 48,
    "start_time": "2022-12-02T04:15:00.856Z"
   },
   {
    "duration": 1450,
    "start_time": "2022-12-02T04:15:20.414Z"
   },
   {
    "duration": 126,
    "start_time": "2022-12-02T04:15:21.866Z"
   },
   {
    "duration": 13,
    "start_time": "2022-12-02T04:15:21.994Z"
   },
   {
    "duration": 7,
    "start_time": "2022-12-02T04:15:22.453Z"
   },
   {
    "duration": 11,
    "start_time": "2022-12-02T04:15:23.153Z"
   },
   {
    "duration": 513,
    "start_time": "2022-12-02T04:15:23.746Z"
   },
   {
    "duration": 6,
    "start_time": "2022-12-02T04:15:37.602Z"
   },
   {
    "duration": 5,
    "start_time": "2022-12-02T04:16:01.384Z"
   },
   {
    "duration": 9,
    "start_time": "2022-12-02T04:19:49.740Z"
   },
   {
    "duration": 9,
    "start_time": "2022-12-02T04:20:00.382Z"
   },
   {
    "duration": 3,
    "start_time": "2022-12-02T04:20:31.450Z"
   },
   {
    "duration": 29,
    "start_time": "2022-12-02T04:20:32.076Z"
   },
   {
    "duration": 9,
    "start_time": "2022-12-02T04:20:32.712Z"
   },
   {
    "duration": 6,
    "start_time": "2022-12-02T04:20:33.214Z"
   },
   {
    "duration": 12,
    "start_time": "2022-12-02T04:20:34.105Z"
   },
   {
    "duration": 557,
    "start_time": "2022-12-02T04:20:35.324Z"
   },
   {
    "duration": 4,
    "start_time": "2022-12-02T04:20:41.211Z"
   },
   {
    "duration": 4,
    "start_time": "2022-12-02T04:20:42.384Z"
   },
   {
    "duration": 11,
    "start_time": "2022-12-02T04:20:44.065Z"
   },
   {
    "duration": 10,
    "start_time": "2022-12-02T04:20:56.427Z"
   },
   {
    "duration": 84,
    "start_time": "2022-12-02T04:22:47.130Z"
   },
   {
    "duration": 18,
    "start_time": "2022-12-02T04:26:07.702Z"
   },
   {
    "duration": 307,
    "start_time": "2022-12-02T04:27:26.961Z"
   },
   {
    "duration": 5,
    "start_time": "2022-12-02T04:27:30.556Z"
   },
   {
    "duration": 4,
    "start_time": "2022-12-02T04:27:31.481Z"
   },
   {
    "duration": 6,
    "start_time": "2022-12-02T04:27:39.360Z"
   },
   {
    "duration": 3,
    "start_time": "2022-12-02T04:27:48.731Z"
   },
   {
    "duration": 6,
    "start_time": "2022-12-02T04:27:49.310Z"
   },
   {
    "duration": 43,
    "start_time": "2022-12-02T04:28:50.637Z"
   },
   {
    "duration": 23357,
    "start_time": "2022-12-02T04:29:34.248Z"
   },
   {
    "duration": 4,
    "start_time": "2022-12-02T04:30:12.865Z"
   },
   {
    "duration": 4,
    "start_time": "2022-12-02T04:30:25.559Z"
   },
   {
    "duration": 30,
    "start_time": "2022-12-02T04:31:24.857Z"
   },
   {
    "duration": 3,
    "start_time": "2022-12-02T04:35:40.445Z"
   },
   {
    "duration": 13,
    "start_time": "2022-12-02T04:36:16.110Z"
   },
   {
    "duration": 362,
    "start_time": "2022-12-02T04:37:08.888Z"
   },
   {
    "duration": 32,
    "start_time": "2022-12-02T04:37:11.571Z"
   },
   {
    "duration": 1644,
    "start_time": "2022-12-03T20:57:57.360Z"
   },
   {
    "duration": 143,
    "start_time": "2022-12-03T20:57:59.006Z"
   },
   {
    "duration": 21,
    "start_time": "2022-12-03T20:57:59.152Z"
   },
   {
    "duration": 7,
    "start_time": "2022-12-03T20:58:00.096Z"
   },
   {
    "duration": 12,
    "start_time": "2022-12-03T20:58:02.153Z"
   },
   {
    "duration": 674,
    "start_time": "2022-12-03T20:58:02.167Z"
   },
   {
    "duration": 5,
    "start_time": "2022-12-03T20:59:13.863Z"
   },
   {
    "duration": 5,
    "start_time": "2022-12-03T21:01:23.074Z"
   },
   {
    "duration": 35,
    "start_time": "2022-12-03T21:01:23.724Z"
   },
   {
    "duration": 12,
    "start_time": "2022-12-03T21:01:25.388Z"
   },
   {
    "duration": 11,
    "start_time": "2022-12-03T21:01:26.231Z"
   },
   {
    "duration": 12,
    "start_time": "2022-12-03T21:01:27.047Z"
   },
   {
    "duration": 714,
    "start_time": "2022-12-03T21:01:30.633Z"
   },
   {
    "duration": 5,
    "start_time": "2022-12-03T21:01:34.520Z"
   },
   {
    "duration": 11,
    "start_time": "2022-12-03T21:12:57.363Z"
   },
   {
    "duration": 46,
    "start_time": "2022-12-03T21:12:59.177Z"
   },
   {
    "duration": 13,
    "start_time": "2022-12-03T21:12:59.700Z"
   },
   {
    "duration": 6,
    "start_time": "2022-12-03T21:13:03.706Z"
   },
   {
    "duration": 20,
    "start_time": "2022-12-03T21:13:04.765Z"
   },
   {
    "duration": 705,
    "start_time": "2022-12-03T21:13:05.535Z"
   },
   {
    "duration": 24,
    "start_time": "2022-12-03T21:13:30.833Z"
   },
   {
    "duration": 5,
    "start_time": "2022-12-03T21:18:50.661Z"
   },
   {
    "duration": 29,
    "start_time": "2022-12-03T21:18:51.081Z"
   },
   {
    "duration": 10,
    "start_time": "2022-12-03T21:18:51.396Z"
   },
   {
    "duration": 7,
    "start_time": "2022-12-03T21:18:51.776Z"
   },
   {
    "duration": 12,
    "start_time": "2022-12-03T21:18:52.272Z"
   },
   {
    "duration": 648,
    "start_time": "2022-12-03T21:18:52.680Z"
   },
   {
    "duration": 11,
    "start_time": "2022-12-03T21:18:56.372Z"
   },
   {
    "duration": 15,
    "start_time": "2022-12-03T21:20:25.830Z"
   },
   {
    "duration": 144,
    "start_time": "2022-12-03T21:20:27.536Z"
   },
   {
    "duration": 25,
    "start_time": "2022-12-03T21:20:48.733Z"
   },
   {
    "duration": 18,
    "start_time": "2022-12-03T21:21:14.066Z"
   },
   {
    "duration": 20,
    "start_time": "2022-12-03T21:21:19.961Z"
   },
   {
    "duration": 277,
    "start_time": "2022-12-03T21:27:59.505Z"
   },
   {
    "duration": 11,
    "start_time": "2022-12-03T21:28:04.435Z"
   },
   {
    "duration": 5,
    "start_time": "2022-12-03T21:28:26.812Z"
   },
   {
    "duration": 30956,
    "start_time": "2022-12-03T21:31:05.372Z"
   },
   {
    "duration": 5,
    "start_time": "2022-12-03T21:31:42.280Z"
   },
   {
    "duration": 3,
    "start_time": "2022-12-03T21:32:05.477Z"
   },
   {
    "duration": 31,
    "start_time": "2022-12-03T21:32:07.481Z"
   },
   {
    "duration": 3,
    "start_time": "2022-12-03T21:32:28.480Z"
   },
   {
    "duration": 3,
    "start_time": "2022-12-03T21:32:30.577Z"
   },
   {
    "duration": 142,
    "start_time": "2022-12-03T21:40:29.657Z"
   },
   {
    "duration": 4,
    "start_time": "2022-12-03T21:40:32.815Z"
   },
   {
    "duration": 7510,
    "start_time": "2022-12-03T21:40:48.887Z"
   },
   {
    "duration": 4,
    "start_time": "2022-12-03T21:40:56.399Z"
   },
   {
    "duration": 4,
    "start_time": "2022-12-03T21:41:14.586Z"
   },
   {
    "duration": 8,
    "start_time": "2022-12-03T21:41:24.580Z"
   },
   {
    "duration": 6,
    "start_time": "2022-12-03T21:42:18.001Z"
   },
   {
    "duration": 12,
    "start_time": "2022-12-03T21:50:41.366Z"
   },
   {
    "duration": 1284,
    "start_time": "2022-12-03T21:50:48.030Z"
   },
   {
    "duration": 68893,
    "start_time": "2022-12-03T21:51:07.496Z"
   },
   {
    "duration": 4,
    "start_time": "2022-12-03T21:52:16.392Z"
   },
   {
    "duration": 9,
    "start_time": "2022-12-03T21:52:16.398Z"
   },
   {
    "duration": 32284,
    "start_time": "2022-12-03T21:56:34.006Z"
   },
   {
    "duration": 4,
    "start_time": "2022-12-03T21:57:06.292Z"
   },
   {
    "duration": 19,
    "start_time": "2022-12-03T21:57:06.298Z"
   },
   {
    "duration": 4,
    "start_time": "2022-12-03T22:20:35.967Z"
   },
   {
    "duration": 40,
    "start_time": "2022-12-03T22:20:36.239Z"
   },
   {
    "duration": 11,
    "start_time": "2022-12-03T22:20:36.579Z"
   },
   {
    "duration": 10,
    "start_time": "2022-12-03T22:20:36.866Z"
   },
   {
    "duration": 13,
    "start_time": "2022-12-03T22:20:37.512Z"
   },
   {
    "duration": 635,
    "start_time": "2022-12-03T22:20:38.132Z"
   },
   {
    "duration": 7,
    "start_time": "2022-12-03T22:20:40.457Z"
   },
   {
    "duration": 11,
    "start_time": "2022-12-03T22:20:41.550Z"
   },
   {
    "duration": 296,
    "start_time": "2022-12-03T22:20:50.575Z"
   },
   {
    "duration": 5,
    "start_time": "2022-12-03T22:20:52.168Z"
   },
   {
    "duration": 6,
    "start_time": "2022-12-03T22:20:53.250Z"
   },
   {
    "duration": 2,
    "start_time": "2022-12-03T22:20:57.221Z"
   },
   {
    "duration": 3170,
    "start_time": "2022-12-03T22:21:00.084Z"
   },
   {
    "duration": 6,
    "start_time": "2022-12-03T22:21:03.256Z"
   },
   {
    "duration": 4,
    "start_time": "2022-12-03T22:21:03.373Z"
   },
   {
    "duration": 3,
    "start_time": "2022-12-03T22:21:05.864Z"
   },
   {
    "duration": 57242,
    "start_time": "2022-12-03T22:23:01.003Z"
   },
   {
    "duration": 9,
    "start_time": "2022-12-03T22:23:58.257Z"
   },
   {
    "duration": 14,
    "start_time": "2022-12-03T22:23:58.268Z"
   },
   {
    "duration": 92,
    "start_time": "2022-12-03T22:23:58.285Z"
   },
   {
    "duration": 32,
    "start_time": "2022-12-03T22:27:00.494Z"
   },
   {
    "duration": 40115,
    "start_time": "2022-12-03T22:35:44.963Z"
   },
   {
    "duration": 20,
    "start_time": "2022-12-03T22:36:25.080Z"
   },
   {
    "duration": 424,
    "start_time": "2022-12-03T22:39:18.907Z"
   },
   {
    "duration": 413,
    "start_time": "2022-12-03T22:40:38.516Z"
   },
   {
    "duration": 462,
    "start_time": "2022-12-03T22:41:40.922Z"
   },
   {
    "duration": 6,
    "start_time": "2022-12-03T22:48:36.062Z"
   },
   {
    "duration": 27,
    "start_time": "2022-12-03T22:48:37.102Z"
   },
   {
    "duration": 14,
    "start_time": "2022-12-03T22:48:37.557Z"
   },
   {
    "duration": 6,
    "start_time": "2022-12-03T22:48:37.907Z"
   },
   {
    "duration": 24,
    "start_time": "2022-12-03T22:48:38.631Z"
   },
   {
    "duration": 594,
    "start_time": "2022-12-03T22:48:39.721Z"
   },
   {
    "duration": 6,
    "start_time": "2022-12-03T22:48:53.527Z"
   },
   {
    "duration": 6,
    "start_time": "2022-12-03T22:48:57.462Z"
   },
   {
    "duration": 306,
    "start_time": "2022-12-03T22:49:00.767Z"
   },
   {
    "duration": 5,
    "start_time": "2022-12-03T22:49:07.869Z"
   },
   {
    "duration": 5,
    "start_time": "2022-12-03T22:49:09.009Z"
   },
   {
    "duration": 3282,
    "start_time": "2022-12-03T22:49:14.353Z"
   },
   {
    "duration": 15,
    "start_time": "2022-12-03T22:49:17.638Z"
   },
   {
    "duration": 21,
    "start_time": "2022-12-03T22:49:17.654Z"
   },
   {
    "duration": 394,
    "start_time": "2022-12-03T22:49:44.292Z"
   },
   {
    "duration": 43450,
    "start_time": "2022-12-03T22:52:05.031Z"
   },
   {
    "duration": 4,
    "start_time": "2022-12-03T22:52:48.483Z"
   },
   {
    "duration": 103,
    "start_time": "2022-12-03T22:52:48.489Z"
   },
   {
    "duration": 1948,
    "start_time": "2022-12-03T22:56:53.323Z"
   },
   {
    "duration": 1239,
    "start_time": "2022-12-03T22:57:39.833Z"
   },
   {
    "duration": 206,
    "start_time": "2022-12-03T22:58:24.897Z"
   },
   {
    "duration": 30623,
    "start_time": "2022-12-03T23:02:04.373Z"
   },
   {
    "duration": 4,
    "start_time": "2022-12-03T23:02:34.998Z"
   },
   {
    "duration": 46,
    "start_time": "2022-12-03T23:02:35.003Z"
   },
   {
    "duration": 379610,
    "start_time": "2022-12-03T23:03:32.629Z"
   },
   {
    "duration": 11,
    "start_time": "2022-12-03T23:09:52.240Z"
   },
   {
    "duration": 62,
    "start_time": "2022-12-03T23:09:52.252Z"
   },
   {
    "duration": 67363,
    "start_time": "2022-12-03T23:14:27.976Z"
   },
   {
    "duration": 5,
    "start_time": "2022-12-03T23:15:35.341Z"
   },
   {
    "duration": 58,
    "start_time": "2022-12-03T23:15:35.348Z"
   },
   {
    "duration": 52741,
    "start_time": "2022-12-03T23:16:21.343Z"
   },
   {
    "duration": 4,
    "start_time": "2022-12-03T23:17:14.085Z"
   },
   {
    "duration": 91,
    "start_time": "2022-12-03T23:17:14.090Z"
   },
   {
    "duration": 55475,
    "start_time": "2022-12-03T23:18:07.295Z"
   },
   {
    "duration": 40381,
    "start_time": "2022-12-03T23:19:55.089Z"
   },
   {
    "duration": 3,
    "start_time": "2022-12-03T23:20:35.472Z"
   },
   {
    "duration": 50,
    "start_time": "2022-12-03T23:20:35.476Z"
   },
   {
    "duration": 75717,
    "start_time": "2022-12-03T23:29:48.384Z"
   },
   {
    "duration": 4,
    "start_time": "2022-12-03T23:36:11.950Z"
   },
   {
    "duration": 34,
    "start_time": "2022-12-03T23:36:12.719Z"
   },
   {
    "duration": 14,
    "start_time": "2022-12-03T23:36:13.608Z"
   },
   {
    "duration": 7,
    "start_time": "2022-12-03T23:36:14.077Z"
   },
   {
    "duration": 11,
    "start_time": "2022-12-03T23:36:14.692Z"
   },
   {
    "duration": 551,
    "start_time": "2022-12-03T23:36:15.549Z"
   },
   {
    "duration": 8,
    "start_time": "2022-12-03T23:36:17.080Z"
   },
   {
    "duration": 9,
    "start_time": "2022-12-03T23:36:17.990Z"
   },
   {
    "duration": 294,
    "start_time": "2022-12-03T23:36:21.314Z"
   },
   {
    "duration": 4,
    "start_time": "2022-12-03T23:36:22.300Z"
   },
   {
    "duration": 4,
    "start_time": "2022-12-03T23:36:22.783Z"
   },
   {
    "duration": 2,
    "start_time": "2022-12-03T23:36:23.601Z"
   },
   {
    "duration": 2942,
    "start_time": "2022-12-03T23:36:26.197Z"
   },
   {
    "duration": 5,
    "start_time": "2022-12-03T23:36:29.140Z"
   },
   {
    "duration": 4,
    "start_time": "2022-12-03T23:36:29.424Z"
   },
   {
    "duration": 1215,
    "start_time": "2022-12-03T23:36:37.739Z"
   },
   {
    "duration": 56238664,
    "start_time": "2022-12-03T23:37:33.229Z"
   },
   {
    "duration": 6,
    "start_time": "2022-12-04T15:14:51.895Z"
   },
   {
    "duration": 72,
    "start_time": "2022-12-04T15:14:51.903Z"
   },
   {
    "duration": 1535,
    "start_time": "2022-12-07T15:28:10.038Z"
   },
   {
    "duration": 74,
    "start_time": "2022-12-07T15:28:11.575Z"
   },
   {
    "duration": 13,
    "start_time": "2022-12-07T15:28:11.650Z"
   },
   {
    "duration": 6,
    "start_time": "2022-12-07T15:28:12.399Z"
   },
   {
    "duration": 12,
    "start_time": "2022-12-07T15:28:12.985Z"
   },
   {
    "duration": 572,
    "start_time": "2022-12-07T15:28:13.501Z"
   },
   {
    "duration": 6,
    "start_time": "2022-12-07T15:28:15.180Z"
   },
   {
    "duration": 7,
    "start_time": "2022-12-07T15:28:18.013Z"
   },
   {
    "duration": 310,
    "start_time": "2022-12-07T15:28:21.061Z"
   },
   {
    "duration": 5,
    "start_time": "2022-12-07T15:28:22.306Z"
   },
   {
    "duration": 4,
    "start_time": "2022-12-07T15:28:23.059Z"
   },
   {
    "duration": 2,
    "start_time": "2022-12-07T15:28:24.306Z"
   },
   {
    "duration": 2610,
    "start_time": "2022-12-07T15:28:27.057Z"
   },
   {
    "duration": 3,
    "start_time": "2022-12-07T15:28:29.669Z"
   },
   {
    "duration": 9,
    "start_time": "2022-12-07T15:28:29.673Z"
   },
   {
    "duration": 4,
    "start_time": "2022-12-07T15:28:29.684Z"
   },
   {
    "duration": 60912,
    "start_time": "2022-12-07T15:29:35.620Z"
   },
   {
    "duration": 4,
    "start_time": "2022-12-07T15:32:22.113Z"
   },
   {
    "duration": 4,
    "start_time": "2022-12-07T15:32:24.771Z"
   },
   {
    "duration": 74,
    "start_time": "2022-12-07T15:32:26.274Z"
   },
   {
    "duration": 47701,
    "start_time": "2022-12-07T15:32:44.185Z"
   },
   {
    "duration": 4,
    "start_time": "2022-12-07T15:33:31.888Z"
   },
   {
    "duration": 29,
    "start_time": "2022-12-07T15:33:31.893Z"
   },
   {
    "duration": 105,
    "start_time": "2022-12-07T15:33:31.924Z"
   },
   {
    "duration": 15,
    "start_time": "2022-12-07T15:34:36.992Z"
   },
   {
    "duration": 4,
    "start_time": "2022-12-07T15:35:58.345Z"
   },
   {
    "duration": 78,
    "start_time": "2022-12-07T15:36:14.552Z"
   },
   {
    "duration": 16083,
    "start_time": "2022-12-07T15:54:37.599Z"
   },
   {
    "duration": 4,
    "start_time": "2022-12-07T15:55:00.748Z"
   },
   {
    "duration": 4,
    "start_time": "2022-12-07T15:55:01.268Z"
   },
   {
    "duration": 2,
    "start_time": "2022-12-07T15:55:02.149Z"
   },
   {
    "duration": 17,
    "start_time": "2022-12-07T15:55:10.015Z"
   },
   {
    "duration": 15711,
    "start_time": "2022-12-07T15:58:01.069Z"
   },
   {
    "duration": 5,
    "start_time": "2022-12-07T15:58:23.154Z"
   },
   {
    "duration": 6,
    "start_time": "2022-12-07T15:58:24.922Z"
   },
   {
    "duration": 19,
    "start_time": "2022-12-07T15:58:25.762Z"
   },
   {
    "duration": 65922,
    "start_time": "2022-12-07T15:59:19.272Z"
   },
   {
    "duration": 5,
    "start_time": "2022-12-07T16:01:14.156Z"
   },
   {
    "duration": 4,
    "start_time": "2022-12-07T16:01:15.051Z"
   },
   {
    "duration": 48,
    "start_time": "2022-12-07T16:01:16.245Z"
   },
   {
    "duration": 17502,
    "start_time": "2022-12-07T16:01:22.557Z"
   },
   {
    "duration": 10292,
    "start_time": "2022-12-07T16:02:11.948Z"
   },
   {
    "duration": 5,
    "start_time": "2022-12-07T16:02:32.683Z"
   },
   {
    "duration": 4,
    "start_time": "2022-12-07T16:02:33.837Z"
   },
   {
    "duration": 15,
    "start_time": "2022-12-07T16:02:34.546Z"
   },
   {
    "duration": 88413,
    "start_time": "2022-12-07T16:02:43.545Z"
   },
   {
    "duration": 5,
    "start_time": "2022-12-07T16:04:11.960Z"
   },
   {
    "duration": 18,
    "start_time": "2022-12-07T16:04:11.967Z"
   },
   {
    "duration": 48,
    "start_time": "2022-12-07T16:04:11.987Z"
   },
   {
    "duration": 6976497,
    "start_time": "2022-12-07T16:26:58.661Z"
   },
   {
    "duration": 3,
    "start_time": "2022-12-07T18:23:15.160Z"
   },
   {
    "duration": 17,
    "start_time": "2022-12-07T18:23:15.165Z"
   },
   {
    "duration": 41,
    "start_time": "2022-12-07T18:23:15.184Z"
   },
   {
    "duration": 3141799,
    "start_time": "2022-12-07T19:01:55.567Z"
   },
   {
    "duration": 4,
    "start_time": "2022-12-07T19:54:17.368Z"
   },
   {
    "duration": 23,
    "start_time": "2022-12-07T19:54:17.380Z"
   },
   {
    "duration": 68,
    "start_time": "2022-12-07T19:54:17.404Z"
   },
   {
    "duration": 114597,
    "start_time": "2022-12-07T19:57:07.713Z"
   },
   {
    "duration": 4,
    "start_time": "2022-12-07T19:59:02.312Z"
   },
   {
    "duration": 9,
    "start_time": "2022-12-07T19:59:02.318Z"
   },
   {
    "duration": 72,
    "start_time": "2022-12-07T19:59:02.329Z"
   },
   {
    "duration": 140,
    "start_time": "2022-12-07T20:23:34.797Z"
   },
   {
    "duration": 20403,
    "start_time": "2022-12-07T20:24:30.321Z"
   },
   {
    "duration": 60907,
    "start_time": "2022-12-07T20:24:59.907Z"
   },
   {
    "duration": 0,
    "start_time": "2022-12-07T20:26:00.815Z"
   },
   {
    "duration": 0,
    "start_time": "2022-12-07T20:26:00.816Z"
   },
   {
    "duration": 0,
    "start_time": "2022-12-07T20:26:00.817Z"
   },
   {
    "duration": 607956,
    "start_time": "2022-12-07T20:26:08.400Z"
   },
   {
    "duration": 4,
    "start_time": "2022-12-07T20:36:16.357Z"
   },
   {
    "duration": 16,
    "start_time": "2022-12-07T20:36:16.362Z"
   },
   {
    "duration": 50,
    "start_time": "2022-12-07T20:36:16.380Z"
   },
   {
    "duration": 1666934,
    "start_time": "2022-12-07T20:37:29.589Z"
   },
   {
    "duration": 4,
    "start_time": "2022-12-07T21:05:16.525Z"
   },
   {
    "duration": 71,
    "start_time": "2022-12-07T21:05:16.531Z"
   },
   {
    "duration": 3391092,
    "start_time": "2022-12-07T21:13:47.488Z"
   },
   {
    "duration": 3,
    "start_time": "2022-12-07T22:10:18.582Z"
   },
   {
    "duration": 15,
    "start_time": "2022-12-07T22:10:18.587Z"
   },
   {
    "duration": 55,
    "start_time": "2022-12-07T22:10:18.605Z"
   },
   {
    "duration": 2828,
    "start_time": "2022-12-07T22:13:04.344Z"
   },
   {
    "duration": 2106,
    "start_time": "2022-12-07T22:13:18.262Z"
   },
   {
    "duration": 2228,
    "start_time": "2022-12-07T22:13:27.940Z"
   },
   {
    "duration": 2092,
    "start_time": "2022-12-07T22:13:55.398Z"
   },
   {
    "duration": 2644,
    "start_time": "2022-12-07T22:14:11.313Z"
   },
   {
    "duration": 1792,
    "start_time": "2022-12-07T22:14:25.774Z"
   },
   {
    "duration": 4057,
    "start_time": "2022-12-07T22:14:32.684Z"
   },
   {
    "duration": 2997,
    "start_time": "2022-12-07T22:14:55.270Z"
   },
   {
    "duration": 1652,
    "start_time": "2022-12-08T16:23:33.724Z"
   },
   {
    "duration": 139,
    "start_time": "2022-12-08T16:23:35.378Z"
   },
   {
    "duration": 16,
    "start_time": "2022-12-08T16:23:35.519Z"
   },
   {
    "duration": 8,
    "start_time": "2022-12-08T16:23:36.252Z"
   },
   {
    "duration": 13,
    "start_time": "2022-12-08T16:23:37.018Z"
   },
   {
    "duration": 623,
    "start_time": "2022-12-08T16:23:37.696Z"
   },
   {
    "duration": 8,
    "start_time": "2022-12-08T16:23:44.763Z"
   },
   {
    "duration": 6,
    "start_time": "2022-12-08T16:24:42.249Z"
   },
   {
    "duration": 296,
    "start_time": "2022-12-08T16:24:45.975Z"
   },
   {
    "duration": 7,
    "start_time": "2022-12-08T16:24:46.390Z"
   },
   {
    "duration": 4,
    "start_time": "2022-12-08T16:24:46.837Z"
   },
   {
    "duration": 2,
    "start_time": "2022-12-08T16:24:48.689Z"
   },
   {
    "duration": 130593,
    "start_time": "2022-12-08T16:24:50.152Z"
   },
   {
    "duration": 4,
    "start_time": "2022-12-08T16:27:00.747Z"
   },
   {
    "duration": 9,
    "start_time": "2022-12-08T16:27:00.753Z"
   },
   {
    "duration": 84,
    "start_time": "2022-12-08T16:27:00.764Z"
   },
   {
    "duration": 884,
    "start_time": "2022-12-08T16:27:00.850Z"
   },
   {
    "duration": 1091,
    "start_time": "2022-12-08T16:28:35.120Z"
   },
   {
    "duration": 1091,
    "start_time": "2022-12-08T16:29:36.122Z"
   },
   {
    "duration": 1052,
    "start_time": "2022-12-08T16:29:48.493Z"
   },
   {
    "duration": 69244,
    "start_time": "2022-12-08T16:29:49.547Z"
   },
   {
    "duration": 1069,
    "start_time": "2022-12-08T16:30:58.792Z"
   },
   {
    "duration": 1064,
    "start_time": "2022-12-08T16:43:51.703Z"
   },
   {
    "duration": 1033,
    "start_time": "2022-12-08T16:52:36.615Z"
   },
   {
    "duration": 1115,
    "start_time": "2022-12-08T16:53:12.336Z"
   },
   {
    "duration": 1053,
    "start_time": "2022-12-08T16:54:19.437Z"
   },
   {
    "duration": 1071,
    "start_time": "2022-12-08T16:54:27.835Z"
   },
   {
    "duration": 1031,
    "start_time": "2022-12-08T16:54:32.478Z"
   },
   {
    "duration": 127,
    "start_time": "2022-12-08T16:55:15.898Z"
   },
   {
    "duration": 67,
    "start_time": "2022-12-08T16:55:32.741Z"
   },
   {
    "duration": 8,
    "start_time": "2022-12-08T16:55:33.475Z"
   },
   {
    "duration": 6,
    "start_time": "2022-12-08T16:55:33.923Z"
   },
   {
    "duration": 5,
    "start_time": "2022-12-08T16:55:34.710Z"
   },
   {
    "duration": 6,
    "start_time": "2022-12-08T16:55:44.930Z"
   },
   {
    "duration": 285,
    "start_time": "2022-12-08T16:55:48.606Z"
   },
   {
    "duration": 2,
    "start_time": "2022-12-08T16:58:09.734Z"
   },
   {
    "duration": 1135,
    "start_time": "2022-12-08T16:59:08.127Z"
   },
   {
    "duration": 5,
    "start_time": "2022-12-08T16:59:59.000Z"
   },
   {
    "duration": 3,
    "start_time": "2022-12-08T17:00:06.463Z"
   },
   {
    "duration": 5,
    "start_time": "2022-12-08T17:00:10.209Z"
   },
   {
    "duration": 260,
    "start_time": "2022-12-08T17:00:10.805Z"
   },
   {
    "duration": 8,
    "start_time": "2022-12-08T17:02:52.833Z"
   },
   {
    "duration": 56,
    "start_time": "2022-12-08T17:02:53.792Z"
   },
   {
    "duration": 4,
    "start_time": "2022-12-08T17:02:54.502Z"
   },
   {
    "duration": 4,
    "start_time": "2022-12-08T17:04:35.789Z"
   },
   {
    "duration": 266,
    "start_time": "2022-12-08T17:04:42.939Z"
   },
   {
    "duration": 1204,
    "start_time": "2022-12-09T04:14:50.453Z"
   },
   {
    "duration": 73,
    "start_time": "2022-12-09T04:14:51.659Z"
   },
   {
    "duration": 14,
    "start_time": "2022-12-09T04:14:51.734Z"
   },
   {
    "duration": 6,
    "start_time": "2022-12-09T04:14:51.750Z"
   },
   {
    "duration": 13,
    "start_time": "2022-12-09T04:14:51.758Z"
   },
   {
    "duration": 581,
    "start_time": "2022-12-09T04:14:51.772Z"
   },
   {
    "duration": 6,
    "start_time": "2022-12-09T04:14:52.354Z"
   },
   {
    "duration": 8,
    "start_time": "2022-12-09T04:14:52.362Z"
   },
   {
    "duration": 322,
    "start_time": "2022-12-09T04:14:52.371Z"
   },
   {
    "duration": 5,
    "start_time": "2022-12-09T04:14:52.695Z"
   },
   {
    "duration": 7,
    "start_time": "2022-12-09T04:14:52.702Z"
   },
   {
    "duration": 135654,
    "start_time": "2022-12-09T04:14:52.710Z"
   },
   {
    "duration": 4,
    "start_time": "2022-12-09T04:17:08.366Z"
   },
   {
    "duration": 7,
    "start_time": "2022-12-09T04:17:08.372Z"
   },
   {
    "duration": 77,
    "start_time": "2022-12-09T04:17:08.381Z"
   },
   {
    "duration": 14183,
    "start_time": "2022-12-09T04:17:08.460Z"
   },
   {
    "duration": 5,
    "start_time": "2022-12-09T04:17:22.645Z"
   },
   {
    "duration": 7,
    "start_time": "2022-12-09T04:17:22.652Z"
   },
   {
    "duration": 1142,
    "start_time": "2022-12-09T04:17:22.661Z"
   },
   {
    "duration": 50,
    "start_time": "2022-12-09T04:17:23.805Z"
   },
   {
    "duration": 7,
    "start_time": "2022-12-09T04:17:23.857Z"
   },
   {
    "duration": 17,
    "start_time": "2022-12-09T04:17:23.865Z"
   },
   {
    "duration": 8,
    "start_time": "2022-12-09T04:17:23.884Z"
   },
   {
    "duration": 277,
    "start_time": "2022-12-09T04:17:23.894Z"
   },
   {
    "duration": 8,
    "start_time": "2022-12-09T04:17:24.173Z"
   },
   {
    "duration": 85,
    "start_time": "2022-12-09T04:17:24.183Z"
   },
   {
    "duration": 6,
    "start_time": "2022-12-09T04:17:24.270Z"
   },
   {
    "duration": 14,
    "start_time": "2022-12-09T04:17:24.279Z"
   },
   {
    "duration": 285,
    "start_time": "2022-12-09T04:17:24.295Z"
   },
   {
    "duration": 1847,
    "start_time": "2022-12-09T15:28:54.915Z"
   },
   {
    "duration": 65,
    "start_time": "2022-12-09T15:28:56.764Z"
   },
   {
    "duration": 14,
    "start_time": "2022-12-09T15:28:56.831Z"
   },
   {
    "duration": 7,
    "start_time": "2022-12-09T15:28:56.848Z"
   },
   {
    "duration": 25,
    "start_time": "2022-12-09T15:28:56.857Z"
   },
   {
    "duration": 553,
    "start_time": "2022-12-09T15:28:56.884Z"
   },
   {
    "duration": 6,
    "start_time": "2022-12-09T15:28:57.438Z"
   },
   {
    "duration": 12,
    "start_time": "2022-12-09T15:28:57.446Z"
   },
   {
    "duration": 339,
    "start_time": "2022-12-09T15:28:57.460Z"
   },
   {
    "duration": 173,
    "start_time": "2022-12-09T15:28:57.801Z"
   },
   {
    "duration": 54,
    "start_time": "2022-12-09T15:28:57.976Z"
   },
   {
    "duration": 135379,
    "start_time": "2022-12-09T15:28:58.032Z"
   },
   {
    "duration": 5,
    "start_time": "2022-12-09T15:31:13.413Z"
   },
   {
    "duration": 9,
    "start_time": "2022-12-09T15:31:13.419Z"
   },
   {
    "duration": 72,
    "start_time": "2022-12-09T15:31:13.429Z"
   },
   {
    "duration": 13835,
    "start_time": "2022-12-09T15:31:13.502Z"
   },
   {
    "duration": 8,
    "start_time": "2022-12-09T15:31:27.344Z"
   },
   {
    "duration": 16,
    "start_time": "2022-12-09T15:31:27.354Z"
   },
   {
    "duration": 1315,
    "start_time": "2022-12-09T15:31:27.372Z"
   },
   {
    "duration": 48,
    "start_time": "2022-12-09T15:31:28.689Z"
   },
   {
    "duration": 11,
    "start_time": "2022-12-09T15:31:28.739Z"
   },
   {
    "duration": 12,
    "start_time": "2022-12-09T15:31:28.752Z"
   },
   {
    "duration": 5,
    "start_time": "2022-12-09T15:31:28.766Z"
   },
   {
    "duration": 294,
    "start_time": "2022-12-09T15:31:28.773Z"
   },
   {
    "duration": 7,
    "start_time": "2022-12-09T15:31:29.069Z"
   },
   {
    "duration": 81,
    "start_time": "2022-12-09T15:31:29.078Z"
   },
   {
    "duration": 6,
    "start_time": "2022-12-09T15:31:29.161Z"
   },
   {
    "duration": 5,
    "start_time": "2022-12-09T15:31:29.170Z"
   },
   {
    "duration": 327,
    "start_time": "2022-12-09T15:31:29.176Z"
   },
   {
    "duration": 1723,
    "start_time": "2022-12-09T19:03:17.385Z"
   },
   {
    "duration": 95,
    "start_time": "2022-12-09T19:03:19.758Z"
   },
   {
    "duration": 15,
    "start_time": "2022-12-09T19:03:20.130Z"
   },
   {
    "duration": 9,
    "start_time": "2022-12-09T19:03:20.612Z"
   },
   {
    "duration": 20,
    "start_time": "2022-12-09T19:03:22.608Z"
   },
   {
    "duration": 28,
    "start_time": "2022-12-09T19:03:33.132Z"
   },
   {
    "duration": 890,
    "start_time": "2022-12-09T19:03:49.437Z"
   },
   {
    "duration": 7,
    "start_time": "2022-12-09T19:04:47.559Z"
   },
   {
    "duration": 7,
    "start_time": "2022-12-09T19:04:48.540Z"
   },
   {
    "duration": 5,
    "start_time": "2022-12-09T19:05:16.686Z"
   },
   {
    "duration": 5,
    "start_time": "2022-12-09T19:05:29.002Z"
   },
   {
    "duration": 4,
    "start_time": "2022-12-09T19:05:39.501Z"
   },
   {
    "duration": 378,
    "start_time": "2022-12-09T19:06:02.705Z"
   },
   {
    "duration": 5,
    "start_time": "2022-12-09T19:06:12.684Z"
   },
   {
    "duration": 4,
    "start_time": "2022-12-09T19:06:13.805Z"
   },
   {
    "duration": 136830,
    "start_time": "2022-12-09T19:06:30.934Z"
   },
   {
    "duration": 5,
    "start_time": "2022-12-09T19:08:47.766Z"
   },
   {
    "duration": 10,
    "start_time": "2022-12-09T19:08:47.773Z"
   },
   {
    "duration": 85,
    "start_time": "2022-12-09T19:08:47.784Z"
   },
   {
    "duration": 22869,
    "start_time": "2022-12-09T19:09:19.834Z"
   },
   {
    "duration": 5,
    "start_time": "2022-12-09T19:09:42.705Z"
   },
   {
    "duration": 21,
    "start_time": "2022-12-09T19:09:42.712Z"
   },
   {
    "duration": 17149,
    "start_time": "2022-12-09T19:17:23.682Z"
   },
   {
    "duration": 3,
    "start_time": "2022-12-09T19:17:40.833Z"
   },
   {
    "duration": 13,
    "start_time": "2022-12-09T19:17:40.838Z"
   },
   {
    "duration": 1123,
    "start_time": "2022-12-09T19:17:40.853Z"
   },
   {
    "duration": 802,
    "start_time": "2022-12-09T19:17:50.896Z"
   },
   {
    "duration": 172,
    "start_time": "2022-12-09T19:20:36.952Z"
   },
   {
    "duration": 185,
    "start_time": "2022-12-09T19:21:16.097Z"
   },
   {
    "duration": 177,
    "start_time": "2022-12-09T19:21:31.241Z"
   },
   {
    "duration": 65,
    "start_time": "2022-12-09T19:21:38.839Z"
   },
   {
    "duration": 7,
    "start_time": "2022-12-09T19:21:39.432Z"
   },
   {
    "duration": 8,
    "start_time": "2022-12-09T19:21:39.834Z"
   },
   {
    "duration": 4,
    "start_time": "2022-12-09T19:22:36.686Z"
   },
   {
    "duration": 284,
    "start_time": "2022-12-09T19:22:38.480Z"
   },
   {
    "duration": 8,
    "start_time": "2022-12-09T19:23:25.679Z"
   },
   {
    "duration": 17,
    "start_time": "2022-12-09T19:23:26.863Z"
   },
   {
    "duration": 5,
    "start_time": "2022-12-09T19:23:28.010Z"
   },
   {
    "duration": 4,
    "start_time": "2022-12-09T19:23:28.414Z"
   },
   {
    "duration": 299,
    "start_time": "2022-12-09T19:23:33.327Z"
   },
   {
    "duration": 6,
    "start_time": "2022-12-09T19:26:21.118Z"
   },
   {
    "duration": 1348,
    "start_time": "2022-12-09T19:28:08.126Z"
   },
   {
    "duration": 211,
    "start_time": "2022-12-09T19:28:30.293Z"
   },
   {
    "duration": 1354,
    "start_time": "2022-12-09T19:33:57.622Z"
   },
   {
    "duration": 1491,
    "start_time": "2022-12-09T19:34:08.871Z"
   },
   {
    "duration": 383,
    "start_time": "2022-12-09T19:36:13.219Z"
   },
   {
    "duration": 343,
    "start_time": "2022-12-09T19:36:26.599Z"
   },
   {
    "duration": 1772,
    "start_time": "2022-12-11T19:42:09.282Z"
   },
   {
    "duration": 72,
    "start_time": "2022-12-11T19:42:11.056Z"
   },
   {
    "duration": 16,
    "start_time": "2022-12-11T19:42:11.130Z"
   },
   {
    "duration": 20,
    "start_time": "2022-12-11T19:42:11.148Z"
   },
   {
    "duration": 22,
    "start_time": "2022-12-11T19:42:11.170Z"
   },
   {
    "duration": 39,
    "start_time": "2022-12-11T19:42:11.194Z"
   },
   {
    "duration": 732,
    "start_time": "2022-12-11T19:42:12.110Z"
   },
   {
    "duration": 7,
    "start_time": "2022-12-11T19:42:14.469Z"
   },
   {
    "duration": 7,
    "start_time": "2022-12-11T19:42:17.554Z"
   },
   {
    "duration": 4,
    "start_time": "2022-12-11T19:42:18.434Z"
   },
   {
    "duration": 4,
    "start_time": "2022-12-11T19:42:18.825Z"
   },
   {
    "duration": 4,
    "start_time": "2022-12-11T19:42:19.309Z"
   },
   {
    "duration": 398,
    "start_time": "2022-12-11T19:42:23.236Z"
   },
   {
    "duration": 6,
    "start_time": "2022-12-11T19:42:23.943Z"
   },
   {
    "duration": 5,
    "start_time": "2022-12-11T19:42:24.387Z"
   },
   {
    "duration": 22315,
    "start_time": "2022-12-11T19:42:26.037Z"
   },
   {
    "duration": 5,
    "start_time": "2022-12-11T19:42:48.354Z"
   },
   {
    "duration": 10,
    "start_time": "2022-12-11T19:42:48.361Z"
   },
   {
    "duration": 11817,
    "start_time": "2022-12-11T19:42:48.374Z"
   },
   {
    "duration": 5,
    "start_time": "2022-12-11T19:43:00.193Z"
   },
   {
    "duration": 30,
    "start_time": "2022-12-11T19:43:00.200Z"
   },
   {
    "duration": 1115,
    "start_time": "2022-12-11T19:43:00.232Z"
   },
   {
    "duration": 851,
    "start_time": "2022-12-11T19:43:01.349Z"
   },
   {
    "duration": 200,
    "start_time": "2022-12-11T19:43:02.202Z"
   },
   {
    "duration": 69,
    "start_time": "2022-12-11T19:43:02.404Z"
   },
   {
    "duration": 7,
    "start_time": "2022-12-11T19:43:02.475Z"
   },
   {
    "duration": 11,
    "start_time": "2022-12-11T19:43:02.483Z"
   },
   {
    "duration": 4,
    "start_time": "2022-12-11T19:43:02.495Z"
   },
   {
    "duration": 359,
    "start_time": "2022-12-11T19:43:02.501Z"
   },
   {
    "duration": 8,
    "start_time": "2022-12-11T19:43:02.862Z"
   },
   {
    "duration": 22,
    "start_time": "2022-12-11T19:43:02.872Z"
   },
   {
    "duration": 6,
    "start_time": "2022-12-11T19:43:02.896Z"
   },
   {
    "duration": 5,
    "start_time": "2022-12-11T19:43:02.904Z"
   },
   {
    "duration": 321,
    "start_time": "2022-12-11T19:43:02.911Z"
   },
   {
    "duration": 5,
    "start_time": "2022-12-11T19:43:09.489Z"
   },
   {
    "duration": 1353,
    "start_time": "2022-12-11T19:43:10.234Z"
   },
   {
    "duration": 342,
    "start_time": "2022-12-11T19:43:11.588Z"
   },
   {
    "duration": 4,
    "start_time": "2022-12-11T19:45:28.973Z"
   },
   {
    "duration": 11,
    "start_time": "2022-12-11T19:45:41.838Z"
   },
   {
    "duration": 10,
    "start_time": "2022-12-11T19:46:49.507Z"
   },
   {
    "duration": 71,
    "start_time": "2022-12-11T19:46:58.083Z"
   },
   {
    "duration": 9,
    "start_time": "2022-12-11T19:49:24.263Z"
   },
   {
    "duration": 5,
    "start_time": "2022-12-11T19:49:42.684Z"
   },
   {
    "duration": 6,
    "start_time": "2022-12-11T19:51:41.541Z"
   },
   {
    "duration": 64,
    "start_time": "2022-12-11T19:53:27.203Z"
   },
   {
    "duration": 6,
    "start_time": "2022-12-11T19:53:54.563Z"
   },
   {
    "duration": 25,
    "start_time": "2022-12-11T19:55:54.225Z"
   },
   {
    "duration": 7,
    "start_time": "2022-12-11T19:56:32.530Z"
   },
   {
    "duration": 6,
    "start_time": "2022-12-11T19:56:58.888Z"
   },
   {
    "duration": 74,
    "start_time": "2022-12-11T19:56:59.752Z"
   },
   {
    "duration": 25,
    "start_time": "2022-12-11T19:57:00.488Z"
   },
   {
    "duration": 192,
    "start_time": "2022-12-11T20:04:37.106Z"
   },
   {
    "duration": 207,
    "start_time": "2022-12-11T20:04:44.898Z"
   },
   {
    "duration": 224,
    "start_time": "2022-12-11T20:04:50.094Z"
   },
   {
    "duration": 201,
    "start_time": "2022-12-11T20:04:53.064Z"
   },
   {
    "duration": 287,
    "start_time": "2022-12-11T20:06:54.470Z"
   },
   {
    "duration": 69,
    "start_time": "2022-12-11T20:07:07.673Z"
   },
   {
    "duration": 202,
    "start_time": "2022-12-11T20:07:16.910Z"
   },
   {
    "duration": 197,
    "start_time": "2022-12-11T20:07:37.819Z"
   },
   {
    "duration": 200,
    "start_time": "2022-12-11T20:08:01.473Z"
   },
   {
    "duration": 208,
    "start_time": "2022-12-11T20:08:17.987Z"
   },
   {
    "duration": 1498,
    "start_time": "2022-12-11T20:24:22.128Z"
   },
   {
    "duration": 30,
    "start_time": "2022-12-11T20:24:23.628Z"
   },
   {
    "duration": 15,
    "start_time": "2022-12-11T20:24:23.660Z"
   },
   {
    "duration": 6,
    "start_time": "2022-12-11T20:24:23.677Z"
   },
   {
    "duration": 18,
    "start_time": "2022-12-11T20:24:23.685Z"
   },
   {
    "duration": 47,
    "start_time": "2022-12-11T20:24:23.705Z"
   },
   {
    "duration": 768,
    "start_time": "2022-12-11T20:24:23.753Z"
   },
   {
    "duration": 298,
    "start_time": "2022-12-11T20:24:24.523Z"
   },
   {
    "duration": 8,
    "start_time": "2022-12-11T20:24:24.824Z"
   },
   {
    "duration": 7,
    "start_time": "2022-12-11T20:24:24.851Z"
   },
   {
    "duration": 17,
    "start_time": "2022-12-11T20:24:24.860Z"
   },
   {
    "duration": 6,
    "start_time": "2022-12-11T20:24:24.879Z"
   },
   {
    "duration": 7,
    "start_time": "2022-12-11T20:24:24.886Z"
   },
   {
    "duration": 313,
    "start_time": "2022-12-11T20:24:24.895Z"
   },
   {
    "duration": 5,
    "start_time": "2022-12-11T20:24:25.210Z"
   },
   {
    "duration": 5,
    "start_time": "2022-12-11T20:24:25.216Z"
   },
   {
    "duration": 22045,
    "start_time": "2022-12-11T20:24:25.223Z"
   },
   {
    "duration": 5,
    "start_time": "2022-12-11T20:24:47.269Z"
   },
   {
    "duration": 10,
    "start_time": "2022-12-11T20:24:47.275Z"
   },
   {
    "duration": 12774,
    "start_time": "2022-12-11T20:24:47.286Z"
   },
   {
    "duration": 4,
    "start_time": "2022-12-11T20:25:00.062Z"
   },
   {
    "duration": 24,
    "start_time": "2022-12-11T20:25:00.067Z"
   },
   {
    "duration": 1116,
    "start_time": "2022-12-11T20:25:00.092Z"
   },
   {
    "duration": 523,
    "start_time": "2022-12-11T20:25:01.210Z"
   },
   {
    "duration": 185,
    "start_time": "2022-12-11T20:25:01.735Z"
   },
   {
    "duration": 72,
    "start_time": "2022-12-11T20:25:01.922Z"
   },
   {
    "duration": 6,
    "start_time": "2022-12-11T20:25:01.996Z"
   },
   {
    "duration": 28,
    "start_time": "2022-12-11T20:25:02.005Z"
   },
   {
    "duration": 15,
    "start_time": "2022-12-11T20:25:02.035Z"
   },
   {
    "duration": 265,
    "start_time": "2022-12-11T20:25:02.052Z"
   },
   {
    "duration": 7,
    "start_time": "2022-12-11T20:25:02.319Z"
   },
   {
    "duration": 35,
    "start_time": "2022-12-11T20:25:02.328Z"
   },
   {
    "duration": 6,
    "start_time": "2022-12-11T20:25:02.365Z"
   },
   {
    "duration": 12,
    "start_time": "2022-12-11T20:25:02.372Z"
   },
   {
    "duration": 267,
    "start_time": "2022-12-11T20:25:02.386Z"
   },
   {
    "duration": 5,
    "start_time": "2022-12-11T20:25:02.655Z"
   },
   {
    "duration": 1336,
    "start_time": "2022-12-11T20:25:02.662Z"
   },
   {
    "duration": 356,
    "start_time": "2022-12-11T20:25:04.000Z"
   },
   {
    "duration": 5,
    "start_time": "2022-12-11T20:25:04.358Z"
   },
   {
    "duration": 60,
    "start_time": "2022-12-11T20:25:04.364Z"
   },
   {
    "duration": 45,
    "start_time": "2022-12-11T20:25:04.426Z"
   },
   {
    "duration": 1538,
    "start_time": "2022-12-12T03:58:58.780Z"
   },
   {
    "duration": 134,
    "start_time": "2022-12-12T03:59:00.319Z"
   },
   {
    "duration": 12,
    "start_time": "2022-12-12T03:59:00.455Z"
   },
   {
    "duration": 33,
    "start_time": "2022-12-12T03:59:00.469Z"
   },
   {
    "duration": 50,
    "start_time": "2022-12-12T03:59:00.504Z"
   },
   {
    "duration": 37,
    "start_time": "2022-12-12T03:59:00.556Z"
   },
   {
    "duration": 661,
    "start_time": "2022-12-12T03:59:00.594Z"
   },
   {
    "duration": 274,
    "start_time": "2022-12-12T03:59:01.257Z"
   },
   {
    "duration": 7,
    "start_time": "2022-12-12T03:59:01.533Z"
   },
   {
    "duration": 28,
    "start_time": "2022-12-12T03:59:01.544Z"
   },
   {
    "duration": 42,
    "start_time": "2022-12-12T03:59:01.574Z"
   },
   {
    "duration": 31,
    "start_time": "2022-12-12T03:59:01.618Z"
   },
   {
    "duration": 42,
    "start_time": "2022-12-12T03:59:01.651Z"
   },
   {
    "duration": 290,
    "start_time": "2022-12-12T03:59:01.695Z"
   },
   {
    "duration": 11,
    "start_time": "2022-12-12T03:59:01.986Z"
   },
   {
    "duration": 12,
    "start_time": "2022-12-12T03:59:01.999Z"
   },
   {
    "duration": 18936,
    "start_time": "2022-12-12T03:59:02.013Z"
   },
   {
    "duration": 4,
    "start_time": "2022-12-12T03:59:20.950Z"
   },
   {
    "duration": 5,
    "start_time": "2022-12-12T03:59:20.956Z"
   },
   {
    "duration": 17164,
    "start_time": "2022-12-12T03:59:20.962Z"
   },
   {
    "duration": 4,
    "start_time": "2022-12-12T03:59:38.127Z"
   },
   {
    "duration": 8,
    "start_time": "2022-12-12T03:59:38.133Z"
   },
   {
    "duration": 913,
    "start_time": "2022-12-12T03:59:38.142Z"
   },
   {
    "duration": 818,
    "start_time": "2022-12-12T03:59:39.057Z"
   },
   {
    "duration": 166,
    "start_time": "2022-12-12T03:59:39.876Z"
   },
   {
    "duration": 68,
    "start_time": "2022-12-12T03:59:40.044Z"
   },
   {
    "duration": 6,
    "start_time": "2022-12-12T03:59:40.113Z"
   },
   {
    "duration": 13,
    "start_time": "2022-12-12T03:59:40.122Z"
   },
   {
    "duration": 7,
    "start_time": "2022-12-12T03:59:40.137Z"
   },
   {
    "duration": 220,
    "start_time": "2022-12-12T03:59:40.145Z"
   },
   {
    "duration": 34,
    "start_time": "2022-12-12T03:59:40.367Z"
   },
   {
    "duration": 18,
    "start_time": "2022-12-12T03:59:40.403Z"
   },
   {
    "duration": 5,
    "start_time": "2022-12-12T03:59:40.422Z"
   },
   {
    "duration": 5,
    "start_time": "2022-12-12T03:59:40.429Z"
   },
   {
    "duration": 226,
    "start_time": "2022-12-12T03:59:40.435Z"
   },
   {
    "duration": 4,
    "start_time": "2022-12-12T03:59:40.663Z"
   },
   {
    "duration": 1097,
    "start_time": "2022-12-12T03:59:40.668Z"
   },
   {
    "duration": 292,
    "start_time": "2022-12-12T03:59:41.766Z"
   },
   {
    "duration": 5,
    "start_time": "2022-12-12T03:59:42.059Z"
   },
   {
    "duration": 66,
    "start_time": "2022-12-12T03:59:42.065Z"
   },
   {
    "duration": 20,
    "start_time": "2022-12-12T03:59:42.133Z"
   },
   {
    "duration": 1873,
    "start_time": "2022-12-12T16:07:51.819Z"
   },
   {
    "duration": 76,
    "start_time": "2022-12-12T16:07:53.695Z"
   },
   {
    "duration": 19,
    "start_time": "2022-12-12T16:07:53.773Z"
   },
   {
    "duration": 7,
    "start_time": "2022-12-12T16:07:53.795Z"
   },
   {
    "duration": 15,
    "start_time": "2022-12-12T16:07:53.804Z"
   },
   {
    "duration": 44,
    "start_time": "2022-12-12T16:07:53.821Z"
   },
   {
    "duration": 912,
    "start_time": "2022-12-12T16:07:53.866Z"
   },
   {
    "duration": 592,
    "start_time": "2022-12-12T16:07:54.779Z"
   },
   {
    "duration": 8,
    "start_time": "2022-12-12T16:07:55.373Z"
   },
   {
    "duration": 7,
    "start_time": "2022-12-12T16:07:55.384Z"
   },
   {
    "duration": 62,
    "start_time": "2022-12-12T16:07:55.393Z"
   },
   {
    "duration": 10,
    "start_time": "2022-12-12T16:07:55.457Z"
   },
   {
    "duration": 7,
    "start_time": "2022-12-12T16:07:55.469Z"
   },
   {
    "duration": 9,
    "start_time": "2022-12-12T16:07:55.478Z"
   },
   {
    "duration": 672,
    "start_time": "2022-12-12T16:07:55.489Z"
   },
   {
    "duration": 7,
    "start_time": "2022-12-12T16:07:56.164Z"
   },
   {
    "duration": 10,
    "start_time": "2022-12-12T16:07:56.173Z"
   },
   {
    "duration": 22149,
    "start_time": "2022-12-12T16:07:56.184Z"
   },
   {
    "duration": 4,
    "start_time": "2022-12-12T16:08:18.335Z"
   },
   {
    "duration": 4,
    "start_time": "2022-12-12T16:08:18.350Z"
   },
   {
    "duration": 14023,
    "start_time": "2022-12-12T16:08:18.356Z"
   },
   {
    "duration": 4,
    "start_time": "2022-12-12T16:08:32.381Z"
   },
   {
    "duration": 25,
    "start_time": "2022-12-12T16:08:32.387Z"
   },
   {
    "duration": 1105,
    "start_time": "2022-12-12T16:08:32.414Z"
   },
   {
    "duration": 1135,
    "start_time": "2022-12-12T16:08:33.521Z"
   },
   {
    "duration": 179,
    "start_time": "2022-12-12T16:08:34.658Z"
   },
   {
    "duration": 72,
    "start_time": "2022-12-12T16:08:34.839Z"
   },
   {
    "duration": 7,
    "start_time": "2022-12-12T16:08:34.915Z"
   },
   {
    "duration": 10,
    "start_time": "2022-12-12T16:08:34.924Z"
   },
   {
    "duration": 4,
    "start_time": "2022-12-12T16:08:34.951Z"
   },
   {
    "duration": 332,
    "start_time": "2022-12-12T16:08:34.957Z"
   },
   {
    "duration": 8,
    "start_time": "2022-12-12T16:08:35.291Z"
   },
   {
    "duration": 24,
    "start_time": "2022-12-12T16:08:35.300Z"
   },
   {
    "duration": 26,
    "start_time": "2022-12-12T16:08:35.326Z"
   },
   {
    "duration": 4,
    "start_time": "2022-12-12T16:08:35.354Z"
   },
   {
    "duration": 256,
    "start_time": "2022-12-12T16:08:35.360Z"
   },
   {
    "duration": 5,
    "start_time": "2022-12-12T16:08:35.618Z"
   },
   {
    "duration": 1341,
    "start_time": "2022-12-12T16:08:35.625Z"
   },
   {
    "duration": 350,
    "start_time": "2022-12-12T16:08:36.968Z"
   },
   {
    "duration": 5,
    "start_time": "2022-12-12T16:08:37.320Z"
   },
   {
    "duration": 71,
    "start_time": "2022-12-12T16:08:37.327Z"
   },
   {
    "duration": 24,
    "start_time": "2022-12-12T16:08:37.399Z"
   },
   {
    "duration": 1458,
    "start_time": "2022-12-13T17:41:36.936Z"
   },
   {
    "duration": 77,
    "start_time": "2022-12-13T17:41:38.395Z"
   },
   {
    "duration": 12,
    "start_time": "2022-12-13T17:41:38.473Z"
   },
   {
    "duration": 5,
    "start_time": "2022-12-13T17:41:38.487Z"
   },
   {
    "duration": 13,
    "start_time": "2022-12-13T17:41:38.493Z"
   },
   {
    "duration": 22,
    "start_time": "2022-12-13T17:41:38.507Z"
   },
   {
    "duration": 662,
    "start_time": "2022-12-13T17:41:38.530Z"
   },
   {
    "duration": 286,
    "start_time": "2022-12-13T17:41:39.194Z"
   },
   {
    "duration": 6,
    "start_time": "2022-12-13T17:41:39.482Z"
   },
   {
    "duration": 7,
    "start_time": "2022-12-13T17:41:39.490Z"
   },
   {
    "duration": 8,
    "start_time": "2022-12-13T17:41:39.499Z"
   },
   {
    "duration": 7,
    "start_time": "2022-12-13T17:41:39.508Z"
   },
   {
    "duration": 11,
    "start_time": "2022-12-13T17:41:39.516Z"
   },
   {
    "duration": 7,
    "start_time": "2022-12-13T17:41:39.529Z"
   },
   {
    "duration": 277,
    "start_time": "2022-12-13T17:41:39.537Z"
   },
   {
    "duration": 5,
    "start_time": "2022-12-13T17:41:39.815Z"
   },
   {
    "duration": 7,
    "start_time": "2022-12-13T17:41:39.821Z"
   },
   {
    "duration": 18629,
    "start_time": "2022-12-13T17:41:39.830Z"
   },
   {
    "duration": 4,
    "start_time": "2022-12-13T17:41:58.460Z"
   },
   {
    "duration": 20,
    "start_time": "2022-12-13T17:41:58.465Z"
   },
   {
    "duration": 10794,
    "start_time": "2022-12-13T17:41:58.487Z"
   },
   {
    "duration": 3,
    "start_time": "2022-12-13T17:42:09.283Z"
   },
   {
    "duration": 13,
    "start_time": "2022-12-13T17:42:09.288Z"
   },
   {
    "duration": 925,
    "start_time": "2022-12-13T17:42:09.302Z"
   },
   {
    "duration": 1416,
    "start_time": "2022-12-13T17:42:10.229Z"
   },
   {
    "duration": 149,
    "start_time": "2022-12-13T17:42:11.647Z"
   },
   {
    "duration": 53,
    "start_time": "2022-12-13T17:42:11.798Z"
   },
   {
    "duration": 5,
    "start_time": "2022-12-13T17:42:11.855Z"
   },
   {
    "duration": 19,
    "start_time": "2022-12-13T17:42:11.861Z"
   },
   {
    "duration": 3,
    "start_time": "2022-12-13T17:42:11.882Z"
   },
   {
    "duration": 319,
    "start_time": "2022-12-13T17:42:11.887Z"
   },
   {
    "duration": 7,
    "start_time": "2022-12-13T17:42:12.208Z"
   },
   {
    "duration": 16,
    "start_time": "2022-12-13T17:42:12.217Z"
   },
   {
    "duration": 5,
    "start_time": "2022-12-13T17:42:12.235Z"
   },
   {
    "duration": 4,
    "start_time": "2022-12-13T17:42:12.241Z"
   },
   {
    "duration": 289,
    "start_time": "2022-12-13T17:42:12.247Z"
   },
   {
    "duration": 5,
    "start_time": "2022-12-13T17:42:12.537Z"
   },
   {
    "duration": 1138,
    "start_time": "2022-12-13T17:42:12.543Z"
   },
   {
    "duration": 289,
    "start_time": "2022-12-13T17:42:13.683Z"
   },
   {
    "duration": 7,
    "start_time": "2022-12-13T17:42:13.974Z"
   },
   {
    "duration": 72,
    "start_time": "2022-12-13T17:42:13.982Z"
   },
   {
    "duration": 35,
    "start_time": "2022-12-13T17:42:14.056Z"
   },
   {
    "duration": 10,
    "start_time": "2022-12-13T17:43:02.735Z"
   },
   {
    "duration": 1124,
    "start_time": "2022-12-13T17:43:41.401Z"
   },
   {
    "duration": 1149,
    "start_time": "2022-12-13T17:44:43.115Z"
   },
   {
    "duration": 1153,
    "start_time": "2022-12-13T17:44:51.383Z"
   },
   {
    "duration": 1101,
    "start_time": "2022-12-13T17:44:58.174Z"
   },
   {
    "duration": 1106,
    "start_time": "2022-12-13T17:45:07.405Z"
   },
   {
    "duration": 1117,
    "start_time": "2022-12-13T17:45:41.654Z"
   },
   {
    "duration": 1179,
    "start_time": "2022-12-13T17:45:46.005Z"
   },
   {
    "duration": 1158,
    "start_time": "2022-12-13T17:45:49.218Z"
   },
   {
    "duration": 1176,
    "start_time": "2022-12-13T17:45:53.015Z"
   },
   {
    "duration": 1088,
    "start_time": "2022-12-13T17:45:58.736Z"
   },
   {
    "duration": 1140,
    "start_time": "2022-12-13T17:46:06.794Z"
   },
   {
    "duration": 1108,
    "start_time": "2022-12-13T17:46:12.546Z"
   },
   {
    "duration": 1119,
    "start_time": "2022-12-13T17:46:37.242Z"
   },
   {
    "duration": 1133,
    "start_time": "2022-12-13T17:46:41.453Z"
   },
   {
    "duration": 1116,
    "start_time": "2022-12-13T17:46:45.378Z"
   },
   {
    "duration": 1134,
    "start_time": "2022-12-13T17:46:49.116Z"
   },
   {
    "duration": 1162,
    "start_time": "2022-12-13T17:46:53.004Z"
   },
   {
    "duration": 1163,
    "start_time": "2022-12-13T17:47:03.876Z"
   },
   {
    "duration": 1118,
    "start_time": "2022-12-13T17:47:08.467Z"
   },
   {
    "duration": 1125,
    "start_time": "2022-12-13T17:47:13.053Z"
   },
   {
    "duration": 12,
    "start_time": "2022-12-13T17:47:21.457Z"
   },
   {
    "duration": 11,
    "start_time": "2022-12-13T17:47:29.845Z"
   },
   {
    "duration": 16,
    "start_time": "2022-12-13T17:47:33.990Z"
   },
   {
    "duration": 12,
    "start_time": "2022-12-13T17:47:37.140Z"
   },
   {
    "duration": 12,
    "start_time": "2022-12-13T17:47:39.773Z"
   },
   {
    "duration": 12,
    "start_time": "2022-12-13T17:47:57.080Z"
   },
   {
    "duration": 11,
    "start_time": "2022-12-13T17:48:02.905Z"
   },
   {
    "duration": 1244,
    "start_time": "2022-12-13T17:50:13.089Z"
   },
   {
    "duration": 1134,
    "start_time": "2022-12-13T18:09:05.559Z"
   },
   {
    "duration": 1130,
    "start_time": "2022-12-13T18:10:12.080Z"
   },
   {
    "duration": 1208,
    "start_time": "2022-12-13T18:32:48.841Z"
   },
   {
    "duration": 1239,
    "start_time": "2022-12-22T21:28:23.424Z"
   },
   {
    "duration": 66,
    "start_time": "2022-12-22T21:28:24.665Z"
   },
   {
    "duration": 12,
    "start_time": "2022-12-22T21:28:24.732Z"
   },
   {
    "duration": 6,
    "start_time": "2022-12-22T21:28:24.746Z"
   },
   {
    "duration": 14,
    "start_time": "2022-12-22T21:28:24.754Z"
   },
   {
    "duration": 22,
    "start_time": "2022-12-22T21:28:24.769Z"
   },
   {
    "duration": 637,
    "start_time": "2022-12-22T21:28:24.792Z"
   },
   {
    "duration": 268,
    "start_time": "2022-12-22T21:28:25.432Z"
   },
   {
    "duration": 8,
    "start_time": "2022-12-22T21:28:25.702Z"
   },
   {
    "duration": 6,
    "start_time": "2022-12-22T21:28:25.726Z"
   },
   {
    "duration": 7,
    "start_time": "2022-12-22T21:28:25.733Z"
   },
   {
    "duration": 6,
    "start_time": "2022-12-22T21:28:25.741Z"
   },
   {
    "duration": 9,
    "start_time": "2022-12-22T21:28:25.749Z"
   },
   {
    "duration": 6,
    "start_time": "2022-12-22T21:28:25.759Z"
   },
   {
    "duration": 261,
    "start_time": "2022-12-22T21:28:25.767Z"
   },
   {
    "duration": 4,
    "start_time": "2022-12-22T21:28:26.030Z"
   },
   {
    "duration": 7,
    "start_time": "2022-12-22T21:28:26.035Z"
   },
   {
    "duration": 17836,
    "start_time": "2022-12-22T21:28:26.043Z"
   },
   {
    "duration": 4,
    "start_time": "2022-12-22T21:28:43.881Z"
   },
   {
    "duration": 21,
    "start_time": "2022-12-22T21:28:43.886Z"
   },
   {
    "duration": 8727,
    "start_time": "2022-12-22T21:28:43.909Z"
   },
   {
    "duration": 4,
    "start_time": "2022-12-22T21:28:52.637Z"
   },
   {
    "duration": 13,
    "start_time": "2022-12-22T21:28:52.642Z"
   },
   {
    "duration": 880,
    "start_time": "2022-12-22T21:28:52.656Z"
   },
   {
    "duration": 873,
    "start_time": "2022-12-22T21:28:53.538Z"
   },
   {
    "duration": 149,
    "start_time": "2022-12-22T21:28:54.413Z"
   },
   {
    "duration": 52,
    "start_time": "2022-12-22T21:28:54.564Z"
   },
   {
    "duration": 6,
    "start_time": "2022-12-22T21:28:54.625Z"
   },
   {
    "duration": 8,
    "start_time": "2022-12-22T21:28:54.633Z"
   },
   {
    "duration": 4,
    "start_time": "2022-12-22T21:28:54.642Z"
   },
   {
    "duration": 232,
    "start_time": "2022-12-22T21:28:54.648Z"
   },
   {
    "duration": 7,
    "start_time": "2022-12-22T21:28:54.882Z"
   },
   {
    "duration": 35,
    "start_time": "2022-12-22T21:28:54.891Z"
   },
   {
    "duration": 5,
    "start_time": "2022-12-22T21:28:54.928Z"
   },
   {
    "duration": 6,
    "start_time": "2022-12-22T21:28:54.935Z"
   },
   {
    "duration": 238,
    "start_time": "2022-12-22T21:28:54.943Z"
   },
   {
    "duration": 4,
    "start_time": "2022-12-22T21:28:55.183Z"
   },
   {
    "duration": 1110,
    "start_time": "2022-12-22T21:28:55.189Z"
   },
   {
    "duration": 10,
    "start_time": "2022-12-22T21:28:56.301Z"
   },
   {
    "duration": 279,
    "start_time": "2022-12-22T21:28:56.313Z"
   },
   {
    "duration": 55,
    "start_time": "2022-12-22T21:28:56.594Z"
   },
   {
    "duration": 8,
    "start_time": "2022-12-22T21:28:56.651Z"
   },
   {
    "duration": 1150,
    "start_time": "2023-02-01T23:11:54.390Z"
   },
   {
    "duration": 65,
    "start_time": "2023-02-01T23:11:55.542Z"
   },
   {
    "duration": 14,
    "start_time": "2023-02-01T23:11:55.609Z"
   },
   {
    "duration": 37,
    "start_time": "2023-02-01T23:11:55.625Z"
   },
   {
    "duration": 31,
    "start_time": "2023-02-01T23:11:55.664Z"
   },
   {
    "duration": 45,
    "start_time": "2023-02-01T23:11:55.696Z"
   },
   {
    "duration": 657,
    "start_time": "2023-02-01T23:11:55.743Z"
   },
   {
    "duration": 191,
    "start_time": "2023-02-01T23:11:56.402Z"
   },
   {
    "duration": 8,
    "start_time": "2023-02-01T23:11:56.595Z"
   },
   {
    "duration": 13,
    "start_time": "2023-02-01T23:11:56.605Z"
   },
   {
    "duration": 37,
    "start_time": "2023-02-01T23:11:56.620Z"
   },
   {
    "duration": 45,
    "start_time": "2023-02-01T23:11:56.659Z"
   },
   {
    "duration": 23,
    "start_time": "2023-02-01T23:11:56.706Z"
   },
   {
    "duration": 7,
    "start_time": "2023-02-01T23:11:56.731Z"
   },
   {
    "duration": 272,
    "start_time": "2023-02-01T23:11:56.739Z"
   },
   {
    "duration": 6,
    "start_time": "2023-02-01T23:11:57.012Z"
   },
   {
    "duration": 6,
    "start_time": "2023-02-01T23:11:57.020Z"
   },
   {
    "duration": 23430,
    "start_time": "2023-02-01T23:11:57.028Z"
   },
   {
    "duration": 5,
    "start_time": "2023-02-01T23:12:20.460Z"
   },
   {
    "duration": 8,
    "start_time": "2023-02-01T23:12:20.467Z"
   },
   {
    "duration": 18925,
    "start_time": "2023-02-01T23:12:20.477Z"
   },
   {
    "duration": 4,
    "start_time": "2023-02-01T23:12:39.404Z"
   },
   {
    "duration": 25,
    "start_time": "2023-02-01T23:12:39.410Z"
   },
   {
    "duration": 1047,
    "start_time": "2023-02-01T23:12:39.437Z"
   },
   {
    "duration": 1094,
    "start_time": "2023-02-01T23:12:40.486Z"
   },
   {
    "duration": 173,
    "start_time": "2023-02-01T23:12:41.582Z"
   },
   {
    "duration": 45,
    "start_time": "2023-02-01T23:12:41.757Z"
   },
   {
    "duration": 26,
    "start_time": "2023-02-01T23:12:41.806Z"
   },
   {
    "duration": 36,
    "start_time": "2023-02-01T23:12:41.834Z"
   },
   {
    "duration": 27,
    "start_time": "2023-02-01T23:12:41.872Z"
   },
   {
    "duration": 290,
    "start_time": "2023-02-01T23:12:41.901Z"
   },
   {
    "duration": 8,
    "start_time": "2023-02-01T23:12:42.193Z"
   },
   {
    "duration": 26,
    "start_time": "2023-02-01T23:12:42.202Z"
   },
   {
    "duration": 6,
    "start_time": "2023-02-01T23:12:42.240Z"
   },
   {
    "duration": 12,
    "start_time": "2023-02-01T23:12:42.248Z"
   },
   {
    "duration": 247,
    "start_time": "2023-02-01T23:12:42.262Z"
   },
   {
    "duration": 4,
    "start_time": "2023-02-01T23:12:42.511Z"
   },
   {
    "duration": 1332,
    "start_time": "2023-02-01T23:12:42.539Z"
   },
   {
    "duration": 13,
    "start_time": "2023-02-01T23:12:43.873Z"
   },
   {
    "duration": 5,
    "start_time": "2023-02-01T23:12:43.887Z"
   },
   {
    "duration": 75,
    "start_time": "2023-02-01T23:12:43.894Z"
   },
   {
    "duration": 7,
    "start_time": "2023-02-01T23:12:43.971Z"
   },
   {
    "duration": 109,
    "start_time": "2023-02-01T23:13:09.925Z"
   },
   {
    "duration": 9,
    "start_time": "2023-02-01T23:14:07.496Z"
   },
   {
    "duration": 10,
    "start_time": "2023-02-01T23:14:17.308Z"
   },
   {
    "duration": 7,
    "start_time": "2023-02-01T23:20:25.442Z"
   },
   {
    "duration": 6,
    "start_time": "2023-02-01T23:20:31.783Z"
   },
   {
    "duration": 14,
    "start_time": "2023-02-01T23:20:32.721Z"
   },
   {
    "duration": 1590,
    "start_time": "2023-07-21T19:21:05.722Z"
   },
   {
    "duration": 68,
    "start_time": "2023-07-21T19:21:07.314Z"
   },
   {
    "duration": 12,
    "start_time": "2023-07-21T19:21:07.383Z"
   },
   {
    "duration": 4,
    "start_time": "2023-07-21T19:21:07.397Z"
   },
   {
    "duration": 10,
    "start_time": "2023-07-21T19:21:07.403Z"
   },
   {
    "duration": 20,
    "start_time": "2023-07-21T19:21:07.414Z"
   },
   {
    "duration": 576,
    "start_time": "2023-07-21T19:21:07.435Z"
   },
   {
    "duration": 224,
    "start_time": "2023-07-21T19:21:08.013Z"
   },
   {
    "duration": 8,
    "start_time": "2023-07-21T19:21:08.239Z"
   },
   {
    "duration": 6,
    "start_time": "2023-07-21T19:21:08.249Z"
   },
   {
    "duration": 14,
    "start_time": "2023-07-21T19:21:08.256Z"
   },
   {
    "duration": 5,
    "start_time": "2023-07-21T19:21:08.272Z"
   },
   {
    "duration": 5,
    "start_time": "2023-07-21T19:21:08.278Z"
   },
   {
    "duration": 23,
    "start_time": "2023-07-21T19:21:08.284Z"
   },
   {
    "duration": 223,
    "start_time": "2023-07-21T19:21:08.308Z"
   },
   {
    "duration": 4,
    "start_time": "2023-07-21T19:21:08.533Z"
   },
   {
    "duration": 5,
    "start_time": "2023-07-21T19:21:08.538Z"
   },
   {
    "duration": 18373,
    "start_time": "2023-07-21T19:21:08.544Z"
   },
   {
    "duration": 5,
    "start_time": "2023-07-21T19:21:26.919Z"
   },
   {
    "duration": 14,
    "start_time": "2023-07-21T19:21:26.925Z"
   },
   {
    "duration": 15283,
    "start_time": "2023-07-21T19:21:26.941Z"
   },
   {
    "duration": 3,
    "start_time": "2023-07-21T19:21:42.226Z"
   },
   {
    "duration": 17,
    "start_time": "2023-07-21T19:21:42.230Z"
   },
   {
    "duration": 1023,
    "start_time": "2023-07-21T19:21:42.249Z"
   },
   {
    "duration": 511,
    "start_time": "2023-07-21T19:21:43.274Z"
   },
   {
    "duration": 186,
    "start_time": "2023-07-21T19:21:43.787Z"
   },
   {
    "duration": 6,
    "start_time": "2023-07-21T19:21:43.975Z"
   },
   {
    "duration": 6,
    "start_time": "2023-07-21T19:21:43.984Z"
   },
   {
    "duration": 110,
    "start_time": "2023-07-21T19:21:43.992Z"
   },
   {
    "duration": 0,
    "start_time": "2023-07-21T19:21:44.105Z"
   },
   {
    "duration": 0,
    "start_time": "2023-07-21T19:21:44.106Z"
   },
   {
    "duration": 0,
    "start_time": "2023-07-21T19:21:44.108Z"
   },
   {
    "duration": 0,
    "start_time": "2023-07-21T19:21:44.109Z"
   },
   {
    "duration": 0,
    "start_time": "2023-07-21T19:21:44.110Z"
   },
   {
    "duration": 0,
    "start_time": "2023-07-21T19:21:44.111Z"
   },
   {
    "duration": 0,
    "start_time": "2023-07-21T19:21:44.112Z"
   },
   {
    "duration": 0,
    "start_time": "2023-07-21T19:21:44.113Z"
   },
   {
    "duration": 0,
    "start_time": "2023-07-21T19:21:44.114Z"
   },
   {
    "duration": 0,
    "start_time": "2023-07-21T19:21:44.115Z"
   },
   {
    "duration": 0,
    "start_time": "2023-07-21T19:21:44.116Z"
   },
   {
    "duration": 0,
    "start_time": "2023-07-21T19:21:44.117Z"
   },
   {
    "duration": 0,
    "start_time": "2023-07-21T19:21:44.117Z"
   },
   {
    "duration": 5,
    "start_time": "2023-07-21T19:22:30.210Z"
   },
   {
    "duration": 8,
    "start_time": "2023-07-21T19:22:35.241Z"
   },
   {
    "duration": 7,
    "start_time": "2023-07-21T19:23:49.114Z"
   },
   {
    "duration": 5,
    "start_time": "2023-07-21T19:24:00.362Z"
   },
   {
    "duration": 5,
    "start_time": "2023-07-21T19:24:01.122Z"
   },
   {
    "duration": 11,
    "start_time": "2023-07-21T19:24:01.851Z"
   },
   {
    "duration": 9,
    "start_time": "2023-07-21T19:26:21.461Z"
   },
   {
    "duration": 13,
    "start_time": "2023-07-21T19:26:22.041Z"
   },
   {
    "duration": 7,
    "start_time": "2023-07-21T19:27:03.637Z"
   },
   {
    "duration": 4,
    "start_time": "2023-07-21T19:27:06.421Z"
   },
   {
    "duration": 4,
    "start_time": "2023-07-21T19:27:27.045Z"
   },
   {
    "duration": 3,
    "start_time": "2023-07-21T19:27:27.580Z"
   },
   {
    "duration": 281,
    "start_time": "2023-07-21T19:27:27.756Z"
   },
   {
    "duration": 6,
    "start_time": "2023-07-21T19:27:28.415Z"
   },
   {
    "duration": 13,
    "start_time": "2023-07-21T19:27:28.750Z"
   },
   {
    "duration": 11,
    "start_time": "2023-07-21T19:27:29.045Z"
   },
   {
    "duration": 9,
    "start_time": "2023-07-21T19:27:29.220Z"
   },
   {
    "duration": 8,
    "start_time": "2023-07-21T19:27:29.382Z"
   },
   {
    "duration": 4,
    "start_time": "2023-07-21T19:27:29.892Z"
   },
   {
    "duration": 12,
    "start_time": "2023-07-21T19:28:01.718Z"
   },
   {
    "duration": 9,
    "start_time": "2023-07-21T19:28:17.375Z"
   },
   {
    "duration": 5,
    "start_time": "2023-07-21T19:28:40.902Z"
   },
   {
    "duration": 13,
    "start_time": "2023-07-21T19:28:46.621Z"
   },
   {
    "duration": 7,
    "start_time": "2023-07-21T19:29:24.800Z"
   },
   {
    "duration": 5,
    "start_time": "2023-07-21T19:29:25.199Z"
   },
   {
    "duration": 10,
    "start_time": "2023-07-21T19:29:29.785Z"
   },
   {
    "duration": 5,
    "start_time": "2023-07-21T19:30:08.841Z"
   },
   {
    "duration": 5,
    "start_time": "2023-07-21T19:30:09.231Z"
   },
   {
    "duration": 4,
    "start_time": "2023-07-21T19:30:14.905Z"
   },
   {
    "duration": 5,
    "start_time": "2023-07-21T19:30:21.040Z"
   },
   {
    "duration": 3,
    "start_time": "2023-07-21T19:30:21.705Z"
   },
   {
    "duration": 236,
    "start_time": "2023-07-21T19:30:22.208Z"
   },
   {
    "duration": 6,
    "start_time": "2023-07-21T19:30:23.824Z"
   },
   {
    "duration": 13,
    "start_time": "2023-07-21T19:30:24.567Z"
   },
   {
    "duration": 4,
    "start_time": "2023-07-21T19:30:25.608Z"
   },
   {
    "duration": 3,
    "start_time": "2023-07-21T19:30:32.192Z"
   },
   {
    "duration": 4,
    "start_time": "2023-07-21T19:30:37.065Z"
   },
   {
    "duration": 5,
    "start_time": "2023-07-21T19:30:54.177Z"
   },
   {
    "duration": 6,
    "start_time": "2023-07-21T19:30:54.393Z"
   },
   {
    "duration": 5,
    "start_time": "2023-07-21T19:30:54.569Z"
   },
   {
    "duration": 3,
    "start_time": "2023-07-21T19:30:55.200Z"
   },
   {
    "duration": 234,
    "start_time": "2023-07-21T19:30:55.401Z"
   },
   {
    "duration": 6,
    "start_time": "2023-07-21T19:30:56.448Z"
   },
   {
    "duration": 14,
    "start_time": "2023-07-21T19:30:57.080Z"
   },
   {
    "duration": 5,
    "start_time": "2023-07-21T19:30:57.880Z"
   },
   {
    "duration": 3,
    "start_time": "2023-07-21T19:30:59.233Z"
   },
   {
    "duration": 5,
    "start_time": "2023-07-21T19:31:26.754Z"
   },
   {
    "duration": 6,
    "start_time": "2023-07-21T19:31:27.129Z"
   },
   {
    "duration": 4,
    "start_time": "2023-07-21T19:31:27.409Z"
   },
   {
    "duration": 3,
    "start_time": "2023-07-21T19:31:28.560Z"
   },
   {
    "duration": 183,
    "start_time": "2023-07-21T19:31:29.058Z"
   },
   {
    "duration": 7,
    "start_time": "2023-07-21T19:31:30.560Z"
   },
   {
    "duration": 12,
    "start_time": "2023-07-21T19:31:32.046Z"
   },
   {
    "duration": 5,
    "start_time": "2023-07-21T19:31:36.441Z"
   },
   {
    "duration": 3,
    "start_time": "2023-07-21T19:31:39.289Z"
   },
   {
    "duration": 242,
    "start_time": "2023-07-21T19:31:41.466Z"
   },
   {
    "duration": 4,
    "start_time": "2023-07-21T19:31:49.332Z"
   },
   {
    "duration": 1002,
    "start_time": "2023-07-21T19:31:49.977Z"
   },
   {
    "duration": 9,
    "start_time": "2023-07-21T19:31:52.730Z"
   },
   {
    "duration": 6,
    "start_time": "2023-07-21T19:32:01.169Z"
   },
   {
    "duration": 46,
    "start_time": "2023-07-21T19:32:01.722Z"
   },
   {
    "duration": 6,
    "start_time": "2023-07-21T19:32:02.081Z"
   }
  ],
  "kernelspec": {
   "display_name": "Python 3 (ipykernel)",
   "language": "python",
   "name": "python3"
  },
  "language_info": {
   "codemirror_mode": {
    "name": "ipython",
    "version": 3
   },
   "file_extension": ".py",
   "mimetype": "text/x-python",
   "name": "python",
   "nbconvert_exporter": "python",
   "pygments_lexer": "ipython3",
   "version": "3.9.5"
  },
  "toc": {
   "base_numbering": 1,
   "nav_menu": {},
   "number_sections": true,
   "sideBar": true,
   "skip_h1_title": true,
   "title_cell": "Table of Contents",
   "title_sidebar": "Contents",
   "toc_cell": false,
   "toc_position": {},
   "toc_section_display": true,
   "toc_window_display": true
  }
 },
 "nbformat": 4,
 "nbformat_minor": 2
}
